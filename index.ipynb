{
 "cells": [
  {
   "cell_type": "markdown",
   "metadata": {},
   "source": [
    "<img src=\"https://i.imgur.com/6U6q5jQ.png\"/>\n",
    "\n",
    "\n",
    "\n",
    "\n",
    "\n",
    "<a target=\"_blank\" href=\"https://colab.research.google.com/github/SocialAnalytics-StrategicIntelligence/introGraph/blob/main/index.ipynb\">\n",
    "  <img src=\"https://colab.research.google.com/assets/colab-badge.svg\" alt=\"Open In Colab\"/>\n",
    "</a>\n",
    "\n",
    "# Graphs\n",
    "\n",
    "Let me show you a graph (from [wikipedia](https://en.wikipedia.org/wiki/Graph_(discrete_mathematics))):\n",
    "\n",
    "<img src=\"https://upload.wikimedia.org/wikipedia/commons/thumb/5/5b/6n-graf.svg/440px-6n-graf.svg.png\"/>\n",
    "\n",
    "As you can see, it is simply a representation of two sets:\n",
    "\n",
    "1. A set of **vertices** or **nodes**. In the image above you see the nodes _1_, _2_, _3_, _4_, _5_, and _6_.\n",
    "2. A set of **edges** or **links**. In the image above, the links are connecting pairs of nodes. \n",
    "\n",
    "Altogether, a _graph_ reveals some _relationship_ among the _nodes_. The graph structure will allow us to explore and understand that relationship. \n",
    "\n",
    "## Creating Graphs\n",
    "\n",
    "The graph above can be represented computationally in Python using **networkx**:"
   ]
  },
  {
   "cell_type": "code",
   "execution_count": null,
   "metadata": {},
   "outputs": [],
   "source": [
    "import networkx as nx\n",
    "\n",
    "# create graph\n",
    "G = nx.Graph()\n",
    "\n",
    "# create nodes and edges\n",
    "G.add_edges_from([(1, 2), (1, 5),(2,5),(2,3),(3,4),(4,5),(4,6)])"
   ]
  },
  {
   "cell_type": "markdown",
   "metadata": {},
   "source": [
    "## Basic Elements"
   ]
  },
  {
   "cell_type": "markdown",
   "metadata": {},
   "source": [
    "**G** is the graph:"
   ]
  },
  {
   "cell_type": "code",
   "execution_count": null,
   "metadata": {},
   "outputs": [],
   "source": [
    "#you don't see much...just what it is:\n",
    "G"
   ]
  },
  {
   "cell_type": "code",
   "execution_count": null,
   "metadata": {},
   "outputs": [],
   "source": [
    "# You see nodes\n",
    "G.nodes.data()"
   ]
  },
  {
   "cell_type": "code",
   "execution_count": null,
   "metadata": {},
   "outputs": [],
   "source": [
    "# You see node ids\n",
    "G.nodes()"
   ]
  },
  {
   "cell_type": "code",
   "execution_count": null,
   "metadata": {},
   "outputs": [],
   "source": [
    "# similar\n",
    "G.nodes().values()"
   ]
  },
  {
   "cell_type": "code",
   "execution_count": null,
   "metadata": {},
   "outputs": [],
   "source": [
    "# You see edges\n",
    "G.edges()"
   ]
  },
  {
   "cell_type": "code",
   "execution_count": null,
   "metadata": {},
   "outputs": [],
   "source": [
    "# You see edges items\n",
    "G.edges().items()"
   ]
  },
  {
   "cell_type": "markdown",
   "metadata": {},
   "source": [
    "## Drawing"
   ]
  },
  {
   "cell_type": "markdown",
   "metadata": {},
   "source": [
    "As you can see, the graph is created by adding pairs of nodes. Once you complete that stage, you can draw the graph:"
   ]
  },
  {
   "cell_type": "code",
   "execution_count": null,
   "metadata": {},
   "outputs": [],
   "source": [
    "# draw\n",
    "nx.draw(G=G,\n",
    "        with_labels=True,\n",
    "        node_color='yellow',\n",
    "        edgecolors='black')"
   ]
  },
  {
   "cell_type": "code",
   "execution_count": null,
   "metadata": {},
   "outputs": [],
   "source": [
    "# do you have it?\n",
    "# pip show pyvis"
   ]
  },
  {
   "cell_type": "markdown",
   "metadata": {},
   "source": [
    "Notice that the position of the nodes will vary every time you re draw the graph. In fact, drawing a graph can become a challenge by itself when we need to find information via visualization. \n",
    "\n",
    "\n",
    "## Interaction with Pyvis\n",
    "\n",
    "Pyvis uses color, size, label and title attributes."
   ]
  },
  {
   "cell_type": "code",
   "execution_count": null,
   "metadata": {},
   "outputs": [],
   "source": [
    "# dict of labels\n",
    "labels={i:str(i) for i in G.nodes()}\n",
    "labels # string as label"
   ]
  },
  {
   "cell_type": "code",
   "execution_count": null,
   "metadata": {},
   "outputs": [],
   "source": [
    "nx.set_node_attributes(G,labels,'label') # values according to id\n",
    "nx.set_node_attributes(G,'red','color') # for all\n",
    "G.nodes.data()"
   ]
  },
  {
   "cell_type": "code",
   "execution_count": null,
   "metadata": {},
   "outputs": [],
   "source": [
    "from pyvis.network import Network\n",
    "\n",
    "Gvis = Network('500px', '500px',notebook=True,cdn_resources='remote')\n",
    "Gvis.from_nx(G.copy()) # create a copy!\n",
    "Gvis.show('Gvis.html')"
   ]
  },
  {
   "cell_type": "markdown",
   "metadata": {},
   "source": [
    "\n",
    "\n",
    "### Edge directionality\n",
    "\n",
    "The graph we created and drew represented an **undirected** graph, that is, the relationships between a pair of nodes are **symmetric**: the relationships can not represent direction because they are _inherently mutual_ between the nodes. For example, the relationship *to be a neighbor of* is symmetric.\n",
    "\n",
    "The following graph is **directed** (also from wikipedia):\n",
    "\n",
    "<img src=\"https://upload.wikimedia.org/wikipedia/commons/thumb/2/23/Directed_graph_no_background.svg/340px-Directed_graph_no_background.svg.png\"/>\n"
   ]
  },
  {
   "cell_type": "markdown",
   "metadata": {},
   "source": [
    "You can create this directed graph this way:"
   ]
  },
  {
   "cell_type": "code",
   "execution_count": null,
   "metadata": {},
   "outputs": [],
   "source": [
    "# create DIRECTED graph\n",
    "dG = nx.DiGraph()\n",
    "\n",
    "# create nodes and edges\n",
    "dG.add_edges_from([(1, 2), (1, 3),(3,2),(3,4),(4,3)])\n",
    "\n",
    "# drawing\n",
    "nx.draw(dG,with_labels=True,node_color='white',edgecolors='black')"
   ]
  },
  {
   "cell_type": "markdown",
   "metadata": {},
   "source": [
    "Directed links are also called **arcs**. Notice the _DiGraph_ created represents an **asymmetric** relationship: the relationship a node has with another node does not need to be mutual, but could be (see nodes _3_ and _4_). If the arcs represent **cares for someone**, it shows that the feeling is not reciprocal for most cases in this graph. If a relationship is not mutual, and can only be in one direction, it is called **anti symmetric**.\n",
    "\n",
    "## Attributes\n",
    "\n",
    "Nodes can have attributes:"
   ]
  },
  {
   "cell_type": "code",
   "execution_count": null,
   "metadata": {},
   "outputs": [],
   "source": [
    "# adding attributes\n",
    "dG.nodes[1][\"sex\"]='male'\n",
    "dG.nodes[2][\"sex\"]='male'\n",
    "dG.nodes[3][\"sex\"]='female'\n",
    "dG.nodes[4][\"sex\"]='female'"
   ]
  },
  {
   "cell_type": "code",
   "execution_count": null,
   "metadata": {},
   "outputs": [],
   "source": [
    "# seeing attributes\n",
    "nx.get_node_attributes(dG, \"sex\")"
   ]
  },
  {
   "cell_type": "markdown",
   "metadata": {},
   "source": [
    "Set the color of the node based on sex:"
   ]
  },
  {
   "cell_type": "code",
   "execution_count": null,
   "metadata": {},
   "outputs": [],
   "source": [
    "# requesting items to iterate\n",
    "nx.get_node_attributes(dG, \"sex\").items()"
   ]
  },
  {
   "cell_type": "code",
   "execution_count": null,
   "metadata": {},
   "outputs": [],
   "source": [
    "# then\n",
    "{i:'red' if v=='female' else 'blue' for i,v in nx.get_node_attributes(dG, \"sex\").items()}"
   ]
  },
  {
   "cell_type": "code",
   "execution_count": null,
   "metadata": {},
   "outputs": [],
   "source": [
    "# so...\n",
    "colors={i:'red' if v=='female' else 'blue' for i,v in nx.get_node_attributes(dG, \"sex\").items()}\n",
    "\n",
    "# set color\n",
    "nx.set_node_attributes(dG, colors, \"color\")\n",
    "dG.nodes.data()"
   ]
  },
  {
   "cell_type": "code",
   "execution_count": null,
   "metadata": {},
   "outputs": [],
   "source": [
    "# since\n",
    "nx.get_node_attributes(dG, \"color\").values()"
   ]
  },
  {
   "cell_type": "markdown",
   "metadata": {},
   "source": [
    "Attributes can serve for some computational purposes, but also help to visually find structures."
   ]
  },
  {
   "cell_type": "code",
   "execution_count": null,
   "metadata": {},
   "outputs": [],
   "source": [
    "# using node attributes\n",
    "\n",
    "nx.draw(dG,\n",
    "        with_labels=True,\n",
    "        node_color=nx.get_node_attributes(dG, \"color\").values())"
   ]
  },
  {
   "cell_type": "markdown",
   "metadata": {},
   "source": [
    "Of course, edges can have attributes too:"
   ]
  },
  {
   "cell_type": "code",
   "execution_count": null,
   "metadata": {},
   "outputs": [],
   "source": [
    "dG.edges[(1, 2)]['weight']=1\n",
    "dG.edges[(1, 3)]['weight']=3\n",
    "dG.edges[(3, 2)]['weight']=5\n",
    "dG.edges[(3, 4)]['weight']=10\n",
    "dG.edges[(4, 3)]['weight']=0.5"
   ]
  },
  {
   "cell_type": "code",
   "execution_count": null,
   "metadata": {},
   "outputs": [],
   "source": [
    "# see them\n",
    "dG.edges.data()"
   ]
  },
  {
   "cell_type": "markdown",
   "metadata": {},
   "source": [
    "Let me add another attribute conditional on another attribute:"
   ]
  },
  {
   "cell_type": "code",
   "execution_count": null,
   "metadata": {},
   "outputs": [],
   "source": [
    "# if\n",
    "{i:'magenta' if v<=1 else 'grey' for i,v in nx.get_edge_attributes(dG, \"weight\").items()}"
   ]
  },
  {
   "cell_type": "code",
   "execution_count": null,
   "metadata": {},
   "outputs": [],
   "source": [
    "# then\n",
    "colorEdges={i:'magenta' if v<1 else 'grey' for i,v in nx.get_edge_attributes(dG, \"weight\").items()}\n",
    "nx.set_edge_attributes(dG,values=colorEdges,name='color')"
   ]
  },
  {
   "cell_type": "code",
   "execution_count": null,
   "metadata": {},
   "outputs": [],
   "source": [
    "# see edges and attributes\n",
    "dG.edges.data()"
   ]
  },
  {
   "cell_type": "markdown",
   "metadata": {},
   "source": [
    "Let's use edge attributes:"
   ]
  },
  {
   "cell_type": "code",
   "execution_count": null,
   "metadata": {},
   "outputs": [],
   "source": [
    "# use the edge attributes\n",
    "# add labels to edges\n",
    "            \n",
    "pos = nx.spring_layout(dG) # position of the nodes\n",
    "\n",
    "nx.draw(dG,\n",
    "        pos, # using \"position\"\n",
    "        with_labels=True,\n",
    "        node_color=nx.get_node_attributes(dG, \"color\").values())\n",
    "\n",
    "# adding labels\n",
    "final_dG=nx.draw_networkx_edge_labels(dG,pos,edge_labels=nx.get_edge_attributes(dG,'weight'))"
   ]
  },
  {
   "cell_type": "markdown",
   "metadata": {},
   "source": [
    "The color of edges:"
   ]
  },
  {
   "cell_type": "code",
   "execution_count": null,
   "metadata": {},
   "outputs": [],
   "source": [
    "nx.get_edge_attributes(dG,'color').values()"
   ]
  },
  {
   "cell_type": "code",
   "execution_count": null,
   "metadata": {},
   "outputs": [],
   "source": [
    "# use the edge attributes\n",
    "# add labels to edges\n",
    "# add color to edges\n",
    "\n",
    "edge_colors=nx.get_edge_attributes(dG,'color').values()\n",
    "node_colors=nx.get_node_attributes(dG,'color').values()\n",
    "weight_values=nx.get_edge_attributes(dG,'weight')\n",
    "pos = nx.circular_layout(dG) \n",
    "\n",
    "# draw nodes first\n",
    "nx.draw_networkx_nodes(dG,pos,\n",
    "                       node_color=node_colors)\n",
    "# draw edges\n",
    "nx.draw_networkx_edges(dG, pos,width=list(weight_values.values()),\n",
    "                       edge_color= edge_colors)\n",
    "# draw node labels\n",
    "nx.draw_networkx_labels(dG, pos)\n",
    "\n",
    "final_dG=nx.draw_networkx_edge_labels(dG,pos,label_pos=0.25,\n",
    "                               edge_labels=weight_values)"
   ]
  },
  {
   "cell_type": "markdown",
   "metadata": {},
   "source": [
    "The interactive version needs labels, we don't have them yet:"
   ]
  },
  {
   "cell_type": "code",
   "execution_count": null,
   "metadata": {},
   "outputs": [],
   "source": [
    "dG.nodes.data()[1].keys()"
   ]
  },
  {
   "cell_type": "code",
   "execution_count": null,
   "metadata": {},
   "outputs": [],
   "source": [
    "[i[2].keys() for i in dG.edges.data()][0]"
   ]
  },
  {
   "cell_type": "code",
   "execution_count": null,
   "metadata": {},
   "outputs": [],
   "source": [
    "# id as label\n",
    "labels={i:str(i) for i in dG.nodes()}\n",
    "nx.set_node_attributes(dG, labels, \"label\")\n",
    "\n",
    "# weight as label\n",
    "labels={e:str(v) for e,v in nx.get_edge_attributes(dG, \"weight\").items()}\n",
    "nx.set_edge_attributes(dG, labels, \"label\")"
   ]
  },
  {
   "cell_type": "code",
   "execution_count": null,
   "metadata": {},
   "outputs": [],
   "source": [
    "dG.edges.data()"
   ]
  },
  {
   "cell_type": "code",
   "execution_count": null,
   "metadata": {},
   "outputs": [],
   "source": [
    "dGvis = Network('500px', '500px',notebook=True,cdn_resources='remote',directed=True)\n",
    "dGvis.from_nx(dG.copy())\n",
    "dGvis.show('dGvis.html')"
   ]
  },
  {
   "cell_type": "markdown",
   "metadata": {},
   "source": [
    "### Exporting"
   ]
  },
  {
   "cell_type": "markdown",
   "metadata": {},
   "source": [
    "Network does not recommend its use for complex visualization. So, several times you may want to export your graph to be visualize in Gephi or something similar:"
   ]
  },
  {
   "cell_type": "code",
   "execution_count": null,
   "metadata": {},
   "outputs": [],
   "source": [
    "nx.write_gml(dG, \"dG.gml\")"
   ]
  },
  {
   "cell_type": "markdown",
   "metadata": {},
   "source": [
    "# Case: Elites in Peru"
   ]
  },
  {
   "cell_type": "markdown",
   "metadata": {},
   "source": [
    "The network we are going to build is based on the relationships studied in this paper:\n",
    "<img src=\"graphdata/paper.png\" width=\"900\">\n"
   ]
  },
  {
   "cell_type": "markdown",
   "metadata": {},
   "source": [
    "In that paper, Professor Figueroa shows this table, where 1 represents that both nodes (families) appear together at least once in a top company board. Notice the last column is an attribute:"
   ]
  },
  {
   "cell_type": "markdown",
   "metadata": {},
   "source": [
    "<img src=\"graphdata/dataRed.png\" width=\"900\">"
   ]
  },
  {
   "cell_type": "markdown",
   "metadata": {},
   "source": [
    "This is an spreadsheet, representing the information above:"
   ]
  },
  {
   "cell_type": "code",
   "execution_count": null,
   "metadata": {},
   "outputs": [],
   "source": [
    "from IPython.display import IFrame\n",
    "IFrame(\"https://docs.google.com/spreadsheets/d/e/2PACX-1vSd9tPLB5NsbG_S1_yGZSOMpnMKQdvkenQbpG2f4qCOqrvNnge1IOdj7cJ0zbeIIySeusUDqJ5y4KQW/pubhtml?gid=1176178828&single=true\",1200,350)"
   ]
  },
  {
   "cell_type": "markdown",
   "metadata": {},
   "source": [
    "Let's use the data from the spreadsheet to prepare our table:"
   ]
  },
  {
   "cell_type": "code",
   "execution_count": null,
   "metadata": {},
   "outputs": [],
   "source": [
    "# reading in\n",
    "import pandas as pd\n",
    "LinkToData=\"https://docs.google.com/spreadsheets/d/e/2PACX-1vSd9tPLB5NsbG_S1_yGZSOMpnMKQdvkenQbpG2f4qCOqrvNnge1IOdj7cJ0zbeIIySeusUDqJ5y4KQW/pub?gid=1176178828&single=true&output=csv\"\n",
    "FigueData = pd.read_csv(LinkToData,\n",
    "                          index_col=0) #notice!!!!!"
   ]
  },
  {
   "cell_type": "markdown",
   "metadata": {},
   "source": [
    "We got this:"
   ]
  },
  {
   "cell_type": "code",
   "execution_count": null,
   "metadata": {},
   "outputs": [],
   "source": [
    "FigueData.head()"
   ]
  },
  {
   "cell_type": "markdown",
   "metadata": {},
   "source": [
    "As intended, the family appears as the row index (not the first column of data). The family is also the column names:"
   ]
  },
  {
   "cell_type": "code",
   "execution_count": null,
   "metadata": {},
   "outputs": [],
   "source": [
    "FigueData.columns"
   ]
  },
  {
   "cell_type": "markdown",
   "metadata": {},
   "source": [
    "The **adjacency matrix** does not need the _multinacional_ attribute column, then:"
   ]
  },
  {
   "cell_type": "code",
   "execution_count": null,
   "metadata": {},
   "outputs": [],
   "source": [
    "varsToDrop=['Multinacional']\n",
    "adjacency=FigueData.drop(varsToDrop,axis=1) \n",
    "\n",
    "#result\n",
    "adjacency"
   ]
  },
  {
   "cell_type": "markdown",
   "metadata": {},
   "source": [
    "It is easy to turn the adjacency matrix into a graph:"
   ]
  },
  {
   "cell_type": "code",
   "execution_count": null,
   "metadata": {},
   "outputs": [],
   "source": [
    "import networkx as nx\n",
    "EliteNet = nx.from_pandas_adjacency(adjacency)"
   ]
  },
  {
   "cell_type": "markdown",
   "metadata": {},
   "source": [
    "Take a look at **EliteNet**:"
   ]
  },
  {
   "cell_type": "code",
   "execution_count": null,
   "metadata": {},
   "outputs": [],
   "source": [
    "# plot\n",
    "nx.draw_random(EliteNet,\n",
    "                node_color='yellow',\n",
    "                edge_color='lightblue',\n",
    "                with_labels=True,\n",
    "                font_size=8)"
   ]
  },
  {
   "cell_type": "markdown",
   "metadata": {},
   "source": [
    "The adjacency include the self-relationships, we should take those away:"
   ]
  },
  {
   "cell_type": "code",
   "execution_count": null,
   "metadata": {},
   "outputs": [],
   "source": [
    "EliteNet.remove_edges_from(nx.selfloop_edges(EliteNet))"
   ]
  },
  {
   "cell_type": "code",
   "execution_count": null,
   "metadata": {},
   "outputs": [],
   "source": [
    "# re plot\n",
    "nx.draw_random(EliteNet,\n",
    "                node_color='yellow',\n",
    "                edge_color='lightblue',\n",
    "                with_labels=True,\n",
    "                font_size=8)"
   ]
  },
  {
   "cell_type": "markdown",
   "metadata": {},
   "source": [
    "Let's add the attributes to the nodes:"
   ]
  },
  {
   "cell_type": "code",
   "execution_count": null,
   "metadata": {},
   "outputs": [],
   "source": [
    "dict(zip(FigueData.index,FigueData['Multinacional']))"
   ]
  },
  {
   "cell_type": "markdown",
   "metadata": {},
   "source": [
    "Then, I can use that to add an attribute to the node:"
   ]
  },
  {
   "cell_type": "code",
   "execution_count": null,
   "metadata": {},
   "outputs": [],
   "source": [
    "attributeToAdd=dict(zip(FigueData.index,FigueData['Multinacional']))\n",
    "nx.set_node_attributes(EliteNet, attributeToAdd,'multi')"
   ]
  },
  {
   "cell_type": "markdown",
   "metadata": {},
   "source": [
    "Setting color of node:"
   ]
  },
  {
   "cell_type": "code",
   "execution_count": null,
   "metadata": {},
   "outputs": [],
   "source": [
    "colors={e:'red' if v==1 else 'green' for e,v in nx.get_node_attributes(EliteNet,\"multi\").items()}\n",
    "nx.set_node_attributes(EliteNet, colors, \"color\")\n",
    "nx.draw_random(EliteNet,node_color=nx.get_node_attributes(EliteNet, \"color\").values())"
   ]
  },
  {
   "cell_type": "markdown",
   "metadata": {},
   "source": [
    "## Exploration"
   ]
  },
  {
   "cell_type": "markdown",
   "metadata": {},
   "source": [
    "There several basic information we should know, specially when a visual exploration gets more complicated. Let's see:\n"
   ]
  },
  {
   "cell_type": "code",
   "execution_count": null,
   "metadata": {},
   "outputs": [],
   "source": [
    "# type of network\n",
    "type(EliteNet)"
   ]
  },
  {
   "cell_type": "code",
   "execution_count": null,
   "metadata": {},
   "outputs": [],
   "source": [
    "# nodes , #edges\n",
    "len(EliteNet.nodes),len(EliteNet.edges)"
   ]
  },
  {
   "cell_type": "markdown",
   "metadata": {},
   "source": [
    "<div class=\"alert alert-success\" role=\"alert\">Connectivity</div>"
   ]
  },
  {
   "cell_type": "markdown",
   "metadata": {},
   "source": [
    "It is important to know if any node could contact any other node. If that is the case, the network is **connected**. This Figure shows a network not connected, that is, with several **components**.\n",
    "\n",
    "<img src=\"https://upload.wikimedia.org/wikipedia/commons/thumb/8/85/Pseudoforest.svg/800px-Pseudoforest.svg.png\" style=\"width:30%\"/>\n"
   ]
  },
  {
   "cell_type": "code",
   "execution_count": null,
   "metadata": {},
   "outputs": [],
   "source": [
    "# is connected\n",
    "nx.is_connected(EliteNet)"
   ]
  },
  {
   "cell_type": "code",
   "execution_count": null,
   "metadata": {},
   "outputs": [],
   "source": [
    "# how many CC?\n",
    "len(list(nx.connected_components(EliteNet)))"
   ]
  },
  {
   "cell_type": "code",
   "execution_count": null,
   "metadata": {},
   "outputs": [],
   "source": [
    "# how many in each?\n",
    "[len(c) for c in sorted(nx.connected_components(EliteNet), key=len, reverse=True)]"
   ]
  },
  {
   "cell_type": "markdown",
   "metadata": {},
   "source": [
    "As it can be seen, there are isolates (CC of size ONE):"
   ]
  },
  {
   "cell_type": "code",
   "execution_count": null,
   "metadata": {},
   "outputs": [],
   "source": [
    "# any isolates?\n",
    "list(nx.isolates(EliteNet))"
   ]
  },
  {
   "cell_type": "markdown",
   "metadata": {},
   "source": [
    "<div class=\"alert alert-success\" role=\"alert\">Distance\n",
    "</div>"
   ]
  },
  {
   "cell_type": "markdown",
   "metadata": {},
   "source": [
    "The **distance** is the amount of _edges_ one node is apart from another. As there might be more than one path between two nodes, the **geodesic** is the shortest distance between them. Then, the **diameter** is the geodesic between the two nodes farthest apart in the graph.\n",
    "\n",
    "<img src=\"https://github.com/MAGALLANESJoseManuel/MGPIT_Pol748_Redes_2/raw/main/picsForSession/diameter.png\" style=\"width:70%\">"
   ]
  },
  {
   "cell_type": "markdown",
   "metadata": {},
   "source": [
    "Those are concepts applied to connected graphs!"
   ]
  },
  {
   "cell_type": "code",
   "execution_count": null,
   "metadata": {},
   "outputs": [],
   "source": [
    "# nx.diameter(EliteNet)"
   ]
  },
  {
   "cell_type": "code",
   "execution_count": null,
   "metadata": {},
   "outputs": [],
   "source": [
    "#just for the largest component\n",
    "largest_cc_nodes = max(nx.connected_components(EliteNet), key=len)\n",
    "EliteNet_largest=EliteNet.subgraph(largest_cc_nodes)\n",
    "\n",
    "nx.diameter(EliteNet_largest)"
   ]
  },
  {
   "cell_type": "markdown",
   "metadata": {},
   "source": [
    "You can compute all the geodesics:"
   ]
  },
  {
   "cell_type": "code",
   "execution_count": null,
   "metadata": {},
   "outputs": [],
   "source": [
    "# geodesics \n",
    "geodesics = dict(nx.all_pairs_shortest_path_length(EliteNet))\n",
    "\n",
    "# as matrix\n",
    "MatrixGeo = [[geodesics.get(n,{}).get(m)  for m in EliteNet.nodes] for n in EliteNet.nodes]\n",
    "\n",
    "# as DF (pandas)\n",
    "MatrixGeo_DF=pd.DataFrame(MatrixGeo,index=EliteNet.nodes, columns=EliteNet.nodes)\n",
    "\n",
    "# we get\n",
    "MatrixGeo_DF"
   ]
  },
  {
   "cell_type": "code",
   "execution_count": null,
   "metadata": {},
   "outputs": [],
   "source": [
    "# a frequency table of the geodesics\n",
    "import numpy as np\n",
    "\n",
    "pd.DataFrame(np.unique(MatrixGeo_DF.values, return_counts=True),index=['valor','freq']).T.set_index('valor')"
   ]
  },
  {
   "cell_type": "markdown",
   "metadata": {},
   "source": [
    "If we have the geodesics matrix, it is then easy to compute the **reachability matrix**:"
   ]
  },
  {
   "cell_type": "code",
   "execution_count": null,
   "metadata": {},
   "outputs": [],
   "source": [
    "MatrixReach_DF=(MatrixGeo_DF>0).replace({True:1,False:0})\n",
    "MatrixReach_DF"
   ]
  },
  {
   "cell_type": "code",
   "execution_count": 2,
   "metadata": {},
   "outputs": [
    {
     "ename": "NameError",
     "evalue": "name 'EliteNet' is not defined",
     "output_type": "error",
     "traceback": [
      "\u001b[0;31m---------------------------------------------------------------------------\u001b[0m",
      "\u001b[0;31mNameError\u001b[0m                                 Traceback (most recent call last)",
      "Cell \u001b[0;32mIn[2], line 2\u001b[0m\n\u001b[1;32m      1\u001b[0m \u001b[38;5;66;03m# connectedness\u001b[39;00m\n\u001b[0;32m----> 2\u001b[0m nNodes\u001b[38;5;241m=\u001b[39m\u001b[38;5;28mlen\u001b[39m(\u001b[43mEliteNet\u001b[49m\u001b[38;5;241m.\u001b[39mnodes)\n\u001b[1;32m      3\u001b[0m MatrixReach_DF\u001b[38;5;241m.\u001b[39msum()\u001b[38;5;241m.\u001b[39msum()\u001b[38;5;241m/\u001b[39m(nNodes\u001b[38;5;241m*\u001b[39m(nNodes\u001b[38;5;241m-\u001b[39m\u001b[38;5;241m1\u001b[39m))\n",
      "\u001b[0;31mNameError\u001b[0m: name 'EliteNet' is not defined"
     ]
    }
   ],
   "source": [
    "# connectedness\n",
    "nNodes=len(EliteNet.nodes)\n",
    "MatrixReach_DF.sum().sum()/(nNodes*(nNodes-1))"
   ]
  },
  {
   "cell_type": "markdown",
   "metadata": {},
   "source": [
    "Let's work with the largest component:"
   ]
  },
  {
   "cell_type": "code",
   "execution_count": null,
   "metadata": {},
   "outputs": [],
   "source": [
    "# geodesics \n",
    "geodesics_Lcc = dict(nx.all_pairs_shortest_path_length(EliteNet_largest))\n",
    "\n",
    "# as matrix\n",
    "MatrixGeo_Lcc = [[geodesics_Lcc.get(n,{}).get(m)  for m in EliteNet_largest.nodes] for n in EliteNet_largest.nodes]\n",
    "\n",
    "# as DF (pandas)\n",
    "MatrixGeo_DF_Lcc=pd.DataFrame(MatrixGeo_Lcc,index=EliteNet_largest.nodes, columns=EliteNet_largest.nodes)\n",
    "\n",
    "# we get\n",
    "MatrixGeo_DF_Lcc"
   ]
  },
  {
   "cell_type": "code",
   "execution_count": null,
   "metadata": {},
   "outputs": [],
   "source": [
    "# reachability\n",
    "MatrixReach_DF_Lcc=(MatrixGeo_DF_Lcc>0).replace({True:1,False:0})\n",
    "MatrixReach_DF_Lcc"
   ]
  },
  {
   "cell_type": "code",
   "execution_count": null,
   "metadata": {},
   "outputs": [],
   "source": [
    "# connectedness\n",
    "nNodes=len(EliteNet_largest.nodes)\n",
    "MatrixReach_DF_Lcc.sum().sum()/(nNodes*(nNodes-1))"
   ]
  },
  {
   "cell_type": "markdown",
   "metadata": {},
   "source": [
    "<div class=\"alert alert-success\" role=\"alert\">Density </div>\n",
    "\n",
    "\n",
    "The **Density** let's you know how close is the network to be completely connected.\n",
    "\n",
    "<img src=\"https://github.com/MAGALLANESJoseManuel/MGPIT_Pol748_Redes_2/raw/main/picsForSession/density.png\" style=\"width:70%\">"
   ]
  },
  {
   "cell_type": "code",
   "execution_count": null,
   "metadata": {},
   "outputs": [],
   "source": [
    "# for our case:\n",
    "nx.density(EliteNet_largest)"
   ]
  },
  {
   "cell_type": "markdown",
   "metadata": {},
   "source": [
    "Keep in mind the relationship between density and reachability:\n",
    "\n",
    "<img src=\"https://github.com/MAGALLANESJoseManuel/MGPIT_Pol748_Redes_2/raw/main/picsForSession/reachability-and-density.png\" style=\"width:70%\">"
   ]
  },
  {
   "cell_type": "markdown",
   "metadata": {},
   "source": [
    "<div class=\"alert alert-success\" role=\"alert\">Node Centrality </div>\n",
    "\n",
    "\n",
    "<img src=\"https://github.com/MAGALLANESJoseManuel/MGPIT_Pol748_Redes_2/raw/main/picsForSession/centrality.png\" style=\"width:70%\">"
   ]
  },
  {
   "cell_type": "markdown",
   "metadata": {},
   "source": [
    "Let's compute these measures:"
   ]
  },
  {
   "cell_type": "code",
   "execution_count": null,
   "metadata": {},
   "outputs": [],
   "source": [
    "actorMeasures=pd.concat([pd.DataFrame.from_dict(nx.degree_centrality(EliteNet_largest),\n",
    "                                  orient='index',\n",
    "                                  columns=['Degree']),\n",
    "           pd.DataFrame.from_dict(nx.closeness_centrality(EliteNet_largest),\n",
    "                                  orient='index',\n",
    "                                  columns=['Closeness']),\n",
    "           pd.DataFrame.from_dict(nx.betweenness_centrality(EliteNet_largest),\n",
    "                                  orient='index',\n",
    "                                  columns=['Betweenness'])],axis=1)\n",
    "## data\n",
    "actorMeasures"
   ]
  },
  {
   "cell_type": "markdown",
   "metadata": {},
   "source": [
    "Visual representation:"
   ]
  },
  {
   "cell_type": "code",
   "execution_count": null,
   "metadata": {},
   "outputs": [],
   "source": [
    "import matplotlib.pyplot as plt\n",
    "\n",
    "fig, ax = plt.subplots(figsize=(10,10))\n",
    "\n",
    "ax.scatter(actorMeasures.Closeness, actorMeasures.Degree,s=1000*actorMeasures.Betweenness,\n",
    "           c=100*actorMeasures.Betweenness,\n",
    "           cmap=plt.get_cmap('YlOrRd'), alpha=0.6)\n",
    "\n",
    "valsForAnnotate=zip(actorMeasures.index,actorMeasures.Closeness,actorMeasures.Degree)\n",
    "for name,coordX,coordY in valsForAnnotate:\n",
    "    ax.annotate(name, (coordX,coordY),alpha=0.5)\n",
    "    \n",
    "plt.title(\"Centrality  (size and  color for Betweenness)\", y=-0.1)\n",
    "plt.xlabel(\"Closeness\")\n",
    "plt.ylabel(\"Degree\")\n",
    "plt.show()"
   ]
  },
  {
   "cell_type": "markdown",
   "metadata": {},
   "source": [
    "# Case: Top Seattle\n",
    "\n",
    "I found a webpage about top people in Seattle:"
   ]
  },
  {
   "cell_type": "code",
   "execution_count": null,
   "metadata": {},
   "outputs": [],
   "source": [
    "from IPython.display import IFrame\n",
    "IFrame('https://www.builtinseattle.com/2018/08/06/50-seattle-tech-twitter-accounts-to-follow', 800, 350)"
   ]
  },
  {
   "cell_type": "markdown",
   "metadata": {},
   "source": [
    "We have the network as **edgelist**:"
   ]
  },
  {
   "cell_type": "code",
   "execution_count": null,
   "metadata": {},
   "outputs": [],
   "source": [
    "IFrame('https://docs.google.com/spreadsheets/d/e/2PACX-1vQVt6mWtTfzTKgjwtfbWogongjhVLSK1A1hQPsJMuYWnZqebdkkAjTwhRGBSih2ZxK_PT-dEbJ-UNMG/pubhtml', 800, 350)"
   ]
  },
  {
   "cell_type": "markdown",
   "metadata": {},
   "source": [
    "Creating from edgelist:"
   ]
  },
  {
   "cell_type": "code",
   "execution_count": null,
   "metadata": {},
   "outputs": [],
   "source": [
    "\n",
    "# link a GoogleDrive como un Excel\n",
    "linkGoogle=\"https://docs.google.com/spreadsheets/d/e/2PACX-1vQVt6mWtTfzTKgjwtfbWogongjhVLSK1A1hQPsJMuYWnZqebdkkAjTwhRGBSih2ZxK_PT-dEbJ-UNMG/pub?output=xlsx\"\n",
    "\n",
    "# leyendo archivo de red\n",
    "edges=pd.read_excel(linkGoogle,   \n",
    "                        sheet_name='edges') # la tabla tiene este nombre\n",
    "\n",
    "# creando red dirigida\n",
    "Seattle= nx.from_pandas_edgelist(edges, edge_attr=True,create_using=nx.DiGraph)"
   ]
  },
  {
   "cell_type": "code",
   "execution_count": null,
   "metadata": {},
   "outputs": [],
   "source": [
    "len(Seattle.edges())"
   ]
  },
  {
   "cell_type": "code",
   "execution_count": null,
   "metadata": {},
   "outputs": [],
   "source": [
    "type(Seattle)"
   ]
  },
  {
   "cell_type": "markdown",
   "metadata": {},
   "source": [
    "In directed networks, we want to know if nodes are strongly connected:\n",
    "\n",
    "<img src=\"https://github.com/MAGALLANESJoseManuel/MGPIT_Pol748_Redes_2/raw/main/picsForSession/strongly_connected.png\" style=\"width:70%\">"
   ]
  },
  {
   "cell_type": "code",
   "execution_count": null,
   "metadata": {},
   "outputs": [],
   "source": [
    "# is connected\n",
    "nx.is_strongly_connected(Seattle)"
   ]
  },
  {
   "cell_type": "markdown",
   "metadata": {},
   "source": [
    "Since you have a directed network, the reachability analysis may include **reciprocity**:"
   ]
  },
  {
   "cell_type": "code",
   "execution_count": null,
   "metadata": {},
   "outputs": [],
   "source": [
    "nx.overall_reciprocity(Seattle)"
   ]
  },
  {
   "cell_type": "markdown",
   "metadata": {},
   "source": [
    "You can compute it for every node:"
   ]
  },
  {
   "cell_type": "code",
   "execution_count": null,
   "metadata": {},
   "outputs": [],
   "source": [
    "pd.DataFrame.from_dict(nx.reciprocity(Seattle,nodes=Seattle.nodes),orient='index').sort_values(0,ascending=False)"
   ]
  },
  {
   "cell_type": "markdown",
   "metadata": {},
   "source": [
    "Also, there are differences in centrality (in / out):"
   ]
  },
  {
   "cell_type": "code",
   "execution_count": null,
   "metadata": {},
   "outputs": [],
   "source": [
    "SeattleMeasures=pd.concat([pd.DataFrame.from_dict(nx.out_degree_centrality(Seattle),\n",
    "                                  orient='index',\n",
    "                                  columns=['OutDegree']),\n",
    "           pd.DataFrame.from_dict(nx.in_degree_centrality(Seattle),\n",
    "                                  orient='index',\n",
    "                                  columns=['InDegree']),\n",
    "           pd.DataFrame.from_dict(nx.closeness_centrality(Seattle.reverse()),\n",
    "                                  orient='index',\n",
    "                                  columns=['OutCloseness']),\n",
    "           pd.DataFrame.from_dict(nx.closeness_centrality(Seattle),\n",
    "                                  orient='index',\n",
    "                                  columns=['InCloseness']),\n",
    "           pd.DataFrame.from_dict(nx.betweenness_centrality(Seattle),\n",
    "                                  orient='index',\n",
    "                                  columns=['Betweenness'])],axis=1)\n",
    "## data\n",
    "SeattleMeasures"
   ]
  },
  {
   "cell_type": "markdown",
   "metadata": {},
   "source": [
    "Also, **LINK-BASED** analysis is possible in directed networks,\n",
    "\n",
    "* HITS (from \"https://www.linkedin.com/pulse/hits-hubs-authorities-manish-patel/\")\n",
    "\n",
    "\n",
    "<img src=\"https://media.licdn.com/dms/image/C4E12AQHfIG5Dg1gODQ/article-cover_image-shrink_600_2000/0/1600668840613?e=2147483647&v=beta&t=q1GJ5oFlUaEastM3LotXAhrh972wjiMdUv0LtkVpkss\" style=\"width:50%\">\n",
    "\n",
    "* PAGERANK (from \"https://medium.com/analytics-vidhya/how-google-search-works-page-rank-algorithm-using-python-9643d9c9a981\")\n",
    "\n",
    "  \n",
    "\n",
    "  <img src=\"https://miro.medium.com/v2/resize:fit:800/0*S8x3TYd5ApMb7CuO.jpg\" style=\"width:50%\">"
   ]
  },
  {
   "cell_type": "code",
   "execution_count": null,
   "metadata": {},
   "outputs": [],
   "source": [
    "h_dict,a_dict=nx.hits(Seattle)\n",
    "pagerank_dict=nx.pagerank(Seattle)\n",
    "\n",
    "HITS_hubs=pd.Series(h_dict,name='HITS_hubs')\n",
    "HITS_authorities=pd.Series(a_dict,name=\"HITS_authorities\")\n",
    "Pagerank=pd.Series(pagerank_dict,name='Pagerank')\n",
    "\n",
    "pd.concat([HITS_hubs,HITS_authorities,Pagerank],axis=1)"
   ]
  },
  {
   "cell_type": "markdown",
   "metadata": {},
   "source": [
    "# Case: Trade among countries"
   ]
  },
  {
   "cell_type": "markdown",
   "metadata": {},
   "source": [
    "Let me use some information about trade among countries from the [World Bank](https://wits.worldbank.org/gptad/library.aspx):"
   ]
  },
  {
   "cell_type": "code",
   "execution_count": null,
   "metadata": {},
   "outputs": [],
   "source": [
    "url = \"https://wits.worldbank.org/gptad/library.aspx\"\n",
    "from IPython.display import IFrame\n",
    "IFrame(url, 900,500)"
   ]
  },
  {
   "cell_type": "markdown",
   "metadata": {},
   "source": [
    "I have previously pre processed the data. Let me open the file with _inforce_ agreements:"
   ]
  },
  {
   "cell_type": "code",
   "execution_count": 1,
   "metadata": {},
   "outputs": [
    {
     "name": "stdout",
     "output_type": "stream",
     "text": [
      "<class 'pandas.core.frame.DataFrame'>\n",
      "RangeIndex: 252 entries, 0 to 251\n",
      "Data columns (total 5 columns):\n",
      " #   Column           Non-Null Count  Dtype \n",
      "---  ------           --------------  ----- \n",
      " 0   Common Name      252 non-null    object\n",
      " 1   Membership       252 non-null    object\n",
      " 2   Type             248 non-null    object\n",
      " 3   Membership_list  252 non-null    object\n",
      " 4   year_inforce_ok  252 non-null    int64 \n",
      "dtypes: int64(1), object(4)\n",
      "memory usage: 10.0+ KB\n"
     ]
    }
   ],
   "source": [
    "import pandas as pd\n",
    "tradeDF=pd.read_pickle(\"https://github.com/SocialAnalytics-StrategicIntelligence/introGraph/raw/refs/heads/main/graphdata/tradeData_forGraph.pkl\")\n",
    "tradeDF.info()"
   ]
  },
  {
   "cell_type": "markdown",
   "metadata": {},
   "source": [
    "The _Common Name_ is the name of the agreement. All countris involved are in a list (_Memembership_list_):"
   ]
  },
  {
   "cell_type": "code",
   "execution_count": null,
   "metadata": {},
   "outputs": [],
   "source": [
    "tradeDF.head()"
   ]
  },
  {
   "cell_type": "markdown",
   "metadata": {},
   "source": [
    "Let me check the type of agreements we have in the data."
   ]
  },
  {
   "cell_type": "code",
   "execution_count": null,
   "metadata": {},
   "outputs": [],
   "source": [
    "tradeDF.Type.value_counts()"
   ]
  },
  {
   "cell_type": "markdown",
   "metadata": {},
   "source": [
    "Let me choose the 'Framework Agreement':"
   ]
  },
  {
   "cell_type": "code",
   "execution_count": null,
   "metadata": {},
   "outputs": [],
   "source": [
    "tradeDF.loc[tradeDF.Type=='Framework Agreement',:]"
   ]
  },
  {
   "cell_type": "markdown",
   "metadata": {},
   "source": [
    "I can make a network of countries. Let me create \"edges\" using **Membership_list**. First, let me show you how **combinations** work:"
   ]
  },
  {
   "cell_type": "code",
   "execution_count": null,
   "metadata": {},
   "outputs": [],
   "source": [
    "from itertools import combinations\n",
    "\n",
    "[x for x in combinations(['chile','ecuador','peru'],2)]"
   ]
  },
  {
   "cell_type": "code",
   "execution_count": null,
   "metadata": {},
   "outputs": [],
   "source": [
    "[x for x in combinations(['peru','ecuador','chile'],2)]"
   ]
  },
  {
   "cell_type": "code",
   "execution_count": null,
   "metadata": {},
   "outputs": [],
   "source": [
    "[x for x in combinations(sorted(['peru','ecuador','chile']),2)]"
   ]
  },
  {
   "cell_type": "code",
   "execution_count": null,
   "metadata": {},
   "outputs": [],
   "source": [
    "# all the pairs\n",
    "list(combinations(sorted(tradeDF.loc[162,'Membership_list']), 2))"
   ]
  },
  {
   "cell_type": "markdown",
   "metadata": {},
   "source": [
    "All the pairs above represent nodes and edges, then:"
   ]
  },
  {
   "cell_type": "code",
   "execution_count": null,
   "metadata": {},
   "outputs": [],
   "source": [
    "import networkx as nx\n",
    "\n",
    "Framework_Agreement_Net = nx.Graph(combinations(sorted(tradeDF.loc[162,'Membership_list']), 2))"
   ]
  },
  {
   "cell_type": "code",
   "execution_count": null,
   "metadata": {},
   "outputs": [],
   "source": [
    "# see edges\n",
    "Framework_Agreement_Net.edges()"
   ]
  },
  {
   "cell_type": "code",
   "execution_count": null,
   "metadata": {},
   "outputs": [],
   "source": [
    "#draw the graph\n",
    "nx.draw(Framework_Agreement_Net, with_labels=True)"
   ]
  },
  {
   "cell_type": "markdown",
   "metadata": {},
   "source": [
    "Let me explore the other types:"
   ]
  },
  {
   "cell_type": "code",
   "execution_count": null,
   "metadata": {},
   "outputs": [],
   "source": [
    "tradeDF.loc[tradeDF.Type=='Customs Union Accession Agreement',:]"
   ]
  },
  {
   "cell_type": "code",
   "execution_count": null,
   "metadata": {},
   "outputs": [],
   "source": [
    "Accession_Agreement_Net_1973 = nx.Graph(combinations(sorted(tradeDF.loc[72,'Membership_list']), 2))\n",
    "nx.draw(Accession_Agreement_Net_1973, with_labels=True)"
   ]
  },
  {
   "cell_type": "code",
   "execution_count": null,
   "metadata": {},
   "outputs": [],
   "source": [
    "Accession_Agreement_Net_2007 = nx.Graph(combinations(sorted(tradeDF.loc[71,'Membership_list']), 2))\n",
    "nx.draw(Accession_Agreement_Net_2007, with_labels=True)"
   ]
  },
  {
   "cell_type": "markdown",
   "metadata": {},
   "source": [
    "Let´s see this other type, but only after the year 2000:"
   ]
  },
  {
   "cell_type": "code",
   "execution_count": null,
   "metadata": {},
   "outputs": [],
   "source": [
    "tradeDF[(tradeDF.Type=='Regional/Plurilateral Free Trade Agreement') & (tradeDF.year_inforce_ok>2000)]"
   ]
  },
  {
   "cell_type": "markdown",
   "metadata": {},
   "source": [
    "Let´s keep the countries per row:"
   ]
  },
  {
   "cell_type": "code",
   "execution_count": null,
   "metadata": {},
   "outputs": [],
   "source": [
    "RFTA_countryLists=tradeDF[(tradeDF.Type=='Regional/Plurilateral Free Trade Agreement') & (tradeDF.year_inforce_ok>2000)]['Membership_list']\n",
    "RFTA_countryLists"
   ]
  },
  {
   "cell_type": "code",
   "execution_count": null,
   "metadata": {},
   "outputs": [],
   "source": [
    "listOfTuples=[]\n",
    "for listOfMembers in RFTA_countryLists:\n",
    "    for country1, country2 in combinations(sorted(listOfMembers),2):\n",
    "        listOfTuples.append((country1, country2))\n",
    "\n",
    "# see \n",
    "listOfTuples"
   ]
  },
  {
   "cell_type": "markdown",
   "metadata": {},
   "source": [
    "Let's count each time a tuple happens:"
   ]
  },
  {
   "cell_type": "code",
   "execution_count": null,
   "metadata": {},
   "outputs": [],
   "source": [
    "pd.Series(listOfTuples).value_counts().reset_index()"
   ]
  },
  {
   "cell_type": "markdown",
   "metadata": {},
   "source": [
    "We can prepare a dataframe:"
   ]
  },
  {
   "cell_type": "code",
   "execution_count": null,
   "metadata": {},
   "outputs": [],
   "source": [
    "newNames={'index':'countryTuple',\t'count':'weight'}\n",
    "tuplesAndWeights=pd.DataFrame(pd.Series(listOfTuples).value_counts()).reset_index(drop=False).rename(columns=newNames)\n",
    "tuplesAndWeights"
   ]
  },
  {
   "cell_type": "markdown",
   "metadata": {},
   "source": [
    "Let's create separate columns:"
   ]
  },
  {
   "cell_type": "code",
   "execution_count": null,
   "metadata": {},
   "outputs": [],
   "source": [
    "tuplesAndWeights[['country1','country2']]=tuplesAndWeights['countryTuple'].to_list()\n",
    "tuplesAndWeights"
   ]
  },
  {
   "cell_type": "code",
   "execution_count": null,
   "metadata": {},
   "outputs": [],
   "source": [
    "RFTA_net=nx.from_pandas_edgelist(tuplesAndWeights, source='country1',target='country2',edge_attr=[\"weight\"])"
   ]
  },
  {
   "cell_type": "code",
   "execution_count": null,
   "metadata": {},
   "outputs": [],
   "source": [
    "RFTA_net.edges.data()"
   ]
  },
  {
   "cell_type": "code",
   "execution_count": null,
   "metadata": {},
   "outputs": [],
   "source": [
    "nx.draw(RFTA_net)"
   ]
  },
  {
   "cell_type": "code",
   "execution_count": null,
   "metadata": {},
   "outputs": [],
   "source": [
    "len(RFTA_net.nodes()),len(RFTA_net.edges())"
   ]
  },
  {
   "cell_type": "markdown",
   "metadata": {},
   "source": [
    "We are not supposed to have isolates:"
   ]
  },
  {
   "cell_type": "code",
   "execution_count": null,
   "metadata": {},
   "outputs": [],
   "source": [
    "list(nx.isolates(RFTA_net))"
   ]
  },
  {
   "cell_type": "markdown",
   "metadata": {},
   "source": [
    "There should not be self loops:"
   ]
  },
  {
   "cell_type": "code",
   "execution_count": null,
   "metadata": {},
   "outputs": [],
   "source": [
    "nx.number_of_selfloops(RFTA_net)\n",
    "# RFTA_net.remove_edges_from(nx.selfloop_edges(RFTA_net))"
   ]
  }
 ],
 "metadata": {
  "hide_input": false,
  "kernelspec": {
   "display_name": "Python 3 (ipykernel)",
   "language": "python",
   "name": "python3"
  },
  "language_info": {
   "codemirror_mode": {
    "name": "ipython",
    "version": 3
   },
   "file_extension": ".py",
   "mimetype": "text/x-python",
   "name": "python",
   "nbconvert_exporter": "python",
   "pygments_lexer": "ipython3",
   "version": "3.11.9"
  }
 },
 "nbformat": 4,
 "nbformat_minor": 4
}
