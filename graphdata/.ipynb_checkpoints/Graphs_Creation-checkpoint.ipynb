{
 "cells": [
  {
   "cell_type": "markdown",
   "metadata": {},
   "source": [
    "<img src=\"https://i.imgur.com/6U6q5jQ.png\"/>\n",
    "\n",
    "\n",
    "\n",
    "\n",
    "# Graphs\n",
    "\n",
    "Let me show you a graph (from [wikipedia](https://en.wikipedia.org/wiki/Graph_(discrete_mathematics))):\n",
    "\n",
    "<img src=\"https://upload.wikimedia.org/wikipedia/commons/thumb/5/5b/6n-graf.svg/440px-6n-graf.svg.png\"/>\n",
    "\n",
    "As you can see, it is simply a representation of two sets:\n",
    "\n",
    "1. A set of **vertices** or **nodes**. In the image above you see the nodes _1_, _2_, _3_, _4_, _5_, and _6_.\n",
    "2. A set of **edges** or **links**. In the image above, the links are connecting pairs of nodes. \n",
    "\n",
    "Altogether, a _graph_ reveals some _relationship_ among the _nodes_. The graph structure will allow us to explore and understand that relationship. \n",
    "\n",
    "## Creating Graphs\n",
    "\n",
    "The graph above can be represented computationally in Python using **networkx**:"
   ]
  },
  {
   "cell_type": "code",
   "execution_count": null,
   "metadata": {},
   "outputs": [],
   "source": [
    "import networkx as nx\n",
    "\n",
    "# create graph\n",
    "G = nx.Graph()\n",
    "\n",
    "# create nodes and edges\n",
    "G.add_edges_from([(1, 2), (1, 5),(2,5),(2,3),(3,4),(4,5),(4,6)])"
   ]
  },
  {
   "cell_type": "markdown",
   "metadata": {},
   "source": [
    "## Basic Elements"
   ]
  },
  {
   "cell_type": "markdown",
   "metadata": {},
   "source": [
    "**G** is the graph:"
   ]
  },
  {
   "cell_type": "code",
   "execution_count": null,
   "metadata": {},
   "outputs": [],
   "source": [
    "#you don't see much...just what it is:\n",
    "G"
   ]
  },
  {
   "cell_type": "code",
   "execution_count": null,
   "metadata": {},
   "outputs": [],
   "source": [
    "# You see nodes\n",
    "G.nodes()"
   ]
  },
  {
   "cell_type": "code",
   "execution_count": null,
   "metadata": {},
   "outputs": [],
   "source": [
    "# You see edges\n",
    "G.edges()"
   ]
  },
  {
   "cell_type": "markdown",
   "metadata": {},
   "source": [
    "## Drawing"
   ]
  },
  {
   "cell_type": "markdown",
   "metadata": {},
   "source": [
    "As you can see, the graph is created by adding pairs of nodes. Once you complete that stage, you can draw the graph:"
   ]
  },
  {
   "cell_type": "code",
   "execution_count": null,
   "metadata": {},
   "outputs": [],
   "source": [
    "# draw\n",
    "nx.draw(G,\n",
    "        with_labels=True,\n",
    "        node_color='white',\n",
    "        edgecolors='black')"
   ]
  },
  {
   "cell_type": "markdown",
   "metadata": {},
   "source": [
    "Notice that the position of the nodes will vary every time you re draw the graph. In fact, drawing a graph can become a challenge by itself when we need to find information via visualization. \n",
    "\n",
    "### Edge directionality\n",
    "\n",
    "The graph we created and drew represented an **undirected** graph, that is, the relationships between a pair of nodes are **symmetric**: the relationships can not represent direction because they are _inherently mutual_ between the nodes. For example, the relationship *to be a neighbor of* is symmetric.\n",
    "\n",
    "The following graph is **directed**:\n",
    "\n",
    "<img src=\"https://upload.wikimedia.org/wikipedia/commons/thumb/2/23/Directed_graph_no_background.svg/340px-Directed_graph_no_background.svg.png\"/>\n"
   ]
  },
  {
   "cell_type": "markdown",
   "metadata": {},
   "source": [
    "You can create this directed graph this way:"
   ]
  },
  {
   "cell_type": "code",
   "execution_count": null,
   "metadata": {},
   "outputs": [],
   "source": [
    "# create graph\n",
    "dG = nx.DiGraph()\n",
    "\n",
    "# create nodes and edges\n",
    "dG.add_edges_from([(1, 2), (1, 3),(3,2),(3,4),(4,3)])\n",
    "\n",
    "# drawing\n",
    "nx.draw(dG,with_labels=True,node_color='white',edgecolors='black')"
   ]
  },
  {
   "cell_type": "markdown",
   "metadata": {},
   "source": [
    "Directed links are also called **arcs**. Notice the _DiGraph_ created represents an **asymmetric** relationship: the relationship a node has with another node does not need to be mutual, but could be (see nodes _3_ and _4_). If the arcs represent **cares for someone**, it shows that the feeling is not reciprocal for most cases in this graph. If a relationship is not mutual, and can only be in one direction, it is called **anti symmetric**.\n",
    "\n",
    "## Attributes\n",
    "\n",
    "Nodes can have attributes:"
   ]
  },
  {
   "cell_type": "code",
   "execution_count": null,
   "metadata": {},
   "outputs": [],
   "source": [
    "# adding attributes\n",
    "dG.nodes[1][\"sex\"]='male'\n",
    "dG.nodes[2][\"sex\"]='male'\n",
    "dG.nodes[3][\"sex\"]='female'\n",
    "dG.nodes[4][\"sex\"]='female'"
   ]
  },
  {
   "cell_type": "code",
   "execution_count": null,
   "metadata": {},
   "outputs": [],
   "source": [
    "# seeing attributes\n",
    "dG.nodes.data()"
   ]
  },
  {
   "cell_type": "markdown",
   "metadata": {},
   "source": [
    "Attributes can serve for some computational purposes, but also help to visually find structures."
   ]
  },
  {
   "cell_type": "code",
   "execution_count": null,
   "metadata": {},
   "outputs": [],
   "source": [
    "# using node attributes\n",
    "\n",
    "colors_for_nodes=['green' if n[1]['sex']=='male' else 'red' for n in dG.nodes.data()]\n",
    "nx.draw(dG,\n",
    "        with_labels=True,\n",
    "        node_color=colors_for_nodes)"
   ]
  },
  {
   "cell_type": "markdown",
   "metadata": {},
   "source": [
    "Of course, edges can have attributes too:"
   ]
  },
  {
   "cell_type": "code",
   "execution_count": null,
   "metadata": {},
   "outputs": [],
   "source": [
    "dG.edges[(1, 2)]['weight']=1\n",
    "dG.edges[(1, 3)]['weight']=3\n",
    "dG.edges[(3, 2)]['weight']=5\n",
    "dG.edges[(3, 4)]['weight']=10\n",
    "dG.edges[(4, 3)]['weight']=0.5"
   ]
  },
  {
   "cell_type": "code",
   "execution_count": null,
   "metadata": {},
   "outputs": [],
   "source": [
    "# see them\n",
    "dG.edges.data()"
   ]
  },
  {
   "cell_type": "markdown",
   "metadata": {},
   "source": [
    "Let me add another attribute conditional on another attribute:"
   ]
  },
  {
   "cell_type": "code",
   "execution_count": null,
   "metadata": {},
   "outputs": [],
   "source": [
    "# all edges will have the attribute color, and everyy edge will have 'black'\n",
    "nx.set_edge_attributes(dG,values='grey',name='color')\n",
    "\n",
    "# updating 'color' attribute:\n",
    "for x in nx.get_edge_attributes(dG,'weight').items(): \n",
    "    if  dG.edges[x[0]]['weight']<1:\n",
    "        dG.edges[x[0]].update({'color': 'magenta'}) "
   ]
  },
  {
   "cell_type": "code",
   "execution_count": null,
   "metadata": {},
   "outputs": [],
   "source": [
    "# see them again\n",
    "dG.edges.data()"
   ]
  },
  {
   "cell_type": "markdown",
   "metadata": {},
   "source": [
    "Let's use edge attributes:"
   ]
  },
  {
   "cell_type": "code",
   "execution_count": null,
   "metadata": {},
   "outputs": [],
   "source": [
    "#notice\n",
    "#Getting some values\n",
    "weight_values = nx.get_edge_attributes(dG,'weight') # recovering 'weights'\n",
    "weight_values"
   ]
  },
  {
   "cell_type": "code",
   "execution_count": null,
   "metadata": {},
   "outputs": [],
   "source": [
    "# use the edge attributes\n",
    "# add labels to edges\n",
    "            \n",
    "pos = nx.spring_layout(G) # position of the nodes\n",
    "nx.draw(dG,\n",
    "        pos, # using \"position\"\n",
    "        with_labels=True,\n",
    "        node_color=colors_for_nodes)\n",
    "# adding labels\n",
    "final_dG=nx.draw_networkx_edge_labels(dG,pos,edge_labels=weight_values)"
   ]
  },
  {
   "cell_type": "markdown",
   "metadata": {},
   "source": [
    "The color of edges:"
   ]
  },
  {
   "cell_type": "code",
   "execution_count": null,
   "metadata": {},
   "outputs": [],
   "source": [
    "nx.get_edge_attributes(dG,'color') # recovering 'color'"
   ]
  },
  {
   "cell_type": "code",
   "execution_count": null,
   "metadata": {},
   "outputs": [],
   "source": [
    "nx.get_edge_attributes(dG,'color').values()"
   ]
  },
  {
   "cell_type": "code",
   "execution_count": null,
   "metadata": {},
   "outputs": [],
   "source": [
    "# use the edge attributes\n",
    "# add labels to edges\n",
    "# add color to edges\n",
    "\n",
    "edge_colors=nx.get_edge_attributes(dG,'color').values()\n",
    "\n",
    "pos = nx.spring_layout(G) \n",
    "\n",
    "# draw nodes first\n",
    "nx.draw_networkx_nodes(dG,pos,\n",
    "                       node_color=colors_for_nodes)\n",
    "# draw edges\n",
    "nx.draw_networkx_edges(dG, pos,\n",
    "                       edge_color= edge_colors)\n",
    "# draw node labels\n",
    "nx.draw_networkx_labels(dG, pos)\n",
    "\n",
    "final_dG=nx.draw_networkx_edge_labels(dG,pos,\n",
    "                               edge_labels=weight_values)"
   ]
  },
  {
   "cell_type": "code",
   "execution_count": null,
   "metadata": {},
   "outputs": [],
   "source": [
    "# use the edge attributes\n",
    "# add labels to edges\n",
    "# add color to edges\n",
    "# change style of edge\n",
    "            \n",
    "pos = nx.spring_layout(G) # position of the nodes\n",
    "\n",
    "# draw nodes first\n",
    "nx.draw_networkx_nodes(dG,pos,\n",
    "                       node_color=colors_for_nodes)\n",
    "# draw edges\n",
    "nx.draw_networkx_edges(dG, pos,\n",
    "                       edge_color= edge_colors,\n",
    "                       connectionstyle=\"arc3,rad=0.15\" )\n",
    "# draw node labels\n",
    "nx.draw_networkx_labels(dG, pos)\n",
    "\n",
    "final_dG=nx.draw_networkx_edge_labels(dG,pos,label_pos=0.40,\n",
    "                                      edge_labels=weight_values)\n"
   ]
  },
  {
   "cell_type": "markdown",
   "metadata": {},
   "source": [
    "Remember:"
   ]
  },
  {
   "cell_type": "code",
   "execution_count": null,
   "metadata": {},
   "outputs": [],
   "source": [
    "weight_values"
   ]
  },
  {
   "cell_type": "markdown",
   "metadata": {},
   "source": [
    "Notice the use of enumerate:"
   ]
  },
  {
   "cell_type": "code",
   "execution_count": null,
   "metadata": {},
   "outputs": [],
   "source": [
    "[(i,e) for i,e in enumerate(dG.edges.data())]"
   ]
  },
  {
   "cell_type": "code",
   "execution_count": null,
   "metadata": {},
   "outputs": [],
   "source": [
    "{(e[0],e[1]):e[2]['weight'] for i,e in enumerate(dG.edges.data())}"
   ]
  },
  {
   "cell_type": "code",
   "execution_count": null,
   "metadata": {},
   "outputs": [],
   "source": [
    "# use the edge attributes\n",
    "# add labels to edges\n",
    "# add color to edges\n",
    "# change style of edge\n",
    "# coloring edge labels (one at a time)\n",
    "            \n",
    "pos = nx.spring_layout(G) # position of the nodes\n",
    "\n",
    "# draw nodes first\n",
    "nx.draw_networkx_nodes(dG,pos,\n",
    "                       node_color=colors_for_nodes)\n",
    "# draw edges\n",
    "nx.draw_networkx_edges(dG, pos,\n",
    "                       edge_color= edge_colors,\n",
    "                       connectionstyle=\"arc3,rad=0.15\" )\n",
    "# draw node labels\n",
    "nx.draw_networkx_labels(dG, pos)\n",
    "\n",
    "[nx.draw_networkx_edge_labels(dG,pos,edge_labels={(e[0],e[1]):e[2]['weight']},\n",
    "                              font_color=e[2]['color'],label_pos=0.40) for i,e in enumerate(dG.edges.data())]"
   ]
  },
  {
   "cell_type": "code",
   "execution_count": null,
   "metadata": {},
   "outputs": [],
   "source": [
    "# use the edge attributes\n",
    "# NO labels to edges, weight for thickness\n",
    "# add color to edges\n",
    "# change style of edge\n",
    "\n",
    "\n",
    "pos = nx.spring_layout(G) # position of the nodes\n",
    "\n",
    "# draw nodes first\n",
    "nx.draw_networkx_nodes(dG,pos,\n",
    "                       node_color=colors_for_nodes)\n",
    "# draw edges\n",
    "nx.draw_networkx_edges(dG, pos,\n",
    "                       width=list(weight_values.values()),\n",
    "                       edge_color= edge_colors,\n",
    "                       connectionstyle=\"arc3,rad=0.4\" )\n",
    "# draw node labels\n",
    "nx.draw_networkx_labels(dG, pos)\n",
    "\n",
    "[nx.draw_networkx_edge_labels(dG,pos,edge_labels={(e[0],e[1]):e[2]['weight']},\n",
    "                              font_color=e[2]['color'],label_pos=0.40) for i,e in enumerate(dG.edges.data())]"
   ]
  },
  {
   "cell_type": "markdown",
   "metadata": {},
   "source": [
    "## Exporting"
   ]
  },
  {
   "cell_type": "markdown",
   "metadata": {},
   "source": [
    "Network does not recommend its use for complex visualization. So, several times you may want to export your graph to be visualize in Gephi or something similar:"
   ]
  },
  {
   "cell_type": "code",
   "execution_count": null,
   "metadata": {},
   "outputs": [],
   "source": [
    "nx.write_graphml(dG, \"dG.graphml\",encoding='utf-8')"
   ]
  },
  {
   "cell_type": "markdown",
   "metadata": {},
   "source": [
    "# Case: Elites in Peru"
   ]
  },
  {
   "cell_type": "markdown",
   "metadata": {},
   "source": [
    "The network we are going to build is based on the relationships studied in this paper:\n",
    "<img src=\"paper.png\" width=\"900\">\n"
   ]
  },
  {
   "cell_type": "markdown",
   "metadata": {},
   "source": [
    "In that paper, Professor Figueroa shows this table, where 1 represents that both nodes (families) appear together at least once in a top company board. Notice the last column is an attribute:"
   ]
  },
  {
   "cell_type": "markdown",
   "metadata": {},
   "source": [
    "<img src=\"dataRed.png\" width=\"900\">"
   ]
  },
  {
   "cell_type": "markdown",
   "metadata": {},
   "source": [
    "This is an spreadsheet, representing the information above:"
   ]
  },
  {
   "cell_type": "markdown",
   "metadata": {},
   "source": [
    "<img src=\"dataExcel.png\" width=\"900\">"
   ]
  },
  {
   "cell_type": "markdown",
   "metadata": {},
   "source": [
    "Let's use the data from the spreadsheet to prepare our table:"
   ]
  },
  {
   "cell_type": "code",
   "execution_count": null,
   "metadata": {},
   "outputs": [],
   "source": [
    "# reading in\n",
    "import pandas as pd\n",
    "\n",
    "FigueData = pd.read_excel(\"dataFigueroa.xlsx\",\n",
    "                          index_col=0) #notice!!!!!"
   ]
  },
  {
   "cell_type": "markdown",
   "metadata": {},
   "source": [
    "We got this:"
   ]
  },
  {
   "cell_type": "code",
   "execution_count": null,
   "metadata": {},
   "outputs": [],
   "source": [
    "FigueData.head()"
   ]
  },
  {
   "cell_type": "markdown",
   "metadata": {},
   "source": [
    "As intended, the family appears as the row index (not the first column of data). The family is also the column names:"
   ]
  },
  {
   "cell_type": "code",
   "execution_count": null,
   "metadata": {},
   "outputs": [],
   "source": [
    "FigueData.columns"
   ]
  },
  {
   "cell_type": "markdown",
   "metadata": {},
   "source": [
    "The **adjacency matrix** does not need the attribute column, then:"
   ]
  },
  {
   "cell_type": "code",
   "execution_count": null,
   "metadata": {},
   "outputs": [],
   "source": [
    "varsToDrop=['Multinacional']\n",
    "adjacency=FigueData.drop(varsToDrop,axis=1) \n",
    "\n",
    "#result\n",
    "adjacency"
   ]
  },
  {
   "cell_type": "markdown",
   "metadata": {},
   "source": [
    "It is easy to turn the adjacency matrix into a graph:"
   ]
  },
  {
   "cell_type": "code",
   "execution_count": null,
   "metadata": {},
   "outputs": [],
   "source": [
    "EliteNet = nx.from_pandas_adjacency(adjacency)"
   ]
  },
  {
   "cell_type": "markdown",
   "metadata": {},
   "source": [
    "Take a look at **EliteNet**:"
   ]
  },
  {
   "cell_type": "code",
   "execution_count": null,
   "metadata": {},
   "outputs": [],
   "source": [
    "# nodes:\n",
    "len(EliteNet)"
   ]
  },
  {
   "cell_type": "code",
   "execution_count": null,
   "metadata": {},
   "outputs": [],
   "source": [
    "# edges:\n",
    "EliteNet.size()"
   ]
  },
  {
   "cell_type": "code",
   "execution_count": null,
   "metadata": {},
   "outputs": [],
   "source": [
    "# plot\n",
    "nx.draw_random(EliteNet,\n",
    "                node_color='yellow',\n",
    "                edge_color='lightblue',\n",
    "                with_labels=True,\n",
    "                font_size=8)"
   ]
  },
  {
   "cell_type": "markdown",
   "metadata": {},
   "source": [
    "The adjacency include the self-relationships, we should take those away:"
   ]
  },
  {
   "cell_type": "code",
   "execution_count": null,
   "metadata": {},
   "outputs": [],
   "source": [
    "EliteNet.remove_edges_from(nx.selfloop_edges(EliteNet))"
   ]
  },
  {
   "cell_type": "code",
   "execution_count": null,
   "metadata": {},
   "outputs": [],
   "source": [
    "# re plot\n",
    "nx.draw_random(EliteNet,\n",
    "                node_color='yellow',\n",
    "                edge_color='lightblue',\n",
    "                with_labels=True,\n",
    "                font_size=8)"
   ]
  },
  {
   "cell_type": "markdown",
   "metadata": {},
   "source": [
    "Let's add the attributes to the nodes:"
   ]
  },
  {
   "cell_type": "code",
   "execution_count": null,
   "metadata": {},
   "outputs": [],
   "source": [
    "FigueData['Multinacional'].head()"
   ]
  },
  {
   "cell_type": "markdown",
   "metadata": {},
   "source": [
    "Currently:"
   ]
  },
  {
   "cell_type": "code",
   "execution_count": null,
   "metadata": {},
   "outputs": [],
   "source": [
    "# no attribute:\n",
    "EliteNet.nodes.data()"
   ]
  },
  {
   "cell_type": "markdown",
   "metadata": {},
   "source": [
    "Let me prepare a dictionary:"
   ]
  },
  {
   "cell_type": "code",
   "execution_count": null,
   "metadata": {},
   "outputs": [],
   "source": [
    "dict(zip(FigueData.index,FigueData['Multinacional']))"
   ]
  },
  {
   "cell_type": "markdown",
   "metadata": {},
   "source": [
    "Then, I can use that to add an attribute to the node:"
   ]
  },
  {
   "cell_type": "code",
   "execution_count": null,
   "metadata": {},
   "outputs": [],
   "source": [
    "attributeToAdd=dict(zip(FigueData.index,FigueData['Multinacional']))\n",
    "nx.set_node_attributes(EliteNet, attributeToAdd,'multi')"
   ]
  },
  {
   "cell_type": "markdown",
   "metadata": {},
   "source": [
    "Updated nodes:"
   ]
  },
  {
   "cell_type": "code",
   "execution_count": null,
   "metadata": {},
   "outputs": [],
   "source": [
    "EliteNet.nodes.data()"
   ]
  },
  {
   "cell_type": "code",
   "execution_count": null,
   "metadata": {},
   "outputs": [],
   "source": [
    "# using node attributes\n",
    "\n",
    "colors_for_nodes=['green' if n[1]['multi']==1 else 'red' for n in EliteNet.nodes.data()]\n",
    "nx.draw_random(EliteNet,\n",
    "        with_labels=True,\n",
    "        node_color=colors_for_nodes)"
   ]
  },
  {
   "cell_type": "code",
   "execution_count": null,
   "metadata": {},
   "outputs": [],
   "source": [
    "nx.draw_circular(EliteNet,\n",
    "        with_labels=True,\n",
    "        node_color=colors_for_nodes)"
   ]
  },
  {
   "cell_type": "markdown",
   "metadata": {},
   "source": [
    "Let's export this graph:"
   ]
  },
  {
   "cell_type": "code",
   "execution_count": null,
   "metadata": {},
   "outputs": [],
   "source": [
    "nx.write_graphml(EliteNet, \"EliteNet.graphml\",encoding='utf-8')"
   ]
  },
  {
   "cell_type": "markdown",
   "metadata": {},
   "source": [
    "# Case: Trade among countries"
   ]
  },
  {
   "cell_type": "markdown",
   "metadata": {},
   "source": [
    "Let me use some information about trade among countries from the [World Bank](https://wits.worldbank.org/gptad/library.aspx):"
   ]
  },
  {
   "cell_type": "code",
   "execution_count": null,
   "metadata": {},
   "outputs": [],
   "source": [
    "# usual way\n",
    "from bs4 import BeautifulSoup\n",
    "\n",
    "\n",
    "url = \"https://wits.worldbank.org/gptad/library.aspx\"\n",
    "trade=pd.read_html(url, flavor='bs4')"
   ]
  },
  {
   "cell_type": "markdown",
   "metadata": {},
   "source": [
    "This website will give some trouble. Using the information given, I could find a suggestion from [stackoverflow](https://stackoverflow.com/questions/71603314/ssl-error-unsafe-legacy-renegotiation-disabled) and a discussion in [GitHub](https://github.com/urllib3/urllib3/issues/2653). Let me implement that:"
   ]
  },
  {
   "cell_type": "code",
   "execution_count": null,
   "metadata": {},
   "outputs": [],
   "source": [
    "import ssl\n",
    "import urllib.request\n",
    "\n",
    "#advice\n",
    "ctx = ssl.create_default_context(ssl.Purpose.SERVER_AUTH)\n",
    "ctx.options |= 0x4  \n",
    "response = urllib.request.urlopen(url, context=ctx)\n",
    "\n",
    "# let's get the webpage:\n",
    "soup = BeautifulSoup(response, \"html.parser\")"
   ]
  },
  {
   "cell_type": "markdown",
   "metadata": {},
   "source": [
    "Do we have it:"
   ]
  },
  {
   "cell_type": "code",
   "execution_count": null,
   "metadata": {},
   "outputs": [],
   "source": [
    "soup"
   ]
  },
  {
   "cell_type": "markdown",
   "metadata": {},
   "source": [
    "Let me get the tables in the _soup_:"
   ]
  },
  {
   "cell_type": "code",
   "execution_count": null,
   "metadata": {},
   "outputs": [],
   "source": [
    "allTables=soup.find_all('table')\n",
    "len(allTables)"
   ]
  },
  {
   "cell_type": "markdown",
   "metadata": {},
   "source": [
    "Getting the one we need:"
   ]
  },
  {
   "cell_type": "code",
   "execution_count": null,
   "metadata": {},
   "outputs": [],
   "source": [
    "theTable=allTables[0]\n",
    "theTable"
   ]
  },
  {
   "cell_type": "markdown",
   "metadata": {},
   "source": [
    "Let me use pandas again:"
   ]
  },
  {
   "cell_type": "code",
   "execution_count": null,
   "metadata": {},
   "outputs": [],
   "source": [
    "pd.read_html(str(theTable),flavor='bs4')[0]"
   ]
  },
  {
   "cell_type": "markdown",
   "metadata": {},
   "source": [
    "It looks good, but let me follow the suggestion:"
   ]
  },
  {
   "cell_type": "code",
   "execution_count": null,
   "metadata": {},
   "outputs": [],
   "source": [
    "import io\n",
    "\n",
    "trade=pd.read_html(io.StringIO(str(theTable)),flavor='bs4')[0]\n",
    "trade"
   ]
  },
  {
   "cell_type": "markdown",
   "metadata": {},
   "source": [
    "We have done a great effort so far, so it would be wise to save this data frame:"
   ]
  },
  {
   "cell_type": "code",
   "execution_count": null,
   "metadata": {},
   "outputs": [],
   "source": [
    "# saving\n",
    "trade.to_pickle(\"trade.pkl\")"
   ]
  },
  {
   "cell_type": "code",
   "execution_count": 748,
   "metadata": {},
   "outputs": [],
   "source": [
    "# opening\n",
    "\n",
    "tradeData=pd.read_pickle(\"trade.pkl\")"
   ]
  },
  {
   "cell_type": "markdown",
   "metadata": {},
   "source": [
    "## Exploring the Data\n",
    "\n",
    "Let's explore the _tradeData_:"
   ]
  },
  {
   "cell_type": "code",
   "execution_count": 749,
   "metadata": {},
   "outputs": [
    {
     "name": "stdout",
     "output_type": "stream",
     "text": [
      "<class 'pandas.core.frame.DataFrame'>\n",
      "RangeIndex: 352 entries, 0 to 351\n",
      "Data columns (total 8 columns):\n",
      " #   Column                    Non-Null Count  Dtype  \n",
      "---  ------                    --------------  -----  \n",
      " 0   Common Name               352 non-null    object \n",
      " 1   Membership                351 non-null    object \n",
      " 2   Type                      347 non-null    object \n",
      " 3   Date of Signature         299 non-null    object \n",
      " 4   Date of Entry into Force  288 non-null    object \n",
      " 5   WTO notified              340 non-null    object \n",
      " 6   In-force status           336 non-null    object \n",
      " 7   Annexes Available         0 non-null      float64\n",
      "dtypes: float64(1), object(7)\n",
      "memory usage: 22.1+ KB\n"
     ]
    }
   ],
   "source": [
    "tradeData.info()"
   ]
  },
  {
   "cell_type": "markdown",
   "metadata": {},
   "source": [
    "If we pay close attention to the information above, we will notice:\n",
    "- Last column is full of missing values.\n",
    "- Membership column has one missing (but Common name is complete)."
   ]
  },
  {
   "cell_type": "code",
   "execution_count": 750,
   "metadata": {},
   "outputs": [],
   "source": [
    "# bye last column\n",
    "tradeData.drop(columns=['Annexes Available'],inplace=True)"
   ]
  },
  {
   "cell_type": "code",
   "execution_count": 751,
   "metadata": {},
   "outputs": [
    {
     "data": {
      "text/html": [
       "<div>\n",
       "<style scoped>\n",
       "    .dataframe tbody tr th:only-of-type {\n",
       "        vertical-align: middle;\n",
       "    }\n",
       "\n",
       "    .dataframe tbody tr th {\n",
       "        vertical-align: top;\n",
       "    }\n",
       "\n",
       "    .dataframe thead th {\n",
       "        text-align: right;\n",
       "    }\n",
       "</style>\n",
       "<table border=\"1\" class=\"dataframe\">\n",
       "  <thead>\n",
       "    <tr style=\"text-align: right;\">\n",
       "      <th></th>\n",
       "      <th>Common Name</th>\n",
       "      <th>Membership</th>\n",
       "      <th>Type</th>\n",
       "      <th>Date of Signature</th>\n",
       "      <th>Date of Entry into Force</th>\n",
       "      <th>WTO notified</th>\n",
       "      <th>In-force status</th>\n",
       "    </tr>\n",
       "  </thead>\n",
       "  <tbody>\n",
       "    <tr>\n",
       "      <th>242</th>\n",
       "      <td>India - Korea</td>\n",
       "      <td>NaN</td>\n",
       "      <td>Bilateral Free Trade Agreement</td>\n",
       "      <td>08/07/2009</td>\n",
       "      <td>01/01/2010</td>\n",
       "      <td>NaN</td>\n",
       "      <td>unknown</td>\n",
       "    </tr>\n",
       "  </tbody>\n",
       "</table>\n",
       "</div>"
      ],
      "text/plain": [
       "       Common Name Membership                            Type  \\\n",
       "242  India - Korea        NaN  Bilateral Free Trade Agreement   \n",
       "\n",
       "    Date of Signature Date of Entry into Force WTO notified In-force status  \n",
       "242        08/07/2009               01/01/2010          NaN         unknown  "
      ]
     },
     "execution_count": 751,
     "metadata": {},
     "output_type": "execute_result"
    }
   ],
   "source": [
    "# what's going on in 'Membership'?\n",
    "tradeData[tradeData.Membership.isna()]"
   ]
  },
  {
   "cell_type": "code",
   "execution_count": 752,
   "metadata": {},
   "outputs": [],
   "source": [
    "# solving the previous:\n",
    "tradeData.loc[242,\"Membership\"]=\"India, Korea\""
   ]
  },
  {
   "cell_type": "markdown",
   "metadata": {},
   "source": [
    "Now:"
   ]
  },
  {
   "cell_type": "code",
   "execution_count": 753,
   "metadata": {},
   "outputs": [
    {
     "name": "stdout",
     "output_type": "stream",
     "text": [
      "<class 'pandas.core.frame.DataFrame'>\n",
      "RangeIndex: 352 entries, 0 to 351\n",
      "Data columns (total 7 columns):\n",
      " #   Column                    Non-Null Count  Dtype \n",
      "---  ------                    --------------  ----- \n",
      " 0   Common Name               352 non-null    object\n",
      " 1   Membership                352 non-null    object\n",
      " 2   Type                      347 non-null    object\n",
      " 3   Date of Signature         299 non-null    object\n",
      " 4   Date of Entry into Force  288 non-null    object\n",
      " 5   WTO notified              340 non-null    object\n",
      " 6   In-force status           336 non-null    object\n",
      "dtypes: object(7)\n",
      "memory usage: 19.4+ KB\n"
     ]
    }
   ],
   "source": [
    "tradeData.info()"
   ]
  },
  {
   "cell_type": "markdown",
   "metadata": {},
   "source": [
    "The other columns have missing data too:"
   ]
  },
  {
   "cell_type": "code",
   "execution_count": 754,
   "metadata": {},
   "outputs": [
    {
     "data": {
      "text/html": [
       "<div>\n",
       "<style scoped>\n",
       "    .dataframe tbody tr th:only-of-type {\n",
       "        vertical-align: middle;\n",
       "    }\n",
       "\n",
       "    .dataframe tbody tr th {\n",
       "        vertical-align: top;\n",
       "    }\n",
       "\n",
       "    .dataframe thead th {\n",
       "        text-align: right;\n",
       "    }\n",
       "</style>\n",
       "<table border=\"1\" class=\"dataframe\">\n",
       "  <thead>\n",
       "    <tr style=\"text-align: right;\">\n",
       "      <th></th>\n",
       "      <th>Date of Signature</th>\n",
       "      <th>Date of Entry into Force</th>\n",
       "    </tr>\n",
       "  </thead>\n",
       "  <tbody>\n",
       "    <tr>\n",
       "      <th>count</th>\n",
       "      <td>299</td>\n",
       "      <td>288</td>\n",
       "    </tr>\n",
       "    <tr>\n",
       "      <th>unique</th>\n",
       "      <td>272</td>\n",
       "      <td>201</td>\n",
       "    </tr>\n",
       "    <tr>\n",
       "      <th>top</th>\n",
       "      <td>06/29/2000</td>\n",
       "      <td>01/01/1995</td>\n",
       "    </tr>\n",
       "    <tr>\n",
       "      <th>freq</th>\n",
       "      <td>4</td>\n",
       "      <td>7</td>\n",
       "    </tr>\n",
       "  </tbody>\n",
       "</table>\n",
       "</div>"
      ],
      "text/plain": [
       "       Date of Signature Date of Entry into Force\n",
       "count                299                      288\n",
       "unique               272                      201\n",
       "top           06/29/2000               01/01/1995\n",
       "freq                   4                        7"
      ]
     },
     "execution_count": 754,
     "metadata": {},
     "output_type": "execute_result"
    }
   ],
   "source": [
    "tradeData.loc[:,['Date of Signature','Date of Entry into Force']].describe()"
   ]
  },
  {
   "cell_type": "code",
   "execution_count": 755,
   "metadata": {},
   "outputs": [
    {
     "data": {
      "text/plain": [
       "WTO notified\n",
       "yes    281\n",
       "no      59\n",
       "Name: count, dtype: int64"
      ]
     },
     "execution_count": 755,
     "metadata": {},
     "output_type": "execute_result"
    }
   ],
   "source": [
    "tradeData['WTO notified'].value_counts()"
   ]
  },
  {
   "cell_type": "code",
   "execution_count": 756,
   "metadata": {},
   "outputs": [
    {
     "data": {
      "text/plain": [
       "In-force status\n",
       "in force                     256\n",
       "expired                       49\n",
       "unknown                       28\n",
       "signed - not yet in force      3\n",
       "Name: count, dtype: int64"
      ]
     },
     "execution_count": 756,
     "metadata": {},
     "output_type": "execute_result"
    }
   ],
   "source": [
    "tradeData['In-force status'].value_counts()"
   ]
  },
  {
   "cell_type": "code",
   "execution_count": 757,
   "metadata": {},
   "outputs": [
    {
     "data": {
      "text/plain": [
       "Type\n",
       "Bilateral Free Trade Agreement                209\n",
       "Association Free Trade Agreement               64\n",
       "Regional/Plurilateral Free Trade Agreement     57\n",
       "Customs Union Primary Agreement                 7\n",
       "Customs Union Accession Agreement               6\n",
       "Framework Agreement                             4\n",
       "Name: count, dtype: int64"
      ]
     },
     "execution_count": 757,
     "metadata": {},
     "output_type": "execute_result"
    }
   ],
   "source": [
    "tradeData['Type'].value_counts()"
   ]
  },
  {
   "cell_type": "code",
   "execution_count": 758,
   "metadata": {},
   "outputs": [
    {
     "data": {
      "text/html": [
       "<div>\n",
       "<style scoped>\n",
       "    .dataframe tbody tr th:only-of-type {\n",
       "        vertical-align: middle;\n",
       "    }\n",
       "\n",
       "    .dataframe tbody tr th {\n",
       "        vertical-align: top;\n",
       "    }\n",
       "\n",
       "    .dataframe thead th {\n",
       "        text-align: right;\n",
       "    }\n",
       "</style>\n",
       "<table border=\"1\" class=\"dataframe\">\n",
       "  <thead>\n",
       "    <tr style=\"text-align: right;\">\n",
       "      <th></th>\n",
       "      <th>Common Name</th>\n",
       "      <th>Membership</th>\n",
       "      <th>Type</th>\n",
       "      <th>Date of Signature</th>\n",
       "      <th>Date of Entry into Force</th>\n",
       "      <th>WTO notified</th>\n",
       "      <th>In-force status</th>\n",
       "    </tr>\n",
       "  </thead>\n",
       "  <tbody>\n",
       "    <tr>\n",
       "      <th>0</th>\n",
       "      <td>AEC</td>\n",
       "      <td>Algeria, Angola, Benin, Botswana, Burkina Faso...</td>\n",
       "      <td>Regional/Plurilateral Free Trade Agreement</td>\n",
       "      <td>06/03/1991</td>\n",
       "      <td>NaN</td>\n",
       "      <td>no</td>\n",
       "      <td>in force</td>\n",
       "    </tr>\n",
       "    <tr>\n",
       "      <th>3</th>\n",
       "      <td>Afghanistan - India</td>\n",
       "      <td>Afghanistan, India</td>\n",
       "      <td>Bilateral Free Trade Agreement</td>\n",
       "      <td>03/06/2003</td>\n",
       "      <td>NaN</td>\n",
       "      <td>no</td>\n",
       "      <td>unknown</td>\n",
       "    </tr>\n",
       "    <tr>\n",
       "      <th>4</th>\n",
       "      <td>Agadir (Egypt - Jordan - Morocco - Tunisia)</td>\n",
       "      <td>Egypt, Jordan, Morocco, Tunisia</td>\n",
       "      <td>Regional/Plurilateral Free Trade Agreement</td>\n",
       "      <td>02/25/2004</td>\n",
       "      <td>NaN</td>\n",
       "      <td>no</td>\n",
       "      <td>unknown</td>\n",
       "    </tr>\n",
       "    <tr>\n",
       "      <th>6</th>\n",
       "      <td>Albania - Macedonia (FYROM)</td>\n",
       "      <td>Albania, Macedonia</td>\n",
       "      <td>Bilateral Free Trade Agreement</td>\n",
       "      <td>NaN</td>\n",
       "      <td>07/01/2002</td>\n",
       "      <td>yes</td>\n",
       "      <td>expired</td>\n",
       "    </tr>\n",
       "    <tr>\n",
       "      <th>7</th>\n",
       "      <td>Albania - Moldova</td>\n",
       "      <td>Albania, Moldova</td>\n",
       "      <td>Bilateral Free Trade Agreement</td>\n",
       "      <td>NaN</td>\n",
       "      <td>NaN</td>\n",
       "      <td>no</td>\n",
       "      <td>NaN</td>\n",
       "    </tr>\n",
       "    <tr>\n",
       "      <th>...</th>\n",
       "      <td>...</td>\n",
       "      <td>...</td>\n",
       "      <td>...</td>\n",
       "      <td>...</td>\n",
       "      <td>...</td>\n",
       "      <td>...</td>\n",
       "      <td>...</td>\n",
       "    </tr>\n",
       "    <tr>\n",
       "      <th>328</th>\n",
       "      <td>South Asian Preferential Trade Arrangement (SA...</td>\n",
       "      <td>Bangladesh, Bhutan, India, Maldives, Nepal, Pa...</td>\n",
       "      <td>NaN</td>\n",
       "      <td>04/11/1993</td>\n",
       "      <td>12/07/1995</td>\n",
       "      <td>yes</td>\n",
       "      <td>in force</td>\n",
       "    </tr>\n",
       "    <tr>\n",
       "      <th>329</th>\n",
       "      <td>South Pacific Regional Trade and Economic Coop...</td>\n",
       "      <td>Australia, Cook Islands, Fiji, Kiribati, Nauru...</td>\n",
       "      <td>NaN</td>\n",
       "      <td>07/14/1980</td>\n",
       "      <td>01/01/1981</td>\n",
       "      <td>yes</td>\n",
       "      <td>in force</td>\n",
       "    </tr>\n",
       "    <tr>\n",
       "      <th>334</th>\n",
       "      <td>Tunisia - Turkey</td>\n",
       "      <td>Tunisia, Turkey</td>\n",
       "      <td>Association Free Trade Agreement</td>\n",
       "      <td>11/25/2004</td>\n",
       "      <td>07/01/2005</td>\n",
       "      <td>NaN</td>\n",
       "      <td>in force</td>\n",
       "    </tr>\n",
       "    <tr>\n",
       "      <th>342</th>\n",
       "      <td>United States - CAFTA</td>\n",
       "      <td>Costa Rica, El Salvador, Guatemala, Honduras, ...</td>\n",
       "      <td>Regional/Plurilateral Free Trade Agreement</td>\n",
       "      <td>05/28/2004</td>\n",
       "      <td>11/01/2004</td>\n",
       "      <td>NaN</td>\n",
       "      <td>signed - not yet in force</td>\n",
       "    </tr>\n",
       "    <tr>\n",
       "      <th>351</th>\n",
       "      <td>WAEMU</td>\n",
       "      <td>Bénin, Burkina Faso, Côte d'Ivoire, Mali, Nige...</td>\n",
       "      <td>NaN</td>\n",
       "      <td>01/10/1994</td>\n",
       "      <td>01/01/2000</td>\n",
       "      <td>yes</td>\n",
       "      <td>in force</td>\n",
       "    </tr>\n",
       "  </tbody>\n",
       "</table>\n",
       "<p>97 rows × 7 columns</p>\n",
       "</div>"
      ],
      "text/plain": [
       "                                           Common Name  \\\n",
       "0                                                  AEC   \n",
       "3                                  Afghanistan - India   \n",
       "4          Agadir (Egypt - Jordan - Morocco - Tunisia)   \n",
       "6                          Albania - Macedonia (FYROM)   \n",
       "7                                    Albania - Moldova   \n",
       "..                                                 ...   \n",
       "328  South Asian Preferential Trade Arrangement (SA...   \n",
       "329  South Pacific Regional Trade and Economic Coop...   \n",
       "334                                   Tunisia - Turkey   \n",
       "342                              United States - CAFTA   \n",
       "351                                              WAEMU   \n",
       "\n",
       "                                            Membership  \\\n",
       "0    Algeria, Angola, Benin, Botswana, Burkina Faso...   \n",
       "3                                   Afghanistan, India   \n",
       "4                      Egypt, Jordan, Morocco, Tunisia   \n",
       "6                                   Albania, Macedonia   \n",
       "7                                     Albania, Moldova   \n",
       "..                                                 ...   \n",
       "328  Bangladesh, Bhutan, India, Maldives, Nepal, Pa...   \n",
       "329  Australia, Cook Islands, Fiji, Kiribati, Nauru...   \n",
       "334                                    Tunisia, Turkey   \n",
       "342  Costa Rica, El Salvador, Guatemala, Honduras, ...   \n",
       "351  Bénin, Burkina Faso, Côte d'Ivoire, Mali, Nige...   \n",
       "\n",
       "                                           Type Date of Signature  \\\n",
       "0    Regional/Plurilateral Free Trade Agreement        06/03/1991   \n",
       "3                Bilateral Free Trade Agreement        03/06/2003   \n",
       "4    Regional/Plurilateral Free Trade Agreement        02/25/2004   \n",
       "6                Bilateral Free Trade Agreement               NaN   \n",
       "7                Bilateral Free Trade Agreement               NaN   \n",
       "..                                          ...               ...   \n",
       "328                                         NaN        04/11/1993   \n",
       "329                                         NaN        07/14/1980   \n",
       "334            Association Free Trade Agreement        11/25/2004   \n",
       "342  Regional/Plurilateral Free Trade Agreement        05/28/2004   \n",
       "351                                         NaN        01/10/1994   \n",
       "\n",
       "    Date of Entry into Force WTO notified            In-force status  \n",
       "0                        NaN           no                   in force  \n",
       "3                        NaN           no                    unknown  \n",
       "4                        NaN           no                    unknown  \n",
       "6                 07/01/2002          yes                    expired  \n",
       "7                        NaN           no                        NaN  \n",
       "..                       ...          ...                        ...  \n",
       "328               12/07/1995          yes                   in force  \n",
       "329               01/01/1981          yes                   in force  \n",
       "334               07/01/2005          NaN                   in force  \n",
       "342               11/01/2004          NaN  signed - not yet in force  \n",
       "351               01/01/2000          yes                   in force  \n",
       "\n",
       "[97 rows x 7 columns]"
      ]
     },
     "execution_count": 758,
     "metadata": {},
     "output_type": "execute_result"
    }
   ],
   "source": [
    "# completing this would require a good deal of time.\n",
    "tradeData[tradeData.iloc[:,2:].isna().any(axis=1)]"
   ]
  },
  {
   "cell_type": "markdown",
   "metadata": {},
   "source": [
    "## The Plan"
   ]
  },
  {
   "cell_type": "markdown",
   "metadata": {},
   "source": [
    "We need a network of countries, the node is the country and the link means _there has been a trade agreement between these two_ (the network will be undirected). Then, we need to make sure that: \n",
    "- Each cell of the column _Membership_ has only country names.\n",
    "- Each cell of the column _Membership_ every country has to be separated by _commas_ (',').\n",
    "- At the end, we also need to make sure that names of the same country, which will appear several times, are written in the same way."
   ]
  },
  {
   "cell_type": "markdown",
   "metadata": {},
   "source": [
    "Is every country followed by a _comma_?"
   ]
  },
  {
   "cell_type": "code",
   "execution_count": 759,
   "metadata": {},
   "outputs": [
    {
     "data": {
      "text/plain": [
       "['Australia; Chile',\n",
       " 'Chile; China',\n",
       " 'China (Taiwan), Nicaragua',\n",
       " 'Belgium; Denmark; France; Germany; Ireland; Italy; Luxembourg; Netherlands; United Kingdom',\n",
       " 'European Community (Austria; Belgium; Bulgaria; Cyprus; Czech Republic; Denmark; Estonia; Finland; France; Germany; Greece; Hungary; Ireland; Italy; Latvia; Lithuania; Luxembourg; Malta; Netherlands; Poland; Portugal; Romania; Slovak Republic; Slovenia; Spain; Sweden; United Kingdom), Cameroon',\n",
       " 'CARIFORUM States (Antigua and Barbuda; Bahamas; Barbados; Belize; Dominica; Dominican Republic; Grenada; Guyana; Jamaica; Saint Kitts and Nevis; Saint Lucia; Saint Vincent and the Grenadines; Suriname; Trinidad and Tobago)and European Community (Austria; Belgium; Bulgaria; Cyprus; Czech Republic; Denmark; Estonia; Finland; France; Germany; Greece; Hungary; Ireland; Italy; Latvia; Lithuania; Luxembourg; Malta; Netherlands; Poland; Portugal; Romania; Slovak Republic; Slovenia; Spain; Sweden; United Kingdom;)',\n",
       " 'European Community (Austria; Belgium; Bulgaria; Cyprus; Czech Republic; Denmark; Estonia; Finland; France; Germany; Greece; Hungary; Ireland; Italy; Latvia; Lithuania; Luxembourg; Malta; Netherlands; Poland; Portugal; Romania; Slovak Republic; Slovenia; Spain; Sweden; United Kingdom), Lebanon\\\\r\\\\n\\\\r\\\\n',\n",
       " 'European Community (Austria; Belgium; Bulgaria; Cyprus; Czech Republic; Denmark; Estonia; Finland; France; Germany; Greece; Hungary; Ireland; Italy; Latvia; Lithuania; Luxembourg; Malta; Netherlands; Poland; Portugal; Romania; Slovak Republic; Slovenia; Spain; Sweden; United Kingdom;) and Montenegro\\\\r\\\\n\\\\r\\\\n',\n",
       " 'European Community (Austria; Belgium; Bulgaria; Cyprus; Czech Republic; Denmark; Estonia; Finland; France; Germany; Greece; Hungary; Ireland; Italy; Latvia; Lithuania; Luxembourg; Malta; Netherlands; Poland; Portugal; Romania; Slovak Republic; Slovenia; Spain; Sweden; United Kingdom), Palestine Liberation Organization',\n",
       " 'Austria; Belgium; Bulgaria; Cyprus; Czech Republic; Denmark; Estonia; Finland; France; Germany; Greece; Hungary; Ireland; Italy; Latvia; Lithuania; Luxembourg; Malta; Netherlands; Poland; Portugal; Romania; Slovak Republic; Slovenia; Spain; Sweden; United Kingdom; San Marino\\\\r\\\\n\\\\r\\\\n\\\\r\\\\n\\\\r\\\\n\\\\r\\\\n',\n",
       " 'EC(Austria; Belgium; Bulgaria; Cyprus; Czech Republic; Denmark; Estonia; Finland; France; Germany; Greece; Hungary; Ireland; Italy; Latvia; Lithuania; Luxembourg; Malta; Netherlands; Poland; Portugal; Romania; Slovak Republic; Slovenia; Spain; Sweden; United Kingdom;) and Tunisia\\\\r\\\\n\\\\r\\\\n\\\\r\\\\n\\\\r\\\\n\\\\r\\\\n\\\\r\\\\n',\n",
       " \"Benin; Burkina Faso; Cape Verde; Côte d'Ivoire; Gambia; Ghana; Guinea; Guinea Bissau; Liberia; Mali; Niger; Nigeria; Senegal; Sierra Leone; Togo\",\n",
       " 'European Economic Area (Austria; Belgium; Denmark; Finland; France; Germany; Greece; Iceland; Ireland; Italy; Liechtenstein; Luxembourg; Netherlands; Norway; Portugal; Spain; Sweden; United Kingdom)',\n",
       " 'Austria; Denmark; Norway; Portugal; Sweden; Switzerland; United Kingdom',\n",
       " 'EFTA (Iceland; Liechtenstein; Norway; Switzerland), Egypt',\n",
       " 'Iceland; Denmark; Faroe Islands',\n",
       " 'Georgia , Turkey',\n",
       " 'Bahrain; Egypt; Iraq; Jordan; Kuwait; Lebanon; Libyan Arab Jamahiriya; Morocco; Oman; Qatar; Saudi Arabia; Sudan; Syrian Arab Republic; Tunisia; United Arab Emirates; Yemen; Algeria; Palestinian Authority.',\n",
       " 'Palestine Liberation Organization (Palestine Authority), Turkey',\n",
       " 'Russian Federation and Ukraine',\n",
       " 'Singapore - Korea',\n",
       " 'Brunei Darussalam; Chile; New Zealand; Singapore',\n",
       " 'Ukraine and Uzbekistan\\\\r\\\\n']"
      ]
     },
     "execution_count": 759,
     "metadata": {},
     "output_type": "execute_result"
    }
   ],
   "source": [
    "#word and comma (opposite)\n",
    "tradeData.Membership[~tradeData.Membership.str.contains('\\w+,',regex=True)].to_list()"
   ]
  },
  {
   "cell_type": "markdown",
   "metadata": {},
   "source": [
    "There is a lot to clean. Let's try:\n",
    "1. Get rid of end of line ('\\ \\\\r \\ \\\\n').\n",
    "2. Put good separator (comma) instead of ';', 'and', '-', or '&'.\n",
    "3. Clean country names.\n",
    "4. Decide whether to remove communities or preserve them.\n",
    "5. Check uniqueness of country names,\n",
    "\n",
    "We will constantly monitor the output, and we may find some more mistakes, or even mistakes we could generate."
   ]
  },
  {
   "cell_type": "markdown",
   "metadata": {},
   "source": [
    "### Challenge 1: Get rid of end of line.\n",
    "\n",
    "This is the easiest:"
   ]
  },
  {
   "cell_type": "code",
   "execution_count": 760,
   "metadata": {},
   "outputs": [],
   "source": [
    "# easy : Get rid of '\\\\r\\\\n'\n",
    "tradeData['Membership']=tradeData.Membership.str.replace('\\\\r\\\\n',\"\",regex=False)"
   ]
  },
  {
   "cell_type": "markdown",
   "metadata": {},
   "source": [
    "### Challenge 2: Put good separator between pair of countries\n",
    "\n",
    "This is not that easy. So we better explore using *str.contains()*:"
   ]
  },
  {
   "cell_type": "code",
   "execution_count": 761,
   "metadata": {},
   "outputs": [
    {
     "data": {
      "text/plain": [
       "['Australia; Chile',\n",
       " 'Chile; China',\n",
       " 'China (Taiwan), Nicaragua',\n",
       " 'Belgium; Denmark; France; Germany; Ireland; Italy; Luxembourg; Netherlands; United Kingdom',\n",
       " 'European Community (Austria; Belgium; Bulgaria; Cyprus; Czech Republic; Denmark; Estonia; Finland; France; Germany; Greece; Hungary; Ireland; Italy; Latvia; Lithuania; Luxembourg; Malta; Netherlands; Poland; Portugal; Romania; Slovak Republic; Slovenia; Spain; Sweden; United Kingdom), Cameroon',\n",
       " 'CARIFORUM States (Antigua and Barbuda; Bahamas; Barbados; Belize; Dominica; Dominican Republic; Grenada; Guyana; Jamaica; Saint Kitts and Nevis; Saint Lucia; Saint Vincent and the Grenadines; Suriname; Trinidad and Tobago)and European Community (Austria; Belgium; Bulgaria; Cyprus; Czech Republic; Denmark; Estonia; Finland; France; Germany; Greece; Hungary; Ireland; Italy; Latvia; Lithuania; Luxembourg; Malta; Netherlands; Poland; Portugal; Romania; Slovak Republic; Slovenia; Spain; Sweden; United Kingdom;)',\n",
       " 'European Community (Austria; Belgium; Bulgaria; Cyprus; Czech Republic; Denmark; Estonia; Finland; France; Germany; Greece; Hungary; Ireland; Italy; Latvia; Lithuania; Luxembourg; Malta; Netherlands; Poland; Portugal; Romania; Slovak Republic; Slovenia; Spain; Sweden; United Kingdom), Lebanon',\n",
       " 'European Community (Austria; Belgium; Bulgaria; Cyprus; Czech Republic; Denmark; Estonia; Finland; France; Germany; Greece; Hungary; Ireland; Italy; Latvia; Lithuania; Luxembourg; Malta; Netherlands; Poland; Portugal; Romania; Slovak Republic; Slovenia; Spain; Sweden; United Kingdom;) and Montenegro',\n",
       " 'European Community (Austria; Belgium; Bulgaria; Cyprus; Czech Republic; Denmark; Estonia; Finland; France; Germany; Greece; Hungary; Ireland; Italy; Latvia; Lithuania; Luxembourg; Malta; Netherlands; Poland; Portugal; Romania; Slovak Republic; Slovenia; Spain; Sweden; United Kingdom), Palestine Liberation Organization',\n",
       " 'Austria; Belgium; Bulgaria; Cyprus; Czech Republic; Denmark; Estonia; Finland; France; Germany; Greece; Hungary; Ireland; Italy; Latvia; Lithuania; Luxembourg; Malta; Netherlands; Poland; Portugal; Romania; Slovak Republic; Slovenia; Spain; Sweden; United Kingdom; San Marino',\n",
       " 'EC(Austria; Belgium; Bulgaria; Cyprus; Czech Republic; Denmark; Estonia; Finland; France; Germany; Greece; Hungary; Ireland; Italy; Latvia; Lithuania; Luxembourg; Malta; Netherlands; Poland; Portugal; Romania; Slovak Republic; Slovenia; Spain; Sweden; United Kingdom;) and Tunisia',\n",
       " \"Benin; Burkina Faso; Cape Verde; Côte d'Ivoire; Gambia; Ghana; Guinea; Guinea Bissau; Liberia; Mali; Niger; Nigeria; Senegal; Sierra Leone; Togo\",\n",
       " 'European Economic Area (Austria; Belgium; Denmark; Finland; France; Germany; Greece; Iceland; Ireland; Italy; Liechtenstein; Luxembourg; Netherlands; Norway; Portugal; Spain; Sweden; United Kingdom)',\n",
       " 'Austria; Denmark; Norway; Portugal; Sweden; Switzerland; United Kingdom',\n",
       " 'EFTA (Iceland; Liechtenstein; Norway; Switzerland), Egypt',\n",
       " 'Iceland; Denmark; Faroe Islands',\n",
       " 'Georgia , Turkey',\n",
       " 'Bahrain; Egypt; Iraq; Jordan; Kuwait; Lebanon; Libyan Arab Jamahiriya; Morocco; Oman; Qatar; Saudi Arabia; Sudan; Syrian Arab Republic; Tunisia; United Arab Emirates; Yemen; Algeria; Palestinian Authority.',\n",
       " 'Palestine Liberation Organization (Palestine Authority), Turkey',\n",
       " 'Russian Federation and Ukraine',\n",
       " 'Singapore - Korea',\n",
       " 'Brunei Darussalam; Chile; New Zealand; Singapore',\n",
       " 'Ukraine and Uzbekistan']"
      ]
     },
     "execution_count": 761,
     "metadata": {},
     "output_type": "execute_result"
    }
   ],
   "source": [
    "tradeData.Membership[~tradeData.Membership.str.contains('\\w+,',regex=True)].to_list()"
   ]
  },
  {
   "cell_type": "code",
   "execution_count": 762,
   "metadata": {},
   "outputs": [],
   "source": [
    "# let's simplify the previous result by going easy:\n",
    "tradeData['Membership']=tradeData.Membership.str.replace(';',\",\",regex=False)"
   ]
  },
  {
   "cell_type": "markdown",
   "metadata": {},
   "source": [
    "We need to re run the previous request:"
   ]
  },
  {
   "cell_type": "code",
   "execution_count": 763,
   "metadata": {},
   "outputs": [
    {
     "data": {
      "text/plain": [
       "['China (Taiwan), Nicaragua',\n",
       " 'Georgia , Turkey',\n",
       " 'Palestine Liberation Organization (Palestine Authority), Turkey',\n",
       " 'Russian Federation and Ukraine',\n",
       " 'Singapore - Korea',\n",
       " 'Ukraine and Uzbekistan']"
      ]
     },
     "execution_count": 763,
     "metadata": {},
     "output_type": "execute_result"
    }
   ],
   "source": [
    "tradeData.Membership[~tradeData.Membership.str.contains('\\w+,',regex=True)].to_list()"
   ]
  },
  {
   "cell_type": "code",
   "execution_count": 764,
   "metadata": {},
   "outputs": [],
   "source": [
    "#bye extra spaces\n",
    "tradeData['Membership']=tradeData.Membership.str.replace('\\s+,',\",\",regex=True)"
   ]
  },
  {
   "cell_type": "code",
   "execution_count": 765,
   "metadata": {},
   "outputs": [
    {
     "data": {
      "text/plain": [
       "['China (Taiwan), Nicaragua',\n",
       " 'Palestine Liberation Organization (Palestine Authority), Turkey',\n",
       " 'Russian Federation and Ukraine',\n",
       " 'Singapore - Korea',\n",
       " 'Ukraine and Uzbekistan']"
      ]
     },
     "execution_count": 765,
     "metadata": {},
     "output_type": "execute_result"
    }
   ],
   "source": [
    "tradeData.Membership[~tradeData.Membership.str.contains('\\w+,',regex=True)].to_list()"
   ]
  },
  {
   "cell_type": "markdown",
   "metadata": {},
   "source": [
    "Let's find what is separating country names:"
   ]
  },
  {
   "cell_type": "code",
   "execution_count": 766,
   "metadata": {},
   "outputs": [
    {
     "data": {
      "text/plain": [
       "[\"Algeria, Angola, Benin, Botswana, Burkina Faso, Burundi, Cameroon, Cape Verde, Central African Republic, Comoros, Congo, Cote d'Ivoire, Djibouti, Egypt, Ethiopia, Equatorial Guinea, Gabon, Gambia, Ghana, Guinea, Guinea Bissau, Kenya, Lesotho, Liberia, Libyan Arab Jamahiriya, Madagascar, Malawi, Mali, Mauritania, Mauritius, Mozambique, Namibia, Niger, Nigeria, Rwanda, Sahrawi, Sao Tome and Principe, Senegal, Seychelles, Sierra Leone, Somalia, Sudan, Swaziland, Tanzania, Tchad, Togo, Tunisia, Uganda, Zaire, Zambia, Zimbabwe\",\n",
       " 'Bolivia, Colombia, Ecuador, Peru, and Venezuela',\n",
       " 'Bosnia and Herzegovina, Croatia',\n",
       " 'Bosnia and Herzegovina, Romania',\n",
       " 'Bosnia and Herzegovina, Slovenia',\n",
       " 'Bosnia and Herzegovina, Macedonia',\n",
       " 'Bulgaria, Bosnia and Herzegovina',\n",
       " 'Antigua, Bahamas, Barbados, Belize, Dominica, Grenada, Guyana, Jamaica, Montserrat, St. Kitts-Nevis-Anguilla, St. Lucia, St. Vincent, Trinidad and Tobago',\n",
       " 'Antigua and Barbuda, Barbados, Belize, Dominica, Grenada, Guyana, Jamaica, St. Kitts and Nevis, Saint Lucia, St. Vincent and the Grenadines, Suriname and Trinidad and Tobago, Costa Rica',\n",
       " 'Antigua and Barbuda, Bahamas, Barbados, Belize, Dominica, Grenada, Guyana, Haiti, Jamaica, Montserrat, Saint Kitts and Nevis, Saint Lucia, Saint Vincent and the Grenadines, Suriname, Trinidad and Tobago, Cuba',\n",
       " 'CARICOM(Antigua and Barbuda, Barbados, Belize, Dominica, Grenada, Guyana, Jamaica, Montserrat, St. Kitts and Nevis, Saint Lucia, St. Vincent and the Grenadines, Suriname and Trinidad and Tobago), Dominican Republic',\n",
       " 'Antigua and Barbuda, Bahamas, Barbados, Belize, Dominica, Grenada, Guyana, Haiti, Jamaica, Montserrat, Saint Kitts and Nevis, Saint Lucia, Saint Vincent and the Grenadines, Suriname, Trinidad and Tobago, Venezuela',\n",
       " 'CEFTA(Bulgaria, Croatia, Czech Republic, Hungary, Poland, Romania, Slovak Republic and Slovenia), Croatia',\n",
       " 'Albania, Bosnia & Herzegovina, Bulgaria, Croatia, Macedonia, Moldova, Montenegro, Romania, Serbia',\n",
       " 'Bulgaria, Croatia, Czech Republic, Hungary, Poland, Romania, Slovak Republic and Slovenia',\n",
       " 'European Community (Austria, Belgium, Bulgaria, Cyprus, Czech Republic, Denmark, Estonia, Finland, France, Germany, Greece, Hungary, Ireland, Italy, Latvia, Lithuania, Luxembourg, Malta, Netherlands, Poland, Portugal, Romania, Slovak Republic, Slovenia, Spain, Sweden, United Kingdom),Bosnia and Herzegovina',\n",
       " 'CARIFORUM States (Antigua and Barbuda, Bahamas, Barbados, Belize, Dominica, Dominican Republic, Grenada, Guyana, Jamaica, Saint Kitts and Nevis, Saint Lucia, Saint Vincent and the Grenadines, Suriname, Trinidad and Tobago)and European Community (Austria, Belgium, Bulgaria, Cyprus, Czech Republic, Denmark, Estonia, Finland, France, Germany, Greece, Hungary, Ireland, Italy, Latvia, Lithuania, Luxembourg, Malta, Netherlands, Poland, Portugal, Romania, Slovak Republic, Slovenia, Spain, Sweden, United Kingdom,)',\n",
       " 'European Community, European Atomic Energy Community, European Coal and Steel Community, Estonia',\n",
       " 'European Community (Belgium, Denmark, Germany, Greece, Spain, Ireland, Italy, Luxembourt, The Netherlands, Austria, Portugal, Finland, Sweden, United Kingdom of Great Britain and Northern Ireland), Jordan',\n",
       " 'European Community (Austria, Belgium, Bulgaria, Cyprus, Czech Republic, Denmark, Estonia, Finland, France, Germany, Greece, Hungary, Ireland, Italy, Latvia, Lithuania, Luxembourg, Malta, Netherlands, Poland, Portugal, Romania, Slovak Republic, Slovenia, Spain, Sweden, United Kingdom,) and Montenegro',\n",
       " 'European Community (Austria, Belgium, Denmark, Finland, France, Germany, Greece, Ireland, Italy, Luxembourg, Netherlands, Portugal, Spain, Sweden, United Kingdom), and Norway',\n",
       " 'European Community (Austria, Belgium, Bulgaria, Cyprus, Czech Republic, Denmark, Estonia, Finland, France, Germany, Greece, Hungary, Ireland, Italy, Latvia, Lithuania, Luxembourg, Malta, Netherlands, Poland, Portugal, Romania, Slovak Republic, Slovenia, Spain, Sweden, United Kingdom), Overseas Countries and Territories (Anguilla, Aruba, British Indian Ocean Territory, Cayman Islands, Falkland Islands (Islas Malvinas), French Polynesia, French Southern Territories, Greenland, Mayotte, Montserrat, Netherlands Antilles, New Caledonia, Pitcairn, Saint Helena, Saint Pierre and Miquelon, South Georgia and the South Sandwich Islands, Turks and Caicos Islands, Virgin Islands, British, Wallis and Futuna Islands)',\n",
       " 'EC(Austria, Belgium, Bulgaria, Cyprus, Czech Republic, Denmark, Estonia, Finland, France, Germany, Greece, Hungary, Ireland, Italy, Latvia, Lithuania, Luxembourg, Malta, Netherlands, Poland, Portugal, Romania, Slovak Republic, Slovenia, Spain, Sweden, United Kingdom,) and Tunisia',\n",
       " 'Angola, Burundi, United Republic of Cameroon,Central African Republic, People’s Republic of the Congo, Gabonese Republic, Republic of Equatorial Guinea, Rwanda, Republic of Sao Tome and Principe, Republic of Chad, Republic of Zaire',\n",
       " 'EFTA (Iceland, Liechtenstein, Norway and Switzerland), The Republic of Korea',\n",
       " 'EFTA (Iceland, Liechtenstein, Norway, Switzerland) and Lebanon',\n",
       " 'Algeria, Argentina, Bangladesh, Benin, Bolivarian Republic of Venezuela, Bolivia, Brazil, Cameroon, Chile, Colombia, Cuba, Ecuador, Egypt, Former Yugoslav Republic of Macedonia, Ghana, Guinea, Guyana, India, Indonesia, Iran, Iraq, Korea, Libyan Arab Jamahiriya, Malaysia, Mexico, Morocco, Mozambique, Myanmar, Nicaragua, Nigeria, Pakistan, Peru, Philippines, Romania, Singapore, Sri Lanka, Sudan, Tanzania, Thailand, Trinidad and Tobago, Tunisia, Vietnam, Zimbabwe',\n",
       " 'Azerbaijan, Georgia, Moldova, Uzbekistan and Ukraine',\n",
       " 'MERCOSUR (Argentina, Brazil, Paraguay and Uruguay), Bolivia',\n",
       " 'Moldova, Bosnia & Herzegovina ',\n",
       " 'Russian Federation and Ukraine',\n",
       " 'Singapore - Korea',\n",
       " 'Turkey, Bosnia and Herzegovina',\n",
       " 'Ukraine and Uzbekistan']"
      ]
     },
     "execution_count": 766,
     "metadata": {},
     "output_type": "execute_result"
    }
   ],
   "source": [
    "# maybe a different pattern\n",
    "pattern1='\\w+\\s+and\\s+\\w+|\\w+\\s+\\&\\s+\\w+|\\w+\\s+\\-\\s+\\w+|\\W+\\s*and\\s+\\w+'\n",
    "tradeData.Membership[tradeData.Membership.str.contains(pat=pattern1,regex=True)].to_list()"
   ]
  },
  {
   "cell_type": "markdown",
   "metadata": {},
   "source": [
    "The _str.contains_ is not helping this time. We should use _str.extract_:"
   ]
  },
  {
   "cell_type": "code",
   "execution_count": 767,
   "metadata": {},
   "outputs": [
    {
     "data": {
      "text/plain": [
       "Bosnia and Herzegovina       7\n",
       "Vincent and the              5\n",
       "Trinidad and Tobago          5\n",
       "Antigua and Barbuda          5\n",
       "Kitts and Nevis              5\n",
       " and Tobago                  2\n",
       "Bosnia & Herzegovina         2\n",
       "Tome and Principe            2\n",
       "Suriname and Trinidad        2\n",
       "Republic and Slovenia        2\n",
       "Paraguay and Uruguay         1\n",
       "Uzbekistan and Ukraine       1\n",
       "Ukraine and Uzbekistan       1\n",
       "Turks and Caicos             1\n",
       "Singapore - Korea            1\n",
       "Pierre and Miquelon          1\n",
       "Georgia and the              1\n",
       "Norway and Switzerland       1\n",
       ") and Lebanon                1\n",
       "Federation and Ukraine       1\n",
       "Countries and Territories    1\n",
       "Coal and Steel               1\n",
       "Britain and Northern         1\n",
       ",) and Tunisia               1\n",
       ",) and Montenegro            1\n",
       ", and Venezuela              1\n",
       ")and European                1\n",
       "), and Norway                1\n",
       "Wallis and Futuna            1\n",
       "Name: count, dtype: int64"
      ]
     },
     "execution_count": 767,
     "metadata": {},
     "output_type": "execute_result"
    }
   ],
   "source": [
    "patternRecover1='('+pattern1+')'\n",
    "tradeData.Membership.str.extractall(patternRecover1).value_counts()"
   ]
  },
  {
   "cell_type": "markdown",
   "metadata": {},
   "source": [
    "Some are good. Let's keep the bad ones:"
   ]
  },
  {
   "cell_type": "code",
   "execution_count": 768,
   "metadata": {},
   "outputs": [
    {
     "data": {
      "text/plain": [
       "pandas.core.series.Series"
      ]
     },
     "execution_count": 768,
     "metadata": {},
     "output_type": "execute_result"
    }
   ],
   "source": [
    "# this is a data series\n",
    "type(tradeData.Membership.str.extractall(patternRecover1).value_counts())"
   ]
  },
  {
   "cell_type": "code",
   "execution_count": 769,
   "metadata": {},
   "outputs": [
    {
     "data": {
      "text/html": [
       "<div>\n",
       "<style scoped>\n",
       "    .dataframe tbody tr th:only-of-type {\n",
       "        vertical-align: middle;\n",
       "    }\n",
       "\n",
       "    .dataframe tbody tr th {\n",
       "        vertical-align: top;\n",
       "    }\n",
       "\n",
       "    .dataframe thead th {\n",
       "        text-align: right;\n",
       "    }\n",
       "</style>\n",
       "<table border=\"1\" class=\"dataframe\">\n",
       "  <thead>\n",
       "    <tr style=\"text-align: right;\">\n",
       "      <th></th>\n",
       "      <th>0</th>\n",
       "      <th>count</th>\n",
       "    </tr>\n",
       "  </thead>\n",
       "  <tbody>\n",
       "    <tr>\n",
       "      <th>0</th>\n",
       "      <td>Bosnia and Herzegovina</td>\n",
       "      <td>7</td>\n",
       "    </tr>\n",
       "    <tr>\n",
       "      <th>1</th>\n",
       "      <td>Vincent and the</td>\n",
       "      <td>5</td>\n",
       "    </tr>\n",
       "    <tr>\n",
       "      <th>2</th>\n",
       "      <td>Trinidad and Tobago</td>\n",
       "      <td>5</td>\n",
       "    </tr>\n",
       "    <tr>\n",
       "      <th>3</th>\n",
       "      <td>Antigua and Barbuda</td>\n",
       "      <td>5</td>\n",
       "    </tr>\n",
       "    <tr>\n",
       "      <th>4</th>\n",
       "      <td>Kitts and Nevis</td>\n",
       "      <td>5</td>\n",
       "    </tr>\n",
       "    <tr>\n",
       "      <th>5</th>\n",
       "      <td>and Tobago</td>\n",
       "      <td>2</td>\n",
       "    </tr>\n",
       "    <tr>\n",
       "      <th>6</th>\n",
       "      <td>Bosnia &amp; Herzegovina</td>\n",
       "      <td>2</td>\n",
       "    </tr>\n",
       "    <tr>\n",
       "      <th>7</th>\n",
       "      <td>Tome and Principe</td>\n",
       "      <td>2</td>\n",
       "    </tr>\n",
       "    <tr>\n",
       "      <th>8</th>\n",
       "      <td>Suriname and Trinidad</td>\n",
       "      <td>2</td>\n",
       "    </tr>\n",
       "    <tr>\n",
       "      <th>9</th>\n",
       "      <td>Republic and Slovenia</td>\n",
       "      <td>2</td>\n",
       "    </tr>\n",
       "    <tr>\n",
       "      <th>10</th>\n",
       "      <td>Paraguay and Uruguay</td>\n",
       "      <td>1</td>\n",
       "    </tr>\n",
       "    <tr>\n",
       "      <th>11</th>\n",
       "      <td>Uzbekistan and Ukraine</td>\n",
       "      <td>1</td>\n",
       "    </tr>\n",
       "    <tr>\n",
       "      <th>12</th>\n",
       "      <td>Ukraine and Uzbekistan</td>\n",
       "      <td>1</td>\n",
       "    </tr>\n",
       "    <tr>\n",
       "      <th>13</th>\n",
       "      <td>Turks and Caicos</td>\n",
       "      <td>1</td>\n",
       "    </tr>\n",
       "    <tr>\n",
       "      <th>14</th>\n",
       "      <td>Singapore - Korea</td>\n",
       "      <td>1</td>\n",
       "    </tr>\n",
       "    <tr>\n",
       "      <th>15</th>\n",
       "      <td>Pierre and Miquelon</td>\n",
       "      <td>1</td>\n",
       "    </tr>\n",
       "    <tr>\n",
       "      <th>16</th>\n",
       "      <td>Georgia and the</td>\n",
       "      <td>1</td>\n",
       "    </tr>\n",
       "    <tr>\n",
       "      <th>17</th>\n",
       "      <td>Norway and Switzerland</td>\n",
       "      <td>1</td>\n",
       "    </tr>\n",
       "    <tr>\n",
       "      <th>18</th>\n",
       "      <td>) and Lebanon</td>\n",
       "      <td>1</td>\n",
       "    </tr>\n",
       "    <tr>\n",
       "      <th>19</th>\n",
       "      <td>Federation and Ukraine</td>\n",
       "      <td>1</td>\n",
       "    </tr>\n",
       "    <tr>\n",
       "      <th>20</th>\n",
       "      <td>Countries and Territories</td>\n",
       "      <td>1</td>\n",
       "    </tr>\n",
       "    <tr>\n",
       "      <th>21</th>\n",
       "      <td>Coal and Steel</td>\n",
       "      <td>1</td>\n",
       "    </tr>\n",
       "    <tr>\n",
       "      <th>22</th>\n",
       "      <td>Britain and Northern</td>\n",
       "      <td>1</td>\n",
       "    </tr>\n",
       "    <tr>\n",
       "      <th>23</th>\n",
       "      <td>,) and Tunisia</td>\n",
       "      <td>1</td>\n",
       "    </tr>\n",
       "    <tr>\n",
       "      <th>24</th>\n",
       "      <td>,) and Montenegro</td>\n",
       "      <td>1</td>\n",
       "    </tr>\n",
       "    <tr>\n",
       "      <th>25</th>\n",
       "      <td>, and Venezuela</td>\n",
       "      <td>1</td>\n",
       "    </tr>\n",
       "    <tr>\n",
       "      <th>26</th>\n",
       "      <td>)and European</td>\n",
       "      <td>1</td>\n",
       "    </tr>\n",
       "    <tr>\n",
       "      <th>27</th>\n",
       "      <td>), and Norway</td>\n",
       "      <td>1</td>\n",
       "    </tr>\n",
       "    <tr>\n",
       "      <th>28</th>\n",
       "      <td>Wallis and Futuna</td>\n",
       "      <td>1</td>\n",
       "    </tr>\n",
       "  </tbody>\n",
       "</table>\n",
       "</div>"
      ],
      "text/plain": [
       "                            0  count\n",
       "0      Bosnia and Herzegovina      7\n",
       "1             Vincent and the      5\n",
       "2         Trinidad and Tobago      5\n",
       "3         Antigua and Barbuda      5\n",
       "4             Kitts and Nevis      5\n",
       "5                  and Tobago      2\n",
       "6        Bosnia & Herzegovina      2\n",
       "7           Tome and Principe      2\n",
       "8       Suriname and Trinidad      2\n",
       "9       Republic and Slovenia      2\n",
       "10       Paraguay and Uruguay      1\n",
       "11     Uzbekistan and Ukraine      1\n",
       "12     Ukraine and Uzbekistan      1\n",
       "13           Turks and Caicos      1\n",
       "14          Singapore - Korea      1\n",
       "15        Pierre and Miquelon      1\n",
       "16            Georgia and the      1\n",
       "17     Norway and Switzerland      1\n",
       "18              ) and Lebanon      1\n",
       "19     Federation and Ukraine      1\n",
       "20  Countries and Territories      1\n",
       "21             Coal and Steel      1\n",
       "22       Britain and Northern      1\n",
       "23             ,) and Tunisia      1\n",
       "24          ,) and Montenegro      1\n",
       "25            , and Venezuela      1\n",
       "26              )and European      1\n",
       "27              ), and Norway      1\n",
       "28          Wallis and Futuna      1"
      ]
     },
     "execution_count": 769,
     "metadata": {},
     "output_type": "execute_result"
    }
   ],
   "source": [
    "# drop the index into data frame\n",
    "tradeData.Membership.str.extractall(patternRecover1).value_counts().reset_index()"
   ]
  },
  {
   "cell_type": "code",
   "execution_count": 770,
   "metadata": {},
   "outputs": [
    {
     "data": {
      "text/plain": [
       "0        Bosnia and Herzegovina\n",
       "1               Vincent and the\n",
       "2           Trinidad and Tobago\n",
       "3           Antigua and Barbuda\n",
       "4               Kitts and Nevis\n",
       "5                    and Tobago\n",
       "6          Bosnia & Herzegovina\n",
       "7             Tome and Principe\n",
       "8         Suriname and Trinidad\n",
       "9         Republic and Slovenia\n",
       "10         Paraguay and Uruguay\n",
       "11       Uzbekistan and Ukraine\n",
       "12       Ukraine and Uzbekistan\n",
       "13             Turks and Caicos\n",
       "14            Singapore - Korea\n",
       "15          Pierre and Miquelon\n",
       "16              Georgia and the\n",
       "17       Norway and Switzerland\n",
       "18                ) and Lebanon\n",
       "19       Federation and Ukraine\n",
       "20    Countries and Territories\n",
       "21               Coal and Steel\n",
       "22         Britain and Northern\n",
       "23               ,) and Tunisia\n",
       "24            ,) and Montenegro\n",
       "25              , and Venezuela\n",
       "26                )and European\n",
       "27                ), and Norway\n",
       "28            Wallis and Futuna\n",
       "Name: 0, dtype: object"
      ]
     },
     "execution_count": 770,
     "metadata": {},
     "output_type": "execute_result"
    }
   ],
   "source": [
    "# keep one column\n",
    "columnToWatch=tradeData.Membership.str.extractall(patternRecover1).value_counts().reset_index().iloc[:,0]\n",
    "columnToWatch"
   ]
  },
  {
   "cell_type": "code",
   "execution_count": 771,
   "metadata": {},
   "outputs": [
    {
     "data": {
      "text/plain": [
       "8      Suriname and Trinidad\n",
       "9      Republic and Slovenia\n",
       "10      Paraguay and Uruguay\n",
       "11    Uzbekistan and Ukraine\n",
       "12    Ukraine and Uzbekistan\n",
       "14         Singapore - Korea\n",
       "17    Norway and Switzerland\n",
       "18             ) and Lebanon\n",
       "19    Federation and Ukraine\n",
       "23            ,) and Tunisia\n",
       "24         ,) and Montenegro\n",
       "25           , and Venezuela\n",
       "26             )and European\n",
       "27             ), and Norway\n",
       "Name: 0, dtype: object"
      ]
     },
     "execution_count": 771,
     "metadata": {},
     "output_type": "execute_result"
    }
   ],
   "source": [
    "# keep the ones that will need a comma\n",
    "positionsToChange=[8,9,10,11,12,14,17,18,19,23,24,25,26,27]\n",
    "# keep one column\n",
    "columnToWatch.iloc[positionsToChange,]"
   ]
  },
  {
   "cell_type": "code",
   "execution_count": 772,
   "metadata": {},
   "outputs": [
    {
     "data": {
      "text/plain": [
       "['Suriname and Trinidad',\n",
       " 'Republic and Slovenia',\n",
       " 'Paraguay and Uruguay',\n",
       " 'Uzbekistan and Ukraine',\n",
       " 'Ukraine and Uzbekistan',\n",
       " 'Singapore - Korea',\n",
       " 'Norway and Switzerland',\n",
       " ') and Lebanon',\n",
       " 'Federation and Ukraine',\n",
       " ',) and Tunisia',\n",
       " ',) and Montenegro',\n",
       " ', and Venezuela',\n",
       " ')and European',\n",
       " '), and Norway']"
      ]
     },
     "execution_count": 772,
     "metadata": {},
     "output_type": "execute_result"
    }
   ],
   "source": [
    "#list of wrong\n",
    "wrongText=[x for x in columnToWatch.iloc[positionsToChange,]]\n",
    "wrongText"
   ]
  },
  {
   "cell_type": "code",
   "execution_count": 773,
   "metadata": {},
   "outputs": [
    {
     "data": {
      "text/plain": [
       "['Suriname, Trinidad',\n",
       " 'Republic, Slovenia',\n",
       " 'Paraguay, Uruguay',\n",
       " 'Uzbekistan, Ukraine',\n",
       " 'Ukraine, Uzbekistan',\n",
       " 'Singapore, Korea',\n",
       " 'Norway, Switzerland',\n",
       " ', Lebanon',\n",
       " 'Federation, Ukraine',\n",
       " ', Tunisia',\n",
       " ', Montenegro',\n",
       " ', Venezuela',\n",
       " ', European',\n",
       " ', Norway']"
      ]
     },
     "execution_count": 773,
     "metadata": {},
     "output_type": "execute_result"
    }
   ],
   "source": [
    "#list of good\n",
    "import re\n",
    "correctedText=[re.sub(\"\\W+and|\\W*\\&|\\W*\\-\",\",\",x) for x in columnToWatch.iloc[positionsToChange,]]\n",
    "correctedText"
   ]
  },
  {
   "cell_type": "code",
   "execution_count": 774,
   "metadata": {},
   "outputs": [
    {
     "data": {
      "text/plain": [
       "[('Suriname and Trinidad', 'Suriname, Trinidad'),\n",
       " ('Republic and Slovenia', 'Republic, Slovenia'),\n",
       " ('Paraguay and Uruguay', 'Paraguay, Uruguay'),\n",
       " ('Uzbekistan and Ukraine', 'Uzbekistan, Ukraine'),\n",
       " ('Ukraine and Uzbekistan', 'Ukraine, Uzbekistan'),\n",
       " ('Singapore - Korea', 'Singapore, Korea'),\n",
       " ('Norway and Switzerland', 'Norway, Switzerland'),\n",
       " (') and Lebanon', ', Lebanon'),\n",
       " ('Federation and Ukraine', 'Federation, Ukraine'),\n",
       " (',) and Tunisia', ', Tunisia'),\n",
       " (',) and Montenegro', ', Montenegro'),\n",
       " (', and Venezuela', ', Venezuela'),\n",
       " (')and European', ', European'),\n",
       " ('), and Norway', ', Norway')]"
      ]
     },
     "execution_count": 774,
     "metadata": {},
     "output_type": "execute_result"
    }
   ],
   "source": [
    "# combined\n",
    "[(bad,good) for bad,good in zip(wrongText, correctedText)]"
   ]
  },
  {
   "cell_type": "code",
   "execution_count": 775,
   "metadata": {},
   "outputs": [],
   "source": [
    "for bad,good in zip(wrongText, correctedText):\n",
    "    tradeData['Membership']=tradeData.Membership.str.replace(bad,good,regex=False)"
   ]
  },
  {
   "cell_type": "markdown",
   "metadata": {},
   "source": [
    "Let's re run and verify:"
   ]
  },
  {
   "cell_type": "code",
   "execution_count": 776,
   "metadata": {},
   "outputs": [
    {
     "data": {
      "text/plain": [
       "Bosnia and Herzegovina       7\n",
       "Trinidad and Tobago          7\n",
       "Antigua and Barbuda          5\n",
       "Kitts and Nevis              5\n",
       "Vincent and the              5\n",
       "Bosnia & Herzegovina         2\n",
       "Tome and Principe            2\n",
       "Britain and Northern         1\n",
       "Coal and Steel               1\n",
       "Countries and Territories    1\n",
       "Georgia and the              1\n",
       "Pierre and Miquelon          1\n",
       "Turks and Caicos             1\n",
       "Wallis and Futuna            1\n",
       "Name: count, dtype: int64"
      ]
     },
     "execution_count": 776,
     "metadata": {},
     "output_type": "execute_result"
    }
   ],
   "source": [
    "tradeData.Membership.str.extractall(patternRecover1).value_counts()"
   ]
  },
  {
   "cell_type": "markdown",
   "metadata": {},
   "source": [
    "### Challenge 3: Clean country names\n",
    "\n",
    "Notice that in the previous steps some country names look troublesome:\n",
    "\n"
   ]
  },
  {
   "cell_type": "code",
   "execution_count": 777,
   "metadata": {},
   "outputs": [
    {
     "data": {
      "text/plain": [
       "['Albania, Bosnia & Herzegovina, Bulgaria, Croatia, Macedonia, Moldova, Montenegro, Romania, Serbia',\n",
       " 'China (Taiwan), Nicaragua',\n",
       " 'Jordan, United Arab Emirates (UAE)',\n",
       " 'Moldova, Bosnia & Herzegovina ']"
      ]
     },
     "execution_count": 777,
     "metadata": {},
     "output_type": "execute_result"
    }
   ],
   "source": [
    "tradeData.Membership[tradeData.Membership.str.contains('\\w+\\s*&|\\(\\w+\\)',regex=True)].to_list()"
   ]
  },
  {
   "cell_type": "code",
   "execution_count": 778,
   "metadata": {},
   "outputs": [
    {
     "data": {
      "text/plain": [
       "Bosnia &    2\n",
       "(Taiwan)    1\n",
       "(UAE)       1\n",
       "Name: count, dtype: int64"
      ]
     },
     "execution_count": 778,
     "metadata": {},
     "output_type": "execute_result"
    }
   ],
   "source": [
    "tradeData.Membership.str.extractall('(\\w+\\s*&|\\(\\w+\\))').value_counts()"
   ]
  },
  {
   "cell_type": "markdown",
   "metadata": {},
   "source": [
    "Let's solve the obvious one:"
   ]
  },
  {
   "cell_type": "code",
   "execution_count": 779,
   "metadata": {},
   "outputs": [],
   "source": [
    "tradeData['Membership']=tradeData.Membership.str.replace('Bosnia & Herzegovina','Bosnia and Herzegovina',regex=False)"
   ]
  },
  {
   "cell_type": "markdown",
   "metadata": {},
   "source": [
    "We should also check for Bosnia and Herzegovina:"
   ]
  },
  {
   "cell_type": "code",
   "execution_count": 780,
   "metadata": {},
   "outputs": [
    {
     "data": {
      "text/plain": [
       "['Bosnia, Croatia, Herzegovina']"
      ]
     },
     "execution_count": 780,
     "metadata": {},
     "output_type": "execute_result"
    }
   ],
   "source": [
    "tradeData.Membership[tradeData.Membership.str.contains('Bosnia\\s*,|,\\s*Herzegovina',regex=True)].to_list()"
   ]
  },
  {
   "cell_type": "code",
   "execution_count": 781,
   "metadata": {},
   "outputs": [],
   "source": [
    "tradeData['Membership']=tradeData.Membership.str.replace('Bosnia, Croatia, Herzegovina','Croatia, Bosnia and Herzegovina',regex=False)"
   ]
  },
  {
   "cell_type": "markdown",
   "metadata": {},
   "source": [
    "The _regex pattern_ is limiting the selection of more countries:"
   ]
  },
  {
   "cell_type": "code",
   "execution_count": 782,
   "metadata": {},
   "outputs": [
    {
     "data": {
      "text/plain": [
       "(Iceland, Liechtenstein, Norway, Switzerland)                                                                                                                                                                                                                                                                                                                                                                                                                                                                                                                                                                                                                                                                            23\n",
       "(Austria, Belgium, Denmark, Finland, France, Germany, Greece, Ireland, Italy, Luxembourg, Netherlands, Portugal, Spain, Sweden, United Kingdom)                                                                                                                                                                                                                                                                                                                                                                                                                                                                                                                                                                          10\n",
       "(Austria, Belgium, Bulgaria, Cyprus, Czech Republic, Denmark, Estonia, Finland, France, Germany, Greece, Hungary, Ireland, Italy, Latvia, Lithuania, Luxembourg, Malta, Netherlands, Poland, Portugal, Romania, Slovak Republic, Slovenia, Spain, Sweden, United Kingdom)                                                                                                                                                                                                                                                                                                                                                                                                                                                 6\n",
       "(Brunei Darussalam, Indonesia, Malaysia, Philippines, Singapore, Thailand)                                                                                                                                                                                                                                                                                                                                                                                                                                                                                                                                                                                                                                                3\n",
       "(Belgium, Denmark, France, Germany, Ireland, Italy, Luxembourg, Netherlands, United Kingdom)                                                                                                                                                                                                                                                                                                                                                                                                                                                                                                                                                                                                                              3\n",
       "(Belgium, Denmark, France, Germany, Greece, United Kingdom, Ireland, Italy, Luxembourg, Netherlands, Portugal, Spain)                                                                                                                                                                                                                                                                                                                                                                                                                                                                                                                                                                                                     3\n",
       "(Austria, Belgium, Denmark, Finland France, Germany, Greece, Ireland, Italy, Luxemburg, Netherlands, Portugal, Spain Sweden, United Kingdom)                                                                                                                                                                                                                                                                                                                                                                                                                                                                                                                                                                              3\n",
       "(Brunei Darussalam, Cambodia, Indonesia, Lao, Malaysia, Myanmar, Philippines, Singapore, Thailand, Vietnam)                                                                                                                                                                                                                                                                                                                                                                                                                                                                                                                                                                                                               2\n",
       "(Argentina, Brazil, Paraguay, Uruguay)                                                                                                                                                                                                                                                                                                                                                                                                                                                                                                                                                                                                                                                                                    2\n",
       "(Belgium, Denmark, France, Germany, Greece, Ireland, Italy, Luxembourg, Netherlands, Portugal, Spain, United Kingdom)                                                                                                                                                                                                                                                                                                                                                                                                                                                                                                                                                                                                     2\n",
       "((Austria, Belgium, Denmark, Finland, France, Germany, Greece, Ireland, Italy, Luxembourg, Netherlands, Portugal, Spain, Sweden, United Kingdom)                                                                                                                                                                                                                                                                                                                                                                                                                                                                                                                                                                          1\n",
       "(Czech Republic, Hungary, Poland, Romania, Slovak Republic, Slovenia)                                                                                                                                                                                                                                                                                                                                                                                                                                                                                                                                                                                                                                                     1\n",
       "(Bulgaria, Croatia, Czech Republic, Hungary, Poland, Romania, Slovak Republic, Slovenia)                                                                                                                                                                                                                                                                                                                                                                                                                                                                                                                                                                                                                                  1\n",
       "(Colombia, Ecuador, Peru, Venezuela)                                                                                                                                                                                                                                                                                                                                                                                                                                                                                                                                                                                                                                                                                      1\n",
       "(Former Yugoslav Republic of Macedonia)                                                                                                                                                                                                                                                                                                                                                                                                                                                                                                                                                                                                                                                                                   1\n",
       "(Czech Republic, Hungary, Poland, Slovak Republic)                                                                                                                                                                                                                                                                                                                                                                                                                                                                                                                                                                                                                                                                        1\n",
       "(Czech Republic, Hungary, Poland, Slovak Republic, Slovenia)                                                                                                                                                                                                                                                                                                                                                                                                                                                                                                                                                                                                                                                              1\n",
       "(Brunei Darussalam, Cambodia, Indonesia, Lao PDR, Malaysia, Myanmar, the Philippines, Singapore, Thailand, Viet Nam)                                                                                                                                                                                                                                                                                                                                                                                                                                                                                                                                                                                                      1\n",
       "(Iceland, Lichtenstein, Norway, Switzerland)                                                                                                                                                                                                                                                                                                                                                                                                                                                                                                                                                                                                                                                                              1\n",
       "(Iceland, Liechtenstein, Norway, Switzerland), SACU (Botswana, Lesotho, Namibia, South Africa, Swaziland)                                                                                                                                                                                                                                                                                                                                                                                                                                                                                                                                                                                                                 1\n",
       "(Palestine Authority)                                                                                                                                                                                                                                                                                                                                                                                                                                                                                                                                                                                                                                                                                                     1\n",
       "(South Asian Association for Regional Cooperation) (Bangladesh, Bhutan, India, Maldives, Nepal, Pakistan, Sri Lanka)                                                                                                                                                                                                                                                                                                                                                                                                                                                                                                                                                                                                      1\n",
       "(Taiwan)                                                                                                                                                                                                                                                                                                                                                                                                                                                                                                                                                                                                                                                                                                                  1\n",
       "(Brunei Darussalam, Cambodia, Indonesia, Lao, Malaysia, Myanmar, Philippines, Singapore, Thailand Vietnam)                                                                                                                                                                                                                                                                                                                                                                                                                                                                                                                                                                                                                1\n",
       "(Belgium, Denmark, Germany, Greece, Spain, France, Ireland, Italy, Luxembourg, Netherlands, Portugal, United Kingdom)                                                                                                                                                                                                                                                                                                                                                                                                                                                                                                                                                                                                     1\n",
       "(Bhutan, India, Myanmar, Nepal, Sri Lanka, Thailand)                                                                                                                                                                                                                                                                                                                                                                                                                                                                                                                                                                                                                                                                      1\n",
       "(Austria, Belgium, Denmark, Germany, Finland, France, Greece, Ireland, Italy, Luxembourg, Netherlands, Portugal, Spain, Sweden, United Kingdom)                                                                                                                                                                                                                                                                                                                                                                                                                                                                                                                                                                           1\n",
       "(Antigua and Barbuda, Barbados, Belize, Dominica, Grenada, Guyana, Jamaica, Montserrat, St. Kitts and Nevis, Saint Lucia, St. Vincent and the Grenadines, Suriname, Trinidad and Tobago)                                                                                                                                                                                                                                                                                                                                                                                                                                                                                                                                  1\n",
       "(Austria, Belgium, Bulgaria, Cyprus, Czech Republic, Denmark, Estonia, Finland, France, Germany, Greece, Hungary, Ireland, Italy, Latvia, Lithuania, Luxembourg, Malta, Netherlands, Poland, Portugal, Romania, Slovak Republic, Slovenia, Spain, Sweden, United Kingdom), Overseas Countries and Territories (Anguilla, Aruba, British Indian Ocean Territory, Cayman Islands, Falkland Islands (Islas Malvinas), French Polynesia, French Southern Territories, Greenland, Mayotte, Montserrat, Netherlands Antilles, New Caledonia, Pitcairn, Saint Helena, Saint Pierre and Miquelon, South Georgia and the South Sandwich Islands, Turks and Caicos Islands, Virgin Islands, British, Wallis and Futuna Islands)     1\n",
       "(Austria, Belgium, Bulgaria, Cyprus, Czech Republic, Denmark, Germany, Estonia, Finland, France, Greece, Hungary, Ireland, Italy, Latvia, Lithuania, Luxembourg, Malta, Netherlands, Poland, Portugal, Romania, Slovak Republic, Slovenia, Spain, Sweden, United Kingdom)                                                                                                                                                                                                                                                                                                                                                                                                                                                 1\n",
       "(Austria, Belgium, Czech Republic, Cyprus, Denmark, Estonia, Germany, Greece, Finland, France, Hungary, Ireland, Italy, Latvia, Lithuania, Luxembourg, Malta, Netherlands, Poland, Portugal, Slovenia, Slovak Republic, Spain, Sweden, United Kingdom)                                                                                                                                                                                                                                                                                                                                                                                                                                                                    1\n",
       "(Austria, Belgium, Denmark, Finland, France, Germany, Greece, Iceland, Ireland, Italy, Liechtenstein, Luxembourg, Netherlands, Norway, Portugal, Spain, Sweden, United Kingdom)                                                                                                                                                                                                                                                                                                                                                                                                                                                                                                                                           1\n",
       "(Austria, Belgium, Denmark, Finland, France, Germany, Greece, Ireland, Italy, Luxembourg, Netherlands, Northern Ireland, Portugal, Spain, Sweden, United Kingdom)                                                                                                                                                                                                                                                                                                                                                                                                                                                                                                                                                         1\n",
       "(Austria, Belgium, Denmark, Germany, Greece, Finland, France, Ireland, Italy, Luxembourg, Netherlands, Portugal, Spain, Sweden, United Kingdom)                                                                                                                                                                                                                                                                                                                                                                                                                                                                                                                                                                           1\n",
       "(Belgium, Denmark, Germany, Greece, Spain, Ireland, Italy, Luxembourt, The Netherlands, Austria, Portugal, Finland, Sweden, United Kingdom of Great Britain and Northern Ireland)                                                                                                                                                                                                                                                                                                                                                                                                                                                                                                                                         1\n",
       "(Autriche, Belgique, Danemark, Finlande, France, Allemagne, Grèce, Irelande, Italie, Luxembourg, Pays-Bas, Portugal, Espagne, Suède, Royaume-Uni)                                                                                                                                                                                                                                                                                                                                                                                                                                                                                                                                                                         1\n",
       "(Bahrain, Kuwait, Oman, Qatar, Saudi Arabia, United Arab Emirates)                                                                                                                                                                                                                                                                                                                                                                                                                                                                                                                                                                                                                                                        1\n",
       "(Belgium, Denmark, France, Germany, Greece, Ireland, Italy, Luxembourg, Netherlands, United Kingdom)                                                                                                                                                                                                                                                                                                                                                                                                                                                                                                                                                                                                                      1\n",
       "(Belgium, Denmark, France, Germany, Greece, Italy, Luxembourg, Netherlands, Portugal, Spain, United Kingdom)                                                                                                                                                                                                                                                                                                                                                                                                                                                                                                                                                                                                              1\n",
       "(Antigua and Barbuda, Bahamas, Barbados, Belize, Dominica, Dominican Republic, Grenada, Guyana, Jamaica, Saint Kitts and Nevis, Saint Lucia, Saint Vincent and the Grenadines, Suriname, Trinidad and Tobago, European Community (Austria, Belgium, Bulgaria, Cyprus, Czech Republic, Denmark, Estonia, Finland, France, Germany, Greece, Hungary, Ireland, Italy, Latvia, Lithuania, Luxembourg, Malta, Netherlands, Poland, Portugal, Romania, Slovak Republic, Slovenia, Spain, Sweden, United Kingdom,)                                                                                                                                                                                                               1\n",
       "(Belgium, Denmark, Germany, Greece, Spain, France, Ireland, Italy, Luxembourg, The Netherlands, Portugal, United Kingdom)                                                                                                                                                                                                                                                                                                                                                                                                                                                                                                                                                                                                 1\n",
       "(UAE)                                                                                                                                                                                                                                                                                                                                                                                                                                                                                                                                                                                                                                                                                                                     1\n",
       "Name: count, dtype: int64"
      ]
     },
     "execution_count": 782,
     "metadata": {},
     "output_type": "execute_result"
    }
   ],
   "source": [
    "tradeData.Membership.str.extractall('(\\(.+\\))').value_counts()"
   ]
  },
  {
   "cell_type": "markdown",
   "metadata": {},
   "source": [
    "We have these cases:\n",
    "- Former Yugoslav Republic of Macedonia\n",
    "- Taiwan\n",
    "- Palestine Authority\n",
    "- UAE\n",
    "\n",
    "Let's explore each case:"
   ]
  },
  {
   "cell_type": "code",
   "execution_count": 783,
   "metadata": {
    "scrolled": true
   },
   "outputs": [
    {
     "data": {
      "text/plain": [
       "['Albania, Macedonia',\n",
       " 'Bosnia and Herzegovina, Macedonia',\n",
       " 'Bulgaria, Macedonia',\n",
       " 'Albania, Bosnia and Herzegovina, Bulgaria, Croatia, Macedonia, Moldova, Montenegro, Romania, Serbia',\n",
       " 'China (Taiwan), Nicaragua',\n",
       " 'Croatia, Macedonia(Former Yugoslav Republic of Macedonia)',\n",
       " 'European Community ((Austria, Belgium, Denmark, Finland, France, Germany, Greece, Ireland, Italy, Luxembourg, Netherlands, Portugal, Spain, Sweden, United Kingdom), Former Yugoslav Republic of Macedonia',\n",
       " 'European Community (Austria, Belgium, Bulgaria, Cyprus, Czech Republic, Denmark, Estonia, Finland, France, Germany, Greece, Hungary, Ireland, Italy, Latvia, Lithuania, Luxembourg, Malta, Netherlands, Poland, Portugal, Romania, Slovak Republic, Slovenia, Spain, Sweden, United Kingdom), Palestine Liberation Organization',\n",
       " 'EFTA (Iceland, Liechtenstein, Norway, Switzerland), Palestine Liberation Organization',\n",
       " 'EFTA (Iceland, Liechtenstein, Norway, Switzerland), the Former Yugoslav Republic of Macedonia',\n",
       " 'Egypt, Palestine',\n",
       " 'El Salvador, Honduras, Taiwan',\n",
       " 'Former Yugoslav Republic of Macedonia, Moldova',\n",
       " 'Former Yugoslav Republic of Macedonia, Romania',\n",
       " 'Former Yugoslav Republic of Macedonia, Turkey',\n",
       " 'Former Yugoslav Republic of Macedonia, Ukraine',\n",
       " 'Algeria, Argentina, Bangladesh, Benin, Bolivarian Republic of Venezuela, Bolivia, Brazil, Cameroon, Chile, Colombia, Cuba, Ecuador, Egypt, Former Yugoslav Republic of Macedonia, Ghana, Guinea, Guyana, India, Indonesia, Iran, Iraq, Korea, Libyan Arab Jamahiriya, Malaysia, Mexico, Morocco, Mozambique, Myanmar, Nicaragua, Nigeria, Pakistan, Peru, Philippines, Romania, Singapore, Sri Lanka, Sudan, Tanzania, Thailand, Trinidad and Tobago, Tunisia, Vietnam, Zimbabwe',\n",
       " 'Jordan, United Arab Emirates (UAE)',\n",
       " 'Bahrain, Egypt, Iraq, Jordan, Kuwait, Lebanon, Libyan Arab Jamahiriya, Morocco, Oman, Qatar, Saudi Arabia, Sudan, Syrian Arab Republic, Tunisia, United Arab Emirates, Yemen, Algeria, Palestinian Authority.',\n",
       " 'Palestine Liberation Organization (Palestine Authority), Turkey',\n",
       " 'Panama, Taiwan',\n",
       " 'Slovenia, The Former Yugoslav Republic of Macedonia']"
      ]
     },
     "execution_count": 783,
     "metadata": {},
     "output_type": "execute_result"
    }
   ],
   "source": [
    "tradeData.Membership[tradeData.Membership.str.contains('Macedonia|Taiwan|Palesti|UAE',regex=True)].to_list()"
   ]
  },
  {
   "cell_type": "markdown",
   "metadata": {},
   "source": [
    "Let's go one by one:"
   ]
  },
  {
   "cell_type": "code",
   "execution_count": 784,
   "metadata": {},
   "outputs": [
    {
     "data": {
      "text/plain": [
       "Former Yugoslav Republic of Macedonia        5\n",
       " Former Yugoslav Republic of Macedonia       2\n",
       "The Former Yugoslav Republic of Macedonia    1\n",
       "the Former Yugoslav Republic of Macedonia    1\n",
       "Name: count, dtype: int64"
      ]
     },
     "execution_count": 784,
     "metadata": {},
     "output_type": "execute_result"
    }
   ],
   "source": [
    "tradeData.Membership.str.extract('(\\w*\\s*Former Yugoslav Republic of Macedonia)').value_counts()"
   ]
  },
  {
   "cell_type": "code",
   "execution_count": 785,
   "metadata": {
    "scrolled": true
   },
   "outputs": [
    {
     "data": {
      "text/plain": [
       "['Croatia, Macedonia(Former Yugoslav Republic of Macedonia)',\n",
       " 'European Community ((Austria, Belgium, Denmark, Finland, France, Germany, Greece, Ireland, Italy, Luxembourg, Netherlands, Portugal, Spain, Sweden, United Kingdom), Former Yugoslav Republic of Macedonia',\n",
       " 'EFTA (Iceland, Liechtenstein, Norway, Switzerland), the Former Yugoslav Republic of Macedonia',\n",
       " 'Former Yugoslav Republic of Macedonia, Moldova',\n",
       " 'Former Yugoslav Republic of Macedonia, Romania',\n",
       " 'Former Yugoslav Republic of Macedonia, Turkey',\n",
       " 'Former Yugoslav Republic of Macedonia, Ukraine',\n",
       " 'Algeria, Argentina, Bangladesh, Benin, Bolivarian Republic of Venezuela, Bolivia, Brazil, Cameroon, Chile, Colombia, Cuba, Ecuador, Egypt, Former Yugoslav Republic of Macedonia, Ghana, Guinea, Guyana, India, Indonesia, Iran, Iraq, Korea, Libyan Arab Jamahiriya, Malaysia, Mexico, Morocco, Mozambique, Myanmar, Nicaragua, Nigeria, Pakistan, Peru, Philippines, Romania, Singapore, Sri Lanka, Sudan, Tanzania, Thailand, Trinidad and Tobago, Tunisia, Vietnam, Zimbabwe',\n",
       " 'Slovenia, The Former Yugoslav Republic of Macedonia']"
      ]
     },
     "execution_count": 785,
     "metadata": {},
     "output_type": "execute_result"
    }
   ],
   "source": [
    "badMacedonia='[Macedonia]*\\(*\\w*\\s*Former Yugoslav Republic of Macedonia'\n",
    "tradeData.Membership[tradeData.Membership.str.contains(badMacedonia,regex=True)].to_list()"
   ]
  },
  {
   "cell_type": "code",
   "execution_count": 786,
   "metadata": {},
   "outputs": [],
   "source": [
    "\n",
    "tradeData['Membership']=tradeData.Membership.str.replace(badMacedonia,' Macedonia',regex=True)"
   ]
  },
  {
   "cell_type": "code",
   "execution_count": 787,
   "metadata": {},
   "outputs": [
    {
     "data": {
      "text/plain": [
       "[]"
      ]
     },
     "execution_count": 787,
     "metadata": {},
     "output_type": "execute_result"
    }
   ],
   "source": [
    "# verify\n",
    "tradeData.Membership[tradeData.Membership.str.contains('Former',regex=True)].to_list()"
   ]
  },
  {
   "cell_type": "code",
   "execution_count": 788,
   "metadata": {},
   "outputs": [
    {
     "data": {
      "text/plain": [
       "['Albania, Macedonia',\n",
       " 'Bosnia and Herzegovina, Macedonia',\n",
       " 'Bulgaria, Macedonia',\n",
       " 'Albania, Bosnia and Herzegovina, Bulgaria, Croatia, Macedonia, Moldova, Montenegro, Romania, Serbia',\n",
       " 'Croatia,  Macedonia)',\n",
       " 'European Community ((Austria, Belgium, Denmark, Finland, France, Germany, Greece, Ireland, Italy, Luxembourg, Netherlands, Portugal, Spain, Sweden, United Kingdom), Macedonia',\n",
       " 'EFTA (Iceland, Liechtenstein, Norway, Switzerland),  Macedonia',\n",
       " ' Macedonia, Moldova',\n",
       " ' Macedonia, Romania',\n",
       " ' Macedonia, Turkey',\n",
       " ' Macedonia, Ukraine',\n",
       " 'Algeria, Argentina, Bangladesh, Benin, Bolivarian Republic of Venezuela, Bolivia, Brazil, Cameroon, Chile, Colombia, Cuba, Ecuador, Egypt, Macedonia, Ghana, Guinea, Guyana, India, Indonesia, Iran, Iraq, Korea, Libyan Arab Jamahiriya, Malaysia, Mexico, Morocco, Mozambique, Myanmar, Nicaragua, Nigeria, Pakistan, Peru, Philippines, Romania, Singapore, Sri Lanka, Sudan, Tanzania, Thailand, Trinidad and Tobago, Tunisia, Vietnam, Zimbabwe',\n",
       " 'Slovenia,  Macedonia']"
      ]
     },
     "execution_count": 788,
     "metadata": {},
     "output_type": "execute_result"
    }
   ],
   "source": [
    "tradeData.Membership[tradeData.Membership.str.contains('Macedonia',regex=True)].to_list()"
   ]
  },
  {
   "cell_type": "code",
   "execution_count": 789,
   "metadata": {},
   "outputs": [
    {
     "data": {
      "text/plain": [
       "['China (Taiwan), Nicaragua',\n",
       " 'El Salvador, Honduras, Taiwan',\n",
       " 'Panama, Taiwan']"
      ]
     },
     "execution_count": 789,
     "metadata": {},
     "output_type": "execute_result"
    }
   ],
   "source": [
    "tradeData.Membership[tradeData.Membership.str.contains('Taiwan',regex=True)].to_list()"
   ]
  },
  {
   "cell_type": "code",
   "execution_count": 790,
   "metadata": {},
   "outputs": [],
   "source": [
    "tradeData['Membership']=tradeData.Membership.str.replace('China (Taiwan)','Taiwan',regex=False)"
   ]
  },
  {
   "cell_type": "code",
   "execution_count": 791,
   "metadata": {},
   "outputs": [
    {
     "data": {
      "text/plain": [
       "['European Community (Austria, Belgium, Bulgaria, Cyprus, Czech Republic, Denmark, Estonia, Finland, France, Germany, Greece, Hungary, Ireland, Italy, Latvia, Lithuania, Luxembourg, Malta, Netherlands, Poland, Portugal, Romania, Slovak Republic, Slovenia, Spain, Sweden, United Kingdom), Palestine Liberation Organization',\n",
       " 'EFTA (Iceland, Liechtenstein, Norway, Switzerland), Palestine Liberation Organization',\n",
       " 'Egypt, Palestine',\n",
       " 'Bahrain, Egypt, Iraq, Jordan, Kuwait, Lebanon, Libyan Arab Jamahiriya, Morocco, Oman, Qatar, Saudi Arabia, Sudan, Syrian Arab Republic, Tunisia, United Arab Emirates, Yemen, Algeria, Palestinian Authority.',\n",
       " 'Palestine Liberation Organization (Palestine Authority), Turkey']"
      ]
     },
     "execution_count": 791,
     "metadata": {},
     "output_type": "execute_result"
    }
   ],
   "source": [
    "tradeData.Membership[tradeData.Membership.str.contains('Palestin',regex=True)].to_list()"
   ]
  },
  {
   "cell_type": "code",
   "execution_count": 792,
   "metadata": {},
   "outputs": [],
   "source": [
    "tradeData['Membership']=tradeData.Membership.str.replace(' (Palestine Authority)','',regex=False)\n",
    "tradeData['Membership']=tradeData.Membership.str.replace('Palestine Liberation Organization','Palestine',regex=False)\n",
    "tradeData['Membership']=tradeData.Membership.str.replace('Palestinian Authority.','Palestine',regex=False)"
   ]
  },
  {
   "cell_type": "code",
   "execution_count": 793,
   "metadata": {},
   "outputs": [
    {
     "data": {
      "text/plain": [
       "['Gulf Cooperation Council (Bahrain, Kuwait, Oman, Qatar, Saudi Arabia, United Arab Emirates)',\n",
       " 'Jordan, United Arab Emirates (UAE)',\n",
       " 'Bahrain, Egypt, Iraq, Jordan, Kuwait, Lebanon, Libyan Arab Jamahiriya, Morocco, Oman, Qatar, Saudi Arabia, Sudan, Syrian Arab Republic, Tunisia, United Arab Emirates, Yemen, Algeria, Palestine']"
      ]
     },
     "execution_count": 793,
     "metadata": {},
     "output_type": "execute_result"
    }
   ],
   "source": [
    "tradeData.Membership[tradeData.Membership.str.contains('Emirates',regex=True)].to_list()"
   ]
  },
  {
   "cell_type": "code",
   "execution_count": 794,
   "metadata": {},
   "outputs": [],
   "source": [
    "tradeData['Membership']=tradeData.Membership.str.replace(' (UAE)','',regex=False)"
   ]
  },
  {
   "cell_type": "code",
   "execution_count": 795,
   "metadata": {},
   "outputs": [
    {
     "data": {
      "text/plain": [
       "Bosnia and Herzegovina       10\n",
       "Trinidad and Tobago           7\n",
       "Antigua and Barbuda           5\n",
       "Kitts and Nevis               5\n",
       "Vincent and the               5\n",
       "Tome and Principe             2\n",
       "Britain and Northern          1\n",
       "Coal and Steel                1\n",
       "Countries and Territories     1\n",
       "Georgia and the               1\n",
       "Pierre and Miquelon           1\n",
       "Turks and Caicos              1\n",
       "Wallis and Futuna             1\n",
       "Name: count, dtype: int64"
      ]
     },
     "execution_count": 795,
     "metadata": {},
     "output_type": "execute_result"
    }
   ],
   "source": [
    "# checking\n",
    "tradeData.Membership.str.extractall(patternRecover1).value_counts()"
   ]
  },
  {
   "cell_type": "markdown",
   "metadata": {},
   "source": [
    "This clean information may guide us to other issues:"
   ]
  },
  {
   "cell_type": "code",
   "execution_count": 796,
   "metadata": {},
   "outputs": [
    {
     "data": {
      "text/plain": [
       "['European Community (Belgium, Denmark, France, Germany, Ireland, Italy, Luxembourg, Netherlands, United Kingdom), Greece',\n",
       " 'European Community (Belgium, Denmark, France, Germany, Greece, Ireland, Italy, Luxembourg, Netherlands, United Kingdom), Portugal, Spain',\n",
       " 'European Community (Belgium, Denmark, France, Germany, Greece, Ireland, Italy, Luxembourg, Netherlands, Portugal, Spain, United Kingdom), Norway, Austria, Finland, Sweden',\n",
       " 'European Community (Austria, Belgium, Denmark, Germany, Greece, Finland, France, Ireland, Italy, Luxembourg, Netherlands, Portugal, Spain, Sweden, United Kingdom), Czech Republic, Cyprus, Estonia, Hungary, Latvia, Lithuania, Malta, Poland, Slovenia, Slovak Republic',\n",
       " 'European Community (Austria, Belgium, Czech Republic, Cyprus, Denmark, Estonia, Germany, Greece, Finland, France, Hungary, Ireland, Italy, Latvia, Lithuania, Luxembourg, Malta, Netherlands, Poland, Portugal, Slovenia, Slovak Republic, Spain, Sweden, United Kingdom), Bulgaria, Romania',\n",
       " 'Belgium, Denmark, France, Germany, Ireland, Italy, Luxembourg, Netherlands, United Kingdom',\n",
       " 'Austria, Belgium, Denmark, Germany, Greece, Finland, France, Ireland, Italy, Luxembourg, Netherlands, Portugal, Spain, Sweden, United Kingdom',\n",
       " 'European Community (Austria, Belgium, Denmark, Finland France, Germany, Greece, Ireland, Italy, Luxemburg, Netherlands, Portugal, Spain Sweden, United Kingdom), Albania',\n",
       " 'European Community (Austria, Belgium, Denmark, Finland France, Germany, Greece, Ireland, Italy, Luxemburg, Netherlands, Portugal, Spain Sweden, United Kingdom), Algeria',\n",
       " 'European Community (Austria, Belgium, Denmark, Finland, France, Germany, Greece, Ireland, Italy, Luxembourg, Netherlands, Portugal, Spain, Sweden, United Kingdom), Andorra',\n",
       " 'European Community (Austria, Belgium, Bulgaria, Cyprus, Czech Republic, Denmark, Estonia, Finland, France, Germany, Greece, Hungary, Ireland, Italy, Latvia, Lithuania, Luxembourg, Malta, Netherlands, Poland, Portugal, Romania, Slovak Republic, Slovenia, Spain, Sweden, United Kingdom),Bosnia and Herzegovina',\n",
       " 'European Community (Belgium, Denmark, Germany, Greece, Spain, France, Ireland, Italy, Luxembourg, Netherlands, Portugal, United Kingdom), Bulgaria',\n",
       " 'European Community (Austria, Belgium, Bulgaria, Cyprus, Czech Republic, Denmark, Estonia, Finland, France, Germany, Greece, Hungary, Ireland, Italy, Latvia, Lithuania, Luxembourg, Malta, Netherlands, Poland, Portugal, Romania, Slovak Republic, Slovenia, Spain, Sweden, United Kingdom), Cameroon',\n",
       " 'CARIFORUM States (Antigua and Barbuda, Bahamas, Barbados, Belize, Dominica, Dominican Republic, Grenada, Guyana, Jamaica, Saint Kitts and Nevis, Saint Lucia, Saint Vincent and the Grenadines, Suriname, Trinidad and Tobago, European Community (Austria, Belgium, Bulgaria, Cyprus, Czech Republic, Denmark, Estonia, Finland, France, Germany, Greece, Hungary, Ireland, Italy, Latvia, Lithuania, Luxembourg, Malta, Netherlands, Poland, Portugal, Romania, Slovak Republic, Slovenia, Spain, Sweden, United Kingdom,)',\n",
       " 'European Community (Austria, Belgium, Denmark, Germany, Finland, France, Greece, Ireland, Italy, Luxembourg, Netherlands, Portugal, Spain, Sweden, United Kingdom), Chile',\n",
       " \"European Community (Austria, Belgium, Bulgaria, Cyprus, Czech Republic, Denmark, Germany, Estonia, Finland, France, Greece, Hungary, Ireland, Italy, Latvia, Lithuania, Luxembourg, Malta, Netherlands, Poland, Portugal, Romania, Slovak Republic, Slovenia, Spain, Sweden, United Kingdom), Cote d'Ivoire\",\n",
       " 'European Community (Austria, Belgium, Bulgaria, Cyprus, Czech Republic, Denmark, Estonia, Finland, France, Germany, Greece, Hungary, Ireland, Italy, Latvia, Lithuania, Luxembourg, Malta, Netherlands, Poland, Portugal, Romania, Slovak Republic, Slovenia, Spain, Sweden, United Kingdom), Croatia',\n",
       " 'European Community (Belgium, Denmark, France, Germany, Greece, United Kingdom, Ireland, Italy, Luxembourg, Netherlands, Portugal, Spain), Cyprus',\n",
       " 'European Community (Austria, Belgium, Denmark, Finland, France, Germany, Greece, Ireland, Italy, Luxembourg, Netherlands, Portugal, Spain, Sweden, United Kingdom), Czech Republic',\n",
       " 'European Community (Austria, Belgium, Denmark, Finland, France, Germany, Greece, Ireland, Italy, Luxembourg, Netherlands, Portugal, Spain, Sweden, United Kingdom), Faroe Islands',\n",
       " 'European Community ((Austria, Belgium, Denmark, Finland, France, Germany, Greece, Ireland, Italy, Luxembourg, Netherlands, Portugal, Spain, Sweden, United Kingdom), Macedonia',\n",
       " 'European Community (Belgium, Denmark, France, Germany, Greece, United Kingdom, Ireland, Italy, Luxembourg, Netherlands, Portugal, Spain), Hungary',\n",
       " 'European Community (Belgium, Denmark, France, Germany, Greece, United Kingdom, Ireland, Italy, Luxembourg, Netherlands, Portugal, Spain), Iceland',\n",
       " 'European Community (Austria, Belgium, Denmark, Finland, France, Germany, Greece, Ireland, Italy, Luxembourg, Netherlands, Northern Ireland, Portugal, Spain, Sweden, United Kingdom), Israel',\n",
       " 'European Community (Belgium, Denmark, Germany, Greece, Spain, Ireland, Italy, Luxembourt, The Netherlands, Austria, Portugal, Finland, Sweden, United Kingdom of Great Britain and Northern Ireland), Jordan',\n",
       " 'European Community (Austria, Belgium, Denmark, Finland, France, Germany, Greece, Ireland, Italy, Luxembourg, Netherlands, Portugal, Spain, Sweden, United Kingdom), Latvia',\n",
       " 'European Community (Belgium, Denmark, France, Germany, Ireland, Italy, Luxembourg, Netherlands, United Kingdom), Lebanon',\n",
       " 'European Community (Austria, Belgium, Bulgaria, Cyprus, Czech Republic, Denmark, Estonia, Finland, France, Germany, Greece, Hungary, Ireland, Italy, Latvia, Lithuania, Luxembourg, Malta, Netherlands, Poland, Portugal, Romania, Slovak Republic, Slovenia, Spain, Sweden, United Kingdom), Lebanon',\n",
       " 'European Community (Austria, Belgium, Denmark, Finland, France, Germany, Greece, Ireland, Italy, Luxembourg, Netherlands, Portugal, Spain, Sweden, United Kingdom), Lithuania',\n",
       " 'European Community (Austria, Belgium, Denmark, Finland France, Germany, Greece, Ireland, Italy, Luxemburg, Netherlands, Portugal, Spain Sweden, United Kingdom), Malta',\n",
       " 'European Community (Austria, Belgium, Denmark, Finland, France, Germany, Greece, Ireland, Italy, Luxembourg, Netherlands, Portugal, Spain, Sweden, United Kingdom), Mexico',\n",
       " 'European Community (Austria, Belgium, Bulgaria, Cyprus, Czech Republic, Denmark, Estonia, Finland, France, Germany, Greece, Hungary, Ireland, Italy, Latvia, Lithuania, Luxembourg, Malta, Netherlands, Poland, Portugal, Romania, Slovak Republic, Slovenia, Spain, Sweden, United Kingdom, Montenegro',\n",
       " 'European Communitiy (Austria, Belgium, Denmark, Finland, France, Germany, Greece, Ireland, Italy, Luxembourg, Netherlands, Portugal, Spain, Sweden, United Kingdom), Morocco',\n",
       " 'European Community (Austria, Belgium, Denmark, Finland, France, Germany, Greece, Ireland, Italy, Luxembourg, Netherlands, Portugal, Spain, Sweden, United Kingdom, Norway',\n",
       " 'European Community (Austria, Belgium, Bulgaria, Cyprus, Czech Republic, Denmark, Estonia, Finland, France, Germany, Greece, Hungary, Ireland, Italy, Latvia, Lithuania, Luxembourg, Malta, Netherlands, Poland, Portugal, Romania, Slovak Republic, Slovenia, Spain, Sweden, United Kingdom), Overseas Countries and Territories (Anguilla, Aruba, British Indian Ocean Territory, Cayman Islands, Falkland Islands (Islas Malvinas), French Polynesia, French Southern Territories, Greenland, Mayotte, Montserrat, Netherlands Antilles, New Caledonia, Pitcairn, Saint Helena, Saint Pierre and Miquelon, South Georgia and the South Sandwich Islands, Turks and Caicos Islands, Virgin Islands, British, Wallis and Futuna Islands)',\n",
       " 'European Community (Austria, Belgium, Bulgaria, Cyprus, Czech Republic, Denmark, Estonia, Finland, France, Germany, Greece, Hungary, Ireland, Italy, Latvia, Lithuania, Luxembourg, Malta, Netherlands, Poland, Portugal, Romania, Slovak Republic, Slovenia, Spain, Sweden, United Kingdom), Palestine',\n",
       " 'European Community (Belgium, Denmark, France, Germany, Greece, Ireland, Italy, Luxembourg, Netherlands, Portugal, Spain, United Kingdom), Poland',\n",
       " 'European Community (Belgium, Denmark, Germany, Greece, Spain, France, Ireland, Italy, Luxembourg, The Netherlands, Portugal, United Kingdom), Romania',\n",
       " 'Austria, Belgium, Bulgaria, Cyprus, Czech Republic, Denmark, Estonia, Finland, France, Germany, Greece, Hungary, Ireland, Italy, Latvia, Lithuania, Luxembourg, Malta, Netherlands, Poland, Portugal, Romania, Slovak Republic, Slovenia, Spain, Sweden, United Kingdom, San Marino',\n",
       " 'European Community (Belgium, Denmark, France, Germany, Greece, Italy, Luxembourg, Netherlands, Portugal, Spain, United Kingdom), Slovak Republic',\n",
       " 'European Community (Austria, Belgium, Denmark, Finland, France, Germany, Greece, Ireland, Italy, Luxembourg, Netherlands, Portugal, Spain, Sweden, United Kingdom), Slovenia',\n",
       " 'European Community (Austria, Belgium, Denmark, Finland, France, Germany, Greece, Ireland, Italy, Luxembourg, Netherlands, Portugal, Spain, Sweden, United Kingdom), South Africa',\n",
       " 'European Community (Austria, Belgium, Bulgaria, Cyprus, Czech Republic, Denmark, Estonia, Finland, France, Germany, Greece, Hungary, Ireland, Italy, Latvia, Lithuania, Luxembourg, Malta, Netherlands, Poland, Portugal, Romania, Slovak Republic, Slovenia, Spain, Sweden, United Kingdom), Switzerland, Liechtenstein',\n",
       " 'European Community (Belgium, Denmark, France, Germany, Ireland, Italy, Luxembourg, Netherlands, United Kingdom), Syria',\n",
       " 'EC(Austria, Belgium, Bulgaria, Cyprus, Czech Republic, Denmark, Estonia, Finland, France, Germany, Greece, Hungary, Ireland, Italy, Latvia, Lithuania, Luxembourg, Malta, Netherlands, Poland, Portugal, Romania, Slovak Republic, Slovenia, Spain, Sweden, United Kingdom, Tunisia',\n",
       " 'European Community (Austria, Belgium, Denmark, Finland, France, Germany, Greece, Ireland, Italy, Luxembourg, Netherlands, Portugal, Spain, Sweden, United Kingdom), Turkey',\n",
       " 'European Economic Area (Austria, Belgium, Denmark, Finland, France, Germany, Greece, Iceland, Ireland, Italy, Liechtenstein, Luxembourg, Netherlands, Norway, Portugal, Spain, Sweden, United Kingdom)',\n",
       " 'Austria, Denmark, Norway, Portugal, Sweden, Switzerland, United Kingdom']"
      ]
     },
     "execution_count": 796,
     "metadata": {},
     "output_type": "execute_result"
    }
   ],
   "source": [
    "tradeData.Membership[tradeData.Membership.str.contains('United Kingdom\\s*[of Great Britain and]*',regex=True)].to_list()"
   ]
  },
  {
   "cell_type": "code",
   "execution_count": 797,
   "metadata": {},
   "outputs": [
    {
     "data": {
      "text/plain": [
       "United Kingdom                                          47\n",
       "United Kingdom of Great Britain and Northern Ireland     1\n",
       "Name: count, dtype: int64"
      ]
     },
     "execution_count": 797,
     "metadata": {},
     "output_type": "execute_result"
    }
   ],
   "source": [
    "tradeData.Membership.str.extractall('(United Kingdom\\s*[of Great Britain and Northern Ireland]*)').value_counts()"
   ]
  },
  {
   "cell_type": "markdown",
   "metadata": {},
   "source": [
    "Then,"
   ]
  },
  {
   "cell_type": "code",
   "execution_count": 798,
   "metadata": {},
   "outputs": [],
   "source": [
    "#then\n",
    "longUK='United Kingdom of Great Britain and Northern Ireland'\n",
    "tradeData['Membership']=tradeData.Membership.str.replace(longUK,\"United Kingdom\",regex=False)"
   ]
  },
  {
   "cell_type": "code",
   "execution_count": 799,
   "metadata": {},
   "outputs": [
    {
     "data": {
      "text/plain": [
       " Netherlands       46\n",
       "The Netherlands     2\n",
       "Name: count, dtype: int64"
      ]
     },
     "execution_count": 799,
     "metadata": {},
     "output_type": "execute_result"
    }
   ],
   "source": [
    "tradeData.Membership.str.extractall('(\\w*\\s*Netherlands)').value_counts()"
   ]
  },
  {
   "cell_type": "code",
   "execution_count": 800,
   "metadata": {},
   "outputs": [],
   "source": [
    "#then\n",
    "tradeData['Membership']=tradeData.Membership.str.replace('The Netherlands',\"Netherlands\",regex=False)"
   ]
  },
  {
   "cell_type": "markdown",
   "metadata": {},
   "source": [
    "Also..."
   ]
  },
  {
   "cell_type": "code",
   "execution_count": 801,
   "metadata": {},
   "outputs": [
    {
     "data": {
      "text/plain": [
       "Luxembourg    44\n",
       "Luxemburg      3\n",
       "Luxembourt     1\n",
       "Name: count, dtype: int64"
      ]
     },
     "execution_count": 801,
     "metadata": {},
     "output_type": "execute_result"
    }
   ],
   "source": [
    "tradeData.Membership.str.extractall('(Luxemb\\w+)').value_counts()"
   ]
  },
  {
   "cell_type": "code",
   "execution_count": 802,
   "metadata": {},
   "outputs": [],
   "source": [
    "# solving\n",
    "tradeData['Membership']=tradeData.Membership.str.replace('Luxemburg',\"Luxembourg\",regex=False)\n",
    "tradeData['Membership']=tradeData.Membership.str.replace('Luxembourt',\"Luxembourg\",regex=False)"
   ]
  },
  {
   "cell_type": "code",
   "execution_count": 803,
   "metadata": {},
   "outputs": [
    {
     "data": {
      "text/plain": [
       "United States               10\n",
       "United States of America     4\n",
       "Name: count, dtype: int64"
      ]
     },
     "execution_count": 803,
     "metadata": {},
     "output_type": "execute_result"
    }
   ],
   "source": [
    "tradeData.Membership.str.extractall('(United States\\s*\\w*\\s*\\w*)').value_counts()"
   ]
  },
  {
   "cell_type": "code",
   "execution_count": 804,
   "metadata": {},
   "outputs": [],
   "source": [
    "tradeData['Membership']=tradeData.Membership.str.replace('United States of America',\"United States\",regex=False)"
   ]
  },
  {
   "cell_type": "code",
   "execution_count": 805,
   "metadata": {},
   "outputs": [
    {
     "data": {
      "text/plain": [
       "Vietnam     6\n",
       "Viet Nam    1\n",
       "Name: count, dtype: int64"
      ]
     },
     "execution_count": 805,
     "metadata": {},
     "output_type": "execute_result"
    }
   ],
   "source": [
    "tradeData.Membership.str.extractall('(Viet\\s*\\w*)').value_counts()"
   ]
  },
  {
   "cell_type": "code",
   "execution_count": 806,
   "metadata": {},
   "outputs": [],
   "source": [
    "tradeData['Membership']=tradeData.Membership.str.replace('Viet Nam',\"Vietnam\",regex=False)"
   ]
  },
  {
   "cell_type": "markdown",
   "metadata": {},
   "source": [
    "Now, pay attention to Lao PDR:"
   ]
  },
  {
   "cell_type": "code",
   "execution_count": 807,
   "metadata": {},
   "outputs": [
    {
     "data": {
      "text/plain": [
       "Lao        4\n",
       "Laos       2\n",
       "Lao PDR    1\n",
       "Name: count, dtype: int64"
      ]
     },
     "execution_count": 807,
     "metadata": {},
     "output_type": "execute_result"
    }
   ],
   "source": [
    "tradeData.Membership.str.extractall('(Lao\\s*\\w*)').value_counts()"
   ]
  },
  {
   "cell_type": "code",
   "execution_count": 808,
   "metadata": {},
   "outputs": [
    {
     "data": {
      "text/plain": [
       "Lao,        4\n",
       "Laos,       2\n",
       "Lao PDR,    1\n",
       "Name: count, dtype: int64"
      ]
     },
     "execution_count": 808,
     "metadata": {},
     "output_type": "execute_result"
    }
   ],
   "source": [
    "# adding commma\n",
    "tradeData.Membership.str.extractall('(Lao\\w*\\s*\\w*,)').value_counts()"
   ]
  },
  {
   "cell_type": "code",
   "execution_count": 809,
   "metadata": {},
   "outputs": [
    {
     "data": {
      "text/plain": [
       "['Lao,', 'Laos,', 'Lao PDR,']"
      ]
     },
     "execution_count": 809,
     "metadata": {},
     "output_type": "execute_result"
    }
   ],
   "source": [
    "badLaos=[l for l in tradeData.Membership.str.extract('(Lao\\w*\\s*\\w*,)').value_counts().reset_index().iloc[:,0]]\n",
    "badLaos"
   ]
  },
  {
   "cell_type": "markdown",
   "metadata": {},
   "source": [
    "Then,"
   ]
  },
  {
   "cell_type": "code",
   "execution_count": 810,
   "metadata": {},
   "outputs": [],
   "source": [
    "for l in badLaos:\n",
    "    tradeData['Membership']=tradeData.Membership.str.replace(l,'Laos,',regex=False)"
   ]
  },
  {
   "cell_type": "code",
   "execution_count": 811,
   "metadata": {},
   "outputs": [
    {
     "data": {
      "text/plain": [
       " Venezuela                          6\n",
       "Bolivarian Republic of Venezuela    1\n",
       "Name: count, dtype: int64"
      ]
     },
     "execution_count": 811,
     "metadata": {},
     "output_type": "execute_result"
    }
   ],
   "source": [
    "tradeData.Membership.str.extract('(\\w*\\s*\\w*\\s*\\w*\\s*Venezuela)').value_counts()"
   ]
  },
  {
   "cell_type": "code",
   "execution_count": 812,
   "metadata": {},
   "outputs": [],
   "source": [
    "tradeData['Membership']=tradeData.Membership.str.replace('Bolivarian Republic of Venezuela',\"Venezuela\",regex=False)"
   ]
  },
  {
   "cell_type": "code",
   "execution_count": 813,
   "metadata": {},
   "outputs": [
    {
     "data": {
      "text/plain": [
       " Russia                5\n",
       " Russian Federation    1\n",
       "Russian Federation     1\n",
       "Name: count, dtype: int64"
      ]
     },
     "execution_count": 813,
     "metadata": {},
     "output_type": "execute_result"
    }
   ],
   "source": [
    "tradeData.Membership.str.extract('(\\w*\\s*Russia\\w*\\s*\\w*\\s*)').value_counts()"
   ]
  },
  {
   "cell_type": "code",
   "execution_count": 814,
   "metadata": {},
   "outputs": [],
   "source": [
    "tradeData['Membership']=tradeData.Membership.str.replace('Russian Federation',\"Russia\",regex=False)"
   ]
  },
  {
   "cell_type": "code",
   "execution_count": 815,
   "metadata": {},
   "outputs": [
    {
     "data": {
      "text/plain": [
       "Cote d'Ivoire    2\n",
       "Côte d'Ivoire    2\n",
       "Name: count, dtype: int64"
      ]
     },
     "execution_count": 815,
     "metadata": {},
     "output_type": "execute_result"
    }
   ],
   "source": [
    "tradeData.Membership.str.extract('(\\w*\\s*\\w\\WIvoir\\w+)').value_counts()"
   ]
  },
  {
   "cell_type": "code",
   "execution_count": 816,
   "metadata": {},
   "outputs": [],
   "source": [
    "tradeData['Membership']=tradeData.Membership.str.replace(\"Côte d'Ivoire\",\"Cote d'Ivoire\",regex=False)"
   ]
  },
  {
   "cell_type": "code",
   "execution_count": 817,
   "metadata": {},
   "outputs": [
    {
     "data": {
      "text/plain": [
       " Kyrgyzstan         3\n",
       " Kyrgyz             1\n",
       " Kyrgyz Republic    1\n",
       "Name: count, dtype: int64"
      ]
     },
     "execution_count": 817,
     "metadata": {},
     "output_type": "execute_result"
    }
   ],
   "source": [
    "tradeData.Membership.str.extract('(\\w*\\sKyrgyz\\w*\\s*\\w*)').value_counts()"
   ]
  },
  {
   "cell_type": "code",
   "execution_count": 818,
   "metadata": {},
   "outputs": [],
   "source": [
    "tradeData['Membership']=tradeData.Membership.str.replace(\"Kyrgyz Republic|Kyrgyzstan\",\"Kyrgyz\",regex=True)\n",
    "tradeData['Membership']=tradeData.Membership.str.replace(\"Kyrgyz\",\"Kyrgyz Republic\",regex=False)"
   ]
  },
  {
   "cell_type": "code",
   "execution_count": 819,
   "metadata": {},
   "outputs": [
    {
     "data": {
      "text/plain": [
       "Libyan Arab Jamahiriya    3\n",
       "Libya                     1\n",
       "Name: count, dtype: int64"
      ]
     },
     "execution_count": 819,
     "metadata": {},
     "output_type": "execute_result"
    }
   ],
   "source": [
    "\n",
    "tradeData.Membership.str.extract('(Libya\\w*\\s*\\w*\\s*\\w*)').value_counts()"
   ]
  },
  {
   "cell_type": "code",
   "execution_count": 820,
   "metadata": {},
   "outputs": [],
   "source": [
    "tradeData['Membership']=tradeData.Membership.str.replace(\"Libyan Arab Jamahiriya\",\"Libya\",regex=False)"
   ]
  },
  {
   "cell_type": "code",
   "execution_count": 821,
   "metadata": {},
   "outputs": [
    {
     "data": {
      "text/plain": [
       "Liechtenstein    29\n",
       "Lichtenstein      1\n",
       "Name: count, dtype: int64"
      ]
     },
     "execution_count": 821,
     "metadata": {},
     "output_type": "execute_result"
    }
   ],
   "source": [
    "#\n",
    "tradeData.Membership.str.extract('(\\w*tenstei\\w*)').value_counts()"
   ]
  },
  {
   "cell_type": "code",
   "execution_count": 822,
   "metadata": {},
   "outputs": [],
   "source": [
    "tradeData['Membership']=tradeData.Membership.str.replace(\"Lichtenstein\",\"Liechtenstein\",regex=False)"
   ]
  },
  {
   "cell_type": "code",
   "execution_count": 823,
   "metadata": {},
   "outputs": [
    {
     "data": {
      "text/plain": [
       "Slovak Republic    25\n",
       "Slovakia            3\n",
       "Name: count, dtype: int64"
      ]
     },
     "execution_count": 823,
     "metadata": {},
     "output_type": "execute_result"
    }
   ],
   "source": [
    "tradeData.Membership.str.extract('(Slovak\\w*\\s*\\w*)').value_counts()"
   ]
  },
  {
   "cell_type": "code",
   "execution_count": 824,
   "metadata": {},
   "outputs": [],
   "source": [
    "tradeData['Membership']=tradeData.Membership.str.replace(\"Slovakia\",\"Slovak Republic\",regex=False)"
   ]
  },
  {
   "cell_type": "code",
   "execution_count": 825,
   "metadata": {},
   "outputs": [
    {
     "data": {
      "text/plain": [
       "Syria                   3\n",
       "Syrian Arab Republic    1\n",
       "Name: count, dtype: int64"
      ]
     },
     "execution_count": 825,
     "metadata": {},
     "output_type": "execute_result"
    }
   ],
   "source": [
    "tradeData.Membership.str.extract('(Syri\\w*\\s*\\w*\\s*\\w*)').value_counts()"
   ]
  },
  {
   "cell_type": "code",
   "execution_count": 826,
   "metadata": {},
   "outputs": [],
   "source": [
    "tradeData['Membership']=tradeData.Membership.str.replace(\"Syrian Arab Republic\",\"Syria\",regex=False)"
   ]
  },
  {
   "cell_type": "code",
   "execution_count": 827,
   "metadata": {},
   "outputs": [
    {
     "data": {
      "text/plain": [
       " Philippines       9\n",
       "the Philippines    1\n",
       "Name: count, dtype: int64"
      ]
     },
     "execution_count": 827,
     "metadata": {},
     "output_type": "execute_result"
    }
   ],
   "source": [
    "tradeData.Membership.str.extractall('(\\w*\\s*Philip\\w*)').value_counts()"
   ]
  },
  {
   "cell_type": "code",
   "execution_count": 828,
   "metadata": {},
   "outputs": [],
   "source": [
    "tradeData['Membership']=tradeData.Membership.str.replace(\"the Philippines\",\"Philippines\",regex=False)"
   ]
  },
  {
   "cell_type": "code",
   "execution_count": 834,
   "metadata": {},
   "outputs": [
    {
     "data": {
      "text/plain": [
       ", Republic of Georgia                      1\n",
       ", Republic of Zaire                        1\n",
       "Burundi, United Republic of Cameroon       1\n",
       "Israel, Republic of Korea                  1\n",
       "People’s Republic of the Congo             1\n",
       "Principe, Republic of Chad                 1\n",
       "Republic of Armenia                        1\n",
       "Republic, Republic of Equatorial Guinea    1\n",
       "Rwanda, Republic of Sao Tome               1\n",
       "Switzerland), The Republic of Korea        1\n",
       "Name: count, dtype: int64"
      ]
     },
     "execution_count": 834,
     "metadata": {},
     "output_type": "execute_result"
    }
   ],
   "source": [
    "tradeData.Membership.str.extractall('(\\w*\\W*\\w*\\s*\\w*\\s*Republic\\sof\\s\\w*\\s*\\w*)').value_counts()"
   ]
  },
  {
   "cell_type": "code",
   "execution_count": 836,
   "metadata": {},
   "outputs": [],
   "source": [
    "# these are very similar\n",
    "tradeData['Membership']=tradeData.Membership.str.replace('The Republic of Korea',\"Korea\",regex=False)\n",
    "tradeData['Membership']=tradeData.Membership.str.replace('Republic of Korea',\"Korea\",regex=False)"
   ]
  },
  {
   "cell_type": "code",
   "execution_count": 838,
   "metadata": {},
   "outputs": [
    {
     "data": {
      "text/plain": [
       "Georgia              10\n",
       "Armenia               9\n",
       "Congo                 5\n",
       "Cameroon              4\n",
       "Zaire                 3\n",
       "Equatorial Guinea     2\n",
       "Sao Tome              2\n",
       "Chad                  1\n",
       "Name: count, dtype: int64"
      ]
     },
     "execution_count": 838,
     "metadata": {},
     "output_type": "execute_result"
    }
   ],
   "source": [
    "tradeData.Membership.str.extractall('(Armenia|Cameroon|Chad|Equatorial Guinea|Sao Tome|Zaire|Congo|Georgia)').value_counts()"
   ]
  },
  {
   "cell_type": "code",
   "execution_count": 655,
   "metadata": {},
   "outputs": [
    {
     "data": {
      "text/plain": [
       " Congo,                    4\n",
       "Republic of the Congo,     1\n",
       "Name: count, dtype: int64"
      ]
     },
     "execution_count": 655,
     "metadata": {},
     "output_type": "execute_result"
    }
   ],
   "source": [
    "tradeData.Membership.str.extractall('(\\w*\\s*\\w*\\s*\\w*\\s*Congo\\W*)').value_counts()"
   ]
  },
  {
   "cell_type": "code",
   "execution_count": 839,
   "metadata": {},
   "outputs": [],
   "source": [
    "tradeData['Membership']=tradeData.Membership.str.replace(\"Republic of Armenia\",\"Armenia\",regex=False)\n",
    "tradeData['Membership']=tradeData.Membership.str.replace(\"People’s Republic of the Congo\",\"Congo\",regex=False)\n",
    "tradeData['Membership']=tradeData.Membership.str.replace(\"Republic of Equatorial Guinea\",\"Equatorial Guinea\",regex=False)\n",
    "tradeData['Membership']=tradeData.Membership.str.replace(\"Republic of Georgia\",\"Georgia\",regex=False)\n",
    "tradeData['Membership']=tradeData.Membership.str.replace(\"Republic of Sao Tome and Principe\",\"Sao Tome and Principe\",regex=False)\n",
    "tradeData['Membership']=tradeData.Membership.str.replace(\"Republic of Zaire\",\"Zaire\",regex=False)\n",
    "tradeData['Membership']=tradeData.Membership.str.replace(\"United Republic of Cameroon\",\"Cameroon\",regex=False)\n"
   ]
  },
  {
   "cell_type": "markdown",
   "metadata": {},
   "source": [
    "Let's look for countries in French:"
   ]
  },
  {
   "cell_type": "code",
   "execution_count": 840,
   "metadata": {},
   "outputs": [
    {
     "data": {
      "text/plain": [
       "['Cameroun, Centrafricaine, Congo, Gabonaise, Guinée Équatoriale, Tchad',\n",
       " 'Communauté européenne (Autriche, Belgique, Danemark, Finlande, France, Allemagne, Grèce, Irelande, Italie, Luxembourg, Pays-Bas, Portugal, Espagne, Suède, Royaume-Uni), Malte',\n",
       " \"Bénin, Burkina Faso, Cote d'Ivoire, Mali, Niger, Sénégal, Togo \"]"
      ]
     },
     "execution_count": 840,
     "metadata": {},
     "output_type": "execute_result"
    }
   ],
   "source": [
    "tradeData.Membership[tradeData.Membership.str.contains('é',regex=True)].to_list()"
   ]
  },
  {
   "cell_type": "code",
   "execution_count": 841,
   "metadata": {},
   "outputs": [
    {
     "data": {
      "text/plain": [
       "['Cameroun, Centrafricaine, Congo, Gabonaise, Guinée Équatoriale, Tchad',\n",
       " 'Communauté européenne (Autriche, Belgique, Danemark, Finlande, France, Allemagne, Grèce, Irelande, Italie, Luxembourg, Pays-Bas, Portugal, Espagne, Suède, Royaume-Uni), Malte',\n",
       " \"Bénin, Burkina Faso, Cote d'Ivoire, Mali, Niger, Sénégal, Togo \"]"
      ]
     },
     "execution_count": 841,
     "metadata": {},
     "output_type": "execute_result"
    }
   ],
   "source": [
    "\n",
    "allFrench=tradeData.Membership[tradeData.Membership.str.contains('é',regex=True)].to_list()\n",
    "allFrench"
   ]
  },
  {
   "cell_type": "code",
   "execution_count": 842,
   "metadata": {},
   "outputs": [
    {
     "data": {
      "text/plain": [
       "['Cameroun',\n",
       " ' Centrafricaine',\n",
       " ' Congo',\n",
       " ' Gabonaise',\n",
       " ' Guinée Équatoriale',\n",
       " ' Tchad',\n",
       " 'Communauté européenne (Autriche',\n",
       " ' Belgique',\n",
       " ' Danemark',\n",
       " ' Finlande',\n",
       " ' France',\n",
       " ' Allemagne',\n",
       " ' Grèce',\n",
       " ' Irelande',\n",
       " ' Italie',\n",
       " ' Luxembourg',\n",
       " ' Pays-Bas',\n",
       " ' Portugal',\n",
       " ' Espagne',\n",
       " ' Suède',\n",
       " ' Royaume-Uni)',\n",
       " ' Malte',\n",
       " 'Bénin',\n",
       " ' Burkina Faso',\n",
       " \" Cote d'Ivoire\",\n",
       " ' Mali',\n",
       " ' Niger',\n",
       " ' Sénégal',\n",
       " ' Togo ']"
      ]
     },
     "execution_count": 842,
     "metadata": {},
     "output_type": "execute_result"
    }
   ],
   "source": [
    "frenchAll=[]\n",
    "for x in allFrench:\n",
    "    frenchAll.extend(x.split(\",\")) \n",
    "frenchAll"
   ]
  },
  {
   "cell_type": "code",
   "execution_count": 843,
   "metadata": {},
   "outputs": [
    {
     "data": {
      "text/plain": [
       "['Allemagne',\n",
       " 'Belgique',\n",
       " 'Burkina Faso',\n",
       " 'Bénin',\n",
       " 'Cameroun',\n",
       " 'Centrafricaine',\n",
       " 'Communauté européenne (Autriche',\n",
       " 'Congo',\n",
       " \"Cote d'Ivoire\",\n",
       " 'Danemark',\n",
       " 'Espagne',\n",
       " 'Finlande',\n",
       " 'France',\n",
       " 'Gabonaise',\n",
       " 'Grèce',\n",
       " 'Guinée Équatoriale',\n",
       " 'Irelande',\n",
       " 'Italie',\n",
       " 'Luxembourg',\n",
       " 'Mali',\n",
       " 'Malte',\n",
       " 'Niger',\n",
       " 'Pays-Bas',\n",
       " 'Portugal',\n",
       " 'Royaume-Uni)',\n",
       " 'Suède',\n",
       " 'Sénégal',\n",
       " 'Tchad',\n",
       " 'Togo']"
      ]
     },
     "execution_count": 843,
     "metadata": {},
     "output_type": "execute_result"
    }
   ],
   "source": [
    "frenchAll=[x.strip() for x in frenchAll]\n",
    "frenchAll=list(set(frenchAll)) # no repetitions\n",
    "frenchAll.sort() #alphabetic order\n",
    "frenchAll"
   ]
  },
  {
   "cell_type": "markdown",
   "metadata": {},
   "source": [
    " The countries that are spelled the same in English and French are: 'Burkina Faso', 'Congo', \"Cote d'Ivoire\", 'France', 'Luxembourg', 'Mali', 'Niger', 'Portugal', 'Togo'. These are the ones that need translation:"
   ]
  },
  {
   "cell_type": "code",
   "execution_count": 844,
   "metadata": {},
   "outputs": [],
   "source": [
    "inFrench=['Allemagne', 'Belgique', 'Bénin', 'Cameroun', 'Centrafricaine','Autriche', 'Danemark', 'Espagne', 'Finlande',\n",
    " 'Gabonaise', 'Grèce', 'Guinée Équatoriale', 'Irelande', 'Italie', 'Malte', 'Pays-Bas', 'Royaume-Uni', 'Suède', 'Sénégal','Tchad']\n",
    "inEnglish=['Germany', 'Belgium', 'Benin', 'Cameroon', 'Central African Republic','Austria', 'Denmark', 'Spain', 'Finland',\n",
    " 'Gabon', 'Greece', 'Equatorial Guinea', 'Ireland', 'Italy', 'Malta', 'Netherlands', 'United Kingdom', 'Sweden', 'Senegal','Chad']"
   ]
  },
  {
   "cell_type": "code",
   "execution_count": 845,
   "metadata": {},
   "outputs": [
    {
     "data": {
      "text/plain": [
       "[('Allemagne', 'Germany'),\n",
       " ('Belgique', 'Belgium'),\n",
       " ('Bénin', 'Benin'),\n",
       " ('Cameroun', 'Cameroon'),\n",
       " ('Centrafricaine', 'Central African Republic'),\n",
       " ('Autriche', 'Austria'),\n",
       " ('Danemark', 'Denmark'),\n",
       " ('Espagne', 'Spain'),\n",
       " ('Finlande', 'Finland'),\n",
       " ('Gabonaise', 'Gabon'),\n",
       " ('Grèce', 'Greece'),\n",
       " ('Guinée Équatoriale', 'Equatorial Guinea'),\n",
       " ('Irelande', 'Ireland'),\n",
       " ('Italie', 'Italy'),\n",
       " ('Malte', 'Malta'),\n",
       " ('Pays-Bas', 'Netherlands'),\n",
       " ('Royaume-Uni', 'United Kingdom'),\n",
       " ('Suède', 'Sweden'),\n",
       " ('Sénégal', 'Senegal'),\n",
       " ('Tchad', 'Chad')]"
      ]
     },
     "execution_count": 845,
     "metadata": {},
     "output_type": "execute_result"
    }
   ],
   "source": [
    "list(zip(inFrench,inEnglish))"
   ]
  },
  {
   "cell_type": "code",
   "execution_count": 846,
   "metadata": {},
   "outputs": [],
   "source": [
    "for f,e in zip(inFrench,inEnglish):\n",
    "    tradeData['Membership']=tradeData.Membership.str.replace(f,e,regex=False)"
   ]
  },
  {
   "cell_type": "code",
   "execution_count": null,
   "metadata": {},
   "outputs": [],
   "source": [
    "\n"
   ]
  },
  {
   "cell_type": "markdown",
   "metadata": {},
   "source": [
    "## Challenge 3: Remove/Preserve communities\n",
    "\n",
    "This could be an even greater challenge than the one before; this is not just a coding challenge, we also need to make more research. \n",
    "\n",
    "From the last data frame of counts:"
   ]
  },
  {
   "cell_type": "code",
   "execution_count": 847,
   "metadata": {},
   "outputs": [
    {
     "data": {
      "text/plain": [
       "Bosnia and Herzegovina       10\n",
       "Trinidad and Tobago           7\n",
       "Antigua and Barbuda           5\n",
       "Kitts and Nevis               5\n",
       "Vincent and the               5\n",
       "Tome and Principe             2\n",
       "Coal and Steel                1\n",
       "Countries and Territories     1\n",
       "Georgia and the               1\n",
       "Pierre and Miquelon           1\n",
       "Turks and Caicos              1\n",
       "Wallis and Futuna             1\n",
       "Name: count, dtype: int64"
      ]
     },
     "execution_count": 847,
     "metadata": {},
     "output_type": "execute_result"
    }
   ],
   "source": [
    "tradeData.Membership.str.extractall(patternRecover1).value_counts()"
   ]
  },
  {
   "cell_type": "code",
   "execution_count": 848,
   "metadata": {},
   "outputs": [
    {
     "data": {
      "text/plain": [
       "['European Community, European Atomic Energy Community, European Coal and Steel Community, Estonia']"
      ]
     },
     "execution_count": 848,
     "metadata": {},
     "output_type": "execute_result"
    }
   ],
   "source": [
    "#let's check a weird case:\n",
    "tradeData.Membership[tradeData.Membership.str.contains('Coal and Steel',regex=False)].to_list()"
   ]
  },
  {
   "cell_type": "code",
   "execution_count": 849,
   "metadata": {},
   "outputs": [
    {
     "data": {
      "text/html": [
       "<div>\n",
       "<style scoped>\n",
       "    .dataframe tbody tr th:only-of-type {\n",
       "        vertical-align: middle;\n",
       "    }\n",
       "\n",
       "    .dataframe tbody tr th {\n",
       "        vertical-align: top;\n",
       "    }\n",
       "\n",
       "    .dataframe thead th {\n",
       "        text-align: right;\n",
       "    }\n",
       "</style>\n",
       "<table border=\"1\" class=\"dataframe\">\n",
       "  <thead>\n",
       "    <tr style=\"text-align: right;\">\n",
       "      <th></th>\n",
       "      <th>Common Name</th>\n",
       "      <th>Membership</th>\n",
       "      <th>Type</th>\n",
       "      <th>Date of Signature</th>\n",
       "      <th>Date of Entry into Force</th>\n",
       "      <th>WTO notified</th>\n",
       "      <th>In-force status</th>\n",
       "    </tr>\n",
       "  </thead>\n",
       "  <tbody>\n",
       "    <tr>\n",
       "      <th>143</th>\n",
       "      <td>EC - Estonia</td>\n",
       "      <td>European Community, European Atomic Energy Com...</td>\n",
       "      <td>Association Free Trade Agreement</td>\n",
       "      <td>07/18/1994</td>\n",
       "      <td>01/01/1995</td>\n",
       "      <td>yes</td>\n",
       "      <td>in force</td>\n",
       "    </tr>\n",
       "  </tbody>\n",
       "</table>\n",
       "</div>"
      ],
      "text/plain": [
       "      Common Name                                         Membership  \\\n",
       "143  EC - Estonia  European Community, European Atomic Energy Com...   \n",
       "\n",
       "                                 Type Date of Signature  \\\n",
       "143  Association Free Trade Agreement        07/18/1994   \n",
       "\n",
       "    Date of Entry into Force WTO notified In-force status  \n",
       "143               01/01/1995          yes        in force  "
      ]
     },
     "execution_count": 849,
     "metadata": {},
     "output_type": "execute_result"
    }
   ],
   "source": [
    "# more information\n",
    "tradeData[tradeData.Membership.str.contains('Coal and Steel',regex=False)]"
   ]
  },
  {
   "cell_type": "markdown",
   "metadata": {},
   "source": [
    "If you do some [research](https://en.wikipedia.org/wiki/European_Communities), you will find that those three communities, by the time of the agreeement had a set of countries: Belgium, France, Germany, Italy, Luxembourg, Netherlands, Denmark, Ireland, United Kingdom, Greece, Spain, and Portugal. Then,"
   ]
  },
  {
   "cell_type": "code",
   "execution_count": 850,
   "metadata": {},
   "outputs": [
    {
     "data": {
      "text/plain": [
       "'European Community, European Atomic Energy Community, European Coal and Steel Community, Estonia'"
      ]
     },
     "execution_count": 850,
     "metadata": {},
     "output_type": "execute_result"
    }
   ],
   "source": [
    "tradeData.loc[143,'Membership']"
   ]
  },
  {
   "cell_type": "code",
   "execution_count": 851,
   "metadata": {},
   "outputs": [],
   "source": [
    "#change\n",
    "rightText='Belgium, France, Germany, Italy, Luxembourg, Netherlands, Denmark, Ireland, United Kingdom, Greece, Spain, Portugal, Estonia'\n",
    "tradeData.loc[143,'Membership']=rightText"
   ]
  },
  {
   "cell_type": "markdown",
   "metadata": {},
   "source": [
    "Again, let's pay attention to the data frame of counts:"
   ]
  },
  {
   "cell_type": "code",
   "execution_count": 852,
   "metadata": {},
   "outputs": [
    {
     "data": {
      "text/plain": [
       "Bosnia and Herzegovina       10\n",
       "Trinidad and Tobago           7\n",
       "Antigua and Barbuda           5\n",
       "Kitts and Nevis               5\n",
       "Vincent and the               5\n",
       "Tome and Principe             2\n",
       "Countries and Territories     1\n",
       "Georgia and the               1\n",
       "Pierre and Miquelon           1\n",
       "Turks and Caicos              1\n",
       "Wallis and Futuna             1\n",
       "Name: count, dtype: int64"
      ]
     },
     "execution_count": 852,
     "metadata": {},
     "output_type": "execute_result"
    }
   ],
   "source": [
    "tradeData.Membership.str.extractall(patternRecover1).value_counts()"
   ]
  },
  {
   "cell_type": "markdown",
   "metadata": {},
   "source": [
    "Now pay attention to this:"
   ]
  },
  {
   "cell_type": "code",
   "execution_count": 853,
   "metadata": {},
   "outputs": [
    {
     "data": {
      "text/plain": [
       "['European Community (Austria, Belgium, Bulgaria, Cyprus, Czech Republic, Denmark, Estonia, Finland, France, Germany, Greece, Hungary, Ireland, Italy, Latvia, Lithuania, Luxembourg, Malta, Netherlands, Poland, Portugal, Romania, Slovak Republic, Slovenia, Spain, Sweden, United Kingdom), Overseas Countries and Territories (Anguilla, Aruba, British Indian Ocean Territory, Cayman Islands, Falkland Islands (Islas Malvinas), French Polynesia, French Southern Territories, Greenland, Mayotte, Montserrat, Netherlands Antilles, New Caledonia, Pitcairn, Saint Helena, Saint Pierre and Miquelon, South Georgia and the South Sandwich Islands, Turks and Caicos Islands, Virgin Islands, British, Wallis and Futuna Islands)']"
      ]
     },
     "execution_count": 853,
     "metadata": {},
     "output_type": "execute_result"
    }
   ],
   "source": [
    "tradeData.Membership[tradeData.Membership.str.contains('Countries and Territories',regex=False)].to_list()"
   ]
  },
  {
   "cell_type": "code",
   "execution_count": 854,
   "metadata": {},
   "outputs": [],
   "source": [
    "# this might help\n",
    "textMalvi='Falkland Islands (Islas Malvinas)'\n",
    "textMalvi2='Falkland or Malvinas'\n",
    "tradeData['Membership']=tradeData.Membership.str.replace(textMalvi,textMalvi2,regex=False)\n"
   ]
  },
  {
   "cell_type": "markdown",
   "metadata": {},
   "source": [
    "'Overseas Countries and Territories' [are not sovereign countries](https://international-partnerships.ec.europa.eu/countries/overseas-countries-and-territories_en). Let me check if they are present somewhere else:"
   ]
  },
  {
   "cell_type": "code",
   "execution_count": 855,
   "metadata": {},
   "outputs": [
    {
     "data": {
      "text/plain": [
       "'Anguilla|Aruba|British Indian Ocean Territory|Cayman Islands|Falkland or Malvinas|French Polynesia|French Southern Territories|Greenland|Mayotte|Montserrat|Netherlands Antilles|New Caledonia|Pitcairn|Saint Helena|Saint Pierre and Miquelon|South Georgia and the South Sandwich Islands|Turks and Caicos Islands|Virgin Islands|British|Wallis and Futuna Islands'"
      ]
     },
     "execution_count": 855,
     "metadata": {},
     "output_type": "execute_result"
    }
   ],
   "source": [
    "OCTs='Anguilla, Aruba, British Indian Ocean Territory, Cayman Islands, Falkland or Malvinas, French Polynesia, French Southern Territories, Greenland, Mayotte, Montserrat, Netherlands Antilles, New Caledonia, Pitcairn, Saint Helena, Saint Pierre and Miquelon, South Georgia and the South Sandwich Islands, Turks and Caicos Islands, Virgin Islands, British, Wallis and Futuna Islands'\n",
    "OCTs=OCTs.split(', ')\n",
    "OCTs=('|').join(OCTs)\n",
    "OCTs"
   ]
  },
  {
   "cell_type": "code",
   "execution_count": 856,
   "metadata": {},
   "outputs": [
    {
     "data": {
      "text/plain": [
       "['Antigua, Bahamas, Barbados, Belize, Dominica, Grenada, Guyana, Jamaica, Montserrat, St. Kitts-Nevis-Anguilla, St. Lucia, St. Vincent, Trinidad and Tobago',\n",
       " 'Antigua and Barbuda, Bahamas, Barbados, Belize, Dominica, Grenada, Guyana, Haiti, Jamaica, Montserrat, Saint Kitts and Nevis, Saint Lucia, Saint Vincent and the Grenadines, Suriname, Trinidad and Tobago, Cuba',\n",
       " 'CARICOM(Antigua and Barbuda, Barbados, Belize, Dominica, Grenada, Guyana, Jamaica, Montserrat, St. Kitts and Nevis, Saint Lucia, St. Vincent and the Grenadines, Suriname, Trinidad and Tobago), Dominican Republic',\n",
       " 'Antigua and Barbuda, Bahamas, Barbados, Belize, Dominica, Grenada, Guyana, Haiti, Jamaica, Montserrat, Saint Kitts and Nevis, Saint Lucia, Saint Vincent and the Grenadines, Suriname, Trinidad and Tobago, Venezuela',\n",
       " 'European Community (Austria, Belgium, Bulgaria, Cyprus, Czech Republic, Denmark, Estonia, Finland, France, Germany, Greece, Hungary, Ireland, Italy, Latvia, Lithuania, Luxembourg, Malta, Netherlands, Poland, Portugal, Romania, Slovak Republic, Slovenia, Spain, Sweden, United Kingdom), Overseas Countries and Territories (Anguilla, Aruba, British Indian Ocean Territory, Cayman Islands, Falkland or Malvinas, French Polynesia, French Southern Territories, Greenland, Mayotte, Montserrat, Netherlands Antilles, New Caledonia, Pitcairn, Saint Helena, Saint Pierre and Miquelon, South Georgia and the South Sandwich Islands, Turks and Caicos Islands, Virgin Islands, British, Wallis and Futuna Islands)']"
      ]
     },
     "execution_count": 856,
     "metadata": {},
     "output_type": "execute_result"
    }
   ],
   "source": [
    "tradeData.Membership[tradeData.Membership.str.contains(OCTs,regex=True)].to_list()"
   ]
  },
  {
   "cell_type": "markdown",
   "metadata": {},
   "source": [
    "As some have agreements somewhere else, we will use all of them and avoid the OCT denomination:"
   ]
  },
  {
   "cell_type": "code",
   "execution_count": 857,
   "metadata": {},
   "outputs": [],
   "source": [
    "OCTtext='Overseas Countries and Territories ('\n",
    "tradeData['Membership']=tradeData.Membership.str.replace(OCTtext,\"\",regex=False)"
   ]
  },
  {
   "cell_type": "markdown",
   "metadata": {},
   "source": [
    "Let's keep looking for communities:"
   ]
  },
  {
   "cell_type": "code",
   "execution_count": 858,
   "metadata": {},
   "outputs": [
    {
     "data": {
      "text/plain": [
       "['ASEAN (Brunei Darussalam, Indonesia, Malaysia, Philippines, Singapore, Thailand)',\n",
       " 'ASEAN (Brunei Darussalam, Indonesia, Malaysia, Philippines, Singapore, Thailand), Australia, New Zealand',\n",
       " 'ASEAN (Brunei Darussalam, Cambodia, Indonesia, Laos, Malaysia, Myanmar, Philippines, Singapore, Thailand, Vietnam), China',\n",
       " 'India, ASEAN (Brunei Darussalam, Cambodia, Indonesia, Laos, Malaysia, Myanmar, Philippines, Singapore, Thailand, Vietnam)',\n",
       " 'ASEAN (Brunei Darussalam, Cambodia, Indonesia, Laos, Malaysia, Myanmar, Philippines, Singapore, Thailand, Vietnam), Korea ',\n",
       " 'ASEAN (Brunei Darussalam, Cambodia, Indonesia, Laos, Malaysia, Myanmar, Philippines, Singapore, Thailand Vietnam), Korea',\n",
       " 'ASEAN (Brunei Darussalam, Indonesia, Malaysia, Philippines, Singapore, Thailand), Japan',\n",
       " 'BIMST-EC (Bhutan, India, Myanmar, Nepal, Sri Lanka, Thailand)',\n",
       " 'Canada, EFTA (Iceland, Liechtenstein, Norway, Switzerland),',\n",
       " 'CARICOM(Antigua and Barbuda, Barbados, Belize, Dominica, Grenada, Guyana, Jamaica, Montserrat, St. Kitts and Nevis, Saint Lucia, St. Vincent and the Grenadines, Suriname, Trinidad and Tobago), Dominican Republic',\n",
       " 'CEFTA(Bulgaria, Croatia, Czech Republic, Hungary, Poland, Romania, Slovak Republic, Slovenia), Croatia',\n",
       " 'CEFTA (Czech Republic, Hungary, Poland, Romania, Slovak Republic, Slovenia), Bulgaria',\n",
       " 'CEFTA (Czech Republic, Hungary, Poland, Slovak Republic, Slovenia), Romania',\n",
       " 'CEFTA (Czech Republic, Hungary, Poland, Slovak Republic), Slovenia',\n",
       " 'CARIFORUM States (Antigua and Barbuda, Bahamas, Barbados, Belize, Dominica, Dominican Republic, Grenada, Guyana, Jamaica, Saint Kitts and Nevis, Saint Lucia, Saint Vincent and the Grenadines, Suriname, Trinidad and Tobago, European Community (Austria, Belgium, Bulgaria, Cyprus, Czech Republic, Denmark, Estonia, Finland, France, Germany, Greece, Hungary, Ireland, Italy, Latvia, Lithuania, Luxembourg, Malta, Netherlands, Poland, Portugal, Romania, Slovak Republic, Slovenia, Spain, Sweden, United Kingdom,)',\n",
       " 'EC, Egypt',\n",
       " 'EC(Austria, Belgium, Bulgaria, Cyprus, Czech Republic, Denmark, Estonia, Finland, France, Germany, Greece, Hungary, Ireland, Italy, Latvia, Lithuania, Luxembourg, Malta, Netherlands, Poland, Portugal, Romania, Slovak Republic, Slovenia, Spain, Sweden, United Kingdom, Tunisia',\n",
       " 'EFTA (Iceland, Liechtenstein, Norway, Switzerland), Bulgaria',\n",
       " 'EFTA (Iceland, Liechtenstein, Norway, Switzerland), Chile',\n",
       " 'EFTA (Iceland, Liechtenstein, Norway, Switzerland), Croatia',\n",
       " 'EFTA(Iceland, Liechtenstein, Norway, Switzerland), Czech Republic',\n",
       " 'EFTA (Iceland, Liechtenstein, Norway, Switzerland), Egypt',\n",
       " 'EFTA (Iceland, Liechtenstein, Norway, Switzerland), Estonia',\n",
       " 'EFTA (Iceland, Liechtenstein, Norway, Switzerland), Hungary',\n",
       " 'EFTA (Iceland, Liechtenstein, Norway, Switzerland), Israel',\n",
       " 'EFTA (Iceland, Liechtenstein, Norway, Switzerland), Jordan',\n",
       " 'EFTA (Iceland, Liechtenstein, Norway, Switzerland), Korea',\n",
       " 'EFTA (Iceland, Liechtenstein, Norway, Switzerland), Latvia',\n",
       " 'EFTA (Iceland, Liechtenstein, Norway, Switzerland, Lebanon',\n",
       " 'EFTA (Iceland, Liechtenstein, Norway, Switzerland), Lithuania',\n",
       " 'EFTA (Iceland, Liechtenstein, Norway, Switzerland), Mexico',\n",
       " 'EFTA (Iceland, Liechtenstein, Norway, Switzerland), Morocco',\n",
       " 'EFTA (Iceland, Liechtenstein, Norway, Switzerland), Palestine',\n",
       " 'EFTA (Iceland, Liechtenstein, Norway, Switzerland), Poland',\n",
       " 'EFTA (Iceland, Liechtenstein, Norway, Switzerland), Romania',\n",
       " 'EFTA (Iceland, Liechtenstein, Norway, Switzerland), Singapore',\n",
       " 'EFTA(Iceland, Liechtenstein, Norway, Switzerland), Slovak Republic',\n",
       " 'EFTA (Iceland, Liechtenstein, Norway, Switzerland), Slovenia',\n",
       " 'EFTA (Iceland, Liechtenstein, Norway, Switzerland),  Macedonia',\n",
       " 'EFTA (Iceland, Liechtenstein, Norway, Switzerland), Tunisia',\n",
       " 'EFTA (Iceland, Liechtenstein, Norway, Switzerland), Turkey',\n",
       " 'EFTA (Iceland, Liechtenstein, Norway, Switzerland), SACU (Botswana, Lesotho, Namibia, South Africa, Swaziland)',\n",
       " 'MERCOSUR (Argentina, Brazil, Paraguay, Uruguay), Bolivia',\n",
       " 'MERCOSUR (Argentina, Brazil, Paraguay, Uruguay), India',\n",
       " 'SAARC (South Asian Association for Regional Cooperation) (Bangladesh, Bhutan, India, Maldives, Nepal, Pakistan, Sri Lanka)']"
      ]
     },
     "execution_count": 858,
     "metadata": {},
     "output_type": "execute_result"
    }
   ],
   "source": [
    "# several capital letters\n",
    "tradeData.Membership[tradeData.Membership.str.contains('[A-Z][A-Z]+',regex=True)].to_list()"
   ]
  },
  {
   "cell_type": "markdown",
   "metadata": {},
   "source": [
    "As this might be difficult, we should  create a backup column."
   ]
  },
  {
   "cell_type": "code",
   "execution_count": 859,
   "metadata": {},
   "outputs": [],
   "source": [
    "tradeData['Membership_old']=tradeData.Membership"
   ]
  },
  {
   "cell_type": "markdown",
   "metadata": {},
   "source": [
    "We notice:\n",
    "1. Parentheses are everywhere, but they should be just one set per agreement (row).\n",
    "2. \"SAARC\" shows definition and membership\n",
    "3. \"EC, Egypt\", why EC is not showing members?\n",
    "4. \"BIMST-EC\", is EC also related to Europe?\n",
    "5. EFTA and CEFTA: correcting one may affect the other.\n",
    "   \n",
    "Let's start at the first concern:"
   ]
  },
  {
   "cell_type": "code",
   "execution_count": 860,
   "metadata": {},
   "outputs": [
    {
     "data": {
      "text/plain": [
       "145    European Community ((Austria, Belgium, Denmark...\n",
       "Name: Membership, dtype: object"
      ]
     },
     "execution_count": 860,
     "metadata": {},
     "output_type": "execute_result"
    }
   ],
   "source": [
    "tradeData.Membership[tradeData.Membership.str.contains('((',regex=False)]"
   ]
  },
  {
   "cell_type": "code",
   "execution_count": 861,
   "metadata": {},
   "outputs": [],
   "source": [
    "tradeData['Membership']=tradeData.Membership.str.replace('((','(',regex=False)"
   ]
  },
  {
   "cell_type": "code",
   "execution_count": 862,
   "metadata": {},
   "outputs": [
    {
     "data": {
      "text/plain": [
       "(South Asian Association for Regional Cooperation) (Bangladesh, Bhutan, India, Maldives, Nepal, Pakistan, Sri Lanka)    1\n",
       "Name: count, dtype: int64"
      ]
     },
     "execution_count": 862,
     "metadata": {},
     "output_type": "execute_result"
    }
   ],
   "source": [
    "tradeData.Membership.str.extractall('(\\(.*\\)\\s*\\(.*\\))').value_counts()"
   ]
  },
  {
   "cell_type": "code",
   "execution_count": 863,
   "metadata": {},
   "outputs": [],
   "source": [
    "bye='\\(South Asian Association for Regional Cooperation\\)\\s'\n",
    "tradeData['Membership']=tradeData.Membership.str.replace(bye,'',regex=True)"
   ]
  },
  {
   "cell_type": "markdown",
   "metadata": {},
   "source": [
    "Let's pay attention to parentheses and Acronyms:"
   ]
  },
  {
   "cell_type": "code",
   "execution_count": 864,
   "metadata": {},
   "outputs": [
    {
     "data": {
      "text/plain": [
       "['ASEAN (Brunei Darussalam, Indonesia, Malaysia, Philippines, Singapore, Thailand)',\n",
       " 'ASEAN (Brunei Darussalam, Indonesia, Malaysia, Philippines, Singapore, Thailand), Australia, New Zealand',\n",
       " 'ASEAN (Brunei Darussalam, Cambodia, Indonesia, Laos, Malaysia, Myanmar, Philippines, Singapore, Thailand, Vietnam), China',\n",
       " 'India, ASEAN (Brunei Darussalam, Cambodia, Indonesia, Laos, Malaysia, Myanmar, Philippines, Singapore, Thailand, Vietnam)',\n",
       " 'ASEAN (Brunei Darussalam, Cambodia, Indonesia, Laos, Malaysia, Myanmar, Philippines, Singapore, Thailand, Vietnam), Korea ',\n",
       " 'ASEAN (Brunei Darussalam, Cambodia, Indonesia, Laos, Malaysia, Myanmar, Philippines, Singapore, Thailand Vietnam), Korea',\n",
       " 'ASEAN (Brunei Darussalam, Indonesia, Malaysia, Philippines, Singapore, Thailand), Japan',\n",
       " 'BIMST-EC (Bhutan, India, Myanmar, Nepal, Sri Lanka, Thailand)',\n",
       " 'Canada, EFTA (Iceland, Liechtenstein, Norway, Switzerland),',\n",
       " 'CARICOM(Antigua and Barbuda, Barbados, Belize, Dominica, Grenada, Guyana, Jamaica, Montserrat, St. Kitts and Nevis, Saint Lucia, St. Vincent and the Grenadines, Suriname, Trinidad and Tobago), Dominican Republic',\n",
       " 'CEFTA(Bulgaria, Croatia, Czech Republic, Hungary, Poland, Romania, Slovak Republic, Slovenia), Croatia',\n",
       " 'CEFTA (Czech Republic, Hungary, Poland, Romania, Slovak Republic, Slovenia), Bulgaria',\n",
       " 'CEFTA (Czech Republic, Hungary, Poland, Slovak Republic, Slovenia), Romania',\n",
       " 'CEFTA (Czech Republic, Hungary, Poland, Slovak Republic), Slovenia',\n",
       " 'EC(Austria, Belgium, Bulgaria, Cyprus, Czech Republic, Denmark, Estonia, Finland, France, Germany, Greece, Hungary, Ireland, Italy, Latvia, Lithuania, Luxembourg, Malta, Netherlands, Poland, Portugal, Romania, Slovak Republic, Slovenia, Spain, Sweden, United Kingdom, Tunisia',\n",
       " 'EFTA (Iceland, Liechtenstein, Norway, Switzerland), Bulgaria',\n",
       " 'EFTA (Iceland, Liechtenstein, Norway, Switzerland), Chile',\n",
       " 'EFTA (Iceland, Liechtenstein, Norway, Switzerland), Croatia',\n",
       " 'EFTA(Iceland, Liechtenstein, Norway, Switzerland), Czech Republic',\n",
       " 'EFTA (Iceland, Liechtenstein, Norway, Switzerland), Egypt',\n",
       " 'EFTA (Iceland, Liechtenstein, Norway, Switzerland), Estonia',\n",
       " 'EFTA (Iceland, Liechtenstein, Norway, Switzerland), Hungary',\n",
       " 'EFTA (Iceland, Liechtenstein, Norway, Switzerland), Israel',\n",
       " 'EFTA (Iceland, Liechtenstein, Norway, Switzerland), Jordan',\n",
       " 'EFTA (Iceland, Liechtenstein, Norway, Switzerland), Korea',\n",
       " 'EFTA (Iceland, Liechtenstein, Norway, Switzerland), Latvia',\n",
       " 'EFTA (Iceland, Liechtenstein, Norway, Switzerland, Lebanon',\n",
       " 'EFTA (Iceland, Liechtenstein, Norway, Switzerland), Lithuania',\n",
       " 'EFTA (Iceland, Liechtenstein, Norway, Switzerland), Mexico',\n",
       " 'EFTA (Iceland, Liechtenstein, Norway, Switzerland), Morocco',\n",
       " 'EFTA (Iceland, Liechtenstein, Norway, Switzerland), Palestine',\n",
       " 'EFTA (Iceland, Liechtenstein, Norway, Switzerland), Poland',\n",
       " 'EFTA (Iceland, Liechtenstein, Norway, Switzerland), Romania',\n",
       " 'EFTA (Iceland, Liechtenstein, Norway, Switzerland), Singapore',\n",
       " 'EFTA(Iceland, Liechtenstein, Norway, Switzerland), Slovak Republic',\n",
       " 'EFTA (Iceland, Liechtenstein, Norway, Switzerland), Slovenia',\n",
       " 'EFTA (Iceland, Liechtenstein, Norway, Switzerland),  Macedonia',\n",
       " 'EFTA (Iceland, Liechtenstein, Norway, Switzerland), Tunisia',\n",
       " 'EFTA (Iceland, Liechtenstein, Norway, Switzerland), Turkey',\n",
       " 'EFTA (Iceland, Liechtenstein, Norway, Switzerland), SACU (Botswana, Lesotho, Namibia, South Africa, Swaziland)',\n",
       " 'MERCOSUR (Argentina, Brazil, Paraguay, Uruguay), Bolivia',\n",
       " 'MERCOSUR (Argentina, Brazil, Paraguay, Uruguay), India',\n",
       " 'SAARC (Bangladesh, Bhutan, India, Maldives, Nepal, Pakistan, Sri Lanka)']"
      ]
     },
     "execution_count": 864,
     "metadata": {},
     "output_type": "execute_result"
    }
   ],
   "source": [
    "tradeData.Membership[tradeData.Membership.str.contains('[A-Z][A-Z]+\\s*\\(',regex=True)].to_list()"
   ]
  },
  {
   "cell_type": "code",
   "execution_count": 865,
   "metadata": {},
   "outputs": [
    {
     "data": {
      "text/plain": [
       "EFTA (                24\n",
       "ASEAN (                7\n",
       "CEFTA (                3\n",
       "EFTA(                  2\n",
       "MERCOSUR (             2\n",
       "BIMST-EC (             1\n",
       "CARICOM(               1\n",
       "CARIFORUM States (     1\n",
       "CEFTA(                 1\n",
       "EC(                    1\n",
       "SAARC (                1\n",
       "SACU (                 1\n",
       "Name: count, dtype: int64"
      ]
     },
     "execution_count": 865,
     "metadata": {},
     "output_type": "execute_result"
    }
   ],
   "source": [
    "acronymsText='([A-Z]*\\-*[A-Z][A-Z]+\\s*\\w*\\s*\\()'\n",
    "tradeData.Membership.str.extractall(acronymsText).value_counts()"
   ]
  },
  {
   "cell_type": "markdown",
   "metadata": {},
   "source": [
    "The similarity of EFTA and CEFTA will bring trouble, so:"
   ]
  },
  {
   "cell_type": "code",
   "execution_count": 866,
   "metadata": {},
   "outputs": [],
   "source": [
    "tradeData['Membership']=tradeData.Membership.str.replace('CEFTA\\s*\\(','',regex=True)"
   ]
  },
  {
   "cell_type": "code",
   "execution_count": 867,
   "metadata": {},
   "outputs": [
    {
     "data": {
      "text/plain": [
       "EFTA (                24\n",
       "ASEAN (                7\n",
       "EFTA(                  2\n",
       "MERCOSUR (             2\n",
       "BIMST-EC (             1\n",
       "CARICOM(               1\n",
       "CARIFORUM States (     1\n",
       "EC(                    1\n",
       "SAARC (                1\n",
       "SACU (                 1\n",
       "Name: count, dtype: int64"
      ]
     },
     "execution_count": 867,
     "metadata": {},
     "output_type": "execute_result"
    }
   ],
   "source": [
    "# again\n",
    "tradeData.Membership.str.extractall('([A-Z]*\\-*[A-Z][A-Z]+\\s*\\w*\\s*\\()').value_counts()"
   ]
  },
  {
   "cell_type": "markdown",
   "metadata": {},
   "source": [
    "**BIMST-EC** is [not related](https://en.wikipedia.org/wiki/Bay_of_Bengal_Initiative_for_Multi-Sectoral_Technical_and_Economic_Cooperation) to the European Community, so we could proceed: "
   ]
  },
  {
   "cell_type": "code",
   "execution_count": 868,
   "metadata": {},
   "outputs": [
    {
     "data": {
      "text/plain": [
       "['EFTA (',\n",
       " 'ASEAN (',\n",
       " 'EFTA(',\n",
       " 'MERCOSUR (',\n",
       " 'BIMST-EC (',\n",
       " 'CARICOM(',\n",
       " 'CARIFORUM States (',\n",
       " 'EC(',\n",
       " 'SAARC (',\n",
       " 'SACU (']"
      ]
     },
     "execution_count": 868,
     "metadata": {},
     "output_type": "execute_result"
    }
   ],
   "source": [
    "byeAcronyms=[bad for bad in tradeData.Membership.str.extractall('([A-Z]*\\-*[A-Z][A-Z]+\\s*\\w*\\s*\\()').value_counts().reset_index().iloc[:,0]]\n",
    "byeAcronyms"
   ]
  },
  {
   "cell_type": "code",
   "execution_count": 869,
   "metadata": {},
   "outputs": [],
   "source": [
    "for text in byeAcronyms:\n",
    "    tradeData['Membership']=tradeData.Membership.str.replace(text,\"\",regex=False)"
   ]
  },
  {
   "cell_type": "markdown",
   "metadata": {},
   "source": [
    "Now Acronyms without parentheses:"
   ]
  },
  {
   "cell_type": "code",
   "execution_count": 870,
   "metadata": {},
   "outputs": [
    {
     "data": {
      "text/plain": [
       "['EC, Egypt']"
      ]
     },
     "execution_count": 870,
     "metadata": {},
     "output_type": "execute_result"
    }
   ],
   "source": [
    "tradeData.Membership[tradeData.Membership.str.contains('[A-Z][A-Z]+',regex=True)].to_list()"
   ]
  },
  {
   "cell_type": "code",
   "execution_count": 871,
   "metadata": {},
   "outputs": [
    {
     "data": {
      "text/html": [
       "<div>\n",
       "<style scoped>\n",
       "    .dataframe tbody tr th:only-of-type {\n",
       "        vertical-align: middle;\n",
       "    }\n",
       "\n",
       "    .dataframe tbody tr th {\n",
       "        vertical-align: top;\n",
       "    }\n",
       "\n",
       "    .dataframe thead th {\n",
       "        text-align: right;\n",
       "    }\n",
       "</style>\n",
       "<table border=\"1\" class=\"dataframe\">\n",
       "  <thead>\n",
       "    <tr style=\"text-align: right;\">\n",
       "      <th></th>\n",
       "      <th>Common Name</th>\n",
       "      <th>Membership</th>\n",
       "      <th>Type</th>\n",
       "      <th>Date of Signature</th>\n",
       "      <th>Date of Entry into Force</th>\n",
       "      <th>WTO notified</th>\n",
       "      <th>In-force status</th>\n",
       "      <th>Membership_old</th>\n",
       "    </tr>\n",
       "  </thead>\n",
       "  <tbody>\n",
       "    <tr>\n",
       "      <th>142</th>\n",
       "      <td>EC - Egypt</td>\n",
       "      <td>EC, Egypt</td>\n",
       "      <td>Association Free Trade Agreement</td>\n",
       "      <td>12/18/1972</td>\n",
       "      <td>06/01/1977</td>\n",
       "      <td>yes</td>\n",
       "      <td>in force</td>\n",
       "      <td>EC, Egypt</td>\n",
       "    </tr>\n",
       "  </tbody>\n",
       "</table>\n",
       "</div>"
      ],
      "text/plain": [
       "    Common Name Membership                              Type  \\\n",
       "142  EC - Egypt  EC, Egypt  Association Free Trade Agreement   \n",
       "\n",
       "    Date of Signature Date of Entry into Force WTO notified In-force status  \\\n",
       "142        12/18/1972               06/01/1977          yes        in force   \n",
       "\n",
       "    Membership_old  \n",
       "142      EC, Egypt  "
      ]
     },
     "execution_count": 871,
     "metadata": {},
     "output_type": "execute_result"
    }
   ],
   "source": [
    "tradeData[tradeData.Membership.str.contains('EC, Egypt',regex=False)]"
   ]
  },
  {
   "cell_type": "markdown",
   "metadata": {},
   "source": [
    "From the PDF [documentation](https://wits.worldbank.org/gptad/library.aspx) we can solve it this way:"
   ]
  },
  {
   "cell_type": "code",
   "execution_count": 872,
   "metadata": {},
   "outputs": [],
   "source": [
    "newText='Belgium, Denmark, France, Germany, Ireland, Italy, Luxembourg, Netherlands, United Kingdom, Egypt'\n",
    "tradeData['Membership']=tradeData.Membership.str.replace('EC, Egypt',newText,regex=False)"
   ]
  },
  {
   "cell_type": "markdown",
   "metadata": {},
   "source": [
    "Do we still have parentheses?"
   ]
  },
  {
   "cell_type": "code",
   "execution_count": 873,
   "metadata": {},
   "outputs": [
    {
     "data": {
      "text/plain": [
       "['Andean Community (Colombia, Ecuador, Peru, Venezuela), Brazil',\n",
       " 'European Community (Belgium, Denmark, France, Germany, Ireland, Italy, Luxembourg, Netherlands, United Kingdom), Greece',\n",
       " 'European Community (Belgium, Denmark, France, Germany, Greece, Ireland, Italy, Luxembourg, Netherlands, United Kingdom), Portugal, Spain',\n",
       " 'European Community (Belgium, Denmark, France, Germany, Greece, Ireland, Italy, Luxembourg, Netherlands, Portugal, Spain, United Kingdom), Norway, Austria, Finland, Sweden',\n",
       " 'European Community (Austria, Belgium, Denmark, Germany, Greece, Finland, France, Ireland, Italy, Luxembourg, Netherlands, Portugal, Spain, Sweden, United Kingdom), Czech Republic, Cyprus, Estonia, Hungary, Latvia, Lithuania, Malta, Poland, Slovenia, Slovak Republic',\n",
       " 'European Community (Austria, Belgium, Czech Republic, Cyprus, Denmark, Estonia, Germany, Greece, Finland, France, Hungary, Ireland, Italy, Latvia, Lithuania, Luxembourg, Malta, Netherlands, Poland, Portugal, Slovenia, Slovak Republic, Spain, Sweden, United Kingdom), Bulgaria, Romania',\n",
       " 'European Community (Austria, Belgium, Denmark, Finland France, Germany, Greece, Ireland, Italy, Luxembourg, Netherlands, Portugal, Spain Sweden, United Kingdom), Albania',\n",
       " 'European Community (Austria, Belgium, Denmark, Finland France, Germany, Greece, Ireland, Italy, Luxembourg, Netherlands, Portugal, Spain Sweden, United Kingdom), Algeria',\n",
       " 'European Community (Austria, Belgium, Denmark, Finland, France, Germany, Greece, Ireland, Italy, Luxembourg, Netherlands, Portugal, Spain, Sweden, United Kingdom), Andorra',\n",
       " 'European Community (Austria, Belgium, Bulgaria, Cyprus, Czech Republic, Denmark, Estonia, Finland, France, Germany, Greece, Hungary, Ireland, Italy, Latvia, Lithuania, Luxembourg, Malta, Netherlands, Poland, Portugal, Romania, Slovak Republic, Slovenia, Spain, Sweden, United Kingdom),Bosnia and Herzegovina',\n",
       " 'European Community (Belgium, Denmark, Germany, Greece, Spain, France, Ireland, Italy, Luxembourg, Netherlands, Portugal, United Kingdom), Bulgaria',\n",
       " 'European Community (Austria, Belgium, Bulgaria, Cyprus, Czech Republic, Denmark, Estonia, Finland, France, Germany, Greece, Hungary, Ireland, Italy, Latvia, Lithuania, Luxembourg, Malta, Netherlands, Poland, Portugal, Romania, Slovak Republic, Slovenia, Spain, Sweden, United Kingdom), Cameroon',\n",
       " 'Antigua and Barbuda, Bahamas, Barbados, Belize, Dominica, Dominican Republic, Grenada, Guyana, Jamaica, Saint Kitts and Nevis, Saint Lucia, Saint Vincent and the Grenadines, Suriname, Trinidad and Tobago, European Community (Austria, Belgium, Bulgaria, Cyprus, Czech Republic, Denmark, Estonia, Finland, France, Germany, Greece, Hungary, Ireland, Italy, Latvia, Lithuania, Luxembourg, Malta, Netherlands, Poland, Portugal, Romania, Slovak Republic, Slovenia, Spain, Sweden, United Kingdom,)',\n",
       " 'European Community (Austria, Belgium, Denmark, Germany, Finland, France, Greece, Ireland, Italy, Luxembourg, Netherlands, Portugal, Spain, Sweden, United Kingdom), Chile',\n",
       " \"European Community (Austria, Belgium, Bulgaria, Cyprus, Czech Republic, Denmark, Germany, Estonia, Finland, France, Greece, Hungary, Ireland, Italy, Latvia, Lithuania, Luxembourg, Malta, Netherlands, Poland, Portugal, Romania, Slovak Republic, Slovenia, Spain, Sweden, United Kingdom), Cote d'Ivoire\",\n",
       " 'European Community (Austria, Belgium, Bulgaria, Cyprus, Czech Republic, Denmark, Estonia, Finland, France, Germany, Greece, Hungary, Ireland, Italy, Latvia, Lithuania, Luxembourg, Malta, Netherlands, Poland, Portugal, Romania, Slovak Republic, Slovenia, Spain, Sweden, United Kingdom), Croatia',\n",
       " 'European Community (Belgium, Denmark, France, Germany, Greece, United Kingdom, Ireland, Italy, Luxembourg, Netherlands, Portugal, Spain), Cyprus',\n",
       " 'European Community (Austria, Belgium, Denmark, Finland, France, Germany, Greece, Ireland, Italy, Luxembourg, Netherlands, Portugal, Spain, Sweden, United Kingdom), Czech Republic',\n",
       " 'European Community (Austria, Belgium, Denmark, Finland, France, Germany, Greece, Ireland, Italy, Luxembourg, Netherlands, Portugal, Spain, Sweden, United Kingdom), Faroe Islands',\n",
       " 'European Community (Austria, Belgium, Denmark, Finland, France, Germany, Greece, Ireland, Italy, Luxembourg, Netherlands, Portugal, Spain, Sweden, United Kingdom), Macedonia',\n",
       " 'European Community (Belgium, Denmark, France, Germany, Greece, United Kingdom, Ireland, Italy, Luxembourg, Netherlands, Portugal, Spain), Hungary',\n",
       " 'European Community (Belgium, Denmark, France, Germany, Greece, United Kingdom, Ireland, Italy, Luxembourg, Netherlands, Portugal, Spain), Iceland',\n",
       " 'European Community (Austria, Belgium, Denmark, Finland, France, Germany, Greece, Ireland, Italy, Luxembourg, Netherlands, Northern Ireland, Portugal, Spain, Sweden, United Kingdom), Israel',\n",
       " 'European Community (Belgium, Denmark, Germany, Greece, Spain, Ireland, Italy, Luxembourg, Netherlands, Austria, Portugal, Finland, Sweden, United Kingdom), Jordan',\n",
       " 'European Community (Austria, Belgium, Denmark, Finland, France, Germany, Greece, Ireland, Italy, Luxembourg, Netherlands, Portugal, Spain, Sweden, United Kingdom), Latvia',\n",
       " 'European Community (Belgium, Denmark, France, Germany, Ireland, Italy, Luxembourg, Netherlands, United Kingdom), Lebanon',\n",
       " 'European Community (Austria, Belgium, Bulgaria, Cyprus, Czech Republic, Denmark, Estonia, Finland, France, Germany, Greece, Hungary, Ireland, Italy, Latvia, Lithuania, Luxembourg, Malta, Netherlands, Poland, Portugal, Romania, Slovak Republic, Slovenia, Spain, Sweden, United Kingdom), Lebanon',\n",
       " 'European Community (Austria, Belgium, Denmark, Finland, France, Germany, Greece, Ireland, Italy, Luxembourg, Netherlands, Portugal, Spain, Sweden, United Kingdom), Lithuania',\n",
       " 'European Community (Austria, Belgium, Denmark, Finland France, Germany, Greece, Ireland, Italy, Luxembourg, Netherlands, Portugal, Spain Sweden, United Kingdom), Malta',\n",
       " 'Communauté européenne (Austria, Belgium, Denmark, Finland, France, Germany, Greece, Ireland, Italy, Luxembourg, Netherlands, Portugal, Spain, Sweden, United Kingdom), Malta',\n",
       " 'European Community (Austria, Belgium, Denmark, Finland, France, Germany, Greece, Ireland, Italy, Luxembourg, Netherlands, Portugal, Spain, Sweden, United Kingdom), Mexico',\n",
       " 'European Community (Austria, Belgium, Bulgaria, Cyprus, Czech Republic, Denmark, Estonia, Finland, France, Germany, Greece, Hungary, Ireland, Italy, Latvia, Lithuania, Luxembourg, Malta, Netherlands, Poland, Portugal, Romania, Slovak Republic, Slovenia, Spain, Sweden, United Kingdom, Montenegro',\n",
       " 'European Communitiy (Austria, Belgium, Denmark, Finland, France, Germany, Greece, Ireland, Italy, Luxembourg, Netherlands, Portugal, Spain, Sweden, United Kingdom), Morocco',\n",
       " 'European Community (Austria, Belgium, Denmark, Finland, France, Germany, Greece, Ireland, Italy, Luxembourg, Netherlands, Portugal, Spain, Sweden, United Kingdom, Norway',\n",
       " 'European Community (Austria, Belgium, Bulgaria, Cyprus, Czech Republic, Denmark, Estonia, Finland, France, Germany, Greece, Hungary, Ireland, Italy, Latvia, Lithuania, Luxembourg, Malta, Netherlands, Poland, Portugal, Romania, Slovak Republic, Slovenia, Spain, Sweden, United Kingdom), Anguilla, Aruba, British Indian Ocean Territory, Cayman Islands, Falkland or Malvinas, French Polynesia, French Southern Territories, Greenland, Mayotte, Montserrat, Netherlands Antilles, New Caledonia, Pitcairn, Saint Helena, Saint Pierre and Miquelon, South Georgia and the South Sandwich Islands, Turks and Caicos Islands, Virgin Islands, British, Wallis and Futuna Islands)',\n",
       " 'European Community (Austria, Belgium, Bulgaria, Cyprus, Czech Republic, Denmark, Estonia, Finland, France, Germany, Greece, Hungary, Ireland, Italy, Latvia, Lithuania, Luxembourg, Malta, Netherlands, Poland, Portugal, Romania, Slovak Republic, Slovenia, Spain, Sweden, United Kingdom), Palestine',\n",
       " 'European Community (Belgium, Denmark, France, Germany, Greece, Ireland, Italy, Luxembourg, Netherlands, Portugal, Spain, United Kingdom), Poland',\n",
       " 'European Community (Belgium, Denmark, Germany, Greece, Spain, France, Ireland, Italy, Luxembourg, Netherlands, Portugal, United Kingdom), Romania',\n",
       " 'European Community (Belgium, Denmark, France, Germany, Greece, Italy, Luxembourg, Netherlands, Portugal, Spain, United Kingdom), Slovak Republic',\n",
       " 'European Community (Austria, Belgium, Denmark, Finland, France, Germany, Greece, Ireland, Italy, Luxembourg, Netherlands, Portugal, Spain, Sweden, United Kingdom), Slovenia',\n",
       " 'European Community (Austria, Belgium, Denmark, Finland, France, Germany, Greece, Ireland, Italy, Luxembourg, Netherlands, Portugal, Spain, Sweden, United Kingdom), South Africa',\n",
       " 'European Community (Austria, Belgium, Bulgaria, Cyprus, Czech Republic, Denmark, Estonia, Finland, France, Germany, Greece, Hungary, Ireland, Italy, Latvia, Lithuania, Luxembourg, Malta, Netherlands, Poland, Portugal, Romania, Slovak Republic, Slovenia, Spain, Sweden, United Kingdom), Switzerland, Liechtenstein',\n",
       " 'European Community (Belgium, Denmark, France, Germany, Ireland, Italy, Luxembourg, Netherlands, United Kingdom), Syria',\n",
       " 'European Community (Austria, Belgium, Denmark, Finland, France, Germany, Greece, Ireland, Italy, Luxembourg, Netherlands, Portugal, Spain, Sweden, United Kingdom), Turkey',\n",
       " 'European Economic Area (Austria, Belgium, Denmark, Finland, France, Germany, Greece, Iceland, Ireland, Italy, Liechtenstein, Luxembourg, Netherlands, Norway, Portugal, Spain, Sweden, United Kingdom)',\n",
       " 'Gulf Cooperation Council (Bahrain, Kuwait, Oman, Qatar, Saudi Arabia, United Arab Emirates)']"
      ]
     },
     "execution_count": 873,
     "metadata": {},
     "output_type": "execute_result"
    }
   ],
   "source": [
    "tradeData.Membership[tradeData.Membership.str.contains('\\(')].to_list()"
   ]
  },
  {
   "cell_type": "code",
   "execution_count": 874,
   "metadata": {},
   "outputs": [
    {
     "data": {
      "text/plain": [
       "European Community (          40\n",
       " European Community (          1\n",
       "Andean Community (             1\n",
       "Communauté européenne (        1\n",
       "European Communitiy (          1\n",
       "European Economic Area (       1\n",
       "Gulf Cooperation Council (     1\n",
       "Name: count, dtype: int64"
      ]
     },
     "execution_count": 874,
     "metadata": {},
     "output_type": "execute_result"
    }
   ],
   "source": [
    "tradeData.Membership.str.extractall('(\\w*\\s*\\w+\\s+\\w+\\s+\\()').value_counts()"
   ]
  },
  {
   "cell_type": "markdown",
   "metadata": {},
   "source": [
    "Let's pay attention to the French version:"
   ]
  },
  {
   "cell_type": "code",
   "execution_count": 875,
   "metadata": {},
   "outputs": [
    {
     "data": {
      "text/plain": [
       "['Communauté européenne (Austria, Belgium, Denmark, Finland, France, Germany, Greece, Ireland, Italy, Luxembourg, Netherlands, Portugal, Spain, Sweden, United Kingdom), Malta']"
      ]
     },
     "execution_count": 875,
     "metadata": {},
     "output_type": "execute_result"
    }
   ],
   "source": [
    "tradeData.Membership[tradeData.Membership.str.contains('Communaut',regex=True)].to_list()"
   ]
  },
  {
   "cell_type": "code",
   "execution_count": 876,
   "metadata": {},
   "outputs": [],
   "source": [
    "tradeData['Membership']=tradeData.Membership.str.replace('Communauté européenne','European Community',regex=False)\n",
    "tradeData['Membership']=tradeData.Membership.str.replace('European Communitiy','European Community',regex=False)"
   ]
  },
  {
   "cell_type": "markdown",
   "metadata": {},
   "source": [
    "Now turn those communities to \"\":"
   ]
  },
  {
   "cell_type": "code",
   "execution_count": 877,
   "metadata": {},
   "outputs": [
    {
     "data": {
      "text/plain": [
       "['European Community (',\n",
       " ' European Community (',\n",
       " 'Andean Community (',\n",
       " 'European Economic Area (',\n",
       " 'Gulf Cooperation Council (']"
      ]
     },
     "execution_count": 877,
     "metadata": {},
     "output_type": "execute_result"
    }
   ],
   "source": [
    "badNames=[badName[0] for badName in tradeData.Membership.str.extract('([\\w+\\s+]+\\()').value_counts().index.to_list()]\n",
    "badNames"
   ]
  },
  {
   "cell_type": "code",
   "execution_count": 878,
   "metadata": {},
   "outputs": [],
   "source": [
    "for badName in badNames:\n",
    "    tradeData['Membership']=tradeData.Membership.str.replace(badName,\"\",regex=False)"
   ]
  },
  {
   "cell_type": "markdown",
   "metadata": {},
   "source": [
    "Check for word 'Community':"
   ]
  },
  {
   "cell_type": "code",
   "execution_count": 879,
   "metadata": {},
   "outputs": [
    {
     "data": {
      "text/plain": [
       "['Caribbean Community, Colombia']"
      ]
     },
     "execution_count": 879,
     "metadata": {},
     "output_type": "execute_result"
    }
   ],
   "source": [
    "tradeData.Membership[tradeData.Membership.str.contains('Community',regex=True)].to_list()"
   ]
  },
  {
   "cell_type": "markdown",
   "metadata": {},
   "source": [
    "For a strange reason, the detail has no been included. Let's see what we can find out:"
   ]
  },
  {
   "cell_type": "code",
   "execution_count": 880,
   "metadata": {},
   "outputs": [
    {
     "data": {
      "text/html": [
       "<div>\n",
       "<style scoped>\n",
       "    .dataframe tbody tr th:only-of-type {\n",
       "        vertical-align: middle;\n",
       "    }\n",
       "\n",
       "    .dataframe tbody tr th {\n",
       "        vertical-align: top;\n",
       "    }\n",
       "\n",
       "    .dataframe thead th {\n",
       "        text-align: right;\n",
       "    }\n",
       "</style>\n",
       "<table border=\"1\" class=\"dataframe\">\n",
       "  <thead>\n",
       "    <tr style=\"text-align: right;\">\n",
       "      <th></th>\n",
       "      <th>Common Name</th>\n",
       "      <th>Membership</th>\n",
       "      <th>Type</th>\n",
       "      <th>Date of Signature</th>\n",
       "      <th>Date of Entry into Force</th>\n",
       "      <th>WTO notified</th>\n",
       "      <th>In-force status</th>\n",
       "      <th>Membership_old</th>\n",
       "    </tr>\n",
       "  </thead>\n",
       "  <tbody>\n",
       "    <tr>\n",
       "      <th>66</th>\n",
       "      <td>CARICOM - Colombia</td>\n",
       "      <td>Caribbean Community, Colombia</td>\n",
       "      <td>Bilateral Free Trade Agreement</td>\n",
       "      <td>07/24/1994</td>\n",
       "      <td>NaN</td>\n",
       "      <td>no</td>\n",
       "      <td>unknown</td>\n",
       "      <td>Caribbean Community, Colombia</td>\n",
       "    </tr>\n",
       "  </tbody>\n",
       "</table>\n",
       "</div>"
      ],
      "text/plain": [
       "           Common Name                     Membership  \\\n",
       "66  CARICOM - Colombia  Caribbean Community, Colombia   \n",
       "\n",
       "                              Type Date of Signature Date of Entry into Force  \\\n",
       "66  Bilateral Free Trade Agreement        07/24/1994                      NaN   \n",
       "\n",
       "   WTO notified In-force status                 Membership_old  \n",
       "66           no         unknown  Caribbean Community, Colombia  "
      ]
     },
     "execution_count": 880,
     "metadata": {},
     "output_type": "execute_result"
    }
   ],
   "source": [
    "tradeData[tradeData.Membership.str.contains('Community',regex=True)]"
   ]
  },
  {
   "cell_type": "markdown",
   "metadata": {},
   "source": [
    "The Caribbean Community is CARICOM. Let's use our 'Membership_old' to recover that info: "
   ]
  },
  {
   "cell_type": "code",
   "execution_count": 881,
   "metadata": {},
   "outputs": [
    {
     "data": {
      "text/html": [
       "<div>\n",
       "<style scoped>\n",
       "    .dataframe tbody tr th:only-of-type {\n",
       "        vertical-align: middle;\n",
       "    }\n",
       "\n",
       "    .dataframe tbody tr th {\n",
       "        vertical-align: top;\n",
       "    }\n",
       "\n",
       "    .dataframe thead th {\n",
       "        text-align: right;\n",
       "    }\n",
       "</style>\n",
       "<table border=\"1\" class=\"dataframe\">\n",
       "  <thead>\n",
       "    <tr style=\"text-align: right;\">\n",
       "      <th></th>\n",
       "      <th>Common Name</th>\n",
       "      <th>Membership</th>\n",
       "      <th>Type</th>\n",
       "      <th>Date of Signature</th>\n",
       "      <th>Date of Entry into Force</th>\n",
       "      <th>WTO notified</th>\n",
       "      <th>In-force status</th>\n",
       "      <th>Membership_old</th>\n",
       "    </tr>\n",
       "  </thead>\n",
       "  <tbody>\n",
       "    <tr>\n",
       "      <th>69</th>\n",
       "      <td>CARICOM - Dominican Republic</td>\n",
       "      <td>Antigua and Barbuda, Barbados, Belize, Dominic...</td>\n",
       "      <td>Regional/Plurilateral Free Trade Agreement</td>\n",
       "      <td>08/22/1998</td>\n",
       "      <td>01/01/1999</td>\n",
       "      <td>no</td>\n",
       "      <td>in force</td>\n",
       "      <td>CARICOM(Antigua and Barbuda, Barbados, Belize,...</td>\n",
       "    </tr>\n",
       "  </tbody>\n",
       "</table>\n",
       "</div>"
      ],
      "text/plain": [
       "                     Common Name  \\\n",
       "69  CARICOM - Dominican Republic   \n",
       "\n",
       "                                           Membership  \\\n",
       "69  Antigua and Barbuda, Barbados, Belize, Dominic...   \n",
       "\n",
       "                                          Type Date of Signature  \\\n",
       "69  Regional/Plurilateral Free Trade Agreement        08/22/1998   \n",
       "\n",
       "   Date of Entry into Force WTO notified In-force status  \\\n",
       "69               01/01/1999           no        in force   \n",
       "\n",
       "                                       Membership_old  \n",
       "69  CARICOM(Antigua and Barbuda, Barbados, Belize,...  "
      ]
     },
     "execution_count": 881,
     "metadata": {},
     "output_type": "execute_result"
    }
   ],
   "source": [
    "tradeData[tradeData.Membership_old.str.contains('CARICOM',regex=True)]"
   ]
  },
  {
   "cell_type": "markdown",
   "metadata": {},
   "source": [
    "This is the info:"
   ]
  },
  {
   "cell_type": "code",
   "execution_count": 882,
   "metadata": {},
   "outputs": [
    {
     "data": {
      "text/plain": [
       "'Antigua and Barbuda, Barbados, Belize, Dominica, Grenada, Guyana, Jamaica, Montserrat, St. Kitts and Nevis, Saint Lucia, St. Vincent and the Grenadines, Suriname, Trinidad and Tobago), Dominican Republic'"
      ]
     },
     "execution_count": 882,
     "metadata": {},
     "output_type": "execute_result"
    }
   ],
   "source": [
    "tradeData.loc[69,'Membership']"
   ]
  },
  {
   "cell_type": "markdown",
   "metadata": {},
   "source": [
    "Updating:"
   ]
  },
  {
   "cell_type": "code",
   "execution_count": 883,
   "metadata": {},
   "outputs": [],
   "source": [
    "tradeData.loc[66,'Membership']='Antigua and Barbuda, Barbados, Belize, Dominica, Grenada, Guyana, Jamaica, Montserrat, St. Kitts and Nevis, Saint Lucia, St. Vincent and the Grenadines, Suriname, Trinidad and Tobago, Colombia'"
   ]
  },
  {
   "cell_type": "markdown",
   "metadata": {},
   "source": [
    "Now, let's loof for countries with no separators in between:"
   ]
  },
  {
   "cell_type": "code",
   "execution_count": 884,
   "metadata": {},
   "outputs": [
    {
     "data": {
      "text/plain": [
       ", United Kingdom)          35\n",
       ", Slovak Republic,         17\n",
       ", Czech Republic,          16\n",
       ", United Kingdom,          10\n",
       ", Trinidad and              8\n",
       ", Saint Lucia,              6\n",
       ", Bosnia and                5\n",
       ", South Africa,             4\n",
       ", Finland France,           3\n",
       ", Sri Lanka,                3\n",
       ", Spain Sweden,             3\n",
       ", Solomon Islands,          3\n",
       ", Saint Kitts               3\n",
       ", Kyrgyz Republic,          3\n",
       ", Papua New                 3\n",
       ", Cote d'                   3\n",
       ", Burkina Faso,             3\n",
       ", Sao Tome                  2\n",
       ", Costa Rica,               2\n",
       ", Guinea Bissau,            2\n",
       ", Equatorial Guinea,        2\n",
       ", New Zealand,              2\n",
       ", United Arab               2\n",
       ", Sierra Leone,             2\n",
       ", Saudi Arabia,             2\n",
       ", El Salvador,              2\n",
       ", Dominican Republic,       2\n",
       ", Fiji Islands,             1\n",
       ", Cayman Islands,           1\n",
       ", Thailand Vietnam)         1\n",
       ", Turks and                 1\n",
       ", Cape Verde,               1\n",
       ", Central African           1\n",
       ", Brunei Darussalam,        1\n",
       ", Virgin Islands,           1\n",
       ", Wallis and                1\n",
       ",Bosnia and                 1\n",
       ", Sri Lanka)                1\n",
       ", Slovak Republic)          1\n",
       ", South Georgia             1\n",
       ", Cook Islands,             1\n",
       ", Faroe Islands,            1\n",
       ", Saint Helena,             1\n",
       ", Republic of               1\n",
       ", British Indian            1\n",
       ", Northern Ireland,         1\n",
       ", Netherlands Antilles,     1\n",
       ", Marshall Islands,         1\n",
       ", Gabonese Republic,        1\n",
       ", French Polynesia,         1\n",
       ",Central African            1\n",
       "Name: count, dtype: int64"
      ]
     },
     "execution_count": 884,
     "metadata": {},
     "output_type": "execute_result"
    }
   ],
   "source": [
    "tradeData.Membership.str.extractall('(,\\s*\\w+\\s+\\w+\\W)').value_counts()"
   ]
  },
  {
   "cell_type": "markdown",
   "metadata": {},
   "source": [
    "We found these ones:"
   ]
  },
  {
   "cell_type": "code",
   "execution_count": 885,
   "metadata": {},
   "outputs": [],
   "source": [
    "tradeData['Membership']=tradeData.Membership.str.replace('Finland France',\"Finland, France\",regex=False)\n",
    "tradeData['Membership']=tradeData.Membership.str.replace('Spain Sweden',\"Spain, Sweden\",regex=False)\n",
    "tradeData['Membership']=tradeData.Membership.str.replace('Thailand Vietnam',\"Thailand, Vietnam\",regex=False)"
   ]
  },
  {
   "cell_type": "markdown",
   "metadata": {},
   "source": [
    "Now, let's go for the closing parenthesis:"
   ]
  },
  {
   "cell_type": "code",
   "execution_count": 886,
   "metadata": {},
   "outputs": [
    {
     "data": {
      "text/plain": [
       "(86,)"
      ]
     },
     "execution_count": 886,
     "metadata": {},
     "output_type": "execute_result"
    }
   ],
   "source": [
    "#all\n",
    "tradeData.Membership[tradeData.Membership.str.contains('\\)',regex=True)].shape"
   ]
  },
  {
   "cell_type": "code",
   "execution_count": 887,
   "metadata": {},
   "outputs": [
    {
     "data": {
      "text/plain": [
       "(78,)"
      ]
     },
     "execution_count": 887,
     "metadata": {},
     "output_type": "execute_result"
    }
   ],
   "source": [
    "# with comma after them\n",
    "tradeData.Membership[tradeData.Membership.str.contains('\\),',regex=True)].shape"
   ]
  },
  {
   "cell_type": "code",
   "execution_count": 888,
   "metadata": {},
   "outputs": [
    {
     "data": {
      "text/plain": [
       "(10,)"
      ]
     },
     "execution_count": 888,
     "metadata": {},
     "output_type": "execute_result"
    }
   ],
   "source": [
    "# at the end of the cell\n",
    "tradeData.Membership[tradeData.Membership.str.contains('\\)$',regex=True)].shape"
   ]
  },
  {
   "cell_type": "code",
   "execution_count": 889,
   "metadata": {},
   "outputs": [],
   "source": [
    "tradeData['Membership']=tradeData.Membership.str.replace(')',\"\",regex=False)"
   ]
  },
  {
   "cell_type": "markdown",
   "metadata": {},
   "source": [
    "Are the consecutive symbols?"
   ]
  },
  {
   "cell_type": "code",
   "execution_count": 890,
   "metadata": {},
   "outputs": [
    {
     "data": {
      "text/plain": [
       "[]"
      ]
     },
     "execution_count": 890,
     "metadata": {},
     "output_type": "execute_result"
    }
   ],
   "source": [
    "tradeData.Membership[tradeData.Membership.str.contains('\\W\\W',regex=False)].to_list()"
   ]
  },
  {
   "cell_type": "markdown",
   "metadata": {},
   "source": [
    "No space between _comma_ and word:"
   ]
  },
  {
   "cell_type": "code",
   "execution_count": 891,
   "metadata": {},
   "outputs": [
    {
     "data": {
      "text/plain": [
       "['Austria, Belgium, Bulgaria, Cyprus, Czech Republic, Denmark, Estonia, Finland, France, Germany, Greece, Hungary, Ireland, Italy, Latvia, Lithuania, Luxembourg, Malta, Netherlands, Poland, Portugal, Romania, Slovak Republic, Slovenia, Spain, Sweden, United Kingdom,Bosnia and Herzegovina',\n",
       " 'Angola, Burundi, Cameroon,Central African Republic, Congo, Gabonese Republic, Equatorial Guinea, Rwanda, Sao Tome and Principe, Republic of Chad, Zaire']"
      ]
     },
     "execution_count": 891,
     "metadata": {},
     "output_type": "execute_result"
    }
   ],
   "source": [
    "tradeData.Membership[tradeData.Membership.str.contains(',\\w',regex=True)].to_list()"
   ]
  },
  {
   "cell_type": "code",
   "execution_count": 892,
   "metadata": {},
   "outputs": [],
   "source": [
    "tradeData['Membership']=tradeData.Membership.str.replace('United Kingdom,Bosnia',\"United Kingdom, Bosnia\",regex=True)\n",
    "tradeData['Membership']=tradeData.Membership.str.replace('Cameroon,Central',\"Cameroon, Central\",regex=True)"
   ]
  },
  {
   "cell_type": "markdown",
   "metadata": {},
   "source": [
    "Any comma at the end (unnecessary)?"
   ]
  },
  {
   "cell_type": "code",
   "execution_count": 893,
   "metadata": {},
   "outputs": [
    {
     "data": {
      "text/plain": [
       "['Canada, Iceland, Liechtenstein, Norway, Switzerland,',\n",
       " 'Antigua and Barbuda, Bahamas, Barbados, Belize, Dominica, Dominican Republic, Grenada, Guyana, Jamaica, Saint Kitts and Nevis, Saint Lucia, Saint Vincent and the Grenadines, Suriname, Trinidad and Tobago, Austria, Belgium, Bulgaria, Cyprus, Czech Republic, Denmark, Estonia, Finland, France, Germany, Greece, Hungary, Ireland, Italy, Latvia, Lithuania, Luxembourg, Malta, Netherlands, Poland, Portugal, Romania, Slovak Republic, Slovenia, Spain, Sweden, United Kingdom,']"
      ]
     },
     "execution_count": 893,
     "metadata": {},
     "output_type": "execute_result"
    }
   ],
   "source": [
    "tradeData.Membership[tradeData.Membership.str.contains(\",$\")].to_list()"
   ]
  },
  {
   "cell_type": "code",
   "execution_count": 894,
   "metadata": {},
   "outputs": [],
   "source": [
    "tradeData['Membership']=tradeData.Membership.str.replace(',$',\"\",regex=True)"
   ]
  },
  {
   "cell_type": "markdown",
   "metadata": {},
   "source": [
    "Any word next to a period:"
   ]
  },
  {
   "cell_type": "code",
   "execution_count": 895,
   "metadata": {},
   "outputs": [
    {
     "data": {
      "text/plain": [
       "St.            4\n",
       "Vanuatu.       1\n",
       "Yugoslavia.    1\n",
       "Name: count, dtype: int64"
      ]
     },
     "execution_count": 895,
     "metadata": {},
     "output_type": "execute_result"
    }
   ],
   "source": [
    "tradeData.Membership.str.extract(\"(\\w+\\.)\").value_counts()"
   ]
  },
  {
   "cell_type": "code",
   "execution_count": 896,
   "metadata": {},
   "outputs": [],
   "source": [
    "tradeData['Membership']=tradeData.Membership.str.replace('.',\"\",regex=False)"
   ]
  },
  {
   "cell_type": "markdown",
   "metadata": {},
   "source": [
    "Let's make a list of every country in the column Membership, and look for the lat improvements:"
   ]
  },
  {
   "cell_type": "code",
   "execution_count": 897,
   "metadata": {},
   "outputs": [],
   "source": [
    "listCells=tradeData.Membership.tolist()"
   ]
  },
  {
   "cell_type": "code",
   "execution_count": 898,
   "metadata": {},
   "outputs": [
    {
     "data": {
      "text/plain": [
       "\"Algeria, Angola, Benin, Botswana, Burkina Faso, Burundi, Cameroon, Cape Verde, Central African Republic, Comoros, Congo, Cote d'Ivoire, Djibouti, Egypt, Ethiopia, Equatorial Guinea, Gabon, Gambia, Ghana, Guinea, Guinea Bissau, Kenya, Lesotho, Liberia, Libya, Madagascar, Malawi, Mali, Mauritania, Mauritius, Mozambique, Namibia, Niger, Nigeria, Rwanda, Sahrawi, Sao Tome and Principe, Senegal, Seychelles, Sierra Leone, Somalia, Sudan, Swaziland, Tanzania, Chad, Togo, Tunisia, Uganda, Zaire, Zambia, Zimbabwe\""
      ]
     },
     "execution_count": 898,
     "metadata": {},
     "output_type": "execute_result"
    }
   ],
   "source": [
    "listCells[0]"
   ]
  },
  {
   "cell_type": "code",
   "execution_count": 899,
   "metadata": {},
   "outputs": [
    {
     "data": {
      "text/plain": [
       "'Afghanistan, India'"
      ]
     },
     "execution_count": 899,
     "metadata": {},
     "output_type": "execute_result"
    }
   ],
   "source": [
    "listCells[1]"
   ]
  },
  {
   "cell_type": "code",
   "execution_count": 900,
   "metadata": {},
   "outputs": [],
   "source": [
    "List_listCells=[]\n",
    "for e in listCells:\n",
    "    List_listCells.extend(e.split(','))"
   ]
  },
  {
   "cell_type": "code",
   "execution_count": 901,
   "metadata": {},
   "outputs": [
    {
     "data": {
      "text/plain": [
       "['Algeria',\n",
       " ' Angola',\n",
       " ' Benin',\n",
       " ' Botswana',\n",
       " ' Burkina Faso',\n",
       " ' Burundi',\n",
       " ' Cameroon',\n",
       " ' Cape Verde',\n",
       " ' Central African Republic',\n",
       " ' Comoros',\n",
       " ' Congo',\n",
       " \" Cote d'Ivoire\",\n",
       " ' Djibouti',\n",
       " ' Egypt',\n",
       " ' Ethiopia',\n",
       " ' Equatorial Guinea',\n",
       " ' Gabon',\n",
       " ' Gambia',\n",
       " ' Ghana',\n",
       " ' Guinea',\n",
       " ' Guinea Bissau',\n",
       " ' Kenya',\n",
       " ' Lesotho',\n",
       " ' Liberia',\n",
       " ' Libya',\n",
       " ' Madagascar',\n",
       " ' Malawi',\n",
       " ' Mali',\n",
       " ' Mauritania',\n",
       " ' Mauritius',\n",
       " ' Mozambique',\n",
       " ' Namibia',\n",
       " ' Niger',\n",
       " ' Nigeria',\n",
       " ' Rwanda',\n",
       " ' Sahrawi',\n",
       " ' Sao Tome and Principe',\n",
       " ' Senegal',\n",
       " ' Seychelles',\n",
       " ' Sierra Leone',\n",
       " ' Somalia',\n",
       " ' Sudan',\n",
       " ' Swaziland',\n",
       " ' Tanzania',\n",
       " ' Chad',\n",
       " ' Togo',\n",
       " ' Tunisia',\n",
       " ' Uganda',\n",
       " ' Zaire',\n",
       " ' Zambia',\n",
       " ' Zimbabwe',\n",
       " 'Afghanistan',\n",
       " ' India',\n",
       " 'Afghanistan',\n",
       " ' India',\n",
       " 'Afghanistan',\n",
       " ' India',\n",
       " 'Egypt',\n",
       " ' Jordan',\n",
       " ' Morocco',\n",
       " ' Tunisia',\n",
       " 'Albania',\n",
       " ' Croatia',\n",
       " 'Albania',\n",
       " ' Macedonia',\n",
       " 'Albania',\n",
       " ' Moldova',\n",
       " 'Albania',\n",
       " ' Turkey',\n",
       " 'Albania',\n",
       " ' Kosovo',\n",
       " 'Albania',\n",
       " ' Buglaria',\n",
       " 'Albania',\n",
       " ' Romania',\n",
       " 'Bolivia',\n",
       " ' Colombia',\n",
       " ' Ecuador',\n",
       " ' Peru',\n",
       " ' Venezuela',\n",
       " 'Colombia',\n",
       " ' Ecuador',\n",
       " ' Peru',\n",
       " ' Venezuela',\n",
       " ' Brazil',\n",
       " 'Morocco',\n",
       " ' Tunisia',\n",
       " ' Algeria',\n",
       " ' Libya',\n",
       " ' Mauritania',\n",
       " 'Armenia',\n",
       " ' Georgia',\n",
       " 'Armenia',\n",
       " ' Kazakhstan',\n",
       " 'Armenia',\n",
       " ' Kyrgyz Republic',\n",
       " 'Armenia',\n",
       " ' Moldova',\n",
       " 'Armenia',\n",
       " ' Russia',\n",
       " 'Armenia',\n",
       " ' Turkmenistan',\n",
       " 'Armenia',\n",
       " ' Ukraine',\n",
       " 'Armenia',\n",
       " ' Iran',\n",
       " 'Brunei Darussalam',\n",
       " ' Indonesia',\n",
       " ' Malaysia',\n",
       " ' Philippines',\n",
       " ' Singapore',\n",
       " ' Thailand',\n",
       " 'Brunei Darussalam',\n",
       " ' Indonesia',\n",
       " ' Malaysia',\n",
       " ' Philippines',\n",
       " ' Singapore',\n",
       " ' Thailand',\n",
       " ' Australia',\n",
       " ' New Zealand',\n",
       " 'Brunei Darussalam',\n",
       " ' Cambodia',\n",
       " ' Indonesia',\n",
       " ' Laos',\n",
       " ' Malaysia',\n",
       " ' Myanmar',\n",
       " ' Philippines',\n",
       " ' Singapore',\n",
       " ' Thailand',\n",
       " ' Vietnam',\n",
       " ' China',\n",
       " 'India',\n",
       " ' Brunei Darussalam',\n",
       " ' Cambodia',\n",
       " ' Indonesia',\n",
       " ' Laos',\n",
       " ' Malaysia',\n",
       " ' Myanmar',\n",
       " ' Philippines',\n",
       " ' Singapore',\n",
       " ' Thailand',\n",
       " ' Vietnam',\n",
       " 'Brunei Darussalam',\n",
       " ' Cambodia',\n",
       " ' Indonesia',\n",
       " ' Laos',\n",
       " ' Malaysia',\n",
       " ' Myanmar',\n",
       " ' Philippines',\n",
       " ' Singapore',\n",
       " ' Thailand',\n",
       " ' Vietnam',\n",
       " ' Korea ',\n",
       " 'Brunei Darussalam',\n",
       " ' Cambodia',\n",
       " ' Indonesia',\n",
       " ' Laos',\n",
       " ' Malaysia',\n",
       " ' Myanmar',\n",
       " ' Philippines',\n",
       " ' Singapore',\n",
       " ' Thailand',\n",
       " ' Vietnam',\n",
       " ' Korea',\n",
       " 'Brunei Darussalam',\n",
       " ' Indonesia',\n",
       " ' Malaysia',\n",
       " ' Philippines',\n",
       " ' Singapore',\n",
       " ' Thailand',\n",
       " ' Japan',\n",
       " 'Australia',\n",
       " ' Chile',\n",
       " 'Australia',\n",
       " ' New Zealand',\n",
       " 'Australia',\n",
       " ' Papua New Guinea',\n",
       " 'Australia',\n",
       " ' Thailand',\n",
       " 'Azerbaijan',\n",
       " ' Georgia',\n",
       " 'Azerbaijan',\n",
       " ' Ukraine',\n",
       " 'Estonia',\n",
       " ' Latvia',\n",
       " ' Lithuania',\n",
       " 'Estonia',\n",
       " ' Latvia',\n",
       " ' Lithuania',\n",
       " 'Estonia',\n",
       " ' Latvia',\n",
       " ' Lithuania',\n",
       " 'Bahrain',\n",
       " ' Jordan',\n",
       " 'Bangladesh',\n",
       " ' China',\n",
       " ' India',\n",
       " ' Korea',\n",
       " ' Laos',\n",
       " ' Sri Lanka',\n",
       " 'Bangladesh',\n",
       " ' India',\n",
       " ' Korea',\n",
       " ' Laos',\n",
       " ' Philippines',\n",
       " ' Sri Lanka',\n",
       " ' Thailand',\n",
       " 'Bangladesh',\n",
       " ' India',\n",
       " 'Belarus',\n",
       " ' Ukraine',\n",
       " 'Bhutan',\n",
       " ' India',\n",
       " 'Bhutan',\n",
       " ' India',\n",
       " ' Myanmar',\n",
       " ' Nepal',\n",
       " ' Sri Lanka',\n",
       " ' Thailand',\n",
       " 'Bolivia',\n",
       " ' Chile',\n",
       " 'Bosnia and Herzegovina',\n",
       " ' Croatia',\n",
       " 'Bosnia and Herzegovina',\n",
       " ' Romania',\n",
       " 'Bosnia and Herzegovina',\n",
       " ' Slovenia',\n",
       " 'Bosnia and Herzegovina',\n",
       " ' Macedonia',\n",
       " 'Brunei Darussalam',\n",
       " ' Japan',\n",
       " 'Bulgaria',\n",
       " ' Bosnia and Herzegovina',\n",
       " 'Bulgaria',\n",
       " ' Estonia',\n",
       " 'Bulgaria',\n",
       " ' Israel',\n",
       " 'Bulgaria',\n",
       " ' Latvia',\n",
       " 'Bulgaria',\n",
       " ' Lithuania',\n",
       " 'Bulgaria',\n",
       " ' Macedonia',\n",
       " 'Bulgaria',\n",
       " ' Turkey',\n",
       " 'Canada',\n",
       " ' Chile',\n",
       " 'Canada',\n",
       " ' Colombia',\n",
       " 'Canada',\n",
       " ' Costa Rica',\n",
       " 'Canada',\n",
       " ' Iceland',\n",
       " ' Liechtenstein',\n",
       " ' Norway',\n",
       " ' Switzerland',\n",
       " 'Canada',\n",
       " ' Israel',\n",
       " 'Canada',\n",
       " ' Peru',\n",
       " 'Antigua',\n",
       " ' Bahamas',\n",
       " ' Barbados',\n",
       " ' Belize',\n",
       " ' Dominica',\n",
       " ' Grenada',\n",
       " ' Guyana',\n",
       " ' Jamaica',\n",
       " ' Montserrat',\n",
       " ' St Kitts-Nevis-Anguilla',\n",
       " ' St Lucia',\n",
       " ' St Vincent',\n",
       " ' Trinidad and Tobago',\n",
       " 'Antigua and Barbuda',\n",
       " ' Barbados',\n",
       " ' Belize',\n",
       " ' Dominica',\n",
       " ' Grenada',\n",
       " ' Guyana',\n",
       " ' Jamaica',\n",
       " ' Montserrat',\n",
       " ' St Kitts and Nevis',\n",
       " ' Saint Lucia',\n",
       " ' St Vincent and the Grenadines',\n",
       " ' Suriname',\n",
       " ' Trinidad and Tobago',\n",
       " ' Colombia',\n",
       " 'Antigua and Barbuda',\n",
       " ' Barbados',\n",
       " ' Belize',\n",
       " ' Dominica',\n",
       " ' Grenada',\n",
       " ' Guyana',\n",
       " ' Jamaica',\n",
       " ' St Kitts and Nevis',\n",
       " ' Saint Lucia',\n",
       " ' St Vincent and the Grenadines',\n",
       " ' Suriname',\n",
       " ' Trinidad and Tobago',\n",
       " ' Costa Rica',\n",
       " 'Antigua and Barbuda',\n",
       " ' Bahamas',\n",
       " ' Barbados',\n",
       " ' Belize',\n",
       " ' Dominica',\n",
       " ' Grenada',\n",
       " ' Guyana',\n",
       " ' Haiti',\n",
       " ' Jamaica',\n",
       " ' Montserrat',\n",
       " ' Saint Kitts and Nevis',\n",
       " ' Saint Lucia',\n",
       " ' Saint Vincent and the Grenadines',\n",
       " ' Suriname',\n",
       " ' Trinidad and Tobago',\n",
       " ' Cuba',\n",
       " 'Antigua and Barbuda',\n",
       " ' Barbados',\n",
       " ' Belize',\n",
       " ' Dominica',\n",
       " ' Grenada',\n",
       " ' Guyana',\n",
       " ' Jamaica',\n",
       " ' Montserrat',\n",
       " ' St Kitts and Nevis',\n",
       " ' Saint Lucia',\n",
       " ' St Vincent and the Grenadines',\n",
       " ' Suriname',\n",
       " ' Trinidad and Tobago',\n",
       " ' Dominican Republic',\n",
       " 'Antigua and Barbuda',\n",
       " ' Bahamas',\n",
       " ' Barbados',\n",
       " ' Belize',\n",
       " ' Dominica',\n",
       " ' Grenada',\n",
       " ' Guyana',\n",
       " ' Haiti',\n",
       " ' Jamaica',\n",
       " ' Montserrat',\n",
       " ' Saint Kitts and Nevis',\n",
       " ' Saint Lucia',\n",
       " ' Saint Vincent and the Grenadines',\n",
       " ' Suriname',\n",
       " ' Trinidad and Tobago',\n",
       " ' Venezuela',\n",
       " 'Czech Republic',\n",
       " ' Hungary',\n",
       " ' Poland',\n",
       " ' Slovak Republic',\n",
       " 'Bulgaria',\n",
       " ' Croatia',\n",
       " ' Czech Republic',\n",
       " ' Hungary',\n",
       " ' Poland',\n",
       " ' Romania',\n",
       " ' Slovak Republic',\n",
       " ' Slovenia',\n",
       " ' Croatia',\n",
       " 'Albania',\n",
       " ' Bosnia and Herzegovina',\n",
       " ' Bulgaria',\n",
       " ' Croatia',\n",
       " ' Macedonia',\n",
       " ' Moldova',\n",
       " ' Montenegro',\n",
       " ' Romania',\n",
       " ' Serbia',\n",
       " 'Czech Republic',\n",
       " ' Hungary',\n",
       " ' Poland',\n",
       " ' Romania',\n",
       " ' Slovak Republic',\n",
       " ' Slovenia',\n",
       " ' Bulgaria',\n",
       " 'Bulgaria',\n",
       " ' Croatia',\n",
       " ' Czech Republic',\n",
       " ' Hungary',\n",
       " ' Poland',\n",
       " ' Romania',\n",
       " ' Slovak Republic',\n",
       " ' Slovenia',\n",
       " 'Czech Republic',\n",
       " ' Hungary',\n",
       " ' Poland',\n",
       " ' Slovak Republic',\n",
       " ' Slovenia',\n",
       " ' Romania',\n",
       " 'Czech Republic',\n",
       " ' Hungary',\n",
       " ' Poland',\n",
       " ' Slovak Republic',\n",
       " ' Slovenia',\n",
       " 'Cameroon',\n",
       " ' Central African Republic',\n",
       " ' Congo',\n",
       " ' Gabon',\n",
       " ' Equatorial Guinea',\n",
       " ' Chad',\n",
       " 'Costa Rica',\n",
       " ' Dominican Republic',\n",
       " ' El Salvador',\n",
       " ' Guatemala',\n",
       " ' Honduras',\n",
       " ' Nicaragua',\n",
       " ' United States',\n",
       " 'El Salvador',\n",
       " ' Guatemala',\n",
       " ' Honduras',\n",
       " ' Mexico',\n",
       " 'El Salvador',\n",
       " ' Guatemala',\n",
       " ' Honduras',\n",
       " ' Nicaragua',\n",
       " 'Burundi',\n",
       " ' Rwanda',\n",
       " ' Zaire',\n",
       " 'Chile',\n",
       " ' China',\n",
       " 'Chile',\n",
       " ' Colombia',\n",
       " 'Chile',\n",
       " ' Costa Rica',\n",
       " 'Chile',\n",
       " ' Costa Rica',\n",
       " ' El Salvador',\n",
       " ' Guatemala',\n",
       " ' Honduras',\n",
       " ' Nicaragua',\n",
       " 'Chile',\n",
       " ' Costa Rica',\n",
       " ' El Salvador',\n",
       " ' Guatemala',\n",
       " ' Honduras',\n",
       " ' Nicaragua',\n",
       " 'Chile',\n",
       " ' India',\n",
       " 'Chile',\n",
       " ' Japan',\n",
       " 'Chile',\n",
       " ' Korea',\n",
       " 'Chile',\n",
       " ' Mexico',\n",
       " 'Chile',\n",
       " ' Panama',\n",
       " 'Chile',\n",
       " ' Peru',\n",
       " 'Chile',\n",
       " ' Venezuela',\n",
       " 'China',\n",
       " ' Hong Kong',\n",
       " 'China',\n",
       " ' India',\n",
       " 'China',\n",
       " ' Macao',\n",
       " 'China',\n",
       " ' New Zealand',\n",
       " 'Taiwan',\n",
       " ' Nicaragua',\n",
       " 'Pakistan',\n",
       " ' China',\n",
       " 'China',\n",
       " ' Peru',\n",
       " 'China',\n",
       " ' Singapore',\n",
       " 'Belarus',\n",
       " ' Kazakhstan',\n",
       " ' Russia',\n",
       " ' Ukraine',\n",
       " 'Angola',\n",
       " ' Burundi',\n",
       " ' Comoros',\n",
       " ' Congo',\n",
       " ' Djibouti',\n",
       " ' Egypt',\n",
       " ' Eritrea',\n",
       " ' Ethiopia',\n",
       " ' Kenya',\n",
       " ' Madagascar',\n",
       " ' Malawi',\n",
       " ' Mauritius',\n",
       " ' Namibia',\n",
       " ' Rwanda',\n",
       " ' Seychelles',\n",
       " ' Sudan',\n",
       " ' Swaziland',\n",
       " ' Tanzania',\n",
       " ' Uganda',\n",
       " ' Zambia',\n",
       " ' Zimbabwe',\n",
       " 'Armenia',\n",
       " ' Azerbaijan',\n",
       " ' Belarus',\n",
       " ' Georgia',\n",
       " ' Kazakhstan',\n",
       " ' Kyrgyz Republic',\n",
       " ' Moldova',\n",
       " ' Russia',\n",
       " ' Tajikistan',\n",
       " ' Ukraine',\n",
       " ' Uzbekistan',\n",
       " 'Costa Rica',\n",
       " ' Mexico',\n",
       " 'Costa Rica',\n",
       " ' Panama',\n",
       " 'Croatia',\n",
       " ' Lithuania',\n",
       " 'Croatia',\n",
       " '  Macedonia',\n",
       " 'Croatia',\n",
       " ' Moldova',\n",
       " 'Croatia',\n",
       " ' Serbia',\n",
       " ' Montenegro',\n",
       " 'Croatia',\n",
       " ' Slovenia',\n",
       " 'Croatia',\n",
       " ' Turkey',\n",
       " 'Croatia',\n",
       " ' Bosnia and Herzegovina',\n",
       " 'Czech Republic',\n",
       " ' Estonia',\n",
       " 'Czech Republic',\n",
       " ' Israel',\n",
       " 'Czech Republic',\n",
       " ' Latvia',\n",
       " 'Czech Republic',\n",
       " ' Lithuania',\n",
       " 'Czech Republic',\n",
       " ' Slovak Republic',\n",
       " 'Czech Republic',\n",
       " ' Turkey',\n",
       " 'Panama',\n",
       " ' Dominican Republic',\n",
       " 'Kenya',\n",
       " ' Tanzania',\n",
       " ' Uganda',\n",
       " ' Burundi',\n",
       " ' Rwanda',\n",
       " 'Belgium',\n",
       " ' Denmark',\n",
       " ' France',\n",
       " ' Germany',\n",
       " ' Ireland',\n",
       " ' Italy',\n",
       " ' Luxembourg',\n",
       " ' Netherlands',\n",
       " ' United Kingdom',\n",
       " ' Greece',\n",
       " 'Belgium',\n",
       " ' Denmark',\n",
       " ' France',\n",
       " ' Germany',\n",
       " ' Greece',\n",
       " ' Ireland',\n",
       " ' Italy',\n",
       " ' Luxembourg',\n",
       " ' Netherlands',\n",
       " ' United Kingdom',\n",
       " ' Portugal',\n",
       " ' Spain',\n",
       " 'Belgium',\n",
       " ' Denmark',\n",
       " ' France',\n",
       " ' Germany',\n",
       " ' Greece',\n",
       " ' Ireland',\n",
       " ' Italy',\n",
       " ' Luxembourg',\n",
       " ' Netherlands',\n",
       " ' Portugal',\n",
       " ' Spain',\n",
       " ' United Kingdom',\n",
       " ' Norway',\n",
       " ' Austria',\n",
       " ' Finland',\n",
       " ' Sweden',\n",
       " 'Austria',\n",
       " ' Belgium',\n",
       " ' Denmark',\n",
       " ' Germany',\n",
       " ' Greece',\n",
       " ' Finland',\n",
       " ' France',\n",
       " ' Ireland',\n",
       " ' Italy',\n",
       " ' Luxembourg',\n",
       " ' Netherlands',\n",
       " ' Portugal',\n",
       " ' Spain',\n",
       " ' Sweden',\n",
       " ' United Kingdom',\n",
       " ' Czech Republic',\n",
       " ' Cyprus',\n",
       " ' Estonia',\n",
       " ' Hungary',\n",
       " ' Latvia',\n",
       " ' Lithuania',\n",
       " ' Malta',\n",
       " ' Poland',\n",
       " ' Slovenia',\n",
       " ' Slovak Republic',\n",
       " 'Austria',\n",
       " ' Belgium',\n",
       " ' Czech Republic',\n",
       " ' Cyprus',\n",
       " ' Denmark',\n",
       " ' Estonia',\n",
       " ' Germany',\n",
       " ' Greece',\n",
       " ' Finland',\n",
       " ' France',\n",
       " ' Hungary',\n",
       " ' Ireland',\n",
       " ' Italy',\n",
       " ' Latvia',\n",
       " ' Lithuania',\n",
       " ' Luxembourg',\n",
       " ' Malta',\n",
       " ' Netherlands',\n",
       " ' Poland',\n",
       " ' Portugal',\n",
       " ' Slovenia',\n",
       " ' Slovak Republic',\n",
       " ' Spain',\n",
       " ' Sweden',\n",
       " ' United Kingdom',\n",
       " ' Bulgaria',\n",
       " ' Romania',\n",
       " 'Belgium',\n",
       " ' Denmark',\n",
       " ' France',\n",
       " ' Germany',\n",
       " ' Ireland',\n",
       " ' Italy',\n",
       " ' Luxembourg',\n",
       " ' Netherlands',\n",
       " ' United Kingdom',\n",
       " 'Austria',\n",
       " ' Belgium',\n",
       " ' Denmark',\n",
       " ' Germany',\n",
       " ' Greece',\n",
       " ' Finland',\n",
       " ' France',\n",
       " ' Ireland',\n",
       " ' Italy',\n",
       " ' Luxembourg',\n",
       " ' Netherlands',\n",
       " ' Portugal',\n",
       " ' Spain',\n",
       " ' Sweden',\n",
       " ' United Kingdom',\n",
       " 'Austria',\n",
       " ' Belgium',\n",
       " ' Denmark',\n",
       " ' Finland',\n",
       " ' France',\n",
       " ' Germany',\n",
       " ' Greece',\n",
       " ' Ireland',\n",
       " ' Italy',\n",
       " ' Luxembourg',\n",
       " ' Netherlands',\n",
       " ' Portugal',\n",
       " ' Spain',\n",
       " ' Sweden',\n",
       " ' United Kingdom',\n",
       " ' Albania',\n",
       " 'Austria',\n",
       " ' Belgium',\n",
       " ' Denmark',\n",
       " ' Finland',\n",
       " ' France',\n",
       " ' Germany',\n",
       " ' Greece',\n",
       " ' Ireland',\n",
       " ' Italy',\n",
       " ' Luxembourg',\n",
       " ' Netherlands',\n",
       " ' Portugal',\n",
       " ' Spain',\n",
       " ' Sweden',\n",
       " ' United Kingdom',\n",
       " ' Algeria',\n",
       " 'Austria',\n",
       " ' Belgium',\n",
       " ' Denmark',\n",
       " ' Finland',\n",
       " ' France',\n",
       " ' Germany',\n",
       " ' Greece',\n",
       " ' Ireland',\n",
       " ' Italy',\n",
       " ' Luxembourg',\n",
       " ' Netherlands',\n",
       " ' Portugal',\n",
       " ' Spain',\n",
       " ' Sweden',\n",
       " ' United Kingdom',\n",
       " ' Andorra',\n",
       " 'Austria',\n",
       " ' Belgium',\n",
       " ' Bulgaria',\n",
       " ' Cyprus',\n",
       " ' Czech Republic',\n",
       " ' Denmark',\n",
       " ' Estonia',\n",
       " ' Finland',\n",
       " ' France',\n",
       " ' Germany',\n",
       " ' Greece',\n",
       " ' Hungary',\n",
       " ' Ireland',\n",
       " ' Italy',\n",
       " ' Latvia',\n",
       " ' Lithuania',\n",
       " ' Luxembourg',\n",
       " ' Malta',\n",
       " ' Netherlands',\n",
       " ' Poland',\n",
       " ' Portugal',\n",
       " ' Romania',\n",
       " ' Slovak Republic',\n",
       " ' Slovenia',\n",
       " ' Spain',\n",
       " ' Sweden',\n",
       " ' United Kingdom',\n",
       " ' Bosnia and Herzegovina',\n",
       " 'Belgium',\n",
       " ' Denmark',\n",
       " ' Germany',\n",
       " ' Greece',\n",
       " ' Spain',\n",
       " ' France',\n",
       " ' Ireland',\n",
       " ' Italy',\n",
       " ' Luxembourg',\n",
       " ' Netherlands',\n",
       " ' Portugal',\n",
       " ' United Kingdom',\n",
       " ' Bulgaria',\n",
       " 'Austria',\n",
       " ' Belgium',\n",
       " ' Bulgaria',\n",
       " ' Cyprus',\n",
       " ' Czech Republic',\n",
       " ' Denmark',\n",
       " ' Estonia',\n",
       " ' Finland',\n",
       " ' France',\n",
       " ' Germany',\n",
       " ' Greece',\n",
       " ' Hungary',\n",
       " ' Ireland',\n",
       " ' Italy',\n",
       " ' Latvia',\n",
       " ' Lithuania',\n",
       " ' Luxembourg',\n",
       " ' Malta',\n",
       " ' Netherlands',\n",
       " ' Poland',\n",
       " ' Portugal',\n",
       " ' Romania',\n",
       " ' Slovak Republic',\n",
       " ' Slovenia',\n",
       " ' Spain',\n",
       " ' Sweden',\n",
       " ' United Kingdom',\n",
       " ' Cameroon',\n",
       " 'Antigua and Barbuda',\n",
       " ' Bahamas',\n",
       " ' Barbados',\n",
       " ' Belize',\n",
       " ' Dominica',\n",
       " ' Dominican Republic',\n",
       " ' Grenada',\n",
       " ' Guyana',\n",
       " ' Jamaica',\n",
       " ' Saint Kitts and Nevis',\n",
       " ' Saint Lucia',\n",
       " ' Saint Vincent and the Grenadines',\n",
       " ' Suriname',\n",
       " ' Trinidad and Tobago',\n",
       " ' Austria',\n",
       " ' Belgium',\n",
       " ' Bulgaria',\n",
       " ' Cyprus',\n",
       " ' Czech Republic',\n",
       " ' Denmark',\n",
       " ' Estonia',\n",
       " ' Finland',\n",
       " ' France',\n",
       " ' Germany',\n",
       " ' Greece',\n",
       " ' Hungary',\n",
       " ' Ireland',\n",
       " ' Italy',\n",
       " ' Latvia',\n",
       " ' Lithuania',\n",
       " ' Luxembourg',\n",
       " ' Malta',\n",
       " ' Netherlands',\n",
       " ' Poland',\n",
       " ' Portugal',\n",
       " ' Romania',\n",
       " ' Slovak Republic',\n",
       " ' Slovenia',\n",
       " ' Spain',\n",
       " ' Sweden',\n",
       " ' United Kingdom',\n",
       " 'Austria',\n",
       " ' Belgium',\n",
       " ' Denmark',\n",
       " ' Germany',\n",
       " ' Finland',\n",
       " ' France',\n",
       " ' Greece',\n",
       " ' Ireland',\n",
       " ' Italy',\n",
       " ' Luxembourg',\n",
       " ' Netherlands',\n",
       " ' Portugal',\n",
       " ' Spain',\n",
       " ' Sweden',\n",
       " ' United Kingdom',\n",
       " ' Chile',\n",
       " 'Austria',\n",
       " ' Belgium',\n",
       " ' Bulgaria',\n",
       " ' Cyprus',\n",
       " ' Czech Republic',\n",
       " ' Denmark',\n",
       " ' Germany',\n",
       " ' Estonia',\n",
       " ' Finland',\n",
       " ' France',\n",
       " ' Greece',\n",
       " ' Hungary',\n",
       " ' Ireland',\n",
       " ' Italy',\n",
       " ' Latvia',\n",
       " ' Lithuania',\n",
       " ' Luxembourg',\n",
       " ' Malta',\n",
       " ' Netherlands',\n",
       " ' Poland',\n",
       " ' Portugal',\n",
       " ' Romania',\n",
       " ' Slovak Republic',\n",
       " ' Slovenia',\n",
       " ' Spain',\n",
       " ' Sweden',\n",
       " ' United Kingdom',\n",
       " \" Cote d'Ivoire\",\n",
       " 'Austria',\n",
       " ' Belgium',\n",
       " ' Bulgaria',\n",
       " ' Cyprus',\n",
       " ' Czech Republic',\n",
       " ' Denmark',\n",
       " ' Estonia',\n",
       " ' Finland',\n",
       " ' France',\n",
       " ' Germany',\n",
       " ' Greece',\n",
       " ' Hungary',\n",
       " ' Ireland',\n",
       " ' Italy',\n",
       " ' Latvia',\n",
       " ' Lithuania',\n",
       " ' Luxembourg',\n",
       " ' Malta',\n",
       " ' Netherlands',\n",
       " ' Poland',\n",
       " ' Portugal',\n",
       " ' Romania',\n",
       " ' Slovak Republic',\n",
       " ' Slovenia',\n",
       " ' Spain',\n",
       " ' Sweden',\n",
       " ' United Kingdom',\n",
       " ' Croatia',\n",
       " 'Belgium',\n",
       " ' Denmark',\n",
       " ' France',\n",
       " ' Germany',\n",
       " ' Greece',\n",
       " ' United Kingdom',\n",
       " ' Ireland',\n",
       " ' Italy',\n",
       " ' Luxembourg',\n",
       " ' Netherlands',\n",
       " ' Portugal',\n",
       " ' Spain',\n",
       " ' Cyprus',\n",
       " 'Austria',\n",
       " ' Belgium',\n",
       " ' Denmark',\n",
       " ' Finland',\n",
       " ' France',\n",
       " ' Germany',\n",
       " ' Greece',\n",
       " ' Ireland',\n",
       " ' Italy',\n",
       " ' Luxembourg',\n",
       " ' Netherlands',\n",
       " ' Portugal',\n",
       " ' Spain',\n",
       " ' Sweden',\n",
       " ' United Kingdom',\n",
       " ' Czech Republic',\n",
       " 'Belgium',\n",
       " ' Denmark',\n",
       " ' France',\n",
       " ' Germany',\n",
       " ' Ireland',\n",
       " ' Italy',\n",
       " ' Luxembourg',\n",
       " ' Netherlands',\n",
       " ' United Kingdom',\n",
       " ' Egypt',\n",
       " 'Belgium',\n",
       " ' France',\n",
       " ' Germany',\n",
       " ' Italy',\n",
       " ' Luxembourg',\n",
       " ' Netherlands',\n",
       " ' Denmark',\n",
       " ' Ireland',\n",
       " ' United Kingdom',\n",
       " ' Greece',\n",
       " ' Spain',\n",
       " ' Portugal',\n",
       " ' Estonia',\n",
       " 'Austria',\n",
       " ' Belgium',\n",
       " ' Denmark',\n",
       " ' Finland',\n",
       " ' France',\n",
       " ' Germany',\n",
       " ' Greece',\n",
       " ' Ireland',\n",
       " ' Italy',\n",
       " ' Luxembourg',\n",
       " ' Netherlands',\n",
       " ' Portugal',\n",
       " ' Spain',\n",
       " ' Sweden',\n",
       " ' United Kingdom',\n",
       " ' Faroe Islands',\n",
       " 'Austria',\n",
       " ' Belgium',\n",
       " ' Denmark',\n",
       " ' Finland',\n",
       " ' France',\n",
       " ' Germany',\n",
       " ' Greece',\n",
       " ' Ireland',\n",
       " ' Italy',\n",
       " ' Luxembourg',\n",
       " ' Netherlands',\n",
       " ' Portugal',\n",
       " ' Spain',\n",
       " ' Sweden',\n",
       " ' United Kingdom',\n",
       " ' Macedonia',\n",
       " 'Belgium',\n",
       " ' Denmark',\n",
       " ' France',\n",
       " ' Germany',\n",
       " ' Greece',\n",
       " ' United Kingdom',\n",
       " ' Ireland',\n",
       " ' Italy',\n",
       " ' Luxembourg',\n",
       " ' Netherlands',\n",
       " ' Portugal',\n",
       " ' Spain',\n",
       " ' Hungary',\n",
       " 'Belgium',\n",
       " ' Denmark',\n",
       " ' France',\n",
       " ' Germany',\n",
       " ' Greece',\n",
       " ' United Kingdom',\n",
       " ' Ireland',\n",
       " ' Italy',\n",
       " ' Luxembourg',\n",
       " ' Netherlands',\n",
       " ' Portugal',\n",
       " ' Spain',\n",
       " ' Iceland',\n",
       " 'Austria',\n",
       " ' Belgium',\n",
       " ' Denmark',\n",
       " ' Finland',\n",
       " ' France',\n",
       " ' Germany',\n",
       " ...]"
      ]
     },
     "execution_count": 901,
     "metadata": {},
     "output_type": "execute_result"
    }
   ],
   "source": [
    "List_listCells"
   ]
  },
  {
   "cell_type": "markdown",
   "metadata": {},
   "source": [
    "Preparing unique values:"
   ]
  },
  {
   "cell_type": "code",
   "execution_count": 902,
   "metadata": {},
   "outputs": [
    {
     "data": {
      "text/plain": [
       "['Afghanistan',\n",
       " 'Albania',\n",
       " 'Algeria',\n",
       " 'Andorra',\n",
       " 'Angola',\n",
       " 'Anguilla',\n",
       " 'Antigua',\n",
       " 'Antigua and Barbuda',\n",
       " 'Argentina',\n",
       " 'Armenia',\n",
       " 'Aruba',\n",
       " 'Australia',\n",
       " 'Austria',\n",
       " 'Azerbaijan',\n",
       " 'Bahamas',\n",
       " 'Bahrain',\n",
       " 'Bangladesh',\n",
       " 'Barbados',\n",
       " 'Belarus',\n",
       " 'Belgium',\n",
       " 'Belize',\n",
       " 'Benin',\n",
       " 'Bhutan',\n",
       " 'Bolivia',\n",
       " 'Bosnia and Herzegovina',\n",
       " 'Botswana',\n",
       " 'Brazil',\n",
       " 'British',\n",
       " 'British Indian Ocean Territory',\n",
       " 'Brunei Darussalam',\n",
       " 'Buglaria',\n",
       " 'Bulgaria',\n",
       " 'Burkina Faso',\n",
       " 'Burundi',\n",
       " 'Cambodia',\n",
       " 'Cameroon',\n",
       " 'Canada',\n",
       " 'Cape Verde',\n",
       " 'Cayman Islands',\n",
       " 'Central African Republic',\n",
       " 'Chad',\n",
       " 'Chile',\n",
       " 'China',\n",
       " 'Colombia',\n",
       " 'Comoros',\n",
       " 'Congo',\n",
       " 'Cook Islands',\n",
       " 'Costa Rica',\n",
       " \"Cote d'Ivoire\",\n",
       " 'Croatia',\n",
       " 'Cuba',\n",
       " 'Cyprus',\n",
       " 'Czech Republic',\n",
       " 'Denmark',\n",
       " 'Djibouti',\n",
       " 'Dominica',\n",
       " 'Dominican Republic',\n",
       " 'Ecuador',\n",
       " 'Egypt',\n",
       " 'El Salvador',\n",
       " 'Equatorial Guinea',\n",
       " 'Eritrea',\n",
       " 'Estonia',\n",
       " 'Ethiopia',\n",
       " 'Falkland or Malvinas',\n",
       " 'Faroe Islands',\n",
       " 'Fiji',\n",
       " 'Fiji Islands',\n",
       " 'Finland',\n",
       " 'France',\n",
       " 'French Polynesia',\n",
       " 'French Southern Territories',\n",
       " 'Gabon',\n",
       " 'Gabonese Republic',\n",
       " 'Gambia',\n",
       " 'Georgia',\n",
       " 'Germany',\n",
       " 'Ghana',\n",
       " 'Greece',\n",
       " 'Greenland',\n",
       " 'Grenada',\n",
       " 'Guatemala',\n",
       " 'Guinea',\n",
       " 'Guinea Bissau',\n",
       " 'Guyana',\n",
       " 'Haiti',\n",
       " 'Honduras',\n",
       " 'Hong Kong',\n",
       " 'Hungary',\n",
       " 'Iceland',\n",
       " 'India',\n",
       " 'Indonesia',\n",
       " 'Iran',\n",
       " 'Iraq',\n",
       " 'Ireland',\n",
       " 'Israel',\n",
       " 'Italy',\n",
       " 'Jamaica',\n",
       " 'Japan',\n",
       " 'Jordan',\n",
       " 'Jordon',\n",
       " 'Kazakhstan',\n",
       " 'Kenya',\n",
       " 'Kiribati',\n",
       " 'Korea',\n",
       " 'Kosovo',\n",
       " 'Kuwait',\n",
       " 'Kyrgyz Republic',\n",
       " 'Laos',\n",
       " 'Latvia',\n",
       " 'Lebanon',\n",
       " 'Lesotho',\n",
       " 'Liberia',\n",
       " 'Libya',\n",
       " 'Liechtenstein',\n",
       " 'Lithuania',\n",
       " 'Luxembourg',\n",
       " 'Macao',\n",
       " 'Macedonia',\n",
       " 'Madagascar',\n",
       " 'Malawi',\n",
       " 'Malaysia',\n",
       " 'Maldives',\n",
       " 'Mali',\n",
       " 'Malta',\n",
       " 'Marshall Islands',\n",
       " 'Mauritania',\n",
       " 'Mauritius',\n",
       " 'Mayotte',\n",
       " 'Mexico',\n",
       " 'Micronesia',\n",
       " 'Moldova',\n",
       " 'Mongolia',\n",
       " 'Montenegro',\n",
       " 'Montserrat',\n",
       " 'Morocco',\n",
       " 'Mozambique',\n",
       " 'Myanmar',\n",
       " 'Namibia',\n",
       " 'Nauru',\n",
       " 'Nepal',\n",
       " 'Netherlands',\n",
       " 'Netherlands Antilles',\n",
       " 'New Caledonia',\n",
       " 'New Zealand',\n",
       " 'Nicaragua',\n",
       " 'Niger',\n",
       " 'Nigeria',\n",
       " 'Niue',\n",
       " 'Northern Ireland',\n",
       " 'Norway',\n",
       " 'Oman',\n",
       " 'Pakistan',\n",
       " 'Palau',\n",
       " 'Palestine',\n",
       " 'Panama',\n",
       " 'Papua New Guinea',\n",
       " 'Paraguay',\n",
       " 'Peru',\n",
       " 'Philippines',\n",
       " 'Pitcairn',\n",
       " 'Poland',\n",
       " 'Portugal',\n",
       " 'Qatar',\n",
       " 'Republic of Chad',\n",
       " 'Romania',\n",
       " 'Russia',\n",
       " 'Rwanda',\n",
       " 'Sahrawi',\n",
       " 'Saint Helena',\n",
       " 'Saint Kitts and Nevis',\n",
       " 'Saint Lucia',\n",
       " 'Saint Pierre and Miquelon',\n",
       " 'Saint Vincent and the Grenadines',\n",
       " 'Samoa',\n",
       " 'San Marino',\n",
       " 'Sao Tome and Principe',\n",
       " 'Saudi Arabia',\n",
       " 'Senegal',\n",
       " 'Serbia',\n",
       " 'Seychelles',\n",
       " 'Sierra Leone',\n",
       " 'Singapore',\n",
       " 'Slovak Republic',\n",
       " 'Slovenia',\n",
       " 'Solomon Islands',\n",
       " 'Somalia',\n",
       " 'South Africa',\n",
       " 'South Georgia and the South Sandwich Islands',\n",
       " 'Spain',\n",
       " 'Sri Lanka',\n",
       " 'St Kitts and Nevis',\n",
       " 'St Kitts-Nevis-Anguilla',\n",
       " 'St Lucia',\n",
       " 'St Vincent',\n",
       " 'St Vincent and the Grenadines',\n",
       " 'Sudan',\n",
       " 'Suriname',\n",
       " 'Swaziland',\n",
       " 'Sweden',\n",
       " 'Switzerland',\n",
       " 'Syria',\n",
       " 'Taiwan',\n",
       " 'Tajikistan',\n",
       " 'Tanzania',\n",
       " 'Thailand',\n",
       " 'Togo',\n",
       " 'Tonga',\n",
       " 'Trinidad and Tobago',\n",
       " 'Tunisia',\n",
       " 'Turkey',\n",
       " 'Turkmenistan',\n",
       " 'Turks and Caicos Islands',\n",
       " 'Tuvalu',\n",
       " 'Uganda',\n",
       " 'Ukraine',\n",
       " 'United Arab Emirates',\n",
       " 'United Kingdom',\n",
       " 'United States',\n",
       " 'Uruguay',\n",
       " 'Uzbekistan',\n",
       " 'Vanuatu',\n",
       " 'Venezuela',\n",
       " 'Vietnam',\n",
       " 'Virgin Islands',\n",
       " 'Wallis and Futuna Islands',\n",
       " 'Western Samoa',\n",
       " 'Yemen',\n",
       " 'Yugoslavia',\n",
       " 'Zaire',\n",
       " 'Zambia',\n",
       " 'Zimbabwe']"
      ]
     },
     "execution_count": 902,
     "metadata": {},
     "output_type": "execute_result"
    }
   ],
   "source": [
    "finalTest=[x.strip() for x in List_listCells]\n",
    "finalTest=list(set(finalTest))\n",
    "finalTest.sort()\n",
    "finalTest"
   ]
  },
  {
   "cell_type": "markdown",
   "metadata": {},
   "source": [
    "Last corrections:"
   ]
  },
  {
   "cell_type": "code",
   "execution_count": 904,
   "metadata": {},
   "outputs": [],
   "source": [
    "tradeData['Membership']=tradeData.Membership.str.replace('Antigua,',\"Antigua and Barbuda,\",regex=False)\n",
    "tradeData['Membership']=tradeData.Membership.str.replace(\"Buglaria\",\"Bulgaria\",regex=False)\n",
    "tradeData['Membership']=tradeData.Membership.str.replace(\"Fiji Islands\",\"Fiji\",regex=False)\n",
    "tradeData['Membership']=tradeData.Membership.str.replace(\"Gabonese Republic\",\"Gabon\",regex=False)\n",
    "tradeData['Membership']=tradeData.Membership.str.replace(\"Jordon\",\"Jordan\",regex=False)\n",
    "tradeData['Membership']=tradeData.Membership.str.replace(\"Northern Ireland\",\"United Kingdom\",regex=False)\n",
    "tradeData['Membership']=tradeData.Membership.str.replace(\"St Vincent,\",\"St Vincent and the Grenadines,\",regex=False)"
   ]
  },
  {
   "cell_type": "code",
   "execution_count": 905,
   "metadata": {},
   "outputs": [],
   "source": [
    "tradeData.to_pickle(\"tradeData_good.pkl\")"
   ]
  },
  {
   "cell_type": "code",
   "execution_count": 907,
   "metadata": {},
   "outputs": [
    {
     "data": {
      "text/plain": [
       "<itertools.combinations at 0x1150cf4c0>"
      ]
     },
     "execution_count": 907,
     "metadata": {},
     "output_type": "execute_result"
    }
   ],
   "source": [
    "from itertools import combinations\n",
    "\n",
    "combinations(tradeData.Membership.iloc[0].split(', '), 2)"
   ]
  },
  {
   "cell_type": "code",
   "execution_count": 911,
   "metadata": {},
   "outputs": [],
   "source": [
    "import networkx as nx\n",
    "trade_G = nx.Graph(combinations(tradeData.Membership.iloc[0].split(', '), 2)) "
   ]
  },
  {
   "cell_type": "code",
   "execution_count": 912,
   "metadata": {},
   "outputs": [
    {
     "data": {
      "text/plain": [
       "NodeView(('Algeria', 'Angola', 'Benin', 'Botswana', 'Burkina Faso', 'Burundi', 'Cameroon', 'Cape Verde', 'Central African Republic', 'Comoros', 'Congo', \"Cote d'Ivoire\", 'Djibouti', 'Egypt', 'Ethiopia', 'Equatorial Guinea', 'Gabon', 'Gambia', 'Ghana', 'Guinea', 'Guinea Bissau', 'Kenya', 'Lesotho', 'Liberia', 'Libya', 'Madagascar', 'Malawi', 'Mali', 'Mauritania', 'Mauritius', 'Mozambique', 'Namibia', 'Niger', 'Nigeria', 'Rwanda', 'Sahrawi', 'Sao Tome and Principe', 'Senegal', 'Seychelles', 'Sierra Leone', 'Somalia', 'Sudan', 'Swaziland', 'Tanzania', 'Chad', 'Togo', 'Tunisia', 'Uganda', 'Zaire', 'Zambia', 'Zimbabwe'))"
      ]
     },
     "execution_count": 912,
     "metadata": {},
     "output_type": "execute_result"
    }
   ],
   "source": [
    "trade_G.nodes()"
   ]
  },
  {
   "cell_type": "code",
   "execution_count": 913,
   "metadata": {},
   "outputs": [
    {
     "data": {
      "text/plain": [
       "EdgeView([('Algeria', 'Angola'), ('Algeria', 'Benin'), ('Algeria', 'Botswana'), ('Algeria', 'Burkina Faso'), ('Algeria', 'Burundi'), ('Algeria', 'Cameroon'), ('Algeria', 'Cape Verde'), ('Algeria', 'Central African Republic'), ('Algeria', 'Comoros'), ('Algeria', 'Congo'), ('Algeria', \"Cote d'Ivoire\"), ('Algeria', 'Djibouti'), ('Algeria', 'Egypt'), ('Algeria', 'Ethiopia'), ('Algeria', 'Equatorial Guinea'), ('Algeria', 'Gabon'), ('Algeria', 'Gambia'), ('Algeria', 'Ghana'), ('Algeria', 'Guinea'), ('Algeria', 'Guinea Bissau'), ('Algeria', 'Kenya'), ('Algeria', 'Lesotho'), ('Algeria', 'Liberia'), ('Algeria', 'Libya'), ('Algeria', 'Madagascar'), ('Algeria', 'Malawi'), ('Algeria', 'Mali'), ('Algeria', 'Mauritania'), ('Algeria', 'Mauritius'), ('Algeria', 'Mozambique'), ('Algeria', 'Namibia'), ('Algeria', 'Niger'), ('Algeria', 'Nigeria'), ('Algeria', 'Rwanda'), ('Algeria', 'Sahrawi'), ('Algeria', 'Sao Tome and Principe'), ('Algeria', 'Senegal'), ('Algeria', 'Seychelles'), ('Algeria', 'Sierra Leone'), ('Algeria', 'Somalia'), ('Algeria', 'Sudan'), ('Algeria', 'Swaziland'), ('Algeria', 'Tanzania'), ('Algeria', 'Chad'), ('Algeria', 'Togo'), ('Algeria', 'Tunisia'), ('Algeria', 'Uganda'), ('Algeria', 'Zaire'), ('Algeria', 'Zambia'), ('Algeria', 'Zimbabwe'), ('Angola', 'Benin'), ('Angola', 'Botswana'), ('Angola', 'Burkina Faso'), ('Angola', 'Burundi'), ('Angola', 'Cameroon'), ('Angola', 'Cape Verde'), ('Angola', 'Central African Republic'), ('Angola', 'Comoros'), ('Angola', 'Congo'), ('Angola', \"Cote d'Ivoire\"), ('Angola', 'Djibouti'), ('Angola', 'Egypt'), ('Angola', 'Ethiopia'), ('Angola', 'Equatorial Guinea'), ('Angola', 'Gabon'), ('Angola', 'Gambia'), ('Angola', 'Ghana'), ('Angola', 'Guinea'), ('Angola', 'Guinea Bissau'), ('Angola', 'Kenya'), ('Angola', 'Lesotho'), ('Angola', 'Liberia'), ('Angola', 'Libya'), ('Angola', 'Madagascar'), ('Angola', 'Malawi'), ('Angola', 'Mali'), ('Angola', 'Mauritania'), ('Angola', 'Mauritius'), ('Angola', 'Mozambique'), ('Angola', 'Namibia'), ('Angola', 'Niger'), ('Angola', 'Nigeria'), ('Angola', 'Rwanda'), ('Angola', 'Sahrawi'), ('Angola', 'Sao Tome and Principe'), ('Angola', 'Senegal'), ('Angola', 'Seychelles'), ('Angola', 'Sierra Leone'), ('Angola', 'Somalia'), ('Angola', 'Sudan'), ('Angola', 'Swaziland'), ('Angola', 'Tanzania'), ('Angola', 'Chad'), ('Angola', 'Togo'), ('Angola', 'Tunisia'), ('Angola', 'Uganda'), ('Angola', 'Zaire'), ('Angola', 'Zambia'), ('Angola', 'Zimbabwe'), ('Benin', 'Botswana'), ('Benin', 'Burkina Faso'), ('Benin', 'Burundi'), ('Benin', 'Cameroon'), ('Benin', 'Cape Verde'), ('Benin', 'Central African Republic'), ('Benin', 'Comoros'), ('Benin', 'Congo'), ('Benin', \"Cote d'Ivoire\"), ('Benin', 'Djibouti'), ('Benin', 'Egypt'), ('Benin', 'Ethiopia'), ('Benin', 'Equatorial Guinea'), ('Benin', 'Gabon'), ('Benin', 'Gambia'), ('Benin', 'Ghana'), ('Benin', 'Guinea'), ('Benin', 'Guinea Bissau'), ('Benin', 'Kenya'), ('Benin', 'Lesotho'), ('Benin', 'Liberia'), ('Benin', 'Libya'), ('Benin', 'Madagascar'), ('Benin', 'Malawi'), ('Benin', 'Mali'), ('Benin', 'Mauritania'), ('Benin', 'Mauritius'), ('Benin', 'Mozambique'), ('Benin', 'Namibia'), ('Benin', 'Niger'), ('Benin', 'Nigeria'), ('Benin', 'Rwanda'), ('Benin', 'Sahrawi'), ('Benin', 'Sao Tome and Principe'), ('Benin', 'Senegal'), ('Benin', 'Seychelles'), ('Benin', 'Sierra Leone'), ('Benin', 'Somalia'), ('Benin', 'Sudan'), ('Benin', 'Swaziland'), ('Benin', 'Tanzania'), ('Benin', 'Chad'), ('Benin', 'Togo'), ('Benin', 'Tunisia'), ('Benin', 'Uganda'), ('Benin', 'Zaire'), ('Benin', 'Zambia'), ('Benin', 'Zimbabwe'), ('Botswana', 'Burkina Faso'), ('Botswana', 'Burundi'), ('Botswana', 'Cameroon'), ('Botswana', 'Cape Verde'), ('Botswana', 'Central African Republic'), ('Botswana', 'Comoros'), ('Botswana', 'Congo'), ('Botswana', \"Cote d'Ivoire\"), ('Botswana', 'Djibouti'), ('Botswana', 'Egypt'), ('Botswana', 'Ethiopia'), ('Botswana', 'Equatorial Guinea'), ('Botswana', 'Gabon'), ('Botswana', 'Gambia'), ('Botswana', 'Ghana'), ('Botswana', 'Guinea'), ('Botswana', 'Guinea Bissau'), ('Botswana', 'Kenya'), ('Botswana', 'Lesotho'), ('Botswana', 'Liberia'), ('Botswana', 'Libya'), ('Botswana', 'Madagascar'), ('Botswana', 'Malawi'), ('Botswana', 'Mali'), ('Botswana', 'Mauritania'), ('Botswana', 'Mauritius'), ('Botswana', 'Mozambique'), ('Botswana', 'Namibia'), ('Botswana', 'Niger'), ('Botswana', 'Nigeria'), ('Botswana', 'Rwanda'), ('Botswana', 'Sahrawi'), ('Botswana', 'Sao Tome and Principe'), ('Botswana', 'Senegal'), ('Botswana', 'Seychelles'), ('Botswana', 'Sierra Leone'), ('Botswana', 'Somalia'), ('Botswana', 'Sudan'), ('Botswana', 'Swaziland'), ('Botswana', 'Tanzania'), ('Botswana', 'Chad'), ('Botswana', 'Togo'), ('Botswana', 'Tunisia'), ('Botswana', 'Uganda'), ('Botswana', 'Zaire'), ('Botswana', 'Zambia'), ('Botswana', 'Zimbabwe'), ('Burkina Faso', 'Burundi'), ('Burkina Faso', 'Cameroon'), ('Burkina Faso', 'Cape Verde'), ('Burkina Faso', 'Central African Republic'), ('Burkina Faso', 'Comoros'), ('Burkina Faso', 'Congo'), ('Burkina Faso', \"Cote d'Ivoire\"), ('Burkina Faso', 'Djibouti'), ('Burkina Faso', 'Egypt'), ('Burkina Faso', 'Ethiopia'), ('Burkina Faso', 'Equatorial Guinea'), ('Burkina Faso', 'Gabon'), ('Burkina Faso', 'Gambia'), ('Burkina Faso', 'Ghana'), ('Burkina Faso', 'Guinea'), ('Burkina Faso', 'Guinea Bissau'), ('Burkina Faso', 'Kenya'), ('Burkina Faso', 'Lesotho'), ('Burkina Faso', 'Liberia'), ('Burkina Faso', 'Libya'), ('Burkina Faso', 'Madagascar'), ('Burkina Faso', 'Malawi'), ('Burkina Faso', 'Mali'), ('Burkina Faso', 'Mauritania'), ('Burkina Faso', 'Mauritius'), ('Burkina Faso', 'Mozambique'), ('Burkina Faso', 'Namibia'), ('Burkina Faso', 'Niger'), ('Burkina Faso', 'Nigeria'), ('Burkina Faso', 'Rwanda'), ('Burkina Faso', 'Sahrawi'), ('Burkina Faso', 'Sao Tome and Principe'), ('Burkina Faso', 'Senegal'), ('Burkina Faso', 'Seychelles'), ('Burkina Faso', 'Sierra Leone'), ('Burkina Faso', 'Somalia'), ('Burkina Faso', 'Sudan'), ('Burkina Faso', 'Swaziland'), ('Burkina Faso', 'Tanzania'), ('Burkina Faso', 'Chad'), ('Burkina Faso', 'Togo'), ('Burkina Faso', 'Tunisia'), ('Burkina Faso', 'Uganda'), ('Burkina Faso', 'Zaire'), ('Burkina Faso', 'Zambia'), ('Burkina Faso', 'Zimbabwe'), ('Burundi', 'Cameroon'), ('Burundi', 'Cape Verde'), ('Burundi', 'Central African Republic'), ('Burundi', 'Comoros'), ('Burundi', 'Congo'), ('Burundi', \"Cote d'Ivoire\"), ('Burundi', 'Djibouti'), ('Burundi', 'Egypt'), ('Burundi', 'Ethiopia'), ('Burundi', 'Equatorial Guinea'), ('Burundi', 'Gabon'), ('Burundi', 'Gambia'), ('Burundi', 'Ghana'), ('Burundi', 'Guinea'), ('Burundi', 'Guinea Bissau'), ('Burundi', 'Kenya'), ('Burundi', 'Lesotho'), ('Burundi', 'Liberia'), ('Burundi', 'Libya'), ('Burundi', 'Madagascar'), ('Burundi', 'Malawi'), ('Burundi', 'Mali'), ('Burundi', 'Mauritania'), ('Burundi', 'Mauritius'), ('Burundi', 'Mozambique'), ('Burundi', 'Namibia'), ('Burundi', 'Niger'), ('Burundi', 'Nigeria'), ('Burundi', 'Rwanda'), ('Burundi', 'Sahrawi'), ('Burundi', 'Sao Tome and Principe'), ('Burundi', 'Senegal'), ('Burundi', 'Seychelles'), ('Burundi', 'Sierra Leone'), ('Burundi', 'Somalia'), ('Burundi', 'Sudan'), ('Burundi', 'Swaziland'), ('Burundi', 'Tanzania'), ('Burundi', 'Chad'), ('Burundi', 'Togo'), ('Burundi', 'Tunisia'), ('Burundi', 'Uganda'), ('Burundi', 'Zaire'), ('Burundi', 'Zambia'), ('Burundi', 'Zimbabwe'), ('Cameroon', 'Cape Verde'), ('Cameroon', 'Central African Republic'), ('Cameroon', 'Comoros'), ('Cameroon', 'Congo'), ('Cameroon', \"Cote d'Ivoire\"), ('Cameroon', 'Djibouti'), ('Cameroon', 'Egypt'), ('Cameroon', 'Ethiopia'), ('Cameroon', 'Equatorial Guinea'), ('Cameroon', 'Gabon'), ('Cameroon', 'Gambia'), ('Cameroon', 'Ghana'), ('Cameroon', 'Guinea'), ('Cameroon', 'Guinea Bissau'), ('Cameroon', 'Kenya'), ('Cameroon', 'Lesotho'), ('Cameroon', 'Liberia'), ('Cameroon', 'Libya'), ('Cameroon', 'Madagascar'), ('Cameroon', 'Malawi'), ('Cameroon', 'Mali'), ('Cameroon', 'Mauritania'), ('Cameroon', 'Mauritius'), ('Cameroon', 'Mozambique'), ('Cameroon', 'Namibia'), ('Cameroon', 'Niger'), ('Cameroon', 'Nigeria'), ('Cameroon', 'Rwanda'), ('Cameroon', 'Sahrawi'), ('Cameroon', 'Sao Tome and Principe'), ('Cameroon', 'Senegal'), ('Cameroon', 'Seychelles'), ('Cameroon', 'Sierra Leone'), ('Cameroon', 'Somalia'), ('Cameroon', 'Sudan'), ('Cameroon', 'Swaziland'), ('Cameroon', 'Tanzania'), ('Cameroon', 'Chad'), ('Cameroon', 'Togo'), ('Cameroon', 'Tunisia'), ('Cameroon', 'Uganda'), ('Cameroon', 'Zaire'), ('Cameroon', 'Zambia'), ('Cameroon', 'Zimbabwe'), ('Cape Verde', 'Central African Republic'), ('Cape Verde', 'Comoros'), ('Cape Verde', 'Congo'), ('Cape Verde', \"Cote d'Ivoire\"), ('Cape Verde', 'Djibouti'), ('Cape Verde', 'Egypt'), ('Cape Verde', 'Ethiopia'), ('Cape Verde', 'Equatorial Guinea'), ('Cape Verde', 'Gabon'), ('Cape Verde', 'Gambia'), ('Cape Verde', 'Ghana'), ('Cape Verde', 'Guinea'), ('Cape Verde', 'Guinea Bissau'), ('Cape Verde', 'Kenya'), ('Cape Verde', 'Lesotho'), ('Cape Verde', 'Liberia'), ('Cape Verde', 'Libya'), ('Cape Verde', 'Madagascar'), ('Cape Verde', 'Malawi'), ('Cape Verde', 'Mali'), ('Cape Verde', 'Mauritania'), ('Cape Verde', 'Mauritius'), ('Cape Verde', 'Mozambique'), ('Cape Verde', 'Namibia'), ('Cape Verde', 'Niger'), ('Cape Verde', 'Nigeria'), ('Cape Verde', 'Rwanda'), ('Cape Verde', 'Sahrawi'), ('Cape Verde', 'Sao Tome and Principe'), ('Cape Verde', 'Senegal'), ('Cape Verde', 'Seychelles'), ('Cape Verde', 'Sierra Leone'), ('Cape Verde', 'Somalia'), ('Cape Verde', 'Sudan'), ('Cape Verde', 'Swaziland'), ('Cape Verde', 'Tanzania'), ('Cape Verde', 'Chad'), ('Cape Verde', 'Togo'), ('Cape Verde', 'Tunisia'), ('Cape Verde', 'Uganda'), ('Cape Verde', 'Zaire'), ('Cape Verde', 'Zambia'), ('Cape Verde', 'Zimbabwe'), ('Central African Republic', 'Comoros'), ('Central African Republic', 'Congo'), ('Central African Republic', \"Cote d'Ivoire\"), ('Central African Republic', 'Djibouti'), ('Central African Republic', 'Egypt'), ('Central African Republic', 'Ethiopia'), ('Central African Republic', 'Equatorial Guinea'), ('Central African Republic', 'Gabon'), ('Central African Republic', 'Gambia'), ('Central African Republic', 'Ghana'), ('Central African Republic', 'Guinea'), ('Central African Republic', 'Guinea Bissau'), ('Central African Republic', 'Kenya'), ('Central African Republic', 'Lesotho'), ('Central African Republic', 'Liberia'), ('Central African Republic', 'Libya'), ('Central African Republic', 'Madagascar'), ('Central African Republic', 'Malawi'), ('Central African Republic', 'Mali'), ('Central African Republic', 'Mauritania'), ('Central African Republic', 'Mauritius'), ('Central African Republic', 'Mozambique'), ('Central African Republic', 'Namibia'), ('Central African Republic', 'Niger'), ('Central African Republic', 'Nigeria'), ('Central African Republic', 'Rwanda'), ('Central African Republic', 'Sahrawi'), ('Central African Republic', 'Sao Tome and Principe'), ('Central African Republic', 'Senegal'), ('Central African Republic', 'Seychelles'), ('Central African Republic', 'Sierra Leone'), ('Central African Republic', 'Somalia'), ('Central African Republic', 'Sudan'), ('Central African Republic', 'Swaziland'), ('Central African Republic', 'Tanzania'), ('Central African Republic', 'Chad'), ('Central African Republic', 'Togo'), ('Central African Republic', 'Tunisia'), ('Central African Republic', 'Uganda'), ('Central African Republic', 'Zaire'), ('Central African Republic', 'Zambia'), ('Central African Republic', 'Zimbabwe'), ('Comoros', 'Congo'), ('Comoros', \"Cote d'Ivoire\"), ('Comoros', 'Djibouti'), ('Comoros', 'Egypt'), ('Comoros', 'Ethiopia'), ('Comoros', 'Equatorial Guinea'), ('Comoros', 'Gabon'), ('Comoros', 'Gambia'), ('Comoros', 'Ghana'), ('Comoros', 'Guinea'), ('Comoros', 'Guinea Bissau'), ('Comoros', 'Kenya'), ('Comoros', 'Lesotho'), ('Comoros', 'Liberia'), ('Comoros', 'Libya'), ('Comoros', 'Madagascar'), ('Comoros', 'Malawi'), ('Comoros', 'Mali'), ('Comoros', 'Mauritania'), ('Comoros', 'Mauritius'), ('Comoros', 'Mozambique'), ('Comoros', 'Namibia'), ('Comoros', 'Niger'), ('Comoros', 'Nigeria'), ('Comoros', 'Rwanda'), ('Comoros', 'Sahrawi'), ('Comoros', 'Sao Tome and Principe'), ('Comoros', 'Senegal'), ('Comoros', 'Seychelles'), ('Comoros', 'Sierra Leone'), ('Comoros', 'Somalia'), ('Comoros', 'Sudan'), ('Comoros', 'Swaziland'), ('Comoros', 'Tanzania'), ('Comoros', 'Chad'), ('Comoros', 'Togo'), ('Comoros', 'Tunisia'), ('Comoros', 'Uganda'), ('Comoros', 'Zaire'), ('Comoros', 'Zambia'), ('Comoros', 'Zimbabwe'), ('Congo', \"Cote d'Ivoire\"), ('Congo', 'Djibouti'), ('Congo', 'Egypt'), ('Congo', 'Ethiopia'), ('Congo', 'Equatorial Guinea'), ('Congo', 'Gabon'), ('Congo', 'Gambia'), ('Congo', 'Ghana'), ('Congo', 'Guinea'), ('Congo', 'Guinea Bissau'), ('Congo', 'Kenya'), ('Congo', 'Lesotho'), ('Congo', 'Liberia'), ('Congo', 'Libya'), ('Congo', 'Madagascar'), ('Congo', 'Malawi'), ('Congo', 'Mali'), ('Congo', 'Mauritania'), ('Congo', 'Mauritius'), ('Congo', 'Mozambique'), ('Congo', 'Namibia'), ('Congo', 'Niger'), ('Congo', 'Nigeria'), ('Congo', 'Rwanda'), ('Congo', 'Sahrawi'), ('Congo', 'Sao Tome and Principe'), ('Congo', 'Senegal'), ('Congo', 'Seychelles'), ('Congo', 'Sierra Leone'), ('Congo', 'Somalia'), ('Congo', 'Sudan'), ('Congo', 'Swaziland'), ('Congo', 'Tanzania'), ('Congo', 'Chad'), ('Congo', 'Togo'), ('Congo', 'Tunisia'), ('Congo', 'Uganda'), ('Congo', 'Zaire'), ('Congo', 'Zambia'), ('Congo', 'Zimbabwe'), (\"Cote d'Ivoire\", 'Djibouti'), (\"Cote d'Ivoire\", 'Egypt'), (\"Cote d'Ivoire\", 'Ethiopia'), (\"Cote d'Ivoire\", 'Equatorial Guinea'), (\"Cote d'Ivoire\", 'Gabon'), (\"Cote d'Ivoire\", 'Gambia'), (\"Cote d'Ivoire\", 'Ghana'), (\"Cote d'Ivoire\", 'Guinea'), (\"Cote d'Ivoire\", 'Guinea Bissau'), (\"Cote d'Ivoire\", 'Kenya'), (\"Cote d'Ivoire\", 'Lesotho'), (\"Cote d'Ivoire\", 'Liberia'), (\"Cote d'Ivoire\", 'Libya'), (\"Cote d'Ivoire\", 'Madagascar'), (\"Cote d'Ivoire\", 'Malawi'), (\"Cote d'Ivoire\", 'Mali'), (\"Cote d'Ivoire\", 'Mauritania'), (\"Cote d'Ivoire\", 'Mauritius'), (\"Cote d'Ivoire\", 'Mozambique'), (\"Cote d'Ivoire\", 'Namibia'), (\"Cote d'Ivoire\", 'Niger'), (\"Cote d'Ivoire\", 'Nigeria'), (\"Cote d'Ivoire\", 'Rwanda'), (\"Cote d'Ivoire\", 'Sahrawi'), (\"Cote d'Ivoire\", 'Sao Tome and Principe'), (\"Cote d'Ivoire\", 'Senegal'), (\"Cote d'Ivoire\", 'Seychelles'), (\"Cote d'Ivoire\", 'Sierra Leone'), (\"Cote d'Ivoire\", 'Somalia'), (\"Cote d'Ivoire\", 'Sudan'), (\"Cote d'Ivoire\", 'Swaziland'), (\"Cote d'Ivoire\", 'Tanzania'), (\"Cote d'Ivoire\", 'Chad'), (\"Cote d'Ivoire\", 'Togo'), (\"Cote d'Ivoire\", 'Tunisia'), (\"Cote d'Ivoire\", 'Uganda'), (\"Cote d'Ivoire\", 'Zaire'), (\"Cote d'Ivoire\", 'Zambia'), (\"Cote d'Ivoire\", 'Zimbabwe'), ('Djibouti', 'Egypt'), ('Djibouti', 'Ethiopia'), ('Djibouti', 'Equatorial Guinea'), ('Djibouti', 'Gabon'), ('Djibouti', 'Gambia'), ('Djibouti', 'Ghana'), ('Djibouti', 'Guinea'), ('Djibouti', 'Guinea Bissau'), ('Djibouti', 'Kenya'), ('Djibouti', 'Lesotho'), ('Djibouti', 'Liberia'), ('Djibouti', 'Libya'), ('Djibouti', 'Madagascar'), ('Djibouti', 'Malawi'), ('Djibouti', 'Mali'), ('Djibouti', 'Mauritania'), ('Djibouti', 'Mauritius'), ('Djibouti', 'Mozambique'), ('Djibouti', 'Namibia'), ('Djibouti', 'Niger'), ('Djibouti', 'Nigeria'), ('Djibouti', 'Rwanda'), ('Djibouti', 'Sahrawi'), ('Djibouti', 'Sao Tome and Principe'), ('Djibouti', 'Senegal'), ('Djibouti', 'Seychelles'), ('Djibouti', 'Sierra Leone'), ('Djibouti', 'Somalia'), ('Djibouti', 'Sudan'), ('Djibouti', 'Swaziland'), ('Djibouti', 'Tanzania'), ('Djibouti', 'Chad'), ('Djibouti', 'Togo'), ('Djibouti', 'Tunisia'), ('Djibouti', 'Uganda'), ('Djibouti', 'Zaire'), ('Djibouti', 'Zambia'), ('Djibouti', 'Zimbabwe'), ('Egypt', 'Ethiopia'), ('Egypt', 'Equatorial Guinea'), ('Egypt', 'Gabon'), ('Egypt', 'Gambia'), ('Egypt', 'Ghana'), ('Egypt', 'Guinea'), ('Egypt', 'Guinea Bissau'), ('Egypt', 'Kenya'), ('Egypt', 'Lesotho'), ('Egypt', 'Liberia'), ('Egypt', 'Libya'), ('Egypt', 'Madagascar'), ('Egypt', 'Malawi'), ('Egypt', 'Mali'), ('Egypt', 'Mauritania'), ('Egypt', 'Mauritius'), ('Egypt', 'Mozambique'), ('Egypt', 'Namibia'), ('Egypt', 'Niger'), ('Egypt', 'Nigeria'), ('Egypt', 'Rwanda'), ('Egypt', 'Sahrawi'), ('Egypt', 'Sao Tome and Principe'), ('Egypt', 'Senegal'), ('Egypt', 'Seychelles'), ('Egypt', 'Sierra Leone'), ('Egypt', 'Somalia'), ('Egypt', 'Sudan'), ('Egypt', 'Swaziland'), ('Egypt', 'Tanzania'), ('Egypt', 'Chad'), ('Egypt', 'Togo'), ('Egypt', 'Tunisia'), ('Egypt', 'Uganda'), ('Egypt', 'Zaire'), ('Egypt', 'Zambia'), ('Egypt', 'Zimbabwe'), ('Ethiopia', 'Equatorial Guinea'), ('Ethiopia', 'Gabon'), ('Ethiopia', 'Gambia'), ('Ethiopia', 'Ghana'), ('Ethiopia', 'Guinea'), ('Ethiopia', 'Guinea Bissau'), ('Ethiopia', 'Kenya'), ('Ethiopia', 'Lesotho'), ('Ethiopia', 'Liberia'), ('Ethiopia', 'Libya'), ('Ethiopia', 'Madagascar'), ('Ethiopia', 'Malawi'), ('Ethiopia', 'Mali'), ('Ethiopia', 'Mauritania'), ('Ethiopia', 'Mauritius'), ('Ethiopia', 'Mozambique'), ('Ethiopia', 'Namibia'), ('Ethiopia', 'Niger'), ('Ethiopia', 'Nigeria'), ('Ethiopia', 'Rwanda'), ('Ethiopia', 'Sahrawi'), ('Ethiopia', 'Sao Tome and Principe'), ('Ethiopia', 'Senegal'), ('Ethiopia', 'Seychelles'), ('Ethiopia', 'Sierra Leone'), ('Ethiopia', 'Somalia'), ('Ethiopia', 'Sudan'), ('Ethiopia', 'Swaziland'), ('Ethiopia', 'Tanzania'), ('Ethiopia', 'Chad'), ('Ethiopia', 'Togo'), ('Ethiopia', 'Tunisia'), ('Ethiopia', 'Uganda'), ('Ethiopia', 'Zaire'), ('Ethiopia', 'Zambia'), ('Ethiopia', 'Zimbabwe'), ('Equatorial Guinea', 'Gabon'), ('Equatorial Guinea', 'Gambia'), ('Equatorial Guinea', 'Ghana'), ('Equatorial Guinea', 'Guinea'), ('Equatorial Guinea', 'Guinea Bissau'), ('Equatorial Guinea', 'Kenya'), ('Equatorial Guinea', 'Lesotho'), ('Equatorial Guinea', 'Liberia'), ('Equatorial Guinea', 'Libya'), ('Equatorial Guinea', 'Madagascar'), ('Equatorial Guinea', 'Malawi'), ('Equatorial Guinea', 'Mali'), ('Equatorial Guinea', 'Mauritania'), ('Equatorial Guinea', 'Mauritius'), ('Equatorial Guinea', 'Mozambique'), ('Equatorial Guinea', 'Namibia'), ('Equatorial Guinea', 'Niger'), ('Equatorial Guinea', 'Nigeria'), ('Equatorial Guinea', 'Rwanda'), ('Equatorial Guinea', 'Sahrawi'), ('Equatorial Guinea', 'Sao Tome and Principe'), ('Equatorial Guinea', 'Senegal'), ('Equatorial Guinea', 'Seychelles'), ('Equatorial Guinea', 'Sierra Leone'), ('Equatorial Guinea', 'Somalia'), ('Equatorial Guinea', 'Sudan'), ('Equatorial Guinea', 'Swaziland'), ('Equatorial Guinea', 'Tanzania'), ('Equatorial Guinea', 'Chad'), ('Equatorial Guinea', 'Togo'), ('Equatorial Guinea', 'Tunisia'), ('Equatorial Guinea', 'Uganda'), ('Equatorial Guinea', 'Zaire'), ('Equatorial Guinea', 'Zambia'), ('Equatorial Guinea', 'Zimbabwe'), ('Gabon', 'Gambia'), ('Gabon', 'Ghana'), ('Gabon', 'Guinea'), ('Gabon', 'Guinea Bissau'), ('Gabon', 'Kenya'), ('Gabon', 'Lesotho'), ('Gabon', 'Liberia'), ('Gabon', 'Libya'), ('Gabon', 'Madagascar'), ('Gabon', 'Malawi'), ('Gabon', 'Mali'), ('Gabon', 'Mauritania'), ('Gabon', 'Mauritius'), ('Gabon', 'Mozambique'), ('Gabon', 'Namibia'), ('Gabon', 'Niger'), ('Gabon', 'Nigeria'), ('Gabon', 'Rwanda'), ('Gabon', 'Sahrawi'), ('Gabon', 'Sao Tome and Principe'), ('Gabon', 'Senegal'), ('Gabon', 'Seychelles'), ('Gabon', 'Sierra Leone'), ('Gabon', 'Somalia'), ('Gabon', 'Sudan'), ('Gabon', 'Swaziland'), ('Gabon', 'Tanzania'), ('Gabon', 'Chad'), ('Gabon', 'Togo'), ('Gabon', 'Tunisia'), ('Gabon', 'Uganda'), ('Gabon', 'Zaire'), ('Gabon', 'Zambia'), ('Gabon', 'Zimbabwe'), ('Gambia', 'Ghana'), ('Gambia', 'Guinea'), ('Gambia', 'Guinea Bissau'), ('Gambia', 'Kenya'), ('Gambia', 'Lesotho'), ('Gambia', 'Liberia'), ('Gambia', 'Libya'), ('Gambia', 'Madagascar'), ('Gambia', 'Malawi'), ('Gambia', 'Mali'), ('Gambia', 'Mauritania'), ('Gambia', 'Mauritius'), ('Gambia', 'Mozambique'), ('Gambia', 'Namibia'), ('Gambia', 'Niger'), ('Gambia', 'Nigeria'), ('Gambia', 'Rwanda'), ('Gambia', 'Sahrawi'), ('Gambia', 'Sao Tome and Principe'), ('Gambia', 'Senegal'), ('Gambia', 'Seychelles'), ('Gambia', 'Sierra Leone'), ('Gambia', 'Somalia'), ('Gambia', 'Sudan'), ('Gambia', 'Swaziland'), ('Gambia', 'Tanzania'), ('Gambia', 'Chad'), ('Gambia', 'Togo'), ('Gambia', 'Tunisia'), ('Gambia', 'Uganda'), ('Gambia', 'Zaire'), ('Gambia', 'Zambia'), ('Gambia', 'Zimbabwe'), ('Ghana', 'Guinea'), ('Ghana', 'Guinea Bissau'), ('Ghana', 'Kenya'), ('Ghana', 'Lesotho'), ('Ghana', 'Liberia'), ('Ghana', 'Libya'), ('Ghana', 'Madagascar'), ('Ghana', 'Malawi'), ('Ghana', 'Mali'), ('Ghana', 'Mauritania'), ('Ghana', 'Mauritius'), ('Ghana', 'Mozambique'), ('Ghana', 'Namibia'), ('Ghana', 'Niger'), ('Ghana', 'Nigeria'), ('Ghana', 'Rwanda'), ('Ghana', 'Sahrawi'), ('Ghana', 'Sao Tome and Principe'), ('Ghana', 'Senegal'), ('Ghana', 'Seychelles'), ('Ghana', 'Sierra Leone'), ('Ghana', 'Somalia'), ('Ghana', 'Sudan'), ('Ghana', 'Swaziland'), ('Ghana', 'Tanzania'), ('Ghana', 'Chad'), ('Ghana', 'Togo'), ('Ghana', 'Tunisia'), ('Ghana', 'Uganda'), ('Ghana', 'Zaire'), ('Ghana', 'Zambia'), ('Ghana', 'Zimbabwe'), ('Guinea', 'Guinea Bissau'), ('Guinea', 'Kenya'), ('Guinea', 'Lesotho'), ('Guinea', 'Liberia'), ('Guinea', 'Libya'), ('Guinea', 'Madagascar'), ('Guinea', 'Malawi'), ('Guinea', 'Mali'), ('Guinea', 'Mauritania'), ('Guinea', 'Mauritius'), ('Guinea', 'Mozambique'), ('Guinea', 'Namibia'), ('Guinea', 'Niger'), ('Guinea', 'Nigeria'), ('Guinea', 'Rwanda'), ('Guinea', 'Sahrawi'), ('Guinea', 'Sao Tome and Principe'), ('Guinea', 'Senegal'), ('Guinea', 'Seychelles'), ('Guinea', 'Sierra Leone'), ('Guinea', 'Somalia'), ('Guinea', 'Sudan'), ('Guinea', 'Swaziland'), ('Guinea', 'Tanzania'), ('Guinea', 'Chad'), ('Guinea', 'Togo'), ('Guinea', 'Tunisia'), ('Guinea', 'Uganda'), ('Guinea', 'Zaire'), ('Guinea', 'Zambia'), ('Guinea', 'Zimbabwe'), ('Guinea Bissau', 'Kenya'), ('Guinea Bissau', 'Lesotho'), ('Guinea Bissau', 'Liberia'), ('Guinea Bissau', 'Libya'), ('Guinea Bissau', 'Madagascar'), ('Guinea Bissau', 'Malawi'), ('Guinea Bissau', 'Mali'), ('Guinea Bissau', 'Mauritania'), ('Guinea Bissau', 'Mauritius'), ('Guinea Bissau', 'Mozambique'), ('Guinea Bissau', 'Namibia'), ('Guinea Bissau', 'Niger'), ('Guinea Bissau', 'Nigeria'), ('Guinea Bissau', 'Rwanda'), ('Guinea Bissau', 'Sahrawi'), ('Guinea Bissau', 'Sao Tome and Principe'), ('Guinea Bissau', 'Senegal'), ('Guinea Bissau', 'Seychelles'), ('Guinea Bissau', 'Sierra Leone'), ('Guinea Bissau', 'Somalia'), ('Guinea Bissau', 'Sudan'), ('Guinea Bissau', 'Swaziland'), ('Guinea Bissau', 'Tanzania'), ('Guinea Bissau', 'Chad'), ('Guinea Bissau', 'Togo'), ('Guinea Bissau', 'Tunisia'), ('Guinea Bissau', 'Uganda'), ('Guinea Bissau', 'Zaire'), ('Guinea Bissau', 'Zambia'), ('Guinea Bissau', 'Zimbabwe'), ('Kenya', 'Lesotho'), ('Kenya', 'Liberia'), ('Kenya', 'Libya'), ('Kenya', 'Madagascar'), ('Kenya', 'Malawi'), ('Kenya', 'Mali'), ('Kenya', 'Mauritania'), ('Kenya', 'Mauritius'), ('Kenya', 'Mozambique'), ('Kenya', 'Namibia'), ('Kenya', 'Niger'), ('Kenya', 'Nigeria'), ('Kenya', 'Rwanda'), ('Kenya', 'Sahrawi'), ('Kenya', 'Sao Tome and Principe'), ('Kenya', 'Senegal'), ('Kenya', 'Seychelles'), ('Kenya', 'Sierra Leone'), ('Kenya', 'Somalia'), ('Kenya', 'Sudan'), ('Kenya', 'Swaziland'), ('Kenya', 'Tanzania'), ('Kenya', 'Chad'), ('Kenya', 'Togo'), ('Kenya', 'Tunisia'), ('Kenya', 'Uganda'), ('Kenya', 'Zaire'), ('Kenya', 'Zambia'), ('Kenya', 'Zimbabwe'), ('Lesotho', 'Liberia'), ('Lesotho', 'Libya'), ('Lesotho', 'Madagascar'), ('Lesotho', 'Malawi'), ('Lesotho', 'Mali'), ('Lesotho', 'Mauritania'), ('Lesotho', 'Mauritius'), ('Lesotho', 'Mozambique'), ('Lesotho', 'Namibia'), ('Lesotho', 'Niger'), ('Lesotho', 'Nigeria'), ('Lesotho', 'Rwanda'), ('Lesotho', 'Sahrawi'), ('Lesotho', 'Sao Tome and Principe'), ('Lesotho', 'Senegal'), ('Lesotho', 'Seychelles'), ('Lesotho', 'Sierra Leone'), ('Lesotho', 'Somalia'), ('Lesotho', 'Sudan'), ('Lesotho', 'Swaziland'), ('Lesotho', 'Tanzania'), ('Lesotho', 'Chad'), ('Lesotho', 'Togo'), ('Lesotho', 'Tunisia'), ('Lesotho', 'Uganda'), ('Lesotho', 'Zaire'), ('Lesotho', 'Zambia'), ('Lesotho', 'Zimbabwe'), ('Liberia', 'Libya'), ('Liberia', 'Madagascar'), ('Liberia', 'Malawi'), ('Liberia', 'Mali'), ('Liberia', 'Mauritania'), ('Liberia', 'Mauritius'), ('Liberia', 'Mozambique'), ('Liberia', 'Namibia'), ('Liberia', 'Niger'), ('Liberia', 'Nigeria'), ('Liberia', 'Rwanda'), ('Liberia', 'Sahrawi'), ('Liberia', 'Sao Tome and Principe'), ('Liberia', 'Senegal'), ('Liberia', 'Seychelles'), ('Liberia', 'Sierra Leone'), ('Liberia', 'Somalia'), ('Liberia', 'Sudan'), ('Liberia', 'Swaziland'), ('Liberia', 'Tanzania'), ('Liberia', 'Chad'), ('Liberia', 'Togo'), ('Liberia', 'Tunisia'), ('Liberia', 'Uganda'), ('Liberia', 'Zaire'), ('Liberia', 'Zambia'), ('Liberia', 'Zimbabwe'), ('Libya', 'Madagascar'), ('Libya', 'Malawi'), ('Libya', 'Mali'), ('Libya', 'Mauritania'), ('Libya', 'Mauritius'), ('Libya', 'Mozambique'), ('Libya', 'Namibia'), ('Libya', 'Niger'), ('Libya', 'Nigeria'), ('Libya', 'Rwanda'), ('Libya', 'Sahrawi'), ('Libya', 'Sao Tome and Principe'), ('Libya', 'Senegal'), ('Libya', 'Seychelles'), ('Libya', 'Sierra Leone'), ('Libya', 'Somalia'), ('Libya', 'Sudan'), ('Libya', 'Swaziland'), ('Libya', 'Tanzania'), ('Libya', 'Chad'), ('Libya', 'Togo'), ('Libya', 'Tunisia'), ('Libya', 'Uganda'), ('Libya', 'Zaire'), ('Libya', 'Zambia'), ('Libya', 'Zimbabwe'), ('Madagascar', 'Malawi'), ('Madagascar', 'Mali'), ('Madagascar', 'Mauritania'), ('Madagascar', 'Mauritius'), ('Madagascar', 'Mozambique'), ('Madagascar', 'Namibia'), ('Madagascar', 'Niger'), ('Madagascar', 'Nigeria'), ('Madagascar', 'Rwanda'), ('Madagascar', 'Sahrawi'), ('Madagascar', 'Sao Tome and Principe'), ('Madagascar', 'Senegal'), ('Madagascar', 'Seychelles'), ('Madagascar', 'Sierra Leone'), ('Madagascar', 'Somalia'), ('Madagascar', 'Sudan'), ('Madagascar', 'Swaziland'), ('Madagascar', 'Tanzania'), ('Madagascar', 'Chad'), ('Madagascar', 'Togo'), ('Madagascar', 'Tunisia'), ('Madagascar', 'Uganda'), ('Madagascar', 'Zaire'), ('Madagascar', 'Zambia'), ('Madagascar', 'Zimbabwe'), ('Malawi', 'Mali'), ('Malawi', 'Mauritania'), ('Malawi', 'Mauritius'), ('Malawi', 'Mozambique'), ('Malawi', 'Namibia'), ('Malawi', 'Niger'), ('Malawi', 'Nigeria'), ('Malawi', 'Rwanda'), ('Malawi', 'Sahrawi'), ('Malawi', 'Sao Tome and Principe'), ('Malawi', 'Senegal'), ('Malawi', 'Seychelles'), ('Malawi', 'Sierra Leone'), ('Malawi', 'Somalia'), ('Malawi', 'Sudan'), ('Malawi', 'Swaziland'), ('Malawi', 'Tanzania'), ('Malawi', 'Chad'), ('Malawi', 'Togo'), ('Malawi', 'Tunisia'), ('Malawi', 'Uganda'), ('Malawi', 'Zaire'), ('Malawi', 'Zambia'), ('Malawi', 'Zimbabwe'), ('Mali', 'Mauritania'), ('Mali', 'Mauritius'), ('Mali', 'Mozambique'), ('Mali', 'Namibia'), ('Mali', 'Niger'), ('Mali', 'Nigeria'), ('Mali', 'Rwanda'), ('Mali', 'Sahrawi'), ('Mali', 'Sao Tome and Principe'), ('Mali', 'Senegal'), ('Mali', 'Seychelles'), ('Mali', 'Sierra Leone'), ('Mali', 'Somalia'), ('Mali', 'Sudan'), ('Mali', 'Swaziland'), ('Mali', 'Tanzania'), ('Mali', 'Chad'), ('Mali', 'Togo'), ('Mali', 'Tunisia'), ('Mali', 'Uganda'), ('Mali', 'Zaire'), ('Mali', 'Zambia'), ('Mali', 'Zimbabwe'), ('Mauritania', 'Mauritius'), ('Mauritania', 'Mozambique'), ('Mauritania', 'Namibia'), ('Mauritania', 'Niger'), ('Mauritania', 'Nigeria'), ('Mauritania', 'Rwanda'), ('Mauritania', 'Sahrawi'), ('Mauritania', 'Sao Tome and Principe'), ('Mauritania', 'Senegal'), ('Mauritania', 'Seychelles'), ('Mauritania', 'Sierra Leone'), ('Mauritania', 'Somalia'), ('Mauritania', 'Sudan'), ('Mauritania', 'Swaziland'), ('Mauritania', 'Tanzania'), ('Mauritania', 'Chad'), ('Mauritania', 'Togo'), ('Mauritania', 'Tunisia'), ('Mauritania', 'Uganda'), ('Mauritania', 'Zaire'), ('Mauritania', 'Zambia'), ('Mauritania', 'Zimbabwe'), ('Mauritius', 'Mozambique'), ('Mauritius', 'Namibia'), ('Mauritius', 'Niger'), ('Mauritius', 'Nigeria'), ('Mauritius', 'Rwanda'), ('Mauritius', 'Sahrawi'), ('Mauritius', 'Sao Tome and Principe'), ('Mauritius', 'Senegal'), ('Mauritius', 'Seychelles'), ('Mauritius', 'Sierra Leone'), ('Mauritius', 'Somalia'), ('Mauritius', 'Sudan'), ('Mauritius', 'Swaziland'), ('Mauritius', 'Tanzania'), ('Mauritius', 'Chad'), ('Mauritius', 'Togo'), ('Mauritius', 'Tunisia'), ('Mauritius', 'Uganda'), ('Mauritius', 'Zaire'), ('Mauritius', 'Zambia'), ('Mauritius', 'Zimbabwe'), ('Mozambique', 'Namibia'), ('Mozambique', 'Niger'), ('Mozambique', 'Nigeria'), ('Mozambique', 'Rwanda'), ('Mozambique', 'Sahrawi'), ('Mozambique', 'Sao Tome and Principe'), ('Mozambique', 'Senegal'), ('Mozambique', 'Seychelles'), ('Mozambique', 'Sierra Leone'), ('Mozambique', 'Somalia'), ('Mozambique', 'Sudan'), ('Mozambique', 'Swaziland'), ('Mozambique', 'Tanzania'), ('Mozambique', 'Chad'), ('Mozambique', 'Togo'), ('Mozambique', 'Tunisia'), ('Mozambique', 'Uganda'), ('Mozambique', 'Zaire'), ('Mozambique', 'Zambia'), ('Mozambique', 'Zimbabwe'), ('Namibia', 'Niger'), ('Namibia', 'Nigeria'), ('Namibia', 'Rwanda'), ('Namibia', 'Sahrawi'), ('Namibia', 'Sao Tome and Principe'), ('Namibia', 'Senegal'), ('Namibia', 'Seychelles'), ('Namibia', 'Sierra Leone'), ('Namibia', 'Somalia'), ('Namibia', 'Sudan'), ('Namibia', 'Swaziland'), ('Namibia', 'Tanzania'), ('Namibia', 'Chad'), ('Namibia', 'Togo'), ('Namibia', 'Tunisia'), ('Namibia', 'Uganda'), ('Namibia', 'Zaire'), ('Namibia', 'Zambia'), ('Namibia', 'Zimbabwe'), ('Niger', 'Nigeria'), ('Niger', 'Rwanda'), ('Niger', 'Sahrawi'), ('Niger', 'Sao Tome and Principe'), ('Niger', 'Senegal'), ('Niger', 'Seychelles'), ('Niger', 'Sierra Leone'), ('Niger', 'Somalia'), ('Niger', 'Sudan'), ('Niger', 'Swaziland'), ('Niger', 'Tanzania'), ('Niger', 'Chad'), ('Niger', 'Togo'), ('Niger', 'Tunisia'), ('Niger', 'Uganda'), ('Niger', 'Zaire'), ('Niger', 'Zambia'), ('Niger', 'Zimbabwe'), ('Nigeria', 'Rwanda'), ('Nigeria', 'Sahrawi'), ('Nigeria', 'Sao Tome and Principe'), ('Nigeria', 'Senegal'), ('Nigeria', 'Seychelles'), ('Nigeria', 'Sierra Leone'), ('Nigeria', 'Somalia'), ('Nigeria', 'Sudan'), ('Nigeria', 'Swaziland'), ('Nigeria', 'Tanzania'), ('Nigeria', 'Chad'), ('Nigeria', 'Togo'), ('Nigeria', 'Tunisia'), ('Nigeria', 'Uganda'), ('Nigeria', 'Zaire'), ('Nigeria', 'Zambia'), ('Nigeria', 'Zimbabwe'), ('Rwanda', 'Sahrawi'), ('Rwanda', 'Sao Tome and Principe'), ('Rwanda', 'Senegal'), ('Rwanda', 'Seychelles'), ('Rwanda', 'Sierra Leone'), ('Rwanda', 'Somalia'), ('Rwanda', 'Sudan'), ('Rwanda', 'Swaziland'), ('Rwanda', 'Tanzania'), ('Rwanda', 'Chad'), ('Rwanda', 'Togo'), ('Rwanda', 'Tunisia'), ('Rwanda', 'Uganda'), ('Rwanda', 'Zaire'), ('Rwanda', 'Zambia'), ('Rwanda', 'Zimbabwe'), ('Sahrawi', 'Sao Tome and Principe'), ('Sahrawi', 'Senegal'), ('Sahrawi', 'Seychelles'), ('Sahrawi', 'Sierra Leone'), ('Sahrawi', 'Somalia'), ('Sahrawi', 'Sudan'), ('Sahrawi', 'Swaziland'), ('Sahrawi', 'Tanzania'), ('Sahrawi', 'Chad'), ('Sahrawi', 'Togo'), ('Sahrawi', 'Tunisia'), ('Sahrawi', 'Uganda'), ('Sahrawi', 'Zaire'), ('Sahrawi', 'Zambia'), ('Sahrawi', 'Zimbabwe'), ('Sao Tome and Principe', 'Senegal'), ('Sao Tome and Principe', 'Seychelles'), ('Sao Tome and Principe', 'Sierra Leone'), ('Sao Tome and Principe', 'Somalia'), ('Sao Tome and Principe', 'Sudan'), ('Sao Tome and Principe', 'Swaziland'), ('Sao Tome and Principe', 'Tanzania'), ('Sao Tome and Principe', 'Chad'), ('Sao Tome and Principe', 'Togo'), ('Sao Tome and Principe', 'Tunisia'), ('Sao Tome and Principe', 'Uganda'), ('Sao Tome and Principe', 'Zaire'), ('Sao Tome and Principe', 'Zambia'), ('Sao Tome and Principe', 'Zimbabwe'), ('Senegal', 'Seychelles'), ('Senegal', 'Sierra Leone'), ('Senegal', 'Somalia'), ('Senegal', 'Sudan'), ('Senegal', 'Swaziland'), ('Senegal', 'Tanzania'), ('Senegal', 'Chad'), ('Senegal', 'Togo'), ('Senegal', 'Tunisia'), ('Senegal', 'Uganda'), ('Senegal', 'Zaire'), ('Senegal', 'Zambia'), ('Senegal', 'Zimbabwe'), ('Seychelles', 'Sierra Leone'), ('Seychelles', 'Somalia'), ('Seychelles', 'Sudan'), ('Seychelles', 'Swaziland'), ('Seychelles', 'Tanzania'), ('Seychelles', 'Chad'), ('Seychelles', 'Togo'), ('Seychelles', 'Tunisia'), ('Seychelles', 'Uganda'), ('Seychelles', 'Zaire'), ('Seychelles', 'Zambia'), ('Seychelles', 'Zimbabwe'), ('Sierra Leone', 'Somalia'), ('Sierra Leone', 'Sudan'), ('Sierra Leone', 'Swaziland'), ('Sierra Leone', 'Tanzania'), ('Sierra Leone', 'Chad'), ('Sierra Leone', 'Togo'), ('Sierra Leone', 'Tunisia'), ('Sierra Leone', 'Uganda'), ('Sierra Leone', 'Zaire'), ('Sierra Leone', 'Zambia'), ('Sierra Leone', 'Zimbabwe'), ('Somalia', 'Sudan'), ('Somalia', 'Swaziland'), ('Somalia', 'Tanzania'), ('Somalia', 'Chad'), ('Somalia', 'Togo'), ('Somalia', 'Tunisia'), ('Somalia', 'Uganda'), ('Somalia', 'Zaire'), ('Somalia', 'Zambia'), ('Somalia', 'Zimbabwe'), ('Sudan', 'Swaziland'), ('Sudan', 'Tanzania'), ('Sudan', 'Chad'), ('Sudan', 'Togo'), ('Sudan', 'Tunisia'), ('Sudan', 'Uganda'), ('Sudan', 'Zaire'), ('Sudan', 'Zambia'), ('Sudan', 'Zimbabwe'), ('Swaziland', 'Tanzania'), ('Swaziland', 'Chad'), ('Swaziland', 'Togo'), ('Swaziland', 'Tunisia'), ('Swaziland', 'Uganda'), ('Swaziland', 'Zaire'), ('Swaziland', 'Zambia'), ('Swaziland', 'Zimbabwe'), ('Tanzania', 'Chad'), ('Tanzania', 'Togo'), ('Tanzania', 'Tunisia'), ('Tanzania', 'Uganda'), ('Tanzania', 'Zaire'), ('Tanzania', 'Zambia'), ('Tanzania', 'Zimbabwe'), ('Chad', 'Togo'), ('Chad', 'Tunisia'), ('Chad', 'Uganda'), ('Chad', 'Zaire'), ('Chad', 'Zambia'), ('Chad', 'Zimbabwe'), ('Togo', 'Tunisia'), ('Togo', 'Uganda'), ('Togo', 'Zaire'), ('Togo', 'Zambia'), ('Togo', 'Zimbabwe'), ('Tunisia', 'Uganda'), ('Tunisia', 'Zaire'), ('Tunisia', 'Zambia'), ('Tunisia', 'Zimbabwe'), ('Uganda', 'Zaire'), ('Uganda', 'Zambia'), ('Uganda', 'Zimbabwe'), ('Zaire', 'Zambia'), ('Zaire', 'Zimbabwe'), ('Zambia', 'Zimbabwe')])"
      ]
     },
     "execution_count": 913,
     "metadata": {},
     "output_type": "execute_result"
    }
   ],
   "source": [
    "trade_G.edges()"
   ]
  },
  {
   "cell_type": "code",
   "execution_count": 915,
   "metadata": {},
   "outputs": [
    {
     "name": "stdout",
     "output_type": "stream",
     "text": [
      "[('Algeria', 'Angola', {'weight': 1}), ('Algeria', 'Benin', {'weight': 2}), ('Algeria', 'Botswana', {'weight': 1}), ('Algeria', 'Burkina Faso', {'weight': 1}), ('Algeria', 'Burundi', {'weight': 1}), ('Algeria', 'Cameroon', {'weight': 2}), ('Algeria', 'Cape Verde', {'weight': 1}), ('Algeria', 'Central African Republic', {'weight': 1}), ('Algeria', 'Comoros', {'weight': 1}), ('Algeria', 'Congo', {'weight': 1}), ('Algeria', \"Cote d'Ivoire\", {'weight': 1}), ('Algeria', 'Djibouti', {'weight': 1}), ('Algeria', 'Egypt', {'weight': 3}), ('Algeria', 'Ethiopia', {'weight': 1}), ('Algeria', 'Equatorial Guinea', {'weight': 1}), ('Algeria', 'Gabon', {'weight': 1}), ('Algeria', 'Gambia', {'weight': 1}), ('Algeria', 'Ghana', {'weight': 2}), ('Algeria', 'Guinea', {'weight': 2}), ('Algeria', 'Guinea Bissau', {'weight': 1}), ('Algeria', 'Kenya', {'weight': 1}), ('Algeria', 'Lesotho', {'weight': 1}), ('Algeria', 'Liberia', {'weight': 1}), ('Algeria', 'Libya', {'weight': 4}), ('Algeria', 'Madagascar', {'weight': 1}), ('Algeria', 'Malawi', {'weight': 1}), ('Algeria', 'Mali', {'weight': 1}), ('Algeria', 'Mauritania', {'weight': 2}), ('Algeria', 'Mauritius', {'weight': 1}), ('Algeria', 'Mozambique', {'weight': 2}), ('Algeria', 'Namibia', {'weight': 1}), ('Algeria', 'Niger', {'weight': 1}), ('Algeria', 'Nigeria', {'weight': 2}), ('Algeria', 'Rwanda', {'weight': 1}), ('Algeria', 'Sahrawi', {'weight': 1}), ('Algeria', 'Sao Tome and Principe', {'weight': 1}), ('Algeria', 'Senegal', {'weight': 1}), ('Algeria', 'Seychelles', {'weight': 1}), ('Algeria', 'Sierra Leone', {'weight': 1}), ('Algeria', 'Somalia', {'weight': 1}), ('Algeria', 'Sudan', {'weight': 3}), ('Algeria', 'Swaziland', {'weight': 1}), ('Algeria', 'Tanzania', {'weight': 2}), ('Algeria', 'Chad', {'weight': 1}), ('Algeria', 'Togo', {'weight': 1}), ('Algeria', 'Tunisia', {'weight': 4}), ('Algeria', 'Uganda', {'weight': 1}), ('Algeria', 'Zaire', {'weight': 1}), ('Algeria', 'Zambia', {'weight': 1}), ('Algeria', 'Zimbabwe', {'weight': 2}), ('Algeria', 'Morocco', {'weight': 3}), ('Algeria', 'Austria', {'weight': 1}), ('Algeria', 'Belgium', {'weight': 1}), ('Algeria', 'Denmark', {'weight': 1}), ('Algeria', 'Finland', {'weight': 1}), ('Algeria', 'France', {'weight': 1}), ('Algeria', 'Germany', {'weight': 1}), ('Algeria', 'Greece', {'weight': 1}), ('Algeria', 'Ireland', {'weight': 1}), ('Algeria', 'Italy', {'weight': 1}), ('Algeria', 'Luxembourg', {'weight': 1}), ('Algeria', 'Netherlands', {'weight': 1}), ('Algeria', 'Portugal', {'weight': 1}), ('Algeria', 'Spain', {'weight': 1}), ('Algeria', 'Sweden', {'weight': 1}), ('Algeria', 'United Kingdom', {'weight': 1}), ('Algeria', 'Argentina', {'weight': 1}), ('Algeria', 'Bangladesh', {'weight': 1}), ('Algeria', 'Venezuela', {'weight': 1}), ('Algeria', 'Bolivia', {'weight': 1}), ('Algeria', 'Brazil', {'weight': 1}), ('Algeria', 'Chile', {'weight': 1}), ('Algeria', 'Colombia', {'weight': 1}), ('Algeria', 'Cuba', {'weight': 1}), ('Algeria', 'Ecuador', {'weight': 1}), ('Algeria', 'Macedonia', {'weight': 1}), ('Algeria', 'Guyana', {'weight': 1}), ('Algeria', 'India', {'weight': 1}), ('Algeria', 'Indonesia', {'weight': 1}), ('Algeria', 'Iran', {'weight': 1}), ('Algeria', 'Iraq', {'weight': 2}), ('Algeria', 'Korea', {'weight': 1}), ('Algeria', 'Malaysia', {'weight': 1}), ('Algeria', 'Mexico', {'weight': 1}), ('Algeria', 'Myanmar', {'weight': 1}), ('Algeria', 'Nicaragua', {'weight': 1}), ('Algeria', 'Pakistan', {'weight': 1}), ('Algeria', 'Peru', {'weight': 1}), ('Algeria', 'Philippines', {'weight': 1}), ('Algeria', 'Romania', {'weight': 1}), ('Algeria', 'Singapore', {'weight': 1}), ('Algeria', 'Sri Lanka', {'weight': 1}), ('Algeria', 'Thailand', {'weight': 1}), ('Algeria', 'Trinidad and Tobago', {'weight': 1}), ('Algeria', 'Vietnam', {'weight': 1}), ('Algeria', 'Bahrain', {'weight': 1}), ('Algeria', 'Jordan', {'weight': 1}), ('Algeria', 'Kuwait', {'weight': 1}), ('Algeria', 'Lebanon', {'weight': 1}), ('Algeria', 'Oman', {'weight': 1}), ('Algeria', 'Qatar', {'weight': 1}), ('Algeria', 'Saudi Arabia', {'weight': 1}), ('Algeria', 'Syria', {'weight': 1}), ('Algeria', 'United Arab Emirates', {'weight': 1}), ('Algeria', 'Yemen', {'weight': 1}), ('Algeria', 'Palestine', {'weight': 1}), ('Angola', 'Benin', {'weight': 1}), ('Angola', 'Botswana', {'weight': 3}), ('Angola', 'Burkina Faso', {'weight': 1}), ('Angola', 'Burundi', {'weight': 3}), ('Angola', 'Cameroon', {'weight': 2}), ('Angola', 'Cape Verde', {'weight': 1}), ('Angola', 'Central African Republic', {'weight': 2}), ('Angola', 'Comoros', {'weight': 2}), ('Angola', 'Congo', {'weight': 4}), ('Angola', \"Cote d'Ivoire\", {'weight': 1}), ('Angola', 'Djibouti', {'weight': 2}), ('Angola', 'Egypt', {'weight': 2}), ('Angola', 'Ethiopia', {'weight': 2}), ('Angola', 'Equatorial Guinea', {'weight': 2}), ('Angola', 'Gabon', {'weight': 2}), ('Angola', 'Gambia', {'weight': 1}), ('Angola', 'Ghana', {'weight': 1}), ('Angola', 'Guinea', {'weight': 1}), ('Angola', 'Guinea Bissau', {'weight': 1}), ('Angola', 'Kenya', {'weight': 2}), ('Angola', 'Lesotho', {'weight': 3}), ('Angola', 'Liberia', {'weight': 1}), ('Angola', 'Libya', {'weight': 1}), ('Angola', 'Madagascar', {'weight': 2}), ('Angola', 'Malawi', {'weight': 4}), ('Angola', 'Mali', {'weight': 1}), ('Angola', 'Mauritania', {'weight': 1}), ('Angola', 'Mauritius', {'weight': 4}), ('Angola', 'Mozambique', {'weight': 3}), ('Angola', 'Namibia', {'weight': 4}), ('Angola', 'Niger', {'weight': 1}), ('Angola', 'Nigeria', {'weight': 1}), ('Angola', 'Rwanda', {'weight': 3}), ('Angola', 'Sahrawi', {'weight': 1}), ('Angola', 'Sao Tome and Principe', {'weight': 2}), ('Angola', 'Senegal', {'weight': 1}), ('Angola', 'Seychelles', {'weight': 3}), ('Angola', 'Sierra Leone', {'weight': 1}), ('Angola', 'Somalia', {'weight': 1}), ('Angola', 'Sudan', {'weight': 2}), ('Angola', 'Swaziland', {'weight': 4}), ('Angola', 'Tanzania', {'weight': 4}), ('Angola', 'Chad', {'weight': 1}), ('Angola', 'Togo', {'weight': 1}), ('Angola', 'Tunisia', {'weight': 1}), ('Angola', 'Uganda', {'weight': 2}), ('Angola', 'Zaire', {'weight': 2}), ('Angola', 'Zambia', {'weight': 4}), ('Angola', 'Zimbabwe', {'weight': 4}), ('Angola', 'Eritrea', {'weight': 1}), ('Angola', 'Republic of Chad', {'weight': 1}), ('Angola', 'South Africa', {'weight': 2}), ('Benin', 'Botswana', {'weight': 1}), ('Benin', 'Burkina Faso', {'weight': 3}), ('Benin', 'Burundi', {'weight': 1}), ('Benin', 'Cameroon', {'weight': 2}), ('Benin', 'Cape Verde', {'weight': 2}), ('Benin', 'Central African Republic', {'weight': 1}), ('Benin', 'Comoros', {'weight': 1}), ('Benin', 'Congo', {'weight': 1}), ('Benin', \"Cote d'Ivoire\", {'weight': 3}), ('Benin', 'Djibouti', {'weight': 1}), ('Benin', 'Egypt', {'weight': 2}), ('Benin', 'Ethiopia', {'weight': 1}), ('Benin', 'Equatorial Guinea', {'weight': 1}), ('Benin', 'Gabon', {'weight': 1}), ('Benin', 'Gambia', {'weight': 2}), ('Benin', 'Ghana', {'weight': 3}), ('Benin', 'Guinea', {'weight': 3}), ('Benin', 'Guinea Bissau', {'weight': 2}), ('Benin', 'Kenya', {'weight': 1}), ('Benin', 'Lesotho', {'weight': 1}), ('Benin', 'Liberia', {'weight': 2}), ('Benin', 'Libya', {'weight': 2}), ('Benin', 'Madagascar', {'weight': 1}), ('Benin', 'Malawi', {'weight': 1}), ('Benin', 'Mali', {'weight': 3}), ('Benin', 'Mauritania', {'weight': 1}), ('Benin', 'Mauritius', {'weight': 1}), ('Benin', 'Mozambique', {'weight': 2}), ('Benin', 'Namibia', {'weight': 1}), ('Benin', 'Niger', {'weight': 3}), ('Benin', 'Nigeria', {'weight': 3}), ('Benin', 'Rwanda', {'weight': 1}), ('Benin', 'Sahrawi', {'weight': 1}), ('Benin', 'Sao Tome and Principe', {'weight': 1}), ('Benin', 'Senegal', {'weight': 3}), ('Benin', 'Seychelles', {'weight': 1}), ('Benin', 'Sierra Leone', {'weight': 2}), ('Benin', 'Somalia', {'weight': 1}), ('Benin', 'Sudan', {'weight': 2}), ('Benin', 'Swaziland', {'weight': 1}), ('Benin', 'Tanzania', {'weight': 2}), ('Benin', 'Chad', {'weight': 1}), ('Benin', 'Togo', {'weight': 2}), ('Benin', 'Tunisia', {'weight': 2}), ('Benin', 'Uganda', {'weight': 1}), ('Benin', 'Zaire', {'weight': 1}), ('Benin', 'Zambia', {'weight': 1}), ('Benin', 'Zimbabwe', {'weight': 2}), ('Benin', 'Argentina', {'weight': 1}), ('Benin', 'Bangladesh', {'weight': 1}), ('Benin', 'Venezuela', {'weight': 1}), ('Benin', 'Bolivia', {'weight': 1}), ('Benin', 'Brazil', {'weight': 1}), ('Benin', 'Chile', {'weight': 1}), ('Benin', 'Colombia', {'weight': 1}), ('Benin', 'Cuba', {'weight': 1}), ('Benin', 'Ecuador', {'weight': 1}), ('Benin', 'Macedonia', {'weight': 1}), ('Benin', 'Guyana', {'weight': 1}), ('Benin', 'India', {'weight': 1}), ('Benin', 'Indonesia', {'weight': 1}), ('Benin', 'Iran', {'weight': 1}), ('Benin', 'Iraq', {'weight': 1}), ('Benin', 'Korea', {'weight': 1}), ('Benin', 'Malaysia', {'weight': 1}), ('Benin', 'Mexico', {'weight': 1}), ('Benin', 'Morocco', {'weight': 1}), ('Benin', 'Myanmar', {'weight': 1}), ('Benin', 'Nicaragua', {'weight': 1}), ('Benin', 'Pakistan', {'weight': 1}), ('Benin', 'Peru', {'weight': 1}), ('Benin', 'Philippines', {'weight': 1}), ('Benin', 'Romania', {'weight': 1}), ('Benin', 'Singapore', {'weight': 1}), ('Benin', 'Sri Lanka', {'weight': 1}), ('Benin', 'Thailand', {'weight': 1}), ('Benin', 'Trinidad and Tobago', {'weight': 1}), ('Benin', 'Vietnam', {'weight': 1}), ('Benin', 'Togo ', {'weight': 1}), ('Botswana', 'Burkina Faso', {'weight': 1}), ('Botswana', 'Burundi', {'weight': 1}), ('Botswana', 'Cameroon', {'weight': 1}), ('Botswana', 'Cape Verde', {'weight': 1}), ('Botswana', 'Central African Republic', {'weight': 1}), ('Botswana', 'Comoros', {'weight': 1}), ('Botswana', 'Congo', {'weight': 2}), ('Botswana', \"Cote d'Ivoire\", {'weight': 1}), ('Botswana', 'Djibouti', {'weight': 1}), ('Botswana', 'Egypt', {'weight': 1}), ('Botswana', 'Ethiopia', {'weight': 1}), ('Botswana', 'Equatorial Guinea', {'weight': 1}), ('Botswana', 'Gabon', {'weight': 1}), ('Botswana', 'Gambia', {'weight': 1}), ('Botswana', 'Ghana', {'weight': 1}), ('Botswana', 'Guinea', {'weight': 1}), ('Botswana', 'Guinea Bissau', {'weight': 1}), ('Botswana', 'Kenya', {'weight': 1}), ('Botswana', 'Lesotho', {'weight': 5}), ('Botswana', 'Liberia', {'weight': 1}), ('Botswana', 'Libya', {'weight': 1}), ('Botswana', 'Madagascar', {'weight': 1}), ('Botswana', 'Malawi', {'weight': 3}), ('Botswana', 'Mali', {'weight': 1}), ('Botswana', 'Mauritania', {'weight': 1}), ('Botswana', 'Mauritius', {'weight': 3}), ('Botswana', 'Mozambique', {'weight': 3}), ('Botswana', 'Namibia', {'weight': 5}), ('Botswana', 'Niger', {'weight': 1}), ('Botswana', 'Nigeria', {'weight': 1}), ('Botswana', 'Rwanda', {'weight': 1}), ('Botswana', 'Sahrawi', {'weight': 1}), ('Botswana', 'Sao Tome and Principe', {'weight': 1}), ('Botswana', 'Senegal', {'weight': 1}), ('Botswana', 'Seychelles', {'weight': 2}), ('Botswana', 'Sierra Leone', {'weight': 1}), ('Botswana', 'Somalia', {'weight': 1}), ('Botswana', 'Sudan', {'weight': 1}), ('Botswana', 'Swaziland', {'weight': 5}), ('Botswana', 'Tanzania', {'weight': 3}), ('Botswana', 'Chad', {'weight': 1}), ('Botswana', 'Togo', {'weight': 1}), ('Botswana', 'Tunisia', {'weight': 1}), ('Botswana', 'Uganda', {'weight': 1}), ('Botswana', 'Zaire', {'weight': 1}), ('Botswana', 'Zambia', {'weight': 3}), ('Botswana', 'Zimbabwe', {'weight': 3}), ('Botswana', 'Iceland', {'weight': 1}), ('Botswana', 'Liechtenstein', {'weight': 1}), ('Botswana', 'Norway', {'weight': 1}), ('Botswana', 'Switzerland', {'weight': 1}), ('Botswana', 'South Africa', {'weight': 4}), ('Burkina Faso', 'Burundi', {'weight': 1}), ('Burkina Faso', 'Cameroon', {'weight': 1}), ('Burkina Faso', 'Cape Verde', {'weight': 2}), ('Burkina Faso', 'Central African Republic', {'weight': 1}), ('Burkina Faso', 'Comoros', {'weight': 1}), ('Burkina Faso', 'Congo', {'weight': 1}), ('Burkina Faso', \"Cote d'Ivoire\", {'weight': 3}), ('Burkina Faso', 'Djibouti', {'weight': 1}), ('Burkina Faso', 'Egypt', {'weight': 1}), ('Burkina Faso', 'Ethiopia', {'weight': 1}), ('Burkina Faso', 'Equatorial Guinea', {'weight': 1}), ('Burkina Faso', 'Gabon', {'weight': 1}), ('Burkina Faso', 'Gambia', {'weight': 2}), ('Burkina Faso', 'Ghana', {'weight': 2}), ('Burkina Faso', 'Guinea', {'weight': 2}), ('Burkina Faso', 'Guinea Bissau', {'weight': 2}), ('Burkina Faso', 'Kenya', {'weight': 1}), ('Burkina Faso', 'Lesotho', {'weight': 1}), ('Burkina Faso', 'Liberia', {'weight': 2}), ('Burkina Faso', 'Libya', {'weight': 1}), ('Burkina Faso', 'Madagascar', {'weight': 1}), ('Burkina Faso', 'Malawi', {'weight': 1}), ('Burkina Faso', 'Mali', {'weight': 3}), ('Burkina Faso', 'Mauritania', {'weight': 1}), ('Burkina Faso', 'Mauritius', {'weight': 1}), ('Burkina Faso', 'Mozambique', {'weight': 1}), ('Burkina Faso', 'Namibia', {'weight': 1}), ('Burkina Faso', 'Niger', {'weight': 3}), ('Burkina Faso', 'Nigeria', {'weight': 2}), ('Burkina Faso', 'Rwanda', {'weight': 1}), ('Burkina Faso', 'Sahrawi', {'weight': 1}), ('Burkina Faso', 'Sao Tome and Principe', {'weight': 1}), ('Burkina Faso', 'Senegal', {'weight': 3}), ('Burkina Faso', 'Seychelles', {'weight': 1}), ('Burkina Faso', 'Sierra Leone', {'weight': 2}), ('Burkina Faso', 'Somalia', {'weight': 1}), ('Burkina Faso', 'Sudan', {'weight': 1}), ('Burkina Faso', 'Swaziland', {'weight': 1}), ('Burkina Faso', 'Tanzania', {'weight': 1}), ('Burkina Faso', 'Chad', {'weight': 1}), ('Burkina Faso', 'Togo', {'weight': 2}), ('Burkina Faso', 'Tunisia', {'weight': 1}), ('Burkina Faso', 'Uganda', {'weight': 1}), ('Burkina Faso', 'Zaire', {'weight': 1}), ('Burkina Faso', 'Zambia', {'weight': 1}), ('Burkina Faso', 'Zimbabwe', {'weight': 1}), ('Burkina Faso', 'Togo ', {'weight': 1}), ('Burundi', 'Cameroon', {'weight': 2}), ('Burundi', 'Cape Verde', {'weight': 1}), ('Burundi', 'Central African Republic', {'weight': 2}), ('Burundi', 'Comoros', {'weight': 2}), ('Burundi', 'Congo', {'weight': 3}), ('Burundi', \"Cote d'Ivoire\", {'weight': 1}), ('Burundi', 'Djibouti', {'weight': 2}), ('Burundi', 'Egypt', {'weight': 2}), ('Burundi', 'Ethiopia', {'weight': 2}), ('Burundi', 'Equatorial Guinea', {'weight': 2}), ('Burundi', 'Gabon', {'weight': 2}), ('Burundi', 'Gambia', {'weight': 1}), ('Burundi', 'Ghana', {'weight': 1}), ('Burundi', 'Guinea', {'weight': 1}), ('Burundi', 'Guinea Bissau', {'weight': 1}), ('Burundi', 'Kenya', {'weight': 3}), ('Burundi', 'Lesotho', {'weight': 1}), ('Burundi', 'Liberia', {'weight': 1}), ('Burundi', 'Libya', {'weight': 1}), ('Burundi', 'Madagascar', {'weight': 2}), ('Burundi', 'Malawi', {'weight': 2}), ('Burundi', 'Mali', {'weight': 1}), ('Burundi', 'Mauritania', {'weight': 1}), ('Burundi', 'Mauritius', {'weight': 2}), ('Burundi', 'Mozambique', {'weight': 1}), ('Burundi', 'Namibia', {'weight': 2}), ('Burundi', 'Niger', {'weight': 1}), ('Burundi', 'Nigeria', {'weight': 1}), ('Burundi', 'Rwanda', {'weight': 5}), ('Burundi', 'Sahrawi', {'weight': 1}), ('Burundi', 'Sao Tome and Principe', {'weight': 2}), ('Burundi', 'Senegal', {'weight': 1}), ('Burundi', 'Seychelles', {'weight': 2}), ('Burundi', 'Sierra Leone', {'weight': 1}), ('Burundi', 'Somalia', {'weight': 1}), ('Burundi', 'Sudan', {'weight': 2}), ('Burundi', 'Swaziland', {'weight': 2}), ('Burundi', 'Tanzania', {'weight': 3}), ('Burundi', 'Chad', {'weight': 1}), ('Burundi', 'Togo', {'weight': 1}), ('Burundi', 'Tunisia', {'weight': 1}), ('Burundi', 'Uganda', {'weight': 3}), ('Burundi', 'Zaire', {'weight': 3}), ('Burundi', 'Zambia', {'weight': 2}), ('Burundi', 'Zimbabwe', {'weight': 2}), ('Burundi', 'Eritrea', {'weight': 1}), ('Burundi', 'Republic of Chad', {'weight': 1}), ('Cameroon', 'Cape Verde', {'weight': 1}), ('Cameroon', 'Central African Republic', {'weight': 3}), ('Cameroon', 'Comoros', {'weight': 1}), ('Cameroon', 'Congo', {'weight': 3}), ('Cameroon', \"Cote d'Ivoire\", {'weight': 1}), ('Cameroon', 'Djibouti', {'weight': 1}), ('Cameroon', 'Egypt', {'weight': 2}), ('Cameroon', 'Ethiopia', {'weight': 1}), ('Cameroon', 'Equatorial Guinea', {'weight': 3}), ('Cameroon', 'Gabon', {'weight': 3}), ('Cameroon', 'Gambia', {'weight': 1}), ('Cameroon', 'Ghana', {'weight': 2}), ('Cameroon', 'Guinea', {'weight': 2}), ('Cameroon', 'Guinea Bissau', {'weight': 1}), ('Cameroon', 'Kenya', {'weight': 1}), ('Cameroon', 'Lesotho', {'weight': 1}), ('Cameroon', 'Liberia', {'weight': 1}), ('Cameroon', 'Libya', {'weight': 2}), ('Cameroon', 'Madagascar', {'weight': 1}), ('Cameroon', 'Malawi', {'weight': 1}), ('Cameroon', 'Mali', {'weight': 1}), ('Cameroon', 'Mauritania', {'weight': 1}), ('Cameroon', 'Mauritius', {'weight': 1}), ('Cameroon', 'Mozambique', {'weight': 2}), ('Cameroon', 'Namibia', {'weight': 1}), ('Cameroon', 'Niger', {'weight': 1}), ('Cameroon', 'Nigeria', {'weight': 2}), ('Cameroon', 'Rwanda', {'weight': 2}), ('Cameroon', 'Sahrawi', {'weight': 1}), ('Cameroon', 'Sao Tome and Principe', {'weight': 2}), ('Cameroon', 'Senegal', {'weight': 1}), ('Cameroon', 'Seychelles', {'weight': 1}), ('Cameroon', 'Sierra Leone', {'weight': 1}), ('Cameroon', 'Somalia', {'weight': 1}), ('Cameroon', 'Sudan', {'weight': 2}), ('Cameroon', 'Swaziland', {'weight': 1}), ('Cameroon', 'Tanzania', {'weight': 2}), ('Cameroon', 'Chad', {'weight': 2}), ('Cameroon', 'Togo', {'weight': 1}), ('Cameroon', 'Tunisia', {'weight': 2}), ('Cameroon', 'Uganda', {'weight': 1}), ('Cameroon', 'Zaire', {'weight': 2}), ('Cameroon', 'Zambia', {'weight': 1}), ('Cameroon', 'Zimbabwe', {'weight': 2}), ('Cameroon', 'Austria', {'weight': 1}), ('Cameroon', 'Belgium', {'weight': 1}), ('Cameroon', 'Bulgaria', {'weight': 1}), ('Cameroon', 'Cyprus', {'weight': 1}), ('Cameroon', 'Czech Republic', {'weight': 1}), ('Cameroon', 'Denmark', {'weight': 1}), ('Cameroon', 'Estonia', {'weight': 1}), ('Cameroon', 'Finland', {'weight': 1}), ('Cameroon', 'France', {'weight': 1}), ('Cameroon', 'Germany', {'weight': 1}), ('Cameroon', 'Greece', {'weight': 1}), ('Cameroon', 'Hungary', {'weight': 1}), ('Cameroon', 'Ireland', {'weight': 1}), ('Cameroon', 'Italy', {'weight': 1}), ('Cameroon', 'Latvia', {'weight': 1}), ('Cameroon', 'Lithuania', {'weight': 1}), ('Cameroon', 'Luxembourg', {'weight': 1}), ('Cameroon', 'Malta', {'weight': 1}), ('Cameroon', 'Netherlands', {'weight': 1}), ('Cameroon', 'Poland', {'weight': 1}), ('Cameroon', 'Portugal', {'weight': 1}), ('Cameroon', 'Romania', {'weight': 2}), ('Cameroon', 'Slovak Republic', {'weight': 1}), ('Cameroon', 'Slovenia', {'weight': 1}), ('Cameroon', 'Spain', {'weight': 1}), ('Cameroon', 'Sweden', {'weight': 1}), ('Cameroon', 'United Kingdom', {'weight': 1}), ('Cameroon', 'Republic of Chad', {'weight': 1}), ('Cameroon', 'Argentina', {'weight': 1}), ('Cameroon', 'Bangladesh', {'weight': 1}), ('Cameroon', 'Venezuela', {'weight': 1}), ('Cameroon', 'Bolivia', {'weight': 1}), ('Cameroon', 'Brazil', {'weight': 1}), ('Cameroon', 'Chile', {'weight': 1}), ('Cameroon', 'Colombia', {'weight': 1}), ('Cameroon', 'Cuba', {'weight': 1}), ('Cameroon', 'Ecuador', {'weight': 1}), ('Cameroon', 'Macedonia', {'weight': 1}), ('Cameroon', 'Guyana', {'weight': 1}), ('Cameroon', 'India', {'weight': 1}), ('Cameroon', 'Indonesia', {'weight': 1}), ('Cameroon', 'Iran', {'weight': 1}), ('Cameroon', 'Iraq', {'weight': 1}), ('Cameroon', 'Korea', {'weight': 1}), ('Cameroon', 'Malaysia', {'weight': 1}), ('Cameroon', 'Mexico', {'weight': 1}), ('Cameroon', 'Morocco', {'weight': 1}), ('Cameroon', 'Myanmar', {'weight': 1}), ('Cameroon', 'Nicaragua', {'weight': 1}), ('Cameroon', 'Pakistan', {'weight': 1}), ('Cameroon', 'Peru', {'weight': 1}), ('Cameroon', 'Philippines', {'weight': 1}), ('Cameroon', 'Singapore', {'weight': 1}), ('Cameroon', 'Sri Lanka', {'weight': 1}), ('Cameroon', 'Thailand', {'weight': 1}), ('Cameroon', 'Trinidad and Tobago', {'weight': 1}), ('Cameroon', 'Vietnam', {'weight': 1}), ('Cape Verde', 'Central African Republic', {'weight': 1}), ('Cape Verde', 'Comoros', {'weight': 1}), ('Cape Verde', 'Congo', {'weight': 1}), ('Cape Verde', \"Cote d'Ivoire\", {'weight': 2}), ('Cape Verde', 'Djibouti', {'weight': 1}), ('Cape Verde', 'Egypt', {'weight': 1}), ('Cape Verde', 'Ethiopia', {'weight': 1}), ('Cape Verde', 'Equatorial Guinea', {'weight': 1}), ('Cape Verde', 'Gabon', {'weight': 1}), ('Cape Verde', 'Gambia', {'weight': 2}), ('Cape Verde', 'Ghana', {'weight': 2}), ('Cape Verde', 'Guinea', {'weight': 2}), ('Cape Verde', 'Guinea Bissau', {'weight': 2}), ('Cape Verde', 'Kenya', {'weight': 1}), ('Cape Verde', 'Lesotho', {'weight': 1}), ('Cape Verde', 'Liberia', {'weight': 2}), ('Cape Verde', 'Libya', {'weight': 1}), ('Cape Verde', 'Madagascar', {'weight': 1}), ('Cape Verde', 'Malawi', {'weight': 1}), ('Cape Verde', 'Mali', {'weight': 2}), ('Cape Verde', 'Mauritania', {'weight': 1}), ('Cape Verde', 'Mauritius', {'weight': 1}), ('Cape Verde', 'Mozambique', {'weight': 1}), ('Cape Verde', 'Namibia', {'weight': 1}), ('Cape Verde', 'Niger', {'weight': 2}), ('Cape Verde', 'Nigeria', {'weight': 2}), ('Cape Verde', 'Rwanda', {'weight': 1}), ('Cape Verde', 'Sahrawi', {'weight': 1}), ('Cape Verde', 'Sao Tome and Principe', {'weight': 1}), ('Cape Verde', 'Senegal', {'weight': 2}), ('Cape Verde', 'Seychelles', {'weight': 1}), ('Cape Verde', 'Sierra Leone', {'weight': 2}), ('Cape Verde', 'Somalia', {'weight': 1}), ('Cape Verde', 'Sudan', {'weight': 1}), ('Cape Verde', 'Swaziland', {'weight': 1}), ('Cape Verde', 'Tanzania', {'weight': 1}), ('Cape Verde', 'Chad', {'weight': 1}), ('Cape Verde', 'Togo', {'weight': 2}), ('Cape Verde', 'Tunisia', {'weight': 1}), ('Cape Verde', 'Uganda', {'weight': 1}), ('Cape Verde', 'Zaire', {'weight': 1}), ('Cape Verde', 'Zambia', {'weight': 1}), ('Cape Verde', 'Zimbabwe', {'weight': 1}), ('Central African Republic', 'Comoros', {'weight': 1}), ('Central African Republic', 'Congo', {'weight': 3}), ('Central African Republic', \"Cote d'Ivoire\", {'weight': 1}), ('Central African Republic', 'Djibouti', {'weight': 1}), ('Central African Republic', 'Egypt', {'weight': 1}), ('Central African Republic', 'Ethiopia', {'weight': 1}), ('Central African Republic', 'Equatorial Guinea', {'weight': 3}), ('Central African Republic', 'Gabon', {'weight': 3}), ('Central African Republic', 'Gambia', {'weight': 1}), ('Central African Republic', 'Ghana', {'weight': 1}), ('Central African Republic', 'Guinea', {'weight': 1}), ('Central African Republic', 'Guinea Bissau', {'weight': 1}), ('Central African Republic', 'Kenya', {'weight': 1}), ('Central African Republic', 'Lesotho', {'weight': 1}), ('Central African Republic', 'Liberia', {'weight': 1}), ('Central African Republic', 'Libya', {'weight': 1}), ('Central African Republic', 'Madagascar', {'weight': 1}), ('Central African Republic', 'Malawi', {'weight': 1}), ('Central African Republic', 'Mali', {'weight': 1}), ('Central African Republic', 'Mauritania', {'weight': 1}), ('Central African Republic', 'Mauritius', {'weight': 1}), ('Central African Republic', 'Mozambique', {'weight': 1}), ('Central African Republic', 'Namibia', {'weight': 1}), ('Central African Republic', 'Niger', {'weight': 1}), ('Central African Republic', 'Nigeria', {'weight': 1}), ('Central African Republic', 'Rwanda', {'weight': 2}), ('Central African Republic', 'Sahrawi', {'weight': 1}), ('Central African Republic', 'Sao Tome and Principe', {'weight': 2}), ('Central African Republic', 'Senegal', {'weight': 1}), ('Central African Republic', 'Seychelles', {'weight': 1}), ('Central African Republic', 'Sierra Leone', {'weight': 1}), ('Central African Republic', 'Somalia', {'weight': 1}), ('Central African Republic', 'Sudan', {'weight': 1}), ('Central African Republic', 'Swaziland', {'weight': 1}), ('Central African Republic', 'Tanzania', {'weight': 1}), ('Central African Republic', 'Chad', {'weight': 2}), ('Central African Republic', 'Togo', {'weight': 1}), ('Central African Republic', 'Tunisia', {'weight': 1}), ('Central African Republic', 'Uganda', {'weight': 1}), ('Central African Republic', 'Zaire', {'weight': 2}), ('Central African Republic', 'Zambia', {'weight': 1}), ('Central African Republic', 'Zimbabwe', {'weight': 1}), ('Central African Republic', 'Republic of Chad', {'weight': 1}), ('Comoros', 'Congo', {'weight': 2}), ('Comoros', \"Cote d'Ivoire\", {'weight': 1}), ('Comoros', 'Djibouti', {'weight': 2}), ('Comoros', 'Egypt', {'weight': 2}), ('Comoros', 'Ethiopia', {'weight': 2}), ('Comoros', 'Equatorial Guinea', {'weight': 1}), ('Comoros', 'Gabon', {'weight': 1}), ('Comoros', 'Gambia', {'weight': 1}), ('Comoros', 'Ghana', {'weight': 1}), ('Comoros', 'Guinea', {'weight': 1}), ('Comoros', 'Guinea Bissau', {'weight': 1}), ('Comoros', 'Kenya', {'weight': 2}), ('Comoros', 'Lesotho', {'weight': 1}), ('Comoros', 'Liberia', {'weight': 1}), ('Comoros', 'Libya', {'weight': 1}), ('Comoros', 'Madagascar', {'weight': 2}), ('Comoros', 'Malawi', {'weight': 2}), ('Comoros', 'Mali', {'weight': 1}), ('Comoros', 'Mauritania', {'weight': 1}), ('Comoros', 'Mauritius', {'weight': 2}), ('Comoros', 'Mozambique', {'weight': 1}), ('Comoros', 'Namibia', {'weight': 2}), ('Comoros', 'Niger', {'weight': 1}), ('Comoros', 'Nigeria', {'weight': 1}), ('Comoros', 'Rwanda', {'weight': 2}), ('Comoros', 'Sahrawi', {'weight': 1}), ('Comoros', 'Sao Tome and Principe', {'weight': 1}), ('Comoros', 'Senegal', {'weight': 1}), ('Comoros', 'Seychelles', {'weight': 2}), ('Comoros', 'Sierra Leone', {'weight': 1}), ('Comoros', 'Somalia', {'weight': 1}), ('Comoros', 'Sudan', {'weight': 2}), ('Comoros', 'Swaziland', {'weight': 2}), ('Comoros', 'Tanzania', {'weight': 2}), ('Comoros', 'Chad', {'weight': 1}), ('Comoros', 'Togo', {'weight': 1}), ('Comoros', 'Tunisia', {'weight': 1}), ('Comoros', 'Uganda', {'weight': 2}), ('Comoros', 'Zaire', {'weight': 1}), ('Comoros', 'Zambia', {'weight': 2}), ('Comoros', 'Zimbabwe', {'weight': 2}), ('Comoros', 'Eritrea', {'weight': 1}), ('Congo', \"Cote d'Ivoire\", {'weight': 1}), ('Congo', 'Djibouti', {'weight': 2}), ('Congo', 'Egypt', {'weight': 2}), ('Congo', 'Ethiopia', {'weight': 2}), ('Congo', 'Equatorial Guinea', {'weight': 3}), ('Congo', 'Gabon', {'weight': 3}), ('Congo', 'Gambia', {'weight': 1}), ('Congo', 'Ghana', {'weight': 1}), ('Congo', 'Guinea', {'weight': 1}), ('Congo', 'Guinea Bissau', {'weight': 1}), ('Congo', 'Kenya', {'weight': 2}), ('Congo', 'Lesotho', {'weight': 2}), ('Congo', 'Liberia', {'weight': 1}), ('Congo', 'Libya', {'weight': 1}), ('Congo', 'Madagascar', {'weight': 2}), ('Congo', 'Malawi', {'weight': 3}), ('Congo', 'Mali', {'weight': 1}), ('Congo', 'Mauritania', {'weight': 1}), ('Congo', 'Mauritius', {'weight': 3}), ('Congo', 'Mozambique', {'weight': 2}), ('Congo', 'Namibia', {'weight': 3}), ('Congo', 'Niger', {'weight': 1}), ('Congo', 'Nigeria', {'weight': 1}), ('Congo', 'Rwanda', {'weight': 3}), ('Congo', 'Sahrawi', {'weight': 1}), ('Congo', 'Sao Tome and Principe', {'weight': 2}), ('Congo', 'Senegal', {'weight': 1}), ('Congo', 'Seychelles', {'weight': 3}), ('Congo', 'Sierra Leone', {'weight': 1}), ('Congo', 'Somalia', {'weight': 1}), ('Congo', 'Sudan', {'weight': 2}), ('Congo', 'Swaziland', {'weight': 3}), ('Congo', 'Tanzania', {'weight': 3}), ('Congo', 'Chad', {'weight': 2}), ('Congo', 'Togo', {'weight': 1}), ('Congo', 'Tunisia', {'weight': 1}), ('Congo', 'Uganda', {'weight': 2}), ('Congo', 'Zaire', {'weight': 2}), ('Congo', 'Zambia', {'weight': 3}), ('Congo', 'Zimbabwe', {'weight': 3}), ('Congo', 'Eritrea', {'weight': 1}), ('Congo', 'Republic of Chad', {'weight': 1}), ('Congo', 'South Africa', {'weight': 1}), (\"Cote d'Ivoire\", 'Djibouti', {'weight': 1}), (\"Cote d'Ivoire\", 'Egypt', {'weight': 1}), (\"Cote d'Ivoire\", 'Ethiopia', {'weight': 1}), (\"Cote d'Ivoire\", 'Equatorial Guinea', {'weight': 1}), (\"Cote d'Ivoire\", 'Gabon', {'weight': 1}), (\"Cote d'Ivoire\", 'Gambia', {'weight': 2}), (\"Cote d'Ivoire\", 'Ghana', {'weight': 2}), (\"Cote d'Ivoire\", 'Guinea', {'weight': 2}), (\"Cote d'Ivoire\", 'Guinea Bissau', {'weight': 2}), (\"Cote d'Ivoire\", 'Kenya', {'weight': 1}), (\"Cote d'Ivoire\", 'Lesotho', {'weight': 1}), (\"Cote d'Ivoire\", 'Liberia', {'weight': 2}), (\"Cote d'Ivoire\", 'Libya', {'weight': 1}), (\"Cote d'Ivoire\", 'Madagascar', {'weight': 1}), (\"Cote d'Ivoire\", 'Malawi', {'weight': 1}), (\"Cote d'Ivoire\", 'Mali', {'weight': 3}), (\"Cote d'Ivoire\", 'Mauritania', {'weight': 1}), (\"Cote d'Ivoire\", 'Mauritius', {'weight': 1}), (\"Cote d'Ivoire\", 'Mozambique', {'weight': 1}), (\"Cote d'Ivoire\", 'Namibia', {'weight': 1}), (\"Cote d'Ivoire\", 'Niger', {'weight': 3}), (\"Cote d'Ivoire\", 'Nigeria', {'weight': 2}), (\"Cote d'Ivoire\", 'Rwanda', {'weight': 1}), (\"Cote d'Ivoire\", 'Sahrawi', {'weight': 1}), (\"Cote d'Ivoire\", 'Sao Tome and Principe', {'weight': 1}), (\"Cote d'Ivoire\", 'Senegal', {'weight': 3}), (\"Cote d'Ivoire\", 'Seychelles', {'weight': 1}), (\"Cote d'Ivoire\", 'Sierra Leone', {'weight': 2}), (\"Cote d'Ivoire\", 'Somalia', {'weight': 1}), (\"Cote d'Ivoire\", 'Sudan', {'weight': 1}), (\"Cote d'Ivoire\", 'Swaziland', {'weight': 1}), (\"Cote d'Ivoire\", 'Tanzania', {'weight': 1}), (\"Cote d'Ivoire\", 'Chad', {'weight': 1}), (\"Cote d'Ivoire\", 'Togo', {'weight': 2}), (\"Cote d'Ivoire\", 'Tunisia', {'weight': 1}), (\"Cote d'Ivoire\", 'Uganda', {'weight': 1}), (\"Cote d'Ivoire\", 'Zaire', {'weight': 1}), (\"Cote d'Ivoire\", 'Zambia', {'weight': 1}), (\"Cote d'Ivoire\", 'Zimbabwe', {'weight': 1}), (\"Cote d'Ivoire\", 'Austria', {'weight': 1}), (\"Cote d'Ivoire\", 'Belgium', {'weight': 1}), (\"Cote d'Ivoire\", 'Bulgaria', {'weight': 1}), (\"Cote d'Ivoire\", 'Cyprus', {'weight': 1}), (\"Cote d'Ivoire\", 'Czech Republic', {'weight': 1}), (\"Cote d'Ivoire\", 'Denmark', {'weight': 1}), (\"Cote d'Ivoire\", 'Germany', {'weight': 1}), (\"Cote d'Ivoire\", 'Estonia', {'weight': 1}), (\"Cote d'Ivoire\", 'Finland', {'weight': 1}), (\"Cote d'Ivoire\", 'France', {'weight': 1}), (\"Cote d'Ivoire\", 'Greece', {'weight': 1}), (\"Cote d'Ivoire\", 'Hungary', {'weight': 1}), (\"Cote d'Ivoire\", 'Ireland', {'weight': 1}), (\"Cote d'Ivoire\", 'Italy', {'weight': 1}), (\"Cote d'Ivoire\", 'Latvia', {'weight': 1}), (\"Cote d'Ivoire\", 'Lithuania', {'weight': 1}), (\"Cote d'Ivoire\", 'Luxembourg', {'weight': 1}), (\"Cote d'Ivoire\", 'Malta', {'weight': 1}), (\"Cote d'Ivoire\", 'Netherlands', {'weight': 1}), (\"Cote d'Ivoire\", 'Poland', {'weight': 1}), (\"Cote d'Ivoire\", 'Portugal', {'weight': 1}), (\"Cote d'Ivoire\", 'Romania', {'weight': 1}), (\"Cote d'Ivoire\", 'Slovak Republic', {'weight': 1}), (\"Cote d'Ivoire\", 'Slovenia', {'weight': 1}), (\"Cote d'Ivoire\", 'Spain', {'weight': 1}), (\"Cote d'Ivoire\", 'Sweden', {'weight': 1}), (\"Cote d'Ivoire\", 'United Kingdom', {'weight': 1}), (\"Cote d'Ivoire\", 'Togo ', {'weight': 1}), ('Djibouti', 'Egypt', {'weight': 2}), ('Djibouti', 'Ethiopia', {'weight': 3}), ('Djibouti', 'Equatorial Guinea', {'weight': 1}), ('Djibouti', 'Gabon', {'weight': 1}), ('Djibouti', 'Gambia', {'weight': 1}), ('Djibouti', 'Ghana', {'weight': 1}), ('Djibouti', 'Guinea', {'weight': 1}), ('Djibouti', 'Guinea Bissau', {'weight': 1}), ('Djibouti', 'Kenya', {'weight': 3}), ('Djibouti', 'Lesotho', {'weight': 1}), ('Djibouti', 'Liberia', {'weight': 1}), ('Djibouti', 'Libya', {'weight': 1}), ('Djibouti', 'Madagascar', {'weight': 2}), ('Djibouti', 'Malawi', {'weight': 2}), ('Djibouti', 'Mali', {'weight': 1}), ('Djibouti', 'Mauritania', {'weight': 1}), ('Djibouti', 'Mauritius', {'weight': 2}), ('Djibouti', 'Mozambique', {'weight': 1}), ('Djibouti', 'Namibia', {'weight': 2}), ('Djibouti', 'Niger', {'weight': 1}), ('Djibouti', 'Nigeria', {'weight': 1}), ('Djibouti', 'Rwanda', {'weight': 2}), ('Djibouti', 'Sahrawi', {'weight': 1}), ('Djibouti', 'Sao Tome and Principe', {'weight': 1}), ('Djibouti', 'Senegal', {'weight': 1}), ('Djibouti', 'Seychelles', {'weight': 2}), ('Djibouti', 'Sierra Leone', {'weight': 1}), ('Djibouti', 'Somalia', {'weight': 2}), ('Djibouti', 'Sudan', {'weight': 3}), ('Djibouti', 'Swaziland', {'weight': 2}), ('Djibouti', 'Tanzania', {'weight': 2}), ('Djibouti', 'Chad', {'weight': 1}), ('Djibouti', 'Togo', {'weight': 1}), ('Djibouti', 'Tunisia', {'weight': 1}), ('Djibouti', 'Uganda', {'weight': 3}), ('Djibouti', 'Zaire', {'weight': 1}), ('Djibouti', 'Zambia', {'weight': 2}), ('Djibouti', 'Zimbabwe', {'weight': 2}), ('Djibouti', 'Eritrea', {'weight': 2}), ('Egypt', 'Ethiopia', {'weight': 2}), ('Egypt', 'Equatorial Guinea', {'weight': 1}), ('Egypt', 'Gabon', {'weight': 1}), ('Egypt', 'Gambia', {'weight': 1}), ('Egypt', 'Ghana', {'weight': 2}), ('Egypt', 'Guinea', {'weight': 2}), ('Egypt', 'Guinea Bissau', {'weight': 1}), ('Egypt', 'Kenya', {'weight': 2}), ('Egypt', 'Lesotho', {'weight': 1}), ('Egypt', 'Liberia', {'weight': 1}), ('Egypt', 'Libya', {'weight': 3}), ('Egypt', 'Madagascar', {'weight': 2}), ('Egypt', 'Malawi', {'weight': 2}), ('Egypt', 'Mali', {'weight': 1}), ('Egypt', 'Mauritania', {'weight': 1}), ('Egypt', 'Mauritius', {'weight': 2}), ('Egypt', 'Mozambique', {'weight': 2}), ('Egypt', 'Namibia', {'weight': 2}), ('Egypt', 'Niger', {'weight': 1}), ('Egypt', 'Nigeria', {'weight': 2}), ('Egypt', 'Rwanda', {'weight': 2}), ('Egypt', 'Sahrawi', {'weight': 1}), ('Egypt', 'Sao Tome and Principe', {'weight': 1}), ('Egypt', 'Senegal', {'weight': 1}), ('Egypt', 'Seychelles', {'weight': 2}), ('Egypt', 'Sierra Leone', {'weight': 1}), ('Egypt', 'Somalia', {'weight': 1}), ('Egypt', 'Sudan', {'weight': 4}), ('Egypt', 'Swaziland', {'weight': 2}), ('Egypt', 'Tanzania', {'weight': 3}), ('Egypt', 'Chad', {'weight': 1}), ('Egypt', 'Togo', {'weight': 1}), ('Egypt', 'Tunisia', {'weight': 5}), ('Egypt', 'Uganda', {'weight': 2}), ('Egypt', 'Zaire', {'weight': 1}), ('Egypt', 'Zambia', {'weight': 2}), ('Egypt', 'Zimbabwe', {'weight': 3}), ('Egypt', 'Jordan', {'weight': 3}), ('Egypt', 'Morocco', {'weight': 3}), ('Egypt', 'Eritrea', {'weight': 1}), ('Egypt', 'Belgium', {'weight': 1}), ('Egypt', 'Denmark', {'weight': 1}), ('Egypt', 'France', {'weight': 1}), ('Egypt', 'Germany', {'weight': 1}), ('Egypt', 'Ireland', {'weight': 1}), ('Egypt', 'Italy', {'weight': 1}), ('Egypt', 'Luxembourg', {'weight': 1}), ('Egypt', 'Netherlands', {'weight': 1}), ('Egypt', 'United Kingdom', {'weight': 1}), ('Egypt', 'Iceland', {'weight': 1}), ('Egypt', 'Liechtenstein', {'weight': 1}), ('Egypt', 'Norway', {'weight': 1}), ('Egypt', 'Switzerland', {'weight': 1}), ('Egypt', 'Palestine', {'weight': 2}), ('Egypt', 'Turkey', {'weight': 2}), ('Egypt', 'Argentina', {'weight': 1}), ('Egypt', 'Bangladesh', {'weight': 2}), ('Egypt', 'Venezuela', {'weight': 1}), ('Egypt', 'Bolivia', {'weight': 1}), ('Egypt', 'Brazil', {'weight': 2}), ('Egypt', 'Chile', {'weight': 2}), ('Egypt', 'Colombia', {'weight': 1}), ('Egypt', 'Cuba', {'weight': 1}), ('Egypt', 'Ecuador', {'weight': 1}), ('Egypt', 'Macedonia', {'weight': 1}), ('Egypt', 'Guyana', {'weight': 1}), ('Egypt', 'India', {'weight': 2}), ('Egypt', 'Indonesia', {'weight': 1}), ('Egypt', 'Iran', {'weight': 1}), ('Egypt', 'Iraq', {'weight': 2}), ('Egypt', 'Korea', {'weight': 2}), ('Egypt', 'Malaysia', {'weight': 1}), ('Egypt', 'Mexico', {'weight': 2}), ('Egypt', 'Myanmar', {'weight': 1}), ('Egypt', 'Nicaragua', {'weight': 1}), ('Egypt', 'Pakistan', {'weight': 2}), ('Egypt', 'Peru', {'weight': 2}), ('Egypt', 'Philippines', {'weight': 1}), ('Egypt', 'Romania', {'weight': 2}), ('Egypt', 'Singapore', {'weight': 1}), ('Egypt', 'Sri Lanka', {'weight': 1}), ('Egypt', 'Thailand', {'weight': 1}), ('Egypt', 'Trinidad and Tobago', {'weight': 1}), ('Egypt', 'Vietnam', {'weight': 1}), ('Egypt', 'Bahrain', {'weight': 1}), ('Egypt', 'Kuwait', {'weight': 1}), ('Egypt', 'Lebanon', {'weight': 1}), ('Egypt', 'Oman', {'weight': 1}), ('Egypt', 'Qatar', {'weight': 1}), ('Egypt', 'Saudi Arabia', {'weight': 1}), ('Egypt', 'Syria', {'weight': 1}), ('Egypt', 'United Arab Emirates', {'weight': 1}), ('Egypt', 'Yemen', {'weight': 1}), ('Egypt', 'Israel', {'weight': 1}), ('Egypt', 'Spain', {'weight': 1}), ('Egypt', 'Uruguay', {'weight': 1}), ('Egypt', 'Yugoslavia', {'weight': 1}), ('Ethiopia', 'Equatorial Guinea', {'weight': 1}), ('Ethiopia', 'Gabon', {'weight': 1}), ('Ethiopia', 'Gambia', {'weight': 1}), ('Ethiopia', 'Ghana', {'weight': 1}), ('Ethiopia', 'Guinea', {'weight': 1}), ('Ethiopia', 'Guinea Bissau', {'weight': 1}), ('Ethiopia', 'Kenya', {'weight': 3}), ('Ethiopia', 'Lesotho', {'weight': 1}), ('Ethiopia', 'Liberia', {'weight': 1}), ('Ethiopia', 'Libya', {'weight': 1}), ('Ethiopia', 'Madagascar', {'weight': 2}), ('Ethiopia', 'Malawi', {'weight': 2}), ('Ethiopia', 'Mali', {'weight': 1}), ('Ethiopia', 'Mauritania', {'weight': 1}), ('Ethiopia', 'Mauritius', {'weight': 2}), ('Ethiopia', 'Mozambique', {'weight': 1}), ('Ethiopia', 'Namibia', {'weight': 2}), ('Ethiopia', 'Niger', {'weight': 1}), ('Ethiopia', 'Nigeria', {'weight': 1}), ('Ethiopia', 'Rwanda', {'weight': 2}), ('Ethiopia', 'Sahrawi', {'weight': 1}), ('Ethiopia', 'Sao Tome and Principe', {'weight': 1}), ('Ethiopia', 'Senegal', {'weight': 1}), ('Ethiopia', 'Seychelles', {'weight': 2}), ('Ethiopia', 'Sierra Leone', {'weight': 1}), ('Ethiopia', 'Somalia', {'weight': 2}), ('Ethiopia', 'Sudan', {'weight': 3}), ('Ethiopia', 'Swaziland', {'weight': 2}), ('Ethiopia', 'Tanzania', {'weight': 2}), ('Ethiopia', 'Chad', {'weight': 1}), ('Ethiopia', 'Togo', {'weight': 1}), ('Ethiopia', 'Tunisia', {'weight': 1}), ('Ethiopia', 'Uganda', {'weight': 3}), ('Ethiopia', 'Zaire', {'weight': 1}), ('Ethiopia', 'Zambia', {'weight': 2}), ('Ethiopia', 'Zimbabwe', {'weight': 2}), ('Ethiopia', 'Eritrea', {'weight': 2}), ('Equatorial Guinea', 'Gabon', {'weight': 3}), ('Equatorial Guinea', 'Gambia', {'weight': 1}), ('Equatorial Guinea', 'Ghana', {'weight': 1}), ('Equatorial Guinea', 'Guinea', {'weight': 1}), ('Equatorial Guinea', 'Guinea Bissau', {'weight': 1}), ('Equatorial Guinea', 'Kenya', {'weight': 1}), ('Equatorial Guinea', 'Lesotho', {'weight': 1}), ('Equatorial Guinea', 'Liberia', {'weight': 1}), ('Equatorial Guinea', 'Libya', {'weight': 1}), ('Equatorial Guinea', 'Madagascar', {'weight': 1}), ('Equatorial Guinea', 'Malawi', {'weight': 1}), ('Equatorial Guinea', 'Mali', {'weight': 1}), ('Equatorial Guinea', 'Mauritania', {'weight': 1}), ('Equatorial Guinea', 'Mauritius', {'weight': 1}), ('Equatorial Guinea', 'Mozambique', {'weight': 1}), ('Equatorial Guinea', 'Namibia', {'weight': 1}), ('Equatorial Guinea', 'Niger', {'weight': 1}), ('Equatorial Guinea', 'Nigeria', {'weight': 1}), ('Equatorial Guinea', 'Rwanda', {'weight': 2}), ('Equatorial Guinea', 'Sahrawi', {'weight': 1}), ('Equatorial Guinea', 'Sao Tome and Principe', {'weight': 2}), ('Equatorial Guinea', 'Senegal', {'weight': 1}), ('Equatorial Guinea', 'Seychelles', {'weight': 1}), ('Equatorial Guinea', 'Sierra Leone', {'weight': 1}), ('Equatorial Guinea', 'Somalia', {'weight': 1}), ('Equatorial Guinea', 'Sudan', {'weight': 1}), ('Equatorial Guinea', 'Swaziland', {'weight': 1}), ('Equatorial Guinea', 'Tanzania', {'weight': 1}), ('Equatorial Guinea', 'Chad', {'weight': 2}), ('Equatorial Guinea', 'Togo', {'weight': 1}), ('Equatorial Guinea', 'Tunisia', {'weight': 1}), ('Equatorial Guinea', 'Uganda', {'weight': 1}), ('Equatorial Guinea', 'Zaire', {'weight': 2}), ('Equatorial Guinea', 'Zambia', {'weight': 1}), ('Equatorial Guinea', 'Zimbabwe', {'weight': 1}), ('Equatorial Guinea', 'Republic of Chad', {'weight': 1}), ('Gabon', 'Gambia', {'weight': 1}), ('Gabon', 'Ghana', {'weight': 1}), ('Gabon', 'Guinea', {'weight': 1}), ('Gabon', 'Guinea Bissau', {'weight': 1}), ('Gabon', 'Kenya', {'weight': 1}), ('Gabon', 'Lesotho', {'weight': 1}), ('Gabon', 'Liberia', {'weight': 1}), ('Gabon', 'Libya', {'weight': 1}), ('Gabon', 'Madagascar', {'weight': 1}), ('Gabon', 'Malawi', {'weight': 1}), ('Gabon', 'Mali', {'weight': 1}), ('Gabon', 'Mauritania', {'weight': 1}), ('Gabon', 'Mauritius', {'weight': 1}), ('Gabon', 'Mozambique', {'weight': 1}), ('Gabon', 'Namibia', {'weight': 1}), ('Gabon', 'Niger', {'weight': 1}), ('Gabon', 'Nigeria', {'weight': 1}), ('Gabon', 'Rwanda', {'weight': 2}), ('Gabon', 'Sahrawi', {'weight': 1}), ('Gabon', 'Sao Tome and Principe', {'weight': 2}), ('Gabon', 'Senegal', {'weight': 1}), ('Gabon', 'Seychelles', {'weight': 1}), ('Gabon', 'Sierra Leone', {'weight': 1}), ('Gabon', 'Somalia', {'weight': 1}), ('Gabon', 'Sudan', {'weight': 1}), ('Gabon', 'Swaziland', {'weight': 1}), ('Gabon', 'Tanzania', {'weight': 1}), ('Gabon', 'Chad', {'weight': 2}), ('Gabon', 'Togo', {'weight': 1}), ('Gabon', 'Tunisia', {'weight': 1}), ('Gabon', 'Uganda', {'weight': 1}), ('Gabon', 'Zaire', {'weight': 2}), ('Gabon', 'Zambia', {'weight': 1}), ('Gabon', 'Zimbabwe', {'weight': 1}), ('Gabon', 'Republic of Chad', {'weight': 1}), ('Gambia', 'Ghana', {'weight': 2}), ('Gambia', 'Guinea', {'weight': 2}), ('Gambia', 'Guinea Bissau', {'weight': 2}), ('Gambia', 'Kenya', {'weight': 1}), ('Gambia', 'Lesotho', {'weight': 1}), ('Gambia', 'Liberia', {'weight': 2}), ('Gambia', 'Libya', {'weight': 1}), ('Gambia', 'Madagascar', {'weight': 1}), ('Gambia', 'Malawi', {'weight': 1}), ('Gambia', 'Mali', {'weight': 2}), ('Gambia', 'Mauritania', {'weight': 1}), ('Gambia', 'Mauritius', {'weight': 1}), ('Gambia', 'Mozambique', {'weight': 1}), ('Gambia', 'Namibia', {'weight': 1}), ('Gambia', 'Niger', {'weight': 2}), ('Gambia', 'Nigeria', {'weight': 2}), ('Gambia', 'Rwanda', {'weight': 1}), ('Gambia', 'Sahrawi', {'weight': 1}), ('Gambia', 'Sao Tome and Principe', {'weight': 1}), ('Gambia', 'Senegal', {'weight': 2}), ('Gambia', 'Seychelles', {'weight': 1}), ('Gambia', 'Sierra Leone', {'weight': 2}), ('Gambia', 'Somalia', {'weight': 1}), ('Gambia', 'Sudan', {'weight': 1}), ('Gambia', 'Swaziland', {'weight': 1}), ('Gambia', 'Tanzania', {'weight': 1}), ('Gambia', 'Chad', {'weight': 1}), ('Gambia', 'Togo', {'weight': 2}), ('Gambia', 'Tunisia', {'weight': 1}), ('Gambia', 'Uganda', {'weight': 1}), ('Gambia', 'Zaire', {'weight': 1}), ('Gambia', 'Zambia', {'weight': 1}), ('Gambia', 'Zimbabwe', {'weight': 1}), ('Ghana', 'Guinea', {'weight': 3}), ('Ghana', 'Guinea Bissau', {'weight': 2}), ('Ghana', 'Kenya', {'weight': 1}), ('Ghana', 'Lesotho', {'weight': 1}), ('Ghana', 'Liberia', {'weight': 2}), ('Ghana', 'Libya', {'weight': 2}), ('Ghana', 'Madagascar', {'weight': 1}), ('Ghana', 'Malawi', {'weight': 1}), ('Ghana', 'Mali', {'weight': 2}), ('Ghana', 'Mauritania', {'weight': 1}), ('Ghana', 'Mauritius', {'weight': 1}), ('Ghana', 'Mozambique', {'weight': 2}), ('Ghana', 'Namibia', {'weight': 1}), ('Ghana', 'Niger', {'weight': 2}), ('Ghana', 'Nigeria', {'weight': 3}), ('Ghana', 'Rwanda', {'weight': 1}), ('Ghana', 'Sahrawi', {'weight': 1}), ('Ghana', 'Sao Tome and Principe', {'weight': 1}), ('Ghana', 'Senegal', {'weight': 2}), ('Ghana', 'Seychelles', {'weight': 1}), ('Ghana', 'Sierra Leone', {'weight': 2}), ('Ghana', 'Somalia', {'weight': 1}), ('Ghana', 'Sudan', {'weight': 2}), ('Ghana', 'Swaziland', {'weight': 1}), ('Ghana', 'Tanzania', {'weight': 2}), ('Ghana', 'Chad', {'weight': 1}), ('Ghana', 'Togo', {'weight': 2}), ('Ghana', 'Tunisia', {'weight': 2}), ('Ghana', 'Uganda', {'weight': 1}), ('Ghana', 'Zaire', {'weight': 1}), ('Ghana', 'Zambia', {'weight': 1}), ('Ghana', 'Zimbabwe', {'weight': 2}), ('Ghana', 'Argentina', {'weight': 1}), ('Ghana', 'Bangladesh', {'weight': 1}), ('Ghana', 'Venezuela', {'weight': 1}), ('Ghana', 'Bolivia', {'weight': 1}), ('Ghana', 'Brazil', {'weight': 1}), ('Ghana', 'Chile', {'weight': 1}), ('Ghana', 'Colombia', {'weight': 1}), ('Ghana', 'Cuba', {'weight': 1}), ('Ghana', 'Ecuador', {'weight': 1}), ('Ghana', 'Macedonia', {'weight': 1}), ('Ghana', 'Guyana', {'weight': 1}), ('Ghana', 'India', {'weight': 1}), ('Ghana', 'Indonesia', {'weight': 1}), ('Ghana', 'Iran', {'weight': 1}), ('Ghana', 'Iraq', {'weight': 1}), ('Ghana', 'Korea', {'weight': 1}), ('Ghana', 'Malaysia', {'weight': 1}), ('Ghana', 'Mexico', {'weight': 1}), ('Ghana', 'Morocco', {'weight': 1}), ('Ghana', 'Myanmar', {'weight': 1}), ('Ghana', 'Nicaragua', {'weight': 1}), ('Ghana', 'Pakistan', {'weight': 1}), ('Ghana', 'Peru', {'weight': 1}), ('Ghana', 'Philippines', {'weight': 1}), ('Ghana', 'Romania', {'weight': 1}), ('Ghana', 'Singapore', {'weight': 1}), ('Ghana', 'Sri Lanka', {'weight': 1}), ('Ghana', 'Thailand', {'weight': 1}), ('Ghana', 'Trinidad and Tobago', {'weight': 1}), ('Ghana', 'Vietnam', {'weight': 1}), ('Guinea', 'Guinea Bissau', {'weight': 2}), ('Guinea', 'Kenya', {'weight': 1}), ('Guinea', 'Lesotho', {'weight': 1}), ('Guinea', 'Liberia', {'weight': 2}), ('Guinea', 'Libya', {'weight': 2}), ('Guinea', 'Madagascar', {'weight': 1}), ('Guinea', 'Malawi', {'weight': 1}), ('Guinea', 'Mali', {'weight': 2}), ('Guinea', 'Mauritania', {'weight': 1}), ('Guinea', 'Mauritius', {'weight': 1}), ('Guinea', 'Mozambique', {'weight': 2}), ('Guinea', 'Namibia', {'weight': 1}), ('Guinea', 'Niger', {'weight': 2}), ('Guinea', 'Nigeria', {'weight': 3}), ('Guinea', 'Rwanda', {'weight': 1}), ('Guinea', 'Sahrawi', {'weight': 1}), ('Guinea', 'Sao Tome and Principe', {'weight': 1}), ('Guinea', 'Senegal', {'weight': 2}), ('Guinea', 'Seychelles', {'weight': 1}), ('Guinea', 'Sierra Leone', {'weight': 2}), ('Guinea', 'Somalia', {'weight': 1}), ('Guinea', 'Sudan', {'weight': 2}), ('Guinea', 'Swaziland', {'weight': 1}), ('Guinea', 'Tanzania', {'weight': 2}), ('Guinea', 'Chad', {'weight': 1}), ('Guinea', 'Togo', {'weight': 2}), ('Guinea', 'Tunisia', {'weight': 2}), ('Guinea', 'Uganda', {'weight': 1}), ('Guinea', 'Zaire', {'weight': 1}), ('Guinea', 'Zambia', {'weight': 1}), ('Guinea', 'Zimbabwe', {'weight': 2}), ('Guinea', 'Argentina', {'weight': 1}), ('Guinea', 'Bangladesh', {'weight': 1}), ('Guinea', 'Venezuela', {'weight': 1}), ('Guinea', 'Bolivia', {'weight': 1}), ('Guinea', 'Brazil', {'weight': 1}), ('Guinea', 'Chile', {'weight': 1}), ('Guinea', 'Colombia', {'weight': 1}), ('Guinea', 'Cuba', {'weight': 1}), ('Guinea', 'Ecuador', {'weight': 1}), ('Guinea', 'Macedonia', {'weight': 1}), ('Guinea', 'Guyana', {'weight': 1}), ('Guinea', 'India', {'weight': 1}), ('Guinea', 'Indonesia', {'weight': 1}), ('Guinea', 'Iran', {'weight': 1}), ('Guinea', 'Iraq', {'weight': 1}), ('Guinea', 'Korea', {'weight': 1}), ('Guinea', 'Malaysia', {'weight': 1}), ('Guinea', 'Mexico', {'weight': 1}), ('Guinea', 'Morocco', {'weight': 1}), ('Guinea', 'Myanmar', {'weight': 1}), ('Guinea', 'Nicaragua', {'weight': 1}), ('Guinea', 'Pakistan', {'weight': 1}), ('Guinea', 'Peru', {'weight': 1}), ('Guinea', 'Philippines', {'weight': 1}), ('Guinea', 'Romania', {'weight': 1}), ('Guinea', 'Singapore', {'weight': 1}), ('Guinea', 'Sri Lanka', {'weight': 1}), ('Guinea', 'Thailand', {'weight': 1}), ('Guinea', 'Trinidad and Tobago', {'weight': 1}), ('Guinea', 'Vietnam', {'weight': 1}), ('Guinea Bissau', 'Kenya', {'weight': 1}), ('Guinea Bissau', 'Lesotho', {'weight': 1}), ('Guinea Bissau', 'Liberia', {'weight': 2}), ('Guinea Bissau', 'Libya', {'weight': 1}), ('Guinea Bissau', 'Madagascar', {'weight': 1}), ('Guinea Bissau', 'Malawi', {'weight': 1}), ('Guinea Bissau', 'Mali', {'weight': 2}), ('Guinea Bissau', 'Mauritania', {'weight': 1}), ('Guinea Bissau', 'Mauritius', {'weight': 1}), ('Guinea Bissau', 'Mozambique', {'weight': 1}), ('Guinea Bissau', 'Namibia', {'weight': 1}), ('Guinea Bissau', 'Niger', {'weight': 2}), ('Guinea Bissau', 'Nigeria', {'weight': 2}), ('Guinea Bissau', 'Rwanda', {'weight': 1}), ('Guinea Bissau', 'Sahrawi', {'weight': 1}), ('Guinea Bissau', 'Sao Tome and Principe', {'weight': 1}), ('Guinea Bissau', 'Senegal', {'weight': 2}), ('Guinea Bissau', 'Seychelles', {'weight': 1}), ('Guinea Bissau', 'Sierra Leone', {'weight': 2}), ('Guinea Bissau', 'Somalia', {'weight': 1}), ('Guinea Bissau', 'Sudan', {'weight': 1}), ('Guinea Bissau', 'Swaziland', {'weight': 1}), ('Guinea Bissau', 'Tanzania', {'weight': 1}), ('Guinea Bissau', 'Chad', {'weight': 1}), ('Guinea Bissau', 'Togo', {'weight': 2}), ('Guinea Bissau', 'Tunisia', {'weight': 1}), ('Guinea Bissau', 'Uganda', {'weight': 1}), ('Guinea Bissau', 'Zaire', {'weight': 1}), ('Guinea Bissau', 'Zambia', {'weight': 1}), ('Guinea Bissau', 'Zimbabwe', {'weight': 1}), ('Kenya', 'Lesotho', {'weight': 1}), ('Kenya', 'Liberia', {'weight': 1}), ('Kenya', 'Libya', {'weight': 1}), ('Kenya', 'Madagascar', {'weight': 2}), ('Kenya', 'Malawi', {'weight': 2}), ('Kenya', 'Mali', {'weight': 1}), ('Kenya', 'Mauritania', {'weight': 1}), ('Kenya', 'Mauritius', {'weight': 2}), ('Kenya', 'Mozambique', {'weight': 1}), ('Kenya', 'Namibia', {'weight': 2}), ('Kenya', 'Niger', {'weight': 1}), ('Kenya', 'Nigeria', {'weight': 1}), ('Kenya', 'Rwanda', {'weight': 3}), ('Kenya', 'Sahrawi', {'weight': 1}), ('Kenya', 'Sao Tome and Principe', {'weight': 1}), ('Kenya', 'Senegal', {'weight': 1}), ('Kenya', 'Seychelles', {'weight': 2}), ('Kenya', 'Sierra Leone', {'weight': 1}), ('Kenya', 'Somalia', {'weight': 2}), ('Kenya', 'Sudan', {'weight': 3}), ('Kenya', 'Swaziland', {'weight': 2}), ('Kenya', 'Tanzania', {'weight': 3}), ('Kenya', 'Chad', {'weight': 1}), ('Kenya', 'Togo', {'weight': 1}), ('Kenya', 'Tunisia', {'weight': 1}), ('Kenya', 'Uganda', {'weight': 4}), ('Kenya', 'Zaire', {'weight': 1}), ('Kenya', 'Zambia', {'weight': 2}), ('Kenya', 'Zimbabwe', {'weight': 2}), ('Kenya', 'Eritrea', {'weight': 2}), ('Lesotho', 'Liberia', {'weight': 1}), ('Lesotho', 'Libya', {'weight': 1}), ('Lesotho', 'Madagascar', {'weight': 1}), ('Lesotho', 'Malawi', {'weight': 3}), ('Lesotho', 'Mali', {'weight': 1}), ('Lesotho', 'Mauritania', {'weight': 1}), ('Lesotho', 'Mauritius', {'weight': 3}), ('Lesotho', 'Mozambique', {'weight': 3}), ('Lesotho', 'Namibia', {'weight': 5}), ('Lesotho', 'Niger', {'weight': 1}), ('Lesotho', 'Nigeria', {'weight': 1}), ('Lesotho', 'Rwanda', {'weight': 1}), ('Lesotho', 'Sahrawi', {'weight': 1}), ('Lesotho', 'Sao Tome and Principe', {'weight': 1}), ('Lesotho', 'Senegal', {'weight': 1}), ('Lesotho', 'Seychelles', {'weight': 2}), ('Lesotho', 'Sierra Leone', {'weight': 1}), ('Lesotho', 'Somalia', {'weight': 1}), ('Lesotho', 'Sudan', {'weight': 1}), ('Lesotho', 'Swaziland', {'weight': 5}), ('Lesotho', 'Tanzania', {'weight': 3}), ('Lesotho', 'Chad', {'weight': 1}), ('Lesotho', 'Togo', {'weight': 1}), ('Lesotho', 'Tunisia', {'weight': 1}), ('Lesotho', 'Uganda', {'weight': 1}), ('Lesotho', 'Zaire', {'weight': 1}), ('Lesotho', 'Zambia', {'weight': 3}), ('Lesotho', 'Zimbabwe', {'weight': 3}), ('Lesotho', 'Iceland', {'weight': 1}), ('Lesotho', 'Liechtenstein', {'weight': 1}), ('Lesotho', 'Norway', {'weight': 1}), ('Lesotho', 'Switzerland', {'weight': 1}), ('Lesotho', 'South Africa', {'weight': 4}), ('Liberia', 'Libya', {'weight': 1}), ('Liberia', 'Madagascar', {'weight': 1}), ('Liberia', 'Malawi', {'weight': 1}), ('Liberia', 'Mali', {'weight': 2}), ('Liberia', 'Mauritania', {'weight': 1}), ('Liberia', 'Mauritius', {'weight': 1}), ('Liberia', 'Mozambique', {'weight': 1}), ('Liberia', 'Namibia', {'weight': 1}), ('Liberia', 'Niger', {'weight': 2}), ('Liberia', 'Nigeria', {'weight': 2}), ('Liberia', 'Rwanda', {'weight': 1}), ('Liberia', 'Sahrawi', {'weight': 1}), ('Liberia', 'Sao Tome and Principe', {'weight': 1}), ('Liberia', 'Senegal', {'weight': 2}), ('Liberia', 'Seychelles', {'weight': 1}), ('Liberia', 'Sierra Leone', {'weight': 3}), ('Liberia', 'Somalia', {'weight': 1}), ('Liberia', 'Sudan', {'weight': 1}), ('Liberia', 'Swaziland', {'weight': 1}), ('Liberia', 'Tanzania', {'weight': 1}), ('Liberia', 'Chad', {'weight': 1}), ('Liberia', 'Togo', {'weight': 2}), ('Liberia', 'Tunisia', {'weight': 1}), ('Liberia', 'Uganda', {'weight': 1}), ('Liberia', 'Zaire', {'weight': 1}), ('Liberia', 'Zambia', {'weight': 1}), ('Liberia', 'Zimbabwe', {'weight': 1}), ('Libya', 'Madagascar', {'weight': 1}), ('Libya', 'Malawi', {'weight': 1}), ('Libya', 'Mali', {'weight': 1}), ('Libya', 'Mauritania', {'weight': 2}), ('Libya', 'Mauritius', {'weight': 1}), ('Libya', 'Mozambique', {'weight': 2}), ('Libya', 'Namibia', {'weight': 1}), ('Libya', 'Niger', {'weight': 1}), ('Libya', 'Nigeria', {'weight': 2}), ('Libya', 'Rwanda', {'weight': 1}), ('Libya', 'Sahrawi', {'weight': 1}), ('Libya', 'Sao Tome and Principe', {'weight': 1}), ('Libya', 'Senegal', {'weight': 1}), ('Libya', 'Seychelles', {'weight': 1}), ('Libya', 'Sierra Leone', {'weight': 1}), ('Libya', 'Somalia', {'weight': 1}), ('Libya', 'Sudan', {'weight': 3}), ('Libya', 'Swaziland', {'weight': 1}), ('Libya', 'Tanzania', {'weight': 2}), ('Libya', 'Chad', {'weight': 1}), ('Libya', 'Togo', {'weight': 1}), ('Libya', 'Tunisia', {'weight': 4}), ('Libya', 'Uganda', {'weight': 1}), ('Libya', 'Zaire', {'weight': 1}), ('Libya', 'Zambia', {'weight': 1}), ('Libya', 'Zimbabwe', {'weight': 2}), ('Libya', 'Morocco', {'weight': 3}), ('Libya', 'Argentina', {'weight': 1}), ('Libya', 'Bangladesh', {'weight': 1}), ('Libya', 'Venezuela', {'weight': 1}), ('Libya', 'Bolivia', {'weight': 1}), ('Libya', 'Brazil', {'weight': 1}), ('Libya', 'Chile', {'weight': 1}), ('Libya', 'Colombia', {'weight': 1}), ('Libya', 'Cuba', {'weight': 1}), ('Libya', 'Ecuador', {'weight': 1}), ('Libya', 'Macedonia', {'weight': 1}), ('Libya', 'Guyana', {'weight': 1}), ('Libya', 'India', {'weight': 1}), ('Libya', 'Indonesia', {'weight': 1}), ('Libya', 'Iran', {'weight': 1}), ('Libya', 'Iraq', {'weight': 2}), ('Libya', 'Korea', {'weight': 1}), ('Libya', 'Malaysia', {'weight': 1}), ('Libya', 'Mexico', {'weight': 1}), ('Libya', 'Myanmar', {'weight': 1}), ('Libya', 'Nicaragua', {'weight': 1}), ('Libya', 'Pakistan', {'weight': 1}), ('Libya', 'Peru', {'weight': 1}), ('Libya', 'Philippines', {'weight': 1}), ('Libya', 'Romania', {'weight': 1}), ('Libya', 'Singapore', {'weight': 1}), ('Libya', 'Sri Lanka', {'weight': 1}), ('Libya', 'Thailand', {'weight': 1}), ('Libya', 'Trinidad and Tobago', {'weight': 1}), ('Libya', 'Vietnam', {'weight': 1}), ('Libya', 'Bahrain', {'weight': 1}), ('Libya', 'Jordan', {'weight': 1}), ('Libya', 'Kuwait', {'weight': 1}), ('Libya', 'Lebanon', {'weight': 1}), ('Libya', 'Oman', {'weight': 1}), ('Libya', 'Qatar', {'weight': 1}), ('Libya', 'Saudi Arabia', {'weight': 1}), ('Libya', 'Syria', {'weight': 1}), ('Libya', 'United Arab Emirates', {'weight': 1}), ('Libya', 'Yemen', {'weight': 1}), ('Libya', 'Palestine', {'weight': 1}), ('Madagascar', 'Malawi', {'weight': 2}), ('Madagascar', 'Mali', {'weight': 1}), ('Madagascar', 'Mauritania', {'weight': 1}), ('Madagascar', 'Mauritius', {'weight': 2}), ('Madagascar', 'Mozambique', {'weight': 1}), ('Madagascar', 'Namibia', {'weight': 2}), ('Madagascar', 'Niger', {'weight': 1}), ('Madagascar', 'Nigeria', {'weight': 1}), ('Madagascar', 'Rwanda', {'weight': 2}), ('Madagascar', 'Sahrawi', {'weight': 1}), ('Madagascar', 'Sao Tome and Principe', {'weight': 1}), ('Madagascar', 'Senegal', {'weight': 1}), ('Madagascar', 'Seychelles', {'weight': 2}), ('Madagascar', 'Sierra Leone', {'weight': 1}), ('Madagascar', 'Somalia', {'weight': 1}), ('Madagascar', 'Sudan', {'weight': 2}), ('Madagascar', 'Swaziland', {'weight': 2}), ('Madagascar', 'Tanzania', {'weight': 2}), ('Madagascar', 'Chad', {'weight': 1}), ('Madagascar', 'Togo', {'weight': 1}), ('Madagascar', 'Tunisia', {'weight': 1}), ('Madagascar', 'Uganda', {'weight': 2}), ('Madagascar', 'Zaire', {'weight': 1}), ('Madagascar', 'Zambia', {'weight': 2}), ('Madagascar', 'Zimbabwe', {'weight': 2}), ('Madagascar', 'Eritrea', {'weight': 1}), ('Malawi', 'Mali', {'weight': 1}), ('Malawi', 'Mauritania', {'weight': 1}), ('Malawi', 'Mauritius', {'weight': 4}), ('Malawi', 'Mozambique', {'weight': 3}), ('Malawi', 'Namibia', {'weight': 4}), ('Malawi', 'Niger', {'weight': 1}), ('Malawi', 'Nigeria', {'weight': 1}), ('Malawi', 'Rwanda', {'weight': 2}), ('Malawi', 'Sahrawi', {'weight': 1}), ('Malawi', 'Sao Tome and Principe', {'weight': 1}), ('Malawi', 'Senegal', {'weight': 1}), ('Malawi', 'Seychelles', {'weight': 3}), ('Malawi', 'Sierra Leone', {'weight': 1}), ('Malawi', 'Somalia', {'weight': 1}), ('Malawi', 'Sudan', {'weight': 2}), ('Malawi', 'Swaziland', {'weight': 4}), ('Malawi', 'Tanzania', {'weight': 4}), ('Malawi', 'Chad', {'weight': 1}), ('Malawi', 'Togo', {'weight': 1}), ('Malawi', 'Tunisia', {'weight': 1}), ('Malawi', 'Uganda', {'weight': 2}), ('Malawi', 'Zaire', {'weight': 1}), ('Malawi', 'Zambia', {'weight': 4}), ('Malawi', 'Zimbabwe', {'weight': 4}), ('Malawi', 'Eritrea', {'weight': 1}), ('Malawi', 'South Africa', {'weight': 2}), ('Mali', 'Mauritania', {'weight': 1}), ('Mali', 'Mauritius', {'weight': 1}), ('Mali', 'Mozambique', {'weight': 1}), ('Mali', 'Namibia', {'weight': 1}), ('Mali', 'Niger', {'weight': 3}), ('Mali', 'Nigeria', {'weight': 2}), ('Mali', 'Rwanda', {'weight': 1}), ('Mali', 'Sahrawi', {'weight': 1}), ('Mali', 'Sao Tome and Principe', {'weight': 1}), ('Mali', 'Senegal', {'weight': 3}), ('Mali', 'Seychelles', {'weight': 1}), ('Mali', 'Sierra Leone', {'weight': 2}), ('Mali', 'Somalia', {'weight': 1}), ('Mali', 'Sudan', {'weight': 1}), ('Mali', 'Swaziland', {'weight': 1}), ('Mali', 'Tanzania', {'weight': 1}), ('Mali', 'Chad', {'weight': 1}), ('Mali', 'Togo', {'weight': 2}), ('Mali', 'Tunisia', {'weight': 1}), ('Mali', 'Uganda', {'weight': 1}), ('Mali', 'Zaire', {'weight': 1}), ('Mali', 'Zambia', {'weight': 1}), ('Mali', 'Zimbabwe', {'weight': 1}), ('Mali', 'Togo ', {'weight': 1}), ('Mauritania', 'Mauritius', {'weight': 1}), ('Mauritania', 'Mozambique', {'weight': 1}), ('Mauritania', 'Namibia', {'weight': 1}), ('Mauritania', 'Niger', {'weight': 1}), ('Mauritania', 'Nigeria', {'weight': 1}), ('Mauritania', 'Rwanda', {'weight': 1}), ('Mauritania', 'Sahrawi', {'weight': 1}), ('Mauritania', 'Sao Tome and Principe', {'weight': 1}), ('Mauritania', 'Senegal', {'weight': 1}), ('Mauritania', 'Seychelles', {'weight': 1}), ('Mauritania', 'Sierra Leone', {'weight': 1}), ('Mauritania', 'Somalia', {'weight': 1}), ('Mauritania', 'Sudan', {'weight': 1}), ('Mauritania', 'Swaziland', {'weight': 1}), ('Mauritania', 'Tanzania', {'weight': 1}), ('Mauritania', 'Chad', {'weight': 1}), ('Mauritania', 'Togo', {'weight': 1}), ('Mauritania', 'Tunisia', {'weight': 2}), ('Mauritania', 'Uganda', {'weight': 1}), ('Mauritania', 'Zaire', {'weight': 1}), ('Mauritania', 'Zambia', {'weight': 1}), ('Mauritania', 'Zimbabwe', {'weight': 1}), ('Mauritania', 'Morocco', {'weight': 1}), ('Mauritius', 'Mozambique', {'weight': 3}), ('Mauritius', 'Namibia', {'weight': 4}), ('Mauritius', 'Niger', {'weight': 1}), ('Mauritius', 'Nigeria', {'weight': 1}), ('Mauritius', 'Rwanda', {'weight': 2}), ('Mauritius', 'Sahrawi', {'weight': 1}), ('Mauritius', 'Sao Tome and Principe', {'weight': 1}), ('Mauritius', 'Senegal', {'weight': 1}), ('Mauritius', 'Seychelles', {'weight': 3}), ('Mauritius', 'Sierra Leone', {'weight': 1}), ('Mauritius', 'Somalia', {'weight': 1}), ('Mauritius', 'Sudan', {'weight': 2}), ('Mauritius', 'Swaziland', {'weight': 4}), ('Mauritius', 'Tanzania', {'weight': 4}), ('Mauritius', 'Chad', {'weight': 1}), ('Mauritius', 'Togo', {'weight': 1}), ('Mauritius', 'Tunisia', {'weight': 1}), ('Mauritius', 'Uganda', {'weight': 2}), ('Mauritius', 'Zaire', {'weight': 1}), ('Mauritius', 'Zambia', {'weight': 4}), ('Mauritius', 'Zimbabwe', {'weight': 4}), ('Mauritius', 'Eritrea', {'weight': 1}), ('Mauritius', 'Pakistan', {'weight': 1}), ('Mauritius', 'South Africa', {'weight': 2}), ('Mozambique', 'Namibia', {'weight': 3}), ('Mozambique', 'Niger', {'weight': 1}), ('Mozambique', 'Nigeria', {'weight': 2}), ('Mozambique', 'Rwanda', {'weight': 1}), ('Mozambique', 'Sahrawi', {'weight': 1}), ('Mozambique', 'Sao Tome and Principe', {'weight': 1}), ('Mozambique', 'Senegal', {'weight': 1}), ('Mozambique', 'Seychelles', {'weight': 2}), ('Mozambique', 'Sierra Leone', {'weight': 1}), ('Mozambique', 'Somalia', {'weight': 1}), ('Mozambique', 'Sudan', {'weight': 2}), ('Mozambique', 'Swaziland', {'weight': 3}), ('Mozambique', 'Tanzania', {'weight': 4}), ('Mozambique', 'Chad', {'weight': 1}), ('Mozambique', 'Togo', {'weight': 1}), ('Mozambique', 'Tunisia', {'weight': 2}), ('Mozambique', 'Uganda', {'weight': 1}), ('Mozambique', 'Zaire', {'weight': 1}), ('Mozambique', 'Zambia', {'weight': 3}), ('Mozambique', 'Zimbabwe', {'weight': 4}), ('Mozambique', 'Argentina', {'weight': 1}), ('Mozambique', 'Bangladesh', {'weight': 1}), ('Mozambique', 'Venezuela', {'weight': 1}), ('Mozambique', 'Bolivia', {'weight': 1}), ('Mozambique', 'Brazil', {'weight': 1}), ('Mozambique', 'Chile', {'weight': 1}), ('Mozambique', 'Colombia', {'weight': 1}), ('Mozambique', 'Cuba', {'weight': 1}), ('Mozambique', 'Ecuador', {'weight': 1}), ('Mozambique', 'Macedonia', {'weight': 1}), ('Mozambique', 'Guyana', {'weight': 1}), ('Mozambique', 'India', {'weight': 1}), ('Mozambique', 'Indonesia', {'weight': 1}), ('Mozambique', 'Iran', {'weight': 1}), ('Mozambique', 'Iraq', {'weight': 1}), ('Mozambique', 'Korea', {'weight': 1}), ('Mozambique', 'Malaysia', {'weight': 1}), ('Mozambique', 'Mexico', {'weight': 1}), ('Mozambique', 'Morocco', {'weight': 1}), ('Mozambique', 'Myanmar', {'weight': 1}), ('Mozambique', 'Nicaragua', {'weight': 1}), ('Mozambique', 'Pakistan', {'weight': 1}), ('Mozambique', 'Peru', {'weight': 1}), ('Mozambique', 'Philippines', {'weight': 1}), ('Mozambique', 'Romania', {'weight': 1}), ('Mozambique', 'Singapore', {'weight': 1}), ('Mozambique', 'Sri Lanka', {'weight': 1}), ('Mozambique', 'Thailand', {'weight': 1}), ('Mozambique', 'Trinidad and Tobago', {'weight': 1}), ('Mozambique', 'Vietnam', {'weight': 1}), ('Mozambique', 'South Africa', {'weight': 2}), ('Namibia', 'Niger', {'weight': 1}), ('Namibia', 'Nigeria', {'weight': 1}), ('Namibia', 'Rwanda', {'weight': 2}), ('Namibia', 'Sahrawi', {'weight': 1}), ('Namibia', 'Sao Tome and Principe', {'weight': 1}), ('Namibia', 'Senegal', {'weight': 1}), ('Namibia', 'Seychelles', {'weight': 3}), ('Namibia', 'Sierra Leone', {'weight': 1}), ('Namibia', 'Somalia', {'weight': 1}), ('Namibia', 'Sudan', {'weight': 2}), ('Namibia', 'Swaziland', {'weight': 6}), ('Namibia', 'Tanzania', {'weight': 4}), ('Namibia', 'Chad', {'weight': 1}), ('Namibia', 'Togo', {'weight': 1}), ('Namibia', 'Tunisia', {'weight': 1}), ('Namibia', 'Uganda', {'weight': 2}), ('Namibia', 'Zaire', {'weight': 1}), ('Namibia', 'Zambia', {'weight': 4}), ('Namibia', 'Zimbabwe', {'weight': 5}), ('Namibia', 'Eritrea', {'weight': 1}), ('Namibia', 'Iceland', {'weight': 1}), ('Namibia', 'Liechtenstein', {'weight': 1}), ('Namibia', 'Norway', {'weight': 1}), ('Namibia', 'Switzerland', {'weight': 1}), ('Namibia', 'South Africa', {'weight': 4}), ('Niger', 'Nigeria', {'weight': 2}), ('Niger', 'Rwanda', {'weight': 1}), ('Niger', 'Sahrawi', {'weight': 1}), ('Niger', 'Sao Tome and Principe', {'weight': 1}), ('Niger', 'Senegal', {'weight': 3}), ('Niger', 'Seychelles', {'weight': 1}), ('Niger', 'Sierra Leone', {'weight': 2}), ('Niger', 'Somalia', {'weight': 1}), ('Niger', 'Sudan', {'weight': 1}), ('Niger', 'Swaziland', {'weight': 1}), ('Niger', 'Tanzania', {'weight': 1}), ('Niger', 'Chad', {'weight': 1}), ('Niger', 'Togo', {'weight': 2}), ('Niger', 'Tunisia', {'weight': 1}), ('Niger', 'Uganda', {'weight': 1}), ('Niger', 'Zaire', {'weight': 1}), ('Niger', 'Zambia', {'weight': 1}), ('Niger', 'Zimbabwe', {'weight': 1}), ('Niger', 'Togo ', {'weight': 1}), ('Nigeria', 'Rwanda', {'weight': 1}), ('Nigeria', 'Sahrawi', {'weight': 1}), ('Nigeria', 'Sao Tome and Principe', {'weight': 1}), ('Nigeria', 'Senegal', {'weight': 2}), ('Nigeria', 'Seychelles', {'weight': 1}), ('Nigeria', 'Sierra Leone', {'weight': 2}), ('Nigeria', 'Somalia', {'weight': 1}), ('Nigeria', 'Sudan', {'weight': 2}), ('Nigeria', 'Swaziland', {'weight': 1}), ('Nigeria', 'Tanzania', {'weight': 2}), ('Nigeria', 'Chad', {'weight': 1}), ('Nigeria', 'Togo', {'weight': 2}), ('Nigeria', 'Tunisia', {'weight': 2}), ('Nigeria', 'Uganda', {'weight': 1}), ('Nigeria', 'Zaire', {'weight': 1}), ('Nigeria', 'Zambia', {'weight': 1}), ('Nigeria', 'Zimbabwe', {'weight': 2}), ('Nigeria', 'Argentina', {'weight': 1}), ('Nigeria', 'Bangladesh', {'weight': 1}), ('Nigeria', 'Venezuela', {'weight': 1}), ('Nigeria', 'Bolivia', {'weight': 1}), ('Nigeria', 'Brazil', {'weight': 1}), ('Nigeria', 'Chile', {'weight': 1}), ('Nigeria', 'Colombia', {'weight': 1}), ('Nigeria', 'Cuba', {'weight': 1}), ('Nigeria', 'Ecuador', {'weight': 1}), ('Nigeria', 'Macedonia', {'weight': 1}), ('Nigeria', 'Guyana', {'weight': 1}), ('Nigeria', 'India', {'weight': 1}), ('Nigeria', 'Indonesia', {'weight': 1}), ('Nigeria', 'Iran', {'weight': 1}), ('Nigeria', 'Iraq', {'weight': 1}), ('Nigeria', 'Korea', {'weight': 1}), ('Nigeria', 'Malaysia', {'weight': 1}), ('Nigeria', 'Mexico', {'weight': 1}), ('Nigeria', 'Morocco', {'weight': 1}), ('Nigeria', 'Myanmar', {'weight': 1}), ('Nigeria', 'Nicaragua', {'weight': 1}), ('Nigeria', 'Pakistan', {'weight': 1}), ('Nigeria', 'Peru', {'weight': 1}), ('Nigeria', 'Philippines', {'weight': 1}), ('Nigeria', 'Romania', {'weight': 1}), ('Nigeria', 'Singapore', {'weight': 1}), ('Nigeria', 'Sri Lanka', {'weight': 1}), ('Nigeria', 'Thailand', {'weight': 1}), ('Nigeria', 'Trinidad and Tobago', {'weight': 1}), ('Nigeria', 'Vietnam', {'weight': 1}), ('Rwanda', 'Sahrawi', {'weight': 1}), ('Rwanda', 'Sao Tome and Principe', {'weight': 2}), ('Rwanda', 'Senegal', {'weight': 1}), ('Rwanda', 'Seychelles', {'weight': 2}), ('Rwanda', 'Sierra Leone', {'weight': 1}), ('Rwanda', 'Somalia', {'weight': 1}), ('Rwanda', 'Sudan', {'weight': 2}), ('Rwanda', 'Swaziland', {'weight': 2}), ('Rwanda', 'Tanzania', {'weight': 3}), ('Rwanda', 'Chad', {'weight': 1}), ('Rwanda', 'Togo', {'weight': 1}), ('Rwanda', 'Tunisia', {'weight': 1}), ('Rwanda', 'Uganda', {'weight': 3}), ('Rwanda', 'Zaire', {'weight': 3}), ('Rwanda', 'Zambia', {'weight': 2}), ('Rwanda', 'Zimbabwe', {'weight': 2}), ('Rwanda', 'Eritrea', {'weight': 1}), ('Rwanda', 'Republic of Chad', {'weight': 1}), ('Sahrawi', 'Sao Tome and Principe', {'weight': 1}), ('Sahrawi', 'Senegal', {'weight': 1}), ('Sahrawi', 'Seychelles', {'weight': 1}), ('Sahrawi', 'Sierra Leone', {'weight': 1}), ('Sahrawi', 'Somalia', {'weight': 1}), ('Sahrawi', 'Sudan', {'weight': 1}), ('Sahrawi', 'Swaziland', {'weight': 1}), ('Sahrawi', 'Tanzania', {'weight': 1}), ('Sahrawi', 'Chad', {'weight': 1}), ('Sahrawi', 'Togo', {'weight': 1}), ('Sahrawi', 'Tunisia', {'weight': 1}), ('Sahrawi', 'Uganda', {'weight': 1}), ('Sahrawi', 'Zaire', {'weight': 1}), ('Sahrawi', 'Zambia', {'weight': 1}), ('Sahrawi', 'Zimbabwe', {'weight': 1}), ('Sao Tome and Principe', 'Senegal', {'weight': 1}), ('Sao Tome and Principe', 'Seychelles', {'weight': 1}), ('Sao Tome and Principe', 'Sierra Leone', {'weight': 1}), ('Sao Tome and Principe', 'Somalia', {'weight': 1}), ('Sao Tome and Principe', 'Sudan', {'weight': 1}), ('Sao Tome and Principe', 'Swaziland', {'weight': 1}), ('Sao Tome and Principe', 'Tanzania', {'weight': 1}), ('Sao Tome and Principe', 'Chad', {'weight': 1}), ('Sao Tome and Principe', 'Togo', {'weight': 1}), ('Sao Tome and Principe', 'Tunisia', {'weight': 1}), ('Sao Tome and Principe', 'Uganda', {'weight': 1}), ('Sao Tome and Principe', 'Zaire', {'weight': 2}), ('Sao Tome and Principe', 'Zambia', {'weight': 1}), ('Sao Tome and Principe', 'Zimbabwe', {'weight': 1}), ('Sao Tome and Principe', 'Republic of Chad', {'weight': 1}), ('Senegal', 'Seychelles', {'weight': 1}), ('Senegal', 'Sierra Leone', {'weight': 2}), ('Senegal', 'Somalia', {'weight': 1}), ('Senegal', 'Sudan', {'weight': 1}), ('Senegal', 'Swaziland', {'weight': 1}), ('Senegal', 'Tanzania', {'weight': 1}), ('Senegal', 'Chad', {'weight': 1}), ('Senegal', 'Togo', {'weight': 2}), ('Senegal', 'Tunisia', {'weight': 1}), ('Senegal', 'Uganda', {'weight': 1}), ('Senegal', 'Zaire', {'weight': 1}), ('Senegal', 'Zambia', {'weight': 1}), ('Senegal', 'Zimbabwe', {'weight': 1}), ('Senegal', 'Togo ', {'weight': 1}), ('Seychelles', 'Sierra Leone', {'weight': 1}), ('Seychelles', 'Somalia', {'weight': 1}), ('Seychelles', 'Sudan', {'weight': 2}), ('Seychelles', 'Swaziland', {'weight': 3}), ('Seychelles', 'Tanzania', {'weight': 3}), ('Seychelles', 'Chad', {'weight': 1}), ('Seychelles', 'Togo', {'weight': 1}), ('Seychelles', 'Tunisia', {'weight': 1}), ('Seychelles', 'Uganda', {'weight': 2}), ('Seychelles', 'Zaire', {'weight': 1}), ('Seychelles', 'Zambia', {'weight': 3}), ('Seychelles', 'Zimbabwe', {'weight': 3}), ('Seychelles', 'Eritrea', {'weight': 1}), ('Seychelles', 'South Africa', {'weight': 1}), ('Sierra Leone', 'Somalia', {'weight': 1}), ('Sierra Leone', 'Sudan', {'weight': 1}), ('Sierra Leone', 'Swaziland', {'weight': 1}), ('Sierra Leone', 'Tanzania', {'weight': 1}), ('Sierra Leone', 'Chad', {'weight': 1}), ('Sierra Leone', 'Togo', {'weight': 2}), ('Sierra Leone', 'Tunisia', {'weight': 1}), ('Sierra Leone', 'Uganda', {'weight': 1}), ('Sierra Leone', 'Zaire', {'weight': 1}), ('Sierra Leone', 'Zambia', {'weight': 1}), ('Sierra Leone', 'Zimbabwe', {'weight': 1}), ('Somalia', 'Sudan', {'weight': 2}), ('Somalia', 'Swaziland', {'weight': 1}), ('Somalia', 'Tanzania', {'weight': 1}), ('Somalia', 'Chad', {'weight': 1}), ('Somalia', 'Togo', {'weight': 1}), ('Somalia', 'Tunisia', {'weight': 1}), ('Somalia', 'Uganda', {'weight': 2}), ('Somalia', 'Zaire', {'weight': 1}), ('Somalia', 'Zambia', {'weight': 1}), ('Somalia', 'Zimbabwe', {'weight': 1}), ('Somalia', 'Eritrea', {'weight': 1}), ('Sudan', 'Swaziland', {'weight': 2}), ('Sudan', 'Tanzania', {'weight': 3}), ('Sudan', 'Chad', {'weight': 1}), ('Sudan', 'Togo', {'weight': 1}), ('Sudan', 'Tunisia', {'weight': 3}), ('Sudan', 'Uganda', {'weight': 3}), ('Sudan', 'Zaire', {'weight': 1}), ('Sudan', 'Zambia', {'weight': 2}), ('Sudan', 'Zimbabwe', {'weight': 3}), ('Sudan', 'Eritrea', {'weight': 2}), ('Sudan', 'Argentina', {'weight': 1}), ('Sudan', 'Bangladesh', {'weight': 1}), ('Sudan', 'Venezuela', {'weight': 1}), ('Sudan', 'Bolivia', {'weight': 1}), ('Sudan', 'Brazil', {'weight': 1}), ('Sudan', 'Chile', {'weight': 1}), ('Sudan', 'Colombia', {'weight': 1}), ('Sudan', 'Cuba', {'weight': 1}), ('Sudan', 'Ecuador', {'weight': 1}), ('Sudan', 'Macedonia', {'weight': 1}), ('Sudan', 'Guyana', {'weight': 1}), ('Sudan', 'India', {'weight': 1}), ('Sudan', 'Indonesia', {'weight': 1}), ('Sudan', 'Iran', {'weight': 1}), ('Sudan', 'Iraq', {'weight': 2}), ('Sudan', 'Korea', {'weight': 1}), ('Sudan', 'Malaysia', {'weight': 1}), ('Sudan', 'Mexico', {'weight': 1}), ('Sudan', 'Morocco', {'weight': 2}), ('Sudan', 'Myanmar', {'weight': 1}), ('Sudan', 'Nicaragua', {'weight': 1}), ('Sudan', 'Pakistan', {'weight': 1}), ('Sudan', 'Peru', {'weight': 1}), ('Sudan', 'Philippines', {'weight': 1}), ('Sudan', 'Romania', {'weight': 1}), ('Sudan', 'Singapore', {'weight': 1}), ('Sudan', 'Sri Lanka', {'weight': 1}), ('Sudan', 'Thailand', {'weight': 1}), ('Sudan', 'Trinidad and Tobago', {'weight': 1}), ('Sudan', 'Vietnam', {'weight': 1}), ('Sudan', 'Bahrain', {'weight': 1}), ('Sudan', 'Jordan', {'weight': 1}), ('Sudan', 'Kuwait', {'weight': 1}), ('Sudan', 'Lebanon', {'weight': 1}), ('Sudan', 'Oman', {'weight': 1}), ('Sudan', 'Qatar', {'weight': 1}), ('Sudan', 'Saudi Arabia', {'weight': 1}), ('Sudan', 'Syria', {'weight': 1}), ('Sudan', 'United Arab Emirates', {'weight': 1}), ('Sudan', 'Yemen', {'weight': 1}), ('Sudan', 'Palestine', {'weight': 1}), ('Swaziland', 'Tanzania', {'weight': 4}), ('Swaziland', 'Chad', {'weight': 1}), ('Swaziland', 'Togo', {'weight': 1}), ('Swaziland', 'Tunisia', {'weight': 1}), ('Swaziland', 'Uganda', {'weight': 2}), ('Swaziland', 'Zaire', {'weight': 1}), ('Swaziland', 'Zambia', {'weight': 4}), ('Swaziland', 'Zimbabwe', {'weight': 4}), ('Swaziland', 'Eritrea', {'weight': 1}), ('Swaziland', 'Iceland', {'weight': 1}), ('Swaziland', 'Liechtenstein', {'weight': 1}), ('Swaziland', 'Norway', {'weight': 1}), ('Swaziland', 'Switzerland', {'weight': 1}), ('Swaziland', 'South Africa', {'weight': 4}), ('Tanzania', 'Chad', {'weight': 1}), ('Tanzania', 'Togo', {'weight': 1}), ('Tanzania', 'Tunisia', {'weight': 2}), ('Tanzania', 'Uganda', {'weight': 3}), ('Tanzania', 'Zaire', {'weight': 1}), ('Tanzania', 'Zambia', {'weight': 4}), ('Tanzania', 'Zimbabwe', {'weight': 5}), ('Tanzania', 'Eritrea', {'weight': 1}), ('Tanzania', 'Argentina', {'weight': 1}), ('Tanzania', 'Bangladesh', {'weight': 1}), ('Tanzania', 'Venezuela', {'weight': 1}), ('Tanzania', 'Bolivia', {'weight': 1}), ('Tanzania', 'Brazil', {'weight': 1}), ('Tanzania', 'Chile', {'weight': 1}), ('Tanzania', 'Colombia', {'weight': 1}), ('Tanzania', 'Cuba', {'weight': 1}), ('Tanzania', 'Ecuador', {'weight': 1}), ('Tanzania', 'Macedonia', {'weight': 1}), ('Tanzania', 'Guyana', {'weight': 1}), ('Tanzania', 'India', {'weight': 1}), ('Tanzania', 'Indonesia', {'weight': 1}), ('Tanzania', 'Iran', {'weight': 1}), ('Tanzania', 'Iraq', {'weight': 1}), ('Tanzania', 'Korea', {'weight': 1}), ('Tanzania', 'Malaysia', {'weight': 1}), ('Tanzania', 'Mexico', {'weight': 1}), ('Tanzania', 'Morocco', {'weight': 1}), ('Tanzania', 'Myanmar', {'weight': 1}), ('Tanzania', 'Nicaragua', {'weight': 1}), ('Tanzania', 'Pakistan', {'weight': 1}), ('Tanzania', 'Peru', {'weight': 1}), ('Tanzania', 'Philippines', {'weight': 1}), ('Tanzania', 'Romania', {'weight': 1}), ('Tanzania', 'Singapore', {'weight': 1}), ('Tanzania', 'Sri Lanka', {'weight': 1}), ('Tanzania', 'Thailand', {'weight': 1}), ('Tanzania', 'Trinidad and Tobago', {'weight': 1}), ('Tanzania', 'Vietnam', {'weight': 1}), ('Tanzania', 'South Africa', {'weight': 2}), ('Chad', 'Togo', {'weight': 1}), ('Chad', 'Tunisia', {'weight': 1}), ('Chad', 'Uganda', {'weight': 1}), ('Chad', 'Zaire', {'weight': 1}), ('Chad', 'Zambia', {'weight': 1}), ('Chad', 'Zimbabwe', {'weight': 1}), ('Togo', 'Tunisia', {'weight': 1}), ('Togo', 'Uganda', {'weight': 1}), ('Togo', 'Zaire', {'weight': 1}), ('Togo', 'Zambia', {'weight': 1}), ('Togo', 'Zimbabwe', {'weight': 1}), ('Tunisia', 'Uganda', {'weight': 1}), ('Tunisia', 'Zaire', {'weight': 1}), ('Tunisia', 'Zambia', {'weight': 1}), ('Tunisia', 'Zimbabwe', {'weight': 2}), ('Tunisia', 'Jordan', {'weight': 3}), ('Tunisia', 'Morocco', {'weight': 4}), ('Tunisia', 'Austria', {'weight': 1}), ('Tunisia', 'Belgium', {'weight': 1}), ('Tunisia', 'Bulgaria', {'weight': 1}), ('Tunisia', 'Cyprus', {'weight': 1}), ('Tunisia', 'Czech Republic', {'weight': 1}), ('Tunisia', 'Denmark', {'weight': 1}), ('Tunisia', 'Estonia', {'weight': 1}), ('Tunisia', 'Finland', {'weight': 1}), ('Tunisia', 'France', {'weight': 1}), ('Tunisia', 'Germany', {'weight': 1}), ('Tunisia', 'Greece', {'weight': 1}), ('Tunisia', 'Hungary', {'weight': 1}), ('Tunisia', 'Ireland', {'weight': 1}), ('Tunisia', 'Italy', {'weight': 1}), ('Tunisia', 'Latvia', {'weight': 1}), ('Tunisia', 'Lithuania', {'weight': 1}), ('Tunisia', 'Luxembourg', {'weight': 1}), ('Tunisia', 'Malta', {'weight': 1}), ('Tunisia', 'Netherlands', {'weight': 1}), ('Tunisia', 'Poland', {'weight': 1}), ('Tunisia', 'Portugal', {'weight': 1}), ('Tunisia', 'Romania', {'weight': 3}), ('Tunisia', 'Slovak Republic', {'weight': 1}), ('Tunisia', 'Slovenia', {'weight': 1}), ('Tunisia', 'Spain', {'weight': 2}), ('Tunisia', 'Sweden', {'weight': 1}), ('Tunisia', 'United Kingdom', {'weight': 1}), ('Tunisia', 'Iceland', {'weight': 1}), ('Tunisia', 'Liechtenstein', {'weight': 1}), ('Tunisia', 'Norway', {'weight': 1}), ('Tunisia', 'Switzerland', {'weight': 1}), ('Tunisia', 'Argentina', {'weight': 1}), ('Tunisia', 'Bangladesh', {'weight': 2}), ('Tunisia', 'Venezuela', {'weight': 1}), ('Tunisia', 'Bolivia', {'weight': 1}), ('Tunisia', 'Brazil', {'weight': 2}), ('Tunisia', 'Chile', {'weight': 2}), ('Tunisia', 'Colombia', {'weight': 1}), ('Tunisia', 'Cuba', {'weight': 1}), ('Tunisia', 'Ecuador', {'weight': 1}), ('Tunisia', 'Macedonia', {'weight': 1}), ('Tunisia', 'Guyana', {'weight': 1}), ('Tunisia', 'India', {'weight': 2}), ('Tunisia', 'Indonesia', {'weight': 1}), ('Tunisia', 'Iran', {'weight': 1}), ('Tunisia', 'Iraq', {'weight': 2}), ('Tunisia', 'Korea', {'weight': 2}), ('Tunisia', 'Malaysia', {'weight': 1}), ('Tunisia', 'Mexico', {'weight': 2}), ('Tunisia', 'Myanmar', {'weight': 1}), ('Tunisia', 'Nicaragua', {'weight': 1}), ('Tunisia', 'Pakistan', {'weight': 2}), ('Tunisia', 'Peru', {'weight': 2}), ('Tunisia', 'Philippines', {'weight': 1}), ('Tunisia', 'Singapore', {'weight': 1}), ('Tunisia', 'Sri Lanka', {'weight': 1}), ('Tunisia', 'Thailand', {'weight': 1}), ('Tunisia', 'Trinidad and Tobago', {'weight': 1}), ('Tunisia', 'Vietnam', {'weight': 1}), ('Tunisia', 'Bahrain', {'weight': 1}), ('Tunisia', 'Kuwait', {'weight': 1}), ('Tunisia', 'Lebanon', {'weight': 1}), ('Tunisia', 'Oman', {'weight': 1}), ('Tunisia', 'Qatar', {'weight': 1}), ('Tunisia', 'Saudi Arabia', {'weight': 1}), ('Tunisia', 'Syria', {'weight': 1}), ('Tunisia', 'United Arab Emirates', {'weight': 1}), ('Tunisia', 'Yemen', {'weight': 1}), ('Tunisia', 'Palestine', {'weight': 1}), ('Tunisia', 'Israel', {'weight': 1}), ('Tunisia', 'Turkey', {'weight': 2}), ('Tunisia', 'Uruguay', {'weight': 1}), ('Tunisia', 'Yugoslavia', {'weight': 1}), ('Uganda', 'Zaire', {'weight': 1}), ('Uganda', 'Zambia', {'weight': 2}), ('Uganda', 'Zimbabwe', {'weight': 2}), ('Uganda', 'Eritrea', {'weight': 2}), ('Zaire', 'Zambia', {'weight': 1}), ('Zaire', 'Zimbabwe', {'weight': 1}), ('Zaire', 'Republic of Chad', {'weight': 1}), ('Zambia', 'Zimbabwe', {'weight': 4}), ('Zambia', 'Eritrea', {'weight': 1}), ('Zambia', 'South Africa', {'weight': 2}), ('Zimbabwe', 'Eritrea', {'weight': 1}), ('Zimbabwe', 'Argentina', {'weight': 1}), ('Zimbabwe', 'Bangladesh', {'weight': 1}), ('Zimbabwe', 'Venezuela', {'weight': 1}), ('Zimbabwe', 'Bolivia', {'weight': 1}), ('Zimbabwe', 'Brazil', {'weight': 1}), ('Zimbabwe', 'Chile', {'weight': 1}), ('Zimbabwe', 'Colombia', {'weight': 1}), ('Zimbabwe', 'Cuba', {'weight': 1}), ('Zimbabwe', 'Ecuador', {'weight': 1}), ('Zimbabwe', 'Macedonia', {'weight': 1}), ('Zimbabwe', 'Guyana', {'weight': 1}), ('Zimbabwe', 'India', {'weight': 1}), ('Zimbabwe', 'Indonesia', {'weight': 1}), ('Zimbabwe', 'Iran', {'weight': 1}), ('Zimbabwe', 'Iraq', {'weight': 1}), ('Zimbabwe', 'Korea', {'weight': 1}), ('Zimbabwe', 'Malaysia', {'weight': 1}), ('Zimbabwe', 'Mexico', {'weight': 1}), ('Zimbabwe', 'Morocco', {'weight': 1}), ('Zimbabwe', 'Myanmar', {'weight': 1}), ('Zimbabwe', 'Nicaragua', {'weight': 1}), ('Zimbabwe', 'Pakistan', {'weight': 1}), ('Zimbabwe', 'Peru', {'weight': 1}), ('Zimbabwe', 'Philippines', {'weight': 1}), ('Zimbabwe', 'Romania', {'weight': 1}), ('Zimbabwe', 'Singapore', {'weight': 1}), ('Zimbabwe', 'Sri Lanka', {'weight': 1}), ('Zimbabwe', 'Thailand', {'weight': 1}), ('Zimbabwe', 'Trinidad and Tobago', {'weight': 1}), ('Zimbabwe', 'Vietnam', {'weight': 1}), ('Zimbabwe', 'South Africa', {'weight': 2}), ('Morocco', 'India', {'weight': 1}), ('Morocco', 'Jordan', {'weight': 3}), ('Morocco', 'Austria', {'weight': 1}), ('Morocco', 'Belgium', {'weight': 1}), ('Morocco', 'Denmark', {'weight': 1}), ('Morocco', 'Finland', {'weight': 1}), ('Morocco', 'France', {'weight': 1}), ('Morocco', 'Germany', {'weight': 1}), ('Morocco', 'Greece', {'weight': 1}), ('Morocco', 'Ireland', {'weight': 1}), ('Morocco', 'Italy', {'weight': 1}), ('Morocco', 'Luxembourg', {'weight': 1}), ('Morocco', 'Netherlands', {'weight': 1}), ('Morocco', 'Portugal', {'weight': 1}), ('Morocco', 'Spain', {'weight': 1}), ('Morocco', 'Sweden', {'weight': 1}), ('Morocco', 'United Kingdom', {'weight': 1}), ('Morocco', 'Iceland', {'weight': 1}), ('Morocco', 'Liechtenstein', {'weight': 1}), ('Morocco', 'Norway', {'weight': 1}), ('Morocco', 'Switzerland', {'weight': 1}), ('Morocco', 'Argentina', {'weight': 1}), ('Morocco', 'Bangladesh', {'weight': 1}), ('Morocco', 'Venezuela', {'weight': 1}), ('Morocco', 'Bolivia', {'weight': 1}), ('Morocco', 'Brazil', {'weight': 1}), ('Morocco', 'Chile', {'weight': 1}), ('Morocco', 'Colombia', {'weight': 1}), ('Morocco', 'Cuba', {'weight': 1}), ('Morocco', 'Ecuador', {'weight': 1}), ('Morocco', 'Macedonia', {'weight': 1}), ('Morocco', 'Guyana', {'weight': 1}), ('Morocco', 'Indonesia', {'weight': 1}), ('Morocco', 'Iran', {'weight': 1}), ('Morocco', 'Iraq', {'weight': 2}), ('Morocco', 'Korea', {'weight': 1}), ('Morocco', 'Malaysia', {'weight': 1}), ('Morocco', 'Mexico', {'weight': 1}), ('Morocco', 'Myanmar', {'weight': 1}), ('Morocco', 'Nicaragua', {'weight': 1}), ('Morocco', 'Pakistan', {'weight': 1}), ('Morocco', 'Peru', {'weight': 1}), ('Morocco', 'Philippines', {'weight': 1}), ('Morocco', 'Romania', {'weight': 1}), ('Morocco', 'Singapore', {'weight': 1}), ('Morocco', 'Sri Lanka', {'weight': 1}), ('Morocco', 'Thailand', {'weight': 1}), ('Morocco', 'Trinidad and Tobago', {'weight': 1}), ('Morocco', 'Vietnam', {'weight': 1}), ('Morocco', 'Turkey', {'weight': 1}), ('Morocco', 'Bahrain', {'weight': 1}), ('Morocco', 'Kuwait', {'weight': 1}), ('Morocco', 'Lebanon', {'weight': 1}), ('Morocco', 'Oman', {'weight': 1}), ('Morocco', 'Qatar', {'weight': 1}), ('Morocco', 'Saudi Arabia', {'weight': 1}), ('Morocco', 'Syria', {'weight': 1}), ('Morocco', 'United Arab Emirates', {'weight': 1}), ('Morocco', 'Yemen', {'weight': 1}), ('Morocco', 'Palestine', {'weight': 1}), ('Morocco', 'United States', {'weight': 1}), ('Austria', 'Jordan', {'weight': 1}), ('Austria', 'Albania', {'weight': 1}), ('Austria', 'Croatia', {'weight': 1}), ('Austria', 'Macedonia', {'weight': 1}), ('Austria', 'Turkey', {'weight': 1}), ('Austria', 'Bulgaria', {'weight': 13}), ('Austria', 'Romania', {'weight': 13}), ('Austria', 'Chile', {'weight': 1}), ('Austria', 'Estonia', {'weight': 14}), ('Austria', 'Latvia', {'weight': 15}), ('Austria', 'Lithuania', {'weight': 15}), ('Austria', 'Bosnia and Herzegovina', {'weight': 1}), ('Austria', 'Slovenia', {'weight': 15}), ('Austria', 'Israel', {'weight': 1}), ('Austria', 'Iceland', {'weight': 1}), ('Austria', 'Liechtenstein', {'weight': 2}), ('Austria', 'Norway', {'weight': 4}), ('Austria', 'Switzerland', {'weight': 2}), ('Austria', 'Antigua and Barbuda', {'weight': 1}), ('Austria', 'Bahamas', {'weight': 1}), ('Austria', 'Barbados', {'weight': 1}), ('Austria', 'Belize', {'weight': 1}), ('Austria', 'Dominica', {'weight': 1}), ('Austria', 'Grenada', {'weight': 1}), ('Austria', 'Guyana', {'weight': 1}), ('Austria', 'Jamaica', {'weight': 1}), ('Austria', 'Montserrat', {'weight': 1}), ('Austria', 'Trinidad and Tobago', {'weight': 1}), ('Austria', 'Saint Lucia', {'weight': 1}), ('Austria', 'Suriname', {'weight': 1}), ('Austria', 'Saint Kitts and Nevis', {'weight': 1}), ('Austria', 'Saint Vincent and the Grenadines', {'weight': 1}), ('Austria', 'Dominican Republic', {'weight': 1}), ('Austria', 'Czech Republic', {'weight': 15}), ('Austria', 'Hungary', {'weight': 14}), ('Austria', 'Poland', {'weight': 14}), ('Austria', 'Slovak Republic', {'weight': 14}), ('Austria', 'Montenegro', {'weight': 1}), ('Austria', 'Mexico', {'weight': 1}), ('Austria', 'Belgium', {'weight': 36}), ('Austria', 'Denmark', {'weight': 37}), ('Austria', 'France', {'weight': 35}), ('Austria', 'Germany', {'weight': 36}), ('Austria', 'Ireland', {'weight': 36}), ('Austria', 'Italy', {'weight': 36}), ('Austria', 'Luxembourg', {'weight': 36}), ('Austria', 'Netherlands', {'weight': 36}), ('Austria', 'United Kingdom', {'weight': 38}), ('Austria', 'Greece', {'weight': 36}), ('Austria', 'Portugal', {'weight': 37}), ('Austria', 'Spain', {'weight': 36}), ('Austria', 'Finland', {'weight': 36}), ('Austria', 'Sweden', {'weight': 37}), ('Austria', 'Cyprus', {'weight': 14}), ('Austria', 'Malta', {'weight': 16}), ('Austria', 'Andorra', {'weight': 1}), ('Austria', 'Faroe Islands', {'weight': 1}), ('Austria', 'Lebanon', {'weight': 1}), ('Austria', 'Anguilla', {'weight': 1}), ('Austria', 'Aruba', {'weight': 1}), ('Austria', 'British Indian Ocean Territory', {'weight': 1}), ('Austria', 'Cayman Islands', {'weight': 1}), ('Austria', 'Falkland or Malvinas', {'weight': 1}), ('Austria', 'French Polynesia', {'weight': 1}), ('Austria', 'French Southern Territories', {'weight': 1}), ('Austria', 'Greenland', {'weight': 1}), ('Austria', 'Mayotte', {'weight': 1}), ('Austria', 'Netherlands Antilles', {'weight': 1}), ('Austria', 'New Caledonia', {'weight': 1}), ('Austria', 'Pitcairn', {'weight': 1}), ('Austria', 'Saint Helena', {'weight': 1}), ('Austria', 'Saint Pierre and Miquelon', {'weight': 1}), ('Austria', 'South Georgia and the South Sandwich Islands', {'weight': 1}), ('Austria', 'Turks and Caicos Islands', {'weight': 1}), ('Austria', 'Virgin Islands', {'weight': 1}), ('Austria', 'British', {'weight': 1}), ('Austria', 'Wallis and Futuna Islands', {'weight': 1}), ('Austria', 'Palestine', {'weight': 1}), ('Austria', 'San Marino', {'weight': 1}), ('Austria', 'South Africa', {'weight': 1}), ('Belgium', 'Jordan', {'weight': 1}), ('Belgium', 'Albania', {'weight': 1}), ('Belgium', 'Croatia', {'weight': 1}), ('Belgium', 'Macedonia', {'weight': 1}), ('Belgium', 'Turkey', {'weight': 1}), ('Belgium', 'Bulgaria', {'weight': 14}), ('Belgium', 'Romania', {'weight': 14}), ('Belgium', 'Chile', {'weight': 1}), ('Belgium', 'Estonia', {'weight': 15}), ('Belgium', 'Latvia', {'weight': 15}), ('Belgium', 'Lithuania', {'weight': 15}), ('Belgium', 'Bosnia and Herzegovina', {'weight': 1}), ('Belgium', 'Slovenia', {'weight': 15}), ('Belgium', 'Israel', {'weight': 1}), ('Belgium', 'Iceland', {'weight': 2}), ('Belgium', 'Liechtenstein', {'weight': 2}), ('Belgium', 'Norway', {'weight': 3}), ('Belgium', 'Switzerland', {'weight': 1}), ('Belgium', 'Antigua and Barbuda', {'weight': 1}), ('Belgium', 'Bahamas', {'weight': 1}), ('Belgium', 'Barbados', {'weight': 1}), ('Belgium', 'Belize', {'weight': 1}), ('Belgium', 'Dominica', {'weight': 1}), ('Belgium', 'Grenada', {'weight': 1}), ('Belgium', 'Guyana', {'weight': 1}), ('Belgium', 'Jamaica', {'weight': 1}), ('Belgium', 'Montserrat', {'weight': 1}), ('Belgium', 'Trinidad and Tobago', {'weight': 1}), ('Belgium', 'Saint Lucia', {'weight': 1}), ('Belgium', 'Suriname', {'weight': 1}), ('Belgium', 'Saint Kitts and Nevis', {'weight': 1}), ('Belgium', 'Saint Vincent and the Grenadines', {'weight': 1}), ('Belgium', 'Dominican Republic', {'weight': 1}), ('Belgium', 'Czech Republic', {'weight': 15}), ('Belgium', 'Hungary', {'weight': 15}), ('Belgium', 'Poland', {'weight': 15}), ('Belgium', 'Slovak Republic', {'weight': 15}), ('Belgium', 'Montenegro', {'weight': 1}), ('Belgium', 'Mexico', {'weight': 1}), ('Belgium', 'Denmark', {'weight': 50}), ('Belgium', 'France', {'weight': 49}), ('Belgium', 'Germany', {'weight': 50}), ('Belgium', 'Ireland', {'weight': 49}), ('Belgium', 'Italy', {'weight': 50}), ('Belgium', 'Luxembourg', {'weight': 50}), ('Belgium', 'Netherlands', {'weight': 50}), ('Belgium', 'United Kingdom', {'weight': 51}), ('Belgium', 'Greece', {'weight': 46}), ('Belgium', 'Portugal', {'weight': 45}), ('Belgium', 'Spain', {'weight': 45}), ('Belgium', 'Finland', {'weight': 36}), ('Belgium', 'Sweden', {'weight': 36}), ('Belgium', 'Cyprus', {'weight': 15}), ('Belgium', 'Malta', {'weight': 16}), ('Belgium', 'Andorra', {'weight': 1}), ('Belgium', 'Faroe Islands', {'weight': 1}), ('Belgium', 'Lebanon', {'weight': 2}), ('Belgium', 'Anguilla', {'weight': 1}), ('Belgium', 'Aruba', {'weight': 1}), ('Belgium', 'British Indian Ocean Territory', {'weight': 1}), ('Belgium', 'Cayman Islands', {'weight': 1}), ('Belgium', 'Falkland or Malvinas', {'weight': 1}), ('Belgium', 'French Polynesia', {'weight': 1}), ('Belgium', 'French Southern Territories', {'weight': 1}), ('Belgium', 'Greenland', {'weight': 1}), ('Belgium', 'Mayotte', {'weight': 1}), ('Belgium', 'Netherlands Antilles', {'weight': 1}), ('Belgium', 'New Caledonia', {'weight': 1}), ('Belgium', 'Pitcairn', {'weight': 1}), ('Belgium', 'Saint Helena', {'weight': 1}), ('Belgium', 'Saint Pierre and Miquelon', {'weight': 1}), ('Belgium', 'South Georgia and the South Sandwich Islands', {'weight': 1}), ('Belgium', 'Turks and Caicos Islands', {'weight': 1}), ('Belgium', 'Virgin Islands', {'weight': 1}), ('Belgium', 'British', {'weight': 1}), ('Belgium', 'Wallis and Futuna Islands', {'weight': 1}), ('Belgium', 'Palestine', {'weight': 1}), ('Belgium', 'San Marino', {'weight': 1}), ('Belgium', 'South Africa', {'weight': 1}), ('Belgium', 'Syria', {'weight': 1}), ('Denmark', 'Jordan', {'weight': 1}), ('Denmark', 'Albania', {'weight': 1}), ('Denmark', 'Croatia', {'weight': 1}), ('Denmark', 'Macedonia', {'weight': 1}), ('Denmark', 'Turkey', {'weight': 1}), ('Denmark', 'Bulgaria', {'weight': 14}), ('Denmark', 'Romania', {'weight': 14}), ('Denmark', 'Chile', {'weight': 1}), ('Denmark', 'Estonia', {'weight': 16}), ('Denmark', 'Latvia', {'weight': 15}), ('Denmark', 'Lithuania', {'weight': 15}), ('Denmark', 'Bosnia and Herzegovina', {'weight': 1}), ('Denmark', 'Slovenia', {'weight': 15}), ('Denmark', 'Israel', {'weight': 1}), ('Denmark', 'Iceland', {'weight': 3}), ('Denmark', 'Liechtenstein', {'weight': 2}), ('Denmark', 'Norway', {'weight': 4}), ('Denmark', 'Switzerland', {'weight': 2}), ('Denmark', 'Antigua and Barbuda', {'weight': 1}), ('Denmark', 'Bahamas', {'weight': 1}), ('Denmark', 'Barbados', {'weight': 1}), ('Denmark', 'Belize', {'weight': 1}), ('Denmark', 'Dominica', {'weight': 1}), ('Denmark', 'Grenada', {'weight': 1}), ('Denmark', 'Guyana', {'weight': 1}), ('Denmark', 'Jamaica', {'weight': 1}), ('Denmark', 'Montserrat', {'weight': 1}), ('Denmark', 'Trinidad and Tobago', {'weight': 1}), ('Denmark', 'Saint Lucia', {'weight': 1}), ('Denmark', 'Suriname', {'weight': 1}), ('Denmark', 'Saint Kitts and Nevis', {'weight': 1}), ('Denmark', 'Saint Vincent and the Grenadines', {'weight': 1}), ('Denmark', 'Dominican Republic', {'weight': 1}), ('Denmark', 'Czech Republic', {'weight': 15}), ('Denmark', 'Hungary', {'weight': 15}), ('Denmark', 'Poland', {'weight': 16}), ('Denmark', 'Slovak Republic', {'weight': 15}), ('Denmark', 'Montenegro', {'weight': 1}), ('Denmark', 'Mexico', {'weight': 1}), ('Denmark', 'France', {'weight': 49}), ('Denmark', 'Germany', {'weight': 50}), ('Denmark', 'Ireland', {'weight': 49}), ('Denmark', 'Italy', {'weight': 50}), ('Denmark', 'Luxembourg', {'weight': 50}), ('Denmark', 'Netherlands', {'weight': 50}), ('Denmark', 'United Kingdom', {'weight': 52}), ('Denmark', 'Greece', {'weight': 46}), ('Denmark', 'Portugal', {'weight': 46}), ('Denmark', 'Spain', {'weight': 45}), ('Denmark', 'Finland', {'weight': 36}), ('Denmark', 'Sweden', {'weight': 37}), ('Denmark', 'Cyprus', {'weight': 15}), ('Denmark', 'Malta', {'weight': 16}), ('Denmark', 'Andorra', {'weight': 1}), ('Denmark', 'Faroe Islands', {'weight': 4}), ('Denmark', 'Lebanon', {'weight': 2}), ('Denmark', 'Anguilla', {'weight': 1}), ('Denmark', 'Aruba', {'weight': 1}), ('Denmark', 'British Indian Ocean Territory', {'weight': 1}), ('Denmark', 'Cayman Islands', {'weight': 1}), ('Denmark', 'Falkland or Malvinas', {'weight': 1}), ('Denmark', 'French Polynesia', {'weight': 1}), ('Denmark', 'French Southern Territories', {'weight': 1}), ('Denmark', 'Greenland', {'weight': 1}), ('Denmark', 'Mayotte', {'weight': 1}), ('Denmark', 'Netherlands Antilles', {'weight': 1}), ('Denmark', 'New Caledonia', {'weight': 1}), ('Denmark', 'Pitcairn', {'weight': 1}), ('Denmark', 'Saint Helena', {'weight': 1}), ('Denmark', 'Saint Pierre and Miquelon', {'weight': 1}), ('Denmark', 'South Georgia and the South Sandwich Islands', {'weight': 1}), ('Denmark', 'Turks and Caicos Islands', {'weight': 1}), ('Denmark', 'Virgin Islands', {'weight': 1}), ('Denmark', 'British', {'weight': 1}), ('Denmark', 'Wallis and Futuna Islands', {'weight': 1}), ('Denmark', 'Palestine', {'weight': 1}), ('Denmark', 'San Marino', {'weight': 1}), ('Denmark', 'South Africa', {'weight': 1}), ('Denmark', 'Syria', {'weight': 1}), ('Finland', 'Jordan', {'weight': 1}), ('Finland', 'Albania', {'weight': 1}), ('Finland', 'Croatia', {'weight': 1}), ('Finland', 'Macedonia', {'weight': 1}), ('Finland', 'Turkey', {'weight': 1}), ('Finland', 'Bulgaria', {'weight': 13}), ('Finland', 'Romania', {'weight': 13}), ('Finland', 'Chile', {'weight': 1}), ('Finland', 'Estonia', {'weight': 14}), ('Finland', 'Latvia', {'weight': 15}), ('Finland', 'Lithuania', {'weight': 15}), ('Finland', 'Bosnia and Herzegovina', {'weight': 1}), ('Finland', 'Slovenia', {'weight': 15}), ('Finland', 'Israel', {'weight': 1}), ('Finland', 'Iceland', {'weight': 1}), ('Finland', 'Liechtenstein', {'weight': 2}), ('Finland', 'Norway', {'weight': 3}), ('Finland', 'Switzerland', {'weight': 1}), ('Finland', 'Antigua and Barbuda', {'weight': 1}), ('Finland', 'Bahamas', {'weight': 1}), ('Finland', 'Barbados', {'weight': 1}), ('Finland', 'Belize', {'weight': 1}), ('Finland', 'Dominica', {'weight': 1}), ('Finland', 'Grenada', {'weight': 1}), ('Finland', 'Guyana', {'weight': 1}), ('Finland', 'Jamaica', {'weight': 1}), ('Finland', 'Montserrat', {'weight': 1}), ('Finland', 'Trinidad and Tobago', {'weight': 1}), ('Finland', 'Saint Lucia', {'weight': 1}), ('Finland', 'Suriname', {'weight': 1}), ('Finland', 'Saint Kitts and Nevis', {'weight': 1}), ('Finland', 'Saint Vincent and the Grenadines', {'weight': 1}), ('Finland', 'Dominican Republic', {'weight': 1}), ('Finland', 'Czech Republic', {'weight': 15}), ('Finland', 'Hungary', {'weight': 14}), ('Finland', 'Poland', {'weight': 14}), ('Finland', 'Slovak Republic', {'weight': 14}), ('Finland', 'Montenegro', {'weight': 1}), ('Finland', 'Mexico', {'weight': 1}), ('Finland', 'France', {'weight': 35}), ('Finland', 'Germany', {'weight': 36}), ('Finland', 'Ireland', {'weight': 36}), ('Finland', 'Italy', {'weight': 36}), ('Finland', 'Luxembourg', {'weight': 36}), ('Finland', 'Netherlands', {'weight': 36}), ('Finland', 'United Kingdom', {'weight': 37}), ('Finland', 'Greece', {'weight': 36}), ('Finland', 'Portugal', {'weight': 36}), ('Finland', 'Spain', {'weight': 36}), ('Finland', 'Sweden', {'weight': 36}), ('Finland', 'Cyprus', {'weight': 14}), ('Finland', 'Malta', {'weight': 16}), ('Finland', 'Andorra', {'weight': 1}), ('Finland', 'Faroe Islands', {'weight': 1}), ('Finland', 'Lebanon', {'weight': 1}), ('Finland', 'Anguilla', {'weight': 1}), ('Finland', 'Aruba', {'weight': 1}), ('Finland', 'British Indian Ocean Territory', {'weight': 1}), ('Finland', 'Cayman Islands', {'weight': 1}), ('Finland', 'Falkland or Malvinas', {'weight': 1}), ('Finland', 'French Polynesia', {'weight': 1}), ('Finland', 'French Southern Territories', {'weight': 1}), ('Finland', 'Greenland', {'weight': 1}), ('Finland', 'Mayotte', {'weight': 1}), ('Finland', 'Netherlands Antilles', {'weight': 1}), ('Finland', 'New Caledonia', {'weight': 1}), ('Finland', 'Pitcairn', {'weight': 1}), ('Finland', 'Saint Helena', {'weight': 1}), ('Finland', 'Saint Pierre and Miquelon', {'weight': 1}), ('Finland', 'South Georgia and the South Sandwich Islands', {'weight': 1}), ('Finland', 'Turks and Caicos Islands', {'weight': 1}), ('Finland', 'Virgin Islands', {'weight': 1}), ('Finland', 'British', {'weight': 1}), ('Finland', 'Wallis and Futuna Islands', {'weight': 1}), ('Finland', 'Palestine', {'weight': 1}), ('Finland', 'San Marino', {'weight': 1}), ('Finland', 'South Africa', {'weight': 1}), ('France', 'Albania', {'weight': 1}), ('France', 'Croatia', {'weight': 1}), ('France', 'Macedonia', {'weight': 1}), ('France', 'Turkey', {'weight': 1}), ('France', 'Bulgaria', {'weight': 14}), ('France', 'Romania', {'weight': 14}), ('France', 'Chile', {'weight': 1}), ('France', 'Estonia', {'weight': 15}), ('France', 'Latvia', {'weight': 15}), ('France', 'Lithuania', {'weight': 15}), ('France', 'Bosnia and Herzegovina', {'weight': 1}), ('France', 'Slovenia', {'weight': 15}), ('France', 'Israel', {'weight': 1}), ('France', 'Iceland', {'weight': 2}), ('France', 'Liechtenstein', {'weight': 2}), ('France', 'Norway', {'weight': 3}), ('France', 'Switzerland', {'weight': 1}), ('France', 'Antigua and Barbuda', {'weight': 1}), ('France', 'Bahamas', {'weight': 1}), ('France', 'Barbados', {'weight': 1}), ('France', 'Belize', {'weight': 1}), ('France', 'Dominica', {'weight': 1}), ('France', 'Grenada', {'weight': 1}), ('France', 'Guyana', {'weight': 1}), ('France', 'Jamaica', {'weight': 1}), ('France', 'Montserrat', {'weight': 1}), ('France', 'Trinidad and Tobago', {'weight': 1}), ('France', 'Saint Lucia', {'weight': 1}), ('France', 'Suriname', {'weight': 1}), ('France', 'Saint Kitts and Nevis', {'weight': 1}), ('France', 'Saint Vincent and the Grenadines', {'weight': 1}), ('France', 'Dominican Republic', {'weight': 1}), ('France', 'Czech Republic', {'weight': 15}), ('France', 'Hungary', {'weight': 15}), ('France', 'Poland', {'weight': 15}), ('France', 'Slovak Republic', {'weight': 15}), ('France', 'Montenegro', {'weight': 1}), ('France', 'Mexico', {'weight': 1}), ('France', 'Germany', {'weight': 49}), ('France', 'Ireland', {'weight': 48}), ('France', 'Italy', {'weight': 49}), ('France', 'Luxembourg', {'weight': 49}), ('France', 'Netherlands', {'weight': 49}), ('France', 'United Kingdom', {'weight': 50}), ('France', 'Greece', {'weight': 45}), ('France', 'Portugal', {'weight': 44}), ('France', 'Spain', {'weight': 44}), ('France', 'Sweden', {'weight': 35}), ('France', 'Cyprus', {'weight': 15}), ('France', 'Malta', {'weight': 16}), ('France', 'Andorra', {'weight': 1}), ('France', 'Faroe Islands', {'weight': 1}), ('France', 'Lebanon', {'weight': 2}), ('France', 'Anguilla', {'weight': 1}), ('France', 'Aruba', {'weight': 1}), ('France', 'British Indian Ocean Territory', {'weight': 1}), ('France', 'Cayman Islands', {'weight': 1}), ('France', 'Falkland or Malvinas', {'weight': 1}), ('France', 'French Polynesia', {'weight': 1}), ('France', 'French Southern Territories', {'weight': 1}), ('France', 'Greenland', {'weight': 1}), ('France', 'Mayotte', {'weight': 1}), ('France', 'Netherlands Antilles', {'weight': 1}), ('France', 'New Caledonia', {'weight': 1}), ('France', 'Pitcairn', {'weight': 1}), ('France', 'Saint Helena', {'weight': 1}), ('France', 'Saint Pierre and Miquelon', {'weight': 1}), ('France', 'South Georgia and the South Sandwich Islands', {'weight': 1}), ('France', 'Turks and Caicos Islands', {'weight': 1}), ('France', 'Virgin Islands', {'weight': 1}), ('France', 'British', {'weight': 1}), ('France', 'Wallis and Futuna Islands', {'weight': 1}), ('France', 'Palestine', {'weight': 1}), ('France', 'San Marino', {'weight': 1}), ('France', 'South Africa', {'weight': 1}), ('France', 'Syria', {'weight': 1}), ('Germany', 'Jordan', {'weight': 1}), ('Germany', 'Albania', {'weight': 1}), ('Germany', 'Croatia', {'weight': 1}), ('Germany', 'Macedonia', {'weight': 1}), ('Germany', 'Turkey', {'weight': 1}), ('Germany', 'Bulgaria', {'weight': 14}), ('Germany', 'Romania', {'weight': 14}), ('Germany', 'Chile', {'weight': 1}), ('Germany', 'Estonia', {'weight': 15}), ('Germany', 'Latvia', {'weight': 15}), ('Germany', 'Lithuania', {'weight': 15}), ('Germany', 'Bosnia and Herzegovina', {'weight': 1}), ('Germany', 'Slovenia', {'weight': 15}), ('Germany', 'Israel', {'weight': 1}), ('Germany', 'Iceland', {'weight': 2}), ('Germany', 'Liechtenstein', {'weight': 2}), ('Germany', 'Norway', {'weight': 3}), ('Germany', 'Switzerland', {'weight': 1}), ('Germany', 'Antigua and Barbuda', {'weight': 1}), ('Germany', 'Bahamas', {'weight': 1}), ('Germany', 'Barbados', {'weight': 1}), ('Germany', 'Belize', {'weight': 1}), ('Germany', 'Dominica', {'weight': 1}), ('Germany', 'Grenada', {'weight': 1}), ('Germany', 'Guyana', {'weight': 1}), ('Germany', 'Jamaica', {'weight': 1}), ('Germany', 'Montserrat', {'weight': 1}), ('Germany', 'Trinidad and Tobago', {'weight': 1}), ('Germany', 'Saint Lucia', {'weight': 1}), ('Germany', 'Suriname', {'weight': 1}), ('Germany', 'Saint Kitts and Nevis', {'weight': 1}), ('Germany', 'Saint Vincent and the Grenadines', {'weight': 1}), ('Germany', 'Dominican Republic', {'weight': 1}), ('Germany', 'Czech Republic', {'weight': 15}), ('Germany', 'Hungary', {'weight': 15}), ('Germany', 'Poland', {'weight': 15}), ('Germany', 'Slovak Republic', {'weight': 15}), ('Germany', 'Montenegro', {'weight': 1}), ('Germany', 'Mexico', {'weight': 1}), ('Germany', 'Ireland', {'weight': 49}), ('Germany', 'Italy', {'weight': 50}), ('Germany', 'Luxembourg', {'weight': 50}), ('Germany', 'Netherlands', {'weight': 50}), ('Germany', 'United Kingdom', {'weight': 51}), ('Germany', 'Greece', {'weight': 46}), ('Germany', 'Portugal', {'weight': 45}), ('Germany', 'Spain', {'weight': 45}), ('Germany', 'Sweden', {'weight': 36}), ('Germany', 'Cyprus', {'weight': 15}), ('Germany', 'Malta', {'weight': 16}), ('Germany', 'Andorra', {'weight': 1}), ('Germany', 'Faroe Islands', {'weight': 1}), ('Germany', 'Lebanon', {'weight': 2}), ('Germany', 'Anguilla', {'weight': 1}), ('Germany', 'Aruba', {'weight': 1}), ('Germany', 'British Indian Ocean Territory', {'weight': 1}), ('Germany', 'Cayman Islands', {'weight': 1}), ('Germany', 'Falkland or Malvinas', {'weight': 1}), ('Germany', 'French Polynesia', {'weight': 1}), ('Germany', 'French Southern Territories', {'weight': 1}), ('Germany', 'Greenland', {'weight': 1}), ('Germany', 'Mayotte', {'weight': 1}), ('Germany', 'Netherlands Antilles', {'weight': 1}), ('Germany', 'New Caledonia', {'weight': 1}), ('Germany', 'Pitcairn', {'weight': 1}), ('Germany', 'Saint Helena', {'weight': 1}), ('Germany', 'Saint Pierre and Miquelon', {'weight': 1}), ('Germany', 'South Georgia and the South Sandwich Islands', {'weight': 1}), ('Germany', 'Turks and Caicos Islands', {'weight': 1}), ('Germany', 'Virgin Islands', {'weight': 1}), ('Germany', 'British', {'weight': 1}), ('Germany', 'Wallis and Futuna Islands', {'weight': 1}), ('Germany', 'Palestine', {'weight': 1}), ('Germany', 'San Marino', {'weight': 1}), ('Germany', 'South Africa', {'weight': 1}), ('Germany', 'Syria', {'weight': 1}), ('Greece', 'Jordan', {'weight': 1}), ('Greece', 'Albania', {'weight': 1}), ('Greece', 'Croatia', {'weight': 1}), ('Greece', 'Macedonia', {'weight': 1}), ('Greece', 'Turkey', {'weight': 1}), ('Greece', 'Bulgaria', {'weight': 14}), ('Greece', 'Romania', {'weight': 14}), ('Greece', 'Chile', {'weight': 1}), ('Greece', 'Estonia', {'weight': 15}), ('Greece', 'Latvia', {'weight': 15}), ('Greece', 'Lithuania', {'weight': 15}), ('Greece', 'Bosnia and Herzegovina', {'weight': 1}), ('Greece', 'Slovenia', {'weight': 15}), ('Greece', 'Israel', {'weight': 1}), ('Greece', 'Iceland', {'weight': 2}), ('Greece', 'Liechtenstein', {'weight': 2}), ('Greece', 'Norway', {'weight': 3}), ('Greece', 'Switzerland', {'weight': 1}), ('Greece', 'Antigua and Barbuda', {'weight': 1}), ('Greece', 'Bahamas', {'weight': 1}), ('Greece', 'Barbados', {'weight': 1}), ('Greece', 'Belize', {'weight': 1}), ('Greece', 'Dominica', {'weight': 1}), ('Greece', 'Grenada', {'weight': 1}), ('Greece', 'Guyana', {'weight': 1}), ('Greece', 'Jamaica', {'weight': 1}), ('Greece', 'Montserrat', {'weight': 1}), ('Greece', 'Trinidad and Tobago', {'weight': 1}), ('Greece', 'Saint Lucia', {'weight': 1}), ('Greece', 'Suriname', {'weight': 1}), ('Greece', 'Saint Kitts and Nevis', {'weight': 1}), ('Greece', 'Saint Vincent and the Grenadines', {'weight': 1}), ('Greece', 'Dominican Republic', {'weight': 1}), ('Greece', 'Czech Republic', {'weight': 15}), ('Greece', 'Hungary', {'weight': 15}), ('Greece', 'Poland', {'weight': 15}), ('Greece', 'Slovak Republic', {'weight': 15}), ('Greece', 'Montenegro', {'weight': 1}), ('Greece', 'Mexico', {'weight': 1}), ('Greece', 'Ireland', {'weight': 45}), ('Greece', 'Italy', {'weight': 46}), ('Greece', 'Luxembourg', {'weight': 46}), ('Greece', 'Netherlands', {'weight': 46}), ('Greece', 'United Kingdom', {'weight': 47}), ('Greece', 'Portugal', {'weight': 45}), ('Greece', 'Spain', {'weight': 45}), ('Greece', 'Sweden', {'weight': 36}), ('Greece', 'Cyprus', {'weight': 15}), ('Greece', 'Malta', {'weight': 16}), ('Greece', 'Andorra', {'weight': 1}), ('Greece', 'Faroe Islands', {'weight': 1}), ('Greece', 'Lebanon', {'weight': 1}), ('Greece', 'Anguilla', {'weight': 1}), ('Greece', 'Aruba', {'weight': 1}), ('Greece', 'British Indian Ocean Territory', {'weight': 1}), ('Greece', 'Cayman Islands', {'weight': 1}), ('Greece', 'Falkland or Malvinas', {'weight': 1}), ('Greece', 'French Polynesia', {'weight': 1}), ('Greece', 'French Southern Territories', {'weight': 1}), ('Greece', 'Greenland', {'weight': 1}), ('Greece', 'Mayotte', {'weight': 1}), ('Greece', 'Netherlands Antilles', {'weight': 1}), ('Greece', 'New Caledonia', {'weight': 1}), ('Greece', 'Pitcairn', {'weight': 1}), ('Greece', 'Saint Helena', {'weight': 1}), ('Greece', 'Saint Pierre and Miquelon', {'weight': 1}), ('Greece', 'South Georgia and the South Sandwich Islands', {'weight': 1}), ('Greece', 'Turks and Caicos Islands', {'weight': 1}), ('Greece', 'Virgin Islands', {'weight': 1}), ('Greece', 'British', {'weight': 1}), ('Greece', 'Wallis and Futuna Islands', {'weight': 1}), ('Greece', 'Palestine', {'weight': 1}), ('Greece', 'San Marino', {'weight': 1}), ('Greece', 'South Africa', {'weight': 1}), ('Ireland', 'Jordan', {'weight': 1}), ('Ireland', 'Albania', {'weight': 1}), ('Ireland', 'Croatia', {'weight': 1}), ('Ireland', 'Macedonia', {'weight': 1}), ('Ireland', 'Turkey', {'weight': 1}), ('Ireland', 'Bulgaria', {'weight': 14}), ('Ireland', 'Romania', {'weight': 14}), ('Ireland', 'Chile', {'weight': 1}), ('Ireland', 'Estonia', {'weight': 15}), ('Ireland', 'Latvia', {'weight': 15}), ('Ireland', 'Lithuania', {'weight': 15}), ('Ireland', 'Bosnia and Herzegovina', {'weight': 1}), ('Ireland', 'Slovenia', {'weight': 15}), ('Ireland', 'Israel', {'weight': 1}), ('Ireland', 'Iceland', {'weight': 2}), ('Ireland', 'Liechtenstein', {'weight': 2}), ('Ireland', 'Norway', {'weight': 3}), ('Ireland', 'Switzerland', {'weight': 1}), ('Ireland', 'Antigua and Barbuda', {'weight': 1}), ('Ireland', 'Bahamas', {'weight': 1}), ('Ireland', 'Barbados', {'weight': 1}), ('Ireland', 'Belize', {'weight': 1}), ('Ireland', 'Dominica', {'weight': 1}), ('Ireland', 'Grenada', {'weight': 1}), ('Ireland', 'Guyana', {'weight': 1}), ('Ireland', 'Jamaica', {'weight': 1}), ('Ireland', 'Montserrat', {'weight': 1}), ('Ireland', 'Trinidad and Tobago', {'weight': 1}), ('Ireland', 'Saint Lucia', {'weight': 1}), ('Ireland', 'Suriname', {'weight': 1}), ('Ireland', 'Saint Kitts and Nevis', {'weight': 1}), ('Ireland', 'Saint Vincent and the Grenadines', {'weight': 1}), ('Ireland', 'Dominican Republic', {'weight': 1}), ('Ireland', 'Czech Republic', {'weight': 15}), ('Ireland', 'Hungary', {'weight': 15}), ('Ireland', 'Poland', {'weight': 15}), ('Ireland', 'Slovak Republic', {'weight': 14}), ('Ireland', 'Montenegro', {'weight': 1}), ('Ireland', 'Mexico', {'weight': 1}), ('Ireland', 'Italy', {'weight': 49}), ('Ireland', 'Luxembourg', {'weight': 49}), ('Ireland', 'Netherlands', {'weight': 49}), ('Ireland', 'United Kingdom', {'weight': 50}), ('Ireland', 'Portugal', {'weight': 44}), ('Ireland', 'Spain', {'weight': 44}), ('Ireland', 'Sweden', {'weight': 36}), ('Ireland', 'Cyprus', {'weight': 15}), ('Ireland', 'Malta', {'weight': 16}), ('Ireland', 'Andorra', {'weight': 1}), ('Ireland', 'Faroe Islands', {'weight': 1}), ('Ireland', 'Lebanon', {'weight': 2}), ('Ireland', 'Anguilla', {'weight': 1}), ('Ireland', 'Aruba', {'weight': 1}), ('Ireland', 'British Indian Ocean Territory', {'weight': 1}), ('Ireland', 'Cayman Islands', {'weight': 1}), ('Ireland', 'Falkland or Malvinas', {'weight': 1}), ('Ireland', 'French Polynesia', {'weight': 1}), ('Ireland', 'French Southern Territories', {'weight': 1}), ('Ireland', 'Greenland', {'weight': 1}), ('Ireland', 'Mayotte', {'weight': 1}), ('Ireland', 'Netherlands Antilles', {'weight': 1}), ('Ireland', 'New Caledonia', {'weight': 1}), ('Ireland', 'Pitcairn', {'weight': 1}), ('Ireland', 'Saint Helena', {'weight': 1}), ('Ireland', 'Saint Pierre and Miquelon', {'weight': 1}), ('Ireland', 'South Georgia and the South Sandwich Islands', {'weight': 1}), ('Ireland', 'Turks and Caicos Islands', {'weight': 1}), ('Ireland', 'Virgin Islands', {'weight': 1}), ('Ireland', 'British', {'weight': 1}), ('Ireland', 'Wallis and Futuna Islands', {'weight': 1}), ('Ireland', 'Palestine', {'weight': 1}), ('Ireland', 'San Marino', {'weight': 1}), ('Ireland', 'South Africa', {'weight': 1}), ('Ireland', 'Syria', {'weight': 1}), ('Italy', 'Jordan', {'weight': 1}), ('Italy', 'Albania', {'weight': 1}), ('Italy', 'Croatia', {'weight': 1}), ('Italy', 'Macedonia', {'weight': 1}), ('Italy', 'Turkey', {'weight': 1}), ('Italy', 'Bulgaria', {'weight': 14}), ('Italy', 'Romania', {'weight': 14}), ('Italy', 'Chile', {'weight': 1}), ('Italy', 'Estonia', {'weight': 15}), ('Italy', 'Latvia', {'weight': 15}), ('Italy', 'Lithuania', {'weight': 15}), ('Italy', 'Bosnia and Herzegovina', {'weight': 1}), ('Italy', 'Slovenia', {'weight': 15}), ('Italy', 'Israel', {'weight': 1}), ('Italy', 'Iceland', {'weight': 2}), ('Italy', 'Liechtenstein', {'weight': 2}), ('Italy', 'Norway', {'weight': 3}), ('Italy', 'Switzerland', {'weight': 1}), ('Italy', 'Antigua and Barbuda', {'weight': 1}), ('Italy', 'Bahamas', {'weight': 1}), ('Italy', 'Barbados', {'weight': 1}), ('Italy', 'Belize', {'weight': 1}), ('Italy', 'Dominica', {'weight': 1}), ('Italy', 'Grenada', {'weight': 1}), ('Italy', 'Guyana', {'weight': 1}), ('Italy', 'Jamaica', {'weight': 1}), ('Italy', 'Montserrat', {'weight': 1}), ('Italy', 'Trinidad and Tobago', {'weight': 1}), ('Italy', 'Saint Lucia', {'weight': 1}), ('Italy', 'Suriname', {'weight': 1}), ('Italy', 'Saint Kitts and Nevis', {'weight': 1}), ('Italy', 'Saint Vincent and the Grenadines', {'weight': 1}), ('Italy', 'Dominican Republic', {'weight': 1}), ('Italy', 'Czech Republic', {'weight': 15}), ('Italy', 'Hungary', {'weight': 15}), ('Italy', 'Poland', {'weight': 15}), ('Italy', 'Slovak Republic', {'weight': 15}), ('Italy', 'Montenegro', {'weight': 1}), ('Italy', 'Mexico', {'weight': 1}), ('Italy', 'Luxembourg', {'weight': 50}), ('Italy', 'Netherlands', {'weight': 50}), ('Italy', 'United Kingdom', {'weight': 51}), ('Italy', 'Portugal', {'weight': 45}), ('Italy', 'Spain', {'weight': 45}), ('Italy', 'Sweden', {'weight': 36}), ('Italy', 'Cyprus', {'weight': 15}), ('Italy', 'Malta', {'weight': 16}), ('Italy', 'Andorra', {'weight': 1}), ('Italy', 'Faroe Islands', {'weight': 1}), ('Italy', 'Lebanon', {'weight': 2}), ('Italy', 'Anguilla', {'weight': 1}), ('Italy', 'Aruba', {'weight': 1}), ('Italy', 'British Indian Ocean Territory', {'weight': 1}), ('Italy', 'Cayman Islands', {'weight': 1}), ('Italy', 'Falkland or Malvinas', {'weight': 1}), ('Italy', 'French Polynesia', {'weight': 1}), ('Italy', 'French Southern Territories', {'weight': 1}), ('Italy', 'Greenland', {'weight': 1}), ('Italy', 'Mayotte', {'weight': 1}), ('Italy', 'Netherlands Antilles', {'weight': 1}), ('Italy', 'New Caledonia', {'weight': 1}), ('Italy', 'Pitcairn', {'weight': 1}), ('Italy', 'Saint Helena', {'weight': 1}), ('Italy', 'Saint Pierre and Miquelon', {'weight': 1}), ('Italy', 'South Georgia and the South Sandwich Islands', {'weight': 1}), ('Italy', 'Turks and Caicos Islands', {'weight': 1}), ('Italy', 'Virgin Islands', {'weight': 1}), ('Italy', 'British', {'weight': 1}), ('Italy', 'Wallis and Futuna Islands', {'weight': 1}), ('Italy', 'Palestine', {'weight': 1}), ('Italy', 'San Marino', {'weight': 1}), ('Italy', 'South Africa', {'weight': 1}), ('Italy', 'Syria', {'weight': 1}), ('Luxembourg', 'Jordan', {'weight': 1}), ('Luxembourg', 'Albania', {'weight': 1}), ('Luxembourg', 'Croatia', {'weight': 1}), ('Luxembourg', 'Macedonia', {'weight': 1}), ('Luxembourg', 'Turkey', {'weight': 1}), ('Luxembourg', 'Bulgaria', {'weight': 14}), ('Luxembourg', 'Romania', {'weight': 14}), ('Luxembourg', 'Chile', {'weight': 1}), ('Luxembourg', 'Estonia', {'weight': 15}), ('Luxembourg', 'Latvia', {'weight': 15}), ('Luxembourg', 'Lithuania', {'weight': 15}), ('Luxembourg', 'Bosnia and Herzegovina', {'weight': 1}), ('Luxembourg', 'Slovenia', {'weight': 15}), ('Luxembourg', 'Israel', {'weight': 1}), ('Luxembourg', 'Iceland', {'weight': 2}), ('Luxembourg', 'Liechtenstein', {'weight': 2}), ('Luxembourg', 'Norway', {'weight': 3}), ('Luxembourg', 'Switzerland', {'weight': 1}), ('Luxembourg', 'Antigua and Barbuda', {'weight': 1}), ('Luxembourg', 'Bahamas', {'weight': 1}), ('Luxembourg', 'Barbados', {'weight': 1}), ('Luxembourg', 'Belize', {'weight': 1}), ('Luxembourg', 'Dominica', {'weight': 1}), ('Luxembourg', 'Grenada', {'weight': 1}), ('Luxembourg', 'Guyana', {'weight': 1}), ('Luxembourg', 'Jamaica', {'weight': 1}), ('Luxembourg', 'Montserrat', {'weight': 1}), ('Luxembourg', 'Trinidad and Tobago', {'weight': 1}), ('Luxembourg', 'Saint Lucia', {'weight': 1}), ('Luxembourg', 'Suriname', {'weight': 1}), ('Luxembourg', 'Saint Kitts and Nevis', {'weight': 1}), ('Luxembourg', 'Saint Vincent and the Grenadines', {'weight': 1}), ('Luxembourg', 'Dominican Republic', {'weight': 1}), ('Luxembourg', 'Czech Republic', {'weight': 15}), ('Luxembourg', 'Hungary', {'weight': 15}), ('Luxembourg', 'Poland', {'weight': 15}), ('Luxembourg', 'Slovak Republic', {'weight': 15}), ('Luxembourg', 'Montenegro', {'weight': 1}), ('Luxembourg', 'Mexico', {'weight': 1}), ('Luxembourg', 'Netherlands', {'weight': 50}), ('Luxembourg', 'United Kingdom', {'weight': 51}), ('Luxembourg', 'Portugal', {'weight': 45}), ('Luxembourg', 'Spain', {'weight': 45}), ('Luxembourg', 'Sweden', {'weight': 36}), ('Luxembourg', 'Cyprus', {'weight': 15}), ('Luxembourg', 'Malta', {'weight': 16}), ('Luxembourg', 'Andorra', {'weight': 1}), ('Luxembourg', 'Faroe Islands', {'weight': 1}), ('Luxembourg', 'Lebanon', {'weight': 2}), ('Luxembourg', 'Anguilla', {'weight': 1}), ('Luxembourg', 'Aruba', {'weight': 1}), ('Luxembourg', 'British Indian Ocean Territory', {'weight': 1}), ('Luxembourg', 'Cayman Islands', {'weight': 1}), ('Luxembourg', 'Falkland or Malvinas', {'weight': 1}), ('Luxembourg', 'French Polynesia', {'weight': 1}), ('Luxembourg', 'French Southern Territories', {'weight': 1}), ('Luxembourg', 'Greenland', {'weight': 1}), ('Luxembourg', 'Mayotte', {'weight': 1}), ('Luxembourg', 'Netherlands Antilles', {'weight': 1}), ('Luxembourg', 'New Caledonia', {'weight': 1}), ('Luxembourg', 'Pitcairn', {'weight': 1}), ('Luxembourg', 'Saint Helena', {'weight': 1}), ('Luxembourg', 'Saint Pierre and Miquelon', {'weight': 1}), ('Luxembourg', 'South Georgia and the South Sandwich Islands', {'weight': 1}), ('Luxembourg', 'Turks and Caicos Islands', {'weight': 1}), ('Luxembourg', 'Virgin Islands', {'weight': 1}), ('Luxembourg', 'British', {'weight': 1}), ('Luxembourg', 'Wallis and Futuna Islands', {'weight': 1}), ('Luxembourg', 'Palestine', {'weight': 1}), ('Luxembourg', 'San Marino', {'weight': 1}), ('Luxembourg', 'South Africa', {'weight': 1}), ('Luxembourg', 'Syria', {'weight': 1}), ('Netherlands', 'Jordan', {'weight': 1}), ('Netherlands', 'Albania', {'weight': 1}), ('Netherlands', 'Croatia', {'weight': 1}), ('Netherlands', 'Macedonia', {'weight': 1}), ('Netherlands', 'Turkey', {'weight': 1}), ('Netherlands', 'Bulgaria', {'weight': 14}), ('Netherlands', 'Romania', {'weight': 14}), ('Netherlands', 'Chile', {'weight': 1}), ('Netherlands', 'Estonia', {'weight': 15}), ('Netherlands', 'Latvia', {'weight': 15}), ('Netherlands', 'Lithuania', {'weight': 15}), ('Netherlands', 'Bosnia and Herzegovina', {'weight': 1}), ('Netherlands', 'Slovenia', {'weight': 15}), ('Netherlands', 'Israel', {'weight': 1}), ('Netherlands', 'Iceland', {'weight': 2}), ('Netherlands', 'Liechtenstein', {'weight': 2}), ('Netherlands', 'Norway', {'weight': 3}), ('Netherlands', 'Switzerland', {'weight': 1}), ('Netherlands', 'Antigua and Barbuda', {'weight': 1}), ('Netherlands', 'Bahamas', {'weight': 1}), ('Netherlands', 'Barbados', {'weight': 1}), ('Netherlands', 'Belize', {'weight': 1}), ('Netherlands', 'Dominica', {'weight': 1}), ('Netherlands', 'Grenada', {'weight': 1}), ('Netherlands', 'Guyana', {'weight': 1}), ('Netherlands', 'Jamaica', {'weight': 1}), ('Netherlands', 'Montserrat', {'weight': 1}), ('Netherlands', 'Trinidad and Tobago', {'weight': 1}), ('Netherlands', 'Saint Lucia', {'weight': 1}), ('Netherlands', 'Suriname', {'weight': 1}), ('Netherlands', 'Saint Kitts and Nevis', {'weight': 1}), ('Netherlands', 'Saint Vincent and the Grenadines', {'weight': 1}), ('Netherlands', 'Dominican Republic', {'weight': 1}), ('Netherlands', 'Czech Republic', {'weight': 15}), ('Netherlands', 'Hungary', {'weight': 15}), ('Netherlands', 'Poland', {'weight': 15}), ('Netherlands', 'Slovak Republic', {'weight': 15}), ('Netherlands', 'Montenegro', {'weight': 1}), ('Netherlands', 'Mexico', {'weight': 1}), ('Netherlands', 'United Kingdom', {'weight': 51}), ('Netherlands', 'Portugal', {'weight': 45}), ('Netherlands', 'Spain', {'weight': 45}), ('Netherlands', 'Sweden', {'weight': 36}), ('Netherlands', 'Cyprus', {'weight': 15}), ('Netherlands', 'Malta', {'weight': 16}), ('Netherlands', 'Andorra', {'weight': 1}), ('Netherlands', 'Faroe Islands', {'weight': 1}), ('Netherlands', 'Lebanon', {'weight': 2}), ('Netherlands', 'Anguilla', {'weight': 1}), ('Netherlands', 'Aruba', {'weight': 1}), ('Netherlands', 'British Indian Ocean Territory', {'weight': 1}), ('Netherlands', 'Cayman Islands', {'weight': 1}), ('Netherlands', 'Falkland or Malvinas', {'weight': 1}), ('Netherlands', 'French Polynesia', {'weight': 1}), ('Netherlands', 'French Southern Territories', {'weight': 1}), ('Netherlands', 'Greenland', {'weight': 1}), ('Netherlands', 'Mayotte', {'weight': 1}), ('Netherlands', 'Netherlands Antilles', {'weight': 1}), ('Netherlands', 'New Caledonia', {'weight': 1}), ('Netherlands', 'Pitcairn', {'weight': 1}), ('Netherlands', 'Saint Helena', {'weight': 1}), ('Netherlands', 'Saint Pierre and Miquelon', {'weight': 1}), ('Netherlands', 'South Georgia and the South Sandwich Islands', {'weight': 1}), ('Netherlands', 'Turks and Caicos Islands', {'weight': 1}), ('Netherlands', 'Virgin Islands', {'weight': 1}), ('Netherlands', 'British', {'weight': 1}), ('Netherlands', 'Wallis and Futuna Islands', {'weight': 1}), ('Netherlands', 'Palestine', {'weight': 1}), ('Netherlands', 'San Marino', {'weight': 1}), ('Netherlands', 'South Africa', {'weight': 1}), ('Netherlands', 'Syria', {'weight': 1}), ('Portugal', 'Jordan', {'weight': 1}), ('Portugal', 'Albania', {'weight': 1}), ('Portugal', 'Croatia', {'weight': 1}), ('Portugal', 'Macedonia', {'weight': 1}), ('Portugal', 'Turkey', {'weight': 1}), ('Portugal', 'Bulgaria', {'weight': 14}), ('Portugal', 'Romania', {'weight': 14}), ('Portugal', 'Chile', {'weight': 1}), ('Portugal', 'Estonia', {'weight': 15}), ('Portugal', 'Latvia', {'weight': 15}), ('Portugal', 'Lithuania', {'weight': 15}), ('Portugal', 'Bosnia and Herzegovina', {'weight': 1}), ('Portugal', 'Slovenia', {'weight': 15}), ('Portugal', 'Israel', {'weight': 1}), ('Portugal', 'Iceland', {'weight': 2}), ('Portugal', 'Liechtenstein', {'weight': 2}), ('Portugal', 'Norway', {'weight': 4}), ('Portugal', 'Switzerland', {'weight': 2}), ('Portugal', 'Antigua and Barbuda', {'weight': 1}), ('Portugal', 'Bahamas', {'weight': 1}), ('Portugal', 'Barbados', {'weight': 1}), ('Portugal', 'Belize', {'weight': 1}), ('Portugal', 'Dominica', {'weight': 1}), ('Portugal', 'Grenada', {'weight': 1}), ('Portugal', 'Guyana', {'weight': 1}), ('Portugal', 'Jamaica', {'weight': 1}), ('Portugal', 'Montserrat', {'weight': 1}), ('Portugal', 'Trinidad and Tobago', {'weight': 1}), ('Portugal', 'Saint Lucia', {'weight': 1}), ('Portugal', 'Suriname', {'weight': 1}), ('Portugal', 'Saint Kitts and Nevis', {'weight': 1}), ('Portugal', 'Saint Vincent and the Grenadines', {'weight': 1}), ('Portugal', 'Dominican Republic', {'weight': 1}), ('Portugal', 'Czech Republic', {'weight': 15}), ('Portugal', 'Hungary', {'weight': 15}), ('Portugal', 'Poland', {'weight': 15}), ('Portugal', 'Slovak Republic', {'weight': 15}), ('Portugal', 'Montenegro', {'weight': 1}), ('Portugal', 'Mexico', {'weight': 1}), ('Portugal', 'United Kingdom', {'weight': 47}), ('Portugal', 'Spain', {'weight': 45}), ('Portugal', 'Sweden', {'weight': 37}), ('Portugal', 'Cyprus', {'weight': 15}), ('Portugal', 'Malta', {'weight': 16}), ('Portugal', 'Andorra', {'weight': 1}), ('Portugal', 'Faroe Islands', {'weight': 1}), ('Portugal', 'Lebanon', {'weight': 1}), ('Portugal', 'Anguilla', {'weight': 1}), ('Portugal', 'Aruba', {'weight': 1}), ('Portugal', 'British Indian Ocean Territory', {'weight': 1}), ('Portugal', 'Cayman Islands', {'weight': 1}), ('Portugal', 'Falkland or Malvinas', {'weight': 1}), ('Portugal', 'French Polynesia', {'weight': 1}), ('Portugal', 'French Southern Territories', {'weight': 1}), ('Portugal', 'Greenland', {'weight': 1}), ('Portugal', 'Mayotte', {'weight': 1}), ('Portugal', 'Netherlands Antilles', {'weight': 1}), ('Portugal', 'New Caledonia', {'weight': 1}), ('Portugal', 'Pitcairn', {'weight': 1}), ('Portugal', 'Saint Helena', {'weight': 1}), ('Portugal', 'Saint Pierre and Miquelon', {'weight': 1}), ('Portugal', 'South Georgia and the South Sandwich Islands', {'weight': 1}), ('Portugal', 'Turks and Caicos Islands', {'weight': 1}), ('Portugal', 'Virgin Islands', {'weight': 1}), ('Portugal', 'British', {'weight': 1}), ('Portugal', 'Wallis and Futuna Islands', {'weight': 1}), ('Portugal', 'Palestine', {'weight': 1}), ('Portugal', 'San Marino', {'weight': 1}), ('Portugal', 'South Africa', {'weight': 1}), ('Spain', 'India', {'weight': 1}), ('Spain', 'Jordan', {'weight': 1}), ('Spain', 'Albania', {'weight': 1}), ('Spain', 'Croatia', {'weight': 1}), ('Spain', 'Macedonia', {'weight': 1}), ('Spain', 'Turkey', {'weight': 2}), ('Spain', 'Bulgaria', {'weight': 14}), ('Spain', 'Romania', {'weight': 15}), ('Spain', 'Peru', {'weight': 1}), ('Spain', 'Brazil', {'weight': 1}), ('Spain', 'Korea', {'weight': 1}), ('Spain', 'Chile', {'weight': 2}), ('Spain', 'Estonia', {'weight': 15}), ('Spain', 'Latvia', {'weight': 15}), ('Spain', 'Lithuania', {'weight': 15}), ('Spain', 'Bangladesh', {'weight': 1}), ('Spain', 'Bosnia and Herzegovina', {'weight': 1}), ('Spain', 'Slovenia', {'weight': 15}), ('Spain', 'Israel', {'weight': 2}), ('Spain', 'Iceland', {'weight': 2}), ('Spain', 'Liechtenstein', {'weight': 2}), ('Spain', 'Norway', {'weight': 3}), ('Spain', 'Switzerland', {'weight': 1}), ('Spain', 'Antigua and Barbuda', {'weight': 1}), ('Spain', 'Bahamas', {'weight': 1}), ('Spain', 'Barbados', {'weight': 1}), ('Spain', 'Belize', {'weight': 1}), ('Spain', 'Dominica', {'weight': 1}), ('Spain', 'Grenada', {'weight': 1}), ('Spain', 'Guyana', {'weight': 1}), ('Spain', 'Jamaica', {'weight': 1}), ('Spain', 'Montserrat', {'weight': 1}), ('Spain', 'Trinidad and Tobago', {'weight': 1}), ('Spain', 'Saint Lucia', {'weight': 1}), ('Spain', 'Suriname', {'weight': 1}), ('Spain', 'Saint Kitts and Nevis', {'weight': 1}), ('Spain', 'Saint Vincent and the Grenadines', {'weight': 1}), ('Spain', 'Dominican Republic', {'weight': 1}), ('Spain', 'Czech Republic', {'weight': 15}), ('Spain', 'Hungary', {'weight': 15}), ('Spain', 'Poland', {'weight': 15}), ('Spain', 'Slovak Republic', {'weight': 15}), ('Spain', 'Montenegro', {'weight': 1}), ('Spain', 'Mexico', {'weight': 2}), ('Spain', 'Pakistan', {'weight': 1}), ('Spain', 'United Kingdom', {'weight': 46}), ('Spain', 'Sweden', {'weight': 36}), ('Spain', 'Cyprus', {'weight': 15}), ('Spain', 'Malta', {'weight': 16}), ('Spain', 'Andorra', {'weight': 1}), ('Spain', 'Faroe Islands', {'weight': 1}), ('Spain', 'Lebanon', {'weight': 1}), ('Spain', 'Anguilla', {'weight': 1}), ('Spain', 'Aruba', {'weight': 1}), ('Spain', 'British Indian Ocean Territory', {'weight': 1}), ('Spain', 'Cayman Islands', {'weight': 1}), ('Spain', 'Falkland or Malvinas', {'weight': 1}), ('Spain', 'French Polynesia', {'weight': 1}), ('Spain', 'French Southern Territories', {'weight': 1}), ('Spain', 'Greenland', {'weight': 1}), ('Spain', 'Mayotte', {'weight': 1}), ('Spain', 'Netherlands Antilles', {'weight': 1}), ('Spain', 'New Caledonia', {'weight': 1}), ('Spain', 'Pitcairn', {'weight': 1}), ('Spain', 'Saint Helena', {'weight': 1}), ('Spain', 'Saint Pierre and Miquelon', {'weight': 1}), ('Spain', 'South Georgia and the South Sandwich Islands', {'weight': 1}), ('Spain', 'Turks and Caicos Islands', {'weight': 1}), ('Spain', 'Virgin Islands', {'weight': 1}), ('Spain', 'British', {'weight': 1}), ('Spain', 'Wallis and Futuna Islands', {'weight': 1}), ('Spain', 'Palestine', {'weight': 1}), ('Spain', 'San Marino', {'weight': 1}), ('Spain', 'South Africa', {'weight': 1}), ('Spain', 'Uruguay', {'weight': 1}), ('Spain', 'Yugoslavia', {'weight': 1}), ('Sweden', 'Jordan', {'weight': 1}), ('Sweden', 'Albania', {'weight': 1}), ('Sweden', 'Croatia', {'weight': 1}), ('Sweden', 'Macedonia', {'weight': 1}), ('Sweden', 'Turkey', {'weight': 1}), ('Sweden', 'Bulgaria', {'weight': 13}), ('Sweden', 'Romania', {'weight': 13}), ('Sweden', 'Chile', {'weight': 1}), ('Sweden', 'Estonia', {'weight': 14}), ('Sweden', 'Latvia', {'weight': 15}), ('Sweden', 'Lithuania', {'weight': 15}), ('Sweden', 'Bosnia and Herzegovina', {'weight': 1}), ('Sweden', 'Slovenia', {'weight': 15}), ('Sweden', 'Israel', {'weight': 1}), ('Sweden', 'Iceland', {'weight': 1}), ('Sweden', 'Liechtenstein', {'weight': 2}), ('Sweden', 'Norway', {'weight': 4}), ('Sweden', 'Switzerland', {'weight': 2}), ('Sweden', 'Antigua and Barbuda', {'weight': 1}), ('Sweden', 'Bahamas', {'weight': 1}), ('Sweden', 'Barbados', {'weight': 1}), ('Sweden', 'Belize', {'weight': 1}), ('Sweden', 'Dominica', {'weight': 1}), ('Sweden', 'Grenada', {'weight': 1}), ('Sweden', 'Guyana', {'weight': 1}), ('Sweden', 'Jamaica', {'weight': 1}), ('Sweden', 'Montserrat', {'weight': 1}), ('Sweden', 'Trinidad and Tobago', {'weight': 1}), ('Sweden', 'Saint Lucia', {'weight': 1}), ('Sweden', 'Suriname', {'weight': 1}), ('Sweden', 'Saint Kitts and Nevis', {'weight': 1}), ('Sweden', 'Saint Vincent and the Grenadines', {'weight': 1}), ('Sweden', 'Dominican Republic', {'weight': 1}), ('Sweden', 'Czech Republic', {'weight': 15}), ('Sweden', 'Hungary', {'weight': 14}), ('Sweden', 'Poland', {'weight': 14}), ('Sweden', 'Slovak Republic', {'weight': 14}), ('Sweden', 'Montenegro', {'weight': 1}), ('Sweden', 'Mexico', {'weight': 1}), ('Sweden', 'United Kingdom', {'weight': 38}), ('Sweden', 'Cyprus', {'weight': 14}), ('Sweden', 'Malta', {'weight': 16}), ('Sweden', 'Andorra', {'weight': 1}), ('Sweden', 'Faroe Islands', {'weight': 1}), ('Sweden', 'Lebanon', {'weight': 1}), ('Sweden', 'Anguilla', {'weight': 1}), ('Sweden', 'Aruba', {'weight': 1}), ('Sweden', 'British Indian Ocean Territory', {'weight': 1}), ('Sweden', 'Cayman Islands', {'weight': 1}), ('Sweden', 'Falkland or Malvinas', {'weight': 1}), ('Sweden', 'French Polynesia', {'weight': 1}), ('Sweden', 'French Southern Territories', {'weight': 1}), ('Sweden', 'Greenland', {'weight': 1}), ('Sweden', 'Mayotte', {'weight': 1}), ('Sweden', 'Netherlands Antilles', {'weight': 1}), ('Sweden', 'New Caledonia', {'weight': 1}), ('Sweden', 'Pitcairn', {'weight': 1}), ('Sweden', 'Saint Helena', {'weight': 1}), ('Sweden', 'Saint Pierre and Miquelon', {'weight': 1}), ('Sweden', 'South Georgia and the South Sandwich Islands', {'weight': 1}), ('Sweden', 'Turks and Caicos Islands', {'weight': 1}), ('Sweden', 'Virgin Islands', {'weight': 1}), ('Sweden', 'British', {'weight': 1}), ('Sweden', 'Wallis and Futuna Islands', {'weight': 1}), ('Sweden', 'Palestine', {'weight': 1}), ('Sweden', 'San Marino', {'weight': 1}), ('Sweden', 'South Africa', {'weight': 1}), ('United Kingdom', 'Jordan', {'weight': 1}), ('United Kingdom', 'Albania', {'weight': 1}), ('United Kingdom', 'Croatia', {'weight': 1}), ('United Kingdom', 'Macedonia', {'weight': 1}), ('United Kingdom', 'Turkey', {'weight': 1}), ('United Kingdom', 'Bulgaria', {'weight': 14}), ('United Kingdom', 'Romania', {'weight': 14}), ('United Kingdom', 'Chile', {'weight': 1}), ('United Kingdom', 'Estonia', {'weight': 15}), ('United Kingdom', 'Latvia', {'weight': 15}), ('United Kingdom', 'Lithuania', {'weight': 15}), ('United Kingdom', 'Bosnia and Herzegovina', {'weight': 1}), ('United Kingdom', 'Slovenia', {'weight': 15}), ('United Kingdom', 'Israel', {'weight': 2}), ('United Kingdom', 'Iceland', {'weight': 2}), ('United Kingdom', 'Liechtenstein', {'weight': 2}), ('United Kingdom', 'Norway', {'weight': 4}), ('United Kingdom', 'Switzerland', {'weight': 2}), ('United Kingdom', 'Antigua and Barbuda', {'weight': 1}), ('United Kingdom', 'Bahamas', {'weight': 1}), ('United Kingdom', 'Barbados', {'weight': 1}), ('United Kingdom', 'Belize', {'weight': 1}), ('United Kingdom', 'Dominica', {'weight': 1}), ('United Kingdom', 'Grenada', {'weight': 1}), ('United Kingdom', 'Guyana', {'weight': 1}), ('United Kingdom', 'Jamaica', {'weight': 1}), ('United Kingdom', 'Montserrat', {'weight': 1}), ('United Kingdom', 'Trinidad and Tobago', {'weight': 1}), ('United Kingdom', 'Saint Lucia', {'weight': 1}), ('United Kingdom', 'Suriname', {'weight': 1}), ('United Kingdom', 'Saint Kitts and Nevis', {'weight': 1}), ('United Kingdom', 'Saint Vincent and the Grenadines', {'weight': 1}), ('United Kingdom', 'Dominican Republic', {'weight': 1}), ('United Kingdom', 'Czech Republic', {'weight': 15}), ('United Kingdom', 'Hungary', {'weight': 15}), ('United Kingdom', 'Poland', {'weight': 15}), ('United Kingdom', 'Slovak Republic', {'weight': 15}), ('United Kingdom', 'Montenegro', {'weight': 1}), ('United Kingdom', 'Mexico', {'weight': 1}), ('United Kingdom', 'Cyprus', {'weight': 15}), ('United Kingdom', 'Malta', {'weight': 16}), ('United Kingdom', 'Andorra', {'weight': 1}), ('United Kingdom', 'Faroe Islands', {'weight': 1}), ('United Kingdom', 'United Kingdom', {'weight': 1}), ('United Kingdom', 'Lebanon', {'weight': 2}), ('United Kingdom', 'Anguilla', {'weight': 1}), ('United Kingdom', 'Aruba', {'weight': 1}), ('United Kingdom', 'British Indian Ocean Territory', {'weight': 1}), ('United Kingdom', 'Cayman Islands', {'weight': 1}), ('United Kingdom', 'Falkland or Malvinas', {'weight': 1}), ('United Kingdom', 'French Polynesia', {'weight': 1}), ('United Kingdom', 'French Southern Territories', {'weight': 1}), ('United Kingdom', 'Greenland', {'weight': 1}), ('United Kingdom', 'Mayotte', {'weight': 1}), ('United Kingdom', 'Netherlands Antilles', {'weight': 1}), ('United Kingdom', 'New Caledonia', {'weight': 1}), ('United Kingdom', 'Pitcairn', {'weight': 1}), ('United Kingdom', 'Saint Helena', {'weight': 1}), ('United Kingdom', 'Saint Pierre and Miquelon', {'weight': 1}), ('United Kingdom', 'South Georgia and the South Sandwich Islands', {'weight': 1}), ('United Kingdom', 'Turks and Caicos Islands', {'weight': 1}), ('United Kingdom', 'Virgin Islands', {'weight': 1}), ('United Kingdom', 'British', {'weight': 1}), ('United Kingdom', 'Wallis and Futuna Islands', {'weight': 1}), ('United Kingdom', 'Palestine', {'weight': 1}), ('United Kingdom', 'San Marino', {'weight': 1}), ('United Kingdom', 'South Africa', {'weight': 1}), ('United Kingdom', 'Syria', {'weight': 1}), ('Argentina', 'India', {'weight': 3}), ('Argentina', 'Macedonia', {'weight': 1}), ('Argentina', 'Romania', {'weight': 1}), ('Argentina', 'Bolivia', {'weight': 4}), ('Argentina', 'Colombia', {'weight': 3}), ('Argentina', 'Ecuador', {'weight': 3}), ('Argentina', 'Peru', {'weight': 3}), ('Argentina', 'Venezuela', {'weight': 3}), ('Argentina', 'Brazil', {'weight': 8}), ('Argentina', 'Iran', {'weight': 1}), ('Argentina', 'Indonesia', {'weight': 1}), ('Argentina', 'Malaysia', {'weight': 1}), ('Argentina', 'Philippines', {'weight': 1}), ('Argentina', 'Singapore', {'weight': 1}), ('Argentina', 'Thailand', {'weight': 1}), ('Argentina', 'Myanmar', {'weight': 1}), ('Argentina', 'Vietnam', {'weight': 1}), ('Argentina', 'Korea', {'weight': 1}), ('Argentina', 'Chile', {'weight': 3}), ('Argentina', 'Bangladesh', {'weight': 1}), ('Argentina', 'Sri Lanka', {'weight': 1}), ('Argentina', 'Guyana', {'weight': 1}), ('Argentina', 'Trinidad and Tobago', {'weight': 1}), ('Argentina', 'Cuba', {'weight': 1}), ('Argentina', 'Nicaragua', {'weight': 1}), ('Argentina', 'Mexico', {'weight': 2}), ('Argentina', 'Pakistan', {'weight': 1}), ('Argentina', 'Iraq', {'weight': 1}), ('Argentina', 'Paraguay', {'weight': 7}), ('Argentina', 'Uruguay', {'weight': 7}), ('Bangladesh', 'India', {'weight': 7}), ('Bangladesh', 'Macedonia', {'weight': 1}), ('Bangladesh', 'Turkey', {'weight': 1}), ('Bangladesh', 'Romania', {'weight': 2}), ('Bangladesh', 'Bolivia', {'weight': 1}), ('Bangladesh', 'Colombia', {'weight': 1}), ('Bangladesh', 'Ecuador', {'weight': 1}), ('Bangladesh', 'Peru', {'weight': 2}), ('Bangladesh', 'Venezuela', {'weight': 1}), ('Bangladesh', 'Brazil', {'weight': 2}), ('Bangladesh', 'Iran', {'weight': 1}), ('Bangladesh', 'Indonesia', {'weight': 1}), ('Bangladesh', 'Malaysia', {'weight': 1}), ('Bangladesh', 'Philippines', {'weight': 2}), ('Bangladesh', 'Singapore', {'weight': 1}), ('Bangladesh', 'Thailand', {'weight': 2}), ('Bangladesh', 'Laos', {'weight': 2}), ('Bangladesh', 'Myanmar', {'weight': 1}), ('Bangladesh', 'Vietnam', {'weight': 1}), ('Bangladesh', 'China', {'weight': 1}), ('Bangladesh', 'Korea', {'weight': 4}), ('Bangladesh', 'Chile', {'weight': 2}), ('Bangladesh', 'Sri Lanka', {'weight': 5}), ('Bangladesh', 'Cuba', {'weight': 1}), ('Bangladesh', 'Guyana', {'weight': 1}), ('Bangladesh', 'Iraq', {'weight': 1}), ('Bangladesh', 'Mexico', {'weight': 2}), ('Bangladesh', 'Nicaragua', {'weight': 1}), ('Bangladesh', 'Pakistan', {'weight': 4}), ('Bangladesh', 'Trinidad and Tobago', {'weight': 1}), ('Bangladesh', 'Israel', {'weight': 1}), ('Bangladesh', 'Uruguay', {'weight': 1}), ('Bangladesh', 'Yugoslavia', {'weight': 1}), ('Bangladesh', 'Bhutan', {'weight': 2}), ('Bangladesh', 'Maldives', {'weight': 2}), ('Bangladesh', 'Nepal', {'weight': 2}), ('Venezuela', 'India', {'weight': 1}), ('Venezuela', 'Macedonia', {'weight': 1}), ('Venezuela', 'Romania', {'weight': 1}), ('Venezuela', 'Bolivia', {'weight': 4}), ('Venezuela', 'Colombia', {'weight': 5}), ('Venezuela', 'Ecuador', {'weight': 5}), ('Venezuela', 'Peru', {'weight': 5}), ('Venezuela', 'Brazil', {'weight': 4}), ('Venezuela', 'Antigua and Barbuda', {'weight': 1}), ('Venezuela', 'Bahamas', {'weight': 1}), ('Venezuela', 'Barbados', {'weight': 1}), ('Venezuela', 'Belize', {'weight': 1}), ('Venezuela', 'Dominica', {'weight': 1}), ('Venezuela', 'Grenada', {'weight': 1}), ('Venezuela', 'Guyana', {'weight': 2}), ('Venezuela', 'Haiti', {'weight': 1}), ('Venezuela', 'Jamaica', {'weight': 1}), ('Venezuela', 'Montserrat', {'weight': 1}), ('Venezuela', 'Saint Kitts and Nevis', {'weight': 1}), ('Venezuela', 'Saint Lucia', {'weight': 1}), ('Venezuela', 'Saint Vincent and the Grenadines', {'weight': 1}), ('Venezuela', 'Suriname', {'weight': 1}), ('Venezuela', 'Trinidad and Tobago', {'weight': 2}), ('Venezuela', 'Chile', {'weight': 3}), ('Venezuela', 'Cuba', {'weight': 1}), ('Venezuela', 'Indonesia', {'weight': 1}), ('Venezuela', 'Iran', {'weight': 1}), ('Venezuela', 'Iraq', {'weight': 1}), ('Venezuela', 'Korea', {'weight': 1}), ('Venezuela', 'Malaysia', {'weight': 1}), ('Venezuela', 'Mexico', {'weight': 2}), ('Venezuela', 'Myanmar', {'weight': 1}), ('Venezuela', 'Nicaragua', {'weight': 1}), ('Venezuela', 'Pakistan', {'weight': 1}), ('Venezuela', 'Philippines', {'weight': 1}), ('Venezuela', 'Singapore', {'weight': 1}), ('Venezuela', 'Sri Lanka', {'weight': 1}), ('Venezuela', 'Thailand', {'weight': 1}), ('Venezuela', 'Vietnam', {'weight': 1}), ('Venezuela', 'Paraguay', {'weight': 2}), ('Venezuela', 'Uruguay', {'weight': 2}), ('Bolivia', 'India', {'weight': 1}), ('Bolivia', 'Macedonia', {'weight': 1}), ('Bolivia', 'Romania', {'weight': 1}), ('Bolivia', 'Colombia', {'weight': 4}), ('Bolivia', 'Ecuador', {'weight': 4}), ('Bolivia', 'Peru', {'weight': 4}), ('Bolivia', 'Chile', {'weight': 3}), ('Bolivia', 'Brazil', {'weight': 4}), ('Bolivia', 'Cuba', {'weight': 1}), ('Bolivia', 'Guyana', {'weight': 1}), ('Bolivia', 'Indonesia', {'weight': 1}), ('Bolivia', 'Iran', {'weight': 1}), ('Bolivia', 'Iraq', {'weight': 1}), ('Bolivia', 'Korea', {'weight': 1}), ('Bolivia', 'Malaysia', {'weight': 1}), ('Bolivia', 'Mexico', {'weight': 2}), ('Bolivia', 'Myanmar', {'weight': 1}), ('Bolivia', 'Nicaragua', {'weight': 1}), ('Bolivia', 'Pakistan', {'weight': 1}), ('Bolivia', 'Philippines', {'weight': 1}), ('Bolivia', 'Singapore', {'weight': 1}), ('Bolivia', 'Sri Lanka', {'weight': 1}), ('Bolivia', 'Thailand', {'weight': 1}), ('Bolivia', 'Trinidad and Tobago', {'weight': 1}), ('Bolivia', 'Vietnam', {'weight': 1}), ('Bolivia', 'Paraguay', {'weight': 3}), ('Bolivia', 'Uruguay', {'weight': 3}), ('Brazil', 'India', {'weight': 4}), ('Brazil', 'Macedonia', {'weight': 1}), ('Brazil', 'Turkey', {'weight': 1}), ('Brazil', 'Romania', {'weight': 2}), ('Brazil', 'Colombia', {'weight': 4}), ('Brazil', 'Ecuador', {'weight': 4}), ('Brazil', 'Peru', {'weight': 5}), ('Brazil', 'Chile', {'weight': 4}), ('Brazil', 'Cuba', {'weight': 1}), ('Brazil', 'Guyana', {'weight': 1}), ('Brazil', 'Indonesia', {'weight': 1}), ('Brazil', 'Iran', {'weight': 1}), ('Brazil', 'Iraq', {'weight': 1}), ('Brazil', 'Korea', {'weight': 2}), ('Brazil', 'Malaysia', {'weight': 1}), ('Brazil', 'Mexico', {'weight': 3}), ('Brazil', 'Myanmar', {'weight': 1}), ('Brazil', 'Nicaragua', {'weight': 1}), ('Brazil', 'Pakistan', {'weight': 2}), ('Brazil', 'Philippines', {'weight': 1}), ('Brazil', 'Singapore', {'weight': 1}), ('Brazil', 'Sri Lanka', {'weight': 1}), ('Brazil', 'Thailand', {'weight': 1}), ('Brazil', 'Trinidad and Tobago', {'weight': 1}), ('Brazil', 'Vietnam', {'weight': 1}), ('Brazil', 'Paraguay', {'weight': 7}), ('Brazil', 'Uruguay', {'weight': 8}), ('Brazil', 'Israel', {'weight': 1}), ('Brazil', 'Yugoslavia', {'weight': 1}), ('Chile', 'India', {'weight': 3}), ('Chile', 'Macedonia', {'weight': 1}), ('Chile', 'Turkey', {'weight': 1}), ('Chile', 'Romania', {'weight': 2}), ('Chile', 'Colombia', {'weight': 3}), ('Chile', 'Ecuador', {'weight': 2}), ('Chile', 'Peru', {'weight': 4}), ('Chile', 'Iran', {'weight': 1}), ('Chile', 'Brunei Darussalam', {'weight': 1}), ('Chile', 'Indonesia', {'weight': 1}), ('Chile', 'Malaysia', {'weight': 1}), ('Chile', 'Philippines', {'weight': 1}), ('Chile', 'Singapore', {'weight': 2}), ('Chile', 'Thailand', {'weight': 1}), ('Chile', 'Australia', {'weight': 1}), ('Chile', 'New Zealand', {'weight': 1}), ('Chile', 'Myanmar', {'weight': 1}), ('Chile', 'Vietnam', {'weight': 1}), ('Chile', 'China', {'weight': 1}), ('Chile', 'Korea', {'weight': 3}), ('Chile', 'Japan', {'weight': 1}), ('Chile', 'Canada', {'weight': 1}), ('Chile', 'Costa Rica', {'weight': 3}), ('Chile', 'El Salvador', {'weight': 2}), ('Chile', 'Guatemala', {'weight': 2}), ('Chile', 'Honduras', {'weight': 2}), ('Chile', 'Nicaragua', {'weight': 3}), ('Chile', 'Mexico', {'weight': 4}), ('Chile', 'Panama', {'weight': 1}), ('Chile', 'Iceland', {'weight': 1}), ('Chile', 'Liechtenstein', {'weight': 1}), ('Chile', 'Norway', {'weight': 1}), ('Chile', 'Switzerland', {'weight': 1}), ('Chile', 'Cuba', {'weight': 1}), ('Chile', 'Guyana', {'weight': 1}), ('Chile', 'Iraq', {'weight': 1}), ('Chile', 'Pakistan', {'weight': 2}), ('Chile', 'Sri Lanka', {'weight': 1}), ('Chile', 'Trinidad and Tobago', {'weight': 1}), ('Chile', 'Paraguay', {'weight': 2}), ('Chile', 'Uruguay', {'weight': 3}), ('Chile', 'Israel', {'weight': 1}), ('Chile', 'Yugoslavia', {'weight': 1}), ('Chile', 'United States', {'weight': 1}), ('Colombia', 'India', {'weight': 1}), ('Colombia', 'Macedonia', {'weight': 1}), ('Colombia', 'Romania', {'weight': 1}), ('Colombia', 'Ecuador', {'weight': 5}), ('Colombia', 'Peru', {'weight': 5}), ('Colombia', 'Canada', {'weight': 1}), ('Colombia', 'Antigua and Barbuda', {'weight': 1}), ('Colombia', 'Barbados', {'weight': 1}), ('Colombia', 'Belize', {'weight': 1}), ('Colombia', 'Dominica', {'weight': 1}), ('Colombia', 'Grenada', {'weight': 1}), ('Colombia', 'Guyana', {'weight': 2}), ('Colombia', 'Jamaica', {'weight': 1}), ('Colombia', 'Montserrat', {'weight': 1}), ('Colombia', 'St Kitts and Nevis', {'weight': 1}), ('Colombia', 'Saint Lucia', {'weight': 1}), ('Colombia', 'St Vincent and the Grenadines', {'weight': 1}), ('Colombia', 'Suriname', {'weight': 1}), ('Colombia', 'Trinidad and Tobago', {'weight': 2}), ('Colombia', 'Iceland', {'weight': 1}), ('Colombia', 'Liechtenstein', {'weight': 1}), ('Colombia', 'Norway', {'weight': 1}), ('Colombia', 'Switzerland', {'weight': 1}), ('Colombia', 'Cuba', {'weight': 1}), ('Colombia', 'Indonesia', {'weight': 1}), ('Colombia', 'Iran', {'weight': 1}), ('Colombia', 'Iraq', {'weight': 1}), ('Colombia', 'Korea', {'weight': 1}), ('Colombia', 'Malaysia', {'weight': 1}), ('Colombia', 'Mexico', {'weight': 2}), ('Colombia', 'Myanmar', {'weight': 1}), ('Colombia', 'Nicaragua', {'weight': 1}), ('Colombia', 'Pakistan', {'weight': 1}), ('Colombia', 'Philippines', {'weight': 1}), ('Colombia', 'Singapore', {'weight': 1}), ('Colombia', 'Sri Lanka', {'weight': 1}), ('Colombia', 'Thailand', {'weight': 1}), ('Colombia', 'Vietnam', {'weight': 1}), ('Colombia', 'Paraguay', {'weight': 2}), ('Colombia', 'Uruguay', {'weight': 2}), ('Cuba', 'India', {'weight': 1}), ('Cuba', 'Macedonia', {'weight': 1}), ('Cuba', 'Romania', {'weight': 1}), ('Cuba', 'Ecuador', {'weight': 1}), ('Cuba', 'Peru', {'weight': 1}), ('Cuba', 'Iran', {'weight': 1}), ('Cuba', 'Indonesia', {'weight': 1}), ('Cuba', 'Malaysia', {'weight': 1}), ('Cuba', 'Philippines', {'weight': 1}), ('Cuba', 'Singapore', {'weight': 1}), ('Cuba', 'Thailand', {'weight': 1}), ('Cuba', 'Myanmar', {'weight': 1}), ('Cuba', 'Vietnam', {'weight': 1}), ('Cuba', 'Korea', {'weight': 1}), ('Cuba', 'Sri Lanka', {'weight': 1}), ('Cuba', 'Antigua and Barbuda', {'weight': 1}), ('Cuba', 'Bahamas', {'weight': 1}), ('Cuba', 'Barbados', {'weight': 1}), ('Cuba', 'Belize', {'weight': 1}), ('Cuba', 'Dominica', {'weight': 1}), ('Cuba', 'Grenada', {'weight': 1}), ('Cuba', 'Guyana', {'weight': 2}), ('Cuba', 'Jamaica', {'weight': 1}), ('Cuba', 'Montserrat', {'weight': 1}), ('Cuba', 'Trinidad and Tobago', {'weight': 2}), ('Cuba', 'Saint Lucia', {'weight': 1}), ('Cuba', 'Suriname', {'weight': 1}), ('Cuba', 'Haiti', {'weight': 1}), ('Cuba', 'Saint Kitts and Nevis', {'weight': 1}), ('Cuba', 'Saint Vincent and the Grenadines', {'weight': 1}), ('Cuba', 'Iraq', {'weight': 1}), ('Cuba', 'Mexico', {'weight': 1}), ('Cuba', 'Nicaragua', {'weight': 1}), ('Cuba', 'Pakistan', {'weight': 1}), ('Ecuador', 'India', {'weight': 1}), ('Ecuador', 'Macedonia', {'weight': 1}), ('Ecuador', 'Romania', {'weight': 1}), ('Ecuador', 'Peru', {'weight': 5}), ('Ecuador', 'Guyana', {'weight': 1}), ('Ecuador', 'Indonesia', {'weight': 1}), ('Ecuador', 'Iran', {'weight': 1}), ('Ecuador', 'Iraq', {'weight': 1}), ('Ecuador', 'Korea', {'weight': 1}), ('Ecuador', 'Malaysia', {'weight': 1}), ('Ecuador', 'Mexico', {'weight': 2}), ('Ecuador', 'Myanmar', {'weight': 1}), ('Ecuador', 'Nicaragua', {'weight': 1}), ('Ecuador', 'Pakistan', {'weight': 1}), ('Ecuador', 'Philippines', {'weight': 1}), ('Ecuador', 'Singapore', {'weight': 1}), ('Ecuador', 'Sri Lanka', {'weight': 1}), ('Ecuador', 'Thailand', {'weight': 1}), ('Ecuador', 'Trinidad and Tobago', {'weight': 1}), ('Ecuador', 'Vietnam', {'weight': 1}), ('Ecuador', 'Paraguay', {'weight': 2}), ('Ecuador', 'Uruguay', {'weight': 2}), ('Macedonia', 'India', {'weight': 1}), ('Macedonia', 'Albania', {'weight': 2}), ('Macedonia', 'Croatia', {'weight': 1}), ('Macedonia', 'Bosnia and Herzegovina', {'weight': 2}), ('Macedonia', 'Bulgaria', {'weight': 2}), ('Macedonia', 'Moldova', {'weight': 1}), ('Macedonia', 'Montenegro', {'weight': 1}), ('Macedonia', 'Romania', {'weight': 2}), ('Macedonia', 'Serbia', {'weight': 1}), ('Macedonia', 'Guyana', {'weight': 1}), ('Macedonia', 'Indonesia', {'weight': 1}), ('Macedonia', 'Iran', {'weight': 1}), ('Macedonia', 'Iraq', {'weight': 1}), ('Macedonia', 'Korea', {'weight': 1}), ('Macedonia', 'Malaysia', {'weight': 1}), ('Macedonia', 'Mexico', {'weight': 1}), ('Macedonia', 'Myanmar', {'weight': 1}), ('Macedonia', 'Nicaragua', {'weight': 1}), ('Macedonia', 'Pakistan', {'weight': 1}), ('Macedonia', 'Peru', {'weight': 1}), ('Macedonia', 'Philippines', {'weight': 1}), ('Macedonia', 'Singapore', {'weight': 1}), ('Macedonia', 'Sri Lanka', {'weight': 1}), ('Macedonia', 'Thailand', {'weight': 1}), ('Macedonia', 'Trinidad and Tobago', {'weight': 1}), ('Macedonia', 'Vietnam', {'weight': 1}), ('Guyana', 'India', {'weight': 1}), ('Guyana', 'Bulgaria', {'weight': 1}), ('Guyana', 'Romania', {'weight': 2}), ('Guyana', 'Peru', {'weight': 1}), ('Guyana', 'Iran', {'weight': 1}), ('Guyana', 'Indonesia', {'weight': 1}), ('Guyana', 'Malaysia', {'weight': 1}), ('Guyana', 'Philippines', {'weight': 1}), ('Guyana', 'Singapore', {'weight': 1}), ('Guyana', 'Thailand', {'weight': 1}), ('Guyana', 'Myanmar', {'weight': 1}), ('Guyana', 'Vietnam', {'weight': 1}), ('Guyana', 'Korea', {'weight': 1}), ('Guyana', 'Estonia', {'weight': 1}), ('Guyana', 'Latvia', {'weight': 1}), ('Guyana', 'Lithuania', {'weight': 1}), ('Guyana', 'Sri Lanka', {'weight': 1}), ('Guyana', 'Slovenia', {'weight': 1}), ('Guyana', 'Costa Rica', {'weight': 1}), ('Guyana', 'Antigua and Barbuda', {'weight': 7}), ('Guyana', 'Bahamas', {'weight': 4}), ('Guyana', 'Barbados', {'weight': 7}), ('Guyana', 'Belize', {'weight': 7}), ('Guyana', 'Dominica', {'weight': 7}), ('Guyana', 'Grenada', {'weight': 7}), ('Guyana', 'Jamaica', {'weight': 7}), ('Guyana', 'Montserrat', {'weight': 5}), ('Guyana', 'St Kitts-Nevis-Anguilla', {'weight': 1}), ('Guyana', 'St Lucia', {'weight': 1}), ('Guyana', 'St Vincent and the Grenadines', {'weight': 4}), ('Guyana', 'Trinidad and Tobago', {'weight': 8}), ('Guyana', 'St Kitts and Nevis', {'weight': 3}), ('Guyana', 'Saint Lucia', {'weight': 6}), ('Guyana', 'Suriname', {'weight': 6}), ('Guyana', 'Haiti', {'weight': 2}), ('Guyana', 'Saint Kitts and Nevis', {'weight': 3}), ('Guyana', 'Saint Vincent and the Grenadines', {'weight': 3}), ('Guyana', 'Dominican Republic', {'weight': 2}), ('Guyana', 'Cyprus', {'weight': 1}), ('Guyana', 'Czech Republic', {'weight': 1}), ('Guyana', 'Hungary', {'weight': 1}), ('Guyana', 'Malta', {'weight': 1}), ('Guyana', 'Poland', {'weight': 1}), ('Guyana', 'Slovak Republic', {'weight': 1}), ('Guyana', 'Iraq', {'weight': 1}), ('Guyana', 'Mexico', {'weight': 1}), ('Guyana', 'Nicaragua', {'weight': 1}), ('Guyana', 'Pakistan', {'weight': 1}), ('India', 'Afghanistan', {'weight': 3}), ('India', 'Brunei Darussalam', {'weight': 1}), ('India', 'Cambodia', {'weight': 1}), ('India', 'Indonesia', {'weight': 2}), ('India', 'Laos', {'weight': 3}), ('India', 'Malaysia', {'weight': 2}), ('India', 'Myanmar', {'weight': 3}), ('India', 'Philippines', {'weight': 3}), ('India', 'Singapore', {'weight': 3}), ('India', 'Thailand', {'weight': 5}), ('India', 'Vietnam', {'weight': 2}), ('India', 'China', {'weight': 2}), ('India', 'Korea', {'weight': 5}), ('India', 'Sri Lanka', {'weight': 7}), ('India', 'Bhutan', {'weight': 4}), ('India', 'Nepal', {'weight': 4}), ('India', 'Iran', {'weight': 1}), ('India', 'Iraq', {'weight': 1}), ('India', 'Mexico', {'weight': 2}), ('India', 'Nicaragua', {'weight': 1}), ('India', 'Pakistan', {'weight': 4}), ('India', 'Peru', {'weight': 2}), ('India', 'Romania', {'weight': 2}), ('India', 'Trinidad and Tobago', {'weight': 1}), ('India', 'Japan', {'weight': 1}), ('India', 'Maldives', {'weight': 3}), ('India', 'Mongolia', {'weight': 1}), ('India', 'Paraguay', {'weight': 2}), ('India', 'Uruguay', {'weight': 3}), ('India', 'Israel', {'weight': 1}), ('India', 'Turkey', {'weight': 1}), ('India', 'Yugoslavia', {'weight': 1}), ('Indonesia', 'Romania', {'weight': 1}), ('Indonesia', 'Peru', {'weight': 1}), ('Indonesia', 'Iran', {'weight': 1}), ('Indonesia', 'Brunei Darussalam', {'weight': 7}), ('Indonesia', 'Malaysia', {'weight': 8}), ('Indonesia', 'Philippines', {'weight': 8}), ('Indonesia', 'Singapore', {'weight': 8}), ('Indonesia', 'Thailand', {'weight': 8}), ('Indonesia', 'Australia', {'weight': 1}), ('Indonesia', 'New Zealand', {'weight': 1}), ('Indonesia', 'Cambodia', {'weight': 4}), ('Indonesia', 'Laos', {'weight': 4}), ('Indonesia', 'Myanmar', {'weight': 5}), ('Indonesia', 'Vietnam', {'weight': 5}), ('Indonesia', 'China', {'weight': 1}), ('Indonesia', 'Korea ', {'weight': 1}), ('Indonesia', 'Korea', {'weight': 2}), ('Indonesia', 'Japan', {'weight': 2}), ('Indonesia', 'Iraq', {'weight': 1}), ('Indonesia', 'Mexico', {'weight': 1}), ('Indonesia', 'Nicaragua', {'weight': 1}), ('Indonesia', 'Pakistan', {'weight': 1}), ('Indonesia', 'Sri Lanka', {'weight': 1}), ('Indonesia', 'Trinidad and Tobago', {'weight': 1}), ('Iran', 'Afghanistan', {'weight': 1}), ('Iran', 'Turkey', {'weight': 1}), ('Iran', 'Romania', {'weight': 1}), ('Iran', 'Peru', {'weight': 1}), ('Iran', 'Armenia', {'weight': 1}), ('Iran', 'Kazakhstan', {'weight': 1}), ('Iran', 'Kyrgyz Republic', {'weight': 1}), ('Iran', 'Turkmenistan', {'weight': 1}), ('Iran', 'Azerbaijan', {'weight': 1}), ('Iran', 'Pakistan', {'weight': 3}), ('Iran', 'Tajikistan', {'weight': 1}), ('Iran', 'Uzbekistan', {'weight': 1}), ('Iran', 'Iraq', {'weight': 1}), ('Iran', 'Korea', {'weight': 1}), ('Iran', 'Malaysia', {'weight': 1}), ('Iran', 'Mexico', {'weight': 1}), ('Iran', 'Myanmar', {'weight': 1}), ('Iran', 'Nicaragua', {'weight': 1}), ('Iran', 'Philippines', {'weight': 1}), ('Iran', 'Singapore', {'weight': 1}), ('Iran', 'Sri Lanka', {'weight': 1}), ('Iran', 'Thailand', {'weight': 1}), ('Iran', 'Trinidad and Tobago', {'weight': 1}), ('Iran', 'Vietnam', {'weight': 1}), ('Iraq', 'Jordan', {'weight': 1}), ('Iraq', 'Romania', {'weight': 1}), ('Iraq', 'Peru', {'weight': 1}), ('Iraq', 'Malaysia', {'weight': 1}), ('Iraq', 'Philippines', {'weight': 1}), ('Iraq', 'Singapore', {'weight': 1}), ('Iraq', 'Thailand', {'weight': 1}), ('Iraq', 'Myanmar', {'weight': 1}), ('Iraq', 'Vietnam', {'weight': 1}), ('Iraq', 'Korea', {'weight': 1}), ('Iraq', 'Bahrain', {'weight': 1}), ('Iraq', 'Sri Lanka', {'weight': 1}), ('Iraq', 'Trinidad and Tobago', {'weight': 1}), ('Iraq', 'Nicaragua', {'weight': 1}), ('Iraq', 'Mexico', {'weight': 1}), ('Iraq', 'Pakistan', {'weight': 1}), ('Iraq', 'Lebanon', {'weight': 1}), ('Iraq', 'Palestine', {'weight': 1}), ('Iraq', 'Syria', {'weight': 1}), ('Iraq', 'Kuwait', {'weight': 1}), ('Iraq', 'Oman', {'weight': 1}), ('Iraq', 'Qatar', {'weight': 1}), ('Iraq', 'Saudi Arabia', {'weight': 1}), ('Iraq', 'United Arab Emirates', {'weight': 1}), ('Iraq', 'Yemen', {'weight': 1}), ('Korea', 'Turkey', {'weight': 1}), ('Korea', 'Romania', {'weight': 2}), ('Korea', 'Peru', {'weight': 2}), ('Korea', 'Brunei Darussalam', {'weight': 1}), ('Korea', 'Malaysia', {'weight': 2}), ('Korea', 'Philippines', {'weight': 3}), ('Korea', 'Singapore', {'weight': 3}), ('Korea', 'Thailand', {'weight': 3}), ('Korea', 'Cambodia', {'weight': 1}), ('Korea', 'Laos', {'weight': 3}), ('Korea', 'Myanmar', {'weight': 2}), ('Korea', 'Vietnam', {'weight': 2}), ('Korea', 'China', {'weight': 1}), ('Korea', 'Sri Lanka', {'weight': 3}), ('Korea', 'Iceland', {'weight': 1}), ('Korea', 'Liechtenstein', {'weight': 1}), ('Korea', 'Norway', {'weight': 1}), ('Korea', 'Switzerland', {'weight': 1}), ('Korea', 'Mexico', {'weight': 2}), ('Korea', 'Nicaragua', {'weight': 1}), ('Korea', 'Pakistan', {'weight': 2}), ('Korea', 'Trinidad and Tobago', {'weight': 1}), ('Korea', 'Israel', {'weight': 1}), ('Korea', 'Uruguay', {'weight': 1}), ('Korea', 'Yugoslavia', {'weight': 1}), ('Malaysia', 'Romania', {'weight': 1}), ('Malaysia', 'Peru', {'weight': 1}), ('Malaysia', 'Brunei Darussalam', {'weight': 7}), ('Malaysia', 'Philippines', {'weight': 8}), ('Malaysia', 'Singapore', {'weight': 8}), ('Malaysia', 'Thailand', {'weight': 8}), ('Malaysia', 'Australia', {'weight': 1}), ('Malaysia', 'New Zealand', {'weight': 1}), ('Malaysia', 'Cambodia', {'weight': 4}), ('Malaysia', 'Laos', {'weight': 4}), ('Malaysia', 'Myanmar', {'weight': 5}), ('Malaysia', 'Vietnam', {'weight': 5}), ('Malaysia', 'China', {'weight': 1}), ('Malaysia', 'Korea ', {'weight': 1}), ('Malaysia', 'Japan', {'weight': 2}), ('Malaysia', 'Mexico', {'weight': 1}), ('Malaysia', 'Nicaragua', {'weight': 1}), ('Malaysia', 'Pakistan', {'weight': 2}), ('Malaysia', 'Sri Lanka', {'weight': 1}), ('Malaysia', 'Trinidad and Tobago', {'weight': 1}), ('Mexico', 'Turkey', {'weight': 1}), ('Mexico', 'Romania', {'weight': 2}), ('Mexico', 'Peru', {'weight': 3}), ('Mexico', 'Philippines', {'weight': 1}), ('Mexico', 'Singapore', {'weight': 1}), ('Mexico', 'Thailand', {'weight': 1}), ('Mexico', 'Myanmar', {'weight': 1}), ('Mexico', 'Vietnam', {'weight': 1}), ('Mexico', 'Japan', {'weight': 1}), ('Mexico', 'Sri Lanka', {'weight': 1}), ('Mexico', 'Israel', {'weight': 2}), ('Mexico', 'Canada', {'weight': 1}), ('Mexico', 'Costa Rica', {'weight': 1}), ('Mexico', 'Iceland', {'weight': 1}), ('Mexico', 'Liechtenstein', {'weight': 1}), ('Mexico', 'Norway', {'weight': 1}), ('Mexico', 'Switzerland', {'weight': 1}), ('Mexico', 'Trinidad and Tobago', {'weight': 1}), ('Mexico', 'El Salvador', {'weight': 4}), ('Mexico', 'Guatemala', {'weight': 4}), ('Mexico', 'Honduras', {'weight': 4}), ('Mexico', 'Nicaragua', {'weight': 2}), ('Mexico', 'United States', {'weight': 1}), ('Mexico', 'Pakistan', {'weight': 2}), ('Mexico', 'Paraguay', {'weight': 1}), ('Mexico', 'Uruguay', {'weight': 2}), ('Mexico', 'Yugoslavia', {'weight': 1}), ('Myanmar', 'Romania', {'weight': 1}), ('Myanmar', 'Peru', {'weight': 1}), ('Myanmar', 'Brunei Darussalam', {'weight': 4}), ('Myanmar', 'Philippines', {'weight': 5}), ('Myanmar', 'Singapore', {'weight': 5}), ('Myanmar', 'Thailand', {'weight': 6}), ('Myanmar', 'Cambodia', {'weight': 4}), ('Myanmar', 'Laos', {'weight': 4}), ('Myanmar', 'Vietnam', {'weight': 5}), ('Myanmar', 'China', {'weight': 1}), ('Myanmar', 'Korea ', {'weight': 1}), ('Myanmar', 'Bhutan', {'weight': 1}), ('Myanmar', 'Nepal', {'weight': 1}), ('Myanmar', 'Sri Lanka', {'weight': 2}), ('Myanmar', 'Nicaragua', {'weight': 1}), ('Myanmar', 'Pakistan', {'weight': 1}), ('Myanmar', 'Trinidad and Tobago', {'weight': 1}), ('Nicaragua', 'Romania', {'weight': 1}), ('Nicaragua', 'Peru', {'weight': 1}), ('Nicaragua', 'Philippines', {'weight': 1}), ('Nicaragua', 'Singapore', {'weight': 1}), ('Nicaragua', 'Thailand', {'weight': 1}), ('Nicaragua', 'Vietnam', {'weight': 1}), ('Nicaragua', 'Sri Lanka', {'weight': 1}), ('Nicaragua', 'Costa Rica', {'weight': 4}), ('Nicaragua', 'Trinidad and Tobago', {'weight': 1}), ('Nicaragua', 'Dominican Republic', {'weight': 1}), ('Nicaragua', 'El Salvador', {'weight': 5}), ('Nicaragua', 'Guatemala', {'weight': 5}), ('Nicaragua', 'Honduras', {'weight': 5}), ('Nicaragua', 'United States', {'weight': 2}), ('Nicaragua', 'Taiwan', {'weight': 1}), ('Nicaragua', 'Pakistan', {'weight': 1}), ('Pakistan', 'Afghanistan', {'weight': 1}), ('Pakistan', 'Turkey', {'weight': 2}), ('Pakistan', 'Romania', {'weight': 2}), ('Pakistan', 'Peru', {'weight': 2}), ('Pakistan', 'Kazakhstan', {'weight': 1}), ('Pakistan', 'Kyrgyz Republic', {'weight': 1}), ('Pakistan', 'Turkmenistan', {'weight': 1}), ('Pakistan', 'Philippines', {'weight': 1}), ('Pakistan', 'Singapore', {'weight': 1}), ('Pakistan', 'Thailand', {'weight': 1}), ('Pakistan', 'Vietnam', {'weight': 1}), ('Pakistan', 'China', {'weight': 1}), ('Pakistan', 'Azerbaijan', {'weight': 1}), ('Pakistan', 'Sri Lanka', {'weight': 4}), ('Pakistan', 'Bhutan', {'weight': 2}), ('Pakistan', 'Nepal', {'weight': 2}), ('Pakistan', 'Israel', {'weight': 1}), ('Pakistan', 'Trinidad and Tobago', {'weight': 1}), ('Pakistan', 'Tajikistan', {'weight': 1}), ('Pakistan', 'Uzbekistan', {'weight': 1}), ('Pakistan', 'Uruguay', {'weight': 1}), ('Pakistan', 'Yugoslavia', {'weight': 1}), ('Pakistan', 'Maldives', {'weight': 2}), ('Peru', 'Turkey', {'weight': 1}), ('Peru', 'Romania', {'weight': 2}), ('Peru', 'Canada', {'weight': 1}), ('Peru', 'China', {'weight': 1}), ('Peru', 'Philippines', {'weight': 1}), ('Peru', 'Singapore', {'weight': 2}), ('Peru', 'Sri Lanka', {'weight': 1}), ('Peru', 'Thailand', {'weight': 1}), ('Peru', 'Trinidad and Tobago', {'weight': 1}), ('Peru', 'Vietnam', {'weight': 1}), ('Peru', 'Paraguay', {'weight': 2}), ('Peru', 'Uruguay', {'weight': 3}), ('Peru', 'Israel', {'weight': 1}), ('Peru', 'Yugoslavia', {'weight': 1}), ('Peru', 'United States', {'weight': 1}), ('Philippines', 'Romania', {'weight': 1}), ('Philippines', 'Brunei Darussalam', {'weight': 7}), ('Philippines', 'Singapore', {'weight': 8}), ('Philippines', 'Thailand', {'weight': 9}), ('Philippines', 'Australia', {'weight': 1}), ('Philippines', 'New Zealand', {'weight': 1}), ('Philippines', 'Cambodia', {'weight': 4}), ('Philippines', 'Laos', {'weight': 5}), ('Philippines', 'Vietnam', {'weight': 5}), ('Philippines', 'China', {'weight': 1}), ('Philippines', 'Korea ', {'weight': 1}), ('Philippines', 'Japan', {'weight': 2}), ('Philippines', 'Sri Lanka', {'weight': 2}), ('Philippines', 'Trinidad and Tobago', {'weight': 1}), ('Romania', 'Albania', {'weight': 2}), ('Romania', 'Croatia', {'weight': 5}), ('Romania', 'Moldova', {'weight': 2}), ('Romania', 'Turkey', {'weight': 2}), ('Romania', 'Bulgaria', {'weight': 17}), ('Romania', 'Bosnia and Herzegovina', {'weight': 3}), ('Romania', 'Czech Republic', {'weight': 17}), ('Romania', 'Hungary', {'weight': 17}), ('Romania', 'Poland', {'weight': 17}), ('Romania', 'Slovak Republic', {'weight': 17}), ('Romania', 'Slovenia', {'weight': 17}), ('Romania', 'Montenegro', {'weight': 3}), ('Romania', 'Serbia', {'weight': 2}), ('Romania', 'Cyprus', {'weight': 13}), ('Romania', 'Estonia', {'weight': 13}), ('Romania', 'Latvia', {'weight': 13}), ('Romania', 'Lithuania', {'weight': 13}), ('Romania', 'Malta', {'weight': 13}), ('Romania', 'Antigua and Barbuda', {'weight': 1}), ('Romania', 'Bahamas', {'weight': 1}), ('Romania', 'Barbados', {'weight': 1}), ('Romania', 'Belize', {'weight': 1}), ('Romania', 'Dominica', {'weight': 1}), ('Romania', 'Dominican Republic', {'weight': 1}), ('Romania', 'Grenada', {'weight': 1}), ('Romania', 'Jamaica', {'weight': 1}), ('Romania', 'Saint Kitts and Nevis', {'weight': 1}), ('Romania', 'Saint Lucia', {'weight': 1}), ('Romania', 'Saint Vincent and the Grenadines', {'weight': 1}), ('Romania', 'Suriname', {'weight': 1}), ('Romania', 'Trinidad and Tobago', {'weight': 2}), ('Romania', 'Lebanon', {'weight': 1}), ('Romania', 'Anguilla', {'weight': 1}), ('Romania', 'Aruba', {'weight': 1}), ('Romania', 'British Indian Ocean Territory', {'weight': 1}), ('Romania', 'Cayman Islands', {'weight': 1}), ('Romania', 'Falkland or Malvinas', {'weight': 1}), ('Romania', 'French Polynesia', {'weight': 1}), ('Romania', 'French Southern Territories', {'weight': 1}), ('Romania', 'Greenland', {'weight': 1}), ('Romania', 'Mayotte', {'weight': 1}), ('Romania', 'Montserrat', {'weight': 1}), ('Romania', 'Netherlands Antilles', {'weight': 1}), ('Romania', 'New Caledonia', {'weight': 1}), ('Romania', 'Pitcairn', {'weight': 1}), ('Romania', 'Saint Helena', {'weight': 1}), ('Romania', 'Saint Pierre and Miquelon', {'weight': 1}), ('Romania', 'South Georgia and the South Sandwich Islands', {'weight': 1}), ('Romania', 'Turks and Caicos Islands', {'weight': 1}), ('Romania', 'Virgin Islands', {'weight': 1}), ('Romania', 'British', {'weight': 1}), ('Romania', 'Wallis and Futuna Islands', {'weight': 1}), ('Romania', 'Palestine', {'weight': 1}), ('Romania', 'San Marino', {'weight': 1}), ('Romania', 'Switzerland', {'weight': 2}), ('Romania', 'Liechtenstein', {'weight': 2}), ('Romania', 'Iceland', {'weight': 1}), ('Romania', 'Norway', {'weight': 1}), ('Romania', ' Macedonia', {'weight': 1}), ('Romania', 'Singapore', {'weight': 1}), ('Romania', 'Sri Lanka', {'weight': 1}), ('Romania', 'Thailand', {'weight': 1}), ('Romania', 'Vietnam', {'weight': 1}), ('Romania', 'Israel', {'weight': 2}), ('Romania', 'Uruguay', {'weight': 1}), ('Romania', 'Yugoslavia', {'weight': 1}), ('Singapore', 'Jordan', {'weight': 1}), ('Singapore', 'Brunei Darussalam', {'weight': 8}), ('Singapore', 'Thailand', {'weight': 8}), ('Singapore', 'Australia', {'weight': 2}), ('Singapore', 'New Zealand', {'weight': 4}), ('Singapore', 'Cambodia', {'weight': 4}), ('Singapore', 'Laos', {'weight': 4}), ('Singapore', 'Vietnam', {'weight': 5}), ('Singapore', 'China', {'weight': 2}), ('Singapore', 'Korea ', {'weight': 1}), ('Singapore', 'Japan', {'weight': 2}), ('Singapore', 'Iceland', {'weight': 1}), ('Singapore', 'Liechtenstein', {'weight': 1}), ('Singapore', 'Norway', {'weight': 1}), ('Singapore', 'Switzerland', {'weight': 1}), ('Singapore', 'Sri Lanka', {'weight': 1}), ('Singapore', 'Trinidad and Tobago', {'weight': 1}), ('Singapore', 'United States', {'weight': 1}), ('Sri Lanka', 'Thailand', {'weight': 3}), ('Sri Lanka', 'Laos', {'weight': 2}), ('Sri Lanka', 'Vietnam', {'weight': 1}), ('Sri Lanka', 'China', {'weight': 1}), ('Sri Lanka', 'Bhutan', {'weight': 3}), ('Sri Lanka', 'Nepal', {'weight': 3}), ('Sri Lanka', 'Trinidad and Tobago', {'weight': 1}), ('Sri Lanka', 'Maldives', {'weight': 2}), ('Thailand', 'Brunei Darussalam', {'weight': 7}), ('Thailand', 'Australia', {'weight': 2}), ('Thailand', 'New Zealand', {'weight': 2}), ('Thailand', 'Cambodia', {'weight': 4}), ('Thailand', 'Laos', {'weight': 6}), ('Thailand', 'Vietnam', {'weight': 5}), ('Thailand', 'China', {'weight': 1}), ('Thailand', 'Korea ', {'weight': 1}), ('Thailand', 'Japan', {'weight': 2}), ('Thailand', 'Bhutan', {'weight': 1}), ('Thailand', 'Nepal', {'weight': 1}), ('Thailand', 'Trinidad and Tobago', {'weight': 1}), ('Trinidad and Tobago', 'Bulgaria', {'weight': 1}), ('Trinidad and Tobago', 'Vietnam', {'weight': 1}), ('Trinidad and Tobago', 'Estonia', {'weight': 1}), ('Trinidad and Tobago', 'Latvia', {'weight': 1}), ('Trinidad and Tobago', 'Lithuania', {'weight': 1}), ('Trinidad and Tobago', 'Slovenia', {'weight': 1}), ('Trinidad and Tobago', 'Costa Rica', {'weight': 1}), ('Trinidad and Tobago', 'Antigua and Barbuda', {'weight': 7}), ('Trinidad and Tobago', 'Bahamas', {'weight': 4}), ('Trinidad and Tobago', 'Barbados', {'weight': 7}), ('Trinidad and Tobago', 'Belize', {'weight': 7}), ('Trinidad and Tobago', 'Dominica', {'weight': 7}), ('Trinidad and Tobago', 'Grenada', {'weight': 7}), ('Trinidad and Tobago', 'Jamaica', {'weight': 7}), ('Trinidad and Tobago', 'Montserrat', {'weight': 5}), ('Trinidad and Tobago', 'St Kitts-Nevis-Anguilla', {'weight': 1}), ('Trinidad and Tobago', 'St Lucia', {'weight': 1}), ('Trinidad and Tobago', 'St Vincent and the Grenadines', {'weight': 4}), ('Trinidad and Tobago', 'St Kitts and Nevis', {'weight': 3}), ('Trinidad and Tobago', 'Saint Lucia', {'weight': 6}), ('Trinidad and Tobago', 'Suriname', {'weight': 6}), ('Trinidad and Tobago', 'Haiti', {'weight': 2}), ('Trinidad and Tobago', 'Saint Kitts and Nevis', {'weight': 3}), ('Trinidad and Tobago', 'Saint Vincent and the Grenadines', {'weight': 3}), ('Trinidad and Tobago', 'Dominican Republic', {'weight': 2}), ('Trinidad and Tobago', 'Cyprus', {'weight': 1}), ('Trinidad and Tobago', 'Czech Republic', {'weight': 1}), ('Trinidad and Tobago', 'Hungary', {'weight': 1}), ('Trinidad and Tobago', 'Malta', {'weight': 1}), ('Trinidad and Tobago', 'Poland', {'weight': 1}), ('Trinidad and Tobago', 'Slovak Republic', {'weight': 1}), ('Vietnam', 'Brunei Darussalam', {'weight': 4}), ('Vietnam', 'Cambodia', {'weight': 4}), ('Vietnam', 'Laos', {'weight': 4}), ('Vietnam', 'China', {'weight': 1}), ('Vietnam', 'Korea ', {'weight': 1}), ('Vietnam', 'Japan', {'weight': 1}), ('Vietnam', 'United States', {'weight': 1}), ('Bahrain', 'Jordan', {'weight': 2}), ('Bahrain', 'Kuwait', {'weight': 2}), ('Bahrain', 'Oman', {'weight': 2}), ('Bahrain', 'Qatar', {'weight': 2}), ('Bahrain', 'Saudi Arabia', {'weight': 2}), ('Bahrain', 'United Arab Emirates', {'weight': 2}), ('Bahrain', 'Lebanon', {'weight': 1}), ('Bahrain', 'Syria', {'weight': 1}), ('Bahrain', 'Yemen', {'weight': 1}), ('Bahrain', 'Palestine', {'weight': 1}), ('Bahrain', 'United States', {'weight': 1}), ('Jordan', 'Iceland', {'weight': 1}), ('Jordan', 'Liechtenstein', {'weight': 1}), ('Jordan', 'Norway', {'weight': 1}), ('Jordan', 'Switzerland', {'weight': 1}), ('Jordan', 'Israel', {'weight': 1}), ('Jordan', 'Syria', {'weight': 2}), ('Jordan', 'United Arab Emirates', {'weight': 2}), ('Jordan', 'Kuwait', {'weight': 1}), ('Jordan', 'Lebanon', {'weight': 1}), ('Jordan', 'Oman', {'weight': 1}), ('Jordan', 'Qatar', {'weight': 1}), ('Jordan', 'Saudi Arabia', {'weight': 1}), ('Jordan', 'Yemen', {'weight': 1}), ('Jordan', 'Palestine', {'weight': 1}), ('Jordan', 'United States', {'weight': 1}), ('Kuwait', 'Lebanon', {'weight': 1}), ('Kuwait', 'Palestine', {'weight': 1}), ('Kuwait', 'Syria', {'weight': 1}), ('Kuwait', 'Oman', {'weight': 2}), ('Kuwait', 'Qatar', {'weight': 2}), ('Kuwait', 'Saudi Arabia', {'weight': 2}), ('Kuwait', 'United Arab Emirates', {'weight': 2}), ('Kuwait', 'Yemen', {'weight': 1}), ('Lebanon', 'Bulgaria', {'weight': 1}), ('Lebanon', 'Estonia', {'weight': 1}), ('Lebanon', 'Latvia', {'weight': 1}), ('Lebanon', 'Lithuania', {'weight': 1}), ('Lebanon', 'Slovenia', {'weight': 1}), ('Lebanon', 'Iceland', {'weight': 1}), ('Lebanon', 'Liechtenstein', {'weight': 1}), ('Lebanon', 'Norway', {'weight': 1}), ('Lebanon', 'Switzerland', {'weight': 1}), ('Lebanon', 'Czech Republic', {'weight': 1}), ('Lebanon', 'Hungary', {'weight': 1}), ('Lebanon', 'Poland', {'weight': 1}), ('Lebanon', 'Slovak Republic', {'weight': 1}), ('Lebanon', 'Cyprus', {'weight': 1}), ('Lebanon', 'Malta', {'weight': 1}), ('Lebanon', 'Oman', {'weight': 1}), ('Lebanon', 'Qatar', {'weight': 1}), ('Lebanon', 'Saudi Arabia', {'weight': 1}), ('Lebanon', 'Syria', {'weight': 1}), ('Lebanon', 'United Arab Emirates', {'weight': 1}), ('Lebanon', 'Yemen', {'weight': 1}), ('Lebanon', 'Palestine', {'weight': 1}), ('Oman', 'United States', {'weight': 1}), ('Oman', 'Palestine', {'weight': 1}), ('Oman', 'Syria', {'weight': 1}), ('Oman', 'Qatar', {'weight': 2}), ('Oman', 'Saudi Arabia', {'weight': 2}), ('Oman', 'United Arab Emirates', {'weight': 2}), ('Oman', 'Yemen', {'weight': 1}), ('Qatar', 'Palestine', {'weight': 1}), ('Qatar', 'Syria', {'weight': 1}), ('Qatar', 'Saudi Arabia', {'weight': 2}), ('Qatar', 'United Arab Emirates', {'weight': 2}), ('Qatar', 'Yemen', {'weight': 1}), ('Saudi Arabia', 'Palestine', {'weight': 1}), ('Saudi Arabia', 'Syria', {'weight': 1}), ('Saudi Arabia', 'United Arab Emirates', {'weight': 2}), ('Saudi Arabia', 'Yemen', {'weight': 1}), ('Syria', 'Turkey', {'weight': 1}), ('Syria', 'Palestine', {'weight': 1}), ('Syria', 'United Arab Emirates', {'weight': 1}), ('Syria', 'Yemen', {'weight': 1}), ('United Arab Emirates', 'Palestine', {'weight': 1}), ('United Arab Emirates', 'Yemen', {'weight': 1}), ('Yemen', 'Palestine', {'weight': 1}), ('Palestine', 'Turkey', {'weight': 1}), ('Palestine', 'Bulgaria', {'weight': 1}), ('Palestine', 'Estonia', {'weight': 1}), ('Palestine', 'Latvia', {'weight': 1}), ('Palestine', 'Lithuania', {'weight': 1}), ('Palestine', 'Slovenia', {'weight': 1}), ('Palestine', 'Iceland', {'weight': 1}), ('Palestine', 'Liechtenstein', {'weight': 1}), ('Palestine', 'Norway', {'weight': 1}), ('Palestine', 'Switzerland', {'weight': 1}), ('Palestine', 'Czech Republic', {'weight': 1}), ('Palestine', 'Hungary', {'weight': 1}), ('Palestine', 'Poland', {'weight': 1}), ('Palestine', 'Slovak Republic', {'weight': 1}), ('Palestine', 'Cyprus', {'weight': 1}), ('Palestine', 'Malta', {'weight': 1}), ('South Africa', 'Iceland', {'weight': 1}), ('South Africa', 'Liechtenstein', {'weight': 1}), ('South Africa', 'Norway', {'weight': 1}), ('South Africa', 'Switzerland', {'weight': 1}), ('Iceland', 'Croatia', {'weight': 1}), ('Iceland', 'Turkey', {'weight': 1}), ('Iceland', 'Bulgaria', {'weight': 1}), ('Iceland', 'Estonia', {'weight': 1}), ('Iceland', 'Latvia', {'weight': 1}), ('Iceland', 'Lithuania', {'weight': 1}), ('Iceland', 'Slovenia', {'weight': 1}), ('Iceland', 'Israel', {'weight': 1}), ('Iceland', 'Canada', {'weight': 1}), ('Iceland', 'Liechtenstein', {'weight': 29}), ('Iceland', 'Norway', {'weight': 29}), ('Iceland', 'Switzerland', {'weight': 28}), ('Iceland', 'Czech Republic', {'weight': 1}), ('Iceland', 'Hungary', {'weight': 1}), ('Iceland', 'Poland', {'weight': 1}), ('Iceland', 'Slovak Republic', {'weight': 1}), ('Iceland', ' Macedonia', {'weight': 1}), ('Iceland', 'Faroe Islands', {'weight': 2}), ('Liechtenstein', 'Croatia', {'weight': 1}), ('Liechtenstein', 'Turkey', {'weight': 1}), ('Liechtenstein', 'Bulgaria', {'weight': 2}), ('Liechtenstein', 'Estonia', {'weight': 2}), ('Liechtenstein', 'Latvia', {'weight': 2}), ('Liechtenstein', 'Lithuania', {'weight': 2}), ('Liechtenstein', 'Slovenia', {'weight': 2}), ('Liechtenstein', 'Israel', {'weight': 1}), ('Liechtenstein', 'Canada', {'weight': 1}), ('Liechtenstein', 'Norway', {'weight': 29}), ('Liechtenstein', 'Switzerland', {'weight': 29}), ('Liechtenstein', 'Cyprus', {'weight': 1}), ('Liechtenstein', 'Czech Republic', {'weight': 2}), ('Liechtenstein', 'Hungary', {'weight': 2}), ('Liechtenstein', 'Malta', {'weight': 1}), ('Liechtenstein', 'Poland', {'weight': 2}), ('Liechtenstein', 'Slovak Republic', {'weight': 2}), ('Liechtenstein', ' Macedonia', {'weight': 1}), ('Norway', 'Croatia', {'weight': 1}), ('Norway', 'Turkey', {'weight': 1}), ('Norway', 'Bulgaria', {'weight': 1}), ('Norway', 'Estonia', {'weight': 1}), ('Norway', 'Latvia', {'weight': 1}), ('Norway', 'Lithuania', {'weight': 1}), ('Norway', 'Slovenia', {'weight': 1}), ('Norway', 'Israel', {'weight': 1}), ('Norway', 'Canada', {'weight': 1}), ('Norway', 'Switzerland', {'weight': 29}), ('Norway', 'Czech Republic', {'weight': 1}), ('Norway', 'Hungary', {'weight': 1}), ('Norway', 'Poland', {'weight': 1}), ('Norway', 'Slovak Republic', {'weight': 1}), ('Norway', ' Macedonia', {'weight': 1}), ('Norway', 'Faroe Islands', {'weight': 1}), ('Switzerland', 'Croatia', {'weight': 1}), ('Switzerland', 'Turkey', {'weight': 1}), ('Switzerland', 'Bulgaria', {'weight': 2}), ('Switzerland', 'Japan', {'weight': 1}), ('Switzerland', 'Estonia', {'weight': 2}), ('Switzerland', 'Latvia', {'weight': 2}), ('Switzerland', 'Lithuania', {'weight': 2}), ('Switzerland', 'Slovenia', {'weight': 2}), ('Switzerland', 'Israel', {'weight': 1}), ('Switzerland', 'Canada', {'weight': 1}), ('Switzerland', 'Cyprus', {'weight': 1}), ('Switzerland', 'Czech Republic', {'weight': 2}), ('Switzerland', 'Hungary', {'weight': 2}), ('Switzerland', 'Malta', {'weight': 1}), ('Switzerland', 'Poland', {'weight': 2}), ('Switzerland', 'Slovak Republic', {'weight': 2}), ('Switzerland', ' Macedonia', {'weight': 1}), ('Switzerland', 'Faroe Islands', {'weight': 1}), ('Bulgaria', 'Albania', {'weight': 2}), ('Bulgaria', 'Croatia', {'weight': 5}), ('Bulgaria', 'Moldova', {'weight': 1}), ('Bulgaria', 'Turkey', {'weight': 1}), ('Bulgaria', 'Bosnia and Herzegovina', {'weight': 3}), ('Bulgaria', 'Estonia', {'weight': 14}), ('Bulgaria', 'Israel', {'weight': 1}), ('Bulgaria', 'Latvia', {'weight': 14}), ('Bulgaria', 'Lithuania', {'weight': 14}), ('Bulgaria', 'Czech Republic', {'weight': 16}), ('Bulgaria', 'Hungary', {'weight': 16}), ('Bulgaria', 'Poland', {'weight': 16}), ('Bulgaria', 'Slovak Republic', {'weight': 16}), ('Bulgaria', 'Slovenia', {'weight': 16}), ('Bulgaria', 'Montenegro', {'weight': 2}), ('Bulgaria', 'Serbia', {'weight': 1}), ('Bulgaria', 'Cyprus', {'weight': 13}), ('Bulgaria', 'Malta', {'weight': 13}), ('Bulgaria', 'Antigua and Barbuda', {'weight': 1}), ('Bulgaria', 'Bahamas', {'weight': 1}), ('Bulgaria', 'Barbados', {'weight': 1}), ('Bulgaria', 'Belize', {'weight': 1}), ('Bulgaria', 'Dominica', {'weight': 1}), ('Bulgaria', 'Dominican Republic', {'weight': 1}), ('Bulgaria', 'Grenada', {'weight': 1}), ('Bulgaria', 'Jamaica', {'weight': 1}), ('Bulgaria', 'Saint Kitts and Nevis', {'weight': 1}), ('Bulgaria', 'Saint Lucia', {'weight': 1}), ('Bulgaria', 'Saint Vincent and the Grenadines', {'weight': 1}), ('Bulgaria', 'Suriname', {'weight': 1}), ('Bulgaria', 'Anguilla', {'weight': 1}), ('Bulgaria', 'Aruba', {'weight': 1}), ('Bulgaria', 'British Indian Ocean Territory', {'weight': 1}), ('Bulgaria', 'Cayman Islands', {'weight': 1}), ('Bulgaria', 'Falkland or Malvinas', {'weight': 1}), ('Bulgaria', 'French Polynesia', {'weight': 1}), ('Bulgaria', 'French Southern Territories', {'weight': 1}), ('Bulgaria', 'Greenland', {'weight': 1}), ('Bulgaria', 'Mayotte', {'weight': 1}), ('Bulgaria', 'Montserrat', {'weight': 1}), ('Bulgaria', 'Netherlands Antilles', {'weight': 1}), ('Bulgaria', 'New Caledonia', {'weight': 1}), ('Bulgaria', 'Pitcairn', {'weight': 1}), ('Bulgaria', 'Saint Helena', {'weight': 1}), ('Bulgaria', 'Saint Pierre and Miquelon', {'weight': 1}), ('Bulgaria', 'South Georgia and the South Sandwich Islands', {'weight': 1}), ('Bulgaria', 'Turks and Caicos Islands', {'weight': 1}), ('Bulgaria', 'Virgin Islands', {'weight': 1}), ('Bulgaria', 'British', {'weight': 1}), ('Bulgaria', 'Wallis and Futuna Islands', {'weight': 1}), ('Bulgaria', 'San Marino', {'weight': 1}), ('Cyprus', 'Croatia', {'weight': 1}), ('Cyprus', 'Estonia', {'weight': 14}), ('Cyprus', 'Latvia', {'weight': 14}), ('Cyprus', 'Lithuania', {'weight': 14}), ('Cyprus', 'Bosnia and Herzegovina', {'weight': 1}), ('Cyprus', 'Slovenia', {'weight': 14}), ('Cyprus', 'Antigua and Barbuda', {'weight': 1}), ('Cyprus', 'Bahamas', {'weight': 1}), ('Cyprus', 'Barbados', {'weight': 1}), ('Cyprus', 'Belize', {'weight': 1}), ('Cyprus', 'Dominica', {'weight': 1}), ('Cyprus', 'Grenada', {'weight': 1}), ('Cyprus', 'Jamaica', {'weight': 1}), ('Cyprus', 'Montserrat', {'weight': 1}), ('Cyprus', 'Saint Lucia', {'weight': 1}), ('Cyprus', 'Suriname', {'weight': 1}), ('Cyprus', 'Saint Kitts and Nevis', {'weight': 1}), ('Cyprus', 'Saint Vincent and the Grenadines', {'weight': 1}), ('Cyprus', 'Dominican Republic', {'weight': 1}), ('Cyprus', 'Czech Republic', {'weight': 14}), ('Cyprus', 'Hungary', {'weight': 14}), ('Cyprus', 'Poland', {'weight': 14}), ('Cyprus', 'Slovak Republic', {'weight': 14}), ('Cyprus', 'Montenegro', {'weight': 1}), ('Cyprus', 'Malta', {'weight': 14}), ('Cyprus', 'Anguilla', {'weight': 1}), ('Cyprus', 'Aruba', {'weight': 1}), ('Cyprus', 'British Indian Ocean Territory', {'weight': 1}), ('Cyprus', 'Cayman Islands', {'weight': 1}), ('Cyprus', 'Falkland or Malvinas', {'weight': 1}), ('Cyprus', 'French Polynesia', {'weight': 1}), ('Cyprus', 'French Southern Territories', {'weight': 1}), ('Cyprus', 'Greenland', {'weight': 1}), ('Cyprus', 'Mayotte', {'weight': 1}), ('Cyprus', 'Netherlands Antilles', {'weight': 1}), ('Cyprus', 'New Caledonia', {'weight': 1}), ('Cyprus', 'Pitcairn', {'weight': 1}), ('Cyprus', 'Saint Helena', {'weight': 1}), ('Cyprus', 'Saint Pierre and Miquelon', {'weight': 1}), ('Cyprus', 'South Georgia and the South Sandwich Islands', {'weight': 1}), ('Cyprus', 'Turks and Caicos Islands', {'weight': 1}), ('Cyprus', 'Virgin Islands', {'weight': 1}), ('Cyprus', 'British', {'weight': 1}), ('Cyprus', 'Wallis and Futuna Islands', {'weight': 1}), ('Cyprus', 'San Marino', {'weight': 1}), ('Czech Republic', 'Croatia', {'weight': 4}), ('Czech Republic', 'Turkey', {'weight': 1}), ('Czech Republic', 'Estonia', {'weight': 15}), ('Czech Republic', 'Latvia', {'weight': 15}), ('Czech Republic', 'Lithuania', {'weight': 15}), ('Czech Republic', 'Bosnia and Herzegovina', {'weight': 1}), ('Czech Republic', 'Slovenia', {'weight': 19}), ('Czech Republic', 'Israel', {'weight': 1}), ('Czech Republic', 'Antigua and Barbuda', {'weight': 1}), ('Czech Republic', 'Bahamas', {'weight': 1}), ('Czech Republic', 'Barbados', {'weight': 1}), ('Czech Republic', 'Belize', {'weight': 1}), ('Czech Republic', 'Dominica', {'weight': 1}), ('Czech Republic', 'Grenada', {'weight': 1}), ('Czech Republic', 'Jamaica', {'weight': 1}), ('Czech Republic', 'Montserrat', {'weight': 1}), ('Czech Republic', 'Saint Lucia', {'weight': 1}), ('Czech Republic', 'Suriname', {'weight': 1}), ('Czech Republic', 'Saint Kitts and Nevis', {'weight': 1}), ('Czech Republic', 'Saint Vincent and the Grenadines', {'weight': 1}), ('Czech Republic', 'Dominican Republic', {'weight': 1}), ('Czech Republic', 'Hungary', {'weight': 20}), ('Czech Republic', 'Poland', {'weight': 20}), ('Czech Republic', 'Slovak Republic', {'weight': 21}), ('Czech Republic', 'Malta', {'weight': 14}), ('Czech Republic', 'Montenegro', {'weight': 1}), ('Czech Republic', 'Anguilla', {'weight': 1}), ('Czech Republic', 'Aruba', {'weight': 1}), ('Czech Republic', 'British Indian Ocean Territory', {'weight': 1}), ('Czech Republic', 'Cayman Islands', {'weight': 1}), ('Czech Republic', 'Falkland or Malvinas', {'weight': 1}), ('Czech Republic', 'French Polynesia', {'weight': 1}), ('Czech Republic', 'French Southern Territories', {'weight': 1}), ('Czech Republic', 'Greenland', {'weight': 1}), ('Czech Republic', 'Mayotte', {'weight': 1}), ('Czech Republic', 'Netherlands Antilles', {'weight': 1}), ('Czech Republic', 'New Caledonia', {'weight': 1}), ('Czech Republic', 'Pitcairn', {'weight': 1}), ('Czech Republic', 'Saint Helena', {'weight': 1}), ('Czech Republic', 'Saint Pierre and Miquelon', {'weight': 1}), ('Czech Republic', 'South Georgia and the South Sandwich Islands', {'weight': 1}), ('Czech Republic', 'Turks and Caicos Islands', {'weight': 1}), ('Czech Republic', 'Virgin Islands', {'weight': 1}), ('Czech Republic', 'British', {'weight': 1}), ('Czech Republic', 'Wallis and Futuna Islands', {'weight': 1}), ('Czech Republic', 'San Marino', {'weight': 1}), ('Estonia', 'Croatia', {'weight': 1}), ('Estonia', 'Turkey', {'weight': 1}), ('Estonia', 'Ukraine', {'weight': 1}), ('Estonia', 'Latvia', {'weight': 17}), ('Estonia', 'Lithuania', {'weight': 17}), ('Estonia', 'Hungary', {'weight': 15}), ('Estonia', 'Malta', {'weight': 14}), ('Estonia', 'Poland', {'weight': 14}), ('Estonia', 'Slovenia', {'weight': 15}), ('Estonia', 'Slovak Republic', {'weight': 15}), ('Estonia', 'Bosnia and Herzegovina', {'weight': 1}), ('Estonia', 'Antigua and Barbuda', {'weight': 1}), ('Estonia', 'Bahamas', {'weight': 1}), ('Estonia', 'Barbados', {'weight': 1}), ('Estonia', 'Belize', {'weight': 1}), ('Estonia', 'Dominica', {'weight': 1}), ('Estonia', 'Dominican Republic', {'weight': 1}), ('Estonia', 'Grenada', {'weight': 1}), ('Estonia', 'Jamaica', {'weight': 1}), ('Estonia', 'Saint Kitts and Nevis', {'weight': 1}), ('Estonia', 'Saint Lucia', {'weight': 1}), ('Estonia', 'Saint Vincent and the Grenadines', {'weight': 1}), ('Estonia', 'Suriname', {'weight': 1}), ('Estonia', 'Montenegro', {'weight': 1}), ('Estonia', 'Anguilla', {'weight': 1}), ('Estonia', 'Aruba', {'weight': 1}), ('Estonia', 'British Indian Ocean Territory', {'weight': 1}), ('Estonia', 'Cayman Islands', {'weight': 1}), ('Estonia', 'Falkland or Malvinas', {'weight': 1}), ('Estonia', 'French Polynesia', {'weight': 1}), ('Estonia', 'French Southern Territories', {'weight': 1}), ('Estonia', 'Greenland', {'weight': 1}), ('Estonia', 'Mayotte', {'weight': 1}), ('Estonia', 'Montserrat', {'weight': 1}), ('Estonia', 'Netherlands Antilles', {'weight': 1}), ('Estonia', 'New Caledonia', {'weight': 1}), ('Estonia', 'Pitcairn', {'weight': 1}), ('Estonia', 'Saint Helena', {'weight': 1}), ('Estonia', 'Saint Pierre and Miquelon', {'weight': 1}), ('Estonia', 'South Georgia and the South Sandwich Islands', {'weight': 1}), ('Estonia', 'Turks and Caicos Islands', {'weight': 1}), ('Estonia', 'Virgin Islands', {'weight': 1}), ('Estonia', 'British', {'weight': 1}), ('Estonia', 'Wallis and Futuna Islands', {'weight': 1}), ('Estonia', 'San Marino', {'weight': 1}), ('Estonia', 'Faroe Islands', {'weight': 1}), ('Hungary', 'Croatia', {'weight': 4}), ('Hungary', 'Turkey', {'weight': 1}), ('Hungary', 'Latvia', {'weight': 15}), ('Hungary', 'Lithuania', {'weight': 15}), ('Hungary', 'Bosnia and Herzegovina', {'weight': 1}), ('Hungary', 'Slovenia', {'weight': 19}), ('Hungary', 'Israel', {'weight': 1}), ('Hungary', 'Antigua and Barbuda', {'weight': 1}), ('Hungary', 'Bahamas', {'weight': 1}), ('Hungary', 'Barbados', {'weight': 1}), ('Hungary', 'Belize', {'weight': 1}), ('Hungary', 'Dominica', {'weight': 1}), ('Hungary', 'Grenada', {'weight': 1}), ('Hungary', 'Jamaica', {'weight': 1}), ('Hungary', 'Montserrat', {'weight': 1}), ('Hungary', 'Saint Lucia', {'weight': 1}), ('Hungary', 'Suriname', {'weight': 1}), ('Hungary', 'Saint Kitts and Nevis', {'weight': 1}), ('Hungary', 'Saint Vincent and the Grenadines', {'weight': 1}), ('Hungary', 'Dominican Republic', {'weight': 1}), ('Hungary', 'Poland', {'weight': 20}), ('Hungary', 'Slovak Republic', {'weight': 20}), ('Hungary', 'Malta', {'weight': 14}), ('Hungary', 'Montenegro', {'weight': 1}), ('Hungary', 'Anguilla', {'weight': 1}), ('Hungary', 'Aruba', {'weight': 1}), ('Hungary', 'British Indian Ocean Territory', {'weight': 1}), ('Hungary', 'Cayman Islands', {'weight': 1}), ('Hungary', 'Falkland or Malvinas', {'weight': 1}), ('Hungary', 'French Polynesia', {'weight': 1}), ('Hungary', 'French Southern Territories', {'weight': 1}), ('Hungary', 'Greenland', {'weight': 1}), ('Hungary', 'Mayotte', {'weight': 1}), ('Hungary', 'Netherlands Antilles', {'weight': 1}), ('Hungary', 'New Caledonia', {'weight': 1}), ('Hungary', 'Pitcairn', {'weight': 1}), ('Hungary', 'Saint Helena', {'weight': 1}), ('Hungary', 'Saint Pierre and Miquelon', {'weight': 1}), ('Hungary', 'South Georgia and the South Sandwich Islands', {'weight': 1}), ('Hungary', 'Turks and Caicos Islands', {'weight': 1}), ('Hungary', 'Virgin Islands', {'weight': 1}), ('Hungary', 'British', {'weight': 1}), ('Hungary', 'Wallis and Futuna Islands', {'weight': 1}), ('Hungary', 'San Marino', {'weight': 1}), ('Latvia', 'Croatia', {'weight': 1}), ('Latvia', 'Turkey', {'weight': 1}), ('Latvia', 'Lithuania', {'weight': 17}), ('Latvia', 'Malta', {'weight': 14}), ('Latvia', 'Poland', {'weight': 15}), ('Latvia', 'Slovenia', {'weight': 15}), ('Latvia', 'Slovak Republic', {'weight': 15}), ('Latvia', 'Bosnia and Herzegovina', {'weight': 1}), ('Latvia', 'Antigua and Barbuda', {'weight': 1}), ('Latvia', 'Bahamas', {'weight': 1}), ('Latvia', 'Barbados', {'weight': 1}), ('Latvia', 'Belize', {'weight': 1}), ('Latvia', 'Dominica', {'weight': 1}), ('Latvia', 'Dominican Republic', {'weight': 1}), ('Latvia', 'Grenada', {'weight': 1}), ('Latvia', 'Jamaica', {'weight': 1}), ('Latvia', 'Saint Kitts and Nevis', {'weight': 1}), ('Latvia', 'Saint Lucia', {'weight': 1}), ('Latvia', 'Saint Vincent and the Grenadines', {'weight': 1}), ('Latvia', 'Suriname', {'weight': 1}), ('Latvia', 'Montenegro', {'weight': 1}), ('Latvia', 'Anguilla', {'weight': 1}), ('Latvia', 'Aruba', {'weight': 1}), ('Latvia', 'British Indian Ocean Territory', {'weight': 1}), ('Latvia', 'Cayman Islands', {'weight': 1}), ('Latvia', 'Falkland or Malvinas', {'weight': 1}), ('Latvia', 'French Polynesia', {'weight': 1}), ('Latvia', 'French Southern Territories', {'weight': 1}), ('Latvia', 'Greenland', {'weight': 1}), ('Latvia', 'Mayotte', {'weight': 1}), ('Latvia', 'Montserrat', {'weight': 1}), ('Latvia', 'Netherlands Antilles', {'weight': 1}), ('Latvia', 'New Caledonia', {'weight': 1}), ('Latvia', 'Pitcairn', {'weight': 1}), ('Latvia', 'Saint Helena', {'weight': 1}), ('Latvia', 'Saint Pierre and Miquelon', {'weight': 1}), ('Latvia', 'South Georgia and the South Sandwich Islands', {'weight': 1}), ('Latvia', 'Turks and Caicos Islands', {'weight': 1}), ('Latvia', 'Virgin Islands', {'weight': 1}), ('Latvia', 'British', {'weight': 1}), ('Latvia', 'Wallis and Futuna Islands', {'weight': 1}), ('Latvia', 'San Marino', {'weight': 1}), ('Lithuania', 'Croatia', {'weight': 2}), ('Lithuania', 'Turkey', {'weight': 1}), ('Lithuania', 'Malta', {'weight': 14}), ('Lithuania', 'Poland', {'weight': 15}), ('Lithuania', 'Slovenia', {'weight': 15}), ('Lithuania', 'Slovak Republic', {'weight': 15}), ('Lithuania', 'Bosnia and Herzegovina', {'weight': 1}), ('Lithuania', 'Antigua and Barbuda', {'weight': 1}), ('Lithuania', 'Bahamas', {'weight': 1}), ('Lithuania', 'Barbados', {'weight': 1}), ('Lithuania', 'Belize', {'weight': 1}), ('Lithuania', 'Dominica', {'weight': 1}), ('Lithuania', 'Dominican Republic', {'weight': 1}), ('Lithuania', 'Grenada', {'weight': 1}), ('Lithuania', 'Jamaica', {'weight': 1}), ('Lithuania', 'Saint Kitts and Nevis', {'weight': 1}), ('Lithuania', 'Saint Lucia', {'weight': 1}), ('Lithuania', 'Saint Vincent and the Grenadines', {'weight': 1}), ('Lithuania', 'Suriname', {'weight': 1}), ('Lithuania', 'Montenegro', {'weight': 1}), ('Lithuania', 'Anguilla', {'weight': 1}), ('Lithuania', 'Aruba', {'weight': 1}), ('Lithuania', 'British Indian Ocean Territory', {'weight': 1}), ('Lithuania', 'Cayman Islands', {'weight': 1}), ('Lithuania', 'Falkland or Malvinas', {'weight': 1}), ('Lithuania', 'French Polynesia', {'weight': 1}), ('Lithuania', 'French Southern Territories', {'weight': 1}), ('Lithuania', 'Greenland', {'weight': 1}), ('Lithuania', 'Mayotte', {'weight': 1}), ('Lithuania', 'Montserrat', {'weight': 1}), ('Lithuania', 'Netherlands Antilles', {'weight': 1}), ('Lithuania', 'New Caledonia', {'weight': 1}), ('Lithuania', 'Pitcairn', {'weight': 1}), ('Lithuania', 'Saint Helena', {'weight': 1}), ('Lithuania', 'Saint Pierre and Miquelon', {'weight': 1}), ('Lithuania', 'South Georgia and the South Sandwich Islands', {'weight': 1}), ('Lithuania', 'Turks and Caicos Islands', {'weight': 1}), ('Lithuania', 'Virgin Islands', {'weight': 1}), ('Lithuania', 'British', {'weight': 1}), ('Lithuania', 'Wallis and Futuna Islands', {'weight': 1}), ('Lithuania', 'San Marino', {'weight': 1}), ('Malta', 'Croatia', {'weight': 1}), ('Malta', 'Bosnia and Herzegovina', {'weight': 1}), ('Malta', 'Slovenia', {'weight': 14}), ('Malta', 'Antigua and Barbuda', {'weight': 1}), ('Malta', 'Bahamas', {'weight': 1}), ('Malta', 'Barbados', {'weight': 1}), ('Malta', 'Belize', {'weight': 1}), ('Malta', 'Dominica', {'weight': 1}), ('Malta', 'Grenada', {'weight': 1}), ('Malta', 'Jamaica', {'weight': 1}), ('Malta', 'Montserrat', {'weight': 1}), ('Malta', 'Saint Lucia', {'weight': 1}), ('Malta', 'Suriname', {'weight': 1}), ('Malta', 'Saint Kitts and Nevis', {'weight': 1}), ('Malta', 'Saint Vincent and the Grenadines', {'weight': 1}), ('Malta', 'Dominican Republic', {'weight': 1}), ('Malta', 'Poland', {'weight': 14}), ('Malta', 'Slovak Republic', {'weight': 14}), ('Malta', 'Montenegro', {'weight': 1}), ('Malta', 'Anguilla', {'weight': 1}), ('Malta', 'Aruba', {'weight': 1}), ('Malta', 'British Indian Ocean Territory', {'weight': 1}), ('Malta', 'Cayman Islands', {'weight': 1}), ('Malta', 'Falkland or Malvinas', {'weight': 1}), ('Malta', 'French Polynesia', {'weight': 1}), ('Malta', 'French Southern Territories', {'weight': 1}), ('Malta', 'Greenland', {'weight': 1}), ('Malta', 'Mayotte', {'weight': 1}), ('Malta', 'Netherlands Antilles', {'weight': 1}), ('Malta', 'New Caledonia', {'weight': 1}), ('Malta', 'Pitcairn', {'weight': 1}), ('Malta', 'Saint Helena', {'weight': 1}), ('Malta', 'Saint Pierre and Miquelon', {'weight': 1}), ('Malta', 'South Georgia and the South Sandwich Islands', {'weight': 1}), ('Malta', 'Turks and Caicos Islands', {'weight': 1}), ('Malta', 'Virgin Islands', {'weight': 1}), ('Malta', 'British', {'weight': 1}), ('Malta', 'Wallis and Futuna Islands', {'weight': 1}), ('Malta', 'San Marino', {'weight': 1}), ('Poland', 'Croatia', {'weight': 4}), ('Poland', 'Turkey', {'weight': 1}), ('Poland', 'Bosnia and Herzegovina', {'weight': 1}), ('Poland', 'Slovenia', {'weight': 19}), ('Poland', 'Israel', {'weight': 1}), ('Poland', 'Antigua and Barbuda', {'weight': 1}), ('Poland', 'Bahamas', {'weight': 1}), ('Poland', 'Barbados', {'weight': 1}), ('Poland', 'Belize', {'weight': 1}), ('Poland', 'Dominica', {'weight': 1}), ('Poland', 'Grenada', {'weight': 1}), ('Poland', 'Jamaica', {'weight': 1}), ('Poland', 'Montserrat', {'weight': 1}), ('Poland', 'Saint Lucia', {'weight': 1}), ('Poland', 'Suriname', {'weight': 1}), ('Poland', 'Saint Kitts and Nevis', {'weight': 1}), ('Poland', 'Saint Vincent and the Grenadines', {'weight': 1}), ('Poland', 'Dominican Republic', {'weight': 1}), ('Poland', 'Slovak Republic', {'weight': 20}), ('Poland', 'Montenegro', {'weight': 1}), ('Poland', 'Anguilla', {'weight': 1}), ('Poland', 'Aruba', {'weight': 1}), ('Poland', 'British Indian Ocean Territory', {'weight': 1}), ('Poland', 'Cayman Islands', {'weight': 1}), ('Poland', 'Falkland or Malvinas', {'weight': 1}), ('Poland', 'French Polynesia', {'weight': 1}), ('Poland', 'French Southern Territories', {'weight': 1}), ('Poland', 'Greenland', {'weight': 1}), ('Poland', 'Mayotte', {'weight': 1}), ('Poland', 'Netherlands Antilles', {'weight': 1}), ('Poland', 'New Caledonia', {'weight': 1}), ('Poland', 'Pitcairn', {'weight': 1}), ('Poland', 'Saint Helena', {'weight': 1}), ('Poland', 'Saint Pierre and Miquelon', {'weight': 1}), ('Poland', 'South Georgia and the South Sandwich Islands', {'weight': 1}), ('Poland', 'Turks and Caicos Islands', {'weight': 1}), ('Poland', 'Virgin Islands', {'weight': 1}), ('Poland', 'British', {'weight': 1}), ('Poland', 'Wallis and Futuna Islands', {'weight': 1}), ('Poland', 'San Marino', {'weight': 1}), ('Poland', 'Faroe Islands', {'weight': 1}), ('Slovak Republic', 'Croatia', {'weight': 4}), ('Slovak Republic', 'Turkey', {'weight': 1}), ('Slovak Republic', 'Bosnia and Herzegovina', {'weight': 1}), ('Slovak Republic', 'Slovenia', {'weight': 19}), ('Slovak Republic', 'Israel', {'weight': 1}), ('Slovak Republic', 'Antigua and Barbuda', {'weight': 1}), ('Slovak Republic', 'Bahamas', {'weight': 1}), ('Slovak Republic', 'Barbados', {'weight': 1}), ('Slovak Republic', 'Belize', {'weight': 1}), ('Slovak Republic', 'Dominica', {'weight': 1}), ('Slovak Republic', 'Grenada', {'weight': 1}), ('Slovak Republic', 'Jamaica', {'weight': 1}), ('Slovak Republic', 'Montserrat', {'weight': 1}), ('Slovak Republic', 'Saint Lucia', {'weight': 1}), ('Slovak Republic', 'Suriname', {'weight': 1}), ('Slovak Republic', 'Saint Kitts and Nevis', {'weight': 1}), ('Slovak Republic', 'Saint Vincent and the Grenadines', {'weight': 1}), ('Slovak Republic', 'Dominican Republic', {'weight': 1}), ('Slovak Republic', 'Montenegro', {'weight': 1}), ('Slovak Republic', 'Anguilla', {'weight': 1}), ('Slovak Republic', 'Aruba', {'weight': 1}), ('Slovak Republic', 'British Indian Ocean Territory', {'weight': 1}), ('Slovak Republic', 'Cayman Islands', {'weight': 1}), ('Slovak Republic', 'Falkland or Malvinas', {'weight': 1}), ('Slovak Republic', 'French Polynesia', {'weight': 1}), ('Slovak Republic', 'French Southern Territories', {'weight': 1}), ('Slovak Republic', 'Greenland', {'weight': 1}), ('Slovak Republic', 'Mayotte', {'weight': 1}), ('Slovak Republic', 'Netherlands Antilles', {'weight': 1}), ('Slovak Republic', 'New Caledonia', {'weight': 1}), ('Slovak Republic', 'Pitcairn', {'weight': 1}), ('Slovak Republic', 'Saint Helena', {'weight': 1}), ('Slovak Republic', 'Saint Pierre and Miquelon', {'weight': 1}), ('Slovak Republic', 'South Georgia and the South Sandwich Islands', {'weight': 1}), ('Slovak Republic', 'Turks and Caicos Islands', {'weight': 1}), ('Slovak Republic', 'Virgin Islands', {'weight': 1}), ('Slovak Republic', 'British', {'weight': 1}), ('Slovak Republic', 'Wallis and Futuna Islands', {'weight': 1}), ('Slovak Republic', 'San Marino', {'weight': 1}), ('Slovenia', 'Croatia', {'weight': 5}), ('Slovenia', 'Turkey', {'weight': 1}), ('Slovenia', 'Bosnia and Herzegovina', {'weight': 2}), ('Slovenia', 'Antigua and Barbuda', {'weight': 1}), ('Slovenia', 'Bahamas', {'weight': 1}), ('Slovenia', 'Barbados', {'weight': 1}), ('Slovenia', 'Belize', {'weight': 1}), ('Slovenia', 'Dominica', {'weight': 1}), ('Slovenia', 'Dominican Republic', {'weight': 1}), ('Slovenia', 'Grenada', {'weight': 1}), ('Slovenia', 'Jamaica', {'weight': 1}), ('Slovenia', 'Saint Kitts and Nevis', {'weight': 1}), ('Slovenia', 'Saint Lucia', {'weight': 1}), ('Slovenia', 'Saint Vincent and the Grenadines', {'weight': 1}), ('Slovenia', 'Suriname', {'weight': 1}), ('Slovenia', 'Montenegro', {'weight': 1}), ('Slovenia', 'Anguilla', {'weight': 1}), ('Slovenia', 'Aruba', {'weight': 1}), ('Slovenia', 'British Indian Ocean Territory', {'weight': 1}), ('Slovenia', 'Cayman Islands', {'weight': 1}), ('Slovenia', 'Falkland or Malvinas', {'weight': 1}), ('Slovenia', 'French Polynesia', {'weight': 1}), ('Slovenia', 'French Southern Territories', {'weight': 1}), ('Slovenia', 'Greenland', {'weight': 1}), ('Slovenia', 'Mayotte', {'weight': 1}), ('Slovenia', 'Montserrat', {'weight': 1}), ('Slovenia', 'Netherlands Antilles', {'weight': 1}), ('Slovenia', 'New Caledonia', {'weight': 1}), ('Slovenia', 'Pitcairn', {'weight': 1}), ('Slovenia', 'Saint Helena', {'weight': 1}), ('Slovenia', 'Saint Pierre and Miquelon', {'weight': 1}), ('Slovenia', 'South Georgia and the South Sandwich Islands', {'weight': 1}), ('Slovenia', 'Turks and Caicos Islands', {'weight': 1}), ('Slovenia', 'Virgin Islands', {'weight': 1}), ('Slovenia', 'British', {'weight': 1}), ('Slovenia', 'Wallis and Futuna Islands', {'weight': 1}), ('Slovenia', 'San Marino', {'weight': 1}), ('Slovenia', 'Israel', {'weight': 1}), ('Slovenia', ' Macedonia', {'weight': 1}), ('Turkey', 'Afghanistan', {'weight': 1}), ('Turkey', 'Albania', {'weight': 1}), ('Turkey', 'Croatia', {'weight': 1}), ('Turkey', 'Azerbaijan', {'weight': 1}), ('Turkey', 'Kazakhstan', {'weight': 1}), ('Turkey', 'Kyrgyz Republic', {'weight': 1}), ('Turkey', 'Tajikistan', {'weight': 1}), ('Turkey', 'Turkmenistan', {'weight': 1}), ('Turkey', 'Uzbekistan', {'weight': 1}), ('Turkey', ' Macedonia', {'weight': 1}), ('Turkey', 'Georgia', {'weight': 1}), ('Turkey', 'Israel', {'weight': 3}), ('Turkey', 'Uruguay', {'weight': 1}), ('Turkey', 'Yugoslavia', {'weight': 1}), ('Turkey', 'Bosnia and Herzegovina', {'weight': 1}), ('Israel', 'Canada', {'weight': 1}), ('Israel', 'Uruguay', {'weight': 1}), ('Israel', 'Yugoslavia', {'weight': 1}), ('Israel', 'United States', {'weight': 1}), ('Uruguay', 'Paraguay', {'weight': 7}), ('Uruguay', 'Yugoslavia', {'weight': 1}), ('Afghanistan', 'Azerbaijan', {'weight': 1}), ('Afghanistan', 'Kazakhstan', {'weight': 1}), ('Afghanistan', 'Kyrgyz Republic', {'weight': 1}), ('Afghanistan', 'Tajikistan', {'weight': 1}), ('Afghanistan', 'Turkmenistan', {'weight': 1}), ('Afghanistan', 'Uzbekistan', {'weight': 1}), ('Azerbaijan', 'Moldova', {'weight': 2}), ('Azerbaijan', 'Armenia', {'weight': 1}), ('Azerbaijan', 'Georgia', {'weight': 3}), ('Azerbaijan', 'Kazakhstan', {'weight': 2}), ('Azerbaijan', 'Kyrgyz Republic', {'weight': 2}), ('Azerbaijan', 'Russia', {'weight': 1}), ('Azerbaijan', 'Turkmenistan', {'weight': 1}), ('Azerbaijan', 'Ukraine', {'weight': 3}), ('Azerbaijan', 'Belarus', {'weight': 1}), ('Azerbaijan', 'Tajikistan', {'weight': 2}), ('Azerbaijan', 'Uzbekistan', {'weight': 3}), ('Kazakhstan', 'Moldova', {'weight': 1}), ('Kazakhstan', 'Armenia', {'weight': 2}), ('Kazakhstan', 'Georgia', {'weight': 2}), ('Kazakhstan', 'Belarus', {'weight': 3}), ('Kazakhstan', 'Russia', {'weight': 3}), ('Kazakhstan', 'Ukraine', {'weight': 3}), ('Kazakhstan', 'Kyrgyz Republic', {'weight': 4}), ('Kazakhstan', 'Tajikistan', {'weight': 3}), ('Kazakhstan', 'Uzbekistan', {'weight': 2}), ('Kazakhstan', 'Turkmenistan', {'weight': 1}), ('Kyrgyz Republic', 'Moldova', {'weight': 2}), ('Kyrgyz Republic', 'Armenia', {'weight': 2}), ('Kyrgyz Republic', 'Georgia', {'weight': 1}), ('Kyrgyz Republic', 'Belarus', {'weight': 2}), ('Kyrgyz Republic', 'Russia', {'weight': 3}), ('Kyrgyz Republic', 'Tajikistan', {'weight': 3}), ('Kyrgyz Republic', 'Ukraine', {'weight': 2}), ('Kyrgyz Republic', 'Uzbekistan', {'weight': 3}), ('Kyrgyz Republic', 'Turkmenistan', {'weight': 1}), ('Tajikistan', 'Moldova', {'weight': 1}), ('Tajikistan', 'Armenia', {'weight': 1}), ('Tajikistan', 'Georgia', {'weight': 1}), ('Tajikistan', 'Russia', {'weight': 2}), ('Tajikistan', 'Turkmenistan', {'weight': 1}), ('Tajikistan', 'Ukraine', {'weight': 2}), ('Tajikistan', 'Belarus', {'weight': 2}), ('Tajikistan', 'Uzbekistan', {'weight': 2}), ('Turkmenistan', 'Armenia', {'weight': 1}), ('Turkmenistan', 'Georgia', {'weight': 1}), ('Turkmenistan', 'Uzbekistan', {'weight': 1}), ('Turkmenistan', 'Ukraine', {'weight': 1}), ('Uzbekistan', 'Moldova', {'weight': 2}), ('Uzbekistan', 'Armenia', {'weight': 1}), ('Uzbekistan', 'Georgia', {'weight': 2}), ('Uzbekistan', 'Russia', {'weight': 1}), ('Uzbekistan', 'Ukraine', {'weight': 3}), ('Uzbekistan', 'Belarus', {'weight': 1}), ('Brunei Darussalam', 'Australia', {'weight': 1}), ('Brunei Darussalam', 'New Zealand', {'weight': 2}), ('Brunei Darussalam', 'Cambodia', {'weight': 4}), ('Brunei Darussalam', 'Laos', {'weight': 4}), ('Brunei Darussalam', 'China', {'weight': 1}), ('Brunei Darussalam', 'Korea ', {'weight': 1}), ('Brunei Darussalam', 'Japan', {'weight': 2}), ('Cambodia', 'Laos', {'weight': 4}), ('Cambodia', 'China', {'weight': 1}), ('Cambodia', 'Korea ', {'weight': 1}), ('Laos', 'China', {'weight': 2}), ('Laos', 'Korea ', {'weight': 1}), ('China', 'New Zealand', {'weight': 1}), ('China', 'Hong Kong', {'weight': 1}), ('China', 'Macao', {'weight': 1}), ('Bhutan', 'Nepal', {'weight': 3}), ('Bhutan', 'Maldives', {'weight': 2}), ('Nepal', 'Maldives', {'weight': 2}), ('United States', 'Albania', {'weight': 1}), ('United States', 'Australia', {'weight': 1}), ('United States', 'Canada', {'weight': 1}), ('United States', 'Costa Rica', {'weight': 2}), ('United States', 'Dominican Republic', {'weight': 1}), ('United States', 'El Salvador', {'weight': 2}), ('United States', 'Guatemala', {'weight': 2}), ('United States', 'Honduras', {'weight': 2}), ('Albania', 'Croatia', {'weight': 2}), ('Albania', 'Moldova', {'weight': 2}), ('Albania', 'Kosovo', {'weight': 1}), ('Albania', 'Bosnia and Herzegovina', {'weight': 1}), ('Albania', 'Montenegro', {'weight': 1}), ('Albania', 'Serbia', {'weight': 1}), ('Croatia', 'Bosnia and Herzegovina', {'weight': 3}), ('Croatia', 'Croatia', {'weight': 1}), ('Croatia', 'Moldova', {'weight': 2}), ('Croatia', 'Montenegro', {'weight': 2}), ('Croatia', 'Serbia', {'weight': 2}), ('Croatia', ' Macedonia', {'weight': 1}), ('Moldova', 'Armenia', {'weight': 2}), ('Moldova', 'Bosnia and Herzegovina', {'weight': 1}), ('Moldova', 'Montenegro', {'weight': 2}), ('Moldova', 'Serbia', {'weight': 2}), ('Moldova', 'Belarus', {'weight': 1}), ('Moldova', 'Georgia', {'weight': 2}), ('Moldova', 'Russia', {'weight': 1}), ('Moldova', 'Ukraine', {'weight': 3}), ('Moldova', ' Macedonia', {'weight': 1}), ('Moldova', 'Bosnia and Herzegovina ', {'weight': 1}), ('Bosnia and Herzegovina', 'Montenegro', {'weight': 1}), ('Bosnia and Herzegovina', 'Serbia', {'weight': 1}), ('Montenegro', 'Serbia', {'weight': 4}), (' Macedonia', 'Ukraine', {'weight': 1}), ('Armenia', 'Georgia', {'weight': 2}), ('Armenia', 'Russia', {'weight': 2}), ('Armenia', 'Ukraine', {'weight': 2}), ('Armenia', 'Belarus', {'weight': 1}), ('Belarus', 'Georgia', {'weight': 1}), ('Belarus', 'Russia', {'weight': 3}), ('Belarus', 'Ukraine', {'weight': 3}), ('Georgia', 'Russia', {'weight': 2}), ('Georgia', 'Ukraine', {'weight': 3}), ('Russia', 'Ukraine', {'weight': 3}), ('Antigua and Barbuda', 'Costa Rica', {'weight': 1}), ('Antigua and Barbuda', 'Bahamas', {'weight': 4}), ('Antigua and Barbuda', 'Barbados', {'weight': 7}), ('Antigua and Barbuda', 'Belize', {'weight': 7}), ('Antigua and Barbuda', 'Dominica', {'weight': 7}), ('Antigua and Barbuda', 'Grenada', {'weight': 7}), ('Antigua and Barbuda', 'Jamaica', {'weight': 7}), ('Antigua and Barbuda', 'Montserrat', {'weight': 5}), ('Antigua and Barbuda', 'St Kitts-Nevis-Anguilla', {'weight': 1}), ('Antigua and Barbuda', 'St Lucia', {'weight': 1}), ('Antigua and Barbuda', 'St Vincent and the Grenadines', {'weight': 4}), ('Antigua and Barbuda', 'St Kitts and Nevis', {'weight': 3}), ('Antigua and Barbuda', 'Saint Lucia', {'weight': 6}), ('Antigua and Barbuda', 'Suriname', {'weight': 6}), ('Antigua and Barbuda', 'Haiti', {'weight': 2}), ('Antigua and Barbuda', 'Saint Kitts and Nevis', {'weight': 3}), ('Antigua and Barbuda', 'Saint Vincent and the Grenadines', {'weight': 3}), ('Antigua and Barbuda', 'Dominican Republic', {'weight': 2}), ('Bahamas', 'Barbados', {'weight': 4}), ('Bahamas', 'Belize', {'weight': 4}), ('Bahamas', 'Dominica', {'weight': 4}), ('Bahamas', 'Grenada', {'weight': 4}), ('Bahamas', 'Jamaica', {'weight': 4}), ('Bahamas', 'Montserrat', {'weight': 3}), ('Bahamas', 'St Kitts-Nevis-Anguilla', {'weight': 1}), ('Bahamas', 'St Lucia', {'weight': 1}), ('Bahamas', 'St Vincent and the Grenadines', {'weight': 1}), ('Bahamas', 'Haiti', {'weight': 2}), ('Bahamas', 'Saint Kitts and Nevis', {'weight': 3}), ('Bahamas', 'Saint Lucia', {'weight': 3}), ('Bahamas', 'Saint Vincent and the Grenadines', {'weight': 3}), ('Bahamas', 'Suriname', {'weight': 3}), ('Bahamas', 'Dominican Republic', {'weight': 1}), ('Barbados', 'Costa Rica', {'weight': 1}), ('Barbados', 'Belize', {'weight': 7}), ('Barbados', 'Dominica', {'weight': 7}), ('Barbados', 'Grenada', {'weight': 7}), ('Barbados', 'Jamaica', {'weight': 7}), ('Barbados', 'Montserrat', {'weight': 5}), ('Barbados', 'St Kitts-Nevis-Anguilla', {'weight': 1}), ('Barbados', 'St Lucia', {'weight': 1}), ('Barbados', 'St Vincent and the Grenadines', {'weight': 4}), ('Barbados', 'St Kitts and Nevis', {'weight': 3}), ('Barbados', 'Saint Lucia', {'weight': 6}), ('Barbados', 'Suriname', {'weight': 6}), ('Barbados', 'Haiti', {'weight': 2}), ('Barbados', 'Saint Kitts and Nevis', {'weight': 3}), ('Barbados', 'Saint Vincent and the Grenadines', {'weight': 3}), ('Barbados', 'Dominican Republic', {'weight': 2}), ('Belize', 'Costa Rica', {'weight': 1}), ('Belize', 'Dominica', {'weight': 7}), ('Belize', 'Grenada', {'weight': 7}), ('Belize', 'Jamaica', {'weight': 7}), ('Belize', 'Montserrat', {'weight': 5}), ('Belize', 'St Kitts-Nevis-Anguilla', {'weight': 1}), ('Belize', 'St Lucia', {'weight': 1}), ('Belize', 'St Vincent and the Grenadines', {'weight': 4}), ('Belize', 'St Kitts and Nevis', {'weight': 3}), ('Belize', 'Saint Lucia', {'weight': 6}), ('Belize', 'Suriname', {'weight': 6}), ('Belize', 'Haiti', {'weight': 2}), ('Belize', 'Saint Kitts and Nevis', {'weight': 3}), ('Belize', 'Saint Vincent and the Grenadines', {'weight': 3}), ('Belize', 'Dominican Republic', {'weight': 2}), ('Dominica', 'Costa Rica', {'weight': 1}), ('Dominica', 'Grenada', {'weight': 7}), ('Dominica', 'Jamaica', {'weight': 7}), ('Dominica', 'Montserrat', {'weight': 5}), ('Dominica', 'St Kitts-Nevis-Anguilla', {'weight': 1}), ('Dominica', 'St Lucia', {'weight': 1}), ('Dominica', 'St Vincent and the Grenadines', {'weight': 4}), ('Dominica', 'St Kitts and Nevis', {'weight': 3}), ('Dominica', 'Saint Lucia', {'weight': 6}), ('Dominica', 'Suriname', {'weight': 6}), ('Dominica', 'Haiti', {'weight': 2}), ('Dominica', 'Saint Kitts and Nevis', {'weight': 3}), ('Dominica', 'Saint Vincent and the Grenadines', {'weight': 3}), ('Dominica', 'Dominican Republic', {'weight': 2}), ('Dominican Republic', 'Costa Rica', {'weight': 1}), ('Dominican Republic', 'Grenada', {'weight': 2}), ('Dominican Republic', 'Jamaica', {'weight': 2}), ('Dominican Republic', 'Montserrat', {'weight': 1}), ('Dominican Republic', 'St Vincent and the Grenadines', {'weight': 1}), ('Dominican Republic', 'St Kitts and Nevis', {'weight': 1}), ('Dominican Republic', 'Saint Lucia', {'weight': 2}), ('Dominican Republic', 'Suriname', {'weight': 2}), ('Dominican Republic', 'Saint Kitts and Nevis', {'weight': 1}), ('Dominican Republic', 'Saint Vincent and the Grenadines', {'weight': 1}), ('Dominican Republic', 'El Salvador', {'weight': 1}), ('Dominican Republic', 'Guatemala', {'weight': 1}), ('Dominican Republic', 'Honduras', {'weight': 1}), ('Dominican Republic', 'Panama', {'weight': 1}), ('Grenada', 'Costa Rica', {'weight': 1}), ('Grenada', 'Jamaica', {'weight': 7}), ('Grenada', 'Montserrat', {'weight': 5}), ('Grenada', 'St Kitts-Nevis-Anguilla', {'weight': 1}), ('Grenada', 'St Lucia', {'weight': 1}), ('Grenada', 'St Vincent and the Grenadines', {'weight': 4}), ('Grenada', 'St Kitts and Nevis', {'weight': 3}), ('Grenada', 'Saint Lucia', {'weight': 6}), ('Grenada', 'Suriname', {'weight': 6}), ('Grenada', 'Haiti', {'weight': 2}), ('Grenada', 'Saint Kitts and Nevis', {'weight': 3}), ('Grenada', 'Saint Vincent and the Grenadines', {'weight': 3}), ('Jamaica', 'Costa Rica', {'weight': 1}), ('Jamaica', 'Montserrat', {'weight': 5}), ('Jamaica', 'St Kitts-Nevis-Anguilla', {'weight': 1}), ('Jamaica', 'St Lucia', {'weight': 1}), ('Jamaica', 'St Vincent and the Grenadines', {'weight': 4}), ('Jamaica', 'St Kitts and Nevis', {'weight': 3}), ('Jamaica', 'Saint Lucia', {'weight': 6}), ('Jamaica', 'Suriname', {'weight': 6}), ('Jamaica', 'Haiti', {'weight': 2}), ('Jamaica', 'Saint Kitts and Nevis', {'weight': 3}), ('Jamaica', 'Saint Vincent and the Grenadines', {'weight': 3}), ('Saint Kitts and Nevis', 'Montserrat', {'weight': 2}), ('Saint Kitts and Nevis', 'Saint Lucia', {'weight': 3}), ('Saint Kitts and Nevis', 'Suriname', {'weight': 3}), ('Saint Kitts and Nevis', 'Haiti', {'weight': 2}), ('Saint Kitts and Nevis', 'Saint Vincent and the Grenadines', {'weight': 3}), ('Saint Lucia', 'Costa Rica', {'weight': 1}), ('Saint Lucia', 'Montserrat', {'weight': 4}), ('Saint Lucia', 'St Vincent and the Grenadines', {'weight': 3}), ('Saint Lucia', 'St Kitts and Nevis', {'weight': 3}), ('Saint Lucia', 'Suriname', {'weight': 6}), ('Saint Lucia', 'Haiti', {'weight': 2}), ('Saint Lucia', 'Saint Vincent and the Grenadines', {'weight': 3}), ('Saint Vincent and the Grenadines', 'Montserrat', {'weight': 2}), ('Saint Vincent and the Grenadines', 'Suriname', {'weight': 3}), ('Saint Vincent and the Grenadines', 'Haiti', {'weight': 2}), ('Suriname', 'Costa Rica', {'weight': 1}), ('Suriname', 'Montserrat', {'weight': 4}), ('Suriname', 'St Vincent and the Grenadines', {'weight': 3}), ('Suriname', 'St Kitts and Nevis', {'weight': 3}), ('Suriname', 'Haiti', {'weight': 2}), ('Anguilla', 'Montserrat', {'weight': 1}), ('Anguilla', 'Aruba', {'weight': 1}), ('Anguilla', 'British Indian Ocean Territory', {'weight': 1}), ('Anguilla', 'Cayman Islands', {'weight': 1}), ('Anguilla', 'Falkland or Malvinas', {'weight': 1}), ('Anguilla', 'French Polynesia', {'weight': 1}), ('Anguilla', 'French Southern Territories', {'weight': 1}), ('Anguilla', 'Greenland', {'weight': 1}), ('Anguilla', 'Mayotte', {'weight': 1}), ('Anguilla', 'Netherlands Antilles', {'weight': 1}), ('Anguilla', 'New Caledonia', {'weight': 1}), ('Anguilla', 'Pitcairn', {'weight': 1}), ('Anguilla', 'Saint Helena', {'weight': 1}), ('Anguilla', 'Saint Pierre and Miquelon', {'weight': 1}), ('Anguilla', 'South Georgia and the South Sandwich Islands', {'weight': 1}), ('Anguilla', 'Turks and Caicos Islands', {'weight': 1}), ('Anguilla', 'Virgin Islands', {'weight': 1}), ('Anguilla', 'British', {'weight': 1}), ('Anguilla', 'Wallis and Futuna Islands', {'weight': 1}), ('Aruba', 'Montserrat', {'weight': 1}), ('Aruba', 'British Indian Ocean Territory', {'weight': 1}), ('Aruba', 'Cayman Islands', {'weight': 1}), ('Aruba', 'Falkland or Malvinas', {'weight': 1}), ('Aruba', 'French Polynesia', {'weight': 1}), ('Aruba', 'French Southern Territories', {'weight': 1}), ('Aruba', 'Greenland', {'weight': 1}), ('Aruba', 'Mayotte', {'weight': 1}), ('Aruba', 'Netherlands Antilles', {'weight': 1}), ('Aruba', 'New Caledonia', {'weight': 1}), ('Aruba', 'Pitcairn', {'weight': 1}), ('Aruba', 'Saint Helena', {'weight': 1}), ('Aruba', 'Saint Pierre and Miquelon', {'weight': 1}), ('Aruba', 'South Georgia and the South Sandwich Islands', {'weight': 1}), ('Aruba', 'Turks and Caicos Islands', {'weight': 1}), ('Aruba', 'Virgin Islands', {'weight': 1}), ('Aruba', 'British', {'weight': 1}), ('Aruba', 'Wallis and Futuna Islands', {'weight': 1}), ('British Indian Ocean Territory', 'Montserrat', {'weight': 1}), ('British Indian Ocean Territory', 'Cayman Islands', {'weight': 1}), ('British Indian Ocean Territory', 'Falkland or Malvinas', {'weight': 1}), ('British Indian Ocean Territory', 'French Polynesia', {'weight': 1}), ('British Indian Ocean Territory', 'French Southern Territories', {'weight': 1}), ('British Indian Ocean Territory', 'Greenland', {'weight': 1}), ('British Indian Ocean Territory', 'Mayotte', {'weight': 1}), ('British Indian Ocean Territory', 'Netherlands Antilles', {'weight': 1}), ('British Indian Ocean Territory', 'New Caledonia', {'weight': 1}), ('British Indian Ocean Territory', 'Pitcairn', {'weight': 1}), ('British Indian Ocean Territory', 'Saint Helena', {'weight': 1}), ('British Indian Ocean Territory', 'Saint Pierre and Miquelon', {'weight': 1}), ('British Indian Ocean Territory', 'South Georgia and the South Sandwich Islands', {'weight': 1}), ('British Indian Ocean Territory', 'Turks and Caicos Islands', {'weight': 1}), ('British Indian Ocean Territory', 'Virgin Islands', {'weight': 1}), ('British Indian Ocean Territory', 'British', {'weight': 1}), ('British Indian Ocean Territory', 'Wallis and Futuna Islands', {'weight': 1}), ('Cayman Islands', 'Montserrat', {'weight': 1}), ('Cayman Islands', 'Falkland or Malvinas', {'weight': 1}), ('Cayman Islands', 'French Polynesia', {'weight': 1}), ('Cayman Islands', 'French Southern Territories', {'weight': 1}), ('Cayman Islands', 'Greenland', {'weight': 1}), ('Cayman Islands', 'Mayotte', {'weight': 1}), ('Cayman Islands', 'Netherlands Antilles', {'weight': 1}), ('Cayman Islands', 'New Caledonia', {'weight': 1}), ('Cayman Islands', 'Pitcairn', {'weight': 1}), ('Cayman Islands', 'Saint Helena', {'weight': 1}), ('Cayman Islands', 'Saint Pierre and Miquelon', {'weight': 1}), ('Cayman Islands', 'South Georgia and the South Sandwich Islands', {'weight': 1}), ('Cayman Islands', 'Turks and Caicos Islands', {'weight': 1}), ('Cayman Islands', 'Virgin Islands', {'weight': 1}), ('Cayman Islands', 'British', {'weight': 1}), ('Cayman Islands', 'Wallis and Futuna Islands', {'weight': 1}), ('Falkland or Malvinas', 'Montserrat', {'weight': 1}), ('Falkland or Malvinas', 'French Polynesia', {'weight': 1}), ('Falkland or Malvinas', 'French Southern Territories', {'weight': 1}), ('Falkland or Malvinas', 'Greenland', {'weight': 1}), ('Falkland or Malvinas', 'Mayotte', {'weight': 1}), ('Falkland or Malvinas', 'Netherlands Antilles', {'weight': 1}), ('Falkland or Malvinas', 'New Caledonia', {'weight': 1}), ('Falkland or Malvinas', 'Pitcairn', {'weight': 1}), ('Falkland or Malvinas', 'Saint Helena', {'weight': 1}), ('Falkland or Malvinas', 'Saint Pierre and Miquelon', {'weight': 1}), ('Falkland or Malvinas', 'South Georgia and the South Sandwich Islands', {'weight': 1}), ('Falkland or Malvinas', 'Turks and Caicos Islands', {'weight': 1}), ('Falkland or Malvinas', 'Virgin Islands', {'weight': 1}), ('Falkland or Malvinas', 'British', {'weight': 1}), ('Falkland or Malvinas', 'Wallis and Futuna Islands', {'weight': 1}), ('French Polynesia', 'Montserrat', {'weight': 1}), ('French Polynesia', 'French Southern Territories', {'weight': 1}), ('French Polynesia', 'Greenland', {'weight': 1}), ('French Polynesia', 'Mayotte', {'weight': 1}), ('French Polynesia', 'Netherlands Antilles', {'weight': 1}), ('French Polynesia', 'New Caledonia', {'weight': 1}), ('French Polynesia', 'Pitcairn', {'weight': 1}), ('French Polynesia', 'Saint Helena', {'weight': 1}), ('French Polynesia', 'Saint Pierre and Miquelon', {'weight': 1}), ('French Polynesia', 'South Georgia and the South Sandwich Islands', {'weight': 1}), ('French Polynesia', 'Turks and Caicos Islands', {'weight': 1}), ('French Polynesia', 'Virgin Islands', {'weight': 1}), ('French Polynesia', 'British', {'weight': 1}), ('French Polynesia', 'Wallis and Futuna Islands', {'weight': 1}), ('French Southern Territories', 'Montserrat', {'weight': 1}), ('French Southern Territories', 'Greenland', {'weight': 1}), ('French Southern Territories', 'Mayotte', {'weight': 1}), ('French Southern Territories', 'Netherlands Antilles', {'weight': 1}), ('French Southern Territories', 'New Caledonia', {'weight': 1}), ('French Southern Territories', 'Pitcairn', {'weight': 1}), ('French Southern Territories', 'Saint Helena', {'weight': 1}), ('French Southern Territories', 'Saint Pierre and Miquelon', {'weight': 1}), ('French Southern Territories', 'South Georgia and the South Sandwich Islands', {'weight': 1}), ('French Southern Territories', 'Turks and Caicos Islands', {'weight': 1}), ('French Southern Territories', 'Virgin Islands', {'weight': 1}), ('French Southern Territories', 'British', {'weight': 1}), ('French Southern Territories', 'Wallis and Futuna Islands', {'weight': 1}), ('Greenland', 'Montserrat', {'weight': 1}), ('Greenland', 'Mayotte', {'weight': 1}), ('Greenland', 'Netherlands Antilles', {'weight': 1}), ('Greenland', 'New Caledonia', {'weight': 1}), ('Greenland', 'Pitcairn', {'weight': 1}), ('Greenland', 'Saint Helena', {'weight': 1}), ('Greenland', 'Saint Pierre and Miquelon', {'weight': 1}), ('Greenland', 'South Georgia and the South Sandwich Islands', {'weight': 1}), ('Greenland', 'Turks and Caicos Islands', {'weight': 1}), ('Greenland', 'Virgin Islands', {'weight': 1}), ('Greenland', 'British', {'weight': 1}), ('Greenland', 'Wallis and Futuna Islands', {'weight': 1}), ('Mayotte', 'Montserrat', {'weight': 1}), ('Mayotte', 'Netherlands Antilles', {'weight': 1}), ('Mayotte', 'New Caledonia', {'weight': 1}), ('Mayotte', 'Pitcairn', {'weight': 1}), ('Mayotte', 'Saint Helena', {'weight': 1}), ('Mayotte', 'Saint Pierre and Miquelon', {'weight': 1}), ('Mayotte', 'South Georgia and the South Sandwich Islands', {'weight': 1}), ('Mayotte', 'Turks and Caicos Islands', {'weight': 1}), ('Mayotte', 'Virgin Islands', {'weight': 1}), ('Mayotte', 'British', {'weight': 1}), ('Mayotte', 'Wallis and Futuna Islands', {'weight': 1}), ('Montserrat', 'St Kitts-Nevis-Anguilla', {'weight': 1}), ('Montserrat', 'St Lucia', {'weight': 1}), ('Montserrat', 'St Vincent and the Grenadines', {'weight': 3}), ('Montserrat', 'St Kitts and Nevis', {'weight': 2}), ('Montserrat', 'Haiti', {'weight': 2}), ('Montserrat', 'Netherlands Antilles', {'weight': 1}), ('Montserrat', 'New Caledonia', {'weight': 1}), ('Montserrat', 'Pitcairn', {'weight': 1}), ('Montserrat', 'Saint Helena', {'weight': 1}), ('Montserrat', 'Saint Pierre and Miquelon', {'weight': 1}), ('Montserrat', 'South Georgia and the South Sandwich Islands', {'weight': 1}), ('Montserrat', 'Turks and Caicos Islands', {'weight': 1}), ('Montserrat', 'Virgin Islands', {'weight': 1}), ('Montserrat', 'British', {'weight': 1}), ('Montserrat', 'Wallis and Futuna Islands', {'weight': 1}), ('Netherlands Antilles', 'New Caledonia', {'weight': 1}), ('Netherlands Antilles', 'Pitcairn', {'weight': 1}), ('Netherlands Antilles', 'Saint Helena', {'weight': 1}), ('Netherlands Antilles', 'Saint Pierre and Miquelon', {'weight': 1}), ('Netherlands Antilles', 'South Georgia and the South Sandwich Islands', {'weight': 1}), ('Netherlands Antilles', 'Turks and Caicos Islands', {'weight': 1}), ('Netherlands Antilles', 'Virgin Islands', {'weight': 1}), ('Netherlands Antilles', 'British', {'weight': 1}), ('Netherlands Antilles', 'Wallis and Futuna Islands', {'weight': 1}), ('New Caledonia', 'Pitcairn', {'weight': 1}), ('New Caledonia', 'Saint Helena', {'weight': 1}), ('New Caledonia', 'Saint Pierre and Miquelon', {'weight': 1}), ('New Caledonia', 'South Georgia and the South Sandwich Islands', {'weight': 1}), ('New Caledonia', 'Turks and Caicos Islands', {'weight': 1}), ('New Caledonia', 'Virgin Islands', {'weight': 1}), ('New Caledonia', 'British', {'weight': 1}), ('New Caledonia', 'Wallis and Futuna Islands', {'weight': 1}), ('Pitcairn', 'Saint Helena', {'weight': 1}), ('Pitcairn', 'Saint Pierre and Miquelon', {'weight': 1}), ('Pitcairn', 'South Georgia and the South Sandwich Islands', {'weight': 1}), ('Pitcairn', 'Turks and Caicos Islands', {'weight': 1}), ('Pitcairn', 'Virgin Islands', {'weight': 1}), ('Pitcairn', 'British', {'weight': 1}), ('Pitcairn', 'Wallis and Futuna Islands', {'weight': 1}), ('Saint Helena', 'Saint Pierre and Miquelon', {'weight': 1}), ('Saint Helena', 'South Georgia and the South Sandwich Islands', {'weight': 1}), ('Saint Helena', 'Turks and Caicos Islands', {'weight': 1}), ('Saint Helena', 'Virgin Islands', {'weight': 1}), ('Saint Helena', 'British', {'weight': 1}), ('Saint Helena', 'Wallis and Futuna Islands', {'weight': 1}), ('Saint Pierre and Miquelon', 'South Georgia and the South Sandwich Islands', {'weight': 1}), ('Saint Pierre and Miquelon', 'Turks and Caicos Islands', {'weight': 1}), ('Saint Pierre and Miquelon', 'Virgin Islands', {'weight': 1}), ('Saint Pierre and Miquelon', 'British', {'weight': 1}), ('Saint Pierre and Miquelon', 'Wallis and Futuna Islands', {'weight': 1}), ('South Georgia and the South Sandwich Islands', 'Turks and Caicos Islands', {'weight': 1}), ('South Georgia and the South Sandwich Islands', 'Virgin Islands', {'weight': 1}), ('South Georgia and the South Sandwich Islands', 'British', {'weight': 1}), ('South Georgia and the South Sandwich Islands', 'Wallis and Futuna Islands', {'weight': 1}), ('Turks and Caicos Islands', 'Virgin Islands', {'weight': 1}), ('Turks and Caicos Islands', 'British', {'weight': 1}), ('Turks and Caicos Islands', 'Wallis and Futuna Islands', {'weight': 1}), ('Virgin Islands', 'British', {'weight': 1}), ('Virgin Islands', 'Wallis and Futuna Islands', {'weight': 1}), ('British', 'Wallis and Futuna Islands', {'weight': 1}), ('Canada', 'Costa Rica', {'weight': 1}), ('St Kitts and Nevis', 'Costa Rica', {'weight': 1}), ('St Kitts and Nevis', 'St Vincent and the Grenadines', {'weight': 3}), ('St Vincent and the Grenadines', 'Costa Rica', {'weight': 1}), ('St Vincent and the Grenadines', 'St Kitts-Nevis-Anguilla', {'weight': 1}), ('St Vincent and the Grenadines', 'St Lucia', {'weight': 1}), ('Australia', 'New Zealand', {'weight': 3}), ('Australia', 'Papua New Guinea', {'weight': 2}), ('Australia', 'Cook Islands', {'weight': 1}), ('Australia', 'Fiji', {'weight': 1}), ('Australia', 'Kiribati', {'weight': 1}), ('Australia', 'Nauru', {'weight': 1}), ('Australia', 'Niue', {'weight': 1}), ('Australia', 'Solomon Islands', {'weight': 1}), ('Australia', 'Tonga', {'weight': 1}), ('Australia', 'Tuvalu', {'weight': 1}), ('Australia', 'Western Samoa', {'weight': 1}), ('New Zealand', 'Cook Islands', {'weight': 1}), ('New Zealand', 'Fiji', {'weight': 1}), ('New Zealand', 'Kiribati', {'weight': 1}), ('New Zealand', 'Nauru', {'weight': 1}), ('New Zealand', 'Niue', {'weight': 1}), ('New Zealand', 'Papua New Guinea', {'weight': 1}), ('New Zealand', 'Solomon Islands', {'weight': 1}), ('New Zealand', 'Tonga', {'weight': 1}), ('New Zealand', 'Tuvalu', {'weight': 1}), ('New Zealand', 'Western Samoa', {'weight': 1}), ('Papua New Guinea', 'Solomon Islands', {'weight': 3}), ('Papua New Guinea', 'Vanuatu ', {'weight': 1}), ('Papua New Guinea', 'Cook Islands', {'weight': 2}), ('Papua New Guinea', 'Fiji', {'weight': 2}), ('Papua New Guinea', 'Kiribati', {'weight': 2}), ('Papua New Guinea', 'Marshall Islands', {'weight': 1}), ('Papua New Guinea', 'Micronesia', {'weight': 1}), ('Papua New Guinea', 'Nauru', {'weight': 2}), ('Papua New Guinea', 'Niue', {'weight': 2}), ('Papua New Guinea', 'Palau', {'weight': 1}), ('Papua New Guinea', 'Samoa', {'weight': 1}), ('Papua New Guinea', 'Tonga', {'weight': 2}), ('Papua New Guinea', 'Tuvalu', {'weight': 2}), ('Papua New Guinea', 'Vanuatu', {'weight': 1}), ('Papua New Guinea', 'Western Samoa', {'weight': 1}), ('Cook Islands', 'Solomon Islands', {'weight': 2}), ('Cook Islands', 'Fiji', {'weight': 2}), ('Cook Islands', 'Kiribati', {'weight': 2}), ('Cook Islands', 'Marshall Islands', {'weight': 1}), ('Cook Islands', 'Micronesia', {'weight': 1}), ('Cook Islands', 'Nauru', {'weight': 2}), ('Cook Islands', 'Niue', {'weight': 2}), ('Cook Islands', 'Palau', {'weight': 1}), ('Cook Islands', 'Samoa', {'weight': 1}), ('Cook Islands', 'Tonga', {'weight': 2}), ('Cook Islands', 'Tuvalu', {'weight': 2}), ('Cook Islands', 'Vanuatu', {'weight': 1}), ('Cook Islands', 'Western Samoa', {'weight': 1}), ('Fiji', 'Solomon Islands', {'weight': 2}), ('Fiji', 'Kiribati', {'weight': 2}), ('Fiji', 'Marshall Islands', {'weight': 1}), ('Fiji', 'Micronesia', {'weight': 1}), ('Fiji', 'Nauru', {'weight': 2}), ('Fiji', 'Niue', {'weight': 2}), ('Fiji', 'Palau', {'weight': 1}), ('Fiji', 'Samoa', {'weight': 1}), ('Fiji', 'Tonga', {'weight': 2}), ('Fiji', 'Tuvalu', {'weight': 2}), ('Fiji', 'Vanuatu', {'weight': 1}), ('Fiji', 'Western Samoa', {'weight': 1}), ('Kiribati', 'Solomon Islands', {'weight': 2}), ('Kiribati', 'Marshall Islands', {'weight': 1}), ('Kiribati', 'Micronesia', {'weight': 1}), ('Kiribati', 'Nauru', {'weight': 2}), ('Kiribati', 'Niue', {'weight': 2}), ('Kiribati', 'Palau', {'weight': 1}), ('Kiribati', 'Samoa', {'weight': 1}), ('Kiribati', 'Tonga', {'weight': 2}), ('Kiribati', 'Tuvalu', {'weight': 2}), ('Kiribati', 'Vanuatu', {'weight': 1}), ('Kiribati', 'Western Samoa', {'weight': 1}), ('Nauru', 'Solomon Islands', {'weight': 2}), ('Nauru', 'Marshall Islands', {'weight': 1}), ('Nauru', 'Micronesia', {'weight': 1}), ('Nauru', 'Niue', {'weight': 2}), ('Nauru', 'Palau', {'weight': 1}), ('Nauru', 'Samoa', {'weight': 1}), ('Nauru', 'Tonga', {'weight': 2}), ('Nauru', 'Tuvalu', {'weight': 2}), ('Nauru', 'Vanuatu', {'weight': 1}), ('Nauru', 'Western Samoa', {'weight': 1}), ('Niue', 'Solomon Islands', {'weight': 2}), ('Niue', 'Marshall Islands', {'weight': 1}), ('Niue', 'Micronesia', {'weight': 1}), ('Niue', 'Palau', {'weight': 1}), ('Niue', 'Samoa', {'weight': 1}), ('Niue', 'Tonga', {'weight': 2}), ('Niue', 'Tuvalu', {'weight': 2}), ('Niue', 'Vanuatu', {'weight': 1}), ('Niue', 'Western Samoa', {'weight': 1}), ('Solomon Islands', 'Vanuatu ', {'weight': 1}), ('Solomon Islands', 'Marshall Islands', {'weight': 1}), ('Solomon Islands', 'Micronesia', {'weight': 1}), ('Solomon Islands', 'Palau', {'weight': 1}), ('Solomon Islands', 'Samoa', {'weight': 1}), ('Solomon Islands', 'Tonga', {'weight': 2}), ('Solomon Islands', 'Tuvalu', {'weight': 2}), ('Solomon Islands', 'Vanuatu', {'weight': 1}), ('Solomon Islands', 'Western Samoa', {'weight': 1}), ('Tonga', 'Marshall Islands', {'weight': 1}), ('Tonga', 'Micronesia', {'weight': 1}), ('Tonga', 'Palau', {'weight': 1}), ('Tonga', 'Samoa', {'weight': 1}), ('Tonga', 'Tuvalu', {'weight': 2}), ('Tonga', 'Vanuatu', {'weight': 1}), ('Tonga', 'Western Samoa', {'weight': 1}), ('Tuvalu', 'Marshall Islands', {'weight': 1}), ('Tuvalu', 'Micronesia', {'weight': 1}), ('Tuvalu', 'Palau', {'weight': 1}), ('Tuvalu', 'Samoa', {'weight': 1}), ('Tuvalu', 'Vanuatu', {'weight': 1}), ('Tuvalu', 'Western Samoa', {'weight': 1}), ('Costa Rica', 'El Salvador', {'weight': 4}), ('Costa Rica', 'Guatemala', {'weight': 4}), ('Costa Rica', 'Honduras', {'weight': 4}), ('Costa Rica', 'Panama', {'weight': 1}), ('El Salvador', 'Guatemala', {'weight': 9}), ('El Salvador', 'Honduras', {'weight': 10}), ('El Salvador', 'Taiwan', {'weight': 1}), ('El Salvador', 'Panama', {'weight': 1}), ('Guatemala', 'Honduras', {'weight': 9}), ('Honduras', 'Taiwan', {'weight': 1}), ('Honduras', 'Panama', {'weight': 1}), ('Panama', 'Taiwan', {'weight': 1}), ('Panama', 'Singapore ', {'weight': 1}), ('Marshall Islands', 'Micronesia', {'weight': 1}), ('Marshall Islands', 'Palau', {'weight': 1}), ('Marshall Islands', 'Samoa', {'weight': 1}), ('Marshall Islands', 'Vanuatu', {'weight': 1}), ('Micronesia', 'Palau', {'weight': 1}), ('Micronesia', 'Samoa', {'weight': 1}), ('Micronesia', 'Vanuatu', {'weight': 1}), ('Palau', 'Samoa', {'weight': 1}), ('Palau', 'Vanuatu', {'weight': 1}), ('Samoa', 'Vanuatu', {'weight': 1}), ('St Kitts-Nevis-Anguilla', 'St Lucia', {'weight': 1})]\n"
     ]
    }
   ],
   "source": [
    "trade_G = nx.Graph()\n",
    "for cell in tradeData.Membership:\n",
    "    allPairs=combinations(cell.split(', '), 2)\n",
    "    trade_G.add_edges_from(allPairs)\n",
    "\n",
    "\n",
    "# weighted MultiGraph\n",
    "M = nx.MultiGraph()\n",
    "for cell in tradeData.Membership:\n",
    "    allPairs=combinations(cell.split(', '), 2)\n",
    "    for pair in allPairs:\n",
    "        M.add_edge(pair[0],pair[1],weight=1)\n",
    "\n",
    "# create weighted graph from M\n",
    "G = nx.Graph()\n",
    "for u,v,data in M.edges(data=True):\n",
    "    w = data['weight'] if 'weight' in data else 1.0\n",
    "    if G.has_edge(u,v):\n",
    "        G[u][v]['weight'] += w\n",
    "    else:\n",
    "        G.add_edge(u, v, weight=w)\n",
    "\n",
    "print(G.edges(data=True))"
   ]
  },
  {
   "cell_type": "code",
   "execution_count": 916,
   "metadata": {},
   "outputs": [
    {
     "data": {
      "text/html": [
       "<div>\n",
       "<style scoped>\n",
       "    .dataframe tbody tr th:only-of-type {\n",
       "        vertical-align: middle;\n",
       "    }\n",
       "\n",
       "    .dataframe tbody tr th {\n",
       "        vertical-align: top;\n",
       "    }\n",
       "\n",
       "    .dataframe thead th {\n",
       "        text-align: right;\n",
       "    }\n",
       "</style>\n",
       "<table border=\"1\" class=\"dataframe\">\n",
       "  <thead>\n",
       "    <tr style=\"text-align: right;\">\n",
       "      <th></th>\n",
       "      <th>source</th>\n",
       "      <th>target</th>\n",
       "      <th>weight</th>\n",
       "    </tr>\n",
       "  </thead>\n",
       "  <tbody>\n",
       "    <tr>\n",
       "      <th>0</th>\n",
       "      <td>Algeria</td>\n",
       "      <td>Angola</td>\n",
       "      <td>1</td>\n",
       "    </tr>\n",
       "    <tr>\n",
       "      <th>1</th>\n",
       "      <td>Algeria</td>\n",
       "      <td>Benin</td>\n",
       "      <td>2</td>\n",
       "    </tr>\n",
       "    <tr>\n",
       "      <th>2</th>\n",
       "      <td>Algeria</td>\n",
       "      <td>Botswana</td>\n",
       "      <td>1</td>\n",
       "    </tr>\n",
       "    <tr>\n",
       "      <th>3</th>\n",
       "      <td>Algeria</td>\n",
       "      <td>Burkina Faso</td>\n",
       "      <td>1</td>\n",
       "    </tr>\n",
       "    <tr>\n",
       "      <th>4</th>\n",
       "      <td>Algeria</td>\n",
       "      <td>Burundi</td>\n",
       "      <td>1</td>\n",
       "    </tr>\n",
       "    <tr>\n",
       "      <th>...</th>\n",
       "      <td>...</td>\n",
       "      <td>...</td>\n",
       "      <td>...</td>\n",
       "    </tr>\n",
       "    <tr>\n",
       "      <th>5109</th>\n",
       "      <td>Micronesia</td>\n",
       "      <td>Vanuatu</td>\n",
       "      <td>1</td>\n",
       "    </tr>\n",
       "    <tr>\n",
       "      <th>5110</th>\n",
       "      <td>Palau</td>\n",
       "      <td>Samoa</td>\n",
       "      <td>1</td>\n",
       "    </tr>\n",
       "    <tr>\n",
       "      <th>5111</th>\n",
       "      <td>Palau</td>\n",
       "      <td>Vanuatu</td>\n",
       "      <td>1</td>\n",
       "    </tr>\n",
       "    <tr>\n",
       "      <th>5112</th>\n",
       "      <td>Samoa</td>\n",
       "      <td>Vanuatu</td>\n",
       "      <td>1</td>\n",
       "    </tr>\n",
       "    <tr>\n",
       "      <th>5113</th>\n",
       "      <td>St Kitts-Nevis-Anguilla</td>\n",
       "      <td>St Lucia</td>\n",
       "      <td>1</td>\n",
       "    </tr>\n",
       "  </tbody>\n",
       "</table>\n",
       "<p>5114 rows × 3 columns</p>\n",
       "</div>"
      ],
      "text/plain": [
       "                       source        target  weight\n",
       "0                     Algeria        Angola       1\n",
       "1                     Algeria         Benin       2\n",
       "2                     Algeria      Botswana       1\n",
       "3                     Algeria  Burkina Faso       1\n",
       "4                     Algeria       Burundi       1\n",
       "...                       ...           ...     ...\n",
       "5109               Micronesia       Vanuatu       1\n",
       "5110                    Palau         Samoa       1\n",
       "5111                    Palau       Vanuatu       1\n",
       "5112                    Samoa       Vanuatu       1\n",
       "5113  St Kitts-Nevis-Anguilla      St Lucia       1\n",
       "\n",
       "[5114 rows x 3 columns]"
      ]
     },
     "execution_count": 916,
     "metadata": {},
     "output_type": "execute_result"
    }
   ],
   "source": [
    "targetData=nx.to_pandas_edgelist(G)\n",
    "targetData"
   ]
  },
  {
   "cell_type": "code",
   "execution_count": 918,
   "metadata": {},
   "outputs": [
    {
     "data": {
      "text/html": [
       "<div>\n",
       "<style scoped>\n",
       "    .dataframe tbody tr th:only-of-type {\n",
       "        vertical-align: middle;\n",
       "    }\n",
       "\n",
       "    .dataframe tbody tr th {\n",
       "        vertical-align: top;\n",
       "    }\n",
       "\n",
       "    .dataframe thead th {\n",
       "        text-align: right;\n",
       "    }\n",
       "</style>\n",
       "<table border=\"1\" class=\"dataframe\">\n",
       "  <thead>\n",
       "    <tr style=\"text-align: right;\">\n",
       "      <th></th>\n",
       "      <th>source</th>\n",
       "      <th>target</th>\n",
       "      <th>weight</th>\n",
       "    </tr>\n",
       "  </thead>\n",
       "  <tbody>\n",
       "    <tr>\n",
       "      <th>2174</th>\n",
       "      <td>Denmark</td>\n",
       "      <td>United Kingdom</td>\n",
       "      <td>52</td>\n",
       "    </tr>\n",
       "    <tr>\n",
       "      <th>2404</th>\n",
       "      <td>Germany</td>\n",
       "      <td>United Kingdom</td>\n",
       "      <td>51</td>\n",
       "    </tr>\n",
       "    <tr>\n",
       "      <th>2095</th>\n",
       "      <td>Belgium</td>\n",
       "      <td>United Kingdom</td>\n",
       "      <td>51</td>\n",
       "    </tr>\n",
       "    <tr>\n",
       "      <th>2626</th>\n",
       "      <td>Italy</td>\n",
       "      <td>United Kingdom</td>\n",
       "      <td>51</td>\n",
       "    </tr>\n",
       "    <tr>\n",
       "      <th>2769</th>\n",
       "      <td>Netherlands</td>\n",
       "      <td>United Kingdom</td>\n",
       "      <td>51</td>\n",
       "    </tr>\n",
       "    <tr>\n",
       "      <th>...</th>\n",
       "      <td>...</td>\n",
       "      <td>...</td>\n",
       "      <td>...</td>\n",
       "    </tr>\n",
       "    <tr>\n",
       "      <th>1932</th>\n",
       "      <td>Morocco</td>\n",
       "      <td>Bolivia</td>\n",
       "      <td>1</td>\n",
       "    </tr>\n",
       "    <tr>\n",
       "      <th>1933</th>\n",
       "      <td>Morocco</td>\n",
       "      <td>Brazil</td>\n",
       "      <td>1</td>\n",
       "    </tr>\n",
       "    <tr>\n",
       "      <th>1934</th>\n",
       "      <td>Morocco</td>\n",
       "      <td>Chile</td>\n",
       "      <td>1</td>\n",
       "    </tr>\n",
       "    <tr>\n",
       "      <th>1935</th>\n",
       "      <td>Morocco</td>\n",
       "      <td>Colombia</td>\n",
       "      <td>1</td>\n",
       "    </tr>\n",
       "    <tr>\n",
       "      <th>5113</th>\n",
       "      <td>St Kitts-Nevis-Anguilla</td>\n",
       "      <td>St Lucia</td>\n",
       "      <td>1</td>\n",
       "    </tr>\n",
       "  </tbody>\n",
       "</table>\n",
       "<p>5114 rows × 3 columns</p>\n",
       "</div>"
      ],
      "text/plain": [
       "                       source          target  weight\n",
       "2174                  Denmark  United Kingdom      52\n",
       "2404                  Germany  United Kingdom      51\n",
       "2095                  Belgium  United Kingdom      51\n",
       "2626                    Italy  United Kingdom      51\n",
       "2769              Netherlands  United Kingdom      51\n",
       "...                       ...             ...     ...\n",
       "1932                  Morocco         Bolivia       1\n",
       "1933                  Morocco          Brazil       1\n",
       "1934                  Morocco           Chile       1\n",
       "1935                  Morocco        Colombia       1\n",
       "5113  St Kitts-Nevis-Anguilla        St Lucia       1\n",
       "\n",
       "[5114 rows x 3 columns]"
      ]
     },
     "execution_count": 918,
     "metadata": {},
     "output_type": "execute_result"
    }
   ],
   "source": [
    "targetData.sort_values(by=['weight'],ascending=False)"
   ]
  },
  {
   "cell_type": "code",
   "execution_count": 922,
   "metadata": {},
   "outputs": [
    {
     "data": {
      "text/plain": [
       "[]"
      ]
     },
     "execution_count": 922,
     "metadata": {},
     "output_type": "execute_result"
    }
   ],
   "source": [
    "list(nx.isolates(trade_G))"
   ]
  },
  {
   "cell_type": "code",
   "execution_count": 920,
   "metadata": {},
   "outputs": [
    {
     "data": {
      "text/plain": [
       "{' Macedonia',\n",
       " 'Afghanistan',\n",
       " 'Albania',\n",
       " 'Algeria',\n",
       " 'Angola',\n",
       " 'Anguilla',\n",
       " 'Antigua and Barbuda',\n",
       " 'Argentina',\n",
       " 'Armenia',\n",
       " 'Aruba',\n",
       " 'Australia',\n",
       " 'Austria',\n",
       " 'Azerbaijan',\n",
       " 'Bahamas',\n",
       " 'Bahrain',\n",
       " 'Bangladesh',\n",
       " 'Barbados',\n",
       " 'Belarus',\n",
       " 'Belgium',\n",
       " 'Belize',\n",
       " 'Benin',\n",
       " 'Bhutan',\n",
       " 'Bolivia',\n",
       " 'Bosnia and Herzegovina',\n",
       " 'Botswana',\n",
       " 'Brazil',\n",
       " 'British',\n",
       " 'British Indian Ocean Territory',\n",
       " 'Brunei Darussalam',\n",
       " 'Bulgaria',\n",
       " 'Burkina Faso',\n",
       " 'Burundi',\n",
       " 'Cambodia',\n",
       " 'Cameroon',\n",
       " 'Canada',\n",
       " 'Cape Verde',\n",
       " 'Cayman Islands',\n",
       " 'Central African Republic',\n",
       " 'Chad',\n",
       " 'Chile',\n",
       " 'China',\n",
       " 'Colombia',\n",
       " 'Comoros',\n",
       " 'Congo',\n",
       " 'Cook Islands',\n",
       " 'Costa Rica',\n",
       " \"Cote d'Ivoire\",\n",
       " 'Croatia',\n",
       " 'Cuba',\n",
       " 'Cyprus',\n",
       " 'Czech Republic',\n",
       " 'Denmark',\n",
       " 'Djibouti',\n",
       " 'Dominica',\n",
       " 'Dominican Republic',\n",
       " 'Ecuador',\n",
       " 'Egypt',\n",
       " 'El Salvador',\n",
       " 'Equatorial Guinea',\n",
       " 'Estonia',\n",
       " 'Ethiopia',\n",
       " 'Falkland or Malvinas',\n",
       " 'Fiji',\n",
       " 'Finland',\n",
       " 'France',\n",
       " 'French Polynesia',\n",
       " 'French Southern Territories',\n",
       " 'Gabon',\n",
       " 'Gambia',\n",
       " 'Georgia',\n",
       " 'Germany',\n",
       " 'Ghana',\n",
       " 'Greece',\n",
       " 'Greenland',\n",
       " 'Grenada',\n",
       " 'Guatemala',\n",
       " 'Guinea',\n",
       " 'Guinea Bissau',\n",
       " 'Guyana',\n",
       " 'Honduras',\n",
       " 'Hungary',\n",
       " 'Iceland',\n",
       " 'India',\n",
       " 'Indonesia',\n",
       " 'Iran',\n",
       " 'Iraq',\n",
       " 'Ireland',\n",
       " 'Israel',\n",
       " 'Italy',\n",
       " 'Jamaica',\n",
       " 'Jordan',\n",
       " 'Kazakhstan',\n",
       " 'Kenya',\n",
       " 'Kiribati',\n",
       " 'Korea',\n",
       " 'Kuwait',\n",
       " 'Kyrgyz Republic',\n",
       " 'Laos',\n",
       " 'Latvia',\n",
       " 'Lebanon',\n",
       " 'Lesotho',\n",
       " 'Liberia',\n",
       " 'Libya',\n",
       " 'Liechtenstein',\n",
       " 'Lithuania',\n",
       " 'Luxembourg',\n",
       " 'Macedonia',\n",
       " 'Madagascar',\n",
       " 'Malawi',\n",
       " 'Malaysia',\n",
       " 'Mali',\n",
       " 'Malta',\n",
       " 'Marshall Islands',\n",
       " 'Mauritania',\n",
       " 'Mauritius',\n",
       " 'Mayotte',\n",
       " 'Mexico',\n",
       " 'Micronesia',\n",
       " 'Moldova',\n",
       " 'Montenegro',\n",
       " 'Montserrat',\n",
       " 'Morocco',\n",
       " 'Mozambique',\n",
       " 'Myanmar',\n",
       " 'Namibia',\n",
       " 'Nauru',\n",
       " 'Nepal',\n",
       " 'Netherlands',\n",
       " 'Netherlands Antilles',\n",
       " 'New Caledonia',\n",
       " 'New Zealand',\n",
       " 'Nicaragua',\n",
       " 'Niger',\n",
       " 'Nigeria',\n",
       " 'Niue',\n",
       " 'Norway',\n",
       " 'Oman',\n",
       " 'Pakistan',\n",
       " 'Palau',\n",
       " 'Palestine',\n",
       " 'Panama',\n",
       " 'Papua New Guinea',\n",
       " 'Peru',\n",
       " 'Philippines',\n",
       " 'Pitcairn',\n",
       " 'Poland',\n",
       " 'Portugal',\n",
       " 'Qatar',\n",
       " 'Romania',\n",
       " 'Russia',\n",
       " 'Rwanda',\n",
       " 'Sahrawi',\n",
       " 'Saint Helena',\n",
       " 'Saint Kitts and Nevis',\n",
       " 'Saint Lucia',\n",
       " 'Saint Pierre and Miquelon',\n",
       " 'Saint Vincent and the Grenadines',\n",
       " 'Samoa',\n",
       " 'Sao Tome and Principe',\n",
       " 'Saudi Arabia',\n",
       " 'Senegal',\n",
       " 'Seychelles',\n",
       " 'Sierra Leone',\n",
       " 'Singapore',\n",
       " 'Slovak Republic',\n",
       " 'Slovenia',\n",
       " 'Solomon Islands',\n",
       " 'Somalia',\n",
       " 'South Africa',\n",
       " 'South Georgia and the South Sandwich Islands',\n",
       " 'Spain',\n",
       " 'Sri Lanka',\n",
       " 'St Kitts and Nevis',\n",
       " 'St Kitts-Nevis-Anguilla',\n",
       " 'St Vincent and the Grenadines',\n",
       " 'Sudan',\n",
       " 'Suriname',\n",
       " 'Swaziland',\n",
       " 'Sweden',\n",
       " 'Switzerland',\n",
       " 'Syria',\n",
       " 'Tajikistan',\n",
       " 'Tanzania',\n",
       " 'Thailand',\n",
       " 'Togo',\n",
       " 'Tonga',\n",
       " 'Trinidad and Tobago',\n",
       " 'Tunisia',\n",
       " 'Turkey',\n",
       " 'Turkmenistan',\n",
       " 'Turks and Caicos Islands',\n",
       " 'Tuvalu',\n",
       " 'Uganda',\n",
       " 'United Arab Emirates',\n",
       " 'United Kingdom',\n",
       " 'United States',\n",
       " 'Uruguay',\n",
       " 'Uzbekistan',\n",
       " 'Venezuela',\n",
       " 'Vietnam',\n",
       " 'Virgin Islands',\n",
       " 'Yemen',\n",
       " 'Zaire',\n",
       " 'Zambia',\n",
       " 'Zimbabwe'}"
      ]
     },
     "execution_count": 920,
     "metadata": {},
     "output_type": "execute_result"
    }
   ],
   "source": [
    "set(targetData.source.to_list())"
   ]
  },
  {
   "cell_type": "code",
   "execution_count": 919,
   "metadata": {},
   "outputs": [
    {
     "data": {
      "text/plain": [
       "EdgeView([('Algeria', 'Angola'), ('Algeria', 'Benin'), ('Algeria', 'Botswana'), ('Algeria', 'Burkina Faso'), ('Algeria', 'Burundi'), ('Algeria', 'Cameroon'), ('Algeria', 'Cape Verde'), ('Algeria', 'Central African Republic'), ('Algeria', 'Comoros'), ('Algeria', 'Congo'), ('Algeria', \"Cote d'Ivoire\"), ('Algeria', 'Djibouti'), ('Algeria', 'Egypt'), ('Algeria', 'Ethiopia'), ('Algeria', 'Equatorial Guinea'), ('Algeria', 'Gabon'), ('Algeria', 'Gambia'), ('Algeria', 'Ghana'), ('Algeria', 'Guinea'), ('Algeria', 'Guinea Bissau'), ('Algeria', 'Kenya'), ('Algeria', 'Lesotho'), ('Algeria', 'Liberia'), ('Algeria', 'Libya'), ('Algeria', 'Madagascar'), ('Algeria', 'Malawi'), ('Algeria', 'Mali'), ('Algeria', 'Mauritania'), ('Algeria', 'Mauritius'), ('Algeria', 'Mozambique'), ('Algeria', 'Namibia'), ('Algeria', 'Niger'), ('Algeria', 'Nigeria'), ('Algeria', 'Rwanda'), ('Algeria', 'Sahrawi'), ('Algeria', 'Sao Tome and Principe'), ('Algeria', 'Senegal'), ('Algeria', 'Seychelles'), ('Algeria', 'Sierra Leone'), ('Algeria', 'Somalia'), ('Algeria', 'Sudan'), ('Algeria', 'Swaziland'), ('Algeria', 'Tanzania'), ('Algeria', 'Chad'), ('Algeria', 'Togo'), ('Algeria', 'Tunisia'), ('Algeria', 'Uganda'), ('Algeria', 'Zaire'), ('Algeria', 'Zambia'), ('Algeria', 'Zimbabwe'), ('Algeria', 'Morocco'), ('Algeria', 'Austria'), ('Algeria', 'Belgium'), ('Algeria', 'Denmark'), ('Algeria', 'Finland'), ('Algeria', 'France'), ('Algeria', 'Germany'), ('Algeria', 'Greece'), ('Algeria', 'Ireland'), ('Algeria', 'Italy'), ('Algeria', 'Luxembourg'), ('Algeria', 'Netherlands'), ('Algeria', 'Portugal'), ('Algeria', 'Spain'), ('Algeria', 'Sweden'), ('Algeria', 'United Kingdom'), ('Algeria', 'Argentina'), ('Algeria', 'Bangladesh'), ('Algeria', 'Venezuela'), ('Algeria', 'Bolivia'), ('Algeria', 'Brazil'), ('Algeria', 'Chile'), ('Algeria', 'Colombia'), ('Algeria', 'Cuba'), ('Algeria', 'Ecuador'), ('Algeria', 'Macedonia'), ('Algeria', 'Guyana'), ('Algeria', 'India'), ('Algeria', 'Indonesia'), ('Algeria', 'Iran'), ('Algeria', 'Iraq'), ('Algeria', 'Korea'), ('Algeria', 'Malaysia'), ('Algeria', 'Mexico'), ('Algeria', 'Myanmar'), ('Algeria', 'Nicaragua'), ('Algeria', 'Pakistan'), ('Algeria', 'Peru'), ('Algeria', 'Philippines'), ('Algeria', 'Romania'), ('Algeria', 'Singapore'), ('Algeria', 'Sri Lanka'), ('Algeria', 'Thailand'), ('Algeria', 'Trinidad and Tobago'), ('Algeria', 'Vietnam'), ('Algeria', 'Bahrain'), ('Algeria', 'Jordan'), ('Algeria', 'Kuwait'), ('Algeria', 'Lebanon'), ('Algeria', 'Oman'), ('Algeria', 'Qatar'), ('Algeria', 'Saudi Arabia'), ('Algeria', 'Syria'), ('Algeria', 'United Arab Emirates'), ('Algeria', 'Yemen'), ('Algeria', 'Palestine'), ('Angola', 'Benin'), ('Angola', 'Botswana'), ('Angola', 'Burkina Faso'), ('Angola', 'Burundi'), ('Angola', 'Cameroon'), ('Angola', 'Cape Verde'), ('Angola', 'Central African Republic'), ('Angola', 'Comoros'), ('Angola', 'Congo'), ('Angola', \"Cote d'Ivoire\"), ('Angola', 'Djibouti'), ('Angola', 'Egypt'), ('Angola', 'Ethiopia'), ('Angola', 'Equatorial Guinea'), ('Angola', 'Gabon'), ('Angola', 'Gambia'), ('Angola', 'Ghana'), ('Angola', 'Guinea'), ('Angola', 'Guinea Bissau'), ('Angola', 'Kenya'), ('Angola', 'Lesotho'), ('Angola', 'Liberia'), ('Angola', 'Libya'), ('Angola', 'Madagascar'), ('Angola', 'Malawi'), ('Angola', 'Mali'), ('Angola', 'Mauritania'), ('Angola', 'Mauritius'), ('Angola', 'Mozambique'), ('Angola', 'Namibia'), ('Angola', 'Niger'), ('Angola', 'Nigeria'), ('Angola', 'Rwanda'), ('Angola', 'Sahrawi'), ('Angola', 'Sao Tome and Principe'), ('Angola', 'Senegal'), ('Angola', 'Seychelles'), ('Angola', 'Sierra Leone'), ('Angola', 'Somalia'), ('Angola', 'Sudan'), ('Angola', 'Swaziland'), ('Angola', 'Tanzania'), ('Angola', 'Chad'), ('Angola', 'Togo'), ('Angola', 'Tunisia'), ('Angola', 'Uganda'), ('Angola', 'Zaire'), ('Angola', 'Zambia'), ('Angola', 'Zimbabwe'), ('Angola', 'Eritrea'), ('Angola', 'Republic of Chad'), ('Angola', 'South Africa'), ('Benin', 'Botswana'), ('Benin', 'Burkina Faso'), ('Benin', 'Burundi'), ('Benin', 'Cameroon'), ('Benin', 'Cape Verde'), ('Benin', 'Central African Republic'), ('Benin', 'Comoros'), ('Benin', 'Congo'), ('Benin', \"Cote d'Ivoire\"), ('Benin', 'Djibouti'), ('Benin', 'Egypt'), ('Benin', 'Ethiopia'), ('Benin', 'Equatorial Guinea'), ('Benin', 'Gabon'), ('Benin', 'Gambia'), ('Benin', 'Ghana'), ('Benin', 'Guinea'), ('Benin', 'Guinea Bissau'), ('Benin', 'Kenya'), ('Benin', 'Lesotho'), ('Benin', 'Liberia'), ('Benin', 'Libya'), ('Benin', 'Madagascar'), ('Benin', 'Malawi'), ('Benin', 'Mali'), ('Benin', 'Mauritania'), ('Benin', 'Mauritius'), ('Benin', 'Mozambique'), ('Benin', 'Namibia'), ('Benin', 'Niger'), ('Benin', 'Nigeria'), ('Benin', 'Rwanda'), ('Benin', 'Sahrawi'), ('Benin', 'Sao Tome and Principe'), ('Benin', 'Senegal'), ('Benin', 'Seychelles'), ('Benin', 'Sierra Leone'), ('Benin', 'Somalia'), ('Benin', 'Sudan'), ('Benin', 'Swaziland'), ('Benin', 'Tanzania'), ('Benin', 'Chad'), ('Benin', 'Togo'), ('Benin', 'Tunisia'), ('Benin', 'Uganda'), ('Benin', 'Zaire'), ('Benin', 'Zambia'), ('Benin', 'Zimbabwe'), ('Benin', 'Argentina'), ('Benin', 'Bangladesh'), ('Benin', 'Venezuela'), ('Benin', 'Bolivia'), ('Benin', 'Brazil'), ('Benin', 'Chile'), ('Benin', 'Colombia'), ('Benin', 'Cuba'), ('Benin', 'Ecuador'), ('Benin', 'Macedonia'), ('Benin', 'Guyana'), ('Benin', 'India'), ('Benin', 'Indonesia'), ('Benin', 'Iran'), ('Benin', 'Iraq'), ('Benin', 'Korea'), ('Benin', 'Malaysia'), ('Benin', 'Mexico'), ('Benin', 'Morocco'), ('Benin', 'Myanmar'), ('Benin', 'Nicaragua'), ('Benin', 'Pakistan'), ('Benin', 'Peru'), ('Benin', 'Philippines'), ('Benin', 'Romania'), ('Benin', 'Singapore'), ('Benin', 'Sri Lanka'), ('Benin', 'Thailand'), ('Benin', 'Trinidad and Tobago'), ('Benin', 'Vietnam'), ('Benin', 'Togo '), ('Botswana', 'Burkina Faso'), ('Botswana', 'Burundi'), ('Botswana', 'Cameroon'), ('Botswana', 'Cape Verde'), ('Botswana', 'Central African Republic'), ('Botswana', 'Comoros'), ('Botswana', 'Congo'), ('Botswana', \"Cote d'Ivoire\"), ('Botswana', 'Djibouti'), ('Botswana', 'Egypt'), ('Botswana', 'Ethiopia'), ('Botswana', 'Equatorial Guinea'), ('Botswana', 'Gabon'), ('Botswana', 'Gambia'), ('Botswana', 'Ghana'), ('Botswana', 'Guinea'), ('Botswana', 'Guinea Bissau'), ('Botswana', 'Kenya'), ('Botswana', 'Lesotho'), ('Botswana', 'Liberia'), ('Botswana', 'Libya'), ('Botswana', 'Madagascar'), ('Botswana', 'Malawi'), ('Botswana', 'Mali'), ('Botswana', 'Mauritania'), ('Botswana', 'Mauritius'), ('Botswana', 'Mozambique'), ('Botswana', 'Namibia'), ('Botswana', 'Niger'), ('Botswana', 'Nigeria'), ('Botswana', 'Rwanda'), ('Botswana', 'Sahrawi'), ('Botswana', 'Sao Tome and Principe'), ('Botswana', 'Senegal'), ('Botswana', 'Seychelles'), ('Botswana', 'Sierra Leone'), ('Botswana', 'Somalia'), ('Botswana', 'Sudan'), ('Botswana', 'Swaziland'), ('Botswana', 'Tanzania'), ('Botswana', 'Chad'), ('Botswana', 'Togo'), ('Botswana', 'Tunisia'), ('Botswana', 'Uganda'), ('Botswana', 'Zaire'), ('Botswana', 'Zambia'), ('Botswana', 'Zimbabwe'), ('Botswana', 'Iceland'), ('Botswana', 'Liechtenstein'), ('Botswana', 'Norway'), ('Botswana', 'Switzerland'), ('Botswana', 'South Africa'), ('Burkina Faso', 'Burundi'), ('Burkina Faso', 'Cameroon'), ('Burkina Faso', 'Cape Verde'), ('Burkina Faso', 'Central African Republic'), ('Burkina Faso', 'Comoros'), ('Burkina Faso', 'Congo'), ('Burkina Faso', \"Cote d'Ivoire\"), ('Burkina Faso', 'Djibouti'), ('Burkina Faso', 'Egypt'), ('Burkina Faso', 'Ethiopia'), ('Burkina Faso', 'Equatorial Guinea'), ('Burkina Faso', 'Gabon'), ('Burkina Faso', 'Gambia'), ('Burkina Faso', 'Ghana'), ('Burkina Faso', 'Guinea'), ('Burkina Faso', 'Guinea Bissau'), ('Burkina Faso', 'Kenya'), ('Burkina Faso', 'Lesotho'), ('Burkina Faso', 'Liberia'), ('Burkina Faso', 'Libya'), ('Burkina Faso', 'Madagascar'), ('Burkina Faso', 'Malawi'), ('Burkina Faso', 'Mali'), ('Burkina Faso', 'Mauritania'), ('Burkina Faso', 'Mauritius'), ('Burkina Faso', 'Mozambique'), ('Burkina Faso', 'Namibia'), ('Burkina Faso', 'Niger'), ('Burkina Faso', 'Nigeria'), ('Burkina Faso', 'Rwanda'), ('Burkina Faso', 'Sahrawi'), ('Burkina Faso', 'Sao Tome and Principe'), ('Burkina Faso', 'Senegal'), ('Burkina Faso', 'Seychelles'), ('Burkina Faso', 'Sierra Leone'), ('Burkina Faso', 'Somalia'), ('Burkina Faso', 'Sudan'), ('Burkina Faso', 'Swaziland'), ('Burkina Faso', 'Tanzania'), ('Burkina Faso', 'Chad'), ('Burkina Faso', 'Togo'), ('Burkina Faso', 'Tunisia'), ('Burkina Faso', 'Uganda'), ('Burkina Faso', 'Zaire'), ('Burkina Faso', 'Zambia'), ('Burkina Faso', 'Zimbabwe'), ('Burkina Faso', 'Togo '), ('Burundi', 'Cameroon'), ('Burundi', 'Cape Verde'), ('Burundi', 'Central African Republic'), ('Burundi', 'Comoros'), ('Burundi', 'Congo'), ('Burundi', \"Cote d'Ivoire\"), ('Burundi', 'Djibouti'), ('Burundi', 'Egypt'), ('Burundi', 'Ethiopia'), ('Burundi', 'Equatorial Guinea'), ('Burundi', 'Gabon'), ('Burundi', 'Gambia'), ('Burundi', 'Ghana'), ('Burundi', 'Guinea'), ('Burundi', 'Guinea Bissau'), ('Burundi', 'Kenya'), ('Burundi', 'Lesotho'), ('Burundi', 'Liberia'), ('Burundi', 'Libya'), ('Burundi', 'Madagascar'), ('Burundi', 'Malawi'), ('Burundi', 'Mali'), ('Burundi', 'Mauritania'), ('Burundi', 'Mauritius'), ('Burundi', 'Mozambique'), ('Burundi', 'Namibia'), ('Burundi', 'Niger'), ('Burundi', 'Nigeria'), ('Burundi', 'Rwanda'), ('Burundi', 'Sahrawi'), ('Burundi', 'Sao Tome and Principe'), ('Burundi', 'Senegal'), ('Burundi', 'Seychelles'), ('Burundi', 'Sierra Leone'), ('Burundi', 'Somalia'), ('Burundi', 'Sudan'), ('Burundi', 'Swaziland'), ('Burundi', 'Tanzania'), ('Burundi', 'Chad'), ('Burundi', 'Togo'), ('Burundi', 'Tunisia'), ('Burundi', 'Uganda'), ('Burundi', 'Zaire'), ('Burundi', 'Zambia'), ('Burundi', 'Zimbabwe'), ('Burundi', 'Eritrea'), ('Burundi', 'Republic of Chad'), ('Cameroon', 'Cape Verde'), ('Cameroon', 'Central African Republic'), ('Cameroon', 'Comoros'), ('Cameroon', 'Congo'), ('Cameroon', \"Cote d'Ivoire\"), ('Cameroon', 'Djibouti'), ('Cameroon', 'Egypt'), ('Cameroon', 'Ethiopia'), ('Cameroon', 'Equatorial Guinea'), ('Cameroon', 'Gabon'), ('Cameroon', 'Gambia'), ('Cameroon', 'Ghana'), ('Cameroon', 'Guinea'), ('Cameroon', 'Guinea Bissau'), ('Cameroon', 'Kenya'), ('Cameroon', 'Lesotho'), ('Cameroon', 'Liberia'), ('Cameroon', 'Libya'), ('Cameroon', 'Madagascar'), ('Cameroon', 'Malawi'), ('Cameroon', 'Mali'), ('Cameroon', 'Mauritania'), ('Cameroon', 'Mauritius'), ('Cameroon', 'Mozambique'), ('Cameroon', 'Namibia'), ('Cameroon', 'Niger'), ('Cameroon', 'Nigeria'), ('Cameroon', 'Rwanda'), ('Cameroon', 'Sahrawi'), ('Cameroon', 'Sao Tome and Principe'), ('Cameroon', 'Senegal'), ('Cameroon', 'Seychelles'), ('Cameroon', 'Sierra Leone'), ('Cameroon', 'Somalia'), ('Cameroon', 'Sudan'), ('Cameroon', 'Swaziland'), ('Cameroon', 'Tanzania'), ('Cameroon', 'Chad'), ('Cameroon', 'Togo'), ('Cameroon', 'Tunisia'), ('Cameroon', 'Uganda'), ('Cameroon', 'Zaire'), ('Cameroon', 'Zambia'), ('Cameroon', 'Zimbabwe'), ('Cameroon', 'Austria'), ('Cameroon', 'Belgium'), ('Cameroon', 'Bulgaria'), ('Cameroon', 'Cyprus'), ('Cameroon', 'Czech Republic'), ('Cameroon', 'Denmark'), ('Cameroon', 'Estonia'), ('Cameroon', 'Finland'), ('Cameroon', 'France'), ('Cameroon', 'Germany'), ('Cameroon', 'Greece'), ('Cameroon', 'Hungary'), ('Cameroon', 'Ireland'), ('Cameroon', 'Italy'), ('Cameroon', 'Latvia'), ('Cameroon', 'Lithuania'), ('Cameroon', 'Luxembourg'), ('Cameroon', 'Malta'), ('Cameroon', 'Netherlands'), ('Cameroon', 'Poland'), ('Cameroon', 'Portugal'), ('Cameroon', 'Romania'), ('Cameroon', 'Slovak Republic'), ('Cameroon', 'Slovenia'), ('Cameroon', 'Spain'), ('Cameroon', 'Sweden'), ('Cameroon', 'United Kingdom'), ('Cameroon', 'Republic of Chad'), ('Cameroon', 'Argentina'), ('Cameroon', 'Bangladesh'), ('Cameroon', 'Venezuela'), ('Cameroon', 'Bolivia'), ('Cameroon', 'Brazil'), ('Cameroon', 'Chile'), ('Cameroon', 'Colombia'), ('Cameroon', 'Cuba'), ('Cameroon', 'Ecuador'), ('Cameroon', 'Macedonia'), ('Cameroon', 'Guyana'), ('Cameroon', 'India'), ('Cameroon', 'Indonesia'), ('Cameroon', 'Iran'), ('Cameroon', 'Iraq'), ('Cameroon', 'Korea'), ('Cameroon', 'Malaysia'), ('Cameroon', 'Mexico'), ('Cameroon', 'Morocco'), ('Cameroon', 'Myanmar'), ('Cameroon', 'Nicaragua'), ('Cameroon', 'Pakistan'), ('Cameroon', 'Peru'), ('Cameroon', 'Philippines'), ('Cameroon', 'Singapore'), ('Cameroon', 'Sri Lanka'), ('Cameroon', 'Thailand'), ('Cameroon', 'Trinidad and Tobago'), ('Cameroon', 'Vietnam'), ('Cape Verde', 'Central African Republic'), ('Cape Verde', 'Comoros'), ('Cape Verde', 'Congo'), ('Cape Verde', \"Cote d'Ivoire\"), ('Cape Verde', 'Djibouti'), ('Cape Verde', 'Egypt'), ('Cape Verde', 'Ethiopia'), ('Cape Verde', 'Equatorial Guinea'), ('Cape Verde', 'Gabon'), ('Cape Verde', 'Gambia'), ('Cape Verde', 'Ghana'), ('Cape Verde', 'Guinea'), ('Cape Verde', 'Guinea Bissau'), ('Cape Verde', 'Kenya'), ('Cape Verde', 'Lesotho'), ('Cape Verde', 'Liberia'), ('Cape Verde', 'Libya'), ('Cape Verde', 'Madagascar'), ('Cape Verde', 'Malawi'), ('Cape Verde', 'Mali'), ('Cape Verde', 'Mauritania'), ('Cape Verde', 'Mauritius'), ('Cape Verde', 'Mozambique'), ('Cape Verde', 'Namibia'), ('Cape Verde', 'Niger'), ('Cape Verde', 'Nigeria'), ('Cape Verde', 'Rwanda'), ('Cape Verde', 'Sahrawi'), ('Cape Verde', 'Sao Tome and Principe'), ('Cape Verde', 'Senegal'), ('Cape Verde', 'Seychelles'), ('Cape Verde', 'Sierra Leone'), ('Cape Verde', 'Somalia'), ('Cape Verde', 'Sudan'), ('Cape Verde', 'Swaziland'), ('Cape Verde', 'Tanzania'), ('Cape Verde', 'Chad'), ('Cape Verde', 'Togo'), ('Cape Verde', 'Tunisia'), ('Cape Verde', 'Uganda'), ('Cape Verde', 'Zaire'), ('Cape Verde', 'Zambia'), ('Cape Verde', 'Zimbabwe'), ('Central African Republic', 'Comoros'), ('Central African Republic', 'Congo'), ('Central African Republic', \"Cote d'Ivoire\"), ('Central African Republic', 'Djibouti'), ('Central African Republic', 'Egypt'), ('Central African Republic', 'Ethiopia'), ('Central African Republic', 'Equatorial Guinea'), ('Central African Republic', 'Gabon'), ('Central African Republic', 'Gambia'), ('Central African Republic', 'Ghana'), ('Central African Republic', 'Guinea'), ('Central African Republic', 'Guinea Bissau'), ('Central African Republic', 'Kenya'), ('Central African Republic', 'Lesotho'), ('Central African Republic', 'Liberia'), ('Central African Republic', 'Libya'), ('Central African Republic', 'Madagascar'), ('Central African Republic', 'Malawi'), ('Central African Republic', 'Mali'), ('Central African Republic', 'Mauritania'), ('Central African Republic', 'Mauritius'), ('Central African Republic', 'Mozambique'), ('Central African Republic', 'Namibia'), ('Central African Republic', 'Niger'), ('Central African Republic', 'Nigeria'), ('Central African Republic', 'Rwanda'), ('Central African Republic', 'Sahrawi'), ('Central African Republic', 'Sao Tome and Principe'), ('Central African Republic', 'Senegal'), ('Central African Republic', 'Seychelles'), ('Central African Republic', 'Sierra Leone'), ('Central African Republic', 'Somalia'), ('Central African Republic', 'Sudan'), ('Central African Republic', 'Swaziland'), ('Central African Republic', 'Tanzania'), ('Central African Republic', 'Chad'), ('Central African Republic', 'Togo'), ('Central African Republic', 'Tunisia'), ('Central African Republic', 'Uganda'), ('Central African Republic', 'Zaire'), ('Central African Republic', 'Zambia'), ('Central African Republic', 'Zimbabwe'), ('Central African Republic', 'Republic of Chad'), ('Comoros', 'Congo'), ('Comoros', \"Cote d'Ivoire\"), ('Comoros', 'Djibouti'), ('Comoros', 'Egypt'), ('Comoros', 'Ethiopia'), ('Comoros', 'Equatorial Guinea'), ('Comoros', 'Gabon'), ('Comoros', 'Gambia'), ('Comoros', 'Ghana'), ('Comoros', 'Guinea'), ('Comoros', 'Guinea Bissau'), ('Comoros', 'Kenya'), ('Comoros', 'Lesotho'), ('Comoros', 'Liberia'), ('Comoros', 'Libya'), ('Comoros', 'Madagascar'), ('Comoros', 'Malawi'), ('Comoros', 'Mali'), ('Comoros', 'Mauritania'), ('Comoros', 'Mauritius'), ('Comoros', 'Mozambique'), ('Comoros', 'Namibia'), ('Comoros', 'Niger'), ('Comoros', 'Nigeria'), ('Comoros', 'Rwanda'), ('Comoros', 'Sahrawi'), ('Comoros', 'Sao Tome and Principe'), ('Comoros', 'Senegal'), ('Comoros', 'Seychelles'), ('Comoros', 'Sierra Leone'), ('Comoros', 'Somalia'), ('Comoros', 'Sudan'), ('Comoros', 'Swaziland'), ('Comoros', 'Tanzania'), ('Comoros', 'Chad'), ('Comoros', 'Togo'), ('Comoros', 'Tunisia'), ('Comoros', 'Uganda'), ('Comoros', 'Zaire'), ('Comoros', 'Zambia'), ('Comoros', 'Zimbabwe'), ('Comoros', 'Eritrea'), ('Congo', \"Cote d'Ivoire\"), ('Congo', 'Djibouti'), ('Congo', 'Egypt'), ('Congo', 'Ethiopia'), ('Congo', 'Equatorial Guinea'), ('Congo', 'Gabon'), ('Congo', 'Gambia'), ('Congo', 'Ghana'), ('Congo', 'Guinea'), ('Congo', 'Guinea Bissau'), ('Congo', 'Kenya'), ('Congo', 'Lesotho'), ('Congo', 'Liberia'), ('Congo', 'Libya'), ('Congo', 'Madagascar'), ('Congo', 'Malawi'), ('Congo', 'Mali'), ('Congo', 'Mauritania'), ('Congo', 'Mauritius'), ('Congo', 'Mozambique'), ('Congo', 'Namibia'), ('Congo', 'Niger'), ('Congo', 'Nigeria'), ('Congo', 'Rwanda'), ('Congo', 'Sahrawi'), ('Congo', 'Sao Tome and Principe'), ('Congo', 'Senegal'), ('Congo', 'Seychelles'), ('Congo', 'Sierra Leone'), ('Congo', 'Somalia'), ('Congo', 'Sudan'), ('Congo', 'Swaziland'), ('Congo', 'Tanzania'), ('Congo', 'Chad'), ('Congo', 'Togo'), ('Congo', 'Tunisia'), ('Congo', 'Uganda'), ('Congo', 'Zaire'), ('Congo', 'Zambia'), ('Congo', 'Zimbabwe'), ('Congo', 'Eritrea'), ('Congo', 'Republic of Chad'), ('Congo', 'South Africa'), (\"Cote d'Ivoire\", 'Djibouti'), (\"Cote d'Ivoire\", 'Egypt'), (\"Cote d'Ivoire\", 'Ethiopia'), (\"Cote d'Ivoire\", 'Equatorial Guinea'), (\"Cote d'Ivoire\", 'Gabon'), (\"Cote d'Ivoire\", 'Gambia'), (\"Cote d'Ivoire\", 'Ghana'), (\"Cote d'Ivoire\", 'Guinea'), (\"Cote d'Ivoire\", 'Guinea Bissau'), (\"Cote d'Ivoire\", 'Kenya'), (\"Cote d'Ivoire\", 'Lesotho'), (\"Cote d'Ivoire\", 'Liberia'), (\"Cote d'Ivoire\", 'Libya'), (\"Cote d'Ivoire\", 'Madagascar'), (\"Cote d'Ivoire\", 'Malawi'), (\"Cote d'Ivoire\", 'Mali'), (\"Cote d'Ivoire\", 'Mauritania'), (\"Cote d'Ivoire\", 'Mauritius'), (\"Cote d'Ivoire\", 'Mozambique'), (\"Cote d'Ivoire\", 'Namibia'), (\"Cote d'Ivoire\", 'Niger'), (\"Cote d'Ivoire\", 'Nigeria'), (\"Cote d'Ivoire\", 'Rwanda'), (\"Cote d'Ivoire\", 'Sahrawi'), (\"Cote d'Ivoire\", 'Sao Tome and Principe'), (\"Cote d'Ivoire\", 'Senegal'), (\"Cote d'Ivoire\", 'Seychelles'), (\"Cote d'Ivoire\", 'Sierra Leone'), (\"Cote d'Ivoire\", 'Somalia'), (\"Cote d'Ivoire\", 'Sudan'), (\"Cote d'Ivoire\", 'Swaziland'), (\"Cote d'Ivoire\", 'Tanzania'), (\"Cote d'Ivoire\", 'Chad'), (\"Cote d'Ivoire\", 'Togo'), (\"Cote d'Ivoire\", 'Tunisia'), (\"Cote d'Ivoire\", 'Uganda'), (\"Cote d'Ivoire\", 'Zaire'), (\"Cote d'Ivoire\", 'Zambia'), (\"Cote d'Ivoire\", 'Zimbabwe'), (\"Cote d'Ivoire\", 'Austria'), (\"Cote d'Ivoire\", 'Belgium'), (\"Cote d'Ivoire\", 'Bulgaria'), (\"Cote d'Ivoire\", 'Cyprus'), (\"Cote d'Ivoire\", 'Czech Republic'), (\"Cote d'Ivoire\", 'Denmark'), (\"Cote d'Ivoire\", 'Germany'), (\"Cote d'Ivoire\", 'Estonia'), (\"Cote d'Ivoire\", 'Finland'), (\"Cote d'Ivoire\", 'France'), (\"Cote d'Ivoire\", 'Greece'), (\"Cote d'Ivoire\", 'Hungary'), (\"Cote d'Ivoire\", 'Ireland'), (\"Cote d'Ivoire\", 'Italy'), (\"Cote d'Ivoire\", 'Latvia'), (\"Cote d'Ivoire\", 'Lithuania'), (\"Cote d'Ivoire\", 'Luxembourg'), (\"Cote d'Ivoire\", 'Malta'), (\"Cote d'Ivoire\", 'Netherlands'), (\"Cote d'Ivoire\", 'Poland'), (\"Cote d'Ivoire\", 'Portugal'), (\"Cote d'Ivoire\", 'Romania'), (\"Cote d'Ivoire\", 'Slovak Republic'), (\"Cote d'Ivoire\", 'Slovenia'), (\"Cote d'Ivoire\", 'Spain'), (\"Cote d'Ivoire\", 'Sweden'), (\"Cote d'Ivoire\", 'United Kingdom'), (\"Cote d'Ivoire\", 'Togo '), ('Djibouti', 'Egypt'), ('Djibouti', 'Ethiopia'), ('Djibouti', 'Equatorial Guinea'), ('Djibouti', 'Gabon'), ('Djibouti', 'Gambia'), ('Djibouti', 'Ghana'), ('Djibouti', 'Guinea'), ('Djibouti', 'Guinea Bissau'), ('Djibouti', 'Kenya'), ('Djibouti', 'Lesotho'), ('Djibouti', 'Liberia'), ('Djibouti', 'Libya'), ('Djibouti', 'Madagascar'), ('Djibouti', 'Malawi'), ('Djibouti', 'Mali'), ('Djibouti', 'Mauritania'), ('Djibouti', 'Mauritius'), ('Djibouti', 'Mozambique'), ('Djibouti', 'Namibia'), ('Djibouti', 'Niger'), ('Djibouti', 'Nigeria'), ('Djibouti', 'Rwanda'), ('Djibouti', 'Sahrawi'), ('Djibouti', 'Sao Tome and Principe'), ('Djibouti', 'Senegal'), ('Djibouti', 'Seychelles'), ('Djibouti', 'Sierra Leone'), ('Djibouti', 'Somalia'), ('Djibouti', 'Sudan'), ('Djibouti', 'Swaziland'), ('Djibouti', 'Tanzania'), ('Djibouti', 'Chad'), ('Djibouti', 'Togo'), ('Djibouti', 'Tunisia'), ('Djibouti', 'Uganda'), ('Djibouti', 'Zaire'), ('Djibouti', 'Zambia'), ('Djibouti', 'Zimbabwe'), ('Djibouti', 'Eritrea'), ('Egypt', 'Ethiopia'), ('Egypt', 'Equatorial Guinea'), ('Egypt', 'Gabon'), ('Egypt', 'Gambia'), ('Egypt', 'Ghana'), ('Egypt', 'Guinea'), ('Egypt', 'Guinea Bissau'), ('Egypt', 'Kenya'), ('Egypt', 'Lesotho'), ('Egypt', 'Liberia'), ('Egypt', 'Libya'), ('Egypt', 'Madagascar'), ('Egypt', 'Malawi'), ('Egypt', 'Mali'), ('Egypt', 'Mauritania'), ('Egypt', 'Mauritius'), ('Egypt', 'Mozambique'), ('Egypt', 'Namibia'), ('Egypt', 'Niger'), ('Egypt', 'Nigeria'), ('Egypt', 'Rwanda'), ('Egypt', 'Sahrawi'), ('Egypt', 'Sao Tome and Principe'), ('Egypt', 'Senegal'), ('Egypt', 'Seychelles'), ('Egypt', 'Sierra Leone'), ('Egypt', 'Somalia'), ('Egypt', 'Sudan'), ('Egypt', 'Swaziland'), ('Egypt', 'Tanzania'), ('Egypt', 'Chad'), ('Egypt', 'Togo'), ('Egypt', 'Tunisia'), ('Egypt', 'Uganda'), ('Egypt', 'Zaire'), ('Egypt', 'Zambia'), ('Egypt', 'Zimbabwe'), ('Egypt', 'Jordan'), ('Egypt', 'Morocco'), ('Egypt', 'Eritrea'), ('Egypt', 'Belgium'), ('Egypt', 'Denmark'), ('Egypt', 'France'), ('Egypt', 'Germany'), ('Egypt', 'Ireland'), ('Egypt', 'Italy'), ('Egypt', 'Luxembourg'), ('Egypt', 'Netherlands'), ('Egypt', 'United Kingdom'), ('Egypt', 'Iceland'), ('Egypt', 'Liechtenstein'), ('Egypt', 'Norway'), ('Egypt', 'Switzerland'), ('Egypt', 'Palestine'), ('Egypt', 'Turkey'), ('Egypt', 'Argentina'), ('Egypt', 'Bangladesh'), ('Egypt', 'Venezuela'), ('Egypt', 'Bolivia'), ('Egypt', 'Brazil'), ('Egypt', 'Chile'), ('Egypt', 'Colombia'), ('Egypt', 'Cuba'), ('Egypt', 'Ecuador'), ('Egypt', 'Macedonia'), ('Egypt', 'Guyana'), ('Egypt', 'India'), ('Egypt', 'Indonesia'), ('Egypt', 'Iran'), ('Egypt', 'Iraq'), ('Egypt', 'Korea'), ('Egypt', 'Malaysia'), ('Egypt', 'Mexico'), ('Egypt', 'Myanmar'), ('Egypt', 'Nicaragua'), ('Egypt', 'Pakistan'), ('Egypt', 'Peru'), ('Egypt', 'Philippines'), ('Egypt', 'Romania'), ('Egypt', 'Singapore'), ('Egypt', 'Sri Lanka'), ('Egypt', 'Thailand'), ('Egypt', 'Trinidad and Tobago'), ('Egypt', 'Vietnam'), ('Egypt', 'Bahrain'), ('Egypt', 'Kuwait'), ('Egypt', 'Lebanon'), ('Egypt', 'Oman'), ('Egypt', 'Qatar'), ('Egypt', 'Saudi Arabia'), ('Egypt', 'Syria'), ('Egypt', 'United Arab Emirates'), ('Egypt', 'Yemen'), ('Egypt', 'Israel'), ('Egypt', 'Spain'), ('Egypt', 'Uruguay'), ('Egypt', 'Yugoslavia'), ('Ethiopia', 'Equatorial Guinea'), ('Ethiopia', 'Gabon'), ('Ethiopia', 'Gambia'), ('Ethiopia', 'Ghana'), ('Ethiopia', 'Guinea'), ('Ethiopia', 'Guinea Bissau'), ('Ethiopia', 'Kenya'), ('Ethiopia', 'Lesotho'), ('Ethiopia', 'Liberia'), ('Ethiopia', 'Libya'), ('Ethiopia', 'Madagascar'), ('Ethiopia', 'Malawi'), ('Ethiopia', 'Mali'), ('Ethiopia', 'Mauritania'), ('Ethiopia', 'Mauritius'), ('Ethiopia', 'Mozambique'), ('Ethiopia', 'Namibia'), ('Ethiopia', 'Niger'), ('Ethiopia', 'Nigeria'), ('Ethiopia', 'Rwanda'), ('Ethiopia', 'Sahrawi'), ('Ethiopia', 'Sao Tome and Principe'), ('Ethiopia', 'Senegal'), ('Ethiopia', 'Seychelles'), ('Ethiopia', 'Sierra Leone'), ('Ethiopia', 'Somalia'), ('Ethiopia', 'Sudan'), ('Ethiopia', 'Swaziland'), ('Ethiopia', 'Tanzania'), ('Ethiopia', 'Chad'), ('Ethiopia', 'Togo'), ('Ethiopia', 'Tunisia'), ('Ethiopia', 'Uganda'), ('Ethiopia', 'Zaire'), ('Ethiopia', 'Zambia'), ('Ethiopia', 'Zimbabwe'), ('Ethiopia', 'Eritrea'), ('Equatorial Guinea', 'Gabon'), ('Equatorial Guinea', 'Gambia'), ('Equatorial Guinea', 'Ghana'), ('Equatorial Guinea', 'Guinea'), ('Equatorial Guinea', 'Guinea Bissau'), ('Equatorial Guinea', 'Kenya'), ('Equatorial Guinea', 'Lesotho'), ('Equatorial Guinea', 'Liberia'), ('Equatorial Guinea', 'Libya'), ('Equatorial Guinea', 'Madagascar'), ('Equatorial Guinea', 'Malawi'), ('Equatorial Guinea', 'Mali'), ('Equatorial Guinea', 'Mauritania'), ('Equatorial Guinea', 'Mauritius'), ('Equatorial Guinea', 'Mozambique'), ('Equatorial Guinea', 'Namibia'), ('Equatorial Guinea', 'Niger'), ('Equatorial Guinea', 'Nigeria'), ('Equatorial Guinea', 'Rwanda'), ('Equatorial Guinea', 'Sahrawi'), ('Equatorial Guinea', 'Sao Tome and Principe'), ('Equatorial Guinea', 'Senegal'), ('Equatorial Guinea', 'Seychelles'), ('Equatorial Guinea', 'Sierra Leone'), ('Equatorial Guinea', 'Somalia'), ('Equatorial Guinea', 'Sudan'), ('Equatorial Guinea', 'Swaziland'), ('Equatorial Guinea', 'Tanzania'), ('Equatorial Guinea', 'Chad'), ('Equatorial Guinea', 'Togo'), ('Equatorial Guinea', 'Tunisia'), ('Equatorial Guinea', 'Uganda'), ('Equatorial Guinea', 'Zaire'), ('Equatorial Guinea', 'Zambia'), ('Equatorial Guinea', 'Zimbabwe'), ('Equatorial Guinea', 'Republic of Chad'), ('Gabon', 'Gambia'), ('Gabon', 'Ghana'), ('Gabon', 'Guinea'), ('Gabon', 'Guinea Bissau'), ('Gabon', 'Kenya'), ('Gabon', 'Lesotho'), ('Gabon', 'Liberia'), ('Gabon', 'Libya'), ('Gabon', 'Madagascar'), ('Gabon', 'Malawi'), ('Gabon', 'Mali'), ('Gabon', 'Mauritania'), ('Gabon', 'Mauritius'), ('Gabon', 'Mozambique'), ('Gabon', 'Namibia'), ('Gabon', 'Niger'), ('Gabon', 'Nigeria'), ('Gabon', 'Rwanda'), ('Gabon', 'Sahrawi'), ('Gabon', 'Sao Tome and Principe'), ('Gabon', 'Senegal'), ('Gabon', 'Seychelles'), ('Gabon', 'Sierra Leone'), ('Gabon', 'Somalia'), ('Gabon', 'Sudan'), ('Gabon', 'Swaziland'), ('Gabon', 'Tanzania'), ('Gabon', 'Chad'), ('Gabon', 'Togo'), ('Gabon', 'Tunisia'), ('Gabon', 'Uganda'), ('Gabon', 'Zaire'), ('Gabon', 'Zambia'), ('Gabon', 'Zimbabwe'), ('Gabon', 'Republic of Chad'), ('Gambia', 'Ghana'), ('Gambia', 'Guinea'), ('Gambia', 'Guinea Bissau'), ('Gambia', 'Kenya'), ('Gambia', 'Lesotho'), ('Gambia', 'Liberia'), ('Gambia', 'Libya'), ('Gambia', 'Madagascar'), ('Gambia', 'Malawi'), ('Gambia', 'Mali'), ('Gambia', 'Mauritania'), ('Gambia', 'Mauritius'), ('Gambia', 'Mozambique'), ('Gambia', 'Namibia'), ('Gambia', 'Niger'), ('Gambia', 'Nigeria'), ('Gambia', 'Rwanda'), ('Gambia', 'Sahrawi'), ('Gambia', 'Sao Tome and Principe'), ('Gambia', 'Senegal'), ('Gambia', 'Seychelles'), ('Gambia', 'Sierra Leone'), ('Gambia', 'Somalia'), ('Gambia', 'Sudan'), ('Gambia', 'Swaziland'), ('Gambia', 'Tanzania'), ('Gambia', 'Chad'), ('Gambia', 'Togo'), ('Gambia', 'Tunisia'), ('Gambia', 'Uganda'), ('Gambia', 'Zaire'), ('Gambia', 'Zambia'), ('Gambia', 'Zimbabwe'), ('Ghana', 'Guinea'), ('Ghana', 'Guinea Bissau'), ('Ghana', 'Kenya'), ('Ghana', 'Lesotho'), ('Ghana', 'Liberia'), ('Ghana', 'Libya'), ('Ghana', 'Madagascar'), ('Ghana', 'Malawi'), ('Ghana', 'Mali'), ('Ghana', 'Mauritania'), ('Ghana', 'Mauritius'), ('Ghana', 'Mozambique'), ('Ghana', 'Namibia'), ('Ghana', 'Niger'), ('Ghana', 'Nigeria'), ('Ghana', 'Rwanda'), ('Ghana', 'Sahrawi'), ('Ghana', 'Sao Tome and Principe'), ('Ghana', 'Senegal'), ('Ghana', 'Seychelles'), ('Ghana', 'Sierra Leone'), ('Ghana', 'Somalia'), ('Ghana', 'Sudan'), ('Ghana', 'Swaziland'), ('Ghana', 'Tanzania'), ('Ghana', 'Chad'), ('Ghana', 'Togo'), ('Ghana', 'Tunisia'), ('Ghana', 'Uganda'), ('Ghana', 'Zaire'), ('Ghana', 'Zambia'), ('Ghana', 'Zimbabwe'), ('Ghana', 'Argentina'), ('Ghana', 'Bangladesh'), ('Ghana', 'Venezuela'), ('Ghana', 'Bolivia'), ('Ghana', 'Brazil'), ('Ghana', 'Chile'), ('Ghana', 'Colombia'), ('Ghana', 'Cuba'), ('Ghana', 'Ecuador'), ('Ghana', 'Macedonia'), ('Ghana', 'Guyana'), ('Ghana', 'India'), ('Ghana', 'Indonesia'), ('Ghana', 'Iran'), ('Ghana', 'Iraq'), ('Ghana', 'Korea'), ('Ghana', 'Malaysia'), ('Ghana', 'Mexico'), ('Ghana', 'Morocco'), ('Ghana', 'Myanmar'), ('Ghana', 'Nicaragua'), ('Ghana', 'Pakistan'), ('Ghana', 'Peru'), ('Ghana', 'Philippines'), ('Ghana', 'Romania'), ('Ghana', 'Singapore'), ('Ghana', 'Sri Lanka'), ('Ghana', 'Thailand'), ('Ghana', 'Trinidad and Tobago'), ('Ghana', 'Vietnam'), ('Guinea', 'Guinea Bissau'), ('Guinea', 'Kenya'), ('Guinea', 'Lesotho'), ('Guinea', 'Liberia'), ('Guinea', 'Libya'), ('Guinea', 'Madagascar'), ('Guinea', 'Malawi'), ('Guinea', 'Mali'), ('Guinea', 'Mauritania'), ('Guinea', 'Mauritius'), ('Guinea', 'Mozambique'), ('Guinea', 'Namibia'), ('Guinea', 'Niger'), ('Guinea', 'Nigeria'), ('Guinea', 'Rwanda'), ('Guinea', 'Sahrawi'), ('Guinea', 'Sao Tome and Principe'), ('Guinea', 'Senegal'), ('Guinea', 'Seychelles'), ('Guinea', 'Sierra Leone'), ('Guinea', 'Somalia'), ('Guinea', 'Sudan'), ('Guinea', 'Swaziland'), ('Guinea', 'Tanzania'), ('Guinea', 'Chad'), ('Guinea', 'Togo'), ('Guinea', 'Tunisia'), ('Guinea', 'Uganda'), ('Guinea', 'Zaire'), ('Guinea', 'Zambia'), ('Guinea', 'Zimbabwe'), ('Guinea', 'Argentina'), ('Guinea', 'Bangladesh'), ('Guinea', 'Venezuela'), ('Guinea', 'Bolivia'), ('Guinea', 'Brazil'), ('Guinea', 'Chile'), ('Guinea', 'Colombia'), ('Guinea', 'Cuba'), ('Guinea', 'Ecuador'), ('Guinea', 'Macedonia'), ('Guinea', 'Guyana'), ('Guinea', 'India'), ('Guinea', 'Indonesia'), ('Guinea', 'Iran'), ('Guinea', 'Iraq'), ('Guinea', 'Korea'), ('Guinea', 'Malaysia'), ('Guinea', 'Mexico'), ('Guinea', 'Morocco'), ('Guinea', 'Myanmar'), ('Guinea', 'Nicaragua'), ('Guinea', 'Pakistan'), ('Guinea', 'Peru'), ('Guinea', 'Philippines'), ('Guinea', 'Romania'), ('Guinea', 'Singapore'), ('Guinea', 'Sri Lanka'), ('Guinea', 'Thailand'), ('Guinea', 'Trinidad and Tobago'), ('Guinea', 'Vietnam'), ('Guinea Bissau', 'Kenya'), ('Guinea Bissau', 'Lesotho'), ('Guinea Bissau', 'Liberia'), ('Guinea Bissau', 'Libya'), ('Guinea Bissau', 'Madagascar'), ('Guinea Bissau', 'Malawi'), ('Guinea Bissau', 'Mali'), ('Guinea Bissau', 'Mauritania'), ('Guinea Bissau', 'Mauritius'), ('Guinea Bissau', 'Mozambique'), ('Guinea Bissau', 'Namibia'), ('Guinea Bissau', 'Niger'), ('Guinea Bissau', 'Nigeria'), ('Guinea Bissau', 'Rwanda'), ('Guinea Bissau', 'Sahrawi'), ('Guinea Bissau', 'Sao Tome and Principe'), ('Guinea Bissau', 'Senegal'), ('Guinea Bissau', 'Seychelles'), ('Guinea Bissau', 'Sierra Leone'), ('Guinea Bissau', 'Somalia'), ('Guinea Bissau', 'Sudan'), ('Guinea Bissau', 'Swaziland'), ('Guinea Bissau', 'Tanzania'), ('Guinea Bissau', 'Chad'), ('Guinea Bissau', 'Togo'), ('Guinea Bissau', 'Tunisia'), ('Guinea Bissau', 'Uganda'), ('Guinea Bissau', 'Zaire'), ('Guinea Bissau', 'Zambia'), ('Guinea Bissau', 'Zimbabwe'), ('Kenya', 'Lesotho'), ('Kenya', 'Liberia'), ('Kenya', 'Libya'), ('Kenya', 'Madagascar'), ('Kenya', 'Malawi'), ('Kenya', 'Mali'), ('Kenya', 'Mauritania'), ('Kenya', 'Mauritius'), ('Kenya', 'Mozambique'), ('Kenya', 'Namibia'), ('Kenya', 'Niger'), ('Kenya', 'Nigeria'), ('Kenya', 'Rwanda'), ('Kenya', 'Sahrawi'), ('Kenya', 'Sao Tome and Principe'), ('Kenya', 'Senegal'), ('Kenya', 'Seychelles'), ('Kenya', 'Sierra Leone'), ('Kenya', 'Somalia'), ('Kenya', 'Sudan'), ('Kenya', 'Swaziland'), ('Kenya', 'Tanzania'), ('Kenya', 'Chad'), ('Kenya', 'Togo'), ('Kenya', 'Tunisia'), ('Kenya', 'Uganda'), ('Kenya', 'Zaire'), ('Kenya', 'Zambia'), ('Kenya', 'Zimbabwe'), ('Kenya', 'Eritrea'), ('Lesotho', 'Liberia'), ('Lesotho', 'Libya'), ('Lesotho', 'Madagascar'), ('Lesotho', 'Malawi'), ('Lesotho', 'Mali'), ('Lesotho', 'Mauritania'), ('Lesotho', 'Mauritius'), ('Lesotho', 'Mozambique'), ('Lesotho', 'Namibia'), ('Lesotho', 'Niger'), ('Lesotho', 'Nigeria'), ('Lesotho', 'Rwanda'), ('Lesotho', 'Sahrawi'), ('Lesotho', 'Sao Tome and Principe'), ('Lesotho', 'Senegal'), ('Lesotho', 'Seychelles'), ('Lesotho', 'Sierra Leone'), ('Lesotho', 'Somalia'), ('Lesotho', 'Sudan'), ('Lesotho', 'Swaziland'), ('Lesotho', 'Tanzania'), ('Lesotho', 'Chad'), ('Lesotho', 'Togo'), ('Lesotho', 'Tunisia'), ('Lesotho', 'Uganda'), ('Lesotho', 'Zaire'), ('Lesotho', 'Zambia'), ('Lesotho', 'Zimbabwe'), ('Lesotho', 'Iceland'), ('Lesotho', 'Liechtenstein'), ('Lesotho', 'Norway'), ('Lesotho', 'Switzerland'), ('Lesotho', 'South Africa'), ('Liberia', 'Libya'), ('Liberia', 'Madagascar'), ('Liberia', 'Malawi'), ('Liberia', 'Mali'), ('Liberia', 'Mauritania'), ('Liberia', 'Mauritius'), ('Liberia', 'Mozambique'), ('Liberia', 'Namibia'), ('Liberia', 'Niger'), ('Liberia', 'Nigeria'), ('Liberia', 'Rwanda'), ('Liberia', 'Sahrawi'), ('Liberia', 'Sao Tome and Principe'), ('Liberia', 'Senegal'), ('Liberia', 'Seychelles'), ('Liberia', 'Sierra Leone'), ('Liberia', 'Somalia'), ('Liberia', 'Sudan'), ('Liberia', 'Swaziland'), ('Liberia', 'Tanzania'), ('Liberia', 'Chad'), ('Liberia', 'Togo'), ('Liberia', 'Tunisia'), ('Liberia', 'Uganda'), ('Liberia', 'Zaire'), ('Liberia', 'Zambia'), ('Liberia', 'Zimbabwe'), ('Libya', 'Madagascar'), ('Libya', 'Malawi'), ('Libya', 'Mali'), ('Libya', 'Mauritania'), ('Libya', 'Mauritius'), ('Libya', 'Mozambique'), ('Libya', 'Namibia'), ('Libya', 'Niger'), ('Libya', 'Nigeria'), ('Libya', 'Rwanda'), ('Libya', 'Sahrawi'), ('Libya', 'Sao Tome and Principe'), ('Libya', 'Senegal'), ('Libya', 'Seychelles'), ('Libya', 'Sierra Leone'), ('Libya', 'Somalia'), ('Libya', 'Sudan'), ('Libya', 'Swaziland'), ('Libya', 'Tanzania'), ('Libya', 'Chad'), ('Libya', 'Togo'), ('Libya', 'Tunisia'), ('Libya', 'Uganda'), ('Libya', 'Zaire'), ('Libya', 'Zambia'), ('Libya', 'Zimbabwe'), ('Libya', 'Morocco'), ('Libya', 'Argentina'), ('Libya', 'Bangladesh'), ('Libya', 'Venezuela'), ('Libya', 'Bolivia'), ('Libya', 'Brazil'), ('Libya', 'Chile'), ('Libya', 'Colombia'), ('Libya', 'Cuba'), ('Libya', 'Ecuador'), ('Libya', 'Macedonia'), ('Libya', 'Guyana'), ('Libya', 'India'), ('Libya', 'Indonesia'), ('Libya', 'Iran'), ('Libya', 'Iraq'), ('Libya', 'Korea'), ('Libya', 'Malaysia'), ('Libya', 'Mexico'), ('Libya', 'Myanmar'), ('Libya', 'Nicaragua'), ('Libya', 'Pakistan'), ('Libya', 'Peru'), ('Libya', 'Philippines'), ('Libya', 'Romania'), ('Libya', 'Singapore'), ('Libya', 'Sri Lanka'), ('Libya', 'Thailand'), ('Libya', 'Trinidad and Tobago'), ('Libya', 'Vietnam'), ('Libya', 'Bahrain'), ('Libya', 'Jordan'), ('Libya', 'Kuwait'), ('Libya', 'Lebanon'), ('Libya', 'Oman'), ('Libya', 'Qatar'), ('Libya', 'Saudi Arabia'), ('Libya', 'Syria'), ('Libya', 'United Arab Emirates'), ('Libya', 'Yemen'), ('Libya', 'Palestine'), ('Madagascar', 'Malawi'), ('Madagascar', 'Mali'), ('Madagascar', 'Mauritania'), ('Madagascar', 'Mauritius'), ('Madagascar', 'Mozambique'), ('Madagascar', 'Namibia'), ('Madagascar', 'Niger'), ('Madagascar', 'Nigeria'), ('Madagascar', 'Rwanda'), ('Madagascar', 'Sahrawi'), ('Madagascar', 'Sao Tome and Principe'), ('Madagascar', 'Senegal'), ('Madagascar', 'Seychelles'), ('Madagascar', 'Sierra Leone'), ('Madagascar', 'Somalia'), ('Madagascar', 'Sudan'), ('Madagascar', 'Swaziland'), ('Madagascar', 'Tanzania'), ('Madagascar', 'Chad'), ('Madagascar', 'Togo'), ('Madagascar', 'Tunisia'), ('Madagascar', 'Uganda'), ('Madagascar', 'Zaire'), ('Madagascar', 'Zambia'), ('Madagascar', 'Zimbabwe'), ('Madagascar', 'Eritrea'), ('Malawi', 'Mali'), ('Malawi', 'Mauritania'), ('Malawi', 'Mauritius'), ('Malawi', 'Mozambique'), ('Malawi', 'Namibia'), ('Malawi', 'Niger'), ('Malawi', 'Nigeria'), ('Malawi', 'Rwanda'), ('Malawi', 'Sahrawi'), ('Malawi', 'Sao Tome and Principe'), ('Malawi', 'Senegal'), ('Malawi', 'Seychelles'), ('Malawi', 'Sierra Leone'), ('Malawi', 'Somalia'), ('Malawi', 'Sudan'), ('Malawi', 'Swaziland'), ('Malawi', 'Tanzania'), ('Malawi', 'Chad'), ('Malawi', 'Togo'), ('Malawi', 'Tunisia'), ('Malawi', 'Uganda'), ('Malawi', 'Zaire'), ('Malawi', 'Zambia'), ('Malawi', 'Zimbabwe'), ('Malawi', 'Eritrea'), ('Malawi', 'South Africa'), ('Mali', 'Mauritania'), ('Mali', 'Mauritius'), ('Mali', 'Mozambique'), ('Mali', 'Namibia'), ('Mali', 'Niger'), ('Mali', 'Nigeria'), ('Mali', 'Rwanda'), ('Mali', 'Sahrawi'), ('Mali', 'Sao Tome and Principe'), ('Mali', 'Senegal'), ('Mali', 'Seychelles'), ('Mali', 'Sierra Leone'), ('Mali', 'Somalia'), ('Mali', 'Sudan'), ('Mali', 'Swaziland'), ('Mali', 'Tanzania'), ('Mali', 'Chad'), ('Mali', 'Togo'), ('Mali', 'Tunisia'), ('Mali', 'Uganda'), ('Mali', 'Zaire'), ('Mali', 'Zambia'), ('Mali', 'Zimbabwe'), ('Mali', 'Togo '), ('Mauritania', 'Mauritius'), ('Mauritania', 'Mozambique'), ('Mauritania', 'Namibia'), ('Mauritania', 'Niger'), ('Mauritania', 'Nigeria'), ('Mauritania', 'Rwanda'), ('Mauritania', 'Sahrawi'), ('Mauritania', 'Sao Tome and Principe'), ('Mauritania', 'Senegal'), ('Mauritania', 'Seychelles'), ('Mauritania', 'Sierra Leone'), ('Mauritania', 'Somalia'), ('Mauritania', 'Sudan'), ('Mauritania', 'Swaziland'), ('Mauritania', 'Tanzania'), ('Mauritania', 'Chad'), ('Mauritania', 'Togo'), ('Mauritania', 'Tunisia'), ('Mauritania', 'Uganda'), ('Mauritania', 'Zaire'), ('Mauritania', 'Zambia'), ('Mauritania', 'Zimbabwe'), ('Mauritania', 'Morocco'), ('Mauritius', 'Mozambique'), ('Mauritius', 'Namibia'), ('Mauritius', 'Niger'), ('Mauritius', 'Nigeria'), ('Mauritius', 'Rwanda'), ('Mauritius', 'Sahrawi'), ('Mauritius', 'Sao Tome and Principe'), ('Mauritius', 'Senegal'), ('Mauritius', 'Seychelles'), ('Mauritius', 'Sierra Leone'), ('Mauritius', 'Somalia'), ('Mauritius', 'Sudan'), ('Mauritius', 'Swaziland'), ('Mauritius', 'Tanzania'), ('Mauritius', 'Chad'), ('Mauritius', 'Togo'), ('Mauritius', 'Tunisia'), ('Mauritius', 'Uganda'), ('Mauritius', 'Zaire'), ('Mauritius', 'Zambia'), ('Mauritius', 'Zimbabwe'), ('Mauritius', 'Eritrea'), ('Mauritius', 'Pakistan'), ('Mauritius', 'South Africa'), ('Mozambique', 'Namibia'), ('Mozambique', 'Niger'), ('Mozambique', 'Nigeria'), ('Mozambique', 'Rwanda'), ('Mozambique', 'Sahrawi'), ('Mozambique', 'Sao Tome and Principe'), ('Mozambique', 'Senegal'), ('Mozambique', 'Seychelles'), ('Mozambique', 'Sierra Leone'), ('Mozambique', 'Somalia'), ('Mozambique', 'Sudan'), ('Mozambique', 'Swaziland'), ('Mozambique', 'Tanzania'), ('Mozambique', 'Chad'), ('Mozambique', 'Togo'), ('Mozambique', 'Tunisia'), ('Mozambique', 'Uganda'), ('Mozambique', 'Zaire'), ('Mozambique', 'Zambia'), ('Mozambique', 'Zimbabwe'), ('Mozambique', 'Argentina'), ('Mozambique', 'Bangladesh'), ('Mozambique', 'Venezuela'), ('Mozambique', 'Bolivia'), ('Mozambique', 'Brazil'), ('Mozambique', 'Chile'), ('Mozambique', 'Colombia'), ('Mozambique', 'Cuba'), ('Mozambique', 'Ecuador'), ('Mozambique', 'Macedonia'), ('Mozambique', 'Guyana'), ('Mozambique', 'India'), ('Mozambique', 'Indonesia'), ('Mozambique', 'Iran'), ('Mozambique', 'Iraq'), ('Mozambique', 'Korea'), ('Mozambique', 'Malaysia'), ('Mozambique', 'Mexico'), ('Mozambique', 'Morocco'), ('Mozambique', 'Myanmar'), ('Mozambique', 'Nicaragua'), ('Mozambique', 'Pakistan'), ('Mozambique', 'Peru'), ('Mozambique', 'Philippines'), ('Mozambique', 'Romania'), ('Mozambique', 'Singapore'), ('Mozambique', 'Sri Lanka'), ('Mozambique', 'Thailand'), ('Mozambique', 'Trinidad and Tobago'), ('Mozambique', 'Vietnam'), ('Mozambique', 'South Africa'), ('Namibia', 'Niger'), ('Namibia', 'Nigeria'), ('Namibia', 'Rwanda'), ('Namibia', 'Sahrawi'), ('Namibia', 'Sao Tome and Principe'), ('Namibia', 'Senegal'), ('Namibia', 'Seychelles'), ('Namibia', 'Sierra Leone'), ('Namibia', 'Somalia'), ('Namibia', 'Sudan'), ('Namibia', 'Swaziland'), ('Namibia', 'Tanzania'), ('Namibia', 'Chad'), ('Namibia', 'Togo'), ('Namibia', 'Tunisia'), ('Namibia', 'Uganda'), ('Namibia', 'Zaire'), ('Namibia', 'Zambia'), ('Namibia', 'Zimbabwe'), ('Namibia', 'Eritrea'), ('Namibia', 'Iceland'), ('Namibia', 'Liechtenstein'), ('Namibia', 'Norway'), ('Namibia', 'Switzerland'), ('Namibia', 'South Africa'), ('Niger', 'Nigeria'), ('Niger', 'Rwanda'), ('Niger', 'Sahrawi'), ('Niger', 'Sao Tome and Principe'), ('Niger', 'Senegal'), ('Niger', 'Seychelles'), ('Niger', 'Sierra Leone'), ('Niger', 'Somalia'), ('Niger', 'Sudan'), ('Niger', 'Swaziland'), ('Niger', 'Tanzania'), ('Niger', 'Chad'), ('Niger', 'Togo'), ('Niger', 'Tunisia'), ('Niger', 'Uganda'), ('Niger', 'Zaire'), ('Niger', 'Zambia'), ('Niger', 'Zimbabwe'), ('Niger', 'Togo '), ('Nigeria', 'Rwanda'), ('Nigeria', 'Sahrawi'), ('Nigeria', 'Sao Tome and Principe'), ('Nigeria', 'Senegal'), ('Nigeria', 'Seychelles'), ('Nigeria', 'Sierra Leone'), ('Nigeria', 'Somalia'), ('Nigeria', 'Sudan'), ('Nigeria', 'Swaziland'), ('Nigeria', 'Tanzania'), ('Nigeria', 'Chad'), ('Nigeria', 'Togo'), ('Nigeria', 'Tunisia'), ('Nigeria', 'Uganda'), ('Nigeria', 'Zaire'), ('Nigeria', 'Zambia'), ('Nigeria', 'Zimbabwe'), ('Nigeria', 'Argentina'), ('Nigeria', 'Bangladesh'), ('Nigeria', 'Venezuela'), ('Nigeria', 'Bolivia'), ('Nigeria', 'Brazil'), ('Nigeria', 'Chile'), ('Nigeria', 'Colombia'), ('Nigeria', 'Cuba'), ('Nigeria', 'Ecuador'), ('Nigeria', 'Macedonia'), ('Nigeria', 'Guyana'), ('Nigeria', 'India'), ('Nigeria', 'Indonesia'), ('Nigeria', 'Iran'), ('Nigeria', 'Iraq'), ('Nigeria', 'Korea'), ('Nigeria', 'Malaysia'), ('Nigeria', 'Mexico'), ('Nigeria', 'Morocco'), ('Nigeria', 'Myanmar'), ('Nigeria', 'Nicaragua'), ('Nigeria', 'Pakistan'), ('Nigeria', 'Peru'), ('Nigeria', 'Philippines'), ('Nigeria', 'Romania'), ('Nigeria', 'Singapore'), ('Nigeria', 'Sri Lanka'), ('Nigeria', 'Thailand'), ('Nigeria', 'Trinidad and Tobago'), ('Nigeria', 'Vietnam'), ('Rwanda', 'Sahrawi'), ('Rwanda', 'Sao Tome and Principe'), ('Rwanda', 'Senegal'), ('Rwanda', 'Seychelles'), ('Rwanda', 'Sierra Leone'), ('Rwanda', 'Somalia'), ('Rwanda', 'Sudan'), ('Rwanda', 'Swaziland'), ('Rwanda', 'Tanzania'), ('Rwanda', 'Chad'), ('Rwanda', 'Togo'), ('Rwanda', 'Tunisia'), ('Rwanda', 'Uganda'), ('Rwanda', 'Zaire'), ('Rwanda', 'Zambia'), ('Rwanda', 'Zimbabwe'), ('Rwanda', 'Eritrea'), ('Rwanda', 'Republic of Chad'), ('Sahrawi', 'Sao Tome and Principe'), ('Sahrawi', 'Senegal'), ('Sahrawi', 'Seychelles'), ('Sahrawi', 'Sierra Leone'), ('Sahrawi', 'Somalia'), ('Sahrawi', 'Sudan'), ('Sahrawi', 'Swaziland'), ('Sahrawi', 'Tanzania'), ('Sahrawi', 'Chad'), ('Sahrawi', 'Togo'), ('Sahrawi', 'Tunisia'), ('Sahrawi', 'Uganda'), ('Sahrawi', 'Zaire'), ('Sahrawi', 'Zambia'), ('Sahrawi', 'Zimbabwe'), ('Sao Tome and Principe', 'Senegal'), ('Sao Tome and Principe', 'Seychelles'), ('Sao Tome and Principe', 'Sierra Leone'), ('Sao Tome and Principe', 'Somalia'), ('Sao Tome and Principe', 'Sudan'), ('Sao Tome and Principe', 'Swaziland'), ('Sao Tome and Principe', 'Tanzania'), ('Sao Tome and Principe', 'Chad'), ('Sao Tome and Principe', 'Togo'), ('Sao Tome and Principe', 'Tunisia'), ('Sao Tome and Principe', 'Uganda'), ('Sao Tome and Principe', 'Zaire'), ('Sao Tome and Principe', 'Zambia'), ('Sao Tome and Principe', 'Zimbabwe'), ('Sao Tome and Principe', 'Republic of Chad'), ('Senegal', 'Seychelles'), ('Senegal', 'Sierra Leone'), ('Senegal', 'Somalia'), ('Senegal', 'Sudan'), ('Senegal', 'Swaziland'), ('Senegal', 'Tanzania'), ('Senegal', 'Chad'), ('Senegal', 'Togo'), ('Senegal', 'Tunisia'), ('Senegal', 'Uganda'), ('Senegal', 'Zaire'), ('Senegal', 'Zambia'), ('Senegal', 'Zimbabwe'), ('Senegal', 'Togo '), ('Seychelles', 'Sierra Leone'), ('Seychelles', 'Somalia'), ('Seychelles', 'Sudan'), ('Seychelles', 'Swaziland'), ('Seychelles', 'Tanzania'), ('Seychelles', 'Chad'), ('Seychelles', 'Togo'), ('Seychelles', 'Tunisia'), ('Seychelles', 'Uganda'), ('Seychelles', 'Zaire'), ('Seychelles', 'Zambia'), ('Seychelles', 'Zimbabwe'), ('Seychelles', 'Eritrea'), ('Seychelles', 'South Africa'), ('Sierra Leone', 'Somalia'), ('Sierra Leone', 'Sudan'), ('Sierra Leone', 'Swaziland'), ('Sierra Leone', 'Tanzania'), ('Sierra Leone', 'Chad'), ('Sierra Leone', 'Togo'), ('Sierra Leone', 'Tunisia'), ('Sierra Leone', 'Uganda'), ('Sierra Leone', 'Zaire'), ('Sierra Leone', 'Zambia'), ('Sierra Leone', 'Zimbabwe'), ('Somalia', 'Sudan'), ('Somalia', 'Swaziland'), ('Somalia', 'Tanzania'), ('Somalia', 'Chad'), ('Somalia', 'Togo'), ('Somalia', 'Tunisia'), ('Somalia', 'Uganda'), ('Somalia', 'Zaire'), ('Somalia', 'Zambia'), ('Somalia', 'Zimbabwe'), ('Somalia', 'Eritrea'), ('Sudan', 'Swaziland'), ('Sudan', 'Tanzania'), ('Sudan', 'Chad'), ('Sudan', 'Togo'), ('Sudan', 'Tunisia'), ('Sudan', 'Uganda'), ('Sudan', 'Zaire'), ('Sudan', 'Zambia'), ('Sudan', 'Zimbabwe'), ('Sudan', 'Eritrea'), ('Sudan', 'Argentina'), ('Sudan', 'Bangladesh'), ('Sudan', 'Venezuela'), ('Sudan', 'Bolivia'), ('Sudan', 'Brazil'), ('Sudan', 'Chile'), ('Sudan', 'Colombia'), ('Sudan', 'Cuba'), ('Sudan', 'Ecuador'), ('Sudan', 'Macedonia'), ('Sudan', 'Guyana'), ('Sudan', 'India'), ('Sudan', 'Indonesia'), ('Sudan', 'Iran'), ('Sudan', 'Iraq'), ('Sudan', 'Korea'), ('Sudan', 'Malaysia'), ('Sudan', 'Mexico'), ('Sudan', 'Morocco'), ('Sudan', 'Myanmar'), ('Sudan', 'Nicaragua'), ('Sudan', 'Pakistan'), ('Sudan', 'Peru'), ('Sudan', 'Philippines'), ('Sudan', 'Romania'), ('Sudan', 'Singapore'), ('Sudan', 'Sri Lanka'), ('Sudan', 'Thailand'), ('Sudan', 'Trinidad and Tobago'), ('Sudan', 'Vietnam'), ('Sudan', 'Bahrain'), ('Sudan', 'Jordan'), ('Sudan', 'Kuwait'), ('Sudan', 'Lebanon'), ('Sudan', 'Oman'), ('Sudan', 'Qatar'), ('Sudan', 'Saudi Arabia'), ('Sudan', 'Syria'), ('Sudan', 'United Arab Emirates'), ('Sudan', 'Yemen'), ('Sudan', 'Palestine'), ('Swaziland', 'Tanzania'), ('Swaziland', 'Chad'), ('Swaziland', 'Togo'), ('Swaziland', 'Tunisia'), ('Swaziland', 'Uganda'), ('Swaziland', 'Zaire'), ('Swaziland', 'Zambia'), ('Swaziland', 'Zimbabwe'), ('Swaziland', 'Eritrea'), ('Swaziland', 'Iceland'), ('Swaziland', 'Liechtenstein'), ('Swaziland', 'Norway'), ('Swaziland', 'Switzerland'), ('Swaziland', 'South Africa'), ('Tanzania', 'Chad'), ('Tanzania', 'Togo'), ('Tanzania', 'Tunisia'), ('Tanzania', 'Uganda'), ('Tanzania', 'Zaire'), ('Tanzania', 'Zambia'), ('Tanzania', 'Zimbabwe'), ('Tanzania', 'Eritrea'), ('Tanzania', 'Argentina'), ('Tanzania', 'Bangladesh'), ('Tanzania', 'Venezuela'), ('Tanzania', 'Bolivia'), ('Tanzania', 'Brazil'), ('Tanzania', 'Chile'), ('Tanzania', 'Colombia'), ('Tanzania', 'Cuba'), ('Tanzania', 'Ecuador'), ('Tanzania', 'Macedonia'), ('Tanzania', 'Guyana'), ('Tanzania', 'India'), ('Tanzania', 'Indonesia'), ('Tanzania', 'Iran'), ('Tanzania', 'Iraq'), ('Tanzania', 'Korea'), ('Tanzania', 'Malaysia'), ('Tanzania', 'Mexico'), ('Tanzania', 'Morocco'), ('Tanzania', 'Myanmar'), ('Tanzania', 'Nicaragua'), ('Tanzania', 'Pakistan'), ('Tanzania', 'Peru'), ('Tanzania', 'Philippines'), ('Tanzania', 'Romania'), ('Tanzania', 'Singapore'), ('Tanzania', 'Sri Lanka'), ('Tanzania', 'Thailand'), ('Tanzania', 'Trinidad and Tobago'), ('Tanzania', 'Vietnam'), ('Tanzania', 'South Africa'), ('Chad', 'Togo'), ('Chad', 'Tunisia'), ('Chad', 'Uganda'), ('Chad', 'Zaire'), ('Chad', 'Zambia'), ('Chad', 'Zimbabwe'), ('Togo', 'Tunisia'), ('Togo', 'Uganda'), ('Togo', 'Zaire'), ('Togo', 'Zambia'), ('Togo', 'Zimbabwe'), ('Tunisia', 'Uganda'), ('Tunisia', 'Zaire'), ('Tunisia', 'Zambia'), ('Tunisia', 'Zimbabwe'), ('Tunisia', 'Jordan'), ('Tunisia', 'Morocco'), ('Tunisia', 'Austria'), ('Tunisia', 'Belgium'), ('Tunisia', 'Bulgaria'), ('Tunisia', 'Cyprus'), ('Tunisia', 'Czech Republic'), ('Tunisia', 'Denmark'), ('Tunisia', 'Estonia'), ('Tunisia', 'Finland'), ('Tunisia', 'France'), ('Tunisia', 'Germany'), ('Tunisia', 'Greece'), ('Tunisia', 'Hungary'), ('Tunisia', 'Ireland'), ('Tunisia', 'Italy'), ('Tunisia', 'Latvia'), ('Tunisia', 'Lithuania'), ('Tunisia', 'Luxembourg'), ('Tunisia', 'Malta'), ('Tunisia', 'Netherlands'), ('Tunisia', 'Poland'), ('Tunisia', 'Portugal'), ('Tunisia', 'Romania'), ('Tunisia', 'Slovak Republic'), ('Tunisia', 'Slovenia'), ('Tunisia', 'Spain'), ('Tunisia', 'Sweden'), ('Tunisia', 'United Kingdom'), ('Tunisia', 'Iceland'), ('Tunisia', 'Liechtenstein'), ('Tunisia', 'Norway'), ('Tunisia', 'Switzerland'), ('Tunisia', 'Argentina'), ('Tunisia', 'Bangladesh'), ('Tunisia', 'Venezuela'), ('Tunisia', 'Bolivia'), ('Tunisia', 'Brazil'), ('Tunisia', 'Chile'), ('Tunisia', 'Colombia'), ('Tunisia', 'Cuba'), ('Tunisia', 'Ecuador'), ('Tunisia', 'Macedonia'), ('Tunisia', 'Guyana'), ('Tunisia', 'India'), ('Tunisia', 'Indonesia'), ('Tunisia', 'Iran'), ('Tunisia', 'Iraq'), ('Tunisia', 'Korea'), ('Tunisia', 'Malaysia'), ('Tunisia', 'Mexico'), ('Tunisia', 'Myanmar'), ('Tunisia', 'Nicaragua'), ('Tunisia', 'Pakistan'), ('Tunisia', 'Peru'), ('Tunisia', 'Philippines'), ('Tunisia', 'Singapore'), ('Tunisia', 'Sri Lanka'), ('Tunisia', 'Thailand'), ('Tunisia', 'Trinidad and Tobago'), ('Tunisia', 'Vietnam'), ('Tunisia', 'Bahrain'), ('Tunisia', 'Kuwait'), ('Tunisia', 'Lebanon'), ('Tunisia', 'Oman'), ('Tunisia', 'Qatar'), ('Tunisia', 'Saudi Arabia'), ('Tunisia', 'Syria'), ('Tunisia', 'United Arab Emirates'), ('Tunisia', 'Yemen'), ('Tunisia', 'Palestine'), ('Tunisia', 'Israel'), ('Tunisia', 'Turkey'), ('Tunisia', 'Uruguay'), ('Tunisia', 'Yugoslavia'), ('Uganda', 'Zaire'), ('Uganda', 'Zambia'), ('Uganda', 'Zimbabwe'), ('Uganda', 'Eritrea'), ('Zaire', 'Zambia'), ('Zaire', 'Zimbabwe'), ('Zaire', 'Republic of Chad'), ('Zambia', 'Zimbabwe'), ('Zambia', 'Eritrea'), ('Zambia', 'South Africa'), ('Zimbabwe', 'Eritrea'), ('Zimbabwe', 'Argentina'), ('Zimbabwe', 'Bangladesh'), ('Zimbabwe', 'Venezuela'), ('Zimbabwe', 'Bolivia'), ('Zimbabwe', 'Brazil'), ('Zimbabwe', 'Chile'), ('Zimbabwe', 'Colombia'), ('Zimbabwe', 'Cuba'), ('Zimbabwe', 'Ecuador'), ('Zimbabwe', 'Macedonia'), ('Zimbabwe', 'Guyana'), ('Zimbabwe', 'India'), ('Zimbabwe', 'Indonesia'), ('Zimbabwe', 'Iran'), ('Zimbabwe', 'Iraq'), ('Zimbabwe', 'Korea'), ('Zimbabwe', 'Malaysia'), ('Zimbabwe', 'Mexico'), ('Zimbabwe', 'Morocco'), ('Zimbabwe', 'Myanmar'), ('Zimbabwe', 'Nicaragua'), ('Zimbabwe', 'Pakistan'), ('Zimbabwe', 'Peru'), ('Zimbabwe', 'Philippines'), ('Zimbabwe', 'Romania'), ('Zimbabwe', 'Singapore'), ('Zimbabwe', 'Sri Lanka'), ('Zimbabwe', 'Thailand'), ('Zimbabwe', 'Trinidad and Tobago'), ('Zimbabwe', 'Vietnam'), ('Zimbabwe', 'South Africa'), ('Afghanistan', 'India'), ('Afghanistan', 'Azerbaijan'), ('Afghanistan', 'Iran'), ('Afghanistan', 'Kazakhstan'), ('Afghanistan', 'Kyrgyz Republic'), ('Afghanistan', 'Pakistan'), ('Afghanistan', 'Tajikistan'), ('Afghanistan', 'Turkey'), ('Afghanistan', 'Turkmenistan'), ('Afghanistan', 'Uzbekistan'), ('India', 'Brunei Darussalam'), ('India', 'Cambodia'), ('India', 'Indonesia'), ('India', 'Laos'), ('India', 'Malaysia'), ('India', 'Myanmar'), ('India', 'Philippines'), ('India', 'Singapore'), ('India', 'Thailand'), ('India', 'Vietnam'), ('India', 'Bangladesh'), ('India', 'China'), ('India', 'Korea'), ('India', 'Sri Lanka'), ('India', 'Bhutan'), ('India', 'Nepal'), ('India', 'Chile'), ('India', 'Argentina'), ('India', 'Venezuela'), ('India', 'Bolivia'), ('India', 'Brazil'), ('India', 'Colombia'), ('India', 'Cuba'), ('India', 'Ecuador'), ('India', 'Macedonia'), ('India', 'Guyana'), ('India', 'Iran'), ('India', 'Iraq'), ('India', 'Mexico'), ('India', 'Morocco'), ('India', 'Nicaragua'), ('India', 'Pakistan'), ('India', 'Peru'), ('India', 'Romania'), ('India', 'Trinidad and Tobago'), ('India', 'Japan'), ('India', 'Maldives'), ('India', 'Mongolia'), ('India', 'Paraguay'), ('India', 'Uruguay'), ('India', 'Israel'), ('India', 'Spain'), ('India', 'Turkey'), ('India', 'Yugoslavia'), ('Jordan', 'Morocco'), ('Jordan', 'Bahrain'), ('Jordan', 'Belgium'), ('Jordan', 'Denmark'), ('Jordan', 'Germany'), ('Jordan', 'Greece'), ('Jordan', 'Spain'), ('Jordan', 'Ireland'), ('Jordan', 'Italy'), ('Jordan', 'Luxembourg'), ('Jordan', 'Netherlands'), ('Jordan', 'Austria'), ('Jordan', 'Portugal'), ('Jordan', 'Finland'), ('Jordan', 'Sweden'), ('Jordan', 'United Kingdom'), ('Jordan', 'Iceland'), ('Jordan', 'Liechtenstein'), ('Jordan', 'Norway'), ('Jordan', 'Switzerland'), ('Jordan', 'Israel'), ('Jordan', 'Singapore'), ('Jordan', 'Syria'), ('Jordan', 'United Arab Emirates'), ('Jordan', 'Iraq'), ('Jordan', 'Kuwait'), ('Jordan', 'Lebanon'), ('Jordan', 'Oman'), ('Jordan', 'Qatar'), ('Jordan', 'Saudi Arabia'), ('Jordan', 'Yemen'), ('Jordan', 'Palestine'), ('Jordan', 'United States'), ('Morocco', 'Austria'), ('Morocco', 'Belgium'), ('Morocco', 'Denmark'), ('Morocco', 'Finland'), ('Morocco', 'France'), ('Morocco', 'Germany'), ('Morocco', 'Greece'), ('Morocco', 'Ireland'), ('Morocco', 'Italy'), ('Morocco', 'Luxembourg'), ('Morocco', 'Netherlands'), ('Morocco', 'Portugal'), ('Morocco', 'Spain'), ('Morocco', 'Sweden'), ('Morocco', 'United Kingdom'), ('Morocco', 'Iceland'), ('Morocco', 'Liechtenstein'), ('Morocco', 'Norway'), ('Morocco', 'Switzerland'), ('Morocco', 'Argentina'), ('Morocco', 'Bangladesh'), ('Morocco', 'Venezuela'), ('Morocco', 'Bolivia'), ('Morocco', 'Brazil'), ('Morocco', 'Chile'), ('Morocco', 'Colombia'), ('Morocco', 'Cuba'), ('Morocco', 'Ecuador'), ('Morocco', 'Macedonia'), ('Morocco', 'Guyana'), ('Morocco', 'Indonesia'), ('Morocco', 'Iran'), ('Morocco', 'Iraq'), ('Morocco', 'Korea'), ('Morocco', 'Malaysia'), ('Morocco', 'Mexico'), ('Morocco', 'Myanmar'), ('Morocco', 'Nicaragua'), ('Morocco', 'Pakistan'), ('Morocco', 'Peru'), ('Morocco', 'Philippines'), ('Morocco', 'Romania'), ('Morocco', 'Singapore'), ('Morocco', 'Sri Lanka'), ('Morocco', 'Thailand'), ('Morocco', 'Trinidad and Tobago'), ('Morocco', 'Vietnam'), ('Morocco', 'Turkey'), ('Morocco', 'Bahrain'), ('Morocco', 'Kuwait'), ('Morocco', 'Lebanon'), ('Morocco', 'Oman'), ('Morocco', 'Qatar'), ('Morocco', 'Saudi Arabia'), ('Morocco', 'Syria'), ('Morocco', 'United Arab Emirates'), ('Morocco', 'Yemen'), ('Morocco', 'Palestine'), ('Morocco', 'United States'), ('Albania', 'Croatia'), ('Albania', 'Macedonia'), ('Albania', 'Moldova'), ('Albania', 'Turkey'), ('Albania', 'Kosovo'), ('Albania', 'Bulgaria'), ('Albania', 'Romania'), ('Albania', 'Bosnia and Herzegovina'), ('Albania', 'Montenegro'), ('Albania', 'Serbia'), ('Albania', 'Austria'), ('Albania', 'Belgium'), ('Albania', 'Denmark'), ('Albania', 'Finland'), ('Albania', 'France'), ('Albania', 'Germany'), ('Albania', 'Greece'), ('Albania', 'Ireland'), ('Albania', 'Italy'), ('Albania', 'Luxembourg'), ('Albania', 'Netherlands'), ('Albania', 'Portugal'), ('Albania', 'Spain'), ('Albania', 'Sweden'), ('Albania', 'United Kingdom'), ('Albania', 'United States'), ('Croatia', 'Bosnia and Herzegovina'), ('Croatia', 'Bulgaria'), ('Croatia', 'Czech Republic'), ('Croatia', 'Hungary'), ('Croatia', 'Poland'), ('Croatia', 'Romania'), ('Croatia', 'Slovak Republic'), ('Croatia', 'Slovenia'), ('Croatia', 'Croatia'), ('Croatia', 'Macedonia'), ('Croatia', 'Moldova'), ('Croatia', 'Montenegro'), ('Croatia', 'Serbia'), ('Croatia', 'Lithuania'), ('Croatia', ' Macedonia'), ('Croatia', 'Turkey'), ('Croatia', 'Austria'), ('Croatia', 'Belgium'), ('Croatia', 'Cyprus'), ('Croatia', 'Denmark'), ('Croatia', 'Estonia'), ('Croatia', 'Finland'), ('Croatia', 'France'), ('Croatia', 'Germany'), ('Croatia', 'Greece'), ('Croatia', 'Ireland'), ('Croatia', 'Italy'), ('Croatia', 'Latvia'), ('Croatia', 'Luxembourg'), ('Croatia', 'Malta'), ('Croatia', 'Netherlands'), ('Croatia', 'Portugal'), ('Croatia', 'Spain'), ('Croatia', 'Sweden'), ('Croatia', 'United Kingdom'), ('Croatia', 'Iceland'), ('Croatia', 'Liechtenstein'), ('Croatia', 'Norway'), ('Croatia', 'Switzerland'), ('Macedonia', 'Bosnia and Herzegovina'), ('Macedonia', 'Bulgaria'), ('Macedonia', 'Moldova'), ('Macedonia', 'Montenegro'), ('Macedonia', 'Romania'), ('Macedonia', 'Serbia'), ('Macedonia', 'Austria'), ('Macedonia', 'Belgium'), ('Macedonia', 'Denmark'), ('Macedonia', 'Finland'), ('Macedonia', 'France'), ('Macedonia', 'Germany'), ('Macedonia', 'Greece'), ('Macedonia', 'Ireland'), ('Macedonia', 'Italy'), ('Macedonia', 'Luxembourg'), ('Macedonia', 'Netherlands'), ('Macedonia', 'Portugal'), ('Macedonia', 'Spain'), ('Macedonia', 'Sweden'), ('Macedonia', 'United Kingdom'), ('Macedonia', 'Argentina'), ('Macedonia', 'Bangladesh'), ('Macedonia', 'Venezuela'), ('Macedonia', 'Bolivia'), ('Macedonia', 'Brazil'), ('Macedonia', 'Chile'), ('Macedonia', 'Colombia'), ('Macedonia', 'Cuba'), ('Macedonia', 'Ecuador'), ('Macedonia', 'Guyana'), ('Macedonia', 'Indonesia'), ('Macedonia', 'Iran'), ('Macedonia', 'Iraq'), ('Macedonia', 'Korea'), ('Macedonia', 'Malaysia'), ('Macedonia', 'Mexico'), ('Macedonia', 'Myanmar'), ('Macedonia', 'Nicaragua'), ('Macedonia', 'Pakistan'), ('Macedonia', 'Peru'), ('Macedonia', 'Philippines'), ('Macedonia', 'Singapore'), ('Macedonia', 'Sri Lanka'), ('Macedonia', 'Thailand'), ('Macedonia', 'Trinidad and Tobago'), ('Macedonia', 'Vietnam'), ('Moldova', 'Armenia'), ('Moldova', 'Bosnia and Herzegovina'), ('Moldova', 'Bulgaria'), ('Moldova', 'Montenegro'), ('Moldova', 'Romania'), ('Moldova', 'Serbia'), ('Moldova', 'Azerbaijan'), ('Moldova', 'Belarus'), ('Moldova', 'Georgia'), ('Moldova', 'Kazakhstan'), ('Moldova', 'Kyrgyz Republic'), ('Moldova', 'Russia'), ('Moldova', 'Tajikistan'), ('Moldova', 'Ukraine'), ('Moldova', 'Uzbekistan'), ('Moldova', ' Macedonia'), ('Moldova', 'Bosnia and Herzegovina '), ('Turkey', 'Bulgaria'), ('Turkey', 'Czech Republic'), ('Turkey', 'Austria'), ('Turkey', 'Belgium'), ('Turkey', 'Denmark'), ('Turkey', 'Finland'), ('Turkey', 'France'), ('Turkey', 'Germany'), ('Turkey', 'Greece'), ('Turkey', 'Ireland'), ('Turkey', 'Italy'), ('Turkey', 'Luxembourg'), ('Turkey', 'Netherlands'), ('Turkey', 'Portugal'), ('Turkey', 'Spain'), ('Turkey', 'Sweden'), ('Turkey', 'United Kingdom'), ('Turkey', 'Azerbaijan'), ('Turkey', 'Iran'), ('Turkey', 'Kazakhstan'), ('Turkey', 'Kyrgyz Republic'), ('Turkey', 'Pakistan'), ('Turkey', 'Tajikistan'), ('Turkey', 'Turkmenistan'), ('Turkey', 'Uzbekistan'), ('Turkey', 'Iceland'), ('Turkey', 'Liechtenstein'), ('Turkey', 'Norway'), ('Turkey', 'Switzerland'), ('Turkey', 'Estonia'), ('Turkey', ' Macedonia'), ('Turkey', 'Georgia'), ('Turkey', 'Hungary'), ('Turkey', 'Israel'), ('Turkey', 'Latvia'), ('Turkey', 'Lithuania'), ('Turkey', 'Palestine'), ('Turkey', 'Poland'), ('Turkey', 'Bangladesh'), ('Turkey', 'Brazil'), ('Turkey', 'Chile'), ('Turkey', 'Korea'), ('Turkey', 'Mexico'), ('Turkey', 'Peru'), ('Turkey', 'Romania'), ('Turkey', 'Uruguay'), ('Turkey', 'Yugoslavia'), ('Turkey', 'Slovak Republic'), ('Turkey', 'Slovenia'), ('Turkey', 'Syria'), ('Turkey', 'Bosnia and Herzegovina'), ('Bulgaria', 'Bosnia and Herzegovina'), ('Bulgaria', 'Estonia'), ('Bulgaria', 'Israel'), ('Bulgaria', 'Latvia'), ('Bulgaria', 'Lithuania'), ('Bulgaria', 'Czech Republic'), ('Bulgaria', 'Hungary'), ('Bulgaria', 'Poland'), ('Bulgaria', 'Romania'), ('Bulgaria', 'Slovak Republic'), ('Bulgaria', 'Slovenia'), ('Bulgaria', 'Montenegro'), ('Bulgaria', 'Serbia'), ('Bulgaria', 'Austria'), ('Bulgaria', 'Belgium'), ('Bulgaria', 'Cyprus'), ('Bulgaria', 'Denmark'), ('Bulgaria', 'Germany'), ('Bulgaria', 'Greece'), ('Bulgaria', 'Finland'), ('Bulgaria', 'France'), ('Bulgaria', 'Ireland'), ('Bulgaria', 'Italy'), ('Bulgaria', 'Luxembourg'), ('Bulgaria', 'Malta'), ('Bulgaria', 'Netherlands'), ('Bulgaria', 'Portugal'), ('Bulgaria', 'Spain'), ('Bulgaria', 'Sweden'), ('Bulgaria', 'United Kingdom'), ('Bulgaria', 'Antigua and Barbuda'), ('Bulgaria', 'Bahamas'), ('Bulgaria', 'Barbados'), ('Bulgaria', 'Belize'), ('Bulgaria', 'Dominica'), ('Bulgaria', 'Dominican Republic'), ('Bulgaria', 'Grenada'), ('Bulgaria', 'Guyana'), ('Bulgaria', 'Jamaica'), ('Bulgaria', 'Saint Kitts and Nevis'), ('Bulgaria', 'Saint Lucia'), ('Bulgaria', 'Saint Vincent and the Grenadines'), ('Bulgaria', 'Suriname'), ('Bulgaria', 'Trinidad and Tobago'), ('Bulgaria', 'Lebanon'), ('Bulgaria', 'Anguilla'), ('Bulgaria', 'Aruba'), ('Bulgaria', 'British Indian Ocean Territory'), ('Bulgaria', 'Cayman Islands'), ('Bulgaria', 'Falkland or Malvinas'), ('Bulgaria', 'French Polynesia'), ('Bulgaria', 'French Southern Territories'), ('Bulgaria', 'Greenland'), ('Bulgaria', 'Mayotte'), ('Bulgaria', 'Montserrat'), ('Bulgaria', 'Netherlands Antilles'), ('Bulgaria', 'New Caledonia'), ('Bulgaria', 'Pitcairn'), ('Bulgaria', 'Saint Helena'), ('Bulgaria', 'Saint Pierre and Miquelon'), ('Bulgaria', 'South Georgia and the South Sandwich Islands'), ('Bulgaria', 'Turks and Caicos Islands'), ('Bulgaria', 'Virgin Islands'), ('Bulgaria', 'British'), ('Bulgaria', 'Wallis and Futuna Islands'), ('Bulgaria', 'Palestine'), ('Bulgaria', 'San Marino'), ('Bulgaria', 'Switzerland'), ('Bulgaria', 'Liechtenstein'), ('Bulgaria', 'Iceland'), ('Bulgaria', 'Norway'), ('Romania', 'Bosnia and Herzegovina'), ('Romania', 'Czech Republic'), ('Romania', 'Hungary'), ('Romania', 'Poland'), ('Romania', 'Slovak Republic'), ('Romania', 'Slovenia'), ('Romania', 'Montenegro'), ('Romania', 'Serbia'), ('Romania', 'Austria'), ('Romania', 'Belgium'), ('Romania', 'Cyprus'), ('Romania', 'Denmark'), ('Romania', 'Estonia'), ('Romania', 'Germany'), ('Romania', 'Greece'), ('Romania', 'Finland'), ('Romania', 'France'), ('Romania', 'Ireland'), ('Romania', 'Italy'), ('Romania', 'Latvia'), ('Romania', 'Lithuania'), ('Romania', 'Luxembourg'), ('Romania', 'Malta'), ('Romania', 'Netherlands'), ('Romania', 'Portugal'), ('Romania', 'Spain'), ('Romania', 'Sweden'), ('Romania', 'United Kingdom'), ('Romania', 'Antigua and Barbuda'), ('Romania', 'Bahamas'), ('Romania', 'Barbados'), ('Romania', 'Belize'), ('Romania', 'Dominica'), ('Romania', 'Dominican Republic'), ('Romania', 'Grenada'), ('Romania', 'Guyana'), ('Romania', 'Jamaica'), ('Romania', 'Saint Kitts and Nevis'), ('Romania', 'Saint Lucia'), ('Romania', 'Saint Vincent and the Grenadines'), ('Romania', 'Suriname'), ('Romania', 'Trinidad and Tobago'), ('Romania', 'Lebanon'), ('Romania', 'Anguilla'), ('Romania', 'Aruba'), ('Romania', 'British Indian Ocean Territory'), ('Romania', 'Cayman Islands'), ('Romania', 'Falkland or Malvinas'), ('Romania', 'French Polynesia'), ('Romania', 'French Southern Territories'), ('Romania', 'Greenland'), ('Romania', 'Mayotte'), ('Romania', 'Montserrat'), ('Romania', 'Netherlands Antilles'), ('Romania', 'New Caledonia'), ('Romania', 'Pitcairn'), ('Romania', 'Saint Helena'), ('Romania', 'Saint Pierre and Miquelon'), ('Romania', 'South Georgia and the South Sandwich Islands'), ('Romania', 'Turks and Caicos Islands'), ('Romania', 'Virgin Islands'), ('Romania', 'British'), ('Romania', 'Wallis and Futuna Islands'), ('Romania', 'Palestine'), ('Romania', 'San Marino'), ('Romania', 'Switzerland'), ('Romania', 'Liechtenstein'), ('Romania', 'Iceland'), ('Romania', 'Norway'), ('Romania', ' Macedonia'), ('Romania', 'Argentina'), ('Romania', 'Bangladesh'), ('Romania', 'Venezuela'), ('Romania', 'Bolivia'), ('Romania', 'Brazil'), ('Romania', 'Chile'), ('Romania', 'Colombia'), ('Romania', 'Cuba'), ('Romania', 'Ecuador'), ('Romania', 'Indonesia'), ('Romania', 'Iran'), ('Romania', 'Iraq'), ('Romania', 'Korea'), ('Romania', 'Malaysia'), ('Romania', 'Mexico'), ('Romania', 'Myanmar'), ('Romania', 'Nicaragua'), ('Romania', 'Pakistan'), ('Romania', 'Peru'), ('Romania', 'Philippines'), ('Romania', 'Singapore'), ('Romania', 'Sri Lanka'), ('Romania', 'Thailand'), ('Romania', 'Vietnam'), ('Romania', 'Israel'), ('Romania', 'Uruguay'), ('Romania', 'Yugoslavia'), ('Bolivia', 'Colombia'), ('Bolivia', 'Ecuador'), ('Bolivia', 'Peru'), ('Bolivia', 'Venezuela'), ('Bolivia', 'Chile'), ('Bolivia', 'Argentina'), ('Bolivia', 'Bangladesh'), ('Bolivia', 'Brazil'), ('Bolivia', 'Cuba'), ('Bolivia', 'Guyana'), ('Bolivia', 'Indonesia'), ('Bolivia', 'Iran'), ('Bolivia', 'Iraq'), ('Bolivia', 'Korea'), ('Bolivia', 'Malaysia'), ('Bolivia', 'Mexico'), ('Bolivia', 'Myanmar'), ('Bolivia', 'Nicaragua'), ('Bolivia', 'Pakistan'), ('Bolivia', 'Philippines'), ('Bolivia', 'Singapore'), ('Bolivia', 'Sri Lanka'), ('Bolivia', 'Thailand'), ('Bolivia', 'Trinidad and Tobago'), ('Bolivia', 'Vietnam'), ('Bolivia', 'Paraguay'), ('Bolivia', 'Uruguay'), ('Colombia', 'Ecuador'), ('Colombia', 'Peru'), ('Colombia', 'Venezuela'), ('Colombia', 'Brazil'), ('Colombia', 'Canada'), ('Colombia', 'Antigua and Barbuda'), ('Colombia', 'Barbados'), ('Colombia', 'Belize'), ('Colombia', 'Dominica'), ('Colombia', 'Grenada'), ('Colombia', 'Guyana'), ('Colombia', 'Jamaica'), ('Colombia', 'Montserrat'), ('Colombia', 'St Kitts and Nevis'), ('Colombia', 'Saint Lucia'), ('Colombia', 'St Vincent and the Grenadines'), ('Colombia', 'Suriname'), ('Colombia', 'Trinidad and Tobago'), ('Colombia', 'Chile'), ('Colombia', 'Iceland'), ('Colombia', 'Liechtenstein'), ('Colombia', 'Norway'), ('Colombia', 'Switzerland'), ('Colombia', 'Argentina'), ('Colombia', 'Bangladesh'), ('Colombia', 'Cuba'), ('Colombia', 'Indonesia'), ('Colombia', 'Iran'), ('Colombia', 'Iraq'), ('Colombia', 'Korea'), ('Colombia', 'Malaysia'), ('Colombia', 'Mexico'), ('Colombia', 'Myanmar'), ('Colombia', 'Nicaragua'), ('Colombia', 'Pakistan'), ('Colombia', 'Philippines'), ('Colombia', 'Singapore'), ('Colombia', 'Sri Lanka'), ('Colombia', 'Thailand'), ('Colombia', 'Vietnam'), ('Colombia', 'Paraguay'), ('Colombia', 'Uruguay'), ('Ecuador', 'Peru'), ('Ecuador', 'Venezuela'), ('Ecuador', 'Brazil'), ('Ecuador', 'Argentina'), ('Ecuador', 'Bangladesh'), ('Ecuador', 'Chile'), ('Ecuador', 'Cuba'), ('Ecuador', 'Guyana'), ('Ecuador', 'Indonesia'), ('Ecuador', 'Iran'), ('Ecuador', 'Iraq'), ('Ecuador', 'Korea'), ('Ecuador', 'Malaysia'), ('Ecuador', 'Mexico'), ('Ecuador', 'Myanmar'), ('Ecuador', 'Nicaragua'), ('Ecuador', 'Pakistan'), ('Ecuador', 'Philippines'), ('Ecuador', 'Singapore'), ('Ecuador', 'Sri Lanka'), ('Ecuador', 'Thailand'), ('Ecuador', 'Trinidad and Tobago'), ('Ecuador', 'Vietnam'), ('Ecuador', 'Paraguay'), ('Ecuador', 'Uruguay'), ('Peru', 'Venezuela'), ('Peru', 'Brazil'), ('Peru', 'Canada'), ('Peru', 'Chile'), ('Peru', 'China'), ('Peru', 'Argentina'), ('Peru', 'Bangladesh'), ('Peru', 'Cuba'), ('Peru', 'Guyana'), ('Peru', 'Indonesia'), ('Peru', 'Iran'), ('Peru', 'Iraq'), ('Peru', 'Korea'), ('Peru', 'Malaysia'), ('Peru', 'Mexico'), ('Peru', 'Myanmar'), ('Peru', 'Nicaragua'), ('Peru', 'Pakistan'), ('Peru', 'Philippines'), ('Peru', 'Singapore'), ('Peru', 'Sri Lanka'), ('Peru', 'Thailand'), ('Peru', 'Trinidad and Tobago'), ('Peru', 'Vietnam'), ('Peru', 'Paraguay'), ('Peru', 'Uruguay'), ('Peru', 'Israel'), ('Peru', 'Spain'), ('Peru', 'Yugoslavia'), ('Peru', 'United States'), ('Venezuela', 'Brazil'), ('Venezuela', 'Antigua and Barbuda'), ('Venezuela', 'Bahamas'), ('Venezuela', 'Barbados'), ('Venezuela', 'Belize'), ('Venezuela', 'Dominica'), ('Venezuela', 'Grenada'), ('Venezuela', 'Guyana'), ('Venezuela', 'Haiti'), ('Venezuela', 'Jamaica'), ('Venezuela', 'Montserrat'), ('Venezuela', 'Saint Kitts and Nevis'), ('Venezuela', 'Saint Lucia'), ('Venezuela', 'Saint Vincent and the Grenadines'), ('Venezuela', 'Suriname'), ('Venezuela', 'Trinidad and Tobago'), ('Venezuela', 'Chile'), ('Venezuela', 'Argentina'), ('Venezuela', 'Bangladesh'), ('Venezuela', 'Cuba'), ('Venezuela', 'Indonesia'), ('Venezuela', 'Iran'), ('Venezuela', 'Iraq'), ('Venezuela', 'Korea'), ('Venezuela', 'Malaysia'), ('Venezuela', 'Mexico'), ('Venezuela', 'Myanmar'), ('Venezuela', 'Nicaragua'), ('Venezuela', 'Pakistan'), ('Venezuela', 'Philippines'), ('Venezuela', 'Singapore'), ('Venezuela', 'Sri Lanka'), ('Venezuela', 'Thailand'), ('Venezuela', 'Vietnam'), ('Venezuela', 'Paraguay'), ('Venezuela', 'Uruguay'), ('Brazil', 'Argentina'), ('Brazil', 'Bangladesh'), ('Brazil', 'Chile'), ('Brazil', 'Cuba'), ('Brazil', 'Guyana'), ('Brazil', 'Indonesia'), ('Brazil', 'Iran'), ('Brazil', 'Iraq'), ('Brazil', 'Korea'), ('Brazil', 'Malaysia'), ('Brazil', 'Mexico'), ('Brazil', 'Myanmar'), ('Brazil', 'Nicaragua'), ('Brazil', 'Pakistan'), ('Brazil', 'Philippines'), ('Brazil', 'Singapore'), ('Brazil', 'Sri Lanka'), ('Brazil', 'Thailand'), ('Brazil', 'Trinidad and Tobago'), ('Brazil', 'Vietnam'), ('Brazil', 'Paraguay'), ('Brazil', 'Uruguay'), ('Brazil', 'Israel'), ('Brazil', 'Spain'), ('Brazil', 'Yugoslavia'), ('Armenia', 'Georgia'), ('Armenia', 'Kazakhstan'), ('Armenia', 'Kyrgyz Republic'), ('Armenia', 'Russia'), ('Armenia', 'Turkmenistan'), ('Armenia', 'Ukraine'), ('Armenia', 'Iran'), ('Armenia', 'Azerbaijan'), ('Armenia', 'Belarus'), ('Armenia', 'Tajikistan'), ('Armenia', 'Uzbekistan'), ('Georgia', 'Azerbaijan'), ('Georgia', 'Belarus'), ('Georgia', 'Kazakhstan'), ('Georgia', 'Kyrgyz Republic'), ('Georgia', 'Russia'), ('Georgia', 'Tajikistan'), ('Georgia', 'Ukraine'), ('Georgia', 'Uzbekistan'), ('Georgia', 'Turkmenistan'), ('Kazakhstan', 'Belarus'), ('Kazakhstan', 'Russia'), ('Kazakhstan', 'Ukraine'), ('Kazakhstan', 'Azerbaijan'), ('Kazakhstan', 'Kyrgyz Republic'), ('Kazakhstan', 'Tajikistan'), ('Kazakhstan', 'Uzbekistan'), ('Kazakhstan', 'Iran'), ('Kazakhstan', 'Pakistan'), ('Kazakhstan', 'Turkmenistan'), ('Kyrgyz Republic', 'Azerbaijan'), ('Kyrgyz Republic', 'Belarus'), ('Kyrgyz Republic', 'Russia'), ('Kyrgyz Republic', 'Tajikistan'), ('Kyrgyz Republic', 'Ukraine'), ('Kyrgyz Republic', 'Uzbekistan'), ('Kyrgyz Republic', 'Iran'), ('Kyrgyz Republic', 'Pakistan'), ('Kyrgyz Republic', 'Turkmenistan'), ('Russia', 'Belarus'), ('Russia', 'Ukraine'), ('Russia', 'Azerbaijan'), ('Russia', 'Tajikistan'), ('Russia', 'Uzbekistan'), ('Turkmenistan', 'Azerbaijan'), ('Turkmenistan', 'Iran'), ('Turkmenistan', 'Pakistan'), ('Turkmenistan', 'Tajikistan'), ('Turkmenistan', 'Uzbekistan'), ('Turkmenistan', 'Ukraine'), ('Ukraine', 'Azerbaijan'), ('Ukraine', 'Belarus'), ('Ukraine', 'Tajikistan'), ('Ukraine', 'Uzbekistan'), ('Ukraine', 'Estonia'), ('Ukraine', ' Macedonia'), ('Iran', 'Azerbaijan'), ('Iran', 'Pakistan'), ('Iran', 'Tajikistan'), ('Iran', 'Uzbekistan'), ('Iran', 'Argentina'), ('Iran', 'Bangladesh'), ('Iran', 'Chile'), ('Iran', 'Cuba'), ('Iran', 'Guyana'), ('Iran', 'Indonesia'), ('Iran', 'Iraq'), ('Iran', 'Korea'), ('Iran', 'Malaysia'), ('Iran', 'Mexico'), ('Iran', 'Myanmar'), ('Iran', 'Nicaragua'), ('Iran', 'Philippines'), ('Iran', 'Singapore'), ('Iran', 'Sri Lanka'), ('Iran', 'Thailand'), ('Iran', 'Trinidad and Tobago'), ('Iran', 'Vietnam'), ('Brunei Darussalam', 'Indonesia'), ('Brunei Darussalam', 'Malaysia'), ('Brunei Darussalam', 'Philippines'), ('Brunei Darussalam', 'Singapore'), ('Brunei Darussalam', 'Thailand'), ('Brunei Darussalam', 'Australia'), ('Brunei Darussalam', 'New Zealand'), ('Brunei Darussalam', 'Cambodia'), ('Brunei Darussalam', 'Laos'), ('Brunei Darussalam', 'Myanmar'), ('Brunei Darussalam', 'Vietnam'), ('Brunei Darussalam', 'China'), ('Brunei Darussalam', 'Korea '), ('Brunei Darussalam', 'Korea'), ('Brunei Darussalam', 'Japan'), ('Brunei Darussalam', 'Chile'), ('Indonesia', 'Malaysia'), ('Indonesia', 'Philippines'), ('Indonesia', 'Singapore'), ('Indonesia', 'Thailand'), ('Indonesia', 'Australia'), ('Indonesia', 'New Zealand'), ('Indonesia', 'Cambodia'), ('Indonesia', 'Laos'), ('Indonesia', 'Myanmar'), ('Indonesia', 'Vietnam'), ('Indonesia', 'China'), ('Indonesia', 'Korea '), ('Indonesia', 'Korea'), ('Indonesia', 'Japan'), ('Indonesia', 'Argentina'), ('Indonesia', 'Bangladesh'), ('Indonesia', 'Chile'), ('Indonesia', 'Cuba'), ('Indonesia', 'Guyana'), ('Indonesia', 'Iraq'), ('Indonesia', 'Mexico'), ('Indonesia', 'Nicaragua'), ('Indonesia', 'Pakistan'), ('Indonesia', 'Sri Lanka'), ('Indonesia', 'Trinidad and Tobago'), ('Malaysia', 'Philippines'), ('Malaysia', 'Singapore'), ('Malaysia', 'Thailand'), ('Malaysia', 'Australia'), ('Malaysia', 'New Zealand'), ('Malaysia', 'Cambodia'), ('Malaysia', 'Laos'), ('Malaysia', 'Myanmar'), ('Malaysia', 'Vietnam'), ('Malaysia', 'China'), ('Malaysia', 'Korea '), ('Malaysia', 'Korea'), ('Malaysia', 'Japan'), ('Malaysia', 'Argentina'), ('Malaysia', 'Bangladesh'), ('Malaysia', 'Chile'), ('Malaysia', 'Cuba'), ('Malaysia', 'Guyana'), ('Malaysia', 'Iraq'), ('Malaysia', 'Mexico'), ('Malaysia', 'Nicaragua'), ('Malaysia', 'Pakistan'), ('Malaysia', 'Sri Lanka'), ('Malaysia', 'Trinidad and Tobago'), ('Philippines', 'Singapore'), ('Philippines', 'Thailand'), ('Philippines', 'Australia'), ('Philippines', 'New Zealand'), ('Philippines', 'Cambodia'), ('Philippines', 'Laos'), ('Philippines', 'Myanmar'), ('Philippines', 'Vietnam'), ('Philippines', 'China'), ('Philippines', 'Korea '), ('Philippines', 'Korea'), ('Philippines', 'Japan'), ('Philippines', 'Bangladesh'), ('Philippines', 'Sri Lanka'), ('Philippines', 'Argentina'), ('Philippines', 'Chile'), ('Philippines', 'Cuba'), ('Philippines', 'Guyana'), ('Philippines', 'Iraq'), ('Philippines', 'Mexico'), ('Philippines', 'Nicaragua'), ('Philippines', 'Pakistan'), ('Philippines', 'Trinidad and Tobago'), ('Singapore', 'Thailand'), ('Singapore', 'Australia'), ('Singapore', 'New Zealand'), ('Singapore', 'Cambodia'), ('Singapore', 'Laos'), ('Singapore', 'Myanmar'), ('Singapore', 'Vietnam'), ('Singapore', 'China'), ('Singapore', 'Korea '), ('Singapore', 'Korea'), ('Singapore', 'Japan'), ('Singapore', 'Iceland'), ('Singapore', 'Liechtenstein'), ('Singapore', 'Norway'), ('Singapore', 'Switzerland'), ('Singapore', 'Argentina'), ('Singapore', 'Bangladesh'), ('Singapore', 'Chile'), ('Singapore', 'Cuba'), ('Singapore', 'Guyana'), ('Singapore', 'Iraq'), ('Singapore', 'Mexico'), ('Singapore', 'Nicaragua'), ('Singapore', 'Pakistan'), ('Singapore', 'Sri Lanka'), ('Singapore', 'Trinidad and Tobago'), ('Singapore', 'United States'), ('Thailand', 'Australia'), ('Thailand', 'New Zealand'), ('Thailand', 'Cambodia'), ('Thailand', 'Laos'), ('Thailand', 'Myanmar'), ('Thailand', 'Vietnam'), ('Thailand', 'China'), ('Thailand', 'Korea '), ('Thailand', 'Korea'), ('Thailand', 'Japan'), ('Thailand', 'Bangladesh'), ('Thailand', 'Sri Lanka'), ('Thailand', 'Bhutan'), ('Thailand', 'Nepal'), ('Thailand', 'Argentina'), ('Thailand', 'Chile'), ('Thailand', 'Cuba'), ('Thailand', 'Guyana'), ('Thailand', 'Iraq'), ('Thailand', 'Mexico'), ('Thailand', 'Nicaragua'), ('Thailand', 'Pakistan'), ('Thailand', 'Trinidad and Tobago'), ('Australia', 'New Zealand'), ('Australia', 'Chile'), ('Australia', 'Papua New Guinea'), ('Australia', 'Cook Islands'), ('Australia', 'Fiji'), ('Australia', 'Kiribati'), ('Australia', 'Nauru'), ('Australia', 'Niue'), ('Australia', 'Solomon Islands'), ('Australia', 'Tonga'), ('Australia', 'Tuvalu'), ('Australia', 'Western Samoa'), ('Australia', 'United States'), ('New Zealand', 'China'), ('New Zealand', 'Cook Islands'), ('New Zealand', 'Fiji'), ('New Zealand', 'Kiribati'), ('New Zealand', 'Nauru'), ('New Zealand', 'Niue'), ('New Zealand', 'Papua New Guinea'), ('New Zealand', 'Solomon Islands'), ('New Zealand', 'Tonga'), ('New Zealand', 'Tuvalu'), ('New Zealand', 'Western Samoa'), ('New Zealand', 'Chile'), ('Cambodia', 'Laos'), ('Cambodia', 'Myanmar'), ('Cambodia', 'Vietnam'), ('Cambodia', 'China'), ('Cambodia', 'Korea '), ('Cambodia', 'Korea'), ('Laos', 'Myanmar'), ('Laos', 'Vietnam'), ('Laos', 'China'), ('Laos', 'Korea '), ('Laos', 'Korea'), ('Laos', 'Bangladesh'), ('Laos', 'Sri Lanka'), ('Myanmar', 'Vietnam'), ('Myanmar', 'China'), ('Myanmar', 'Korea '), ('Myanmar', 'Korea'), ('Myanmar', 'Bhutan'), ('Myanmar', 'Nepal'), ('Myanmar', 'Sri Lanka'), ('Myanmar', 'Argentina'), ('Myanmar', 'Bangladesh'), ('Myanmar', 'Chile'), ('Myanmar', 'Cuba'), ('Myanmar', 'Guyana'), ('Myanmar', 'Iraq'), ('Myanmar', 'Mexico'), ('Myanmar', 'Nicaragua'), ('Myanmar', 'Pakistan'), ('Myanmar', 'Trinidad and Tobago'), ('Vietnam', 'China'), ('Vietnam', 'Korea '), ('Vietnam', 'Korea'), ('Vietnam', 'Argentina'), ('Vietnam', 'Bangladesh'), ('Vietnam', 'Chile'), ('Vietnam', 'Cuba'), ('Vietnam', 'Guyana'), ('Vietnam', 'Iraq'), ('Vietnam', 'Mexico'), ('Vietnam', 'Nicaragua'), ('Vietnam', 'Pakistan'), ('Vietnam', 'Sri Lanka'), ('Vietnam', 'Trinidad and Tobago'), ('Vietnam', 'Japan'), ('Vietnam', 'United States'), ('China', 'Bangladesh'), ('China', 'Korea'), ('China', 'Sri Lanka'), ('China', 'Chile'), ('China', 'Hong Kong'), ('China', 'Macao'), ('China', 'Pakistan'), ('Korea', 'Bangladesh'), ('Korea', 'Sri Lanka'), ('Korea', 'Chile'), ('Korea', 'Iceland'), ('Korea', 'Liechtenstein'), ('Korea', 'Norway'), ('Korea', 'Switzerland'), ('Korea', 'Argentina'), ('Korea', 'Cuba'), ('Korea', 'Guyana'), ('Korea', 'Iraq'), ('Korea', 'Mexico'), ('Korea', 'Nicaragua'), ('Korea', 'Pakistan'), ('Korea', 'Trinidad and Tobago'), ('Korea', 'Israel'), ('Korea', 'Spain'), ('Korea', 'Uruguay'), ('Korea', 'Yugoslavia'), ('Japan', 'Chile'), ('Japan', 'Mexico'), ('Japan', 'Switzerland'), ('Chile', 'Canada'), ('Chile', 'Costa Rica'), ('Chile', 'El Salvador'), ('Chile', 'Guatemala'), ('Chile', 'Honduras'), ('Chile', 'Nicaragua'), ('Chile', 'Mexico'), ('Chile', 'Panama'), ('Chile', 'Austria'), ('Chile', 'Belgium'), ('Chile', 'Denmark'), ('Chile', 'Germany'), ('Chile', 'Finland'), ('Chile', 'France'), ('Chile', 'Greece'), ('Chile', 'Ireland'), ('Chile', 'Italy'), ('Chile', 'Luxembourg'), ('Chile', 'Netherlands'), ('Chile', 'Portugal'), ('Chile', 'Spain'), ('Chile', 'Sweden'), ('Chile', 'United Kingdom'), ('Chile', 'Iceland'), ('Chile', 'Liechtenstein'), ('Chile', 'Norway'), ('Chile', 'Switzerland'), ('Chile', 'Argentina'), ('Chile', 'Bangladesh'), ('Chile', 'Cuba'), ('Chile', 'Guyana'), ('Chile', 'Iraq'), ('Chile', 'Pakistan'), ('Chile', 'Sri Lanka'), ('Chile', 'Trinidad and Tobago'), ('Chile', 'Paraguay'), ('Chile', 'Uruguay'), ('Chile', 'Israel'), ('Chile', 'Yugoslavia'), ('Chile', 'United States'), ('Papua New Guinea', 'Solomon Islands'), ('Papua New Guinea', 'Vanuatu '), ('Papua New Guinea', 'Cook Islands'), ('Papua New Guinea', 'Fiji'), ('Papua New Guinea', 'Kiribati'), ('Papua New Guinea', 'Marshall Islands'), ('Papua New Guinea', 'Micronesia'), ('Papua New Guinea', 'Nauru'), ('Papua New Guinea', 'Niue'), ('Papua New Guinea', 'Palau'), ('Papua New Guinea', 'Samoa'), ('Papua New Guinea', 'Tonga'), ('Papua New Guinea', 'Tuvalu'), ('Papua New Guinea', 'Vanuatu'), ('Papua New Guinea', 'Western Samoa'), ('Azerbaijan', 'Belarus'), ('Azerbaijan', 'Tajikistan'), ('Azerbaijan', 'Uzbekistan'), ('Azerbaijan', 'Pakistan'), ('Estonia', 'Latvia'), ('Estonia', 'Lithuania'), ('Estonia', 'Czech Republic'), ('Estonia', 'Austria'), ('Estonia', 'Belgium'), ('Estonia', 'Denmark'), ('Estonia', 'Germany'), ('Estonia', 'Greece'), ('Estonia', 'Finland'), ('Estonia', 'France'), ('Estonia', 'Ireland'), ('Estonia', 'Italy'), ('Estonia', 'Luxembourg'), ('Estonia', 'Netherlands'), ('Estonia', 'Portugal'), ('Estonia', 'Spain'), ('Estonia', 'Sweden'), ('Estonia', 'United Kingdom'), ('Estonia', 'Cyprus'), ('Estonia', 'Hungary'), ('Estonia', 'Malta'), ('Estonia', 'Poland'), ('Estonia', 'Slovenia'), ('Estonia', 'Slovak Republic'), ('Estonia', 'Bosnia and Herzegovina'), ('Estonia', 'Antigua and Barbuda'), ('Estonia', 'Bahamas'), ('Estonia', 'Barbados'), ('Estonia', 'Belize'), ('Estonia', 'Dominica'), ('Estonia', 'Dominican Republic'), ('Estonia', 'Grenada'), ('Estonia', 'Guyana'), ('Estonia', 'Jamaica'), ('Estonia', 'Saint Kitts and Nevis'), ('Estonia', 'Saint Lucia'), ('Estonia', 'Saint Vincent and the Grenadines'), ('Estonia', 'Suriname'), ('Estonia', 'Trinidad and Tobago'), ('Estonia', 'Lebanon'), ('Estonia', 'Montenegro'), ('Estonia', 'Anguilla'), ('Estonia', 'Aruba'), ('Estonia', 'British Indian Ocean Territory'), ('Estonia', 'Cayman Islands'), ('Estonia', 'Falkland or Malvinas'), ('Estonia', 'French Polynesia'), ('Estonia', 'French Southern Territories'), ('Estonia', 'Greenland'), ('Estonia', 'Mayotte'), ('Estonia', 'Montserrat'), ('Estonia', 'Netherlands Antilles'), ('Estonia', 'New Caledonia'), ('Estonia', 'Pitcairn'), ('Estonia', 'Saint Helena'), ('Estonia', 'Saint Pierre and Miquelon'), ('Estonia', 'South Georgia and the South Sandwich Islands'), ('Estonia', 'Turks and Caicos Islands'), ('Estonia', 'Virgin Islands'), ('Estonia', 'British'), ('Estonia', 'Wallis and Futuna Islands'), ('Estonia', 'Palestine'), ('Estonia', 'San Marino'), ('Estonia', 'Switzerland'), ('Estonia', 'Liechtenstein'), ('Estonia', 'Iceland'), ('Estonia', 'Norway'), ('Estonia', 'Faroe Islands'), ('Latvia', 'Lithuania'), ('Latvia', 'Czech Republic'), ('Latvia', 'Austria'), ('Latvia', 'Belgium'), ('Latvia', 'Denmark'), ('Latvia', 'Germany'), ('Latvia', 'Greece'), ('Latvia', 'Finland'), ('Latvia', 'France'), ('Latvia', 'Ireland'), ('Latvia', 'Italy'), ('Latvia', 'Luxembourg'), ('Latvia', 'Netherlands'), ('Latvia', 'Portugal'), ('Latvia', 'Spain'), ('Latvia', 'Sweden'), ('Latvia', 'United Kingdom'), ('Latvia', 'Cyprus'), ('Latvia', 'Hungary'), ('Latvia', 'Malta'), ('Latvia', 'Poland'), ('Latvia', 'Slovenia'), ('Latvia', 'Slovak Republic'), ('Latvia', 'Bosnia and Herzegovina'), ('Latvia', 'Antigua and Barbuda'), ('Latvia', 'Bahamas'), ('Latvia', 'Barbados'), ('Latvia', 'Belize'), ('Latvia', 'Dominica'), ('Latvia', 'Dominican Republic'), ('Latvia', 'Grenada'), ('Latvia', 'Guyana'), ('Latvia', 'Jamaica'), ('Latvia', 'Saint Kitts and Nevis'), ('Latvia', 'Saint Lucia'), ('Latvia', 'Saint Vincent and the Grenadines'), ('Latvia', 'Suriname'), ('Latvia', 'Trinidad and Tobago'), ('Latvia', 'Lebanon'), ('Latvia', 'Montenegro'), ('Latvia', 'Anguilla'), ('Latvia', 'Aruba'), ('Latvia', 'British Indian Ocean Territory'), ('Latvia', 'Cayman Islands'), ('Latvia', 'Falkland or Malvinas'), ('Latvia', 'French Polynesia'), ('Latvia', 'French Southern Territories'), ('Latvia', 'Greenland'), ('Latvia', 'Mayotte'), ('Latvia', 'Montserrat'), ('Latvia', 'Netherlands Antilles'), ('Latvia', 'New Caledonia'), ('Latvia', 'Pitcairn'), ('Latvia', 'Saint Helena'), ('Latvia', 'Saint Pierre and Miquelon'), ('Latvia', 'South Georgia and the South Sandwich Islands'), ('Latvia', 'Turks and Caicos Islands'), ('Latvia', 'Virgin Islands'), ('Latvia', 'British'), ('Latvia', 'Wallis and Futuna Islands'), ('Latvia', 'Palestine'), ('Latvia', 'San Marino'), ('Latvia', 'Switzerland'), ('Latvia', 'Liechtenstein'), ('Latvia', 'Iceland'), ('Latvia', 'Norway'), ('Lithuania', 'Czech Republic'), ('Lithuania', 'Austria'), ('Lithuania', 'Belgium'), ('Lithuania', 'Denmark'), ('Lithuania', 'Germany'), ('Lithuania', 'Greece'), ('Lithuania', 'Finland'), ('Lithuania', 'France'), ('Lithuania', 'Ireland'), ('Lithuania', 'Italy'), ('Lithuania', 'Luxembourg'), ('Lithuania', 'Netherlands'), ('Lithuania', 'Portugal'), ('Lithuania', 'Spain'), ('Lithuania', 'Sweden'), ('Lithuania', 'United Kingdom'), ('Lithuania', 'Cyprus'), ('Lithuania', 'Hungary'), ('Lithuania', 'Malta'), ('Lithuania', 'Poland'), ('Lithuania', 'Slovenia'), ('Lithuania', 'Slovak Republic'), ('Lithuania', 'Bosnia and Herzegovina'), ('Lithuania', 'Antigua and Barbuda'), ('Lithuania', 'Bahamas'), ('Lithuania', 'Barbados'), ('Lithuania', 'Belize'), ('Lithuania', 'Dominica'), ('Lithuania', 'Dominican Republic'), ('Lithuania', 'Grenada'), ('Lithuania', 'Guyana'), ('Lithuania', 'Jamaica'), ('Lithuania', 'Saint Kitts and Nevis'), ('Lithuania', 'Saint Lucia'), ('Lithuania', 'Saint Vincent and the Grenadines'), ('Lithuania', 'Suriname'), ('Lithuania', 'Trinidad and Tobago'), ('Lithuania', 'Lebanon'), ('Lithuania', 'Montenegro'), ('Lithuania', 'Anguilla'), ('Lithuania', 'Aruba'), ('Lithuania', 'British Indian Ocean Territory'), ('Lithuania', 'Cayman Islands'), ('Lithuania', 'Falkland or Malvinas'), ('Lithuania', 'French Polynesia'), ('Lithuania', 'French Southern Territories'), ('Lithuania', 'Greenland'), ('Lithuania', 'Mayotte'), ('Lithuania', 'Montserrat'), ('Lithuania', 'Netherlands Antilles'), ('Lithuania', 'New Caledonia'), ('Lithuania', 'Pitcairn'), ('Lithuania', 'Saint Helena'), ('Lithuania', 'Saint Pierre and Miquelon'), ('Lithuania', 'South Georgia and the South Sandwich Islands'), ('Lithuania', 'Turks and Caicos Islands'), ('Lithuania', 'Virgin Islands'), ('Lithuania', 'British'), ('Lithuania', 'Wallis and Futuna Islands'), ('Lithuania', 'Palestine'), ('Lithuania', 'San Marino'), ('Lithuania', 'Switzerland'), ('Lithuania', 'Liechtenstein'), ('Lithuania', 'Iceland'), ('Lithuania', 'Norway'), ('Bahrain', 'Kuwait'), ('Bahrain', 'Oman'), ('Bahrain', 'Qatar'), ('Bahrain', 'Saudi Arabia'), ('Bahrain', 'United Arab Emirates'), ('Bahrain', 'Iraq'), ('Bahrain', 'Lebanon'), ('Bahrain', 'Syria'), ('Bahrain', 'Yemen'), ('Bahrain', 'Palestine'), ('Bahrain', 'United States'), ('Bangladesh', 'Sri Lanka'), ('Bangladesh', 'Argentina'), ('Bangladesh', 'Cuba'), ('Bangladesh', 'Guyana'), ('Bangladesh', 'Iraq'), ('Bangladesh', 'Mexico'), ('Bangladesh', 'Nicaragua'), ('Bangladesh', 'Pakistan'), ('Bangladesh', 'Trinidad and Tobago'), ('Bangladesh', 'Israel'), ('Bangladesh', 'Spain'), ('Bangladesh', 'Uruguay'), ('Bangladesh', 'Yugoslavia'), ('Bangladesh', 'Bhutan'), ('Bangladesh', 'Maldives'), ('Bangladesh', 'Nepal'), ('Sri Lanka', 'Bhutan'), ('Sri Lanka', 'Nepal'), ('Sri Lanka', 'Argentina'), ('Sri Lanka', 'Cuba'), ('Sri Lanka', 'Guyana'), ('Sri Lanka', 'Iraq'), ('Sri Lanka', 'Mexico'), ('Sri Lanka', 'Nicaragua'), ('Sri Lanka', 'Pakistan'), ('Sri Lanka', 'Trinidad and Tobago'), ('Sri Lanka', 'Maldives'), ('Belarus', 'Tajikistan'), ('Belarus', 'Uzbekistan'), ('Bhutan', 'Nepal'), ('Bhutan', 'Maldives'), ('Bhutan', 'Pakistan'), ('Nepal', 'Maldives'), ('Nepal', 'Pakistan'), ('Bosnia and Herzegovina', 'Slovenia'), ('Bosnia and Herzegovina', 'Montenegro'), ('Bosnia and Herzegovina', 'Serbia'), ('Bosnia and Herzegovina', 'Austria'), ('Bosnia and Herzegovina', 'Belgium'), ('Bosnia and Herzegovina', 'Cyprus'), ('Bosnia and Herzegovina', 'Czech Republic'), ('Bosnia and Herzegovina', 'Denmark'), ('Bosnia and Herzegovina', 'Finland'), ('Bosnia and Herzegovina', 'France'), ('Bosnia and Herzegovina', 'Germany'), ('Bosnia and Herzegovina', 'Greece'), ('Bosnia and Herzegovina', 'Hungary'), ('Bosnia and Herzegovina', 'Ireland'), ('Bosnia and Herzegovina', 'Italy'), ('Bosnia and Herzegovina', 'Luxembourg'), ('Bosnia and Herzegovina', 'Malta'), ('Bosnia and Herzegovina', 'Netherlands'), ('Bosnia and Herzegovina', 'Poland'), ('Bosnia and Herzegovina', 'Portugal'), ('Bosnia and Herzegovina', 'Slovak Republic'), ('Bosnia and Herzegovina', 'Spain'), ('Bosnia and Herzegovina', 'Sweden'), ('Bosnia and Herzegovina', 'United Kingdom'), ('Slovenia', 'Czech Republic'), ('Slovenia', 'Hungary'), ('Slovenia', 'Poland'), ('Slovenia', 'Slovak Republic'), ('Slovenia', 'Austria'), ('Slovenia', 'Belgium'), ('Slovenia', 'Denmark'), ('Slovenia', 'Germany'), ('Slovenia', 'Greece'), ('Slovenia', 'Finland'), ('Slovenia', 'France'), ('Slovenia', 'Ireland'), ('Slovenia', 'Italy'), ('Slovenia', 'Luxembourg'), ('Slovenia', 'Netherlands'), ('Slovenia', 'Portugal'), ('Slovenia', 'Spain'), ('Slovenia', 'Sweden'), ('Slovenia', 'United Kingdom'), ('Slovenia', 'Cyprus'), ('Slovenia', 'Malta'), ('Slovenia', 'Antigua and Barbuda'), ('Slovenia', 'Bahamas'), ('Slovenia', 'Barbados'), ('Slovenia', 'Belize'), ('Slovenia', 'Dominica'), ('Slovenia', 'Dominican Republic'), ('Slovenia', 'Grenada'), ('Slovenia', 'Guyana'), ('Slovenia', 'Jamaica'), ('Slovenia', 'Saint Kitts and Nevis'), ('Slovenia', 'Saint Lucia'), ('Slovenia', 'Saint Vincent and the Grenadines'), ('Slovenia', 'Suriname'), ('Slovenia', 'Trinidad and Tobago'), ('Slovenia', 'Lebanon'), ('Slovenia', 'Montenegro'), ('Slovenia', 'Anguilla'), ('Slovenia', 'Aruba'), ('Slovenia', 'British Indian Ocean Territory'), ('Slovenia', 'Cayman Islands'), ('Slovenia', 'Falkland or Malvinas'), ('Slovenia', 'French Polynesia'), ('Slovenia', 'French Southern Territories'), ('Slovenia', 'Greenland'), ('Slovenia', 'Mayotte'), ('Slovenia', 'Montserrat'), ('Slovenia', 'Netherlands Antilles'), ('Slovenia', 'New Caledonia'), ('Slovenia', 'Pitcairn'), ('Slovenia', 'Saint Helena'), ('Slovenia', 'Saint Pierre and Miquelon'), ('Slovenia', 'South Georgia and the South Sandwich Islands'), ('Slovenia', 'Turks and Caicos Islands'), ('Slovenia', 'Virgin Islands'), ('Slovenia', 'British'), ('Slovenia', 'Wallis and Futuna Islands'), ('Slovenia', 'Palestine'), ('Slovenia', 'San Marino'), ('Slovenia', 'Switzerland'), ('Slovenia', 'Liechtenstein'), ('Slovenia', 'Iceland'), ('Slovenia', 'Norway'), ('Slovenia', 'Israel'), ('Slovenia', ' Macedonia'), ('Israel', 'Canada'), ('Israel', 'Czech Republic'), ('Israel', 'Austria'), ('Israel', 'Belgium'), ('Israel', 'Denmark'), ('Israel', 'Finland'), ('Israel', 'France'), ('Israel', 'Germany'), ('Israel', 'Greece'), ('Israel', 'Ireland'), ('Israel', 'Italy'), ('Israel', 'Luxembourg'), ('Israel', 'Netherlands'), ('Israel', 'United Kingdom'), ('Israel', 'Portugal'), ('Israel', 'Spain'), ('Israel', 'Sweden'), ('Israel', 'Iceland'), ('Israel', 'Liechtenstein'), ('Israel', 'Norway'), ('Israel', 'Switzerland'), ('Israel', 'Hungary'), ('Israel', 'Mexico'), ('Israel', 'Poland'), ('Israel', 'Slovak Republic'), ('Israel', 'Pakistan'), ('Israel', 'Uruguay'), ('Israel', 'Yugoslavia'), ('Israel', 'United States'), ('Canada', 'Costa Rica'), ('Canada', 'Iceland'), ('Canada', 'Liechtenstein'), ('Canada', 'Norway'), ('Canada', 'Switzerland'), ('Canada', 'Mexico'), ('Canada', 'United States'), ('Costa Rica', 'Antigua and Barbuda'), ('Costa Rica', 'Barbados'), ('Costa Rica', 'Belize'), ('Costa Rica', 'Dominica'), ('Costa Rica', 'Grenada'), ('Costa Rica', 'Guyana'), ('Costa Rica', 'Jamaica'), ('Costa Rica', 'St Kitts and Nevis'), ('Costa Rica', 'Saint Lucia'), ('Costa Rica', 'St Vincent and the Grenadines'), ('Costa Rica', 'Suriname'), ('Costa Rica', 'Trinidad and Tobago'), ('Costa Rica', 'Dominican Republic'), ('Costa Rica', 'El Salvador'), ('Costa Rica', 'Guatemala'), ('Costa Rica', 'Honduras'), ('Costa Rica', 'Nicaragua'), ('Costa Rica', 'United States'), ('Costa Rica', 'Mexico'), ('Costa Rica', 'Panama'), ('Iceland', 'Liechtenstein'), ('Iceland', 'Norway'), ('Iceland', 'Switzerland'), ('Iceland', 'Belgium'), ('Iceland', 'Denmark'), ('Iceland', 'France'), ('Iceland', 'Germany'), ('Iceland', 'Greece'), ('Iceland', 'United Kingdom'), ('Iceland', 'Ireland'), ('Iceland', 'Italy'), ('Iceland', 'Luxembourg'), ('Iceland', 'Netherlands'), ('Iceland', 'Portugal'), ('Iceland', 'Spain'), ('Iceland', 'Austria'), ('Iceland', 'Finland'), ('Iceland', 'Sweden'), ('Iceland', 'Czech Republic'), ('Iceland', 'Hungary'), ('Iceland', 'Lebanon'), ('Iceland', 'Mexico'), ('Iceland', 'Palestine'), ('Iceland', 'Poland'), ('Iceland', 'Slovak Republic'), ('Iceland', ' Macedonia'), ('Iceland', 'South Africa'), ('Iceland', 'Faroe Islands'), ('Liechtenstein', 'Norway'), ('Liechtenstein', 'Switzerland'), ('Liechtenstein', 'Austria'), ('Liechtenstein', 'Belgium'), ('Liechtenstein', 'Cyprus'), ('Liechtenstein', 'Czech Republic'), ('Liechtenstein', 'Denmark'), ('Liechtenstein', 'Finland'), ('Liechtenstein', 'France'), ('Liechtenstein', 'Germany'), ('Liechtenstein', 'Greece'), ('Liechtenstein', 'Hungary'), ('Liechtenstein', 'Ireland'), ('Liechtenstein', 'Italy'), ('Liechtenstein', 'Luxembourg'), ('Liechtenstein', 'Malta'), ('Liechtenstein', 'Netherlands'), ('Liechtenstein', 'Poland'), ('Liechtenstein', 'Portugal'), ('Liechtenstein', 'Slovak Republic'), ('Liechtenstein', 'Spain'), ('Liechtenstein', 'Sweden'), ('Liechtenstein', 'United Kingdom'), ('Liechtenstein', 'Lebanon'), ('Liechtenstein', 'Mexico'), ('Liechtenstein', 'Palestine'), ('Liechtenstein', ' Macedonia'), ('Liechtenstein', 'South Africa'), ('Norway', 'Switzerland'), ('Norway', 'Belgium'), ('Norway', 'Denmark'), ('Norway', 'France'), ('Norway', 'Germany'), ('Norway', 'Greece'), ('Norway', 'Ireland'), ('Norway', 'Italy'), ('Norway', 'Luxembourg'), ('Norway', 'Netherlands'), ('Norway', 'Portugal'), ('Norway', 'Spain'), ('Norway', 'United Kingdom'), ('Norway', 'Austria'), ('Norway', 'Finland'), ('Norway', 'Sweden'), ('Norway', 'Czech Republic'), ('Norway', 'Hungary'), ('Norway', 'Lebanon'), ('Norway', 'Mexico'), ('Norway', 'Palestine'), ('Norway', 'Poland'), ('Norway', 'Slovak Republic'), ('Norway', ' Macedonia'), ('Norway', 'South Africa'), ('Norway', 'Faroe Islands'), ('Switzerland', 'Austria'), ('Switzerland', 'Belgium'), ('Switzerland', 'Cyprus'), ('Switzerland', 'Czech Republic'), ('Switzerland', 'Denmark'), ('Switzerland', 'Finland'), ('Switzerland', 'France'), ('Switzerland', 'Germany'), ('Switzerland', 'Greece'), ('Switzerland', 'Hungary'), ('Switzerland', 'Ireland'), ('Switzerland', 'Italy'), ('Switzerland', 'Luxembourg'), ('Switzerland', 'Malta'), ('Switzerland', 'Netherlands'), ('Switzerland', 'Poland'), ('Switzerland', 'Portugal'), ('Switzerland', 'Slovak Republic'), ('Switzerland', 'Spain'), ('Switzerland', 'Sweden'), ('Switzerland', 'United Kingdom'), ('Switzerland', 'Lebanon'), ('Switzerland', 'Mexico'), ('Switzerland', 'Palestine'), ('Switzerland', ' Macedonia'), ('Switzerland', 'South Africa'), ('Switzerland', 'Faroe Islands'), ('Antigua and Barbuda', 'Bahamas'), ('Antigua and Barbuda', 'Barbados'), ('Antigua and Barbuda', 'Belize'), ('Antigua and Barbuda', 'Dominica'), ('Antigua and Barbuda', 'Grenada'), ('Antigua and Barbuda', 'Guyana'), ('Antigua and Barbuda', 'Jamaica'), ('Antigua and Barbuda', 'Montserrat'), ('Antigua and Barbuda', 'St Kitts-Nevis-Anguilla'), ('Antigua and Barbuda', 'St Lucia'), ('Antigua and Barbuda', 'St Vincent and the Grenadines'), ('Antigua and Barbuda', 'Trinidad and Tobago'), ('Antigua and Barbuda', 'St Kitts and Nevis'), ('Antigua and Barbuda', 'Saint Lucia'), ('Antigua and Barbuda', 'Suriname'), ('Antigua and Barbuda', 'Haiti'), ('Antigua and Barbuda', 'Saint Kitts and Nevis'), ('Antigua and Barbuda', 'Saint Vincent and the Grenadines'), ('Antigua and Barbuda', 'Cuba'), ('Antigua and Barbuda', 'Dominican Republic'), ('Antigua and Barbuda', 'Austria'), ('Antigua and Barbuda', 'Belgium'), ('Antigua and Barbuda', 'Cyprus'), ('Antigua and Barbuda', 'Czech Republic'), ('Antigua and Barbuda', 'Denmark'), ('Antigua and Barbuda', 'Finland'), ('Antigua and Barbuda', 'France'), ('Antigua and Barbuda', 'Germany'), ('Antigua and Barbuda', 'Greece'), ('Antigua and Barbuda', 'Hungary'), ('Antigua and Barbuda', 'Ireland'), ('Antigua and Barbuda', 'Italy'), ('Antigua and Barbuda', 'Luxembourg'), ('Antigua and Barbuda', 'Malta'), ('Antigua and Barbuda', 'Netherlands'), ('Antigua and Barbuda', 'Poland'), ('Antigua and Barbuda', 'Portugal'), ('Antigua and Barbuda', 'Slovak Republic'), ('Antigua and Barbuda', 'Spain'), ('Antigua and Barbuda', 'Sweden'), ('Antigua and Barbuda', 'United Kingdom'), ('Bahamas', 'Barbados'), ('Bahamas', 'Belize'), ('Bahamas', 'Dominica'), ('Bahamas', 'Grenada'), ('Bahamas', 'Guyana'), ('Bahamas', 'Jamaica'), ('Bahamas', 'Montserrat'), ('Bahamas', 'St Kitts-Nevis-Anguilla'), ('Bahamas', 'St Lucia'), ('Bahamas', 'St Vincent and the Grenadines'), ('Bahamas', 'Trinidad and Tobago'), ('Bahamas', 'Haiti'), ('Bahamas', 'Saint Kitts and Nevis'), ('Bahamas', 'Saint Lucia'), ('Bahamas', 'Saint Vincent and the Grenadines'), ('Bahamas', 'Suriname'), ('Bahamas', 'Cuba'), ('Bahamas', 'Dominican Republic'), ('Bahamas', 'Austria'), ('Bahamas', 'Belgium'), ('Bahamas', 'Cyprus'), ('Bahamas', 'Czech Republic'), ('Bahamas', 'Denmark'), ('Bahamas', 'Finland'), ('Bahamas', 'France'), ('Bahamas', 'Germany'), ('Bahamas', 'Greece'), ('Bahamas', 'Hungary'), ('Bahamas', 'Ireland'), ('Bahamas', 'Italy'), ('Bahamas', 'Luxembourg'), ('Bahamas', 'Malta'), ('Bahamas', 'Netherlands'), ('Bahamas', 'Poland'), ('Bahamas', 'Portugal'), ('Bahamas', 'Slovak Republic'), ('Bahamas', 'Spain'), ('Bahamas', 'Sweden'), ('Bahamas', 'United Kingdom'), ('Barbados', 'Belize'), ('Barbados', 'Dominica'), ('Barbados', 'Grenada'), ('Barbados', 'Guyana'), ('Barbados', 'Jamaica'), ('Barbados', 'Montserrat'), ('Barbados', 'St Kitts-Nevis-Anguilla'), ('Barbados', 'St Lucia'), ('Barbados', 'St Vincent and the Grenadines'), ('Barbados', 'Trinidad and Tobago'), ('Barbados', 'St Kitts and Nevis'), ('Barbados', 'Saint Lucia'), ('Barbados', 'Suriname'), ('Barbados', 'Haiti'), ('Barbados', 'Saint Kitts and Nevis'), ('Barbados', 'Saint Vincent and the Grenadines'), ('Barbados', 'Cuba'), ('Barbados', 'Dominican Republic'), ('Barbados', 'Austria'), ('Barbados', 'Belgium'), ('Barbados', 'Cyprus'), ('Barbados', 'Czech Republic'), ('Barbados', 'Denmark'), ('Barbados', 'Finland'), ('Barbados', 'France'), ('Barbados', 'Germany'), ('Barbados', 'Greece'), ('Barbados', 'Hungary'), ('Barbados', 'Ireland'), ('Barbados', 'Italy'), ('Barbados', 'Luxembourg'), ('Barbados', 'Malta'), ('Barbados', 'Netherlands'), ('Barbados', 'Poland'), ('Barbados', 'Portugal'), ('Barbados', 'Slovak Republic'), ('Barbados', 'Spain'), ('Barbados', 'Sweden'), ('Barbados', 'United Kingdom'), ('Belize', 'Dominica'), ('Belize', 'Grenada'), ('Belize', 'Guyana'), ('Belize', 'Jamaica'), ('Belize', 'Montserrat'), ('Belize', 'St Kitts-Nevis-Anguilla'), ('Belize', 'St Lucia'), ('Belize', 'St Vincent and the Grenadines'), ('Belize', 'Trinidad and Tobago'), ('Belize', 'St Kitts and Nevis'), ('Belize', 'Saint Lucia'), ('Belize', 'Suriname'), ('Belize', 'Haiti'), ('Belize', 'Saint Kitts and Nevis'), ('Belize', 'Saint Vincent and the Grenadines'), ('Belize', 'Cuba'), ('Belize', 'Dominican Republic'), ('Belize', 'Austria'), ('Belize', 'Belgium'), ('Belize', 'Cyprus'), ('Belize', 'Czech Republic'), ('Belize', 'Denmark'), ('Belize', 'Finland'), ('Belize', 'France'), ('Belize', 'Germany'), ('Belize', 'Greece'), ('Belize', 'Hungary'), ('Belize', 'Ireland'), ('Belize', 'Italy'), ('Belize', 'Luxembourg'), ('Belize', 'Malta'), ('Belize', 'Netherlands'), ('Belize', 'Poland'), ('Belize', 'Portugal'), ('Belize', 'Slovak Republic'), ('Belize', 'Spain'), ('Belize', 'Sweden'), ('Belize', 'United Kingdom'), ('Dominica', 'Grenada'), ('Dominica', 'Guyana'), ('Dominica', 'Jamaica'), ('Dominica', 'Montserrat'), ('Dominica', 'St Kitts-Nevis-Anguilla'), ('Dominica', 'St Lucia'), ('Dominica', 'St Vincent and the Grenadines'), ('Dominica', 'Trinidad and Tobago'), ('Dominica', 'St Kitts and Nevis'), ('Dominica', 'Saint Lucia'), ('Dominica', 'Suriname'), ('Dominica', 'Haiti'), ('Dominica', 'Saint Kitts and Nevis'), ('Dominica', 'Saint Vincent and the Grenadines'), ('Dominica', 'Cuba'), ('Dominica', 'Dominican Republic'), ('Dominica', 'Austria'), ('Dominica', 'Belgium'), ('Dominica', 'Cyprus'), ('Dominica', 'Czech Republic'), ('Dominica', 'Denmark'), ('Dominica', 'Finland'), ('Dominica', 'France'), ('Dominica', 'Germany'), ('Dominica', 'Greece'), ('Dominica', 'Hungary'), ('Dominica', 'Ireland'), ('Dominica', 'Italy'), ('Dominica', 'Luxembourg'), ('Dominica', 'Malta'), ('Dominica', 'Netherlands'), ('Dominica', 'Poland'), ('Dominica', 'Portugal'), ('Dominica', 'Slovak Republic'), ('Dominica', 'Spain'), ('Dominica', 'Sweden'), ('Dominica', 'United Kingdom'), ('Grenada', 'Guyana'), ('Grenada', 'Jamaica'), ('Grenada', 'Montserrat'), ('Grenada', 'St Kitts-Nevis-Anguilla'), ('Grenada', 'St Lucia'), ('Grenada', 'St Vincent and the Grenadines'), ('Grenada', 'Trinidad and Tobago'), ('Grenada', 'St Kitts and Nevis'), ('Grenada', 'Saint Lucia'), ('Grenada', 'Suriname'), ('Grenada', 'Haiti'), ('Grenada', 'Saint Kitts and Nevis'), ('Grenada', 'Saint Vincent and the Grenadines'), ('Grenada', 'Cuba'), ('Grenada', 'Dominican Republic'), ('Grenada', 'Austria'), ('Grenada', 'Belgium'), ('Grenada', 'Cyprus'), ('Grenada', 'Czech Republic'), ('Grenada', 'Denmark'), ('Grenada', 'Finland'), ('Grenada', 'France'), ('Grenada', 'Germany'), ('Grenada', 'Greece'), ('Grenada', 'Hungary'), ('Grenada', 'Ireland'), ('Grenada', 'Italy'), ('Grenada', 'Luxembourg'), ('Grenada', 'Malta'), ('Grenada', 'Netherlands'), ('Grenada', 'Poland'), ('Grenada', 'Portugal'), ('Grenada', 'Slovak Republic'), ('Grenada', 'Spain'), ('Grenada', 'Sweden'), ('Grenada', 'United Kingdom'), ('Guyana', 'Jamaica'), ('Guyana', 'Montserrat'), ('Guyana', 'St Kitts-Nevis-Anguilla'), ('Guyana', 'St Lucia'), ('Guyana', 'St Vincent and the Grenadines'), ('Guyana', 'Trinidad and Tobago'), ('Guyana', 'St Kitts and Nevis'), ('Guyana', 'Saint Lucia'), ('Guyana', 'Suriname'), ('Guyana', 'Haiti'), ('Guyana', 'Saint Kitts and Nevis'), ('Guyana', 'Saint Vincent and the Grenadines'), ('Guyana', 'Cuba'), ('Guyana', 'Dominican Republic'), ('Guyana', 'Austria'), ('Guyana', 'Belgium'), ('Guyana', 'Cyprus'), ('Guyana', 'Czech Republic'), ('Guyana', 'Denmark'), ('Guyana', 'Finland'), ('Guyana', 'France'), ('Guyana', 'Germany'), ('Guyana', 'Greece'), ('Guyana', 'Hungary'), ('Guyana', 'Ireland'), ('Guyana', 'Italy'), ('Guyana', 'Luxembourg'), ('Guyana', 'Malta'), ('Guyana', 'Netherlands'), ('Guyana', 'Poland'), ('Guyana', 'Portugal'), ('Guyana', 'Slovak Republic'), ('Guyana', 'Spain'), ('Guyana', 'Sweden'), ('Guyana', 'United Kingdom'), ('Guyana', 'Argentina'), ('Guyana', 'Iraq'), ('Guyana', 'Mexico'), ('Guyana', 'Nicaragua'), ('Guyana', 'Pakistan'), ('Jamaica', 'Montserrat'), ('Jamaica', 'St Kitts-Nevis-Anguilla'), ('Jamaica', 'St Lucia'), ('Jamaica', 'St Vincent and the Grenadines'), ('Jamaica', 'Trinidad and Tobago'), ('Jamaica', 'St Kitts and Nevis'), ('Jamaica', 'Saint Lucia'), ('Jamaica', 'Suriname'), ('Jamaica', 'Haiti'), ('Jamaica', 'Saint Kitts and Nevis'), ('Jamaica', 'Saint Vincent and the Grenadines'), ('Jamaica', 'Cuba'), ('Jamaica', 'Dominican Republic'), ('Jamaica', 'Austria'), ('Jamaica', 'Belgium'), ('Jamaica', 'Cyprus'), ('Jamaica', 'Czech Republic'), ('Jamaica', 'Denmark'), ('Jamaica', 'Finland'), ('Jamaica', 'France'), ('Jamaica', 'Germany'), ('Jamaica', 'Greece'), ('Jamaica', 'Hungary'), ('Jamaica', 'Ireland'), ('Jamaica', 'Italy'), ('Jamaica', 'Luxembourg'), ('Jamaica', 'Malta'), ('Jamaica', 'Netherlands'), ('Jamaica', 'Poland'), ('Jamaica', 'Portugal'), ('Jamaica', 'Slovak Republic'), ('Jamaica', 'Spain'), ('Jamaica', 'Sweden'), ('Jamaica', 'United Kingdom'), ('Montserrat', 'St Kitts-Nevis-Anguilla'), ('Montserrat', 'St Lucia'), ('Montserrat', 'St Vincent and the Grenadines'), ('Montserrat', 'Trinidad and Tobago'), ('Montserrat', 'St Kitts and Nevis'), ('Montserrat', 'Saint Lucia'), ('Montserrat', 'Suriname'), ('Montserrat', 'Haiti'), ('Montserrat', 'Saint Kitts and Nevis'), ('Montserrat', 'Saint Vincent and the Grenadines'), ('Montserrat', 'Cuba'), ('Montserrat', 'Dominican Republic'), ('Montserrat', 'Austria'), ('Montserrat', 'Belgium'), ('Montserrat', 'Cyprus'), ('Montserrat', 'Czech Republic'), ('Montserrat', 'Denmark'), ('Montserrat', 'Finland'), ('Montserrat', 'France'), ('Montserrat', 'Germany'), ('Montserrat', 'Greece'), ('Montserrat', 'Hungary'), ('Montserrat', 'Ireland'), ('Montserrat', 'Italy'), ('Montserrat', 'Luxembourg'), ('Montserrat', 'Malta'), ('Montserrat', 'Netherlands'), ('Montserrat', 'Poland'), ('Montserrat', 'Portugal'), ('Montserrat', 'Slovak Republic'), ('Montserrat', 'Spain'), ('Montserrat', 'Sweden'), ('Montserrat', 'United Kingdom'), ('Montserrat', 'Anguilla'), ('Montserrat', 'Aruba'), ('Montserrat', 'British Indian Ocean Territory'), ('Montserrat', 'Cayman Islands'), ('Montserrat', 'Falkland or Malvinas'), ('Montserrat', 'French Polynesia'), ('Montserrat', 'French Southern Territories'), ('Montserrat', 'Greenland'), ('Montserrat', 'Mayotte'), ('Montserrat', 'Netherlands Antilles'), ('Montserrat', 'New Caledonia'), ('Montserrat', 'Pitcairn'), ('Montserrat', 'Saint Helena'), ('Montserrat', 'Saint Pierre and Miquelon'), ('Montserrat', 'South Georgia and the South Sandwich Islands'), ('Montserrat', 'Turks and Caicos Islands'), ('Montserrat', 'Virgin Islands'), ('Montserrat', 'British'), ('Montserrat', 'Wallis and Futuna Islands'), ('St Kitts-Nevis-Anguilla', 'St Lucia'), ('St Kitts-Nevis-Anguilla', 'St Vincent and the Grenadines'), ('St Kitts-Nevis-Anguilla', 'Trinidad and Tobago'), ('St Lucia', 'St Vincent and the Grenadines'), ('St Lucia', 'Trinidad and Tobago'), ('St Vincent and the Grenadines', 'Trinidad and Tobago'), ('St Vincent and the Grenadines', 'St Kitts and Nevis'), ('St Vincent and the Grenadines', 'Saint Lucia'), ('St Vincent and the Grenadines', 'Suriname'), ('St Vincent and the Grenadines', 'Dominican Republic'), ('Trinidad and Tobago', 'St Kitts and Nevis'), ('Trinidad and Tobago', 'Saint Lucia'), ('Trinidad and Tobago', 'Suriname'), ('Trinidad and Tobago', 'Haiti'), ('Trinidad and Tobago', 'Saint Kitts and Nevis'), ('Trinidad and Tobago', 'Saint Vincent and the Grenadines'), ('Trinidad and Tobago', 'Cuba'), ('Trinidad and Tobago', 'Dominican Republic'), ('Trinidad and Tobago', 'Austria'), ('Trinidad and Tobago', 'Belgium'), ('Trinidad and Tobago', 'Cyprus'), ('Trinidad and Tobago', 'Czech Republic'), ('Trinidad and Tobago', 'Denmark'), ('Trinidad and Tobago', 'Finland'), ('Trinidad and Tobago', 'France'), ('Trinidad and Tobago', 'Germany'), ('Trinidad and Tobago', 'Greece'), ('Trinidad and Tobago', 'Hungary'), ('Trinidad and Tobago', 'Ireland'), ('Trinidad and Tobago', 'Italy'), ('Trinidad and Tobago', 'Luxembourg'), ('Trinidad and Tobago', 'Malta'), ('Trinidad and Tobago', 'Netherlands'), ('Trinidad and Tobago', 'Poland'), ('Trinidad and Tobago', 'Portugal'), ('Trinidad and Tobago', 'Slovak Republic'), ('Trinidad and Tobago', 'Spain'), ('Trinidad and Tobago', 'Sweden'), ('Trinidad and Tobago', 'United Kingdom'), ('Trinidad and Tobago', 'Argentina'), ('Trinidad and Tobago', 'Iraq'), ('Trinidad and Tobago', 'Mexico'), ('Trinidad and Tobago', 'Nicaragua'), ('Trinidad and Tobago', 'Pakistan'), ('St Kitts and Nevis', 'Saint Lucia'), ('St Kitts and Nevis', 'Suriname'), ('St Kitts and Nevis', 'Dominican Republic'), ('Saint Lucia', 'Suriname'), ('Saint Lucia', 'Haiti'), ('Saint Lucia', 'Saint Kitts and Nevis'), ('Saint Lucia', 'Saint Vincent and the Grenadines'), ('Saint Lucia', 'Cuba'), ('Saint Lucia', 'Dominican Republic'), ('Saint Lucia', 'Austria'), ('Saint Lucia', 'Belgium'), ('Saint Lucia', 'Cyprus'), ('Saint Lucia', 'Czech Republic'), ('Saint Lucia', 'Denmark'), ('Saint Lucia', 'Finland'), ('Saint Lucia', 'France'), ('Saint Lucia', 'Germany'), ('Saint Lucia', 'Greece'), ('Saint Lucia', 'Hungary'), ('Saint Lucia', 'Ireland'), ('Saint Lucia', 'Italy'), ('Saint Lucia', 'Luxembourg'), ('Saint Lucia', 'Malta'), ('Saint Lucia', 'Netherlands'), ('Saint Lucia', 'Poland'), ('Saint Lucia', 'Portugal'), ('Saint Lucia', 'Slovak Republic'), ('Saint Lucia', 'Spain'), ('Saint Lucia', 'Sweden'), ('Saint Lucia', 'United Kingdom'), ('Suriname', 'Haiti'), ('Suriname', 'Saint Kitts and Nevis'), ('Suriname', 'Saint Vincent and the Grenadines'), ('Suriname', 'Cuba'), ('Suriname', 'Dominican Republic'), ('Suriname', 'Austria'), ('Suriname', 'Belgium'), ('Suriname', 'Cyprus'), ('Suriname', 'Czech Republic'), ('Suriname', 'Denmark'), ('Suriname', 'Finland'), ('Suriname', 'France'), ('Suriname', 'Germany'), ('Suriname', 'Greece'), ('Suriname', 'Hungary'), ('Suriname', 'Ireland'), ('Suriname', 'Italy'), ('Suriname', 'Luxembourg'), ('Suriname', 'Malta'), ('Suriname', 'Netherlands'), ('Suriname', 'Poland'), ('Suriname', 'Portugal'), ('Suriname', 'Slovak Republic'), ('Suriname', 'Spain'), ('Suriname', 'Sweden'), ('Suriname', 'United Kingdom'), ('Haiti', 'Saint Kitts and Nevis'), ('Haiti', 'Saint Vincent and the Grenadines'), ('Haiti', 'Cuba'), ('Saint Kitts and Nevis', 'Saint Vincent and the Grenadines'), ('Saint Kitts and Nevis', 'Cuba'), ('Saint Kitts and Nevis', 'Dominican Republic'), ('Saint Kitts and Nevis', 'Austria'), ('Saint Kitts and Nevis', 'Belgium'), ('Saint Kitts and Nevis', 'Cyprus'), ('Saint Kitts and Nevis', 'Czech Republic'), ('Saint Kitts and Nevis', 'Denmark'), ('Saint Kitts and Nevis', 'Finland'), ('Saint Kitts and Nevis', 'France'), ('Saint Kitts and Nevis', 'Germany'), ('Saint Kitts and Nevis', 'Greece'), ('Saint Kitts and Nevis', 'Hungary'), ('Saint Kitts and Nevis', 'Ireland'), ('Saint Kitts and Nevis', 'Italy'), ('Saint Kitts and Nevis', 'Luxembourg'), ('Saint Kitts and Nevis', 'Malta'), ('Saint Kitts and Nevis', 'Netherlands'), ('Saint Kitts and Nevis', 'Poland'), ('Saint Kitts and Nevis', 'Portugal'), ('Saint Kitts and Nevis', 'Slovak Republic'), ('Saint Kitts and Nevis', 'Spain'), ('Saint Kitts and Nevis', 'Sweden'), ('Saint Kitts and Nevis', 'United Kingdom'), ('Saint Vincent and the Grenadines', 'Cuba'), ('Saint Vincent and the Grenadines', 'Dominican Republic'), ('Saint Vincent and the Grenadines', 'Austria'), ('Saint Vincent and the Grenadines', 'Belgium'), ('Saint Vincent and the Grenadines', 'Cyprus'), ('Saint Vincent and the Grenadines', 'Czech Republic'), ('Saint Vincent and the Grenadines', 'Denmark'), ('Saint Vincent and the Grenadines', 'Finland'), ('Saint Vincent and the Grenadines', 'France'), ('Saint Vincent and the Grenadines', 'Germany'), ('Saint Vincent and the Grenadines', 'Greece'), ('Saint Vincent and the Grenadines', 'Hungary'), ('Saint Vincent and the Grenadines', 'Ireland'), ('Saint Vincent and the Grenadines', 'Italy'), ('Saint Vincent and the Grenadines', 'Luxembourg'), ('Saint Vincent and the Grenadines', 'Malta'), ('Saint Vincent and the Grenadines', 'Netherlands'), ('Saint Vincent and the Grenadines', 'Poland'), ('Saint Vincent and the Grenadines', 'Portugal'), ('Saint Vincent and the Grenadines', 'Slovak Republic'), ('Saint Vincent and the Grenadines', 'Spain'), ('Saint Vincent and the Grenadines', 'Sweden'), ('Saint Vincent and the Grenadines', 'United Kingdom'), ('Cuba', 'Argentina'), ('Cuba', 'Iraq'), ('Cuba', 'Mexico'), ('Cuba', 'Nicaragua'), ('Cuba', 'Pakistan'), ('Dominican Republic', 'El Salvador'), ('Dominican Republic', 'Guatemala'), ('Dominican Republic', 'Honduras'), ('Dominican Republic', 'Nicaragua'), ('Dominican Republic', 'United States'), ('Dominican Republic', 'Panama'), ('Dominican Republic', 'Austria'), ('Dominican Republic', 'Belgium'), ('Dominican Republic', 'Cyprus'), ('Dominican Republic', 'Czech Republic'), ('Dominican Republic', 'Denmark'), ('Dominican Republic', 'Finland'), ('Dominican Republic', 'France'), ('Dominican Republic', 'Germany'), ('Dominican Republic', 'Greece'), ('Dominican Republic', 'Hungary'), ('Dominican Republic', 'Ireland'), ('Dominican Republic', 'Italy'), ('Dominican Republic', 'Luxembourg'), ('Dominican Republic', 'Malta'), ('Dominican Republic', 'Netherlands'), ('Dominican Republic', 'Poland'), ('Dominican Republic', 'Portugal'), ('Dominican Republic', 'Slovak Republic'), ('Dominican Republic', 'Spain'), ('Dominican Republic', 'Sweden'), ('Dominican Republic', 'United Kingdom'), ('Czech Republic', 'Hungary'), ('Czech Republic', 'Poland'), ('Czech Republic', 'Slovak Republic'), ('Czech Republic', 'Austria'), ('Czech Republic', 'Belgium'), ('Czech Republic', 'Denmark'), ('Czech Republic', 'Germany'), ('Czech Republic', 'Greece'), ('Czech Republic', 'Finland'), ('Czech Republic', 'France'), ('Czech Republic', 'Ireland'), ('Czech Republic', 'Italy'), ('Czech Republic', 'Luxembourg'), ('Czech Republic', 'Netherlands'), ('Czech Republic', 'Portugal'), ('Czech Republic', 'Spain'), ('Czech Republic', 'Sweden'), ('Czech Republic', 'United Kingdom'), ('Czech Republic', 'Cyprus'), ('Czech Republic', 'Malta'), ('Czech Republic', 'Lebanon'), ('Czech Republic', 'Montenegro'), ('Czech Republic', 'Anguilla'), ('Czech Republic', 'Aruba'), ('Czech Republic', 'British Indian Ocean Territory'), ('Czech Republic', 'Cayman Islands'), ('Czech Republic', 'Falkland or Malvinas'), ('Czech Republic', 'French Polynesia'), ('Czech Republic', 'French Southern Territories'), ('Czech Republic', 'Greenland'), ('Czech Republic', 'Mayotte'), ('Czech Republic', 'Netherlands Antilles'), ('Czech Republic', 'New Caledonia'), ('Czech Republic', 'Pitcairn'), ('Czech Republic', 'Saint Helena'), ('Czech Republic', 'Saint Pierre and Miquelon'), ('Czech Republic', 'South Georgia and the South Sandwich Islands'), ('Czech Republic', 'Turks and Caicos Islands'), ('Czech Republic', 'Virgin Islands'), ('Czech Republic', 'British'), ('Czech Republic', 'Wallis and Futuna Islands'), ('Czech Republic', 'Palestine'), ('Czech Republic', 'San Marino'), ('Hungary', 'Poland'), ('Hungary', 'Slovak Republic'), ('Hungary', 'Austria'), ('Hungary', 'Belgium'), ('Hungary', 'Denmark'), ('Hungary', 'Germany'), ('Hungary', 'Greece'), ('Hungary', 'Finland'), ('Hungary', 'France'), ('Hungary', 'Ireland'), ('Hungary', 'Italy'), ('Hungary', 'Luxembourg'), ('Hungary', 'Netherlands'), ('Hungary', 'Portugal'), ('Hungary', 'Spain'), ('Hungary', 'Sweden'), ('Hungary', 'United Kingdom'), ('Hungary', 'Cyprus'), ('Hungary', 'Malta'), ('Hungary', 'Lebanon'), ('Hungary', 'Montenegro'), ('Hungary', 'Anguilla'), ('Hungary', 'Aruba'), ('Hungary', 'British Indian Ocean Territory'), ('Hungary', 'Cayman Islands'), ('Hungary', 'Falkland or Malvinas'), ('Hungary', 'French Polynesia'), ('Hungary', 'French Southern Territories'), ('Hungary', 'Greenland'), ('Hungary', 'Mayotte'), ('Hungary', 'Netherlands Antilles'), ('Hungary', 'New Caledonia'), ('Hungary', 'Pitcairn'), ('Hungary', 'Saint Helena'), ('Hungary', 'Saint Pierre and Miquelon'), ('Hungary', 'South Georgia and the South Sandwich Islands'), ('Hungary', 'Turks and Caicos Islands'), ('Hungary', 'Virgin Islands'), ('Hungary', 'British'), ('Hungary', 'Wallis and Futuna Islands'), ('Hungary', 'Palestine'), ('Hungary', 'San Marino'), ('Poland', 'Slovak Republic'), ('Poland', 'Austria'), ('Poland', 'Belgium'), ('Poland', 'Denmark'), ('Poland', 'Germany'), ('Poland', 'Greece'), ('Poland', 'Finland'), ('Poland', 'France'), ('Poland', 'Ireland'), ('Poland', 'Italy'), ('Poland', 'Luxembourg'), ('Poland', 'Netherlands'), ('Poland', 'Portugal'), ('Poland', 'Spain'), ('Poland', 'Sweden'), ('Poland', 'United Kingdom'), ('Poland', 'Cyprus'), ('Poland', 'Malta'), ('Poland', 'Lebanon'), ('Poland', 'Montenegro'), ('Poland', 'Anguilla'), ('Poland', 'Aruba'), ('Poland', 'British Indian Ocean Territory'), ('Poland', 'Cayman Islands'), ('Poland', 'Falkland or Malvinas'), ('Poland', 'French Polynesia'), ('Poland', 'French Southern Territories'), ('Poland', 'Greenland'), ('Poland', 'Mayotte'), ('Poland', 'Netherlands Antilles'), ('Poland', 'New Caledonia'), ('Poland', 'Pitcairn'), ('Poland', 'Saint Helena'), ('Poland', 'Saint Pierre and Miquelon'), ('Poland', 'South Georgia and the South Sandwich Islands'), ('Poland', 'Turks and Caicos Islands'), ('Poland', 'Virgin Islands'), ('Poland', 'British'), ('Poland', 'Wallis and Futuna Islands'), ('Poland', 'Palestine'), ('Poland', 'San Marino'), ('Poland', 'Faroe Islands'), ('Slovak Republic', 'Austria'), ('Slovak Republic', 'Belgium'), ('Slovak Republic', 'Denmark'), ('Slovak Republic', 'Germany'), ('Slovak Republic', 'Greece'), ('Slovak Republic', 'Finland'), ('Slovak Republic', 'France'), ('Slovak Republic', 'Ireland'), ('Slovak Republic', 'Italy'), ('Slovak Republic', 'Luxembourg'), ('Slovak Republic', 'Netherlands'), ('Slovak Republic', 'Portugal'), ('Slovak Republic', 'Spain'), ('Slovak Republic', 'Sweden'), ('Slovak Republic', 'United Kingdom'), ('Slovak Republic', 'Cyprus'), ('Slovak Republic', 'Malta'), ('Slovak Republic', 'Lebanon'), ('Slovak Republic', 'Montenegro'), ('Slovak Republic', 'Anguilla'), ('Slovak Republic', 'Aruba'), ('Slovak Republic', 'British Indian Ocean Territory'), ('Slovak Republic', 'Cayman Islands'), ('Slovak Republic', 'Falkland or Malvinas'), ('Slovak Republic', 'French Polynesia'), ('Slovak Republic', 'French Southern Territories'), ('Slovak Republic', 'Greenland'), ('Slovak Republic', 'Mayotte'), ('Slovak Republic', 'Netherlands Antilles'), ('Slovak Republic', 'New Caledonia'), ('Slovak Republic', 'Pitcairn'), ('Slovak Republic', 'Saint Helena'), ('Slovak Republic', 'Saint Pierre and Miquelon'), ('Slovak Republic', 'South Georgia and the South Sandwich Islands'), ('Slovak Republic', 'Turks and Caicos Islands'), ('Slovak Republic', 'Virgin Islands'), ('Slovak Republic', 'British'), ('Slovak Republic', 'Wallis and Futuna Islands'), ('Slovak Republic', 'Palestine'), ('Slovak Republic', 'San Marino'), ('Montenegro', 'Serbia'), ('Montenegro', 'Austria'), ('Montenegro', 'Belgium'), ('Montenegro', 'Cyprus'), ('Montenegro', 'Denmark'), ('Montenegro', 'Finland'), ('Montenegro', 'France'), ('Montenegro', 'Germany'), ('Montenegro', 'Greece'), ('Montenegro', 'Ireland'), ('Montenegro', 'Italy'), ('Montenegro', 'Luxembourg'), ('Montenegro', 'Malta'), ('Montenegro', 'Netherlands'), ('Montenegro', 'Portugal'), ('Montenegro', 'Spain'), ('Montenegro', 'Sweden'), ('Montenegro', 'United Kingdom'), ('El Salvador', 'Guatemala'), ('El Salvador', 'Honduras'), ('El Salvador', 'Nicaragua'), ('El Salvador', 'United States'), ('El Salvador', 'Mexico'), ('El Salvador', 'Taiwan'), ('El Salvador', 'Panama'), ('Guatemala', 'Honduras'), ('Guatemala', 'Nicaragua'), ('Guatemala', 'United States'), ('Guatemala', 'Mexico'), ('Honduras', 'Nicaragua'), ('Honduras', 'United States'), ('Honduras', 'Mexico'), ('Honduras', 'Taiwan'), ('Honduras', 'Panama'), ('Nicaragua', 'United States'), ('Nicaragua', 'Taiwan'), ('Nicaragua', 'Argentina'), ('Nicaragua', 'Iraq'), ('Nicaragua', 'Mexico'), ('Nicaragua', 'Pakistan'), ('United States', 'Mexico'), ('United States', 'Oman'), ('Mexico', 'Austria'), ('Mexico', 'Belgium'), ('Mexico', 'Denmark'), ('Mexico', 'Finland'), ('Mexico', 'France'), ('Mexico', 'Germany'), ('Mexico', 'Greece'), ('Mexico', 'Ireland'), ('Mexico', 'Italy'), ('Mexico', 'Luxembourg'), ('Mexico', 'Netherlands'), ('Mexico', 'Portugal'), ('Mexico', 'Spain'), ('Mexico', 'Sweden'), ('Mexico', 'United Kingdom'), ('Mexico', 'Argentina'), ('Mexico', 'Iraq'), ('Mexico', 'Pakistan'), ('Mexico', 'Paraguay'), ('Mexico', 'Uruguay'), ('Mexico', 'Yugoslavia'), ('Panama', 'Taiwan'), ('Panama', 'Singapore '), ('Pakistan', 'Tajikistan'), ('Pakistan', 'Uzbekistan'), ('Pakistan', 'Argentina'), ('Pakistan', 'Iraq'), ('Pakistan', 'Spain'), ('Pakistan', 'Uruguay'), ('Pakistan', 'Yugoslavia'), ('Pakistan', 'Maldives'), ('Tajikistan', 'Uzbekistan'), ('Belgium', 'Denmark'), ('Belgium', 'France'), ('Belgium', 'Germany'), ('Belgium', 'Ireland'), ('Belgium', 'Italy'), ('Belgium', 'Luxembourg'), ('Belgium', 'Netherlands'), ('Belgium', 'United Kingdom'), ('Belgium', 'Greece'), ('Belgium', 'Portugal'), ('Belgium', 'Spain'), ('Belgium', 'Austria'), ('Belgium', 'Finland'), ('Belgium', 'Sweden'), ('Belgium', 'Cyprus'), ('Belgium', 'Malta'), ('Belgium', 'Andorra'), ('Belgium', 'Faroe Islands'), ('Belgium', 'Lebanon'), ('Belgium', 'Anguilla'), ('Belgium', 'Aruba'), ('Belgium', 'British Indian Ocean Territory'), ('Belgium', 'Cayman Islands'), ('Belgium', 'Falkland or Malvinas'), ('Belgium', 'French Polynesia'), ('Belgium', 'French Southern Territories'), ('Belgium', 'Greenland'), ('Belgium', 'Mayotte'), ('Belgium', 'Netherlands Antilles'), ('Belgium', 'New Caledonia'), ('Belgium', 'Pitcairn'), ('Belgium', 'Saint Helena'), ('Belgium', 'Saint Pierre and Miquelon'), ('Belgium', 'South Georgia and the South Sandwich Islands'), ('Belgium', 'Turks and Caicos Islands'), ('Belgium', 'Virgin Islands'), ('Belgium', 'British'), ('Belgium', 'Wallis and Futuna Islands'), ('Belgium', 'Palestine'), ('Belgium', 'San Marino'), ('Belgium', 'South Africa'), ('Belgium', 'Syria'), ('Denmark', 'France'), ('Denmark', 'Germany'), ('Denmark', 'Ireland'), ('Denmark', 'Italy'), ('Denmark', 'Luxembourg'), ('Denmark', 'Netherlands'), ('Denmark', 'United Kingdom'), ('Denmark', 'Greece'), ('Denmark', 'Portugal'), ('Denmark', 'Spain'), ('Denmark', 'Austria'), ('Denmark', 'Finland'), ('Denmark', 'Sweden'), ('Denmark', 'Cyprus'), ('Denmark', 'Malta'), ('Denmark', 'Andorra'), ('Denmark', 'Faroe Islands'), ('Denmark', 'Lebanon'), ('Denmark', 'Anguilla'), ('Denmark', 'Aruba'), ('Denmark', 'British Indian Ocean Territory'), ('Denmark', 'Cayman Islands'), ('Denmark', 'Falkland or Malvinas'), ('Denmark', 'French Polynesia'), ('Denmark', 'French Southern Territories'), ('Denmark', 'Greenland'), ('Denmark', 'Mayotte'), ('Denmark', 'Netherlands Antilles'), ('Denmark', 'New Caledonia'), ('Denmark', 'Pitcairn'), ('Denmark', 'Saint Helena'), ('Denmark', 'Saint Pierre and Miquelon'), ('Denmark', 'South Georgia and the South Sandwich Islands'), ('Denmark', 'Turks and Caicos Islands'), ('Denmark', 'Virgin Islands'), ('Denmark', 'British'), ('Denmark', 'Wallis and Futuna Islands'), ('Denmark', 'Palestine'), ('Denmark', 'San Marino'), ('Denmark', 'South Africa'), ('Denmark', 'Syria'), ('France', 'Germany'), ('France', 'Ireland'), ('France', 'Italy'), ('France', 'Luxembourg'), ('France', 'Netherlands'), ('France', 'United Kingdom'), ('France', 'Greece'), ('France', 'Portugal'), ('France', 'Spain'), ('France', 'Austria'), ('France', 'Finland'), ('France', 'Sweden'), ('France', 'Cyprus'), ('France', 'Malta'), ('France', 'Andorra'), ('France', 'Faroe Islands'), ('France', 'Lebanon'), ('France', 'Anguilla'), ('France', 'Aruba'), ('France', 'British Indian Ocean Territory'), ('France', 'Cayman Islands'), ('France', 'Falkland or Malvinas'), ('France', 'French Polynesia'), ('France', 'French Southern Territories'), ('France', 'Greenland'), ('France', 'Mayotte'), ('France', 'Netherlands Antilles'), ('France', 'New Caledonia'), ('France', 'Pitcairn'), ('France', 'Saint Helena'), ('France', 'Saint Pierre and Miquelon'), ('France', 'South Georgia and the South Sandwich Islands'), ('France', 'Turks and Caicos Islands'), ('France', 'Virgin Islands'), ('France', 'British'), ('France', 'Wallis and Futuna Islands'), ('France', 'Palestine'), ('France', 'San Marino'), ('France', 'South Africa'), ('France', 'Syria'), ('Germany', 'Ireland'), ('Germany', 'Italy'), ('Germany', 'Luxembourg'), ('Germany', 'Netherlands'), ('Germany', 'United Kingdom'), ('Germany', 'Greece'), ('Germany', 'Portugal'), ('Germany', 'Spain'), ('Germany', 'Austria'), ('Germany', 'Finland'), ('Germany', 'Sweden'), ('Germany', 'Cyprus'), ('Germany', 'Malta'), ('Germany', 'Andorra'), ('Germany', 'Faroe Islands'), ('Germany', 'Lebanon'), ('Germany', 'Anguilla'), ('Germany', 'Aruba'), ('Germany', 'British Indian Ocean Territory'), ('Germany', 'Cayman Islands'), ('Germany', 'Falkland or Malvinas'), ('Germany', 'French Polynesia'), ('Germany', 'French Southern Territories'), ('Germany', 'Greenland'), ('Germany', 'Mayotte'), ('Germany', 'Netherlands Antilles'), ('Germany', 'New Caledonia'), ('Germany', 'Pitcairn'), ('Germany', 'Saint Helena'), ('Germany', 'Saint Pierre and Miquelon'), ('Germany', 'South Georgia and the South Sandwich Islands'), ('Germany', 'Turks and Caicos Islands'), ('Germany', 'Virgin Islands'), ('Germany', 'British'), ('Germany', 'Wallis and Futuna Islands'), ('Germany', 'Palestine'), ('Germany', 'San Marino'), ('Germany', 'South Africa'), ('Germany', 'Syria'), ('Ireland', 'Italy'), ('Ireland', 'Luxembourg'), ('Ireland', 'Netherlands'), ('Ireland', 'United Kingdom'), ('Ireland', 'Greece'), ('Ireland', 'Portugal'), ('Ireland', 'Spain'), ('Ireland', 'Austria'), ('Ireland', 'Finland'), ('Ireland', 'Sweden'), ('Ireland', 'Cyprus'), ('Ireland', 'Malta'), ('Ireland', 'Andorra'), ('Ireland', 'Faroe Islands'), ('Ireland', 'Lebanon'), ('Ireland', 'Anguilla'), ('Ireland', 'Aruba'), ('Ireland', 'British Indian Ocean Territory'), ('Ireland', 'Cayman Islands'), ('Ireland', 'Falkland or Malvinas'), ('Ireland', 'French Polynesia'), ('Ireland', 'French Southern Territories'), ('Ireland', 'Greenland'), ('Ireland', 'Mayotte'), ('Ireland', 'Netherlands Antilles'), ('Ireland', 'New Caledonia'), ('Ireland', 'Pitcairn'), ('Ireland', 'Saint Helena'), ('Ireland', 'Saint Pierre and Miquelon'), ('Ireland', 'South Georgia and the South Sandwich Islands'), ('Ireland', 'Turks and Caicos Islands'), ('Ireland', 'Virgin Islands'), ('Ireland', 'British'), ('Ireland', 'Wallis and Futuna Islands'), ('Ireland', 'Palestine'), ('Ireland', 'San Marino'), ('Ireland', 'South Africa'), ('Ireland', 'Syria'), ('Italy', 'Luxembourg'), ('Italy', 'Netherlands'), ('Italy', 'United Kingdom'), ('Italy', 'Greece'), ('Italy', 'Portugal'), ('Italy', 'Spain'), ('Italy', 'Austria'), ('Italy', 'Finland'), ('Italy', 'Sweden'), ('Italy', 'Cyprus'), ('Italy', 'Malta'), ('Italy', 'Andorra'), ('Italy', 'Faroe Islands'), ('Italy', 'Lebanon'), ('Italy', 'Anguilla'), ('Italy', 'Aruba'), ('Italy', 'British Indian Ocean Territory'), ('Italy', 'Cayman Islands'), ('Italy', 'Falkland or Malvinas'), ('Italy', 'French Polynesia'), ('Italy', 'French Southern Territories'), ('Italy', 'Greenland'), ('Italy', 'Mayotte'), ('Italy', 'Netherlands Antilles'), ('Italy', 'New Caledonia'), ('Italy', 'Pitcairn'), ('Italy', 'Saint Helena'), ('Italy', 'Saint Pierre and Miquelon'), ('Italy', 'South Georgia and the South Sandwich Islands'), ('Italy', 'Turks and Caicos Islands'), ('Italy', 'Virgin Islands'), ('Italy', 'British'), ('Italy', 'Wallis and Futuna Islands'), ('Italy', 'Palestine'), ('Italy', 'San Marino'), ('Italy', 'South Africa'), ('Italy', 'Syria'), ('Luxembourg', 'Netherlands'), ('Luxembourg', 'United Kingdom'), ('Luxembourg', 'Greece'), ('Luxembourg', 'Portugal'), ('Luxembourg', 'Spain'), ('Luxembourg', 'Austria'), ('Luxembourg', 'Finland'), ('Luxembourg', 'Sweden'), ('Luxembourg', 'Cyprus'), ('Luxembourg', 'Malta'), ('Luxembourg', 'Andorra'), ('Luxembourg', 'Faroe Islands'), ('Luxembourg', 'Lebanon'), ('Luxembourg', 'Anguilla'), ('Luxembourg', 'Aruba'), ('Luxembourg', 'British Indian Ocean Territory'), ('Luxembourg', 'Cayman Islands'), ('Luxembourg', 'Falkland or Malvinas'), ('Luxembourg', 'French Polynesia'), ('Luxembourg', 'French Southern Territories'), ('Luxembourg', 'Greenland'), ('Luxembourg', 'Mayotte'), ('Luxembourg', 'Netherlands Antilles'), ('Luxembourg', 'New Caledonia'), ('Luxembourg', 'Pitcairn'), ('Luxembourg', 'Saint Helena'), ('Luxembourg', 'Saint Pierre and Miquelon'), ('Luxembourg', 'South Georgia and the South Sandwich Islands'), ('Luxembourg', 'Turks and Caicos Islands'), ('Luxembourg', 'Virgin Islands'), ('Luxembourg', 'British'), ('Luxembourg', 'Wallis and Futuna Islands'), ('Luxembourg', 'Palestine'), ('Luxembourg', 'San Marino'), ('Luxembourg', 'South Africa'), ('Luxembourg', 'Syria'), ('Netherlands', 'United Kingdom'), ('Netherlands', 'Greece'), ('Netherlands', 'Portugal'), ('Netherlands', 'Spain'), ('Netherlands', 'Austria'), ('Netherlands', 'Finland'), ('Netherlands', 'Sweden'), ('Netherlands', 'Cyprus'), ('Netherlands', 'Malta'), ('Netherlands', 'Andorra'), ('Netherlands', 'Faroe Islands'), ('Netherlands', 'Lebanon'), ('Netherlands', 'Anguilla'), ('Netherlands', 'Aruba'), ('Netherlands', 'British Indian Ocean Territory'), ('Netherlands', 'Cayman Islands'), ('Netherlands', 'Falkland or Malvinas'), ('Netherlands', 'French Polynesia'), ('Netherlands', 'French Southern Territories'), ('Netherlands', 'Greenland'), ('Netherlands', 'Mayotte'), ('Netherlands', 'Netherlands Antilles'), ('Netherlands', 'New Caledonia'), ('Netherlands', 'Pitcairn'), ('Netherlands', 'Saint Helena'), ('Netherlands', 'Saint Pierre and Miquelon'), ('Netherlands', 'South Georgia and the South Sandwich Islands'), ('Netherlands', 'Turks and Caicos Islands'), ('Netherlands', 'Virgin Islands'), ('Netherlands', 'British'), ('Netherlands', 'Wallis and Futuna Islands'), ('Netherlands', 'Palestine'), ('Netherlands', 'San Marino'), ('Netherlands', 'South Africa'), ('Netherlands', 'Syria'), ('United Kingdom', 'Greece'), ('United Kingdom', 'Portugal'), ('United Kingdom', 'Spain'), ('United Kingdom', 'Austria'), ('United Kingdom', 'Finland'), ('United Kingdom', 'Sweden'), ('United Kingdom', 'Cyprus'), ('United Kingdom', 'Malta'), ('United Kingdom', 'Andorra'), ('United Kingdom', 'Faroe Islands'), ('United Kingdom', 'United Kingdom'), ('United Kingdom', 'Lebanon'), ('United Kingdom', 'Anguilla'), ('United Kingdom', 'Aruba'), ('United Kingdom', 'British Indian Ocean Territory'), ('United Kingdom', 'Cayman Islands'), ('United Kingdom', 'Falkland or Malvinas'), ('United Kingdom', 'French Polynesia'), ('United Kingdom', 'French Southern Territories'), ('United Kingdom', 'Greenland'), ('United Kingdom', 'Mayotte'), ('United Kingdom', 'Netherlands Antilles'), ('United Kingdom', 'New Caledonia'), ('United Kingdom', 'Pitcairn'), ('United Kingdom', 'Saint Helena'), ('United Kingdom', 'Saint Pierre and Miquelon'), ('United Kingdom', 'South Georgia and the South Sandwich Islands'), ('United Kingdom', 'Turks and Caicos Islands'), ('United Kingdom', 'Virgin Islands'), ('United Kingdom', 'British'), ('United Kingdom', 'Wallis and Futuna Islands'), ('United Kingdom', 'Palestine'), ('United Kingdom', 'San Marino'), ('United Kingdom', 'South Africa'), ('United Kingdom', 'Syria'), ('Greece', 'Portugal'), ('Greece', 'Spain'), ('Greece', 'Austria'), ('Greece', 'Finland'), ('Greece', 'Sweden'), ('Greece', 'Cyprus'), ('Greece', 'Malta'), ('Greece', 'Andorra'), ('Greece', 'Faroe Islands'), ('Greece', 'Lebanon'), ('Greece', 'Anguilla'), ('Greece', 'Aruba'), ('Greece', 'British Indian Ocean Territory'), ('Greece', 'Cayman Islands'), ('Greece', 'Falkland or Malvinas'), ('Greece', 'French Polynesia'), ('Greece', 'French Southern Territories'), ('Greece', 'Greenland'), ('Greece', 'Mayotte'), ('Greece', 'Netherlands Antilles'), ('Greece', 'New Caledonia'), ('Greece', 'Pitcairn'), ('Greece', 'Saint Helena'), ('Greece', 'Saint Pierre and Miquelon'), ('Greece', 'South Georgia and the South Sandwich Islands'), ('Greece', 'Turks and Caicos Islands'), ('Greece', 'Virgin Islands'), ('Greece', 'British'), ('Greece', 'Wallis and Futuna Islands'), ('Greece', 'Palestine'), ('Greece', 'San Marino'), ('Greece', 'South Africa'), ('Portugal', 'Spain'), ('Portugal', 'Austria'), ('Portugal', 'Finland'), ('Portugal', 'Sweden'), ('Portugal', 'Cyprus'), ('Portugal', 'Malta'), ('Portugal', 'Andorra'), ('Portugal', 'Faroe Islands'), ('Portugal', 'Lebanon'), ('Portugal', 'Anguilla'), ('Portugal', 'Aruba'), ('Portugal', 'British Indian Ocean Territory'), ('Portugal', 'Cayman Islands'), ('Portugal', 'Falkland or Malvinas'), ('Portugal', 'French Polynesia'), ('Portugal', 'French Southern Territories'), ('Portugal', 'Greenland'), ('Portugal', 'Mayotte'), ('Portugal', 'Netherlands Antilles'), ('Portugal', 'New Caledonia'), ('Portugal', 'Pitcairn'), ('Portugal', 'Saint Helena'), ('Portugal', 'Saint Pierre and Miquelon'), ('Portugal', 'South Georgia and the South Sandwich Islands'), ('Portugal', 'Turks and Caicos Islands'), ('Portugal', 'Virgin Islands'), ('Portugal', 'British'), ('Portugal', 'Wallis and Futuna Islands'), ('Portugal', 'Palestine'), ('Portugal', 'San Marino'), ('Portugal', 'South Africa'), ('Spain', 'Austria'), ('Spain', 'Finland'), ('Spain', 'Sweden'), ('Spain', 'Cyprus'), ('Spain', 'Malta'), ('Spain', 'Andorra'), ('Spain', 'Faroe Islands'), ('Spain', 'Lebanon'), ('Spain', 'Anguilla'), ('Spain', 'Aruba'), ('Spain', 'British Indian Ocean Territory'), ('Spain', 'Cayman Islands'), ('Spain', 'Falkland or Malvinas'), ('Spain', 'French Polynesia'), ('Spain', 'French Southern Territories'), ('Spain', 'Greenland'), ('Spain', 'Mayotte'), ('Spain', 'Netherlands Antilles'), ('Spain', 'New Caledonia'), ('Spain', 'Pitcairn'), ('Spain', 'Saint Helena'), ('Spain', 'Saint Pierre and Miquelon'), ('Spain', 'South Georgia and the South Sandwich Islands'), ('Spain', 'Turks and Caicos Islands'), ('Spain', 'Virgin Islands'), ('Spain', 'British'), ('Spain', 'Wallis and Futuna Islands'), ('Spain', 'Palestine'), ('Spain', 'San Marino'), ('Spain', 'South Africa'), ('Spain', 'Uruguay'), ('Spain', 'Yugoslavia'), ('Austria', 'Finland'), ('Austria', 'Sweden'), ('Austria', 'Cyprus'), ('Austria', 'Malta'), ('Austria', 'Andorra'), ('Austria', 'Faroe Islands'), ('Austria', 'Lebanon'), ('Austria', 'Anguilla'), ('Austria', 'Aruba'), ('Austria', 'British Indian Ocean Territory'), ('Austria', 'Cayman Islands'), ('Austria', 'Falkland or Malvinas'), ('Austria', 'French Polynesia'), ('Austria', 'French Southern Territories'), ('Austria', 'Greenland'), ('Austria', 'Mayotte'), ('Austria', 'Netherlands Antilles'), ('Austria', 'New Caledonia'), ('Austria', 'Pitcairn'), ('Austria', 'Saint Helena'), ('Austria', 'Saint Pierre and Miquelon'), ('Austria', 'South Georgia and the South Sandwich Islands'), ('Austria', 'Turks and Caicos Islands'), ('Austria', 'Virgin Islands'), ('Austria', 'British'), ('Austria', 'Wallis and Futuna Islands'), ('Austria', 'Palestine'), ('Austria', 'San Marino'), ('Austria', 'South Africa'), ('Finland', 'Sweden'), ('Finland', 'Cyprus'), ('Finland', 'Malta'), ('Finland', 'Andorra'), ('Finland', 'Faroe Islands'), ('Finland', 'Lebanon'), ('Finland', 'Anguilla'), ('Finland', 'Aruba'), ('Finland', 'British Indian Ocean Territory'), ('Finland', 'Cayman Islands'), ('Finland', 'Falkland or Malvinas'), ('Finland', 'French Polynesia'), ('Finland', 'French Southern Territories'), ('Finland', 'Greenland'), ('Finland', 'Mayotte'), ('Finland', 'Netherlands Antilles'), ('Finland', 'New Caledonia'), ('Finland', 'Pitcairn'), ('Finland', 'Saint Helena'), ('Finland', 'Saint Pierre and Miquelon'), ('Finland', 'South Georgia and the South Sandwich Islands'), ('Finland', 'Turks and Caicos Islands'), ('Finland', 'Virgin Islands'), ('Finland', 'British'), ('Finland', 'Wallis and Futuna Islands'), ('Finland', 'Palestine'), ('Finland', 'San Marino'), ('Finland', 'South Africa'), ('Sweden', 'Cyprus'), ('Sweden', 'Malta'), ('Sweden', 'Andorra'), ('Sweden', 'Faroe Islands'), ('Sweden', 'Lebanon'), ('Sweden', 'Anguilla'), ('Sweden', 'Aruba'), ('Sweden', 'British Indian Ocean Territory'), ('Sweden', 'Cayman Islands'), ('Sweden', 'Falkland or Malvinas'), ('Sweden', 'French Polynesia'), ('Sweden', 'French Southern Territories'), ('Sweden', 'Greenland'), ('Sweden', 'Mayotte'), ('Sweden', 'Netherlands Antilles'), ('Sweden', 'New Caledonia'), ('Sweden', 'Pitcairn'), ('Sweden', 'Saint Helena'), ('Sweden', 'Saint Pierre and Miquelon'), ('Sweden', 'South Georgia and the South Sandwich Islands'), ('Sweden', 'Turks and Caicos Islands'), ('Sweden', 'Virgin Islands'), ('Sweden', 'British'), ('Sweden', 'Wallis and Futuna Islands'), ('Sweden', 'Palestine'), ('Sweden', 'San Marino'), ('Sweden', 'South Africa'), ('Cyprus', 'Malta'), ('Cyprus', 'Lebanon'), ('Cyprus', 'Anguilla'), ('Cyprus', 'Aruba'), ('Cyprus', 'British Indian Ocean Territory'), ('Cyprus', 'Cayman Islands'), ('Cyprus', 'Falkland or Malvinas'), ('Cyprus', 'French Polynesia'), ('Cyprus', 'French Southern Territories'), ('Cyprus', 'Greenland'), ('Cyprus', 'Mayotte'), ('Cyprus', 'Netherlands Antilles'), ('Cyprus', 'New Caledonia'), ('Cyprus', 'Pitcairn'), ('Cyprus', 'Saint Helena'), ('Cyprus', 'Saint Pierre and Miquelon'), ('Cyprus', 'South Georgia and the South Sandwich Islands'), ('Cyprus', 'Turks and Caicos Islands'), ('Cyprus', 'Virgin Islands'), ('Cyprus', 'British'), ('Cyprus', 'Wallis and Futuna Islands'), ('Cyprus', 'Palestine'), ('Cyprus', 'San Marino'), ('Malta', 'Lebanon'), ('Malta', 'Anguilla'), ('Malta', 'Aruba'), ('Malta', 'British Indian Ocean Territory'), ('Malta', 'Cayman Islands'), ('Malta', 'Falkland or Malvinas'), ('Malta', 'French Polynesia'), ('Malta', 'French Southern Territories'), ('Malta', 'Greenland'), ('Malta', 'Mayotte'), ('Malta', 'Netherlands Antilles'), ('Malta', 'New Caledonia'), ('Malta', 'Pitcairn'), ('Malta', 'Saint Helena'), ('Malta', 'Saint Pierre and Miquelon'), ('Malta', 'South Georgia and the South Sandwich Islands'), ('Malta', 'Turks and Caicos Islands'), ('Malta', 'Virgin Islands'), ('Malta', 'British'), ('Malta', 'Wallis and Futuna Islands'), ('Malta', 'Palestine'), ('Malta', 'San Marino'), ('Lebanon', 'Iraq'), ('Lebanon', 'Kuwait'), ('Lebanon', 'Oman'), ('Lebanon', 'Qatar'), ('Lebanon', 'Saudi Arabia'), ('Lebanon', 'Syria'), ('Lebanon', 'United Arab Emirates'), ('Lebanon', 'Yemen'), ('Lebanon', 'Palestine'), ('Anguilla', 'Aruba'), ('Anguilla', 'British Indian Ocean Territory'), ('Anguilla', 'Cayman Islands'), ('Anguilla', 'Falkland or Malvinas'), ('Anguilla', 'French Polynesia'), ('Anguilla', 'French Southern Territories'), ('Anguilla', 'Greenland'), ('Anguilla', 'Mayotte'), ('Anguilla', 'Netherlands Antilles'), ('Anguilla', 'New Caledonia'), ('Anguilla', 'Pitcairn'), ('Anguilla', 'Saint Helena'), ('Anguilla', 'Saint Pierre and Miquelon'), ('Anguilla', 'South Georgia and the South Sandwich Islands'), ('Anguilla', 'Turks and Caicos Islands'), ('Anguilla', 'Virgin Islands'), ('Anguilla', 'British'), ('Anguilla', 'Wallis and Futuna Islands'), ('Aruba', 'British Indian Ocean Territory'), ('Aruba', 'Cayman Islands'), ('Aruba', 'Falkland or Malvinas'), ('Aruba', 'French Polynesia'), ('Aruba', 'French Southern Territories'), ('Aruba', 'Greenland'), ('Aruba', 'Mayotte'), ('Aruba', 'Netherlands Antilles'), ('Aruba', 'New Caledonia'), ('Aruba', 'Pitcairn'), ('Aruba', 'Saint Helena'), ('Aruba', 'Saint Pierre and Miquelon'), ('Aruba', 'South Georgia and the South Sandwich Islands'), ('Aruba', 'Turks and Caicos Islands'), ('Aruba', 'Virgin Islands'), ('Aruba', 'British'), ('Aruba', 'Wallis and Futuna Islands'), ('British Indian Ocean Territory', 'Cayman Islands'), ('British Indian Ocean Territory', 'Falkland or Malvinas'), ('British Indian Ocean Territory', 'French Polynesia'), ('British Indian Ocean Territory', 'French Southern Territories'), ('British Indian Ocean Territory', 'Greenland'), ('British Indian Ocean Territory', 'Mayotte'), ('British Indian Ocean Territory', 'Netherlands Antilles'), ('British Indian Ocean Territory', 'New Caledonia'), ('British Indian Ocean Territory', 'Pitcairn'), ('British Indian Ocean Territory', 'Saint Helena'), ('British Indian Ocean Territory', 'Saint Pierre and Miquelon'), ('British Indian Ocean Territory', 'South Georgia and the South Sandwich Islands'), ('British Indian Ocean Territory', 'Turks and Caicos Islands'), ('British Indian Ocean Territory', 'Virgin Islands'), ('British Indian Ocean Territory', 'British'), ('British Indian Ocean Territory', 'Wallis and Futuna Islands'), ('Cayman Islands', 'Falkland or Malvinas'), ('Cayman Islands', 'French Polynesia'), ('Cayman Islands', 'French Southern Territories'), ('Cayman Islands', 'Greenland'), ('Cayman Islands', 'Mayotte'), ('Cayman Islands', 'Netherlands Antilles'), ('Cayman Islands', 'New Caledonia'), ('Cayman Islands', 'Pitcairn'), ('Cayman Islands', 'Saint Helena'), ('Cayman Islands', 'Saint Pierre and Miquelon'), ('Cayman Islands', 'South Georgia and the South Sandwich Islands'), ('Cayman Islands', 'Turks and Caicos Islands'), ('Cayman Islands', 'Virgin Islands'), ('Cayman Islands', 'British'), ('Cayman Islands', 'Wallis and Futuna Islands'), ('Falkland or Malvinas', 'French Polynesia'), ('Falkland or Malvinas', 'French Southern Territories'), ('Falkland or Malvinas', 'Greenland'), ('Falkland or Malvinas', 'Mayotte'), ('Falkland or Malvinas', 'Netherlands Antilles'), ('Falkland or Malvinas', 'New Caledonia'), ('Falkland or Malvinas', 'Pitcairn'), ('Falkland or Malvinas', 'Saint Helena'), ('Falkland or Malvinas', 'Saint Pierre and Miquelon'), ('Falkland or Malvinas', 'South Georgia and the South Sandwich Islands'), ('Falkland or Malvinas', 'Turks and Caicos Islands'), ('Falkland or Malvinas', 'Virgin Islands'), ('Falkland or Malvinas', 'British'), ('Falkland or Malvinas', 'Wallis and Futuna Islands'), ('French Polynesia', 'French Southern Territories'), ('French Polynesia', 'Greenland'), ('French Polynesia', 'Mayotte'), ('French Polynesia', 'Netherlands Antilles'), ('French Polynesia', 'New Caledonia'), ('French Polynesia', 'Pitcairn'), ('French Polynesia', 'Saint Helena'), ('French Polynesia', 'Saint Pierre and Miquelon'), ('French Polynesia', 'South Georgia and the South Sandwich Islands'), ('French Polynesia', 'Turks and Caicos Islands'), ('French Polynesia', 'Virgin Islands'), ('French Polynesia', 'British'), ('French Polynesia', 'Wallis and Futuna Islands'), ('French Southern Territories', 'Greenland'), ('French Southern Territories', 'Mayotte'), ('French Southern Territories', 'Netherlands Antilles'), ('French Southern Territories', 'New Caledonia'), ('French Southern Territories', 'Pitcairn'), ('French Southern Territories', 'Saint Helena'), ('French Southern Territories', 'Saint Pierre and Miquelon'), ('French Southern Territories', 'South Georgia and the South Sandwich Islands'), ('French Southern Territories', 'Turks and Caicos Islands'), ('French Southern Territories', 'Virgin Islands'), ('French Southern Territories', 'British'), ('French Southern Territories', 'Wallis and Futuna Islands'), ('Greenland', 'Mayotte'), ('Greenland', 'Netherlands Antilles'), ('Greenland', 'New Caledonia'), ('Greenland', 'Pitcairn'), ('Greenland', 'Saint Helena'), ('Greenland', 'Saint Pierre and Miquelon'), ('Greenland', 'South Georgia and the South Sandwich Islands'), ('Greenland', 'Turks and Caicos Islands'), ('Greenland', 'Virgin Islands'), ('Greenland', 'British'), ('Greenland', 'Wallis and Futuna Islands'), ('Mayotte', 'Netherlands Antilles'), ('Mayotte', 'New Caledonia'), ('Mayotte', 'Pitcairn'), ('Mayotte', 'Saint Helena'), ('Mayotte', 'Saint Pierre and Miquelon'), ('Mayotte', 'South Georgia and the South Sandwich Islands'), ('Mayotte', 'Turks and Caicos Islands'), ('Mayotte', 'Virgin Islands'), ('Mayotte', 'British'), ('Mayotte', 'Wallis and Futuna Islands'), ('Netherlands Antilles', 'New Caledonia'), ('Netherlands Antilles', 'Pitcairn'), ('Netherlands Antilles', 'Saint Helena'), ('Netherlands Antilles', 'Saint Pierre and Miquelon'), ('Netherlands Antilles', 'South Georgia and the South Sandwich Islands'), ('Netherlands Antilles', 'Turks and Caicos Islands'), ('Netherlands Antilles', 'Virgin Islands'), ('Netherlands Antilles', 'British'), ('Netherlands Antilles', 'Wallis and Futuna Islands'), ('New Caledonia', 'Pitcairn'), ('New Caledonia', 'Saint Helena'), ('New Caledonia', 'Saint Pierre and Miquelon'), ('New Caledonia', 'South Georgia and the South Sandwich Islands'), ('New Caledonia', 'Turks and Caicos Islands'), ('New Caledonia', 'Virgin Islands'), ('New Caledonia', 'British'), ('New Caledonia', 'Wallis and Futuna Islands'), ('Pitcairn', 'Saint Helena'), ('Pitcairn', 'Saint Pierre and Miquelon'), ('Pitcairn', 'South Georgia and the South Sandwich Islands'), ('Pitcairn', 'Turks and Caicos Islands'), ('Pitcairn', 'Virgin Islands'), ('Pitcairn', 'British'), ('Pitcairn', 'Wallis and Futuna Islands'), ('Saint Helena', 'Saint Pierre and Miquelon'), ('Saint Helena', 'South Georgia and the South Sandwich Islands'), ('Saint Helena', 'Turks and Caicos Islands'), ('Saint Helena', 'Virgin Islands'), ('Saint Helena', 'British'), ('Saint Helena', 'Wallis and Futuna Islands'), ('Saint Pierre and Miquelon', 'South Georgia and the South Sandwich Islands'), ('Saint Pierre and Miquelon', 'Turks and Caicos Islands'), ('Saint Pierre and Miquelon', 'Virgin Islands'), ('Saint Pierre and Miquelon', 'British'), ('Saint Pierre and Miquelon', 'Wallis and Futuna Islands'), ('South Georgia and the South Sandwich Islands', 'Turks and Caicos Islands'), ('South Georgia and the South Sandwich Islands', 'Virgin Islands'), ('South Georgia and the South Sandwich Islands', 'British'), ('South Georgia and the South Sandwich Islands', 'Wallis and Futuna Islands'), ('Turks and Caicos Islands', 'Virgin Islands'), ('Turks and Caicos Islands', 'British'), ('Turks and Caicos Islands', 'Wallis and Futuna Islands'), ('Virgin Islands', 'British'), ('Virgin Islands', 'Wallis and Futuna Islands'), ('British', 'Wallis and Futuna Islands'), ('Palestine', 'Iraq'), ('Palestine', 'Kuwait'), ('Palestine', 'Oman'), ('Palestine', 'Qatar'), ('Palestine', 'Saudi Arabia'), ('Palestine', 'Syria'), ('Palestine', 'United Arab Emirates'), ('Palestine', 'Yemen'), ('Syria', 'Iraq'), ('Syria', 'Kuwait'), ('Syria', 'Oman'), ('Syria', 'Qatar'), ('Syria', 'Saudi Arabia'), ('Syria', 'United Arab Emirates'), ('Syria', 'Yemen'), ('Kuwait', 'Oman'), ('Kuwait', 'Qatar'), ('Kuwait', 'Saudi Arabia'), ('Kuwait', 'United Arab Emirates'), ('Kuwait', 'Iraq'), ('Kuwait', 'Yemen'), ('Oman', 'Qatar'), ('Oman', 'Saudi Arabia'), ('Oman', 'United Arab Emirates'), ('Oman', 'Iraq'), ('Oman', 'Yemen'), ('Qatar', 'Saudi Arabia'), ('Qatar', 'United Arab Emirates'), ('Qatar', 'Iraq'), ('Qatar', 'Yemen'), ('Saudi Arabia', 'United Arab Emirates'), ('Saudi Arabia', 'Iraq'), ('Saudi Arabia', 'Yemen'), ('United Arab Emirates', 'Iraq'), ('United Arab Emirates', 'Yemen'), ('Argentina', 'Iraq'), ('Argentina', 'Paraguay'), ('Argentina', 'Uruguay'), ('Iraq', 'Yemen'), ('Paraguay', 'Uruguay'), ('Uruguay', 'Yugoslavia'), ('Solomon Islands', 'Vanuatu '), ('Solomon Islands', 'Cook Islands'), ('Solomon Islands', 'Fiji'), ('Solomon Islands', 'Kiribati'), ('Solomon Islands', 'Marshall Islands'), ('Solomon Islands', 'Micronesia'), ('Solomon Islands', 'Nauru'), ('Solomon Islands', 'Niue'), ('Solomon Islands', 'Palau'), ('Solomon Islands', 'Samoa'), ('Solomon Islands', 'Tonga'), ('Solomon Islands', 'Tuvalu'), ('Solomon Islands', 'Vanuatu'), ('Solomon Islands', 'Western Samoa'), ('Cook Islands', 'Fiji'), ('Cook Islands', 'Kiribati'), ('Cook Islands', 'Marshall Islands'), ('Cook Islands', 'Micronesia'), ('Cook Islands', 'Nauru'), ('Cook Islands', 'Niue'), ('Cook Islands', 'Palau'), ('Cook Islands', 'Samoa'), ('Cook Islands', 'Tonga'), ('Cook Islands', 'Tuvalu'), ('Cook Islands', 'Vanuatu'), ('Cook Islands', 'Western Samoa'), ('Fiji', 'Kiribati'), ('Fiji', 'Marshall Islands'), ('Fiji', 'Micronesia'), ('Fiji', 'Nauru'), ('Fiji', 'Niue'), ('Fiji', 'Palau'), ('Fiji', 'Samoa'), ('Fiji', 'Tonga'), ('Fiji', 'Tuvalu'), ('Fiji', 'Vanuatu'), ('Fiji', 'Western Samoa'), ('Kiribati', 'Marshall Islands'), ('Kiribati', 'Micronesia'), ('Kiribati', 'Nauru'), ('Kiribati', 'Niue'), ('Kiribati', 'Palau'), ('Kiribati', 'Samoa'), ('Kiribati', 'Tonga'), ('Kiribati', 'Tuvalu'), ('Kiribati', 'Vanuatu'), ('Kiribati', 'Western Samoa'), ('Marshall Islands', 'Micronesia'), ('Marshall Islands', 'Nauru'), ('Marshall Islands', 'Niue'), ('Marshall Islands', 'Palau'), ('Marshall Islands', 'Samoa'), ('Marshall Islands', 'Tonga'), ('Marshall Islands', 'Tuvalu'), ('Marshall Islands', 'Vanuatu'), ('Micronesia', 'Nauru'), ('Micronesia', 'Niue'), ('Micronesia', 'Palau'), ('Micronesia', 'Samoa'), ('Micronesia', 'Tonga'), ('Micronesia', 'Tuvalu'), ('Micronesia', 'Vanuatu'), ('Nauru', 'Niue'), ('Nauru', 'Palau'), ('Nauru', 'Samoa'), ('Nauru', 'Tonga'), ('Nauru', 'Tuvalu'), ('Nauru', 'Vanuatu'), ('Nauru', 'Western Samoa'), ('Niue', 'Palau'), ('Niue', 'Samoa'), ('Niue', 'Tonga'), ('Niue', 'Tuvalu'), ('Niue', 'Vanuatu'), ('Niue', 'Western Samoa'), ('Palau', 'Samoa'), ('Palau', 'Tonga'), ('Palau', 'Tuvalu'), ('Palau', 'Vanuatu'), ('Samoa', 'Tonga'), ('Samoa', 'Tuvalu'), ('Samoa', 'Vanuatu'), ('Tonga', 'Tuvalu'), ('Tonga', 'Vanuatu'), ('Tonga', 'Western Samoa'), ('Tuvalu', 'Vanuatu'), ('Tuvalu', 'Western Samoa')])"
      ]
     },
     "execution_count": 919,
     "metadata": {},
     "output_type": "execute_result"
    }
   ],
   "source": [
    "trade_G.edges()"
   ]
  },
  {
   "cell_type": "code",
   "execution_count": 930,
   "metadata": {},
   "outputs": [
    {
     "data": {
      "image/png": "[encoded data removed]",
      "text/plain": [
       "<Figure size 640x480 with 1 Axes>"
      ]
     },
     "metadata": {},
     "output_type": "display_data"
    }
   ],
   "source": [
    "nx.draw_circular(trade_G)"
   ]
  },
  {
   "cell_type": "code",
   "execution_count": 925,
   "metadata": {},
   "outputs": [
    {
     "data": {
      "text/plain": [
       "<generator object selfloop_edges.<locals>.<genexpr> at 0x1636042e0>"
      ]
     },
     "execution_count": 925,
     "metadata": {},
     "output_type": "execute_result"
    }
   ],
   "source": [
    "\n",
    "nx.selfloop_edges(trade_G)"
   ]
  },
  {
   "cell_type": "code",
   "execution_count": 927,
   "metadata": {},
   "outputs": [
    {
     "data": {
      "text/plain": [
       "2"
      ]
     },
     "execution_count": 927,
     "metadata": {},
     "output_type": "execute_result"
    }
   ],
   "source": [
    "nx.number_of_selfloops(trade_G)"
   ]
  },
  {
   "cell_type": "code",
   "execution_count": 928,
   "metadata": {},
   "outputs": [
    {
     "data": {
      "text/plain": [
       "[('Croatia', 'Croatia'), ('United Kingdom', 'United Kingdom')]"
      ]
     },
     "execution_count": 928,
     "metadata": {},
     "output_type": "execute_result"
    }
   ],
   "source": [
    "[e for e in nx.selfloop_edges(trade_G)]"
   ]
  },
  {
   "cell_type": "code",
   "execution_count": 929,
   "metadata": {},
   "outputs": [],
   "source": [
    "trade_G.remove_edges_from(nx.selfloop_edges(trade_G))"
   ]
  },
  {
   "cell_type": "code",
   "execution_count": 931,
   "metadata": {},
   "outputs": [],
   "source": [
    "nx.write_graphml(trade_G, \"trade_G.graphml\",encoding='utf-8')"
   ]
  },
  {
   "cell_type": "code",
   "execution_count": null,
   "metadata": {},
   "outputs": [],
   "source": []
  }
 ],
 "metadata": {
  "hide_input": false,
  "kernelspec": {
   "display_name": "Python 3 (ipykernel)",
   "language": "python",
   "name": "python3"
  },
  "language_info": {
   "codemirror_mode": {
    "name": "ipython",
    "version": 3
   },
   "file_extension": ".py",
   "mimetype": "text/x-python",
   "name": "python",
   "nbconvert_exporter": "python",
   "pygments_lexer": "ipython3",
   "version": "3.11.5"
  }
 },
 "nbformat": 4,
 "nbformat_minor": 4
}
